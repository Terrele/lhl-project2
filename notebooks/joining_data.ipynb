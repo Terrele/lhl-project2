{
 "cells": [
  {
   "cell_type": "markdown",
   "metadata": {},
   "source": [
    "Join the data from Part 1 with the data from Part 2 to create a new dataframe."
   ]
  },
  {
   "cell_type": "code",
   "execution_count": 1,
   "metadata": {},
   "outputs": [],
   "source": [
    "import requests\n",
    "from IPython.display import JSON"
   ]
  },
  {
   "cell_type": "code",
   "execution_count": 2,
   "metadata": {},
   "outputs": [],
   "source": [
    "import pandas as pd\n",
    "import matplotlib.pyplot as plt\n",
    "import numpy as np\n",
    "import sqlite3\n",
    "from sqlite3 import Error"
   ]
  },
  {
   "cell_type": "markdown",
   "metadata": {},
   "source": [
    "### I have joined the data and converted it into a csv in Part 2. Loading the data from csv."
   ]
  },
  {
   "cell_type": "code",
   "execution_count": 3,
   "metadata": {},
   "outputs": [
    {
     "data": {
      "text/html": [
       "<div>\n",
       "<style scoped>\n",
       "    .dataframe tbody tr th:only-of-type {\n",
       "        vertical-align: middle;\n",
       "    }\n",
       "\n",
       "    .dataframe tbody tr th {\n",
       "        vertical-align: top;\n",
       "    }\n",
       "\n",
       "    .dataframe thead th {\n",
       "        text-align: right;\n",
       "    }\n",
       "</style>\n",
       "<table border=\"1\" class=\"dataframe\">\n",
       "  <thead>\n",
       "    <tr style=\"text-align: right;\">\n",
       "      <th></th>\n",
       "      <th>Unnamed: 0</th>\n",
       "      <th>name</th>\n",
       "      <th>popularity</th>\n",
       "      <th>price</th>\n",
       "      <th>rating</th>\n",
       "      <th>categories_name</th>\n",
       "      <th>latitude</th>\n",
       "      <th>longitude</th>\n",
       "      <th>distance</th>\n",
       "      <th>credit_card</th>\n",
       "      <th>beer</th>\n",
       "      <th>outdoor_seating</th>\n",
       "    </tr>\n",
       "  </thead>\n",
       "  <tbody>\n",
       "    <tr>\n",
       "      <th>0</th>\n",
       "      <td>0</td>\n",
       "      <td>Rorschach Brewing</td>\n",
       "      <td>0.982673</td>\n",
       "      <td>2.0</td>\n",
       "      <td>8.5</td>\n",
       "      <td>Brewery</td>\n",
       "      <td>43.663542</td>\n",
       "      <td>-79.319882</td>\n",
       "      <td>194</td>\n",
       "      <td>True</td>\n",
       "      <td>True</td>\n",
       "      <td>True</td>\n",
       "    </tr>\n",
       "    <tr>\n",
       "      <th>1</th>\n",
       "      <td>1</td>\n",
       "      <td>The Sidekick</td>\n",
       "      <td>0.928866</td>\n",
       "      <td>NaN</td>\n",
       "      <td>8.8</td>\n",
       "      <td>Coffee Shop</td>\n",
       "      <td>43.664580</td>\n",
       "      <td>-79.324956</td>\n",
       "      <td>440</td>\n",
       "      <td>NaN</td>\n",
       "      <td>NaN</td>\n",
       "      <td>NaN</td>\n",
       "    </tr>\n",
       "    <tr>\n",
       "      <th>2</th>\n",
       "      <td>2</td>\n",
       "      <td>O Sushi</td>\n",
       "      <td>0.933508</td>\n",
       "      <td>2.0</td>\n",
       "      <td>7.9</td>\n",
       "      <td>Pizzeria</td>\n",
       "      <td>43.666623</td>\n",
       "      <td>-79.316861</td>\n",
       "      <td>300</td>\n",
       "      <td>NaN</td>\n",
       "      <td>NaN</td>\n",
       "      <td>NaN</td>\n",
       "    </tr>\n",
       "    <tr>\n",
       "      <th>3</th>\n",
       "      <td>3</td>\n",
       "      <td>Hasting Snack Bar</td>\n",
       "      <td>0.924879</td>\n",
       "      <td>1.0</td>\n",
       "      <td>9.0</td>\n",
       "      <td>Lounge</td>\n",
       "      <td>43.663791</td>\n",
       "      <td>-79.328899</td>\n",
       "      <td>759</td>\n",
       "      <td>True</td>\n",
       "      <td>NaN</td>\n",
       "      <td>NaN</td>\n",
       "    </tr>\n",
       "    <tr>\n",
       "      <th>4</th>\n",
       "      <td>4</td>\n",
       "      <td>Chino Locos</td>\n",
       "      <td>0.924573</td>\n",
       "      <td>1.0</td>\n",
       "      <td>8.2</td>\n",
       "      <td>Chinese Restaurant</td>\n",
       "      <td>43.664540</td>\n",
       "      <td>-79.325510</td>\n",
       "      <td>470</td>\n",
       "      <td>True</td>\n",
       "      <td>NaN</td>\n",
       "      <td>False</td>\n",
       "    </tr>\n",
       "    <tr>\n",
       "      <th>...</th>\n",
       "      <td>...</td>\n",
       "      <td>...</td>\n",
       "      <td>...</td>\n",
       "      <td>...</td>\n",
       "      <td>...</td>\n",
       "      <td>...</td>\n",
       "      <td>...</td>\n",
       "      <td>...</td>\n",
       "      <td>...</td>\n",
       "      <td>...</td>\n",
       "      <td>...</td>\n",
       "      <td>...</td>\n",
       "    </tr>\n",
       "    <tr>\n",
       "      <th>4516</th>\n",
       "      <td>15</td>\n",
       "      <td>Martino Pizza Inc</td>\n",
       "      <td>0.845720</td>\n",
       "      <td>1.0</td>\n",
       "      <td>6.3</td>\n",
       "      <td>Pizzeria</td>\n",
       "      <td>43.675732</td>\n",
       "      <td>-79.403612</td>\n",
       "      <td>905</td>\n",
       "      <td>True</td>\n",
       "      <td>NaN</td>\n",
       "      <td>False</td>\n",
       "    </tr>\n",
       "    <tr>\n",
       "      <th>4517</th>\n",
       "      <td>16</td>\n",
       "      <td>The Backyard Smokehouse</td>\n",
       "      <td>0.911745</td>\n",
       "      <td>2.0</td>\n",
       "      <td>NaN</td>\n",
       "      <td>BBQ Joint</td>\n",
       "      <td>43.675044</td>\n",
       "      <td>-79.406737</td>\n",
       "      <td>647</td>\n",
       "      <td>NaN</td>\n",
       "      <td>NaN</td>\n",
       "      <td>NaN</td>\n",
       "    </tr>\n",
       "    <tr>\n",
       "      <th>4518</th>\n",
       "      <td>17</td>\n",
       "      <td>The Grand Elvis</td>\n",
       "      <td>0.813838</td>\n",
       "      <td>2.0</td>\n",
       "      <td>NaN</td>\n",
       "      <td>American Restaurant</td>\n",
       "      <td>43.675723</td>\n",
       "      <td>-79.403658</td>\n",
       "      <td>902</td>\n",
       "      <td>NaN</td>\n",
       "      <td>NaN</td>\n",
       "      <td>NaN</td>\n",
       "    </tr>\n",
       "    <tr>\n",
       "      <th>4519</th>\n",
       "      <td>18</td>\n",
       "      <td>A&amp;W Restaurant</td>\n",
       "      <td>0.947141</td>\n",
       "      <td>1.0</td>\n",
       "      <td>NaN</td>\n",
       "      <td>American Restaurant</td>\n",
       "      <td>43.683021</td>\n",
       "      <td>-79.417976</td>\n",
       "      <td>988</td>\n",
       "      <td>NaN</td>\n",
       "      <td>NaN</td>\n",
       "      <td>NaN</td>\n",
       "    </tr>\n",
       "    <tr>\n",
       "      <th>4520</th>\n",
       "      <td>19</td>\n",
       "      <td>Sheena's Place</td>\n",
       "      <td>NaN</td>\n",
       "      <td>NaN</td>\n",
       "      <td>NaN</td>\n",
       "      <td>Restaurant</td>\n",
       "      <td>43.670236</td>\n",
       "      <td>-79.405073</td>\n",
       "      <td>905</td>\n",
       "      <td>NaN</td>\n",
       "      <td>NaN</td>\n",
       "      <td>NaN</td>\n",
       "    </tr>\n",
       "  </tbody>\n",
       "</table>\n",
       "<p>4521 rows × 12 columns</p>\n",
       "</div>"
      ],
      "text/plain": [
       "      Unnamed: 0                     name  popularity  price  rating  \\\n",
       "0              0        Rorschach Brewing    0.982673    2.0     8.5   \n",
       "1              1             The Sidekick    0.928866    NaN     8.8   \n",
       "2              2                  O Sushi    0.933508    2.0     7.9   \n",
       "3              3        Hasting Snack Bar    0.924879    1.0     9.0   \n",
       "4              4              Chino Locos    0.924573    1.0     8.2   \n",
       "...          ...                      ...         ...    ...     ...   \n",
       "4516          15        Martino Pizza Inc    0.845720    1.0     6.3   \n",
       "4517          16  The Backyard Smokehouse    0.911745    2.0     NaN   \n",
       "4518          17          The Grand Elvis    0.813838    2.0     NaN   \n",
       "4519          18           A&W Restaurant    0.947141    1.0     NaN   \n",
       "4520          19           Sheena's Place         NaN    NaN     NaN   \n",
       "\n",
       "          categories_name   latitude  longitude  distance credit_card  beer  \\\n",
       "0                 Brewery  43.663542 -79.319882       194        True  True   \n",
       "1             Coffee Shop  43.664580 -79.324956       440         NaN   NaN   \n",
       "2                Pizzeria  43.666623 -79.316861       300         NaN   NaN   \n",
       "3                  Lounge  43.663791 -79.328899       759        True   NaN   \n",
       "4      Chinese Restaurant  43.664540 -79.325510       470        True   NaN   \n",
       "...                   ...        ...        ...       ...         ...   ...   \n",
       "4516             Pizzeria  43.675732 -79.403612       905        True   NaN   \n",
       "4517            BBQ Joint  43.675044 -79.406737       647         NaN   NaN   \n",
       "4518  American Restaurant  43.675723 -79.403658       902         NaN   NaN   \n",
       "4519  American Restaurant  43.683021 -79.417976       988         NaN   NaN   \n",
       "4520           Restaurant  43.670236 -79.405073       905         NaN   NaN   \n",
       "\n",
       "     outdoor_seating  \n",
       "0               True  \n",
       "1                NaN  \n",
       "2                NaN  \n",
       "3                NaN  \n",
       "4              False  \n",
       "...              ...  \n",
       "4516           False  \n",
       "4517             NaN  \n",
       "4518             NaN  \n",
       "4519             NaN  \n",
       "4520             NaN  \n",
       "\n",
       "[4521 rows x 12 columns]"
      ]
     },
     "execution_count": 3,
     "metadata": {},
     "output_type": "execute_result"
    }
   ],
   "source": [
    "df_fs = pd.read_csv(\"fsrestaurant_info.csv\")\n",
    "df_fs"
   ]
  },
  {
   "cell_type": "markdown",
   "metadata": {},
   "source": [
    "Provide a visualization that you used as part of your EDA process. Explain the initial pattern or relationship you discoved through this visualization. "
   ]
  },
  {
   "cell_type": "code",
   "execution_count": 4,
   "metadata": {},
   "outputs": [
    {
     "data": {
      "text/html": [
       "<div>\n",
       "<style scoped>\n",
       "    .dataframe tbody tr th:only-of-type {\n",
       "        vertical-align: middle;\n",
       "    }\n",
       "\n",
       "    .dataframe tbody tr th {\n",
       "        vertical-align: top;\n",
       "    }\n",
       "\n",
       "    .dataframe thead th {\n",
       "        text-align: right;\n",
       "    }\n",
       "</style>\n",
       "<table border=\"1\" class=\"dataframe\">\n",
       "  <thead>\n",
       "    <tr style=\"text-align: right;\">\n",
       "      <th></th>\n",
       "      <th>Unnamed: 0</th>\n",
       "      <th>popularity</th>\n",
       "      <th>price</th>\n",
       "      <th>rating</th>\n",
       "      <th>latitude</th>\n",
       "      <th>longitude</th>\n",
       "      <th>distance</th>\n",
       "    </tr>\n",
       "  </thead>\n",
       "  <tbody>\n",
       "    <tr>\n",
       "      <th>count</th>\n",
       "      <td>4521.000000</td>\n",
       "      <td>4269.000000</td>\n",
       "      <td>3973.000000</td>\n",
       "      <td>3580.000000</td>\n",
       "      <td>4521.000000</td>\n",
       "      <td>4521.000000</td>\n",
       "      <td>4.521000e+03</td>\n",
       "    </tr>\n",
       "    <tr>\n",
       "      <th>mean</th>\n",
       "      <td>23.107941</td>\n",
       "      <td>0.926204</td>\n",
       "      <td>1.742009</td>\n",
       "      <td>7.723184</td>\n",
       "      <td>43.660088</td>\n",
       "      <td>-79.392228</td>\n",
       "      <td>1.263367e+03</td>\n",
       "    </tr>\n",
       "    <tr>\n",
       "      <th>std</th>\n",
       "      <td>14.098259</td>\n",
       "      <td>0.106406</td>\n",
       "      <td>0.727907</td>\n",
       "      <td>0.895791</td>\n",
       "      <td>0.014370</td>\n",
       "      <td>0.038557</td>\n",
       "      <td>4.179730e+04</td>\n",
       "    </tr>\n",
       "    <tr>\n",
       "      <th>min</th>\n",
       "      <td>0.000000</td>\n",
       "      <td>0.000262</td>\n",
       "      <td>1.000000</td>\n",
       "      <td>4.600000</td>\n",
       "      <td>43.629265</td>\n",
       "      <td>-79.476965</td>\n",
       "      <td>1.000000e+01</td>\n",
       "    </tr>\n",
       "    <tr>\n",
       "      <th>25%</th>\n",
       "      <td>11.000000</td>\n",
       "      <td>0.923256</td>\n",
       "      <td>1.000000</td>\n",
       "      <td>7.200000</td>\n",
       "      <td>43.648776</td>\n",
       "      <td>-79.417388</td>\n",
       "      <td>4.500000e+02</td>\n",
       "    </tr>\n",
       "    <tr>\n",
       "      <th>50%</th>\n",
       "      <td>23.000000</td>\n",
       "      <td>0.947920</td>\n",
       "      <td>2.000000</td>\n",
       "      <td>7.900000</td>\n",
       "      <td>43.658604</td>\n",
       "      <td>-79.393332</td>\n",
       "      <td>6.740000e+02</td>\n",
       "    </tr>\n",
       "    <tr>\n",
       "      <th>75%</th>\n",
       "      <td>35.000000</td>\n",
       "      <td>0.968785</td>\n",
       "      <td>2.000000</td>\n",
       "      <td>8.400000</td>\n",
       "      <td>43.669353</td>\n",
       "      <td>-79.379508</td>\n",
       "      <td>8.570000e+02</td>\n",
       "    </tr>\n",
       "    <tr>\n",
       "      <th>max</th>\n",
       "      <td>49.000000</td>\n",
       "      <td>0.999900</td>\n",
       "      <td>4.000000</td>\n",
       "      <td>9.400000</td>\n",
       "      <td>43.716985</td>\n",
       "      <td>-79.279413</td>\n",
       "      <td>2.810971e+06</td>\n",
       "    </tr>\n",
       "  </tbody>\n",
       "</table>\n",
       "</div>"
      ],
      "text/plain": [
       "        Unnamed: 0   popularity        price       rating     latitude  \\\n",
       "count  4521.000000  4269.000000  3973.000000  3580.000000  4521.000000   \n",
       "mean     23.107941     0.926204     1.742009     7.723184    43.660088   \n",
       "std      14.098259     0.106406     0.727907     0.895791     0.014370   \n",
       "min       0.000000     0.000262     1.000000     4.600000    43.629265   \n",
       "25%      11.000000     0.923256     1.000000     7.200000    43.648776   \n",
       "50%      23.000000     0.947920     2.000000     7.900000    43.658604   \n",
       "75%      35.000000     0.968785     2.000000     8.400000    43.669353   \n",
       "max      49.000000     0.999900     4.000000     9.400000    43.716985   \n",
       "\n",
       "         longitude      distance  \n",
       "count  4521.000000  4.521000e+03  \n",
       "mean    -79.392228  1.263367e+03  \n",
       "std       0.038557  4.179730e+04  \n",
       "min     -79.476965  1.000000e+01  \n",
       "25%     -79.417388  4.500000e+02  \n",
       "50%     -79.393332  6.740000e+02  \n",
       "75%     -79.379508  8.570000e+02  \n",
       "max     -79.279413  2.810971e+06  "
      ]
     },
     "execution_count": 4,
     "metadata": {},
     "output_type": "execute_result"
    }
   ],
   "source": [
    "# using this function, we can find out to see if we have any values that doesn't make any sense.\n",
    "df_fs.describe()"
   ]
  },
  {
   "cell_type": "code",
   "execution_count": 5,
   "metadata": {},
   "outputs": [
    {
     "data": {
      "text/plain": [
       "Unnamed: 0            0\n",
       "name                  0\n",
       "popularity          252\n",
       "price               548\n",
       "rating              941\n",
       "categories_name       0\n",
       "latitude              0\n",
       "longitude             0\n",
       "distance              0\n",
       "credit_card        1743\n",
       "beer               3399\n",
       "outdoor_seating    1749\n",
       "dtype: int64"
      ]
     },
     "execution_count": 5,
     "metadata": {},
     "output_type": "execute_result"
    }
   ],
   "source": [
    "df_fs.isnull().sum()"
   ]
  },
  {
   "cell_type": "code",
   "execution_count": 6,
   "metadata": {},
   "outputs": [],
   "source": [
    "# dropping the id's\n",
    "df_fs.drop(['Unnamed: 0'], axis=1, inplace = True)\n"
   ]
  },
  {
   "cell_type": "code",
   "execution_count": 7,
   "metadata": {},
   "outputs": [],
   "source": [
    "# Dropping duplicates\n",
    "df_fs.drop_duplicates(subset=['name', 'latitude', 'longitude'], keep='first', inplace = True)"
   ]
  },
  {
   "cell_type": "code",
   "execution_count": 8,
   "metadata": {},
   "outputs": [
    {
     "data": {
      "text/html": [
       "<div>\n",
       "<style scoped>\n",
       "    .dataframe tbody tr th:only-of-type {\n",
       "        vertical-align: middle;\n",
       "    }\n",
       "\n",
       "    .dataframe tbody tr th {\n",
       "        vertical-align: top;\n",
       "    }\n",
       "\n",
       "    .dataframe thead th {\n",
       "        text-align: right;\n",
       "    }\n",
       "</style>\n",
       "<table border=\"1\" class=\"dataframe\">\n",
       "  <thead>\n",
       "    <tr style=\"text-align: right;\">\n",
       "      <th></th>\n",
       "      <th>popularity</th>\n",
       "      <th>price</th>\n",
       "      <th>rating</th>\n",
       "      <th>latitude</th>\n",
       "      <th>longitude</th>\n",
       "      <th>distance</th>\n",
       "    </tr>\n",
       "  </thead>\n",
       "  <tbody>\n",
       "    <tr>\n",
       "      <th>count</th>\n",
       "      <td>1346.000000</td>\n",
       "      <td>1252.000000</td>\n",
       "      <td>1000.000000</td>\n",
       "      <td>1520.000000</td>\n",
       "      <td>1520.000000</td>\n",
       "      <td>1.520000e+03</td>\n",
       "    </tr>\n",
       "    <tr>\n",
       "      <th>mean</th>\n",
       "      <td>0.900788</td>\n",
       "      <td>1.692492</td>\n",
       "      <td>7.496700</td>\n",
       "      <td>43.663671</td>\n",
       "      <td>-79.390181</td>\n",
       "      <td>2.517101e+03</td>\n",
       "    </tr>\n",
       "    <tr>\n",
       "      <th>std</th>\n",
       "      <td>0.140015</td>\n",
       "      <td>0.714478</td>\n",
       "      <td>0.991424</td>\n",
       "      <td>0.017597</td>\n",
       "      <td>0.044766</td>\n",
       "      <td>7.208321e+04</td>\n",
       "    </tr>\n",
       "    <tr>\n",
       "      <th>min</th>\n",
       "      <td>0.000262</td>\n",
       "      <td>1.000000</td>\n",
       "      <td>4.600000</td>\n",
       "      <td>43.629265</td>\n",
       "      <td>-79.476965</td>\n",
       "      <td>2.300000e+01</td>\n",
       "    </tr>\n",
       "    <tr>\n",
       "      <th>25%</th>\n",
       "      <td>0.898890</td>\n",
       "      <td>1.000000</td>\n",
       "      <td>6.775000</td>\n",
       "      <td>43.649627</td>\n",
       "      <td>-79.421799</td>\n",
       "      <td>4.900000e+02</td>\n",
       "    </tr>\n",
       "    <tr>\n",
       "      <th>50%</th>\n",
       "      <td>0.937947</td>\n",
       "      <td>2.000000</td>\n",
       "      <td>7.700000</td>\n",
       "      <td>43.662954</td>\n",
       "      <td>-79.396233</td>\n",
       "      <td>7.130000e+02</td>\n",
       "    </tr>\n",
       "    <tr>\n",
       "      <th>75%</th>\n",
       "      <td>0.959861</td>\n",
       "      <td>2.000000</td>\n",
       "      <td>8.300000</td>\n",
       "      <td>43.674436</td>\n",
       "      <td>-79.362602</td>\n",
       "      <td>8.650000e+02</td>\n",
       "    </tr>\n",
       "    <tr>\n",
       "      <th>max</th>\n",
       "      <td>0.999900</td>\n",
       "      <td>4.000000</td>\n",
       "      <td>9.400000</td>\n",
       "      <td>43.716985</td>\n",
       "      <td>-79.279413</td>\n",
       "      <td>2.810971e+06</td>\n",
       "    </tr>\n",
       "  </tbody>\n",
       "</table>\n",
       "</div>"
      ],
      "text/plain": [
       "        popularity        price       rating     latitude    longitude  \\\n",
       "count  1346.000000  1252.000000  1000.000000  1520.000000  1520.000000   \n",
       "mean      0.900788     1.692492     7.496700    43.663671   -79.390181   \n",
       "std       0.140015     0.714478     0.991424     0.017597     0.044766   \n",
       "min       0.000262     1.000000     4.600000    43.629265   -79.476965   \n",
       "25%       0.898890     1.000000     6.775000    43.649627   -79.421799   \n",
       "50%       0.937947     2.000000     7.700000    43.662954   -79.396233   \n",
       "75%       0.959861     2.000000     8.300000    43.674436   -79.362602   \n",
       "max       0.999900     4.000000     9.400000    43.716985   -79.279413   \n",
       "\n",
       "           distance  \n",
       "count  1.520000e+03  \n",
       "mean   2.517101e+03  \n",
       "std    7.208321e+04  \n",
       "min    2.300000e+01  \n",
       "25%    4.900000e+02  \n",
       "50%    7.130000e+02  \n",
       "75%    8.650000e+02  \n",
       "max    2.810971e+06  "
      ]
     },
     "execution_count": 8,
     "metadata": {},
     "output_type": "execute_result"
    }
   ],
   "source": [
    "df_fs.describe()"
   ]
  },
  {
   "cell_type": "markdown",
   "metadata": {},
   "source": [
    "There were 3181 duplicates removed."
   ]
  },
  {
   "cell_type": "code",
   "execution_count": 9,
   "metadata": {},
   "outputs": [
    {
     "data": {
      "text/plain": [
       "<AxesSubplot:xlabel='popularity', ylabel='distance'>"
      ]
     },
     "execution_count": 9,
     "metadata": {},
     "output_type": "execute_result"
    },
    {
     "data": {
      "image/png": "[encoded data removed]",
      "text/plain": [
       "<Figure size 432x288 with 1 Axes>"
      ]
     },
     "metadata": {
      "needs_background": "light"
     },
     "output_type": "display_data"
    }
   ],
   "source": [
    "df_fs.plot(x='popularity', y='distance', kind='scatter')\n",
    "# We have an outlier in this graph"
   ]
  },
  {
   "cell_type": "code",
   "execution_count": 10,
   "metadata": {},
   "outputs": [
    {
     "name": "stdout",
     "output_type": "stream",
     "text": [
      "                        name  popularity  price  rating  \\\n",
      "1408  Good Earth Coffeehouse    0.971751    1.0     8.1   \n",
      "2913         Black Oaks Cafe    0.800061    1.0     NaN   \n",
      "2978    Glory Hole Doughnuts    0.906972    1.0     8.3   \n",
      "4231     Mother Cocktail Bar    0.870316    3.0     7.3   \n",
      "\n",
      "             categories_name   latitude  longitude  distance credit_card beer  \\\n",
      "1408  Arts and Entertainment  43.700042 -79.399820   2810971         NaN  NaN   \n",
      "2913                   Diner  43.645126 -79.456083      1928         NaN  NaN   \n",
      "2978                  Bakery  43.639808 -79.441300      4341        True  NaN   \n",
      "4231            Cocktail Bar  43.645243 -79.414499      1236         NaN  NaN   \n",
      "\n",
      "     outdoor_seating  \n",
      "1408             NaN  \n",
      "2913             NaN  \n",
      "2978           False  \n",
      "4231             NaN  \n"
     ]
    }
   ],
   "source": [
    "upper = df_fs['distance'] >= 1200\n",
    "print(df_fs[upper])"
   ]
  },
  {
   "cell_type": "code",
   "execution_count": 11,
   "metadata": {},
   "outputs": [
    {
     "data": {
      "text/plain": [
       "<AxesSubplot:xlabel='distance', ylabel='popularity'>"
      ]
     },
     "execution_count": 11,
     "metadata": {},
     "output_type": "execute_result"
    },
    {
     "data": {
      "image/png": "[encoded data removed]",
      "text/plain": [
       "<Figure size 432x288 with 1 Axes>"
      ]
     },
     "metadata": {
      "needs_background": "light"
     },
     "output_type": "display_data"
    }
   ],
   "source": [
    "df_fs.drop(index=[1408,2913,2978,4231], inplace = True)\n",
    "df_fs.plot(x='distance', y='popularity', kind='scatter')"
   ]
  },
  {
   "cell_type": "code",
   "execution_count": 12,
   "metadata": {},
   "outputs": [
    {
     "data": {
      "text/plain": [
       "<AxesSubplot:xlabel='rating', ylabel='popularity'>"
      ]
     },
     "execution_count": 12,
     "metadata": {},
     "output_type": "execute_result"
    },
    {
     "data": {
      "image/png": "[encoded data removed]",
      "text/plain": [
       "<Figure size 432x288 with 1 Axes>"
      ]
     },
     "metadata": {
      "needs_background": "light"
     },
     "output_type": "display_data"
    }
   ],
   "source": [
    "df_fs.plot(x='rating', y='popularity', kind='scatter')"
   ]
  },
  {
   "cell_type": "code",
   "execution_count": 13,
   "metadata": {},
   "outputs": [
    {
     "data": {
      "text/plain": [
       "(array([  8.,  22.,  62., 118.,  86., 128., 198., 195., 135.,  45.]),\n",
       " array([4.6 , 5.08, 5.56, 6.04, 6.52, 7.  , 7.48, 7.96, 8.44, 8.92, 9.4 ]),\n",
       " <BarContainer object of 10 artists>)"
      ]
     },
     "execution_count": 13,
     "metadata": {},
     "output_type": "execute_result"
    },
    {
     "data": {
      "image/png": "[encoded data removed]",
      "text/plain": [
       "<Figure size 432x288 with 1 Axes>"
      ]
     },
     "metadata": {
      "needs_background": "light"
     },
     "output_type": "display_data"
    }
   ],
   "source": [
    "plt.hist(df_fs['rating'],bins=10)"
   ]
  },
  {
   "cell_type": "code",
   "execution_count": 14,
   "metadata": {},
   "outputs": [
    {
     "data": {
      "text/plain": [
       "(array([542.,   0.,   0., 573.,   0.,   0., 107.,   0.,   0.,  26.]),\n",
       " array([1. , 1.3, 1.6, 1.9, 2.2, 2.5, 2.8, 3.1, 3.4, 3.7, 4. ]),\n",
       " <BarContainer object of 10 artists>)"
      ]
     },
     "execution_count": 14,
     "metadata": {},
     "output_type": "execute_result"
    },
    {
     "data": {
      "image/png": "[encoded data removed]",
      "text/plain": [
       "<Figure size 432x288 with 1 Axes>"
      ]
     },
     "metadata": {
      "needs_background": "light"
     },
     "output_type": "display_data"
    }
   ],
   "source": [
    "plt.hist(df_fs['price'],bins=10)"
   ]
  },
  {
   "cell_type": "code",
   "execution_count": 15,
   "metadata": {},
   "outputs": [
    {
     "data": {
      "text/plain": [
       "<AxesSubplot:xlabel='latitude', ylabel='longitude'>"
      ]
     },
     "execution_count": 15,
     "metadata": {},
     "output_type": "execute_result"
    },
    {
     "data": {
      "image/png": "[encoded data removed]",
      "text/plain": [
       "<Figure size 432x288 with 1 Axes>"
      ]
     },
     "metadata": {
      "needs_background": "light"
     },
     "output_type": "display_data"
    }
   ],
   "source": [
    "df_fs.plot(x='latitude', y='longitude', kind='scatter')"
   ]
  },
  {
   "cell_type": "markdown",
   "metadata": {},
   "source": [
    "# Database"
   ]
  },
  {
   "cell_type": "markdown",
   "metadata": {},
   "source": [
    "Put all your results in an SQLite3 database (remember, SQLite stores its databases as files in your local machine - make sure to create your database in your project's data/ directory!)"
   ]
  },
  {
   "cell_type": "code",
   "execution_count": 16,
   "metadata": {},
   "outputs": [],
   "source": [
    "def create_connection(path):\n",
    "    connection = None\n",
    "    try:\n",
    "        connection = sqlite3.connect(path)\n",
    "        print(\"Connection to SQLite DB successful\")\n",
    "    except Error as e:\n",
    "        print(f\"The error '{e}' occurred\")\n",
    "\n",
    "    return connection"
   ]
  },
  {
   "cell_type": "code",
   "execution_count": 17,
   "metadata": {},
   "outputs": [
    {
     "name": "stdout",
     "output_type": "stream",
     "text": [
      "Connection to SQLite DB successful\n"
     ]
    }
   ],
   "source": [
    "conn = create_connection(\"sm_app.sqlite\")"
   ]
  },
  {
   "cell_type": "code",
   "execution_count": 18,
   "metadata": {},
   "outputs": [
    {
     "data": {
      "text/plain": [
       "<sqlite3.Cursor at 0x1242e7d9030>"
      ]
     },
     "execution_count": 18,
     "metadata": {},
     "output_type": "execute_result"
    }
   ],
   "source": [
    "restaurant_table = \"\"\"\n",
    "CREATE TABLE IF NOT EXISTS users (\n",
    "  id INTEGER PRIMARY KEY AUTOINCREMENT,\n",
    "  name TEXT NOT NULL,\n",
    "  popularity FLOAT,\n",
    "  price FLOAT,\n",
    "  rating FLOAT,\n",
    "  categories_name TEXT,\n",
    "  latitude FLOAT NOT NULL,\n",
    "  longitude FLOAT NOT NULL,\n",
    "  distance INTEGER NOT NULL,\n",
    "  credit_card BOOL,\n",
    "  beer BOOL,\n",
    "  outdoor_seating BOOL\n",
    ");\n",
    "\"\"\"\n",
    "conn.execute(restaurant_table)"
   ]
  },
  {
   "cell_type": "code",
   "execution_count": 19,
   "metadata": {},
   "outputs": [],
   "source": [
    "table_name = \"restaurant\"\n",
    "df_fs.to_sql(table_name,conn,if_exists='replace',index=False)\n",
    "conn.commit()\n",
    "conn.close()"
   ]
  },
  {
   "cell_type": "markdown",
   "metadata": {},
   "source": [
    "Look at the data before and after the join to validate your data."
   ]
  },
  {
   "cell_type": "code",
   "execution_count": 20,
   "metadata": {},
   "outputs": [
    {
     "data": {
      "text/plain": [
       "<sqlite3.Cursor at 0x1242e7d98f0>"
      ]
     },
     "execution_count": 20,
     "metadata": {},
     "output_type": "execute_result"
    }
   ],
   "source": [
    "connection = sqlite3.connect(\"sm_app.sqlite\")\n",
    "crsr = connection.cursor()\n",
    "crsr.execute(\"SELECT COUNT(*) FROM restaurant\")"
   ]
  },
  {
   "cell_type": "code",
   "execution_count": 21,
   "metadata": {},
   "outputs": [],
   "source": [
    "restaurant_sql = crsr.fetchall()"
   ]
  },
  {
   "cell_type": "code",
   "execution_count": 27,
   "metadata": {},
   "outputs": [
    {
     "name": "stdout",
     "output_type": "stream",
     "text": [
      "1516\n"
     ]
    }
   ],
   "source": [
    "# Number of restaurants in SQLite\n",
    "print(restaurant_sql[0][0])"
   ]
  },
  {
   "cell_type": "code",
   "execution_count": 24,
   "metadata": {},
   "outputs": [
    {
     "name": "stdout",
     "output_type": "stream",
     "text": [
      "1516\n"
     ]
    }
   ],
   "source": [
    "# Number of\n",
    "print(len(df_fs))"
   ]
  },
  {
   "cell_type": "code",
   "execution_count": null,
   "metadata": {},
   "outputs": [],
   "source": []
  }
 ],
 "metadata": {
  "kernelspec": {
   "display_name": "Python 3 (ipykernel)",
   "language": "python",
   "name": "python3"
  },
  "language_info": {
   "codemirror_mode": {
    "name": "ipython",
    "version": 3
   },
   "file_extension": ".py",
   "mimetype": "text/x-python",
   "name": "python",
   "nbconvert_exporter": "python",
   "pygments_lexer": "ipython3",
   "version": "3.9.12"
  }
 },
 "nbformat": 4,
 "nbformat_minor": 4
}
