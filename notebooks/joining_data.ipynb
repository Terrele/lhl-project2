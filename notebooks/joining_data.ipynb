{
 "cells": [
  {
   "cell_type": "markdown",
   "metadata": {},
   "source": [
    "Join the data from Part 1 with the data from Part 2 to create a new dataframe."
   ]
  },
  {
   "cell_type": "code",
   "execution_count": 1,
   "metadata": {},
   "outputs": [],
   "source": [
    "import requests\n",
    "from IPython.display import JSON"
   ]
  },
  {
   "cell_type": "code",
   "execution_count": 2,
   "metadata": {},
   "outputs": [],
   "source": [
    "import pandas as pd\n",
    "import matplotlib.pyplot as plt\n",
    "import numpy as np\n",
    "import sqlite3\n",
    "from sqlite3 import Error"
   ]
  },
  {
   "cell_type": "markdown",
   "metadata": {},
   "source": [
    "### I have joined the data and converted it into a csv in Part 2. Loading the data from csv."
   ]
  },
  {
   "cell_type": "code",
   "execution_count": 3,
   "metadata": {},
   "outputs": [],
   "source": [
    "df_fs = pd.read_csv(\"fsrestaurant_info.csv\")"
   ]
  },
  {
   "cell_type": "markdown",
   "metadata": {},
   "source": [
    "Provide a visualization that you used as part of your EDA process. Explain the initial pattern or relationship you discoved through this visualization. "
   ]
  },
  {
   "cell_type": "code",
   "execution_count": 4,
   "metadata": {},
   "outputs": [
    {
     "data": {
      "text/html": [
       "<div>\n",
       "<style scoped>\n",
       "    .dataframe tbody tr th:only-of-type {\n",
       "        vertical-align: middle;\n",
       "    }\n",
       "\n",
       "    .dataframe tbody tr th {\n",
       "        vertical-align: top;\n",
       "    }\n",
       "\n",
       "    .dataframe thead th {\n",
       "        text-align: right;\n",
       "    }\n",
       "</style>\n",
       "<table border=\"1\" class=\"dataframe\">\n",
       "  <thead>\n",
       "    <tr style=\"text-align: right;\">\n",
       "      <th></th>\n",
       "      <th>Unnamed: 0</th>\n",
       "      <th>popularity</th>\n",
       "      <th>price</th>\n",
       "      <th>rating</th>\n",
       "      <th>latitude</th>\n",
       "      <th>longitude</th>\n",
       "      <th>distance</th>\n",
       "      <th>bikes</th>\n",
       "    </tr>\n",
       "  </thead>\n",
       "  <tbody>\n",
       "    <tr>\n",
       "      <th>count</th>\n",
       "      <td>4517.000000</td>\n",
       "      <td>4272.000000</td>\n",
       "      <td>3974.000000</td>\n",
       "      <td>3577.000000</td>\n",
       "      <td>4517.000000</td>\n",
       "      <td>4517.000000</td>\n",
       "      <td>4.517000e+03</td>\n",
       "      <td>4517.000000</td>\n",
       "    </tr>\n",
       "    <tr>\n",
       "      <th>mean</th>\n",
       "      <td>23.093425</td>\n",
       "      <td>0.926420</td>\n",
       "      <td>1.743080</td>\n",
       "      <td>7.723344</td>\n",
       "      <td>43.660087</td>\n",
       "      <td>-79.392255</td>\n",
       "      <td>1.264272e+03</td>\n",
       "      <td>9.377020</td>\n",
       "    </tr>\n",
       "    <tr>\n",
       "      <th>std</th>\n",
       "      <td>14.093942</td>\n",
       "      <td>0.106487</td>\n",
       "      <td>0.728874</td>\n",
       "      <td>0.896270</td>\n",
       "      <td>0.014348</td>\n",
       "      <td>0.038613</td>\n",
       "      <td>4.181579e+04</td>\n",
       "      <td>8.810762</td>\n",
       "    </tr>\n",
       "    <tr>\n",
       "      <th>min</th>\n",
       "      <td>0.000000</td>\n",
       "      <td>0.000262</td>\n",
       "      <td>1.000000</td>\n",
       "      <td>4.600000</td>\n",
       "      <td>43.629265</td>\n",
       "      <td>-79.476965</td>\n",
       "      <td>1.000000e+01</td>\n",
       "      <td>0.000000</td>\n",
       "    </tr>\n",
       "    <tr>\n",
       "      <th>25%</th>\n",
       "      <td>11.000000</td>\n",
       "      <td>0.923306</td>\n",
       "      <td>1.000000</td>\n",
       "      <td>7.200000</td>\n",
       "      <td>43.648776</td>\n",
       "      <td>-79.417535</td>\n",
       "      <td>4.510000e+02</td>\n",
       "      <td>2.000000</td>\n",
       "    </tr>\n",
       "    <tr>\n",
       "      <th>50%</th>\n",
       "      <td>23.000000</td>\n",
       "      <td>0.948002</td>\n",
       "      <td>2.000000</td>\n",
       "      <td>7.900000</td>\n",
       "      <td>43.658703</td>\n",
       "      <td>-79.393336</td>\n",
       "      <td>6.750000e+02</td>\n",
       "      <td>7.000000</td>\n",
       "    </tr>\n",
       "    <tr>\n",
       "      <th>75%</th>\n",
       "      <td>35.000000</td>\n",
       "      <td>0.968785</td>\n",
       "      <td>2.000000</td>\n",
       "      <td>8.400000</td>\n",
       "      <td>43.669364</td>\n",
       "      <td>-79.379508</td>\n",
       "      <td>8.570000e+02</td>\n",
       "      <td>14.000000</td>\n",
       "    </tr>\n",
       "    <tr>\n",
       "      <th>max</th>\n",
       "      <td>49.000000</td>\n",
       "      <td>0.999900</td>\n",
       "      <td>4.000000</td>\n",
       "      <td>9.400000</td>\n",
       "      <td>43.716985</td>\n",
       "      <td>-79.279413</td>\n",
       "      <td>2.810971e+06</td>\n",
       "      <td>49.000000</td>\n",
       "    </tr>\n",
       "  </tbody>\n",
       "</table>\n",
       "</div>"
      ],
      "text/plain": [
       "        Unnamed: 0   popularity        price       rating     latitude  \\\n",
       "count  4517.000000  4272.000000  3974.000000  3577.000000  4517.000000   \n",
       "mean     23.093425     0.926420     1.743080     7.723344    43.660087   \n",
       "std      14.093942     0.106487     0.728874     0.896270     0.014348   \n",
       "min       0.000000     0.000262     1.000000     4.600000    43.629265   \n",
       "25%      11.000000     0.923306     1.000000     7.200000    43.648776   \n",
       "50%      23.000000     0.948002     2.000000     7.900000    43.658703   \n",
       "75%      35.000000     0.968785     2.000000     8.400000    43.669364   \n",
       "max      49.000000     0.999900     4.000000     9.400000    43.716985   \n",
       "\n",
       "         longitude      distance        bikes  \n",
       "count  4517.000000  4.517000e+03  4517.000000  \n",
       "mean    -79.392255  1.264272e+03     9.377020  \n",
       "std       0.038613  4.181579e+04     8.810762  \n",
       "min     -79.476965  1.000000e+01     0.000000  \n",
       "25%     -79.417535  4.510000e+02     2.000000  \n",
       "50%     -79.393336  6.750000e+02     7.000000  \n",
       "75%     -79.379508  8.570000e+02    14.000000  \n",
       "max     -79.279413  2.810971e+06    49.000000  "
      ]
     },
     "execution_count": 4,
     "metadata": {},
     "output_type": "execute_result"
    }
   ],
   "source": [
    "# using this function, we can find out to see if we have any values that doesn't make any sense.\n",
    "df_fs.describe()"
   ]
  },
  {
   "cell_type": "code",
   "execution_count": 5,
   "metadata": {},
   "outputs": [
    {
     "data": {
      "text/plain": [
       "Unnamed: 0            0\n",
       "name                  0\n",
       "popularity          245\n",
       "price               543\n",
       "rating              940\n",
       "categories_name       0\n",
       "latitude              0\n",
       "longitude             0\n",
       "distance              0\n",
       "credit_card        1738\n",
       "beer               3392\n",
       "outdoor_seating    1743\n",
       "bikes                 0\n",
       "dtype: int64"
      ]
     },
     "execution_count": 5,
     "metadata": {},
     "output_type": "execute_result"
    }
   ],
   "source": [
    "df_fs.isnull().sum()"
   ]
  },
  {
   "cell_type": "code",
   "execution_count": 6,
   "metadata": {},
   "outputs": [],
   "source": [
    "# dropping the id's\n",
    "df_fs.drop(['Unnamed: 0'], axis=1, inplace = True)\n"
   ]
  },
  {
   "cell_type": "code",
   "execution_count": 7,
   "metadata": {},
   "outputs": [],
   "source": [
    "# Dropping duplicates\n",
    "df_fs.drop_duplicates(subset=['name', 'latitude', 'longitude'], keep='first', inplace = True)"
   ]
  },
  {
   "cell_type": "code",
   "execution_count": 8,
   "metadata": {},
   "outputs": [
    {
     "data": {
      "text/html": [
       "<div>\n",
       "<style scoped>\n",
       "    .dataframe tbody tr th:only-of-type {\n",
       "        vertical-align: middle;\n",
       "    }\n",
       "\n",
       "    .dataframe tbody tr th {\n",
       "        vertical-align: top;\n",
       "    }\n",
       "\n",
       "    .dataframe thead th {\n",
       "        text-align: right;\n",
       "    }\n",
       "</style>\n",
       "<table border=\"1\" class=\"dataframe\">\n",
       "  <thead>\n",
       "    <tr style=\"text-align: right;\">\n",
       "      <th></th>\n",
       "      <th>popularity</th>\n",
       "      <th>price</th>\n",
       "      <th>rating</th>\n",
       "      <th>latitude</th>\n",
       "      <th>longitude</th>\n",
       "      <th>distance</th>\n",
       "      <th>bikes</th>\n",
       "    </tr>\n",
       "  </thead>\n",
       "  <tbody>\n",
       "    <tr>\n",
       "      <th>count</th>\n",
       "      <td>1341.000000</td>\n",
       "      <td>1245.000000</td>\n",
       "      <td>995.000000</td>\n",
       "      <td>1515.000000</td>\n",
       "      <td>1515.000000</td>\n",
       "      <td>1.515000e+03</td>\n",
       "      <td>1515.000000</td>\n",
       "    </tr>\n",
       "    <tr>\n",
       "      <th>mean</th>\n",
       "      <td>0.902213</td>\n",
       "      <td>1.695582</td>\n",
       "      <td>7.490653</td>\n",
       "      <td>43.663736</td>\n",
       "      <td>-79.390054</td>\n",
       "      <td>2.520471e+03</td>\n",
       "      <td>9.639604</td>\n",
       "    </tr>\n",
       "    <tr>\n",
       "      <th>std</th>\n",
       "      <td>0.137864</td>\n",
       "      <td>0.717055</td>\n",
       "      <td>0.996676</td>\n",
       "      <td>0.017683</td>\n",
       "      <td>0.044721</td>\n",
       "      <td>7.220213e+04</td>\n",
       "      <td>8.624457</td>\n",
       "    </tr>\n",
       "    <tr>\n",
       "      <th>min</th>\n",
       "      <td>0.000262</td>\n",
       "      <td>1.000000</td>\n",
       "      <td>4.600000</td>\n",
       "      <td>43.629265</td>\n",
       "      <td>-79.476965</td>\n",
       "      <td>2.300000e+01</td>\n",
       "      <td>0.000000</td>\n",
       "    </tr>\n",
       "    <tr>\n",
       "      <th>25%</th>\n",
       "      <td>0.899978</td>\n",
       "      <td>1.000000</td>\n",
       "      <td>6.700000</td>\n",
       "      <td>43.649622</td>\n",
       "      <td>-79.421476</td>\n",
       "      <td>4.860000e+02</td>\n",
       "      <td>2.000000</td>\n",
       "    </tr>\n",
       "    <tr>\n",
       "      <th>50%</th>\n",
       "      <td>0.938430</td>\n",
       "      <td>2.000000</td>\n",
       "      <td>7.700000</td>\n",
       "      <td>43.662960</td>\n",
       "      <td>-79.396141</td>\n",
       "      <td>7.070000e+02</td>\n",
       "      <td>8.000000</td>\n",
       "    </tr>\n",
       "    <tr>\n",
       "      <th>75%</th>\n",
       "      <td>0.960268</td>\n",
       "      <td>2.000000</td>\n",
       "      <td>8.300000</td>\n",
       "      <td>43.674542</td>\n",
       "      <td>-79.363234</td>\n",
       "      <td>8.630000e+02</td>\n",
       "      <td>17.000000</td>\n",
       "    </tr>\n",
       "    <tr>\n",
       "      <th>max</th>\n",
       "      <td>0.999900</td>\n",
       "      <td>4.000000</td>\n",
       "      <td>9.400000</td>\n",
       "      <td>43.716985</td>\n",
       "      <td>-79.279413</td>\n",
       "      <td>2.810971e+06</td>\n",
       "      <td>49.000000</td>\n",
       "    </tr>\n",
       "  </tbody>\n",
       "</table>\n",
       "</div>"
      ],
      "text/plain": [
       "        popularity        price      rating     latitude    longitude  \\\n",
       "count  1341.000000  1245.000000  995.000000  1515.000000  1515.000000   \n",
       "mean      0.902213     1.695582    7.490653    43.663736   -79.390054   \n",
       "std       0.137864     0.717055    0.996676     0.017683     0.044721   \n",
       "min       0.000262     1.000000    4.600000    43.629265   -79.476965   \n",
       "25%       0.899978     1.000000    6.700000    43.649622   -79.421476   \n",
       "50%       0.938430     2.000000    7.700000    43.662960   -79.396141   \n",
       "75%       0.960268     2.000000    8.300000    43.674542   -79.363234   \n",
       "max       0.999900     4.000000    9.400000    43.716985   -79.279413   \n",
       "\n",
       "           distance        bikes  \n",
       "count  1.515000e+03  1515.000000  \n",
       "mean   2.520471e+03     9.639604  \n",
       "std    7.220213e+04     8.624457  \n",
       "min    2.300000e+01     0.000000  \n",
       "25%    4.860000e+02     2.000000  \n",
       "50%    7.070000e+02     8.000000  \n",
       "75%    8.630000e+02    17.000000  \n",
       "max    2.810971e+06    49.000000  "
      ]
     },
     "execution_count": 8,
     "metadata": {},
     "output_type": "execute_result"
    }
   ],
   "source": [
    "df_fs.describe()"
   ]
  },
  {
   "cell_type": "markdown",
   "metadata": {},
   "source": [
    "There were 3176 duplicates removed."
   ]
  },
  {
   "cell_type": "code",
   "execution_count": 9,
   "metadata": {},
   "outputs": [
    {
     "data": {
      "text/plain": [
       "<AxesSubplot:xlabel='popularity', ylabel='distance'>"
      ]
     },
     "execution_count": 9,
     "metadata": {},
     "output_type": "execute_result"
    },
    {
     "data": {
      "image/png": "[encoded data removed]",
      "text/plain": [
       "<Figure size 432x288 with 1 Axes>"
      ]
     },
     "metadata": {
      "needs_background": "light"
     },
     "output_type": "display_data"
    }
   ],
   "source": [
    "df_fs.plot(x='popularity', y='distance', kind='scatter')\n",
    "# We have an outlier in this graph"
   ]
  },
  {
   "cell_type": "code",
   "execution_count": 10,
   "metadata": {},
   "outputs": [
    {
     "name": "stdout",
     "output_type": "stream",
     "text": [
      "                        name  popularity  price  rating  \\\n",
      "1408  Good Earth Coffeehouse    0.971751    1.0     8.1   \n",
      "2910         Black Oaks Cafe    0.800061    1.0     NaN   \n",
      "2975    Glory Hole Doughnuts    0.906972    1.0     8.3   \n",
      "4228     Mother Cocktail Bar    0.870316    3.0     7.3   \n",
      "\n",
      "             categories_name   latitude  longitude  distance credit_card beer  \\\n",
      "1408  Arts and Entertainment  43.700042 -79.399820   2810971         NaN  NaN   \n",
      "2910                   Diner  43.645126 -79.456083      1928         NaN  NaN   \n",
      "2975                  Bakery  43.639808 -79.441300      4341        True  NaN   \n",
      "4228            Cocktail Bar  43.645243 -79.414499      1236         NaN  NaN   \n",
      "\n",
      "     outdoor_seating  bikes  \n",
      "1408             NaN      0  \n",
      "2910             NaN     24  \n",
      "2975           False     13  \n",
      "4228             NaN     15  \n"
     ]
    }
   ],
   "source": [
    "upper = df_fs['distance'] >= 1200\n",
    "print(df_fs[upper])"
   ]
  },
  {
   "cell_type": "code",
   "execution_count": 11,
   "metadata": {},
   "outputs": [
    {
     "data": {
      "text/plain": [
       "<AxesSubplot:xlabel='distance', ylabel='popularity'>"
      ]
     },
     "execution_count": 11,
     "metadata": {},
     "output_type": "execute_result"
    },
    {
     "data": {
      "image/png": "[encoded data removed]",
      "text/plain": [
       "<Figure size 432x288 with 1 Axes>"
      ]
     },
     "metadata": {
      "needs_background": "light"
     },
     "output_type": "display_data"
    }
   ],
   "source": [
    "df_fs.drop(index=[1408,2910,2975,4228], inplace = True)\n",
    "df_fs.plot(x='distance', y='popularity', kind='scatter')"
   ]
  },
  {
   "cell_type": "code",
   "execution_count": 12,
   "metadata": {},
   "outputs": [
    {
     "data": {
      "text/plain": [
       "<AxesSubplot:xlabel='rating', ylabel='popularity'>"
      ]
     },
     "execution_count": 12,
     "metadata": {},
     "output_type": "execute_result"
    },
    {
     "data": {
      "image/png": "[encoded data removed]",
      "text/plain": [
       "<Figure size 432x288 with 1 Axes>"
      ]
     },
     "metadata": {
      "needs_background": "light"
     },
     "output_type": "display_data"
    }
   ],
   "source": [
    "df_fs.plot(x='rating', y='popularity', kind='scatter')"
   ]
  },
  {
   "cell_type": "code",
   "execution_count": 13,
   "metadata": {},
   "outputs": [
    {
     "data": {
      "text/plain": [
       "(array([  8.,  22.,  64., 120.,  83., 126., 196., 193., 135.,  45.]),\n",
       " array([4.6 , 5.08, 5.56, 6.04, 6.52, 7.  , 7.48, 7.96, 8.44, 8.92, 9.4 ]),\n",
       " <BarContainer object of 10 artists>)"
      ]
     },
     "execution_count": 13,
     "metadata": {},
     "output_type": "execute_result"
    },
    {
     "data": {
      "image/png": "[encoded data removed]",
      "text/plain": [
       "<Figure size 432x288 with 1 Axes>"
      ]
     },
     "metadata": {
      "needs_background": "light"
     },
     "output_type": "display_data"
    }
   ],
   "source": [
    "plt.hist(df_fs['rating'],bins=10)"
   ]
  },
  {
   "cell_type": "code",
   "execution_count": 14,
   "metadata": {},
   "outputs": [
    {
     "data": {
      "text/plain": [
       "(array([537.,   0.,   0., 571.,   0.,   0., 106.,   0.,   0.,  27.]),\n",
       " array([1. , 1.3, 1.6, 1.9, 2.2, 2.5, 2.8, 3.1, 3.4, 3.7, 4. ]),\n",
       " <BarContainer object of 10 artists>)"
      ]
     },
     "execution_count": 14,
     "metadata": {},
     "output_type": "execute_result"
    },
    {
     "data": {
      "image/png": "[encoded data removed]",
      "text/plain": [
       "<Figure size 432x288 with 1 Axes>"
      ]
     },
     "metadata": {
      "needs_background": "light"
     },
     "output_type": "display_data"
    }
   ],
   "source": [
    "plt.hist(df_fs['price'],bins=10)"
   ]
  },
  {
   "cell_type": "code",
   "execution_count": 15,
   "metadata": {},
   "outputs": [
    {
     "data": {
      "text/plain": [
       "<AxesSubplot:xlabel='latitude', ylabel='longitude'>"
      ]
     },
     "execution_count": 15,
     "metadata": {},
     "output_type": "execute_result"
    },
    {
     "data": {
      "image/png": "[encoded data removed]",
      "text/plain": [
       "<Figure size 432x288 with 1 Axes>"
      ]
     },
     "metadata": {
      "needs_background": "light"
     },
     "output_type": "display_data"
    }
   ],
   "source": [
    "df_fs.plot(x='latitude', y='longitude', kind='scatter')"
   ]
  },
  {
   "cell_type": "markdown",
   "metadata": {},
   "source": [
    "# Database"
   ]
  },
  {
   "cell_type": "markdown",
   "metadata": {},
   "source": [
    "Put all your results in an SQLite3 database (remember, SQLite stores its databases as files in your local machine - make sure to create your database in your project's data/ directory!)"
   ]
  },
  {
   "cell_type": "code",
   "execution_count": 16,
   "metadata": {},
   "outputs": [],
   "source": [
    "def create_connection(path):\n",
    "    connection = None\n",
    "    try:\n",
    "        connection = sqlite3.connect(path)\n",
    "        print(\"Connection to SQLite DB successful\")\n",
    "    except Error as e:\n",
    "        print(f\"The error '{e}' occurred\")\n",
    "\n",
    "    return connection"
   ]
  },
  {
   "cell_type": "code",
   "execution_count": 17,
   "metadata": {},
   "outputs": [
    {
     "name": "stdout",
     "output_type": "stream",
     "text": [
      "Connection to SQLite DB successful\n"
     ]
    }
   ],
   "source": [
    "conn = create_connection(\"sm_app.sqlite\")"
   ]
  },
  {
   "cell_type": "code",
   "execution_count": 18,
   "metadata": {},
   "outputs": [
    {
     "data": {
      "text/plain": [
       "<sqlite3.Cursor at 0x2be72ec7340>"
      ]
     },
     "execution_count": 18,
     "metadata": {},
     "output_type": "execute_result"
    }
   ],
   "source": [
    "restaurant_table = \"\"\"\n",
    "CREATE TABLE IF NOT EXISTS users (\n",
    "  id INTEGER PRIMARY KEY AUTOINCREMENT,\n",
    "  name TEXT NOT NULL,\n",
    "  popularity FLOAT,\n",
    "  price FLOAT,\n",
    "  rating FLOAT,\n",
    "  categories_name TEXT,\n",
    "  latitude FLOAT NOT NULL,\n",
    "  longitude FLOAT NOT NULL,\n",
    "  distance INTEGER NOT NULL,\n",
    "  credit_card BOOL,\n",
    "  beer BOOL,\n",
    "  outdoor_seating BOOL\n",
    ");\n",
    "\"\"\"\n",
    "conn.execute(restaurant_table)"
   ]
  },
  {
   "cell_type": "code",
   "execution_count": 19,
   "metadata": {},
   "outputs": [],
   "source": [
    "table_name = \"restaurant\"\n",
    "df_fs.to_sql(table_name,conn,if_exists='replace',index=False)\n",
    "conn.commit()\n",
    "conn.close()"
   ]
  },
  {
   "cell_type": "markdown",
   "metadata": {},
   "source": [
    "Look at the data before and after the join to validate your data."
   ]
  },
  {
   "cell_type": "code",
   "execution_count": 20,
   "metadata": {},
   "outputs": [
    {
     "data": {
      "text/plain": [
       "<sqlite3.Cursor at 0x2be72ec79d0>"
      ]
     },
     "execution_count": 20,
     "metadata": {},
     "output_type": "execute_result"
    }
   ],
   "source": [
    "connection = sqlite3.connect(\"sm_app.sqlite\")\n",
    "crsr = connection.cursor()\n",
    "crsr.execute(\"SELECT COUNT(*) FROM restaurant\")"
   ]
  },
  {
   "cell_type": "code",
   "execution_count": 21,
   "metadata": {},
   "outputs": [],
   "source": [
    "restaurant_sql = crsr.fetchall()"
   ]
  },
  {
   "cell_type": "code",
   "execution_count": 22,
   "metadata": {},
   "outputs": [
    {
     "name": "stdout",
     "output_type": "stream",
     "text": [
      "1511\n"
     ]
    }
   ],
   "source": [
    "# Number of restaurants in SQLite\n",
    "print(restaurant_sql[0][0])"
   ]
  },
  {
   "cell_type": "code",
   "execution_count": 23,
   "metadata": {},
   "outputs": [
    {
     "name": "stdout",
     "output_type": "stream",
     "text": [
      "1511\n"
     ]
    }
   ],
   "source": [
    "# Number of restaurants in DataFrame\n",
    "print(len(df_fs))"
   ]
  },
  {
   "cell_type": "code",
   "execution_count": 24,
   "metadata": {},
   "outputs": [
    {
     "name": "stdout",
     "output_type": "stream",
     "text": [
      "True\n"
     ]
    }
   ],
   "source": [
    "print(restaurant_sql[0][0]==len(df_fs))"
   ]
  }
 ],
 "metadata": {
  "kernelspec": {
   "display_name": "Python 3 (ipykernel)",
   "language": "python",
   "name": "python3"
  },
  "language_info": {
   "codemirror_mode": {
    "name": "ipython",
    "version": 3
   },
   "file_extension": ".py",
   "mimetype": "text/x-python",
   "name": "python",
   "nbconvert_exporter": "python",
   "pygments_lexer": "ipython3",
   "version": "3.9.12"
  }
 },
 "nbformat": 4,
 "nbformat_minor": 4
}
