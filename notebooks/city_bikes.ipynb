{
 "cells": [
  {
   "cell_type": "markdown",
   "metadata": {},
   "source": [
    "# CityBikes"
   ]
  },
  {
   "cell_type": "markdown",
   "metadata": {},
   "source": [
    "Send a request to CityBikes for the city of your choice. "
   ]
  },
  {
   "cell_type": "code",
   "execution_count": 1,
   "metadata": {},
   "outputs": [],
   "source": [
    "import requests\n",
    "from IPython.display import JSON"
   ]
  },
  {
   "cell_type": "code",
   "execution_count": 2,
   "metadata": {},
   "outputs": [],
   "source": [
    "import pandas as pd"
   ]
  },
  {
   "cell_type": "code",
   "execution_count": 3,
   "metadata": {},
   "outputs": [
    {
     "data": {
      "application/json": {
       "networks": [
        {
         "company": [
          "ЗАО «СитиБайк»"
         ],
         "href": "/v2/networks/velobike-moscow",
         "id": "velobike-moscow",
         "location": {
          "city": "Moscow",
          "country": "RU",
          "latitude": 55.75,
          "longitude": 37.616667
         },
         "name": "Velobike"
        },
        {
         "company": [
          "Gobike A/S"
         ],
         "href": "/v2/networks/bycyklen",
         "id": "bycyklen",
         "location": {
          "city": "Copenhagen",
          "country": "DK",
          "latitude": 55.673582,
          "longitude": 12.564984
         },
         "name": "Bycyklen"
        },
        {
         "company": [
          "Gobike A/S"
         ],
         "href": "/v2/networks/nu-connect",
         "id": "nu-connect",
         "location": {
          "city": "Utrecht",
          "country": "NL",
          "latitude": 52.117,
          "longitude": 5.067
         },
         "name": "Nu-Connect"
        },
        {
         "company": [
          "Urban Infrastructure Partner"
         ],
         "href": "/v2/networks/baerum-bysykkel",
         "id": "baerum-bysykkel",
         "location": {
          "city": "Bærum",
          "country": "NO",
          "latitude": 59.89455,
          "longitude": 10.546343
         },
         "name": "Bysykkel"
        },
        {
         "company": [
          "Gobike A/S"
         ],
         "href": "/v2/networks/bysykkelen",
         "id": "bysykkelen",
         "location": {
          "city": "Stavanger",
          "country": "NO",
          "latitude": 58.969975,
          "longitude": 5.733107
         },
         "name": "Bysykkelen"
        },
        {
         "company": [
          "Comunicare S.r.l."
         ],
         "href": "/v2/networks/bicincitta-siena",
         "id": "bicincitta-siena",
         "location": {
          "city": "Siena",
          "country": "IT",
          "latitude": 43.3186,
          "longitude": 11.3306
         },
         "name": "Bicincittà",
         "source": "https://www.bicincitta.com/frmLeStazioni.aspx?ID=202"
        },
        {
         "company": [
          "Cyclopolis Systems"
         ],
         "href": "/v2/networks/cyclopolis-maroussi",
         "id": "cyclopolis-maroussi",
         "location": {
          "city": "Maroussi",
          "country": "GR",
          "latitude": 38.0568722388,
          "longitude": 23.8083299536
         },
         "name": "Cyclopolis"
        },
        {
         "company": [
          "Groundwork",
          "Slough Borough Council",
          "ITS"
         ],
         "href": "/v2/networks/cycle-hire-slough",
         "id": "cycle-hire-slough",
         "location": {
          "city": "Slough",
          "country": "GB",
          "latitude": 51.51135,
          "longitude": -0.591562
         },
         "name": "Cycle Hire"
        },
        {
         "company": [
          "Cyclopolis Systems"
         ],
         "href": "/v2/networks/cyclopolis-nafplio",
         "id": "cyclopolis-nafplio",
         "location": {
          "city": "Maroussi",
          "country": "GR",
          "latitude": 37.5639397319,
          "longitude": 22.8093402872
         },
         "name": "Cyclopolis"
        },
        {
         "company": [
          "Comunicare S.r.l."
         ],
         "href": "/v2/networks/bicincitta-parco-dei-colli-di-bergamo",
         "id": "bicincitta-parco-dei-colli-di-bergamo",
         "location": {
          "city": "Parco dei Colli di Bergamo",
          "country": "IT",
          "latitude": 45.72295637032245,
          "longitude": 9.649230073016383
         },
         "name": "Bicincittà",
         "source": "https://www.bicincitta.com/frmLeStazioni.aspx?ID=203"
        },
        {
         "company": [
          "Cyclopolis Systems"
         ],
         "href": "/v2/networks/cyclopolis-aigialeia",
         "id": "cyclopolis-aigialeia",
         "location": {
          "city": "Maroussi",
          "country": "GR",
          "latitude": 38.2511101325,
          "longitude": 22.0821570196
         },
         "name": "Cyclopolis"
        },
        {
         "company": [
          "Cyclopolis Systems"
         ],
         "href": "/v2/networks/cyclopolis-marathon",
         "id": "cyclopolis-marathon",
         "location": {
          "city": "Marathon",
          "country": "GR",
          "latitude": 38.0855680022,
          "longitude": 23.9776389963
         },
         "name": "Cyclopolis"
        },
        {
         "company": [
          "Comunicare S.r.l."
         ],
         "href": "/v2/networks/bicincitta-mantova",
         "id": "bicincitta-mantova",
         "location": {
          "city": "Mantova",
          "country": "IT",
          "latitude": 45.15866370764634,
          "longitude": 10.783718973016335
         },
         "name": "Bicincittà",
         "source": "https://www.bicincitta.com/frmLeStazioni.aspx?ID=204"
        },
        {
         "company": [
          "Cyclopolis Systems"
         ],
         "href": "/v2/networks/cyclopolis-neasmyrni",
         "id": "cyclopolis-neasmyrni",
         "location": {
          "city": "Νea Smyrni",
          "country": "GR",
          "latitude": 37.9381,
          "longitude": 23.7126
         },
         "name": "Cyclopolis"
        },
        {
         "company": [
          "Cyclopolis Systems"
         ],
         "href": "/v2/networks/cyclopolis-moschatotavros",
         "id": "cyclopolis-moschatotavros",
         "location": {
          "city": "Μoschato-Tavros",
          "country": "GR",
          "latitude": 37.9538991434,
          "longitude": 23.6824746661
         },
         "name": "Cyclopolis"
        },
        {
         "company": [
          "Cyclopolis Systems"
         ],
         "href": "/v2/networks/cyclopolis-arxaiaolympia",
         "id": "cyclopolis-arxaiaolympia",
         "location": {
          "city": "Αrxaia Olympia",
          "country": "GR",
          "latitude": 37.6419700934,
          "longitude": 21.6247265179
         },
         "name": "Cyclopolis"
        },
        {
         "company": [
          "Cyclopolis Systems"
         ],
         "href": "/v2/networks/cyclopolis-kiato",
         "id": "cyclopolis-kiato",
         "location": {
          "city": "Kιato",
          "country": "GR",
          "latitude": 38.0132674508,
          "longitude": 22.7493819902
         },
         "name": "Cyclopolis"
        },
        {
         "company": [
          "Comunicare S.r.l."
         ],
         "href": "/v2/networks/bicincitta-assemini",
         "id": "bicincitta-assemini",
         "location": {
          "city": "Assemini",
          "country": "IT",
          "latitude": 39.28956306007679,
          "longitude": 9.006601555294765
         },
         "name": "Bicincittà",
         "source": "https://www.bicincitta.com/frmLeStazioni.aspx?ID=205"
        },
        {
         "company": [
          "Cyclopolis Systems"
         ],
         "href": "/v2/networks/cyclopolis-rhodes",
         "id": "cyclopolis-rhodes",
         "location": {
          "city": "Rhodes",
          "country": "GR",
          "latitude": 36.4509118,
          "longitude": 28.2246966
         },
         "name": "Cyclopolis"
        },
        {
         "company": [
          "Cyclopolis Systems"
         ],
         "href": "/v2/networks/cyclopolis-florina",
         "id": "cyclopolis-florina",
         "location": {
          "city": "Florina",
          "country": "GR",
          "latitude": 40.8016111,
          "longitude": 21.4245222
         },
         "name": "Cyclopolis"
        },
        {
         "company": [
          "Comunicare S.r.l."
         ],
         "href": "/v2/networks/bicincitta-tortoli",
         "id": "bicincitta-tortoli",
         "location": {
          "city": "Tortolì",
          "country": "IT",
          "latitude": 39.92664489852196,
          "longitude": 9.654953570777934
         },
         "name": "Bicincittà",
         "source": "https://www.bicincitta.com/frmLeStazioni.aspx?ID=206"
        },
        {
         "company": [
          "Cyclopolis Systems"
         ],
         "href": "/v2/networks/cyclopolis-limnos",
         "id": "cyclopolis-limnos",
         "location": {
          "city": "Limnos",
          "country": "GR",
          "latitude": 39.8747861,
          "longitude": 25.0586722
         },
         "name": "Cyclopolis"
        },
        {
         "company": [
          "Comunicare S.r.l."
         ],
         "href": "/v2/networks/bicincitta-gaeta",
         "id": "bicincitta-gaeta",
         "location": {
          "city": "Gaeta",
          "country": "IT",
          "latitude": 41.209620965538036,
          "longitude": 13.584335125656139
         },
         "name": "Bicincittà",
         "source": "https://www.bicincitta.com/frmLeStazioni.aspx?ID=207"
        },
        {
         "company": [
          "Comunicare S.r.l."
         ],
         "href": "/v2/networks/bicincitta-borgarello",
         "id": "bicincitta-borgarello",
         "location": {
          "city": "Borgarello",
          "country": "IT",
          "latitude": 45.23963753440171,
          "longitude": 9.136150475640875
         },
         "name": "Bicincittà",
         "source": "https://www.bicincitta.com/frmLeStazioni.aspx?ID=208"
        },
        {
         "company": [
          "Comunicare S.r.l."
         ],
         "href": "/v2/networks/bicincitta-pizzighettone-formigara",
         "id": "bicincitta-pizzighettone-formigara",
         "location": {
          "city": "Pizzighettone e Formigara",
          "country": "IT",
          "latitude": 45.186748819167434,
          "longitude": 9.778087948479424
         },
         "name": "Bicincittà",
         "source": "https://www.bicincitta.com/frmLeStazioni.aspx?ID=209"
        },
        {
         "company": [
          "The National Transport Authority"
         ],
         "href": "/v2/networks/cork",
         "id": "cork",
         "location": {
          "city": "Cork",
          "country": "IE",
          "latitude": 51.893604,
          "longitude": -8.494174
         },
         "name": "Coca-Cola Zero® Bikes"
        },
        {
         "company": [
          "The National Transport Authority"
         ],
         "href": "/v2/networks/limerick",
         "id": "limerick",
         "location": {
          "city": "Limerick",
          "country": "IE",
          "latitude": 52.668746,
          "longitude": -8.627809
         },
         "name": "Coca-Cola Zero® Bikes"
        },
        {
         "company": [
          "BTS Group Holdings"
         ],
         "href": "/v2/networks/punpunbikeshare",
         "id": "punpunbikeshare",
         "location": {
          "city": "Bangkok",
          "country": "TH",
          "latitude": 13.75,
          "longitude": 100.516667
         },
         "name": "Pun Pun Bike Share"
        },
        {
         "company": [
          "The National Transport Authority"
         ],
         "href": "/v2/networks/galway",
         "id": "galway",
         "location": {
          "city": "Galway",
          "country": "IE",
          "latitude": 53.2783491544,
          "longitude": -9.05069143207
         },
         "name": "Coca-Cola Zero® Bikes"
        },
        {
         "company": [
          "Bike U Sp. z o.o."
         ],
         "href": "/v2/networks/bbbike",
         "id": "bbbike",
         "location": {
          "city": "Bielsko-Biała",
          "country": "PL",
          "latitude": 49.8225,
          "longitude": 19.044444
         },
         "name": "BBBike"
        },
        {
         "company": [
          "Comunicare S.r.l."
         ],
         "href": "/v2/networks/bicincitta-montecatini-terme",
         "id": "bicincitta-montecatini-terme",
         "location": {
          "city": "Montecatini Terme",
          "country": "IT",
          "latitude": 43.88362791665083,
          "longitude": 10.764385656591799
         },
         "name": "Bicincittà",
         "source": "https://www.bicincitta.com/frmLeStazioni.aspx?ID=210"
        },
        {
         "company": [
          "Bike U Sp. z o.o."
         ],
         "href": "/v2/networks/bikeu-bra",
         "id": "bikeu-bra",
         "location": {
          "city": "Bydgoszcz",
          "country": "PL",
          "latitude": 53.12193,
          "longitude": 18.00038
         },
         "name": "Bydgoski rower aglomeracyjny"
        },
        {
         "company": [
          "PBSC",
          "Serco Group plc"
         ],
         "href": "/v2/networks/santander-cycles",
         "id": "santander-cycles",
         "location": {
          "city": "London",
          "country": "GB",
          "latitude": 51.51121389999999,
          "longitude": -0.1198244
         },
         "name": "Santander Cycles"
        },
        {
         "company": [
          "PBSC",
          "Alta Bicycle Share, Inc"
         ],
         "gbfs_href": "https://asp.publicbikesystem.net/ube/gbfs/v1/gbfs.json",
         "href": "/v2/networks/we-cycle",
         "id": "we-cycle",
         "location": {
          "city": "Aspen, CO",
          "country": "US",
          "latitude": 39.194951,
          "longitude": -106.837002
         },
         "name": "WE-cycle"
        },
        {
         "company": [
          "Comunicare S.r.l."
         ],
         "href": "/v2/networks/bicincitta-carrara",
         "id": "bicincitta-carrara",
         "location": {
          "city": "Carrara",
          "country": "IT",
          "latitude": 44.07731805550891,
          "longitude": 10.097172450401331
         },
         "name": "Bicincittà",
         "source": "https://www.bicincitta.com/frmLeStazioni.aspx?ID=211"
        },
        {
         "company": [
          "PBSC",
          "Alta Bicycle Share, Inc"
         ],
         "href": "/v2/networks/wowcycle-reykjavik",
         "id": "wowcycle-reykjavik",
         "location": {
          "city": "Reykjavík",
          "country": "IS",
          "latitude": 64.128288,
          "longitude": -21.827774
         },
         "name": "WOW Citybike"
        },
        {
         "company": [
          "Transparenzportal Hamburg"
         ],
         "href": "/v2/networks/stadtrad-hamburg",
         "id": "stadtrad-hamburg",
         "license": {
          "name": "Data licence Germany – attribution – version 2.0",
          "url": "https://www.govdata.de/dl-de/by-2-0"
         },
         "location": {
          "city": "Hamburg",
          "country": "DE",
          "latitude": 53.57532,
          "longitude": 10.01534
         },
         "name": "StadtRAD Hamburg'"
        },
        {
         "company": [
          "Comunicare S.r.l."
         ],
         "href": "/v2/networks/tigullionbike",
         "id": "tigullionbike",
         "location": {
          "city": "Sestri Levante - Lavagna",
          "country": "IT",
          "latitude": 44.272554,
          "longitude": 9.395714
         },
         "name": "Tigullionbike",
         "source": "https://www.bicincitta.com/frmLeStazioni.aspx?ID=80"
        },
        {
         "company": [
          "Comunicare S.r.l."
         ],
         "href": "/v2/networks/arbike",
         "id": "arbike",
         "location": {
          "city": "Arezzo",
          "country": "IT",
          "latitude": 43.473333,
          "longitude": 11.87
         },
         "name": "ARbike",
         "source": "https://www.bicincitta.com/frmLeStazioni.aspx?ID=84"
        },
        {
         "company": [
          "Velobike.kz, LLP",
          "Smoove"
         ],
         "href": "/v2/networks/velobike",
         "id": "velobike",
         "location": {
          "city": "Astana",
          "country": "KZ",
          "latitude": 51.166667,
          "longitude": 71.416667
         },
         "name": "Velobike"
        },
        {
         "company": null,
         "ebikes": true,
         "gbfs_href": "https://velib-metropole-opendata.smoove.pro/opendata/Velib_Metropole/gbfs.json",
         "href": "/v2/networks/velib",
         "id": "velib",
         "license": {
          "name": "OPEN LICENCE 2.0",
          "url": "etalab.gouv.fr/wp-content/uploads/2018/11/open-licence.pdf"
         },
         "location": {
          "city": "Paris",
          "country": "FR",
          "latitude": 48.856614,
          "longitude": 2.3522219
         },
         "name": "Velib' Métropôle"
        },
        {
         "company": [
          "Comunicare S.r.l."
         ],
         "href": "/v2/networks/ascoli-piceno",
         "id": "ascoli-piceno",
         "location": {
          "city": "Ascoli Piceno",
          "country": "IT",
          "latitude": 42.85,
          "longitude": 13.583333
         },
         "name": "Ascoli Piceno",
         "source": "https://www.bicincitta.com/frmLeStazioni.aspx?ID=73"
        },
        {
         "company": [
          "Comunicare S.r.l."
         ],
         "href": "/v2/networks/bigi",
         "id": "bigi",
         "location": {
          "city": "Bergamo",
          "country": "IT",
          "latitude": 45.695,
          "longitude": 9.67
         },
         "name": "BiGi",
         "source": "https://www.bicincitta.com/frmLeStazioni.aspx?ID=133"
        },
        {
         "company": [
          "ICNITA S.L."
         ],
         "href": "/v2/networks/girocleta",
         "id": "girocleta",
         "location": {
          "city": "Girona",
          "country": "ES",
          "latitude": 41.9794005,
          "longitude": 2.8214264
         },
         "name": "Girocleta"
        },
        {
         "company": [
          "Comunicare S.r.l."
         ],
         "href": "/v2/networks/alba",
         "id": "alba",
         "location": {
          "city": "Alba",
          "country": "IT",
          "latitude": 44.716667,
          "longitude": 8.083333
         },
         "name": "Alba",
         "source": "https://www.bicincitta.com/frmLeStazioni.aspx?ID=139"
        },
        {
         "company": [
          "ClearChannel"
         ],
         "ebikes": true,
         "href": "/v2/networks/bikemi",
         "id": "bikemi",
         "location": {
          "city": "Milano",
          "country": "IT",
          "latitude": 45.4654542,
          "longitude": 9.186516
         },
         "name": "BikeMi"
        },
        {
         "company": [
          "Comunicare S.r.l."
         ],
         "href": "/v2/networks/biella",
         "id": "biella",
         "location": {
          "city": "Biella",
          "country": "IT",
          "latitude": 45.5775,
          "longitude": 8.051111
         },
         "name": "Biella",
         "source": "https://www.bicincitta.com/frmLeStazioni.aspx?ID=112"
        },
        {
         "company": [
          "Comunicare S.r.l."
         ],
         "href": "/v2/networks/chivasso",
         "id": "chivasso",
         "location": {
          "city": "Chivasso",
          "country": "IT",
          "latitude": 45.189765,
          "longitude": 7.888935
         },
         "name": "Chivasso",
         "source": "https://www.bicincitta.com/frmLeStazioni.aspx?ID=201"
        },
        {
         "company": [
          "ClearChannel"
         ],
         "href": "/v2/networks/bizi",
         "id": "bizi",
         "location": {
          "city": "Zaragoza",
          "country": "ES",
          "latitude": 41.6487908,
          "longitude": -0.8895811
         },
         "name": "Bizi"
        },
        {
         "company": [
          "ClearChannel"
         ],
         "href": "/v2/networks/ecobici",
         "id": "ecobici",
         "location": {
          "city": "Cd de México",
          "country": "MX",
          "latitude": 19.4326077,
          "longitude": -99.133208
         },
         "name": "EcoBici"
        },
        {
         "company": [
          "Comunicare S.r.l."
         ],
         "href": "/v2/networks/bici-in-busto",
         "id": "bici-in-busto",
         "location": {
          "city": "Busto Arsizio",
          "country": "IT",
          "latitude": 45.610555,
          "longitude": 8.852062
         },
         "name": "Bici in Busto",
         "source": "https://www.bicincitta.com/frmLeStazioni.aspx?ID=66"
        },
        {
         "company": [
          "ClearChannel"
         ],
         "href": "/v2/networks/velo-antwerpen",
         "id": "velo-antwerpen",
         "location": {
          "city": "Antwerpen",
          "country": "BE",
          "latitude": 51.216667,
          "longitude": 4.4
         },
         "name": "Velo Antwerpen"
        },
        {
         "company": [
          "Comunicare S.r.l."
         ],
         "href": "/v2/networks/cuneo",
         "id": "cuneo",
         "location": {
          "city": "Cuneo",
          "country": "IT",
          "latitude": 44.384238,
          "longitude": 7.541428
         },
         "name": "Cuneo",
         "source": "https://www.bicincitta.com/frmLeStazioni.aspx?ID=39"
        },
        {
         "company": [
          "ClearChannel"
         ],
         "href": "/v2/networks/malmobybike",
         "id": "malmobybike",
         "location": {
          "city": "Malmö",
          "country": "SE",
          "latitude": 55.605,
          "longitude": 13.0038
         },
         "name": "Malmö by bike"
        },
        {
         "company": [
          "ClearChannel"
         ],
         "href": "/v2/networks/bicilascondes",
         "id": "bicilascondes",
         "location": {
          "city": "Las Condes",
          "country": "CL",
          "latitude": -33.401944,
          "longitude": -70.55
         },
         "name": "Bici las Condes"
        },
        {
         "company": "Empresa Municipal de Transportes de Madrid, S.A.",
         "href": "/v2/networks/bicimad",
         "id": "bicimad",
         "location": {
          "city": "Madrid",
          "country": "ES",
          "latitude": 40.4168,
          "longitude": -3.7038
         },
         "name": "BiciMAD"
        },
        {
         "company": [
          "Brainbox Technology",
          "Smoove SAS"
         ],
         "href": "/v2/networks/easybike-didymoteicho",
         "id": "easybike-didymoteicho",
         "location": {
          "city": "Didymoteicho",
          "country": "GR",
          "latitude": 41.3502539849,
          "longitude": 26.4972960949
         },
         "name": "EasyBike"
        },
        {
         "company": [
          "Comunicare S.r.l."
         ],
         "href": "/v2/networks/free-bike-sharing",
         "id": "free-bike-sharing",
         "location": {
          "city": "Frosinone",
          "country": "IT",
          "latitude": 41.645081,
          "longitude": 13.342123
         },
         "name": "FRee Bike sharing",
         "source": "https://www.bicincitta.com/frmLeStazioni.aspx?ID=53"
        },
        {
         "company": [
          "Brainbox Technology",
          "Smoove SAS"
         ],
         "href": "/v2/networks/easybike-glyfada",
         "id": "easybike-glyfada",
         "location": {
          "city": "Glyfada",
          "country": "GR",
          "latitude": 37.8715809825,
          "longitude": 23.7355544376
         },
         "name": "EasyBike"
        },
        {
         "company": [
          "Brainbox Technology",
          "Smoove SAS"
         ],
         "href": "/v2/networks/easybike-igoumenitsa",
         "id": "easybike-igoumenitsa",
         "location": {
          "city": "Igoumenitsa",
          "country": "GR",
          "latitude": 39.5005770633,
          "longitude": 20.2635206985
         },
         "name": "EasyBike"
        },
        {
         "company": [
          "Comunicare S.r.l."
         ],
         "href": "/v2/networks/lecce",
         "id": "lecce",
         "location": {
          "city": "Lecce",
          "country": "IT",
          "latitude": 40.35040350928062,
          "longitude": 18.177824020385742
         },
         "name": "lecce",
         "source": "https://www.bicincitta.com/frmLeStazioni.aspx?ID=159"
        },
        {
         "company": [
          "Brainbox Technology",
          "Smoove SAS"
         ],
         "href": "/v2/networks/easybike-ioannina",
         "id": "easybike-ioannina",
         "location": {
          "city": "Ioannina",
          "country": "GR",
          "latitude": 39.6639818,
          "longitude": 20.8522784
         },
         "name": "EasyBike"
        },
        {
         "company": [
          "Brainbox Technology",
          "Smoove SAS"
         ],
         "href": "/v2/networks/easybike-karditsa",
         "id": "easybike-karditsa",
         "location": {
          "city": "Karditsa",
          "country": "GR",
          "latitude": 39.3634604,
          "longitude": 21.9211192
         },
         "name": "EasyBike"
        },
        {
         "company": [
          "Comunicare S.r.l."
         ],
         "href": "/v2/networks/manerba-in-bici",
         "id": "manerba-in-bici",
         "location": {
          "city": "Manerba del Garda",
          "country": "IT",
          "latitude": 45.561179,
          "longitude": 10.559406
         },
         "name": "Manerba in Bici",
         "source": "https://www.bicincitta.com/frmLeStazioni.aspx?ID=102"
        },
        {
         "company": [
          "Brainbox Technology",
          "Smoove SAS"
         ],
         "href": "/v2/networks/easybike-kavala",
         "id": "easybike-kavala",
         "location": {
          "city": "Kavala",
          "country": "GR",
          "latitude": 40.9369068,
          "longitude": 24.4122164
         },
         "name": "EasyBike"
        },
        {
         "company": [
          "Brainbox Technology",
          "Smoove SAS"
         ],
         "href": "/v2/networks/easybike-kinouria",
         "id": "easybike-kinouria",
         "location": {
          "city": "Kinouria",
          "country": "GR",
          "latitude": 37.1476704305,
          "longitude": 22.8933729935
         },
         "name": "EasyBike"
        },
        {
         "company": [
          "Brainbox Technology",
          "Smoove SAS"
         ],
         "href": "/v2/networks/easybike-komotini",
         "id": "easybike-komotini",
         "location": {
          "city": "Komotini",
          "country": "GR",
          "latitude": 41.117833,
          "longitude": 25.4041307
         },
         "name": "EasyBike"
        },
        {
         "company": [
          "Brainbox Technology",
          "Smoove SAS"
         ],
         "href": "/v2/networks/easybike-patra",
         "id": "easybike-patra",
         "location": {
          "city": "Patra",
          "country": "GR",
          "latitude": 38.2410966371,
          "longitude": 21.7259683418
         },
         "name": "EasyBike"
        },
        {
         "company": [
          "Comunicare S.r.l."
         ],
         "href": "/v2/networks/mar-e-bici",
         "id": "mar-e-bici",
         "location": {
          "city": "Marciana Marina",
          "country": "IT",
          "latitude": 42.805855,
          "longitude": 10.196514
         },
         "name": "Mar e Bici",
         "source": "https://www.bicincitta.com/frmLeStazioni.aspx?ID=90"
        },
        {
         "company": [
          "Brainbox Technology",
          "Smoove SAS"
         ],
         "href": "/v2/networks/easybike-rethymno",
         "id": "easybike-rethymno",
         "location": {
          "city": "Rethymno",
          "country": "GR",
          "latitude": 35.3667571777,
          "longitude": 24.4832845736
         },
         "name": "EasyBike"
        },
        {
         "company": [
          "Brainbox Technology",
          "Smoove SAS"
         ],
         "href": "/v2/networks/easybike-samos",
         "id": "easybike-samos",
         "location": {
          "city": "Samos",
          "country": "GR",
          "latitude": 37.754065919,
          "longitude": 26.9787850189
         },
         "name": "EasyBike"
        },
        {
         "company": [
          "Comunicare S.r.l."
         ],
         "href": "/v2/networks/novara",
         "id": "novara",
         "location": {
          "city": "Novara",
          "country": "IT",
          "latitude": 45.44574,
          "longitude": 8.622165
         },
         "name": "Novara",
         "source": "https://www.bicincitta.com/frmLeStazioni.aspx?ID=131"
        },
        {
         "company": [
          "Brainbox Technology",
          "Smoove SAS"
         ],
         "href": "/v2/networks/easybike-nicosia",
         "id": "easybike-nicosia",
         "location": {
          "city": "Nicosia",
          "country": "CY",
          "latitude": 35.1739302,
          "longitude": 33.364726
         },
         "name": "EasyBike"
        },
        {
         "company": [
          "Brainbox Technology",
          "Smoove SAS"
         ],
         "href": "/v2/networks/easybike-mani",
         "id": "easybike-mani",
         "location": {
          "city": "Mani",
          "country": "GR",
          "latitude": 41.4097472,
          "longitude": 26.4024952
         },
         "name": "EasyBike"
        },
        {
         "company": [
          "Brainbox Technology",
          "Smoove SAS"
         ],
         "href": "/v2/networks/easybike-irakleio",
         "id": "easybike-irakleio",
         "location": {
          "city": "Irakleio",
          "country": "GR",
          "latitude": 35.338735,
          "longitude": 25.144213
         },
         "name": "EasyBike"
        },
        {
         "company": [
          "Brainbox Technology",
          "Smoove SAS"
         ],
         "href": "/v2/networks/thessbike",
         "id": "thessbike",
         "location": {
          "city": "Thessaloniki",
          "country": "GR",
          "latitude": 40.6403167,
          "longitude": 22.9352716
         },
         "name": "ThessBike"
        },
        {
         "company": [
          "Brainbox Technology",
          "Smoove SAS"
         ],
         "href": "/v2/networks/athens-bikes",
         "id": "athens-bikes",
         "location": {
          "city": "Athens",
          "country": "GR",
          "latitude": 37.9838,
          "longitude": 23.7275
         },
         "name": "AthensBikes"
        },
        {
         "company": [
          "Comunicare S.r.l."
         ],
         "href": "/v2/networks/goodbike",
         "id": "goodbike",
         "location": {
          "city": "Padova",
          "country": "IT",
          "latitude": 45.4064349,
          "longitude": 11.8767611
         },
         "name": "GoodBike",
         "source": "http://www.goodbikepadova.it/frmLeStazioni.aspx?ID=59"
        },
        {
         "company": [
          "PegBike"
         ],
         "href": "/v2/networks/ciclosampa",
         "id": "ciclosampa",
         "location": {
          "city": "São Paulo",
          "country": "BR",
          "latitude": -23.55,
          "longitude": -46.6333
         },
         "name": "CicloSampa"
        },
        {
         "company": null,
         "gbfs_href": "https://acoruna.publicbikesystem.net/customer/gbfs/v2/gbfs.json",
         "href": "/v2/networks/bicicorunha",
         "id": "bicicorunha",
         "location": {
          "city": "A Coruña",
          "country": "ES",
          "latitude": 43.3623,
          "longitude": -8.4115
         },
         "name": "Bicicoruña"
        },
        {
         "company": [
          "Tuimil S.A."
         ],
         "href": "/v2/networks/bici-ferrol-terra",
         "id": "bici-ferrol-terra",
         "location": {
          "city": "Ferrol - Narón",
          "country": "ES",
          "latitude": 43.4896,
          "longitude": -8.2193
         },
         "name": "BiciFerrolTerra"
        },
        {
         "company": [
          "Social Bicycles Inc."
         ],
         "gbfs_href": "http://curtinbikeshare.com/opendata/gbfs.json",
         "href": "/v2/networks/curtin-bike-share",
         "id": "curtin-bike-share",
         "location": {
          "city": "Curtin University, Perth, WA",
          "country": "AU",
          "latitude": -32.0034172153127,
          "longitude": 115.89431270956993
         },
         "name": "Curtin Bike Share"
        },
        {
         "company": [
          "Social Bicycles Inc."
         ],
         "gbfs_href": "https://monashbikeshare.com/opendata/gbfs.json",
         "href": "/v2/networks/monash-bikeshare",
         "id": "monash-bikeshare",
         "location": {
          "city": "Melbourne, AU",
          "country": "AU",
          "latitude": -37.91238410208696,
          "longitude": 145.1362281292677
         },
         "name": "Monash BikeShare"
        },
        {
         "company": [
          "Comunicare S.r.l."
         ],
         "href": "/v2/networks/mimuovofe",
         "id": "mimuovofe",
         "location": {
          "city": "Ferrara",
          "country": "IT",
          "latitude": 44.8350382,
          "longitude": 11.6240562
         },
         "name": "Mi Muovo in Bici",
         "source": "http://www.mimuovoinbici.it/frmLeStazioni.aspx?ID=142"
        },
        {
         "company": [
          "Motivate International, Inc.",
          "PBSC Urban Solutions",
          "BIXI Montréal"
         ],
         "ebikes": true,
         "gbfs_href": "https://gbfs.velobixi.com/gbfs/gbfs.json",
         "href": "/v2/networks/bixi-montreal",
         "id": "bixi-montreal",
         "location": {
          "city": "Montréal, QC",
          "country": "CA",
          "latitude": 45.508693,
          "longitude": -73.553928
         },
         "name": "Bixi"
        },
        {
         "company": [
          "Comunicare S.r.l."
         ],
         "href": "/v2/networks/parma",
         "id": "parma",
         "location": {
          "city": "Parma",
          "country": "IT",
          "latitude": 44.801485,
          "longitude": 10.3279036
         },
         "name": "Mi Muovo in Bici",
         "source": "http://www.mimuovoinbici.it/frmLeStazioni.aspx?ID=58"
        },
        {
         "company": [
          "Motivate International, Inc.",
          "PBSC Urban Solutions"
         ],
         "gbfs_href": "https://tor.publicbikesystem.net/ube/gbfs/v1/",
         "href": "/v2/networks/bixi-toronto",
         "id": "bixi-toronto",
         "location": {
          "city": "Toronto, ON",
          "country": "CA",
          "latitude": 43.653226,
          "longitude": -79.3831843
         },
         "name": "Bike Share Toronto"
        },
        {
         "company": [
          "Social Bicycles Inc."
         ],
         "gbfs_href": "https://hamilton.socialbicycles.com/opendata/gbfs.json",
         "href": "/v2/networks/sobi-hamilton",
         "id": "sobi-hamilton",
         "location": {
          "city": "Hamilton, ON",
          "country": "CA",
          "latitude": 43.25643601915583,
          "longitude": -79.86929655075073
         },
         "name": "SoBi"
        },
        {
         "company": [
          "Clean Energy Coalition",
          "BCycle, LLC"
         ],
         "gbfs_href": "https://gbfs.bcycle.com/bcycle_arborbike/gbfs.json",
         "href": "/v2/networks/arborbike",
         "id": "arborbike",
         "location": {
          "city": "Ann Arbor, MI",
          "country": "US",
          "latitude": 42.27853,
          "longitude": -83.74536
         },
         "name": "ArborBike"
        },
        {
         "company": [
          "Comunicare S.r.l."
         ],
         "href": "/v2/networks/pavia-in-bici",
         "id": "pavia-in-bici",
         "location": {
          "city": "Pavia",
          "country": "IT",
          "latitude": 45.1847248,
          "longitude": 9.1582069
         },
         "name": "Pavia in bici",
         "source": "https://www.bicincitta.com/frmLeStazioni.aspx?ID=45"
        },
        {
         "company": [
          "Comunicare S.r.l."
         ],
         "href": "/v2/networks/bici-perugia",
         "id": "bici-perugia",
         "location": {
          "city": "Perugia",
          "country": "IT",
          "latitude": 43.1107168,
          "longitude": 12.3908279
         },
         "name": "Bici Perugia",
         "source": "https://www.bicincitta.com/frmLeStazioni.aspx?ID=122"
        },
        {
         "company": [
          "BCycle, LLC"
         ],
         "gbfs_href": "https://gbfs.bcycle.com/bcycle_austin/gbfs.json",
         "href": "/v2/networks/austin",
         "id": "austin",
         "location": {
          "city": "Austin, TX",
          "country": "US",
          "latitude": 30.26408,
          "longitude": -97.74355
         },
         "name": "Austin B-cycle"
        },
        {
         "company": [
          "Motivate International, Inc",
          "PBSC"
         ],
         "ebikes": true,
         "gbfs_href": "https://chat.publicbikesystem.net/ube/gbfs/v1/",
         "href": "/v2/networks/bike-chattanooga",
         "id": "bike-chattanooga",
         "location": {
          "city": "Chattanooga, TN",
          "country": "US",
          "latitude": 35.0456297,
          "longitude": -85.3096801
         },
         "name": "Bike Chattanooga"
        },
        {
         "company": [
          "Comunicare S.r.l."
         ],
         "href": "/v2/networks/piacenza",
         "id": "piacenza",
         "location": {
          "city": "Piacenza",
          "country": "IT",
          "latitude": 45.0473754,
          "longitude": 9.6865813
         },
         "name": "Mi Muovo in Bici",
         "source": "http://www.mimuovoinbici.it/frmLeStazioni.aspx?ID=148"
        },
        {
         "company": [
          "Comunicare S.r.l."
         ],
         "href": "/v2/networks/pinerolo",
         "id": "pinerolo",
         "location": {
          "city": "Pinerolo",
          "country": "IT",
          "latitude": 44.8850256,
          "longitude": 7.3499953
         },
         "name": "Pinerolo",
         "source": "https://www.bicincitta.com/frmLeStazioni.aspx?ID=71"
        },
        {
         "company": [
          "Portland Bureau of Transportation (PBOT)",
          "Motivate International, Inc",
          "Social Bicycles Inc."
         ],
         "gbfs_href": "http://biketownpdx.socialbicycles.com/opendata/gbfs.json",
         "href": "/v2/networks/biketown",
         "id": "biketown",
         "location": {
          "city": "Portland, OR",
          "country": "US",
          "latitude": 45.52175423291714,
          "longitude": -122.68107935786247
         },
         "name": "BIKETOWN"
        },
        {
         "company": [
          "Comunicare S.r.l."
         ],
         "href": "/v2/networks/reggio-emilia",
         "id": "reggio-emilia",
         "location": {
          "city": "Reggio Emilia",
          "country": "IT",
          "latitude": 44.6989932,
          "longitude": 10.6296859
         },
         "name": "Mi Muovo in Bici",
         "source": "http://www.mimuovoinbici.it/frmLeStazioni.aspx?ID=155"
        },
        {
         "company": [
          "CycleHop, LLC",
          "Social Bicycles Inc."
         ],
         "gbfs_href": "http://britebikes.socialbicycles.com/opendata/gbfs.json",
         "href": "/v2/networks/britebikes",
         "id": "britebikes",
         "location": {
          "city": "San Ramon, CA",
          "country": "US",
          "latitude": 37.759444753878,
          "longitude": -121.955134881881
         },
         "name": "BRiteBikes"
        },
        {
         "company": [
          "ValleyRide",
          "Social Bicycles Inc."
         ],
         "gbfs_href": "http://boise.greenbike.com/opendata/gbfs.json",
         "href": "/v2/networks/boise-greenbike",
         "id": "boise-greenbike",
         "location": {
          "city": "Boise, ID",
          "country": "US",
          "latitude": 43.6153060610528,
          "longitude": -116.201761349309
         },
         "name": "Boise GreenBike"
        },
        {
         "company": [
          "BCycle, LLC"
         ],
         "gbfs_href": "https://gbfs.bcycle.com/bcycle_boulder/gbfs.json",
         "href": "/v2/networks/boulder",
         "id": "boulder",
         "location": {
          "city": "Boulder, CO",
          "country": "US",
          "latitude": 40.00811,
          "longitude": -105.26385
         },
         "name": "Boulder B-cycle"
        },
        {
         "company": [
          "CycleHop, LLC",
          "Social Bicycles Inc."
         ],
         "gbfs_href": "http://santamonicabikeshare.com/opendata/gbfs.json",
         "href": "/v2/networks/breeze-bike-share",
         "id": "breeze-bike-share",
         "location": {
          "city": "Santa Monica, CA",
          "country": "US",
          "latitude": 34.01780925008178,
          "longitude": -118.4965717792511
         },
         "name": "Breeze Bike Share"
        },
        {
         "company": [
          "Comunicare S.r.l."
         ],
         "href": "/v2/networks/rimini",
         "id": "rimini",
         "location": {
          "city": "Rimini",
          "country": "IT",
          "latitude": 44.0570817,
          "longitude": 12.5646003
         },
         "name": "Mi Muovo in Bici",
         "source": "http://www.mimuovoinbici.it/frmLeStazioni.aspx?ID=149"
        },
        {
         "company": [
          "BCycle, LLC"
         ],
         "gbfs_href": "https://gbfs.bcycle.com/bcycle_broward/gbfs.json",
         "href": "/v2/networks/broward",
         "id": "broward",
         "location": {
          "city": "Fort Lauderdale, FL",
          "country": "US",
          "latitude": 26.12026,
          "longitude": -80.14819
         },
         "name": "Broward B-cycle"
        },
        {
         "company": [
          "BCycle, LLC"
         ],
         "gbfs_href": "https://gbfs.bcycle.com/bcycle_bublr/gbfs.json",
         "href": "/v2/networks/bublr-bikes",
         "id": "bublr-bikes",
         "location": {
          "city": "Milwaukee, WI",
          "country": "US",
          "latitude": 43.0369,
          "longitude": -87.89667
         },
         "name": "Bublr Bikes"
        },
        {
         "company": [
          "Shared Mobility Inc.",
          "Social Bicycles Inc."
         ],
         "gbfs_href": "https://reddybikeshare.socialbicycles.com/opendata/gbfs.json",
         "href": "/v2/networks/reddy-bike-share",
         "id": "reddy-bike-share",
         "location": {
          "city": "Buffalo, NY",
          "country": "US",
          "latitude": 42.89373841865211,
          "longitude": -78.8718044757843
         },
         "name": "Reddy Bike Share"
        },
        {
         "company": [
          "Motivate International, Inc.",
          "PBSC Urban Solutions"
         ],
         "ebikes": true,
         "gbfs_href": "https://gbfs.capitalbikeshare.com/gbfs/gbfs.json",
         "href": "/v2/networks/capital-bikeshare",
         "id": "capital-bikeshare",
         "location": {
          "city": "Washington, DC",
          "country": "US",
          "latitude": 38.8967584,
          "longitude": -77.03701629999999
         },
         "name": "Capital BikeShare"
        },
        {
         "company": [
          "BCycle, LLC"
         ],
         "gbfs_href": "https://gbfs.bcycle.com/bcycle_charlotte/gbfs.json",
         "href": "/v2/networks/charlotte",
         "id": "charlotte",
         "location": {
          "city": "Charlotte, NC",
          "country": "US",
          "latitude": 35.22716,
          "longitude": -80.83855
         },
         "name": "Charlotte B-cycle"
        },
        {
         "company": [
          "Comunicare S.r.l."
         ],
         "href": "/v2/networks/saluzzo",
         "id": "saluzzo",
         "location": {
          "city": "Saluzzo",
          "country": "IT",
          "latitude": 44.6445404,
          "longitude": 7.492735499999999
         },
         "name": "Saluzzo",
         "source": "https://www.bicincitta.com/frmLeStazioni.aspx?ID=51"
        },
        {
         "company": [
          "BCycle, LLC"
         ],
         "gbfs_href": "https://gbfs.bcycle.com/bcycle_cincyredbike/gbfs.json",
         "href": "/v2/networks/cincy-red-bike",
         "id": "cincy-red-bike",
         "location": {
          "city": "Cincinnati, OH",
          "country": "US",
          "latitude": 39.10138,
          "longitude": -84.51217
         },
         "name": "Cincy Red Bike"
        },
        {
         "company": [
          "Comunicare S.r.l."
         ],
         "href": "/v2/networks/savigliano",
         "id": "savigliano",
         "location": {
          "city": "Savigliano",
          "country": "IT",
          "latitude": 44.6470327,
          "longitude": 7.662463499999999
         },
         "name": "Savigliano",
         "source": "https://www.bicincitta.com/frmLeStazioni.aspx?ID=52"
        },
        {
         "company": [
          "NYC Bike Share, LLC",
          "Motivate International, Inc.",
          "PBSC Urban Solutions"
         ],
         "ebikes": true,
         "gbfs_href": "https://gbfs.citibikenyc.com/gbfs/gbfs.json",
         "href": "/v2/networks/citi-bike-nyc",
         "id": "citi-bike-nyc",
         "location": {
          "city": "New York, NY",
          "country": "US",
          "latitude": 40.7143528,
          "longitude": -74.00597309999999
         },
         "name": "Citi Bike"
        },
        {
         "company": [
          "CycleHop, LLC"
         ],
         "gbfs_href": "https://gbfs.hopr.city/api/gbfs/8/",
         "href": "/v2/networks/coast-bike-share",
         "id": "coast-bike-share",
         "location": {
          "city": "Tampa, FL",
          "country": "US",
          "latitude": 27.9627193250593,
          "longitude": -82.438056400783
         },
         "name": "Coast Bike Share"
        },
        {
         "company": [
          "Comunicare S.r.l."
         ],
         "href": "/v2/networks/terni",
         "id": "terni",
         "location": {
          "city": "Terni",
          "country": "IT",
          "latitude": 42.5636168,
          "longitude": 12.6426604
         },
         "name": "Terni",
         "source": "https://www.bicincitta.com/frmLeStazioni.aspx?ID=134"
        },
        {
         "company": [
          "Motivate International, Inc.",
          "PBSC Urban Solutions"
         ],
         "ebikes": true,
         "gbfs_href": "https://gbfs.cogobikeshare.com/gbfs/gbfs.json",
         "href": "/v2/networks/cogo",
         "id": "cogo",
         "location": {
          "city": "Columbus, OH",
          "country": "US",
          "latitude": 39.983333,
          "longitude": -82.983333
         },
         "name": "CoGo"
        },
        {
         "company": [
          "BCycle, LLC"
         ],
         "gbfs_href": "https://gbfs.bcycle.com/bcycle_denver/gbfs.json",
         "href": "/v2/networks/denver",
         "id": "denver",
         "location": {
          "city": "Denver, CO",
          "country": "US",
          "latitude": 39.72055,
          "longitude": -104.95253
         },
         "name": "Denver B-cycle"
        },
        {
         "company": [
          "Motivate International, Inc.",
          "PBSC Urban Solutions"
         ],
         "ebikes": true,
         "gbfs_href": "https://gbfs.divvybikes.com/gbfs/gbfs.json",
         "href": "/v2/networks/divvy",
         "id": "divvy",
         "location": {
          "city": "Chicago, IL",
          "country": "US",
          "latitude": 41.8781136,
          "longitude": -87.6297982
         },
         "name": "Divvy"
        },
        {
         "company": [
          "Comunicare S.r.l."
         ],
         "href": "/v2/networks/tirano-in-bici",
         "id": "tirano-in-bici",
         "location": {
          "city": "Tirano",
          "country": "IT",
          "latitude": 46.216168,
          "longitude": 10.1696056
         },
         "name": "Tirano in Bici",
         "source": "https://www.bicincitta.com/frmLeStazioni.aspx?ID=141"
        },
        {
         "company": [
          "BCycle, LLC"
         ],
         "gbfs_href": "https://gbfs.bcycle.com/bcycle_elpaso/gbfs.json",
         "href": "/v2/networks/elpaso",
         "id": "elpaso",
         "location": {
          "city": "El Paso, TX",
          "country": "US",
          "latitude": 31.76148,
          "longitude": -106.48507
         },
         "name": "El Paso B-cycle"
        },
        {
         "company": [
          "BCycle, LLC"
         ],
         "gbfs_href": "https://gbfs.bcycle.com/bcycle_fortworth/gbfs.json",
         "href": "/v2/networks/fortworth",
         "id": "fortworth",
         "location": {
          "city": "Fort Worth, TX",
          "country": "US",
          "latitude": 32.7516,
          "longitude": -97.32888
         },
         "name": "Fort Worth Bike Sharing"
        },
        {
         "company": [
          "Comunicare S.r.l."
         ],
         "href": "/v2/networks/udine",
         "id": "udine",
         "location": {
          "city": "Udine",
          "country": "IT",
          "latitude": 46.0710668,
          "longitude": 13.2345794
         },
         "name": "Udine",
         "source": "https://www.bicincitta.com/frmLeStazioni.aspx?ID=126"
        },
        {
         "company": [
          "BCycle, LLC"
         ],
         "gbfs_href": "https://gbfs.bcycle.com/bcycle_greatrides/gbfs.json",
         "href": "/v2/networks/greatrides",
         "id": "greatrides",
         "location": {
          "city": "Fargo, ND",
          "country": "US",
          "latitude": 46.89248,
          "longitude": -96.80095
         },
         "name": "Great Rides Bike Share"
        },
        {
         "company": [
          "BCycle, LLC"
         ],
         "gbfs_href": "https://gbfs.bcycle.com/bcycle_greenbikeslc/gbfs.json",
         "href": "/v2/networks/greenbikeslc",
         "id": "greenbikeslc",
         "location": {
          "city": "Salt Lake City",
          "country": "US",
          "latitude": 40.76745,
          "longitude": -111.88736
         },
         "name": "GREENbike"
        },
        {
         "company": [
          "CycleHop, LLC",
          "Social Bicycles Inc."
         ],
         "gbfs_href": "https://grid.socialbicycles.com/opendata/gbfs.json",
         "href": "/v2/networks/grid-bike-share",
         "id": "grid-bike-share",
         "location": {
          "city": "Phoenix, AZ",
          "country": "US",
          "latitude": 33.4591031356657,
          "longitude": -112.074010667085
         },
         "name": "Grid Bike Share"
        },
        {
         "company": [
          "BCycle, LLC"
         ],
         "gbfs_href": "https://gbfs.bcycle.com/bcycle_heartland/gbfs.json",
         "href": "/v2/networks/omaha",
         "id": "omaha",
         "location": {
          "city": "Omaha, NE",
          "country": "US",
          "latitude": 41.25832,
          "longitude": -96.00853
         },
         "name": "Heartland B-cycle"
        },
        {
         "company": [
          "BCycle, LLC"
         ],
         "gbfs_href": "https://gbfs.bcycle.com/bcycle_houston/gbfs.json",
         "href": "/v2/networks/houston",
         "id": "houston",
         "location": {
          "city": "Houston, TX",
          "country": "US",
          "latitude": 29.75983,
          "longitude": -95.36949
         },
         "name": "Houston B-cycle"
        },
        {
         "company": [
          "Motivate International, Inc.",
          "PBSC Urban Solutions"
         ],
         "ebikes": true,
         "gbfs_href": "https://gbfs.bluebikes.com/gbfs/gbfs.json",
         "href": "/v2/networks/blue-bikes",
         "id": "blue-bikes",
         "location": {
          "city": "Boston, MA",
          "country": "US",
          "latitude": 42.3584308,
          "longitude": -71.0597732
         },
         "name": "Blue Bikes"
        },
        {
         "company": [
          "Comunicare S.r.l."
         ],
         "href": "/v2/networks/ustica",
         "id": "ustica",
         "location": {
          "city": "Ustica",
          "country": "IT",
          "latitude": 38.7031179,
          "longitude": 13.1682675
         },
         "name": "Ustica",
         "source": "https://www.bicincitta.com/frmLeStazioni.aspx?ID=138"
        },
        {
         "company": [
          "City of Philadelphia",
          "Bicycle Transit Systems",
          "BCycle, LLC"
         ],
         "gbfs_href": "https://gbfs.bcycle.com/bcycle_indego/gbfs.json",
         "href": "/v2/networks/indego",
         "id": "indego",
         "location": {
          "city": "Philadelphia, PA",
          "country": "US",
          "latitude": 39.95378,
          "longitude": -75.16374
         },
         "name": "Indego"
        },
        {
         "company": [
          "BCycle, LLC"
         ],
         "gbfs_href": "https://gbfs.bcycle.com/bcycle_pacersbikeshare/gbfs.json",
         "href": "/v2/networks/indiana-pacers-bikeshare",
         "id": "indiana-pacers-bikeshare",
         "location": {
          "city": "Indianapolis, IN",
          "country": "US",
          "latitude": 39.76593,
          "longitude": -86.16216
         },
         "name": "Indiana Pacers Bikeshare"
        },
        {
         "company": [
          "CycleHop, LLC",
          "Social Bicycles Inc."
         ],
         "gbfs_href": "https://juicebikeshare.com/opendata/gbfs.json",
         "href": "/v2/networks/juice-bike-share",
         "id": "juice-bike-share",
         "location": {
          "city": "Orlando, FL",
          "country": "US",
          "latitude": 28.536663311743688,
          "longitude": -81.37922197580338
         },
         "name": "Juice"
        },
        {
         "company": [
          "Comunicare S.r.l."
         ],
         "href": "/v2/networks/bici-co",
         "id": "bici-co",
         "location": {
          "city": "Como",
          "country": "IT",
          "latitude": 45.8080597,
          "longitude": 9.0851765
         },
         "name": "BICI&CO",
         "source": "https://www.bicincitta.com/frmLeStazioni.aspx?ID=157"
        },
        {
         "company": [
          "BCycle, LLC"
         ],
         "gbfs_href": "https://gbfs.bcycle.com/bcycle_kc/gbfs.json",
         "href": "/v2/networks/kansascity",
         "id": "kansascity",
         "location": {
          "city": "Kansas City, MO",
          "country": "US",
          "latitude": 39.0999,
          "longitude": -94.5857
         },
         "name": "B-cycle"
        },
        {
         "company": [
          "BCycle, LLC"
         ],
         "gbfs_href": "https://gbfs.bcycle.com/bcycle_linkdayton/gbfs.json",
         "href": "/v2/networks/linkdayton",
         "id": "linkdayton",
         "location": {
          "city": "Dayton, OH",
          "country": "US",
          "latitude": 39.75626,
          "longitude": -84.21119
         },
         "name": "Link"
        },
        {
         "company": [
          "BCycle, LLC"
         ],
         "gbfs_href": "https://gbfs.bcycle.com/bcycle_madison/gbfs.json",
         "href": "/v2/networks/madison",
         "id": "madison",
         "location": {
          "city": "Madison, WI",
          "country": "US",
          "latitude": 43.07571,
          "longitude": -89.38527
         },
         "name": "B-cycle"
        },
        {
         "company": [
          "Los Angeles County Metropolitan Transportation Authority (Metro)",
          "Bicycle Transit Systems",
          "BCycle, LLC"
         ],
         "gbfs_href": "https://gbfs.bcycle.com/bcycle_lametro/gbfs.json",
         "href": "/v2/networks/metro-bike-share",
         "id": "metro-bike-share",
         "location": {
          "city": "Los Angeles, CA",
          "country": "US",
          "latitude": 34.04855,
          "longitude": -118.25905
         },
         "name": "Metro Bike Share"
        },
        {
         "company": [
          "Mountain Rides",
          "Social Bicycles Inc."
         ],
         "gbfs_href": "http://mrbikeshare.org/opendata/gbfs.json",
         "href": "/v2/networks/mountain-rides-bike-share",
         "id": "mountain-rides-bike-share",
         "location": {
          "city": "Ketchum / Sun Valley, ID",
          "country": "US",
          "latitude": 43.5194695168239,
          "longitude": -114.317415758737
         },
         "name": "Mountain Rides Bike Share"
        },
        {
         "company": [
          "Nice Ride Minnesota",
          "Lyft"
         ],
         "gbfs_href": "https://gbfs.niceridemn.com/gbfs/gbfs.json",
         "href": "/v2/networks/nice-ride",
         "id": "nice-ride",
         "location": {
          "city": "Minneapolis, MN",
          "country": "US",
          "latitude": 44.983334,
          "longitude": -93.26666999999999
         },
         "name": "Nice Ride"
        },
        {
         "company": [
          "Comunicare S.r.l."
         ],
         "href": "/v2/networks/speziainbici",
         "id": "speziainbici",
         "location": {
          "city": "La Spezia",
          "country": "IT",
          "latitude": 44.1024504,
          "longitude": 9.824082599999999
         },
         "name": "Speziainbici",
         "source": "https://www.bicincitta.com/frmLeStazioni.aspx?ID=137"
        },
        {
         "company": [
          "BCycle, LLC"
         ],
         "gbfs_href": "https://gbfs.bcycle.com/bcycle_sanantonio/gbfs.json",
         "href": "/v2/networks/sanantonio",
         "id": "sanantonio",
         "location": {
          "city": "San Antonio, TX",
          "country": "US",
          "latitude": 29.43701,
          "longitude": -98.48236
         },
         "name": "SWell Cycle"
        },
        {
         "company": [
          "Social Bicycles Inc."
         ],
         "gbfs_href": "https://usf.socialbicycles.com/opendata/gbfs.json",
         "href": "/v2/networks/share-a-bull-bikes",
         "id": "share-a-bull-bikes",
         "location": {
          "city": "University of South Florida, FL",
          "country": "US",
          "latitude": 28.060548696070995,
          "longitude": -82.4076198041439
         },
         "name": "Share-a-Bull Bikes"
        },
        {
         "company": [
          "Comunicare S.r.l."
         ],
         "href": "/v2/networks/venezia",
         "id": "venezia",
         "location": {
          "city": "Venezia",
          "country": "IT",
          "latitude": 45.4408474,
          "longitude": 12.3155151
         },
         "name": "Venezia",
         "source": "https://www.bicincitta.com/frmLeStazioni.aspx?ID=93"
        },
        {
         "company": [
          "Social Bicycles Inc."
         ],
         "gbfs_href": "http://sobilongbeach.com/opendata/gbfs.json",
         "href": "/v2/networks/sobi-long-beach",
         "id": "sobi-long-beach",
         "location": {
          "city": "Long Beach, NY",
          "country": "US",
          "latitude": 40.5833058203002,
          "longitude": -73.6482682794673
         },
         "name": "SoBi"
        },
        {
         "company": [
          "BCycle, LLC"
         ],
         "gbfs_href": "https://gbfs.bcycle.com/bcycle_spartanburg/gbfs.json",
         "href": "/v2/networks/spartanburg",
         "id": "spartanburg",
         "location": {
          "city": "Spartanburg, SC",
          "country": "US",
          "latitude": 34.94867,
          "longitude": -81.93345
         },
         "name": "Spartanburg BCycle"
        },
        {
         "company": [
          "Topeka Metropolitan Transit Authority",
          "Social Bicycles Inc."
         ],
         "gbfs_href": "http://topekametrobikes.org/opendata/gbfs.json",
         "href": "/v2/networks/topeka-metro-bikes",
         "id": "topeka-metro-bikes",
         "location": {
          "city": "Topeka, KS",
          "country": "US",
          "latitude": 39.0337646098385,
          "longitude": -95.7027213202284
         },
         "name": "Topeka Metro Bikes"
        },
        {
         "company": [
          "Comunicare S.r.l."
         ],
         "href": "/v2/networks/to-bike",
         "id": "to-bike",
         "location": {
          "city": "Torino",
          "country": "IT",
          "latitude": 45.07098200000001,
          "longitude": 7.685676
         },
         "name": "[TO]BIKE",
         "source": "http://www.tobike.it/frmLeStazioni.aspx?ID=22"
        },
        {
         "company": [
          "Social Bicycles Inc."
         ],
         "gbfs_href": "http://ubike.virginia.edu/opendata/gbfs.json",
         "href": "/v2/networks/ubike",
         "id": "ubike",
         "location": {
          "city": "University of Virginia, VA",
          "country": "US",
          "latitude": 38.0357625021372,
          "longitude": -78.5072994363201
         },
         "name": "UBike"
        },
        {
         "company": [
          "CycleHop, LLC",
          "Social Bicycles Inc"
         ],
         "gbfs_href": "https://relaybikeshare.socialbicycles.com/opendata/gbfs.json",
         "href": "/v2/networks/relay-atlanta",
         "id": "relay-atlanta",
         "location": {
          "city": "Atlanta, GA",
          "country": "US",
          "latitude": 33.7627941119619,
          "longitude": -84.38727110624313
         },
         "name": "Relay Bike Share"
        },
        {
         "company": [
          "Tembici",
          "PBSC Urban Solutions"
         ],
         "gbfs_href": "https://rec.publicbikesystem.net/ube/gbfs/v1/",
         "href": "/v2/networks/bikerecife",
         "id": "bikerecife",
         "location": {
          "city": "Recife",
          "country": "BR",
          "latitude": -8.047129,
          "longitude": -34.873437
         },
         "name": "BikeRecife"
        },
        {
         "company": [
          "Tembici",
          "PBSC Urban Solutions"
         ],
         "gbfs_href": "https://saopaulo.publicbikesystem.net/ube/gbfs/v1/",
         "href": "/v2/networks/bikesampa",
         "id": "bikesampa",
         "location": {
          "city": "São Paulo",
          "country": "BR",
          "latitude": -23.55,
          "longitude": -46.6333
         },
         "name": "BikeSampa"
        },
        {
         "company": [
          "Tembici",
          "PBSC Urban Solutions"
         ],
         "gbfs_href": "https://riodejaneiro.publicbikesystem.net/ube/gbfs/v1/",
         "href": "/v2/networks/bikerio",
         "id": "bikerio",
         "location": {
          "city": "Rio de Janeiro",
          "country": "BR",
          "latitude": -22.904315,
          "longitude": -43.184776
         },
         "name": "BikeRio"
        },
        {
         "company": [
          "Tembici",
          "PBSC Urban Solutions"
         ],
         "gbfs_href": "https://salvador.publicbikesystem.net/ube/gbfs/v1/",
         "href": "/v2/networks/bikesalvador",
         "id": "bikesalvador",
         "location": {
          "city": "Salvador",
          "country": "BR",
          "latitude": -12.973959,
          "longitude": -38.508171
         },
         "name": "BikeSalvador"
        },
        {
         "company": [
          "Tembici",
          "PBSC Urban Solutions"
         ],
         "gbfs_href": "https://poa.publicbikesystem.net/ube/gbfs/v1/",
         "href": "/v2/networks/bikepoa",
         "id": "bikepoa",
         "location": {
          "city": "Porto Alegre",
          "country": "BR",
          "latitude": -30.033079,
          "longitude": -51.23654
         },
         "name": "BikePOA"
        },
        {
         "company": [
          "BKT bici publica S.A. de C.V.",
          "PBSC Urban Solutions"
         ],
         "gbfs_href": "https://guad.publicbikesystem.net/ube/gbfs/v1/",
         "href": "/v2/networks/mibici-guadalajara",
         "id": "mibici-guadalajara",
         "location": {
          "city": "Guadalajara",
          "country": "MX",
          "latitude": 20.6737883,
          "longitude": -103.3704325
         },
         "name": "MIBICI"
        },
        {
         "company": [
          "Your Bike",
          "Urban Sharing"
         ],
         "gbfs_href": "https://gbfs.urbansharing.com/edinburghcyclehire.com/gbfs.json",
         "href": "/v2/networks/edinburgh-cycle-hire",
         "id": "edinburgh-cycle-hire",
         "license": {
          "name": "OGL v3 license",
          "url": "http://www.nationalarchives.gov.uk/doc/open-government-licence/version/3/"
         },
         "location": {
          "city": "Edinburgh",
          "country": "UK",
          "latitude": 55.9411885,
          "longitude": -3.2753783
         },
         "name": "Just Eat Cycles"
        },
        {
         "company": [
          "PBSC",
          "Alta Bicycle Share, Inc"
         ],
         "gbfs_href": "https://gbfs.melbourne.8d.com/gbfs/gbfs.json",
         "href": "/v2/networks/melbourne-bike-share",
         "id": "melbourne-bike-share",
         "location": {
          "city": "Melbourne",
          "country": "AU",
          "latitude": -37.814107,
          "longitude": 144.96328
         },
         "name": "Melbourne Bike Share"
        },
        {
         "company": [
          "PBSC Urban Solutions"
         ],
         "gbfs_href": "https://valencefr.publicbikesystem.net/ube/gbfs/v1/",
         "href": "/v2/networks/libelo",
         "id": "libelo",
         "location": {
          "city": "Valence",
          "country": "FR",
          "latitude": 44.922726,
          "longitude": 4.905634
         },
         "name": "Libélo"
        },
        {
         "company": [
          "Tembici",
          "PBSC Urban Solutions"
         ],
         "gbfs_href": "https://santiago.publicbikesystem.net/ube/gbfs/v1/",
         "href": "/v2/networks/bikesantiago",
         "id": "bikesantiago",
         "location": {
          "city": "Santiago",
          "country": "CL",
          "latitude": -33.45,
          "longitude": -70.67
         },
         "name": "BikeSantiago"
        },
        {
         "company": null,
         "gbfs_href": "https://gbfs.urbansharing.com/oslobysykkel.no/gbfs.json",
         "href": "/v2/networks/oslo-bysykkel",
         "id": "oslo-bysykkel",
         "location": {
          "city": "Oslo",
          "country": "NO",
          "latitude": 59.913869,
          "longitude": 10.752245
         },
         "name": "Bysykkel"
        },
        {
         "company": null,
         "gbfs_href": "https://gbfs.urbansharing.com/bergenbysykkel.no/gbfs.json",
         "href": "/v2/networks/bergen-bysykkel",
         "id": "bergen-bysykkel",
         "location": {
          "city": "Bergen",
          "country": "NO",
          "latitude": 60.391263,
          "longitude": 5.322054
         },
         "name": "Bysykkel"
        },
        {
         "company": null,
         "gbfs_href": "https://gbfs.urbansharing.com/trondheimbysykkel.no/gbfs.json",
         "href": "/v2/networks/trondheim-bysykkel",
         "id": "trondheim-bysykkel",
         "location": {
          "city": "Trondheim",
          "country": "NO",
          "latitude": 63.4307238,
          "longitude": 10.3936781
         },
         "name": "Bysykkel"
        },
        {
         "company": [
          "Keolis",
          "Rennes Metropole"
         ],
         "href": "/v2/networks/le-velo-star",
         "id": "le-velo-star",
         "location": {
          "city": "Rennes",
          "country": "FR",
          "latitude": 48.114167,
          "longitude": -1.680833
         },
         "name": "LE vélo Star",
         "source": "https://data.explore.star.fr/explore/dataset/vls-stations-etat-tr/"
        },
        {
         "company": [
          "Keolis Bordeaux Métropole"
         ],
         "ebikes": true,
         "href": "/v2/networks/v3-bordeaux",
         "id": "v3-bordeaux",
         "location": {
          "city": "Bordeaux",
          "country": "FR",
          "latitude": 44.837789,
          "longitude": -0.57918
         },
         "name": "V³"
        },
        {
         "company": [
          "Keolis"
         ],
         "href": "/v2/networks/vlille",
         "id": "vlille",
         "location": {
          "city": "Lille",
          "country": "FR",
          "latitude": 50.62925,
          "longitude": 3.057256
         },
         "name": "V'Lille",
         "source": "https://opendata.lillemetropole.fr/explore/dataset/vlille-realtime/"
        },
        {
         "company": [
          "Keolis",
          "STAP"
         ],
         "href": "/v2/networks/idecycle",
         "id": "idecycle",
         "location": {
          "city": "Pau",
          "country": "FR",
          "latitude": 43.2951,
          "longitude": -0.370797
         },
         "name": "IDECycle"
        },
        {
         "company": [
          "Labici Bicicletas Públicas SL"
         ],
         "href": "/v2/networks/bicialtea",
         "id": "bicialtea",
         "location": {
          "city": "Altea",
          "country": "ES",
          "latitude": 38.6029075,
          "longitude": -0.0450666
         },
         "name": "Bicialtea"
        },
        {
         "company": [
          "Labici Bicicletas Públicas SL"
         ],
         "href": "/v2/networks/bicidorm",
         "id": "bicidorm",
         "location": {
          "city": "Benidorm",
          "country": "ES",
          "latitude": 38.5410566,
          "longitude": -0.1224937
         },
         "name": "Bicidorm"
        },
        {
         "company": [
          "Labici Bicicletas Públicas SL"
         ],
         "href": "/v2/networks/saforbici",
         "id": "saforbici",
         "location": {
          "city": "Gandía",
          "country": "ES",
          "latitude": 38.968032,
          "longitude": -0.1844671
         },
         "name": "SaforBici"
        },
        {
         "company": [
          "Comunicare S.r.l."
         ],
         "href": "/v2/networks/ciclopi",
         "id": "ciclopi",
         "location": {
          "city": "Pisa",
          "country": "IT",
          "latitude": 43.7228386,
          "longitude": 10.4016888
         },
         "name": "Ciclopi",
         "source": "https://www.bicincitta.com/frmLeStazioni.aspx?ID=144"
        },
        {
         "company": [
          "Labici Bicicletas Públicas SL"
         ],
         "href": "/v2/networks/gbici",
         "id": "gbici",
         "location": {
          "city": "Getafe",
          "country": "ES",
          "latitude": 40.3082504,
          "longitude": -3.7323934
         },
         "name": "Gbici"
        },
        {
         "company": [
          "Labici Bicicletas Públicas SL"
         ],
         "href": "/v2/networks/muybici",
         "id": "muybici",
         "location": {
          "city": "Murcia",
          "country": "ES",
          "latitude": 37.9922399,
          "longitude": -1.1306544
         },
         "name": "MuyBici"
        },
        {
         "company": [
          "Labici Bicicletas Públicas SL"
         ],
         "href": "/v2/networks/ponfemobi",
         "id": "ponfemobi",
         "location": {
          "city": "Ponferrada",
          "country": "ES",
          "latitude": 42.5499958,
          "longitude": -6.598259000000001
         },
         "name": "PonfeMobi"
        },
        {
         "company": [
          "Labici Bicicletas Públicas SL"
         ],
         "href": "/v2/networks/vaibike",
         "id": "vaibike",
         "location": {
          "city": "Vilagarcía de Arousa",
          "country": "ES",
          "latitude": 42.5999265,
          "longitude": -8.7885744
         },
         "name": "VaiBike"
        },
        {
         "company": [
          "Comunicare S.r.l."
         ],
         "href": "/v2/networks/cagliari",
         "id": "cagliari",
         "location": {
          "city": "Cagliari",
          "country": "IT",
          "latitude": 39.220817,
          "longitude": 9.121399
         },
         "name": "Cagliari",
         "source": "https://www.bicincitta.com/frmLeStazioni.aspx?ID=177"
        },
        {
         "company": [
          "Buenos Aires Ciudad"
         ],
         "gbfs_href": "https://apitransporte.buenosaires.gob.ar/ecobici/gbfs/",
         "href": "/v2/networks/ecobici-buenos-aires",
         "id": "ecobici-buenos-aires",
         "license": {
          "name": "Open Data Commons Open Database License 1.0 (ODbL)",
          "url": "https://opendatacommons.org/licenses/odbl/"
         },
         "location": {
          "city": "Buenos Aires",
          "country": "AR",
          "latitude": -34.630665,
          "longitude": -58.41156
         },
         "name": "Ecobici",
         "source": "https://www.buenosaires.gob.ar/desarrollourbano/transporte/apitransporte"
        },
        {
         "company": [
          "EMEL"
         ],
         "href": "/v2/networks/gira",
         "id": "gira",
         "location": {
          "city": "Lisbon",
          "country": "PT",
          "latitude": 38.724954,
          "longitude": -9.149334
         },
         "name": "Gira"
        },
        {
         "company": [
          "Comunicare S.r.l."
         ],
         "href": "/v2/networks/gimme-bike",
         "id": "gimme-bike",
         "location": {
          "city": "Varese",
          "country": "IT",
          "latitude": 45.8183902,
          "longitude": 8.823913
         },
         "name": "Gimme Bike",
         "source": "https://www.bicincitta.com/frmLeStazioni.aspx?ID=50"
        },
        {
         "company": [
          "JCDecaux"
         ],
         "href": "/v2/networks/cyclic",
         "id": "cyclic",
         "license": {
          "name": "Open Licence",
          "url": "https://developer.jcdecaux.com/#/opendata/licence"
         },
         "location": {
          "city": "Rouen",
          "country": "FR",
          "latitude": 49.44323199999999,
          "longitude": 1.099971
         },
         "name": "cy'clic",
         "source": "https://developer.jcdecaux.com"
        },
        {
         "company": [
          "JCDecaux"
         ],
         "href": "/v2/networks/velo",
         "id": "velo",
         "license": {
          "name": "Open Licence",
          "url": "https://developer.jcdecaux.com/#/opendata/licence"
         },
         "location": {
          "city": "Toulouse",
          "country": "FR",
          "latitude": 43.604652,
          "longitude": 1.444209
         },
         "name": "Vélô",
         "source": "https://developer.jcdecaux.com"
        },
        {
         "company": [
          "JCDecaux"
         ],
         "href": "/v2/networks/veloh",
         "id": "veloh",
         "license": {
          "name": "Open Licence",
          "url": "https://developer.jcdecaux.com/#/opendata/licence"
         },
         "location": {
          "city": "Luxembourg",
          "country": "LU",
          "latitude": 49.6301025,
          "longitude": 6.1520185
         },
         "name": "Veloh",
         "source": "https://developer.jcdecaux.com"
        },
        {
         "company": [
          "JCDecaux"
         ],
         "href": "/v2/networks/valenbisi",
         "id": "valenbisi",
         "license": {
          "name": "Open Licence",
          "url": "https://developer.jcdecaux.com/#/opendata/licence"
         },
         "location": {
          "city": "Valencia",
          "country": "ES",
          "latitude": 39.4699075,
          "longitude": -0.3762881
         },
         "name": "Valenbisi",
         "source": "https://developer.jcdecaux.com"
        },
        {
         "company": [
          "Comunicare S.r.l."
         ],
         "href": "/v2/networks/sellero",
         "id": "sellero",
         "location": {
          "city": "Sellero",
          "country": "IT",
          "latitude": 46.06304765446406,
          "longitude": 10.353434085845947
         },
         "name": "Sellero",
         "source": "https://www.bicincitta.com/frmLeStazioni.aspx?ID=85"
        },
        {
         "company": [
          "JCDecaux"
         ],
         "href": "/v2/networks/goeteborg",
         "id": "goeteborg",
         "license": {
          "name": "Open Licence",
          "url": "https://developer.jcdecaux.com/#/opendata/licence"
         },
         "location": {
          "city": "Göteborg",
          "country": "SE",
          "latitude": 57.70887,
          "longitude": 11.97456
         },
         "name": "Styr & Ställ",
         "source": "https://developer.jcdecaux.com"
        },
        {
         "company": [
          "JCDecaux"
         ],
         "href": "/v2/networks/lundahoj",
         "id": "lundahoj",
         "license": {
          "name": "Open Licence",
          "url": "https://developer.jcdecaux.com/#/opendata/licence"
         },
         "location": {
          "city": "Lund",
          "country": "SE",
          "latitude": 55.7046601,
          "longitude": 13.1910073
         },
         "name": "Lundahoj",
         "source": "https://developer.jcdecaux.com"
        },
        {
         "company": [
          "Comunicare S.r.l."
         ],
         "href": "/v2/networks/ugento",
         "id": "ugento",
         "location": {
          "city": "Ugento",
          "country": "IT",
          "latitude": 39.9273518,
          "longitude": 18.1582962
         },
         "name": "Ugento",
         "source": "https://www.bicincitta.com/frmLeStazioni.aspx?ID=103"
        },
        {
         "company": [
          "JCDecaux"
         ],
         "href": "/v2/networks/tusbic",
         "id": "tusbic",
         "license": {
          "name": "Open Licence",
          "url": "https://developer.jcdecaux.com/#/opendata/licence"
         },
         "location": {
          "city": "Santander",
          "country": "ES",
          "latitude": 43.46230569999999,
          "longitude": -3.8099803
         },
         "name": "Tusbic",
         "source": "https://developer.jcdecaux.com"
        },
        {
         "company": [
          "JCDecaux"
         ],
         "href": "/v2/networks/velam",
         "id": "velam",
         "license": {
          "name": "Open Licence",
          "url": "https://developer.jcdecaux.com/#/opendata/licence"
         },
         "location": {
          "city": "Amiens",
          "country": "FR",
          "latitude": 49.894067,
          "longitude": 2.295753
         },
         "name": "Velam",
         "source": "https://developer.jcdecaux.com"
        },
        {
         "company": [
          "JCDecaux"
         ],
         "href": "/v2/networks/bysykkel-lillestrom",
         "id": "bysykkel-lillestrom",
         "license": {
          "name": "Open Licence",
          "url": "https://developer.jcdecaux.com/#/opendata/licence"
         },
         "location": {
          "city": "Lillestrøm",
          "country": "NO",
          "latitude": 59.9559696,
          "longitude": 11.0503785
         },
         "name": "Bysykkel",
         "source": "https://developer.jcdecaux.com"
        },
        {
         "company": [
          "JCDecaux"
         ],
         "href": "/v2/networks/velocite-mulhouse",
         "id": "velocite-mulhouse",
         "license": {
          "name": "Open Licence",
          "url": "https://developer.jcdecaux.com/#/opendata/licence"
         },
         "location": {
          "city": "Mulhouse",
          "country": "FR",
          "latitude": 47.750839,
          "longitude": 7.335888
         },
         "name": "VéloCité",
         "source": "https://developer.jcdecaux.com"
        },
        {
         "company": [
          "Comunicare S.r.l."
         ],
         "href": "/v2/networks/prata-camportaccio",
         "id": "prata-camportaccio",
         "location": {
          "city": "Prata Camportaccio",
          "country": "IT",
          "latitude": 46.3042146,
          "longitude": 9.3964914
         },
         "name": "Prata Camportaccio",
         "source": "https://www.bicincitta.com/frmLeStazioni.aspx?ID=108"
        },
        {
         "company": [
          "JCDecaux"
         ],
         "href": "/v2/networks/velov",
         "id": "velov",
         "license": {
          "name": "Open Licence",
          "url": "https://developer.jcdecaux.com/#/opendata/licence"
         },
         "location": {
          "city": "Lyon",
          "country": "FR",
          "latitude": 45.764043,
          "longitude": 4.835659
         },
         "name": "Vélo'V",
         "source": "https://developer.jcdecaux.com"
        },
        {
         "company": [
          "JCDecaux"
         ],
         "href": "/v2/networks/bicikelj",
         "id": "bicikelj",
         "license": {
          "name": "Open Licence",
          "url": "https://developer.jcdecaux.com/#/opendata/licence"
         },
         "location": {
          "city": "Ljubljana",
          "country": "SI",
          "latitude": 46.05645089999999,
          "longitude": 14.5080702
         },
         "name": "Bicikelj",
         "source": "https://developer.jcdecaux.com"
        },
        {
         "company": [
          "Comunicare S.r.l."
         ],
         "href": "/v2/networks/civitavecchia",
         "id": "civitavecchia",
         "location": {
          "city": "Civitavecchia",
          "country": "IT",
          "latitude": 42.0937524,
          "longitude": 11.7922462
         },
         "name": "Civitavecchia",
         "source": "https://www.bicincitta.com/frmLeStazioni.aspx?ID=127"
        },
        {
         "company": [
          "JCDecaux"
         ],
         "href": "/v2/networks/sevici",
         "id": "sevici",
         "license": {
          "name": "Open Licence",
          "url": "https://developer.jcdecaux.com/#/opendata/licence"
         },
         "location": {
          "city": "Sevilla",
          "country": "ES",
          "latitude": 37.3880961,
          "longitude": -5.9823299
         },
         "name": "Sevici",
         "source": "https://developer.jcdecaux.com"
        },
        {
         "company": [
          "Comunicare S.r.l."
         ],
         "href": "/v2/networks/longanoinbici",
         "id": "longanoinbici",
         "location": {
          "city": "Barcellona Pozzo di Gotto",
          "country": "IT",
          "latitude": 38.149812517944284,
          "longitude": 15.212116241455078
         },
         "name": "LonganoinBici",
         "source": "https://www.bicincitta.com/frmLeStazioni.aspx?ID=140"
        },
        {
         "company": [
          "JCDecaux"
         ],
         "href": "/v2/networks/li-bia-velo",
         "id": "li-bia-velo",
         "license": {
          "name": "Open Licence",
          "url": "https://developer.jcdecaux.com/#/opendata/licence"
         },
         "location": {
          "city": "Namur",
          "country": "BE",
          "latitude": 50.465328,
          "longitude": 4.867665
         },
         "name": "Li bia velo",
         "source": "https://developer.jcdecaux.com"
        },
        {
         "company": [
          "JCDecaux"
         ],
         "href": "/v2/networks/velostanlib",
         "id": "velostanlib",
         "license": {
          "name": "Open Licence",
          "url": "https://developer.jcdecaux.com/#/opendata/licence"
         },
         "location": {
          "city": "Nancy",
          "country": "FR",
          "latitude": 48.692054,
          "longitude": 6.184417
         },
         "name": "vélOstan'lib",
         "source": "https://developer.jcdecaux.com"
        },
        {
         "company": [
          "JCDecaux"
         ],
         "href": "/v2/networks/cristolib",
         "id": "cristolib",
         "license": {
          "name": "Open Licence",
          "url": "https://developer.jcdecaux.com/#/opendata/licence"
         },
         "location": {
          "city": "Créteil",
          "country": "FR",
          "latitude": 48.790367,
          "longitude": 2.455572
         },
         "name": "Cristolib",
         "source": "https://developer.jcdecaux.com"
        },
        {
         "company": [
          "JCDecaux"
         ],
         "href": "/v2/networks/villo",
         "id": "villo",
         "license": {
          "name": "Open Licence",
          "url": "https://developer.jcdecaux.com/#/opendata/licence"
         },
         "location": {
          "city": "Bruxelles",
          "country": "BE",
          "latitude": 50.8503396,
          "longitude": 4.3517103
         },
         "name": "villo",
         "source": "https://developer.jcdecaux.com"
        },
        {
         "company": [
          "Comunicare S.r.l."
         ],
         "href": "/v2/networks/cassano-d-adda",
         "id": "cassano-d-adda",
         "location": {
          "city": "Cassano d'Adda",
          "country": "IT",
          "latitude": 45.5309616,
          "longitude": 9.5155813
         },
         "name": "Cassano d'Adda",
         "source": "https://www.bicincitta.com/frmLeStazioni.aspx?ID=143"
        },
        {
         "company": [
          "JCDecaux"
         ],
         "href": "/v2/networks/velo2",
         "id": "velo2",
         "license": {
          "name": "Open Licence",
          "url": "https://developer.jcdecaux.com/#/opendata/licence"
         },
         "location": {
          "city": "Cergy",
          "country": "FR",
          "latitude": 49.03561699999999,
          "longitude": 2.060325
         },
         "name": "Velo2",
         "source": "https://developer.jcdecaux.com"
        },
        {
         "company": [
          "JCDecaux"
         ],
         "href": "/v2/networks/vilnius-cyclocity",
         "id": "vilnius-cyclocity",
         "license": {
          "name": "Open Licence",
          "url": "https://developer.jcdecaux.com/#/opendata/licence"
         },
         "location": {
          "city": "Vilnius",
          "country": "LT",
          "latitude": 54.6871555,
          "longitude": 25.2796514
         },
         "name": "Cyclocity",
         "source": "https://developer.jcdecaux.com"
        },
        {
         "company": [
          "JCDecaux"
         ],
         "href": "/v2/networks/toyama-cyclocity",
         "id": "toyama-cyclocity",
         "license": {
          "name": "Open Licence",
          "url": "https://developer.jcdecaux.com/#/opendata/licence"
         },
         "location": {
          "city": "富山市",
          "country": "JP",
          "latitude": 36.6959518,
          "longitude": 137.2136768
         },
         "name": "cyclocity",
         "source": "https://developer.jcdecaux.com"
        },
        {
         "company": [
          "JCDecaux"
         ],
         "href": "/v2/networks/velik",
         "id": "velik",
         "license": {
          "name": "Open Licence",
          "url": "https://developer.jcdecaux.com/#/opendata/licence"
         },
         "location": {
          "city": "Казань",
          "country": "RU",
          "latitude": 55.7949414,
          "longitude": 49.1050445
         },
         "name": "Veli'k",
         "source": "https://developer.jcdecaux.com"
        },
        {
         "company": [
          "Comunicare S.r.l."
         ],
         "href": "/v2/networks/bianzone-in-bici",
         "id": "bianzone-in-bici",
         "location": {
          "city": "Bianzone",
          "country": "IT",
          "latitude": 46.188197,
          "longitude": 10.109354
         },
         "name": "Bianzone in Bici",
         "source": "https://www.bicincitta.com/frmLeStazioni.aspx?ID=147"
        },
        {
         "company": [
          "JCDecaux"
         ],
         "href": "/v2/networks/le-velo",
         "id": "le-velo",
         "license": {
          "name": "Open Licence",
          "url": "https://developer.jcdecaux.com/#/opendata/licence"
         },
         "location": {
          "city": "Marseille",
          "country": "FR",
          "latitude": 43.296482,
          "longitude": 5.36978
         },
         "name": "Le vélo",
         "source": "https://developer.jcdecaux.com"
        },
        {
         "company": [
          "JCDecaux"
         ],
         "href": "/v2/networks/bicloo",
         "id": "bicloo",
         "license": {
          "name": "Open Licence",
          "url": "https://developer.jcdecaux.com/#/opendata/licence"
         },
         "location": {
          "city": "Nantes",
          "country": "FR",
          "latitude": 47.218371,
          "longitude": -1.553621
         },
         "name": "Bicloo",
         "source": "https://developer.jcdecaux.com"
        },
        {
         "company": [
          "JCDecaux"
         ],
         "href": "/v2/networks/velocite-besancon",
         "id": "velocite-besancon",
         "license": {
          "name": "Open Licence",
          "url": "https://developer.jcdecaux.com/#/opendata/licence"
         },
         "location": {
          "city": "Besançon",
          "country": "FR",
          "latitude": 47.237829,
          "longitude": 6.024053899999999
         },
         "name": "VéloCité",
         "source": "https://developer.jcdecaux.com"
        },
        {
         "company": [
          "Comunicare S.r.l."
         ],
         "href": "/v2/networks/rietinbici",
         "id": "rietinbici",
         "location": {
          "city": "Rieti",
          "country": "IT",
          "latitude": 42.40262397383167,
          "longitude": 12.86099910736084
         },
         "name": "Rietinbici",
         "source": "https://www.bicincitta.com/frmLeStazioni.aspx?ID=158"
        },
        {
         "company": [
          "JCDecaux"
         ],
         "href": "/v2/networks/dublinbikes",
         "id": "dublinbikes",
         "license": {
          "name": "Open Licence",
          "url": "https://developer.jcdecaux.com/#/opendata/licence"
         },
         "location": {
          "city": "Dublin",
          "country": "IE",
          "latitude": 53.3498053,
          "longitude": -6.2603097
         },
         "name": "dublinbikes",
         "source": "https://developer.jcdecaux.com"
        },
        {
         "company": [
          "JCDecaux"
         ],
         "href": "/v2/networks/citycycle",
         "id": "citycycle",
         "license": {
          "name": "Open Licence",
          "url": "https://developer.jcdecaux.com/#/opendata/licence"
         },
         "location": {
          "city": "Brisbane",
          "country": "AU",
          "latitude": -27.4710107,
          "longitude": 153.0234489
         },
         "name": "CityCycle",
         "source": "https://developer.jcdecaux.com"
        },
        {
         "company": null,
         "href": "/v2/networks/bicipalma",
         "id": "bicipalma",
         "location": {
          "city": "Palma",
          "country": "ES",
          "latitude": 39.57119,
          "longitude": 2.646634
         },
         "name": "Bicipalma"
        },
        {
         "company": [
          "Cyacle Bicycle Rental LLC"
         ],
         "href": "/v2/networks/adcb-bikeshare",
         "id": "adcb-bikeshare",
         "location": {
          "city": "Abu Dhabi",
          "country": "AE",
          "latitude": 24.450278,
          "longitude": 54.39
         },
         "name": "ADCB Bikeshare"
        },
        {
         "company": [
          "Comunicare S.r.l."
         ],
         "href": "/v2/networks/castellucchio",
         "id": "castellucchio",
         "location": {
          "city": "Castellucchio",
          "country": "IT",
          "latitude": 45.15047821582959,
          "longitude": 10.651202201843262
         },
         "name": "Castellucchio",
         "source": "https://www.bicincitta.com/frmLeStazioni.aspx?ID=161"
        },
        {
         "company": [
          "Veolia"
         ],
         "href": "/v2/networks/velobleu",
         "id": "velobleu",
         "location": {
          "city": "Nice",
          "country": "FR",
          "latitude": 43.695949,
          "longitude": 7.271413
         },
         "name": "Vélo Bleu"
        },
        {
         "company": [
          "Comunicare S.r.l."
         ],
         "href": "/v2/networks/notoinbici",
         "id": "notoinbici",
         "location": {
          "city": "Noto",
          "country": "IT",
          "latitude": 36.889437754839854,
          "longitude": 15.074658393859863
         },
         "name": "NotoinBici",
         "source": "https://www.bicincitta.com/frmLeStazioni.aspx?ID=162"
        },
        {
         "company": [
          "Comunicare S.r.l."
         ],
         "href": "/v2/networks/enna",
         "id": "enna",
         "location": {
          "city": "Enna",
          "country": "IT",
          "latitude": 37.56342572664775,
          "longitude": 14.27973747253418
         },
         "name": "Enna",
         "source": "https://www.bicincitta.com/frmLeStazioni.aspx?ID=163"
        },
        {
         "company": [
          "Comunicare S.r.l."
         ],
         "href": "/v2/networks/pordenone",
         "id": "pordenone",
         "location": {
          "city": "Pordenone",
          "country": "IT",
          "latitude": 45.94790101663391,
          "longitude": 12.674491020251475
         },
         "name": "Pordenone",
         "source": "https://www.bicincitta.com/frmLeStazioni.aspx?ID=164"
        },
        {
         "company": [
          "Veolia"
         ],
         "href": "/v2/networks/vel-in",
         "id": "vel-in",
         "location": {
          "city": "Calais",
          "country": "FR",
          "latitude": 50.95,
          "longitude": 1.85
         },
         "name": "Vél'in"
        },
        {
         "company": [
          "Comunicare S.r.l."
         ],
         "href": "/v2/networks/carbonia",
         "id": "carbonia",
         "location": {
          "city": "Carbonia",
          "country": "IT",
          "latitude": 39.167222,
          "longitude": 8.522222
         },
         "name": "Carbonia",
         "source": "https://www.bicincitta.com/frmLeStazioni.aspx?ID=173"
        },
        {
         "company": [
          "Municipiul Cluj-Napoca"
         ],
         "href": "/v2/networks/clujbike",
         "id": "clujbike",
         "location": {
          "city": "Cluj-Napoca",
          "country": "RO",
          "latitude": 46.775,
          "longitude": 23.5975
         },
         "name": "Cluj Bike"
        },
        {
         "company": [
          "Comunicare S.r.l."
         ],
         "href": "/v2/networks/mobike",
         "id": "mobike",
         "location": {
          "city": "Genova",
          "country": "IT",
          "latitude": 44.40430089372731,
          "longitude": 8.92908986230462
         },
         "name": "MoBike",
         "source": "https://www.bicincitta.com/frmLeStazioni.aspx?ID=175"
        },
        {
         "company": [
          "Prefeiture de Sorocaba",
          "Urbes"
         ],
         "href": "/v2/networks/integrabike",
         "id": "integrabike",
         "location": {
          "city": "Sorocaba",
          "country": "BR",
          "latitude": -23.5015,
          "longitude": -47.4526
         },
         "name": "Integrabike"
        },
        {
         "company": [
          "Comunicare S.r.l."
         ],
         "href": "/v2/networks/scegli-in-bici",
         "id": "scegli-in-bici",
         "location": {
          "city": "Cremona",
          "country": "IT",
          "latitude": 45.134914104864116,
          "longitude": 10.0222648619018
         },
         "name": "Scegli in Bici",
         "source": "https://www.bicincitta.com/frmLeStazioni.aspx?ID=178"
        },
        {
         "company": [
          "Associação dos Amigos da Riviera de São Lourenço",
          "Sobloco"
         ],
         "href": "/v2/networks/rivibike",
         "id": "rivibike",
         "location": {
          "city": "São Lourenço",
          "country": "BR",
          "latitude": -22.1124,
          "longitude": -45.028
         },
         "name": "RiviBike"
        },
        {
         "company": [
          "Comunicare S.r.l."
         ],
         "href": "/v2/networks/e-motion-trento",
         "id": "e-motion-trento",
         "location": {
          "city": "Trento",
          "country": "IT",
          "latitude": 46.06643205823519,
          "longitude": 11.122145390351879
         },
         "name": "e.motion",
         "source": "https://www.bicincitta.com/frmLeStazioni.aspx?ID=187"
        },
        {
         "company": [
          "Duke Energy Brasil",
          "Governo de Ipaussu"
         ],
         "href": "/v2/networks/dukebike",
         "id": "dukebike",
         "location": {
          "city": "Ipaússu",
          "country": "BR",
          "latitude": -23.0553,
          "longitude": -49.6237
         },
         "name": "DukeBike"
        },
        {
         "company": [
          "Barcelona de Serveis Municipals, S.A. (BSM)",
          "CESPA",
          "PBSC"
         ],
         "ebikes": true,
         "href": "/v2/networks/bicing",
         "id": "bicing",
         "location": {
          "city": "Barcelona",
          "country": "ES",
          "latitude": 41.3850639,
          "longitude": 2.1734035
         },
         "name": "Bicing"
        },
        {
         "company": [
          "Baksi Bike Sharing System"
         ],
         "href": "/v2/networks/baksi-antalya",
         "id": "baksi-antalya",
         "location": {
          "city": "Antalya",
          "country": "TR",
          "latitude": 36.862048,
          "longitude": 30.638866
         },
         "name": "Baksi"
        },
        {
         "company": [
          "Baksi Bike Sharing System"
         ],
         "href": "/v2/networks/baksi-bisim",
         "id": "baksi-bisim",
         "location": {
          "city": "Izmir",
          "country": "TR",
          "latitude": 38.4134047464,
          "longitude": 27.0325753524
         },
         "name": "Baksi"
        },
        {
         "company": [
          "Comunicare S.r.l."
         ],
         "href": "/v2/networks/e-motion-rovereto",
         "id": "e-motion-rovereto",
         "location": {
          "city": "Rovereto",
          "country": "IT",
          "latitude": 45.88710661061543,
          "longitude": 11.042242751867644
         },
         "name": "e.motion",
         "source": "https://www.bicincitta.com/frmLeStazioni.aspx?ID=189"
        },
        {
         "company": [
          "Baksi Bike Sharing System"
         ],
         "href": "/v2/networks/baksi-istanbul",
         "id": "baksi-istanbul",
         "location": {
          "city": "Istanbul",
          "country": "TR",
          "latitude": 40.9696887925,
          "longitude": 29.0475373717
         },
         "name": "Isbike"
        },
        {
         "company": [
          "Baksi Bike Sharing System"
         ],
         "href": "/v2/networks/baksi-kobis",
         "id": "baksi-kobis",
         "location": {
          "city": "Kocaeli",
          "country": "TR",
          "latitude": 40.7674733342,
          "longitude": 29.9755885985
         },
         "name": "Baksi"
        },
        {
         "company": [
          "Helsinki City Transport",
          "Helsinki Regional Transport",
          "CityBikeFinland",
          "Smoove SAS",
          "Moventia",
          "Alepa"
         ],
         "href": "/v2/networks/citybikes-helsinki",
         "id": "citybikes-helsinki",
         "location": {
          "city": "Helsinki",
          "country": "FI",
          "latitude": 60.16985569999999,
          "longitude": 24.938379
         },
         "name": "City bikes"
        },
        {
         "company": [
          "Comunicare S.r.l."
         ],
         "href": "/v2/networks/monopoli-bike",
         "id": "monopoli-bike",
         "location": {
          "city": "Monopoli",
          "country": "IT",
          "latitude": 40.94519109440738,
          "longitude": 17.311687995336918
         },
         "name": "Monopoli BIKE",
         "source": "https://www.bicincitta.com/frmLeStazioni.aspx?ID=191"
        },
        {
         "company": [
          "Turku Region Traffic Föli",
          "Nextbike Polska"
         ],
         "href": "/v2/networks/foli",
         "id": "foli",
         "location": {
          "city": "Turku",
          "country": "FI",
          "latitude": 60.4506,
          "longitude": 22.2666
         },
         "name": "Föli-fillari"
        },
        {
         "company": [
          "Comunicare S.r.l."
         ],
         "href": "/v2/networks/bicimia",
         "id": "bicimia",
         "location": {
          "city": "Brescia",
          "country": "IT",
          "latitude": 45.5378,
          "longitude": 10.2173
         },
         "name": "bicimia",
         "source": "https://bicimia.bresciamobilita.it/frmLeStazioni.aspx?ID=40"
        },
        {
         "company": [
          "FSM Ground Services Ltd."
         ],
         "href": "/v2/networks/telofun",
         "id": "telofun",
         "location": {
          "city": "Tel Aviv-Yaffo, Giv'atayim, Ramat-Gan",
          "country": "IL",
          "latitude": 32.087053,
          "longitude": 34.789776
         },
         "name": "Tel-O-Fun"
        },
        {
         "company": [
          "Comunicare S.r.l."
         ],
         "href": "/v2/networks/andria",
         "id": "andria",
         "location": {
          "city": "Andria",
          "country": "IT",
          "latitude": 41.224346932834,
          "longitude": 16.296983922753956
         },
         "name": "Andria in Bici",
         "source": "https://www.bicincitta.com/frmLeStazioni.aspx?ID=192"
        },
        {
         "company": [
          "Open Source Bike Share"
         ],
         "href": "/v2/networks/whitebikes",
         "id": "whitebikes",
         "location": {
          "city": "Bratislava",
          "country": "SK",
          "latitude": 48.149424,
          "longitude": 17.113922
         },
         "name": "WhiteBikes"
        },
        {
         "company": [
          "Dopravný podnik Bratislava",
          "Bratislavská integrovaná doprava, a.s.",
          "Hlavné mesto SR Bratislava"
         ],
         "href": "/v2/networks/slovnaft-bajk",
         "id": "slovnaft-bajk",
         "location": {
          "city": "Bratislava",
          "country": "SK",
          "latitude": 48.1356952,
          "longitude": 16.9758332
         },
         "name": "Slovnaft BAjk"
        },
        {
         "company": [
          "Open Source Bike Share"
         ],
         "href": "/v2/networks/cykl",
         "id": "cykl",
         "location": {
          "city": "Wageningen",
          "country": "NL",
          "latitude": 51.974,
          "longitude": 5.6671
         },
         "name": "Cykl"
        },
        {
         "company": [
          "Open Source Bike Share"
         ],
         "href": "/v2/networks/bicyklezadobreskutky",
         "id": "bicyklezadobreskutky",
         "location": {
          "city": "Prešov",
          "country": "SK",
          "latitude": 48.996275,
          "longitude": 21.234341
         },
         "name": "Bicykle za dobré skutky"
        },
        {
         "company": [
          "Social Bicycles Inc."
         ],
         "href": "/v2/networks/socialbicycles-wavelo",
         "id": "socialbicycles-wavelo",
         "location": {
          "city": "Kraków",
          "country": "PL",
          "latitude": 50.06143,
          "longitude": 19.93658
         },
         "name": "Wavelo"
        },
        {
         "company": [
          "Comunicare S.r.l."
         ],
         "href": "/v2/networks/bicinquartucciu",
         "id": "bicinquartucciu",
         "location": {
          "city": "Quartucciu",
          "country": "IT",
          "latitude": 39.25043149806156,
          "longitude": 9.179296426489255
         },
         "name": "BicinQuartucciu",
         "source": "https://www.bicincitta.com/frmLeStazioni.aspx?ID=193"
        },
        {
         "company": [
          "Mainzer Verkehrsgesellschaft mbH (MVG)"
         ],
         "href": "/v2/networks/mvgmeinrad",
         "id": "mvgmeinrad",
         "location": {
          "city": "Mainz",
          "country": "DE",
          "latitude": 49.992862,
          "longitude": 8.247253
         },
         "name": "MVGmeinrad"
        },
        {
         "company": [
          "Sistema de Bicicletas Públicas del Valle de Aburrá"
         ],
         "href": "/v2/networks/encicla",
         "id": "encicla",
         "location": {
          "city": "Medellin",
          "country": "CO",
          "latitude": 6.254942,
          "longitude": -75.567982
         },
         "name": "EnCicla"
        },
        {
         "company": [
          "Comunicare S.r.l."
         ],
         "href": "/v2/networks/olbia-bike",
         "id": "olbia-bike",
         "location": {
          "city": "Olbia",
          "country": "IT",
          "latitude": 40.9240543,
          "longitude": 9.4994397
         },
         "name": "Olbia Bike",
         "source": "https://www.bicincitta.com/frmLeStazioni.aspx?ID=194"
        },
        {
         "company": [
          "Vanncouver Bike Share Inc",
          "CycleHop LLC",
          "City of Vancouver",
          "Smoove SAS"
         ],
         "href": "/v2/networks/mobibikes",
         "id": "mobibikes",
         "location": {
          "city": "Vancouver",
          "country": "CA",
          "latitude": 49.2827,
          "longitude": -123.1207
         },
         "name": "Mobi"
        },
        {
         "company": [
          "Comunicare S.r.l."
         ],
         "href": "/v2/networks/savona",
         "id": "savona",
         "location": {
          "city": "Savona",
          "country": "IT",
          "latitude": 44.29516444397244,
          "longitude": 8.463126708984431
         },
         "name": "Savona",
         "source": "https://www.bicincitta.com/frmLeStazioni.aspx?ID=195"
        },
        {
         "company": [
          "CityBike France",
          "PBSC Urban Solutions"
         ],
         "gbfs_href": "https://clermontferrand.publicbikesystem.net/customer/ube/gbfs/v1/",
         "href": "/v2/networks/c-velo",
         "id": "c-velo",
         "location": {
          "city": "Clermont-Ferrand",
          "country": "FR",
          "latitude": 45.7831,
          "longitude": 3.0824
         },
         "name": "C.vélo"
        },
        {
         "company": [
          "Smoove"
         ],
         "gbfs_href": "https://saint-etienne-gbfs.klervi.net/gbfs/en/gbfs.json",
         "href": "/v2/networks/velivert",
         "id": "velivert",
         "location": {
          "city": "Saint-Étienne",
          "country": "FR",
          "latitude": 45.396667,
          "longitude": 4.290833
         },
         "name": "VéliVert"
        },
        {
         "company": [
          "Comunicare S.r.l."
         ],
         "href": "/v2/networks/brindisi",
         "id": "brindisi",
         "location": {
          "city": "Brindisi",
          "country": "IT",
          "latitude": 40.637580319936106,
          "longitude": 17.940774547082572
         },
         "name": "BrindisiByBike",
         "source": "https://www.bicincitta.com/frmLeStazioni.aspx?ID=197"
        },
        {
         "company": [
          "Smoove"
         ],
         "href": "/v2/networks/velopop",
         "id": "velopop",
         "location": {
          "city": "Avignon",
          "country": "FR",
          "latitude": 43.943689,
          "longitude": 4.805833
         },
         "name": "Vélopop"
        },
        {
         "company": [
          "Smoove"
         ],
         "href": "/v2/networks/batumvelo",
         "id": "batumvelo",
         "location": {
          "city": "Batumi",
          "country": "GE",
          "latitude": 41.660906,
          "longitude": 41.678835
         },
         "name": "Batumvelo"
        },
        {
         "company": [
          "Comunicare S.r.l."
         ],
         "href": "/v2/networks/tradate",
         "id": "tradate",
         "location": {
          "city": "Tradate",
          "country": "IT",
          "latitude": 45.70938576720161,
          "longitude": 8.915993391601548
         },
         "name": "Tradate",
         "source": "https://www.bicincitta.com/frmLeStazioni.aspx?ID=198"
        },
        {
         "company": [
          "Mobilicidade Tecnologia LTD",
          "Grupo Serttel LTDA"
         ],
         "href": "/v2/networks/bikebh",
         "id": "bikebh",
         "location": {
          "city": "Belo Horizonte",
          "country": "BR",
          "latitude": -19.920793,
          "longitude": -43.922165
         },
         "name": "BikeBH"
        },
        {
         "company": [
          "Mobilicidade Tecnologia LTD",
          "Grupo Serttel LTDA"
         ],
         "href": "/v2/networks/bikepetrolina",
         "id": "bikepetrolina",
         "location": {
          "city": "Petrolina",
          "country": "BR",
          "latitude": -9.389049,
          "longitude": -40.502751
         },
         "name": "BikePetrolina"
        },
        {
         "company": [
          "Comunicare S.r.l."
         ],
         "href": "/v2/networks/jesinbici",
         "id": "jesinbici",
         "location": {
          "city": "Jesi",
          "country": "IT",
          "latitude": 43.522601,
          "longitude": 13.244448
         },
         "name": "JesinBici",
         "source": "https://www.bicincitta.com/frmLeStazioni.aspx?ID=236"
        },
        {
         "company": [
          "Comunicare S.r.l."
         ],
         "href": "/v2/networks/nbici",
         "id": "nbici",
         "location": {
          "city": "Pamplona",
          "country": "ES",
          "latitude": 42.8116631,
          "longitude": -1.6482653
         },
         "name": "nbici",
         "source": "https://www.bicincitta.com/frmLeStazioni.aspx?ID=230"
        },
        {
         "company": [
          "Tembici"
         ],
         "gbfs_href": "https://brasilia.publicbikesystem.net/customer/ube/gbfs/v1/",
         "href": "/v2/networks/bikebrasilia",
         "id": "bikebrasilia",
         "location": {
          "city": "Brasília",
          "country": "BR",
          "latitude": -15.795115,
          "longitude": -47.887424
         },
         "name": "BikeBrasilia"
        },
        {
         "company": [
          "Mobilicidade Tecnologia LTD",
          "Grupo Serttel LTDA"
         ],
         "href": "/v2/networks/debikegoiania",
         "id": "debikegoiania",
         "location": {
          "city": "Goiânia",
          "country": "BR",
          "latitude": -16.670492,
          "longitude": -49.259535
         },
         "name": "GynDebike"
        },
        {
         "company": [
          "Comunicare S.r.l."
         ],
         "href": "/v2/networks/treviso",
         "id": "treviso",
         "location": {
          "city": "Treviso",
          "country": "IT",
          "latitude": 45.6669011,
          "longitude": 12.243039
         },
         "name": "Treviso",
         "source": "https://www.bicincitta.com/frmLeStazioni.aspx?ID=179"
        },
        {
         "company": [
          "Mobilicidade Tecnologia LTD",
          "Grupo Serttel LTDA"
         ],
         "href": "/v2/networks/bicicletar",
         "id": "bicicletar",
         "location": {
          "city": "Fortaleza",
          "country": "BR",
          "latitude": -3.7321944,
          "longitude": -38.510347
         },
         "name": "Bicicletar"
        },
        {
         "company": [
          "Mobilicidade Tecnologia LTD",
          "Grupo Serttel LTDA"
         ],
         "href": "/v2/networks/cajubike",
         "id": "cajubike",
         "location": {
          "city": "Aracajú",
          "country": "BR",
          "latitude": -10.987263,
          "longitude": -37.051898
         },
         "name": "CajuBike"
        },
        {
         "company": [
          "Mobilicidade Tecnologia LTD",
          "Grupo Serttel LTDA"
         ],
         "href": "/v2/networks/bikebelem",
         "id": "bikebelem",
         "location": {
          "city": "Belém",
          "country": "BR",
          "latitude": -1.4600794,
          "longitude": -48.490865
         },
         "name": "Bike Belém"
        },
        {
         "company": [
          "Comunicare S.r.l."
         ],
         "href": "/v2/networks/sondrio",
         "id": "sondrio",
         "location": {
          "city": "Sondrio",
          "country": "IT",
          "latitude": 46.1698583,
          "longitude": 9.8787674
         },
         "name": "Sondrio",
         "source": "https://www.bicincitta.com/frmLeStazioni.aspx?ID=213"
        },
        {
         "company": [
          "Mobilicidade Tecnologia LTD",
          "Grupo Serttel LTDA"
         ],
         "href": "/v2/networks/bikesantos",
         "id": "bikesantos",
         "location": {
          "city": "Santos",
          "country": "BR",
          "latitude": -23.954052,
          "longitude": -46.333345
         },
         "name": "BikeSantos"
        },
        {
         "company": [
          "Comunicare S.r.l."
         ],
         "href": "/v2/networks/vercelli",
         "id": "vercelli",
         "location": {
          "city": "Vercelli",
          "country": "IT",
          "latitude": 45.32022720000001,
          "longitude": 8.418573499999999
         },
         "name": "Vercelli",
         "source": "https://www.bicincitta.com/frmLeStazioni.aspx?ID=235"
        },
        {
         "company": [
          "Comunicare S.r.l."
         ],
         "href": "/v2/networks/portofino-park-and-bike",
         "id": "portofino-park-and-bike",
         "location": {
          "city": "Santa Margherita Ligure - Portofino - Camogli",
          "country": "IT",
          "latitude": 44.335084,
          "longitude": 9.211264
         },
         "name": "Portofino Park and Bike",
         "source": "https://www.bicincitta.com/frmLeStazioni.aspx?ID=128"
        },
        {
         "company": [
          "Mobilicidade Tecnologia LTD",
          "Municipalidad de Rosario"
         ],
         "gbfs_href": "https://www.mibicitubici.gob.ar/opendata/gbfs.json",
         "href": "/v2/networks/mibicitubici",
         "id": "mibicitubici",
         "location": {
          "city": "Rosario",
          "country": "AR",
          "latitude": -32.95,
          "longitude": -60.65
         },
         "name": "Mi bici tu bici"
        },
        {
         "company": [
          "DecoBike LLC"
         ],
         "href": "/v2/networks/decobike-miami-beach",
         "id": "decobike-miami-beach",
         "location": {
          "city": "Miami Beach, FL",
          "country": "US",
          "latitude": 25.790654,
          "longitude": -80.1300455
         },
         "name": "Citi Bike Miami"
        },
        {
         "company": [
          "DecoBike LLC"
         ],
         "href": "/v2/networks/decobike-san-diego",
         "id": "decobike-san-diego",
         "location": {
          "city": "San Diego, CA",
          "country": "US",
          "latitude": 32.715738,
          "longitude": -117.1610838
         },
         "name": "Decobike San Diego"
        },
        {
         "company": [
          "Comunicare S.r.l."
         ],
         "href": "/v2/networks/meglio-in-bici",
         "id": "meglio-in-bici",
         "location": {
          "city": "Cernusco sul Naviglio - Pioltello - Carugate",
          "country": "IT",
          "latitude": 45.520541,
          "longitude": 9.341984
         },
         "name": "Meglio in Bici",
         "source": "https://www.bicincitta.com/frmLeStazioni.aspx?ID=121"
        },
        {
         "company": [
          "BCycle, LLC"
         ],
         "gbfs_href": "https://gbfs.bcycle.com/bcycle_desmoines/gbfs.json",
         "href": "/v2/networks/desmoines",
         "id": "desmoines",
         "location": {
          "city": "Des Moines, IA",
          "country": "US",
          "latitude": 41.6005448,
          "longitude": -93.6091064
         },
         "name": "Des Moines B-cycle"
        },
        {
         "company": [
          "Comunicare S.r.l."
         ],
         "href": "/v2/networks/ossola",
         "id": "ossola",
         "location": {
          "city": "Santa Maria Maggiore - Malesco - Villette",
          "country": "IT",
          "latitude": 46.127196,
          "longitude": 8.499169
         },
         "name": "Comunità Montana Valli dell'Ossola",
         "source": "https://www.bicincitta.com/frmLeStazioni.aspx?ID=152"
        },
        {
         "company": [
          "BCycle, LLC"
         ],
         "gbfs_href": "https://gbfs.bcycle.com/bcycle_greenville/gbfs.json",
         "href": "/v2/networks/greenville",
         "id": "greenville",
         "location": {
          "city": "Greenville, SC",
          "country": "US",
          "latitude": 34.85261759999999,
          "longitude": -82.3940104
         },
         "name": "Greenville B-cycle"
        },
        {
         "company": [
          "Comunicare S.r.l."
         ],
         "href": "/v2/networks/bicincitta-mezzolombardo",
         "id": "bicincitta-mezzolombardo",
         "location": {
          "city": "Mezzolombardo",
          "country": "IT",
          "latitude": 46.21400260000001,
          "longitude": 11.0967867
         },
         "name": "Bicincittà",
         "source": "https://www.bicincitta.com/frmLeStazioni.aspx?ID=228"
        },
        {
         "company": [
          "Comunicare S.r.l."
         ],
         "href": "/v2/networks/bicincitta-lausanne-campus-morges",
         "id": "bicincitta-lausanne-campus-morges",
         "location": {
          "city": "Lausanne - Morges - Campus",
          "country": "CH",
          "latitude": 46.5196535,
          "longitude": 6.6322734
         },
         "name": "Bicincittà",
         "source": "https://www.bicincitta.com/frmLeStazioni.aspx?ID=123"
        },
        {
         "company": [
          "Comunicare S.r.l."
         ],
         "href": "/v2/networks/bicincitta-scafati",
         "id": "bicincitta-scafati",
         "location": {
          "city": "Scafati",
          "country": "IT",
          "latitude": 40.7620174,
          "longitude": 14.5363969
         },
         "name": "Bicincittà",
         "source": "https://www.bicincitta.com/frmLeStazioni.aspx?ID=106"
        },
        {
         "company": [
          "Comunicare S.r.l."
         ],
         "href": "/v2/networks/bicincitta-livorno",
         "id": "bicincitta-livorno",
         "location": {
          "city": "Livorno",
          "country": "IT",
          "latitude": 43.548473,
          "longitude": 10.3105674
         },
         "name": "Bicincittà",
         "source": "https://www.bicincitta.com/frmLeStazioni.aspx?ID=226"
        },
        {
         "company": [
          "Comunicare S.r.l."
         ],
         "href": "/v2/networks/bicincitta-valais-central",
         "id": "bicincitta-valais-central",
         "location": {
          "city": "Sion",
          "country": "CH",
          "latitude": 46.2331221,
          "longitude": 7.360625999999999
         },
         "name": "Bicincittà",
         "source": "https://www.bicincitta.com/frmLeStazioni.aspx?ID=89"
        },
        {
         "company": [
          "Comunicare S.r.l."
         ],
         "href": "/v2/networks/bicincitta-forli",
         "id": "bicincitta-forli",
         "location": {
          "city": "Forlì",
          "country": "IT",
          "latitude": 44.2227398,
          "longitude": 12.0407312
         },
         "name": "Mi Muovo in Bici",
         "source": "http://www.mimuovoinbici.it/frmLeStazioni.aspx?ID=119"
        },
        {
         "company": [
          "Comunicare S.r.l."
         ],
         "href": "/v2/networks/bicincitta-rivarolo-canavese",
         "id": "bicincitta-rivarolo-canavese",
         "location": {
          "city": "Rivarolo Canavese",
          "country": "IT",
          "latitude": 45.306633,
          "longitude": 7.723242
         },
         "name": "Bicincittà",
         "source": "https://www.bicincitta.com/frmLeStazioni.aspx?ID=227"
        },
        {
         "company": [
          "Comunicare S.r.l."
         ],
         "href": "/v2/networks/bicincitta-monserrato",
         "id": "bicincitta-monserrato",
         "location": {
          "city": "Monserrato",
          "country": "IT",
          "latitude": 39.2560191,
          "longitude": 9.1453579
         },
         "name": "Bicincittà",
         "source": "https://www.bicincitta.com/frmLeStazioni.aspx?ID=220"
        },
        {
         "company": [
          "Comunicare S.r.l."
         ],
         "href": "/v2/networks/bicincitta-mezzocorona",
         "id": "bicincitta-mezzocorona",
         "location": {
          "city": "Mezzocorona",
          "country": "IT",
          "latitude": 46.2339047,
          "longitude": 11.1277461
         },
         "name": "Bicincittà",
         "source": "https://www.bicincitta.com/frmLeStazioni.aspx?ID=229"
        },
        {
         "company": [
          "Comunicare S.r.l."
         ],
         "href": "/v2/networks/bicincitta-san-lazzaro-di-savena",
         "id": "bicincitta-san-lazzaro-di-savena",
         "location": {
          "city": "San Lazzaro di Savena",
          "country": "IT",
          "latitude": 44.4702725,
          "longitude": 11.409399
         },
         "name": "Mi Muovo in Bici",
         "source": "http://www.mimuovoinbici.it/frmLeStazioni.aspx?ID=100"
        },
        {
         "company": [
          "Comunicare S.r.l."
         ],
         "href": "/v2/networks/bicincitta-san-teodoro",
         "id": "bicincitta-san-teodoro",
         "location": {
          "city": "San Teodoro",
          "country": "IT",
          "latitude": 40.7722837,
          "longitude": 9.6695458
         },
         "name": "Bicincittà",
         "source": "https://www.bicincitta.com/frmLeStazioni.aspx?ID=225"
        },
        {
         "company": [
          "Comunicare S.r.l."
         ],
         "href": "/v2/networks/bicincitta-parco-molentargius-saline",
         "id": "bicincitta-parco-molentargius-saline",
         "location": {
          "city": "Parco Naturale Molentargius - Saline",
          "country": "IT",
          "latitude": 39.2052545,
          "longitude": 9.146761099999999
         },
         "name": "Bicincittà",
         "source": "https://www.bicincitta.com/frmLeStazioni.aspx?ID=151"
        },
        {
         "company": [
          "Comunicare S.r.l."
         ],
         "href": "/v2/networks/parkinbici",
         "id": "parkinbici",
         "location": {
          "city": "Parco Nazionale del Gargano",
          "country": "IT",
          "latitude": 41.7817081,
          "longitude": 15.8516421
         },
         "name": "Parkinbici",
         "source": "https://www.bicincitta.com/frmLeStazioni.aspx?ID=105"
        },
        {
         "company": [
          "Comunicare S.r.l."
         ],
         "href": "/v2/networks/bicincitta-gallipoli",
         "id": "bicincitta-gallipoli",
         "location": {
          "city": "Gallipoli",
          "country": "IT",
          "latitude": 40.0558554,
          "longitude": 17.9925085
         },
         "name": "Bicincittà",
         "source": "https://www.bicincitta.com/frmLeStazioni.aspx?ID=109"
        },
        {
         "company": [
          "Comunicare S.r.l."
         ],
         "href": "/v2/networks/bicincitta-castel-guelfo-the-style-outlets",
         "id": "bicincitta-castel-guelfo-the-style-outlets",
         "location": {
          "city": "Castel Guelfo di Bologna",
          "country": "IT",
          "latitude": 44.4328527,
          "longitude": 11.6750857
         },
         "name": "Bicincittà",
         "source": "https://www.bicincitta.com/frmLeStazioni.aspx?ID=233"
        },
        {
         "company": [
          "Comunicare S.r.l."
         ],
         "href": "/v2/networks/bicincitta-san-michele-alladige",
         "id": "bicincitta-san-michele-alladige",
         "location": {
          "city": "San Michele All'adige",
          "country": "IT",
          "latitude": 46.1878653,
          "longitude": 11.1330423
         },
         "name": "Bicincittà",
         "source": "https://www.bicincitta.com/frmLeStazioni.aspx?ID=231"
        },
        {
         "company": [
          "Comunicare S.r.l."
         ],
         "href": "/v2/networks/bicincitta-agglo-fribourg",
         "id": "bicincitta-agglo-fribourg",
         "location": {
          "city": "Fribourg",
          "country": "CH",
          "latitude": 46.8064773,
          "longitude": 7.161971899999999
         },
         "name": "Bicincittà",
         "source": "https://www.bicincitta.com/frmLeStazioni.aspx?ID=33"
        },
        {
         "company": [
          "Comunicare S.r.l."
         ],
         "href": "/v2/networks/bicincitta-modena",
         "id": "bicincitta-modena",
         "location": {
          "city": "Modena",
          "country": "IT",
          "latitude": 44.647128,
          "longitude": 10.9252269
         },
         "name": "Mi Muovo in bici",
         "source": "http://www.mimuovoinbici.it/frmLeStazioni.aspx?ID=180"
        },
        {
         "company": [
          "Comunicare S.r.l."
         ],
         "href": "/v2/networks/bicincitta-brancaleone",
         "id": "bicincitta-brancaleone",
         "location": {
          "city": "Brancaleone",
          "country": "IT",
          "latitude": 37.9679084,
          "longitude": 16.0757749
         },
         "name": "Bicincittà",
         "source": "https://www.bicincitta.com/frmLeStazioni.aspx?ID=104"
        },
        {
         "company": [
          "Comunicare S.r.l."
         ],
         "href": "/v2/networks/bicincitta-bulle",
         "id": "bicincitta-bulle",
         "location": {
          "city": "Bulle",
          "country": "CH",
          "latitude": 46.6154512,
          "longitude": 7.057726799999999
         },
         "name": "Bicincittà",
         "source": "https://www.bicincitta.com/frmLeStazioni.aspx?ID=34"
        },
        {
         "company": [
          "Comunicare S.r.l."
         ],
         "href": "/v2/networks/bicincitta-riviera",
         "id": "bicincitta-riviera",
         "location": {
          "city": "Distretto della Riviera-Pays-d'Enhaut",
          "country": "CH",
          "latitude": 46.4628333,
          "longitude": 6.8419192
         },
         "name": "Bicincittà",
         "source": "https://www.bicincitta.com/frmLeStazioni.aspx?ID=129"
        },
        {
         "company": [
          "Comunicare S.r.l."
         ],
         "href": "/v2/networks/bicincitta-scandiano",
         "id": "bicincitta-scandiano",
         "location": {
          "city": "Scandiano",
          "country": "IT",
          "latitude": 44.5982342,
          "longitude": 10.6909273
         },
         "name": "Mi Muovo in Bici",
         "source": "http://www.mimuovoinbici.it/frmLeStazioni.aspx?ID=94"
        },
        {
         "company": [
          "Comunicare S.r.l."
         ],
         "href": "/v2/networks/bicincitta-elmas",
         "id": "bicincitta-elmas",
         "location": {
          "city": "Elmas",
          "country": "IT",
          "latitude": 39.2634329,
          "longitude": 9.0515805
         },
         "name": "Bicincittà",
         "source": "https://www.bicincitta.com/frmLeStazioni.aspx?ID=218"
        },
        {
         "company": [
          "Comunicare S.r.l."
         ],
         "href": "/v2/networks/bicincitta-tivat",
         "id": "bicincitta-tivat",
         "location": {
          "city": "TV",
          "country": "ME",
          "latitude": 42.4349809,
          "longitude": 18.7066398
         },
         "name": "Bicincittà",
         "source": "https://www.bicincitta.com/frmLeStazioni.aspx?ID=87"
        },
        {
         "company": [
          "Comunicare S.r.l."
         ],
         "href": "/v2/networks/bicincitta-acquaviva-delle-fonti",
         "id": "bicincitta-acquaviva-delle-fonti",
         "location": {
          "city": "Acquaviva delle fonti",
          "country": "IT",
          "latitude": 40.9303721,
          "longitude": 16.8414374
         },
         "name": "Bicincittà",
         "source": "https://www.bicincitta.com/frmLeStazioni.aspx?ID=160"
        },
        {
         "company": [
          "Comunicare S.r.l."
         ],
         "href": "/v2/networks/we-love-bike",
         "id": "we-love-bike",
         "location": {
          "city": "Lodi",
          "country": "IT",
          "latitude": 45.3097228,
          "longitude": 9.503715999999999
         },
         "name": "We Love bike",
         "source": "https://www.bicincitta.com/frmLeStazioni.aspx?ID=190"
        },
        {
         "company": [
          "Comunicare S.r.l."
         ],
         "href": "/v2/networks/bicincitta-acquarica-del-capo",
         "id": "bicincitta-acquarica-del-capo",
         "location": {
          "city": "Acquarica del Capo",
          "country": "IT",
          "latitude": 39.9144573,
          "longitude": 18.2450324
         },
         "name": "Bicincittà",
         "source": "https://www.bicincitta.com/frmLeStazioni.aspx?ID=146"
        },
        {
         "company": [
          "Comunicare S.r.l."
         ],
         "href": "/v2/networks/bicincitta-vicolungo-the-style-outlets",
         "id": "bicincitta-vicolungo-the-style-outlets",
         "location": {
          "city": "Vicolungo",
          "country": "IT",
          "latitude": 45.47167229999999,
          "longitude": 8.4633922
         },
         "name": "Bicincittà",
         "source": "https://www.bicincitta.com/frmLeStazioni.aspx?ID=232"
        },
        {
         "company": [
          "Comunicare S.r.l."
         ],
         "href": "/v2/networks/bicincitta-porto-torres",
         "id": "bicincitta-porto-torres",
         "location": {
          "city": "Porto Torres",
          "country": "IT",
          "latitude": 40.8333682,
          "longitude": 8.402292899999999
         },
         "name": "Bicincittà",
         "source": "https://www.bicincitta.com/frmLeStazioni.aspx?ID=221"
        },
        {
         "company": [
          "Comunicare S.r.l."
         ],
         "href": "/v2/networks/bicincitta-cisterna-di-latina",
         "id": "bicincitta-cisterna-di-latina",
         "location": {
          "city": "Cisterna di Latina",
          "country": "IT",
          "latitude": 41.5754029,
          "longitude": 12.8284772
         },
         "name": "Bicincittà",
         "source": "https://www.bicincitta.com/frmLeStazioni.aspx?ID=217"
        },
        {
         "company": [
          "Comunicare S.r.l."
         ],
         "href": "/v2/networks/bicincitta-casaletto-spartano",
         "id": "bicincitta-casaletto-spartano",
         "location": {
          "city": "Casaletto Spartano",
          "country": "IT",
          "latitude": 40.1532801,
          "longitude": 15.6211479
         },
         "name": "Bicincittà",
         "source": "https://www.bicincitta.com/frmLeStazioni.aspx?ID=199"
        },
        {
         "company": [
          "Comunicare S.r.l."
         ],
         "href": "/v2/networks/bicincitta-selargius",
         "id": "bicincitta-selargius",
         "location": {
          "city": "Selargius",
          "country": "IT",
          "latitude": 39.2596768,
          "longitude": 9.1629372
         },
         "name": "Bicincittà",
         "source": "https://www.bicincitta.com/frmLeStazioni.aspx?ID=219"
        },
        {
         "company": [
          "Comunicare S.r.l."
         ],
         "href": "/v2/networks/bicincitta-yverdon-les-bains",
         "id": "bicincitta-yverdon-les-bains",
         "location": {
          "city": "Yverdon-les-Bains",
          "country": "CH",
          "latitude": 46.7784736,
          "longitude": 6.641183
         },
         "name": "Bicincittà",
         "source": "https://www.bicincitta.com/frmLeStazioni.aspx?ID=116"
        },
        {
         "company": [
          "Comunicare S.r.l."
         ],
         "href": "/v2/networks/bicincitta-monza",
         "id": "bicincitta-monza",
         "location": {
          "city": "Monza",
          "country": "IT",
          "latitude": 45.5845001,
          "longitude": 9.2744485
         },
         "name": "Bicincittà",
         "source": "https://www.bicincitta.com/frmLeStazioni.aspx?ID=224"
        },
        {
         "company": [
          "Comunicare S.r.l."
         ],
         "href": "/v2/networks/bicincitta-la-cote",
         "id": "bicincitta-la-cote",
         "location": {
          "city": "Nyon",
          "country": "CH",
          "latitude": 46.3832683,
          "longitude": 6.2347852
         },
         "name": "Bicincittà",
         "source": "https://www.bicincitta.com/frmLeStazioni.aspx?ID=32"
        },
        {
         "company": [
          "Comunicare S.r.l."
         ],
         "href": "/v2/networks/bicincitta-morigerati",
         "id": "bicincitta-morigerati",
         "location": {
          "city": "Morigerati",
          "country": "IT",
          "latitude": 40.1422031,
          "longitude": 15.5298525
         },
         "name": "Bicincittà",
         "source": "https://www.bicincitta.com/frmLeStazioni.aspx?ID=200"
        },
        {
         "company": [
          "Comunicare S.r.l."
         ],
         "href": "/v2/networks/bicincitta-san-donato-milanese",
         "id": "bicincitta-san-donato-milanese",
         "location": {
          "city": "San Donato Milanese",
          "country": "IT",
          "latitude": 45.4092402,
          "longitude": 9.2684867
         },
         "name": "Bicincittà",
         "source": "https://www.bicincitta.com/frmLeStazioni.aspx?ID=234"
        },
        {
         "company": [
          "Comunicare S.r.l."
         ],
         "href": "/v2/networks/bicincitta-chablais",
         "id": "bicincitta-chablais",
         "location": {
          "city": "Monthey - Aigle",
          "country": "CH",
          "latitude": 46.2521873,
          "longitude": 6.9469598
         },
         "name": "Bicincittà",
         "source": "https://www.bicincitta.com/frmLeStazioni.aspx?ID=60"
        },
        {
         "company": [
          "Comunicare S.r.l."
         ],
         "href": "/v2/networks/bicincitta-ente-parco-del-circeo",
         "id": "bicincitta-ente-parco-del-circeo",
         "location": {
          "city": "Parco Nazionale del Circeo",
          "country": "IT",
          "latitude": 41.3151015,
          "longitude": 13.0330782
         },
         "name": "Bicincittà",
         "source": "https://www.bicincitta.com/frmLeStazioni.aspx?ID=135"
        },
        {
         "company": [
          "Comunicare S.r.l."
         ],
         "href": "/v2/networks/bicincitta-cesena",
         "id": "bicincitta-cesena",
         "location": {
          "city": "Cesena",
          "country": "IT",
          "latitude": 44.1396438,
          "longitude": 12.2464292
         },
         "name": "Mi Muovo in bici",
         "source": "http://www.mimuovoinbici.it/frmLeStazioni.aspx?ID=120"
        },
        {
         "company": [
          "Comunicare S.r.l."
         ],
         "href": "/v2/networks/bicincitta-lugano-paradiso",
         "id": "bicincitta-lugano-paradiso",
         "location": {
          "city": "Paradiso",
          "country": "CH",
          "latitude": 45.9907174,
          "longitude": 8.945261799999999
         },
         "name": "Bicincittà",
         "source": "https://www.bicincitta.com/frmLeStazioni.aspx?ID=130"
        },
        {
         "company": [
          "Comunicare S.r.l."
         ],
         "href": "/v2/networks/lecco",
         "id": "lecco",
         "location": {
          "city": "Lecco",
          "country": "IT",
          "latitude": 45.8565698,
          "longitude": 9.397670399999999
         },
         "name": "Bicincittà",
         "source": "https://www.bicincitta.com/frmLeStazioni.aspx?ID=49"
        },
        {
         "company": [
          "Comunicare S.r.l."
         ],
         "href": "/v2/networks/bicincitta-alghero",
         "id": "bicincitta-alghero",
         "location": {
          "city": "Alghero",
          "country": "IT",
          "latitude": 40.5579517,
          "longitude": 8.319294900000001
         },
         "name": "Bicincittà",
         "source": "https://www.bicincitta.com/frmLeStazioni.aspx?ID=237"
        },
        {
         "company": [
          "Comunicare S.r.l."
         ],
         "href": "/v2/networks/bicincitta-san-giovanni-in-persiceto",
         "id": "bicincitta-san-giovanni-in-persiceto",
         "location": {
          "city": "San Giovanni in Persiceto",
          "country": "IT",
          "latitude": 44.6405433,
          "longitude": 11.1893053
         },
         "name": "Mi Muovo in Bici",
         "source": "http://www.mimuovoinbici.it/frmLeStazioni.aspx?ID=101"
        },
        {
         "company": [
          "Comunicare S.r.l."
         ],
         "href": "/v2/networks/bicincitta-ente-parco-san-rossore",
         "id": "bicincitta-ente-parco-san-rossore",
         "location": {
          "city": "Parco naturale Migliarino San Rossore Massaciuccoli",
          "country": "IT",
          "latitude": 43.723826,
          "longitude": 10.339509
         },
         "name": "Bicincittà",
         "source": "https://www.bicincitta.com/frmLeStazioni.aspx?ID=145"
        },
        {
         "company": [
          "Comunicare S.r.l."
         ],
         "href": "/v2/networks/bicincitta-treviglio",
         "id": "bicincitta-treviglio",
         "location": {
          "city": "Treviglio",
          "country": "IT",
          "latitude": 45.5293372,
          "longitude": 9.591435899999999
         },
         "name": "Bicincittà",
         "source": "https://www.bicincitta.com/frmLeStazioni.aspx?ID=174"
        },
        {
         "company": [
          "Comunicare S.r.l."
         ],
         "href": "/v2/networks/bicincitta-lavis",
         "id": "bicincitta-lavis",
         "location": {
          "city": "Lavis",
          "country": "IT",
          "latitude": 46.1408423,
          "longitude": 11.1124935
         },
         "name": "Bicincittà",
         "source": "https://www.bicincitta.com/frmLeStazioni.aspx?ID=238"
        },
        {
         "company": [
          "Comunicare S.r.l."
         ],
         "href": "/v2/networks/bicincitta-les-lacs-romont",
         "id": "bicincitta-les-lacs-romont",
         "location": {
          "city": "Murten",
          "country": "CH",
          "latitude": 46.92922110000001,
          "longitude": 7.120184
         },
         "name": "Bicincittà",
         "source": "https://www.bicincitta.com/frmLeStazioni.aspx?ID=35"
        },
        {
         "company": [
          "Comunicare S.r.l."
         ],
         "href": "/v2/networks/bicincitta-ente-parco-di-montemarcello-magra",
         "id": "bicincitta-ente-parco-di-montemarcello-magra",
         "location": {
          "city": "Ente Parco Montemarcello Magra",
          "country": "IT",
          "latitude": 44.1143897,
          "longitude": 9.9635986
         },
         "name": "Bicincittà",
         "source": "https://www.bicincitta.com/frmLeStazioni.aspx?ID=132"
        },
        {
         "company": [
          "Comunicare S.r.l."
         ],
         "href": "/v2/networks/bicischio",
         "id": "bicischio",
         "location": {
          "city": "Schio",
          "country": "IT",
          "latitude": 45.7170517,
          "longitude": 11.3597702
         },
         "name": "BiciSchio",
         "source": "https://www.bicincitta.com/frmLeStazioni.aspx?ID=91"
        },
        {
         "company": [
          "Comunicare S.r.l."
         ],
         "href": "/v2/networks/bicincitta-imola",
         "id": "bicincitta-imola",
         "location": {
          "city": "Imola",
          "country": "IT",
          "latitude": 44.3559128,
          "longitude": 11.7161197
         },
         "name": "Mi Muovo in bici",
         "source": "http://www.mimuovoinbici.it/frmLeStazioni.aspx?ID=196"
        },
        {
         "company": [
          "Nextbike GmbH"
         ],
         "href": "/v2/networks/nextbike-leipzig",
         "id": "nextbike-leipzig",
         "location": {
          "city": "Leipzig",
          "country": "DE",
          "latitude": 51.3415,
          "longitude": 12.3625
         },
         "name": "Nextbike"
        },
        {
         "company": [
          "Nextbike GmbH"
         ],
         "href": "/v2/networks/nextbike-wiesbaden",
         "id": "nextbike-wiesbaden",
         "location": {
          "city": "Wiesbaden",
          "country": "DE",
          "latitude": 50.0709,
          "longitude": 8.24322
         },
         "name": "Nextbike"
        },
        {
         "company": [
          "Nextbike GmbH"
         ],
         "href": "/v2/networks/visa-frankfurt",
         "id": "visa-frankfurt",
         "location": {
          "city": "Frankfurt",
          "country": "DE",
          "latitude": 50.1072,
          "longitude": 8.66375
         },
         "name": "VISA"
        },
        {
         "company": [
          "Nextbike GmbH"
         ],
         "href": "/v2/networks/kvb-rad-koln",
         "id": "kvb-rad-koln",
         "location": {
          "city": "Köln",
          "country": "DE",
          "latitude": 50.9429,
          "longitude": 6.95649
         },
         "name": "KVB Rad"
        },
        {
         "company": [
          "Nextbike GmbH"
         ],
         "href": "/v2/networks/facherrad-karlsruhe",
         "id": "facherrad-karlsruhe",
         "location": {
          "city": "Karlsruhe",
          "country": "DE",
          "latitude": 49.0102,
          "longitude": 8.41827
         },
         "name": "Fächerrad"
        },
        {
         "company": [
          "Nextbike GmbH"
         ],
         "href": "/v2/networks/burgenland-neusiedler-see",
         "id": "burgenland-neusiedler-see",
         "location": {
          "city": "Neusiedler See",
          "country": "AT",
          "latitude": 47.839,
          "longitude": 16.761
         },
         "name": "Burgenland"
        },
        {
         "company": [
          "Nextbike GmbH"
         ],
         "href": "/v2/networks/nextbike-dusseldorf",
         "id": "nextbike-dusseldorf",
         "location": {
          "city": "Düsseldorf",
          "country": "DE",
          "latitude": 51.2243,
          "longitude": 6.77204
         },
         "name": "Nextbike"
        },
        {
         "company": [
          "Nextbike GmbH"
         ],
         "href": "/v2/networks/nextbike-stpolten",
         "id": "nextbike-stpolten",
         "location": {
          "city": "St.Pölten",
          "country": "AT",
          "latitude": 48.2058,
          "longitude": 15.6232
         },
         "name": "Nextbike"
        },
        {
         "company": [
          "Nextbike GmbH"
         ],
         "href": "/v2/networks/nextbike-modling",
         "id": "nextbike-modling",
         "location": {
          "city": "Mödling",
          "country": "AT",
          "latitude": 48.1047,
          "longitude": 16.3202
         },
         "name": "Nextbike"
        },
        {
         "company": [
          "Nextbike GmbH"
         ],
         "href": "/v2/networks/nextbike-sursee",
         "id": "nextbike-sursee",
         "location": {
          "city": "Sursee",
          "country": "CH",
          "latitude": 47.1713,
          "longitude": 8.10877
         },
         "name": "Nextbike"
        },
        {
         "company": [
          "Nextbike GmbH"
         ],
         "href": "/v2/networks/nextbike-luzern",
         "id": "nextbike-luzern",
         "location": {
          "city": "Luzern",
          "country": "CH",
          "latitude": 47.0472,
          "longitude": 8.30446
         },
         "name": "Nextbike"
        },
        {
         "company": [
          "Nextbike GmbH"
         ],
         "href": "/v2/networks/sixt-riga",
         "id": "sixt-riga",
         "location": {
          "city": "Rīga",
          "country": "LV",
          "latitude": 56.9453,
          "longitude": 24.1033
         },
         "name": "SiXT"
        },
        {
         "company": [
          "Nextbike GmbH"
         ],
         "href": "/v2/networks/metropolradruhr-dortmund",
         "id": "metropolradruhr-dortmund",
         "location": {
          "city": "Dortmund",
          "country": "DE",
          "latitude": 51.5141,
          "longitude": 7.46255
         },
         "name": "metropolradruhr"
        },
        {
         "company": [
          "Nextbike GmbH"
         ],
         "href": "/v2/networks/metropolradruhr-bochum",
         "id": "metropolradruhr-bochum",
         "location": {
          "city": "Bochum",
          "country": "DE",
          "latitude": 51.4813,
          "longitude": 7.2133
         },
         "name": "metropolradruhr"
        },
        {
         "company": [
          "Nextbike GmbH"
         ],
         "href": "/v2/networks/metropolradruhr-bottrop",
         "id": "metropolradruhr-bottrop",
         "location": {
          "city": "Bottrop",
          "country": "DE",
          "latitude": 51.5263,
          "longitude": 6.94611
         },
         "name": "metropolradruhr"
        },
        {
         "company": [
          "Nextbike GmbH"
         ],
         "href": "/v2/networks/metropolradruhr-duisburg",
         "id": "metropolradruhr-duisburg",
         "location": {
          "city": "Duisburg",
          "country": "DE",
          "latitude": 51.4487,
          "longitude": 6.77513
         },
         "name": "metropolradruhr"
        },
        {
         "company": [
          "Nextbike GmbH"
         ],
         "href": "/v2/networks/metropolradruhr-essen",
         "id": "metropolradruhr-essen",
         "location": {
          "city": "Essen",
          "country": "DE",
          "latitude": 51.4425,
          "longitude": 7.02301
         },
         "name": "metropolradruhr"
        },
        {
         "company": [
          "Nextbike GmbH"
         ],
         "href": "/v2/networks/metropolradruhr-gelsenkirchen",
         "id": "metropolradruhr-gelsenkirchen",
         "location": {
          "city": "Gelsenkirchen",
          "country": "DE",
          "latitude": 51.5404,
          "longitude": 7.07039
         },
         "name": "metropolradruhr"
        },
        {
         "company": [
          "Nextbike GmbH"
         ],
         "href": "/v2/networks/metropolradruhr-hamm",
         "id": "metropolradruhr-hamm",
         "location": {
          "city": "Hamm",
          "country": "DE",
          "latitude": 51.6775,
          "longitude": 7.84836
         },
         "name": "metropolradruhr"
        },
        {
         "company": [
          "Nextbike GmbH"
         ],
         "href": "/v2/networks/metropolradruhr-herne",
         "id": "metropolradruhr-herne",
         "location": {
          "city": "Herne",
          "country": "DE",
          "latitude": 51.5363,
          "longitude": 7.21493
         },
         "name": "metropolradruhr"
        },
        {
         "company": [
          "Nextbike GmbH"
         ],
         "href": "/v2/networks/metropolradruhr-mulheim-adr",
         "id": "metropolradruhr-mulheim-adr",
         "location": {
          "city": "Mülheim a.d.R.",
          "country": "DE",
          "latitude": 51.4308,
          "longitude": 6.87401
         },
         "name": "metropolradruhr"
        },
        {
         "company": [
          "Nextbike GmbH"
         ],
         "href": "/v2/networks/metropolradruhr-oberhausen",
         "id": "metropolradruhr-oberhausen",
         "location": {
          "city": "Oberhausen",
          "country": "DE",
          "latitude": 51.4936,
          "longitude": 6.85169
         },
         "name": "metropolradruhr"
        },
        {
         "company": [
          "Nextbike GmbH"
         ],
         "href": "/v2/networks/nextbike-wachau",
         "id": "nextbike-wachau",
         "location": {
          "city": "Wachau",
          "country": "AT",
          "latitude": 48.3188,
          "longitude": 15.4166
         },
         "name": "Nextbike"
        },
        {
         "company": [
          "Nextbike GmbH"
         ],
         "href": "/v2/networks/nextbike-tulln",
         "id": "nextbike-tulln",
         "location": {
          "city": "Tulln",
          "country": "AT",
          "latitude": 48.3269,
          "longitude": 16.0569
         },
         "name": "Nextbike"
        },
        {
         "company": [
          "Nextbike GmbH"
         ],
         "href": "/v2/networks/nextbike-thermenregion",
         "id": "nextbike-thermenregion",
         "location": {
          "city": "Thermenregion",
          "country": "AT",
          "latitude": 47.9892,
          "longitude": 16.2646
         },
         "name": "Nextbike"
        },
        {
         "company": [
          "Nextbike GmbH"
         ],
         "href": "/v2/networks/wrm-wroclaw",
         "id": "wrm-wroclaw",
         "location": {
          "city": "Wrocław",
          "country": "PL",
          "latitude": 51.1097,
          "longitude": 17.0485
         },
         "name": "WRM"
        },
        {
         "company": [
          "Nextbike GmbH"
         ],
         "href": "/v2/networks/nextbike-offenburg",
         "id": "nextbike-offenburg",
         "location": {
          "city": "Offenburg",
          "country": "DE",
          "latitude": 48.4721,
          "longitude": 7.94243
         },
         "name": "Nextbike"
        },
        {
         "company": [
          "Nextbike GmbH"
         ],
         "href": "/v2/networks/nextbike-wrneustadt",
         "id": "nextbike-wrneustadt",
         "location": {
          "city": "Wr.Neustadt",
          "country": "AT",
          "latitude": 47.8167,
          "longitude": 16.2426
         },
         "name": "Nextbike"
        },
        {
         "company": [
          "Nextbike GmbH"
         ],
         "href": "/v2/networks/nextbike-potsdam",
         "id": "nextbike-potsdam",
         "location": {
          "city": "Potsdam",
          "country": "DE",
          "latitude": 52.3997,
          "longitude": 13.0676
         },
         "name": "Nextbike"
        },
        {
         "company": [
          "Nextbike GmbH"
         ],
         "href": "/v2/networks/nextbike-gutersloh",
         "id": "nextbike-gutersloh",
         "location": {
          "city": "Gütersloh",
          "country": "DE",
          "latitude": 51.9049,
          "longitude": 8.39275
         },
         "name": "Nextbike"
        },
        {
         "company": [
          "Nextbike GmbH"
         ],
         "href": "/v2/networks/nextbike-10vorwien",
         "id": "nextbike-10vorwien",
         "location": {
          "city": "10vorWien",
          "country": "AT",
          "latitude": 48.3403,
          "longitude": 16.279
         },
         "name": "Nextbike"
        },
        {
         "company": [
          "Nextbike GmbH"
         ],
         "href": "/v2/networks/usedomrad-usedom",
         "id": "usedomrad-usedom",
         "location": {
          "city": "Usedom",
          "country": "DE",
          "latitude": 53.9779,
          "longitude": 13.9925
         },
         "name": "UsedomRad"
        },
        {
         "company": [
          "Nextbike GmbH"
         ],
         "href": "/v2/networks/nextbike-norderstedt",
         "id": "nextbike-norderstedt",
         "location": {
          "city": "Norderstedt",
          "country": "DE",
          "latitude": 53.6969,
          "longitude": 10.002
         },
         "name": "Nextbike"
        },
        {
         "company": [
          "Nextbike GmbH"
         ],
         "href": "/v2/networks/swa-rad-augsburg",
         "id": "swa-rad-augsburg",
         "location": {
          "city": "Augsburg",
          "country": "DE",
          "latitude": 48.3647,
          "longitude": 10.8916
         },
         "name": "SWA Rad"
        },
        {
         "company": [
          "Nextbike GmbH"
         ],
         "href": "/v2/networks/nextbike-limassol",
         "id": "nextbike-limassol",
         "location": {
          "city": "Limassol",
          "country": "CY",
          "latitude": 34.6823,
          "longitude": 33.0464
         },
         "name": "Nextbike"
        },
        {
         "company": [
          "Nextbike GmbH"
         ],
         "href": "/v2/networks/prm-poznan",
         "id": "prm-poznan",
         "location": {
          "city": "Poznań",
          "country": "PL",
          "latitude": 52.4077,
          "longitude": 16.9323
         },
         "name": "PRM"
        },
        {
         "company": [
          "Nextbike GmbH"
         ],
         "href": "/v2/networks/nextbike-christchurch",
         "id": "nextbike-christchurch",
         "location": {
          "city": "Christchurch",
          "country": "NZ",
          "latitude": -43.5341,
          "longitude": 172.621
         },
         "name": "Nextbike"
        },
        {
         "company": [
          "Nextbike GmbH"
         ],
         "href": "/v2/networks/vrn-heidelberg",
         "id": "vrn-heidelberg",
         "location": {
          "city": "Heidelberg",
          "country": "DE",
          "latitude": 49.4023,
          "longitude": 8.67577
         },
         "name": "VRN"
        },
        {
         "company": [
          "Nextbike GmbH"
         ],
         "href": "/v2/networks/vrn-mannheim",
         "id": "vrn-mannheim",
         "location": {
          "city": "Mannheim",
          "country": "DE",
          "latitude": 49.4869,
          "longitude": 8.45638
         },
         "name": "VRN"
        },
        {
         "company": [
          "Nextbike GmbH"
         ],
         "href": "/v2/networks/stadtrad-innsbruck",
         "id": "stadtrad-innsbruck",
         "location": {
          "city": "Innsbruck",
          "country": "AT",
          "latitude": 47.2632,
          "longitude": 11.3961
         },
         "name": "Stadtrad"
        },
        {
         "company": [
          "Nextbike GmbH"
         ],
         "href": "/v2/networks/nextbike-nicosia",
         "id": "nextbike-nicosia",
         "location": {
          "city": "Nicosia",
          "country": "CY",
          "latitude": 35.1728,
          "longitude": 33.3653
         },
         "name": "Nextbike"
        },
        {
         "company": [
          "Nextbike GmbH"
         ],
         "href": "/v2/networks/veturilo-warszawa",
         "id": "veturilo-warszawa",
         "location": {
          "city": "Warszawa",
          "country": "PL",
          "latitude": 52.2265,
          "longitude": 21.0127
         },
         "name": "VETURILO"
        },
        {
         "company": [
          "Nextbike GmbH"
         ],
         "href": "/v2/networks/nextbike-hollabrunn",
         "id": "nextbike-hollabrunn",
         "location": {
          "city": "Hollabrunn",
          "country": "AT",
          "latitude": 48.562,
          "longitude": 16.0785
         },
         "name": "Nextbike"
        },
        {
         "company": [
          "Nextbike GmbH"
         ],
         "href": "/v2/networks/nextbike-wienerwald",
         "id": "nextbike-wienerwald",
         "location": {
          "city": "WienerWald",
          "country": "AT",
          "latitude": 48.1926,
          "longitude": 16.141
         },
         "name": "Nextbike"
        },
        {
         "company": [
          "Nextbike GmbH"
         ],
         "href": "/v2/networks/nextbike-zagreb",
         "id": "nextbike-zagreb",
         "location": {
          "city": "Zagreb",
          "country": "HR",
          "latitude": 45.7984,
          "longitude": 15.9789
         },
         "name": "Nextbike"
        },
        {
         "company": [
          "Nextbike GmbH"
         ],
         "href": "/v2/networks/nextbike-glasgow",
         "id": "nextbike-glasgow",
         "location": {
          "city": "Glasgow",
          "country": "GB",
          "latitude": 55.8589,
          "longitude": -4.25549
         },
         "name": "Nextbike"
        },
        {
         "company": [
          "Nextbike GmbH"
         ],
         "href": "/v2/networks/belfastbikes-belfast",
         "id": "belfastbikes-belfast",
         "location": {
          "city": "Belfast",
          "country": "GB",
          "latitude": 54.5969,
          "longitude": -5.92918
         },
         "name": "BelfastBikes"
        },
        {
         "company": [
          "Nextbike GmbH"
         ],
         "href": "/v2/networks/nextbike-stirling",
         "id": "nextbike-stirling",
         "location": {
          "city": "Stirling",
          "country": "GB",
          "latitude": 56.1165,
          "longitude": -3.9369
         },
         "name": "Nextbike"
        },
        {
         "company": [
          "Nextbike GmbH"
         ],
         "href": "/v2/networks/grad-sibenik-sibenik",
         "id": "grad-sibenik-sibenik",
         "location": {
          "city": "Šibenik",
          "country": "HR",
          "latitude": 43.733,
          "longitude": 15.8982
         },
         "name": "Grad Šibenik"
        },
        {
         "company": [
          "Nextbike GmbH"
         ],
         "href": "/v2/networks/lrm-lublin-lublin",
         "id": "lrm-lublin-lublin",
         "location": {
          "city": "Lublin",
          "country": "PL",
          "latitude": 51.2469,
          "longitude": 22.5697
         },
         "name": "LRM Lublin"
        },
        {
         "company": [
          "Nextbike GmbH"
         ],
         "href": "/v2/networks/healthy-ride-pittsburgh-pittsburgh",
         "id": "healthy-ride-pittsburgh-pittsburgh",
         "location": {
          "city": "Pittsburgh",
          "country": "US",
          "latitude": 40.4459,
          "longitude": -79.9945
         },
         "name": "Healthy Ride"
        },
        {
         "company": [
          "Nextbike GmbH"
         ],
         "href": "/v2/networks/grm-grodzisk-grodzisk-mazowiecki",
         "id": "grm-grodzisk-grodzisk-mazowiecki",
         "location": {
          "city": "Grodzisk Mazowiecki",
          "country": "PL",
          "latitude": 52.113,
          "longitude": 20.6265
         },
         "name": "GRM Grodzisk"
        },
        {
         "company": [
          "Nextbike GmbH"
         ],
         "href": "/v2/networks/nextbike-quickborn",
         "id": "nextbike-quickborn",
         "location": {
          "city": "Quickborn",
          "country": "DE",
          "latitude": 53.7333,
          "longitude": 9.90272
         },
         "name": "Nextbike"
        },
        {
         "company": [
          "Nextbike GmbH"
         ],
         "href": "/v2/networks/vrn-ludwigshafen",
         "id": "vrn-ludwigshafen",
         "location": {
          "city": "Ludwigshafen",
          "country": "DE",
          "latitude": 49.4741,
          "longitude": 8.43287
         },
         "name": "VRN"
        },
        {
         "company": [
          "Nextbike GmbH"
         ],
         "href": "/v2/networks/vrn-speyer",
         "id": "vrn-speyer",
         "location": {
          "city": "Speyer",
          "country": "DE",
          "latitude": 49.3126,
          "longitude": 8.45295
         },
         "name": "VRN"
        },
        {
         "company": [
          "Nextbike GmbH"
         ],
         "href": "/v2/networks/nextbike-lviv",
         "id": "nextbike-lviv",
         "location": {
          "city": "Lviv",
          "country": "UA",
          "latitude": 49.8402,
          "longitude": 24.0182
         },
         "name": "Nextbike"
        },
        {
         "company": [
          "Nextbike GmbH"
         ],
         "href": "/v2/networks/nextbike-wurzburg",
         "id": "nextbike-wurzburg",
         "location": {
          "city": "Würzburg",
          "country": "DE",
          "latitude": 49.8,
          "longitude": 9.93333
         },
         "name": "Nextbike"
        },
        {
         "company": [
          "Nextbike GmbH"
         ],
         "href": "/v2/networks/nextbike-serfaus",
         "id": "nextbike-serfaus",
         "location": {
          "city": "Serfaus",
          "country": "AT",
          "latitude": 47.0387,
          "longitude": 10.6048
         },
         "name": "Nextbike"
        },
        {
         "company": [
          "Nextbike GmbH"
         ],
         "href": "/v2/networks/nextbike-malta",
         "id": "nextbike-malta",
         "location": {
          "city": "Malta",
          "country": "MT",
          "latitude": 35.9192,
          "longitude": 14.4889
         },
         "name": "Nextbike"
        },
        {
         "company": [
          "Nextbike GmbH"
         ],
         "href": "/v2/networks/grad-karlovac-karlovac",
         "id": "grad-karlovac-karlovac",
         "location": {
          "city": "Karlovac",
          "country": "HR",
          "latitude": 45.4905,
          "longitude": 15.5503
         },
         "name": "Grad Karlovac"
        },
        {
         "company": [
          "Nextbike GmbH"
         ],
         "href": "/v2/networks/grad-slavonski-brod-slavonski-brod",
         "id": "grad-slavonski-brod-slavonski-brod",
         "location": {
          "city": "Slavonski Brod",
          "country": "HR",
          "latitude": 45.1656,
          "longitude": 18.0183
         },
         "name": "Grad Slavonski Brod"
        },
        {
         "company": [
          "Nextbike GmbH"
         ],
         "href": "/v2/networks/santander-cycles-mk-milton-keynes",
         "id": "santander-cycles-mk-milton-keynes",
         "location": {
          "city": "Milton Keynes",
          "country": "GB",
          "latitude": 52.0406,
          "longitude": -0.759417
         },
         "name": "Santander Cycles MK"
        },
        {
         "company": [
          "Nextbike GmbH"
         ],
         "href": "/v2/networks/nextbike-hergiswil",
         "id": "nextbike-hergiswil",
         "location": {
          "city": "Hergiswil",
          "country": "CH",
          "latitude": 46.9905,
          "longitude": 8.30829
         },
         "name": "Nextbike"
        },
        {
         "company": [
          "Nextbike GmbH"
         ],
         "href": "/v2/networks/grad-makarska-makarska",
         "id": "grad-makarska-makarska",
         "location": {
          "city": "Makarska",
          "country": "HR",
          "latitude": 43.2992,
          "longitude": 17.0184
         },
         "name": "Grad Makarska"
        },
        {
         "company": [
          "Nextbike GmbH"
         ],
         "href": "/v2/networks/opcina-brinje-brinje",
         "id": "opcina-brinje-brinje",
         "location": {
          "city": "Brinje",
          "country": "HR",
          "latitude": 44.9977,
          "longitude": 15.1258
         },
         "name": "Općina Brinje"
        },
        {
         "company": [
          "Nextbike GmbH"
         ],
         "href": "/v2/networks/grad-zadar-zadar",
         "id": "grad-zadar-zadar",
         "location": {
          "city": "Zadar",
          "country": "HR",
          "latitude": 44.0058,
          "longitude": 15.2183
         },
         "name": "Grad Zadar"
        },
        {
         "company": [
          "Nextbike GmbH"
         ],
         "href": "/v2/networks/vrn-bensheim",
         "id": "vrn-bensheim",
         "location": {
          "city": "Bensheim",
          "country": "DE",
          "latitude": 49.6803,
          "longitude": 8.6189
         },
         "name": "VRN"
        },
        {
         "company": [
          "Nextbike GmbH"
         ],
         "href": "/v2/networks/grad-ivanic-grad-ivanic-grad",
         "id": "grad-ivanic-grad-ivanic-grad",
         "location": {
          "city": "Ivanic Grad",
          "country": "HR",
          "latitude": 45.7062,
          "longitude": 16.3919
         },
         "name": "Grad Ivanić-Grad"
        },
        {
         "company": [
          "Nextbike GmbH"
         ],
         "href": "/v2/networks/bike-s-srm-szczecin",
         "id": "bike-s-srm-szczecin",
         "location": {
          "city": "Szczecin",
          "country": "PL",
          "latitude": 53.4301,
          "longitude": 14.5498
         },
         "name": "Bike_S SRM"
        },
        {
         "company": [
          "Nextbike GmbH"
         ],
         "href": "/v2/networks/nextbike-sarajevo",
         "id": "nextbike-sarajevo",
         "location": {
          "city": "Sarajevo",
          "country": "BA",
          "latitude": 43.85,
          "longitude": 18.39
         },
         "name": "Nextbike"
        },
        {
         "company": [
          "Nextbike GmbH"
         ],
         "href": "/v2/networks/co-bikes-exeter",
         "id": "co-bikes-exeter",
         "location": {
          "city": "Exeter",
          "country": "GB",
          "latitude": 50.7272,
          "longitude": -3.53605
         },
         "name": "Co-bikes"
        },
        {
         "company": [
          "Nextbike GmbH"
         ],
         "href": "/v2/networks/nextbike-auckland-waterfront",
         "id": "nextbike-auckland-waterfront",
         "location": {
          "city": "Auckland Waterfront",
          "country": "NZ",
          "latitude": -36.841,
          "longitude": 174.763
         },
         "name": "Nextbike"
        },
        {
         "company": [
          "Nextbike GmbH"
         ],
         "href": "/v2/networks/nextbike-berlin",
         "id": "nextbike-berlin",
         "location": {
          "city": "Berlin",
          "country": "DE",
          "latitude": 52.5087,
          "longitude": 13.3563
         },
         "name": "Nextbike"
        },
        {
         "company": [
          "Nextbike GmbH"
         ],
         "href": "/v2/networks/veturilo-stacje-sponsorskie-nextbike-veturilo",
         "id": "veturilo-stacje-sponsorskie-nextbike-veturilo",
         "location": {
          "city": "Warszawa",
          "country": "PL",
          "latitude": 52.2265,
          "longitude": 21.0127
         },
         "name": "Stacje Sponsorskie Nextbike Veturilo"
        },
        {
         "company": [
          "Nextbike GmbH"
         ],
         "href": "/v2/networks/bike4all-byblos",
         "id": "bike4all-byblos",
         "location": {
          "city": "Byblos",
          "country": "LB",
          "latitude": 34.1236,
          "longitude": 35.6511
         },
         "name": "bike4all"
        },
        {
         "company": [
          "Nextbike GmbH"
         ],
         "href": "/v2/networks/chartered-bike-bhopal-bhopal",
         "id": "chartered-bike-bhopal-bhopal",
         "location": {
          "city": "Bhopal",
          "country": "IN",
          "latitude": 23.2467,
          "longitude": 77.411
         },
         "name": "Chartered Bike"
        },
        {
         "company": [
          "Nextbike GmbH"
         ],
         "href": "/v2/networks/wk-bike-bremen-bremen",
         "id": "wk-bike-bremen-bremen",
         "location": {
          "city": "Bremen",
          "country": "DE",
          "latitude": 53.0781,
          "longitude": 8.80132
         },
         "name": "WK-Bike"
        },
        {
         "company": [
          "Nextbike GmbH"
         ],
         "href": "/v2/networks/vrn-worms",
         "id": "vrn-worms",
         "location": {
          "city": "Worms",
          "country": "DE",
          "latitude": 49.6394,
          "longitude": 8.34618
         },
         "name": "VRN"
        },
        {
         "company": [
          "Nextbike GmbH"
         ],
         "href": "/v2/networks/nextbike-stans",
         "id": "nextbike-stans",
         "location": {
          "city": "Stans",
          "country": "CH",
          "latitude": 46.9593,
          "longitude": 8.36836
         },
         "name": "Nextbike"
        },
        {
         "company": [
          "Nextbike GmbH"
         ],
         "href": "/v2/networks/nextbike-stansstad",
         "id": "nextbike-stansstad",
         "location": {
          "city": "Stansstad",
          "country": "CH",
          "latitude": 46.9801,
          "longitude": 8.34098
         },
         "name": "Nextbike"
        },
        {
         "company": [
          "Nextbike GmbH"
         ],
         "href": "/v2/networks/nextbike-horw",
         "id": "nextbike-horw",
         "location": {
          "city": "Horw",
          "country": "CH",
          "latitude": 47.0188,
          "longitude": 8.30828
         },
         "name": "Nextbike"
        },
        {
         "company": [
          "Nextbike GmbH"
         ],
         "href": "/v2/networks/vrn-burstadt",
         "id": "vrn-burstadt",
         "location": {
          "city": "Bürstadt",
          "country": "DE",
          "latitude": 49.6461,
          "longitude": 8.44917
         },
         "name": "VRN"
        },
        {
         "company": [
          "Nextbike GmbH"
         ],
         "href": "/v2/networks/prm-stacje-sponsorskie-nextbike-prm",
         "id": "prm-stacje-sponsorskie-nextbike-prm",
         "location": {
          "city": "Poznań",
          "country": "PL",
          "latitude": 52.4077,
          "longitude": 16.9323
         },
         "name": "Stacje Sponsorskie Nextbike PRM"
        },
        {
         "company": [
          "Nextbike GmbH"
         ],
         "href": "/v2/networks/nextbike-gross-enzersdorf",
         "id": "nextbike-gross-enzersdorf",
         "location": {
          "city": "Groß Enzersdorf",
          "country": "AT",
          "latitude": 48.1986,
          "longitude": 16.5496
         },
         "name": "Nextbike"
        },
        {
         "company": [
          "Nextbike GmbH"
         ],
         "href": "/v2/networks/nextbike-klagenfurt",
         "id": "nextbike-klagenfurt",
         "location": {
          "city": "Klagenfurt",
          "country": "AT",
          "latitude": 46.6335,
          "longitude": 14.3085
         },
         "name": "Nextbike"
        },
        {
         "company": [
          "Nextbike GmbH"
         ],
         "href": "/v2/networks/vrn-kaiserslautern",
         "id": "vrn-kaiserslautern",
         "location": {
          "city": "Kaiserslautern",
          "country": "DE",
          "latitude": 49.4413,
          "longitude": 7.75566
         },
         "name": "VRN"
        },
        {
         "company": [
          "Nextbike GmbH"
         ],
         "href": "/v2/networks/sitycleta-las-palmas-las-palmas-de-gran-canaria",
         "id": "sitycleta-las-palmas-las-palmas-de-gran-canaria",
         "location": {
          "city": "Las Palmas de Gran Canaria",
          "country": "ES",
          "latitude": 28.1236,
          "longitude": -15.4366
         },
         "name": "Sitycleta"
        },
        {
         "company": [
          "Nextbike GmbH"
         ],
         "href": "/v2/networks/grad-velika-gorica-velika-gorica",
         "id": "grad-velika-gorica-velika-gorica",
         "location": {
          "city": "Velika Gorica",
          "country": "HR",
          "latitude": 45.7161,
          "longitude": 16.0683
         },
         "name": "Grad Velika Gorica"
        },
        {
         "company": [
          "Nextbike GmbH"
         ],
         "href": "/v2/networks/grad-sisak-sisak",
         "id": "grad-sisak-sisak",
         "location": {
          "city": "Sisak",
          "country": "HR",
          "latitude": 45.4875,
          "longitude": 16.3753
         },
         "name": "Grad Sisak"
        },
        {
         "company": [
          "Nextbike GmbH"
         ],
         "href": "/v2/networks/kolobrzeski-rower-miejski-kolobrzeg",
         "id": "kolobrzeski-rower-miejski-kolobrzeg",
         "location": {
          "city": "Kołobrzeg",
          "country": "PL",
          "latitude": 54.1762,
          "longitude": 15.5761
         },
         "name": "Kołobrzeski Rower Miejski"
        },
        {
         "company": [
          "Nextbike GmbH"
         ],
         "href": "/v2/networks/grad-metkovic-metkovic",
         "id": "grad-metkovic-metkovic",
         "location": {
          "city": "Metković",
          "country": "HR",
          "latitude": 43.0654,
          "longitude": 17.642
         },
         "name": "Grad Metković"
        },
        {
         "company": [
          "Nextbike GmbH"
         ],
         "href": "/v2/networks/jastrebarsko-jastrebarsko",
         "id": "jastrebarsko-jastrebarsko",
         "location": {
          "city": "Jastrebarsko",
          "country": "HR",
          "latitude": 45.6692,
          "longitude": 15.6541
         },
         "name": "Nextbike"
        },
        {
         "company": [
          "Nextbike GmbH"
         ],
         "href": "/v2/networks/grad-drnis-drnis",
         "id": "grad-drnis-drnis",
         "location": {
          "city": "Drniš",
          "country": "HR",
          "latitude": 43.8425,
          "longitude": 16.1197
         },
         "name": "Nextbike"
        },
        {
         "company": [
          "Nextbike GmbH"
         ],
         "href": "/v2/networks/nextbike-tuzla",
         "id": "nextbike-tuzla",
         "location": {
          "city": "Tuzla",
          "country": "BA",
          "latitude": 44.5392,
          "longitude": 18.675
         },
         "name": "Nextbike"
        },
        {
         "company": [
          "Nextbike GmbH"
         ],
         "href": "/v2/networks/arriva-nitra",
         "id": "arriva-nitra",
         "location": {
          "city": "Nitra",
          "country": "SK",
          "latitude": 48.3088,
          "longitude": 18.0783
         },
         "name": "Arriva"
        },
        {
         "company": [
          "Nextbike GmbH"
         ],
         "href": "/v2/networks/nextbike-marburg",
         "id": "nextbike-marburg",
         "location": {
          "city": "Marburg",
          "country": "DE",
          "latitude": 50.8019,
          "longitude": 8.76444
         },
         "name": "Nextbike"
        },
        {
         "company": [
          "Nextbike GmbH"
         ],
         "href": "/v2/networks/bubi",
         "id": "bubi",
         "location": {
          "city": "Budapest",
          "country": "HU",
          "latitude": 47.497912,
          "longitude": 19.040235
         },
         "name": "MOL Bubi"
        },
        {
         "company": [
          "Nextbike GmbH"
         ],
         "href": "/v2/networks/nextbike-russelsheim-am-main",
         "id": "nextbike-russelsheim-am-main",
         "location": {
          "city": "Rüsselsheim am Main",
          "country": "DE",
          "latitude": 49.9881,
          "longitude": 8.42142
         },
         "name": "Nextbike"
        },
        {
         "company": [
          "Nextbike GmbH"
         ],
         "href": "/v2/networks/rower-miejski-szamotuly-rms-szamotuly",
         "id": "rower-miejski-szamotuly-rms-szamotuly",
         "location": {
          "city": "Szamotuły",
          "country": "PL",
          "latitude": 52.6112,
          "longitude": 16.5819
         },
         "name": "Rower Miejski Szamotuły"
        },
        {
         "company": [
          "Nextbike GmbH"
         ],
         "href": "/v2/networks/nextbike-dordrecht",
         "id": "nextbike-dordrecht",
         "location": {
          "city": "Dordrecht",
          "country": "NL",
          "latitude": 51.7833,
          "longitude": 4.69391
         },
         "name": "Nextbike"
        },
        {
         "company": [
          "Nextbike GmbH"
         ],
         "href": "/v2/networks/vrn-heppenheim",
         "id": "vrn-heppenheim",
         "location": {
          "city": "Heppenheim",
          "country": "DE",
          "latitude": 49.6431,
          "longitude": 8.63889
         },
         "name": "VRN"
        },
        {
         "company": [
          "Nextbike GmbH"
         ],
         "href": "/v2/networks/piaseczynski-rower-miejski-piaseczno",
         "id": "piaseczynski-rower-miejski-piaseczno",
         "location": {
          "city": "Piaseczno",
          "country": "PL",
          "latitude": 52.0733,
          "longitude": 21.0269
         },
         "name": "Piaseczyński Rower Miejski"
        },
        {
         "company": [
          "Nextbike GmbH"
         ],
         "href": "/v2/networks/nextbike-kassel",
         "id": "nextbike-kassel",
         "location": {
          "city": "Kassel",
          "country": "DE",
          "latitude": 51.3127,
          "longitude": 9.47975
         },
         "name": "Nextbike"
        },
        {
         "company": [
          "Nextbike GmbH"
         ],
         "href": "/v2/networks/nextbike-sarnen",
         "id": "nextbike-sarnen",
         "location": {
          "city": "Sarnen",
          "country": "CH",
          "latitude": 46.8963,
          "longitude": 8.24614
         },
         "name": "Nextbike"
        },
        {
         "company": [
          "Nextbike GmbH"
         ],
         "href": "/v2/networks/nextbike-wolfenschiessen",
         "id": "nextbike-wolfenschiessen",
         "location": {
          "city": "Wolfenschiessen",
          "country": "CH",
          "latitude": 46.9079,
          "longitude": 8.39767
         },
         "name": "Nextbike"
        },
        {
         "company": [
          "Nextbike GmbH"
         ],
         "href": "/v2/networks/nextbike-oberdorf",
         "id": "nextbike-oberdorf",
         "location": {
          "city": "Oberdorf",
          "country": "CH",
          "latitude": 46.9563,
          "longitude": 8.3884
         },
         "name": "Nextbike"
        },
        {
         "company": [
          "Nextbike GmbH"
         ],
         "href": "/v2/networks/nextbike-giessen",
         "id": "nextbike-giessen",
         "location": {
          "city": "Gießen",
          "country": "DE",
          "latitude": 50.5943,
          "longitude": 8.68097
         },
         "name": "Nextbike"
        },
        {
         "company": [
          "Nextbike GmbH"
         ],
         "href": "/v2/networks/vrn-weinheim",
         "id": "vrn-weinheim",
         "location": {
          "city": "Weinheim",
          "country": "DE",
          "latitude": 49.545,
          "longitude": 8.66027
         },
         "name": "VRN"
        },
        {
         "company": [
          "Nextbike GmbH"
         ],
         "href": "/v2/networks/nextbike-cardiff",
         "id": "nextbike-cardiff",
         "location": {
          "city": "Cardiff",
          "country": "GB",
          "latitude": 51.4848,
          "longitude": -3.19062
         },
         "name": "Nextbike"
        },
        {
         "company": [
          "Nextbike GmbH"
         ],
         "href": "/v2/networks/vrn-hockenheim",
         "id": "vrn-hockenheim",
         "location": {
          "city": "Hockenheim",
          "country": "DE",
          "latitude": 49.3227,
          "longitude": 8.54258
         },
         "name": "VRN"
        },
        {
         "company": [
          "Nextbike GmbH"
         ],
         "href": "/v2/networks/vrn-schwetzingen",
         "id": "vrn-schwetzingen",
         "location": {
          "city": "Schwetzingen",
          "country": "DE",
          "latitude": 49.3863,
          "longitude": 8.5756
         },
         "name": "VRN"
        },
        {
         "company": [
          "Nextbike GmbH"
         ],
         "href": "/v2/networks/nextbike-ennetmoos",
         "id": "nextbike-ennetmoos",
         "location": {
          "city": "Ennetmoos",
          "country": "CH",
          "latitude": 46.9573,
          "longitude": 8.3377
         },
         "name": "Nextbike"
        },
        {
         "company": [
          "Nextbike GmbH"
         ],
         "href": "/v2/networks/vrn-eppelheim",
         "id": "vrn-eppelheim",
         "location": {
          "city": "Eppelheim",
          "country": "DE",
          "latitude": 49.4025,
          "longitude": 8.6331
         },
         "name": "VRN"
        },
        {
         "company": [
          "Nextbike GmbH"
         ],
         "href": "/v2/networks/nextbike-university-of-surrey",
         "id": "nextbike-university-of-surrey",
         "location": {
          "city": "Surrey",
          "country": "GB",
          "latitude": 51.2422,
          "longitude": -0.590594
         },
         "name": "Nextbike"
        },
        {
         "company": [
          "Nextbike GmbH"
         ],
         "href": "/v2/networks/santander-cycles-swansea-swansea-university",
         "id": "santander-cycles-swansea-swansea-university",
         "location": {
          "city": "Swansea",
          "country": "GB",
          "latitude": 51.6106,
          "longitude": -3.9764
         },
         "name": "Santander Cycles"
        },
        {
         "company": [
          "Nextbike GmbH"
         ],
         "href": "/v2/networks/nextbike-erfurt",
         "id": "nextbike-erfurt",
         "location": {
          "city": "Erfurt",
          "country": "DE",
          "latitude": 50.9785,
          "longitude": 11.0334
         },
         "name": "Nextbike"
        },
        {
         "company": [
          "Nextbike GmbH"
         ],
         "href": "/v2/networks/bl-bike-banja-luka",
         "id": "bl-bike-banja-luka",
         "location": {
          "city": "Banja Luka",
          "country": "BA",
          "latitude": 44.775,
          "longitude": 17.1994
         },
         "name": "BL bike"
        },
        {
         "company": [
          "Nextbike GmbH"
         ],
         "href": "/v2/networks/lahr-pedelecs-lahr",
         "id": "lahr-pedelecs-lahr",
         "location": {
          "city": "Lahr",
          "country": "DE",
          "latitude": 48.3396,
          "longitude": 7.87376
         },
         "name": "Nextbike"
        },
        {
         "company": [
          "Nextbike GmbH"
         ],
         "href": "/v2/networks/berlin-buch-campus-berlin-buch",
         "id": "berlin-buch-campus-berlin-buch",
         "location": {
          "city": "Berlin",
          "country": "DE",
          "latitude": 52.6364,
          "longitude": 13.5029
         },
         "name": "Berlin-Buch Campus"
        },
        {
         "company": [
          "Nextbike GmbH"
         ],
         "href": "/v2/networks/lviv-odessa",
         "id": "lviv-odessa",
         "location": {
          "city": "Odessa",
          "country": "UA",
          "latitude": 46.463,
          "longitude": 30.7042
         },
         "name": "Nextbike"
        },
        {
         "company": [
          "Nextbike GmbH"
         ],
         "href": "/v2/networks/zielonogorski-rower-miejski-zielona-gora",
         "id": "zielonogorski-rower-miejski-zielona-gora",
         "location": {
          "city": "Zielona Góra",
          "country": "PL",
          "latitude": 51.9381,
          "longitude": 15.5048
         },
         "name": "Zielonogórski Rower Miejski"
        },
        {
         "company": [
          "Nextbike GmbH"
         ],
         "href": "/v2/networks/santander-monchengladbach",
         "id": "santander-monchengladbach",
         "location": {
          "city": "Mönchengladbach",
          "country": "DE",
          "latitude": 51.1817,
          "longitude": 6.43578
         },
         "name": "Santander Mönchengladbach"
        },
        {
         "company": [
          "Nextbike GmbH"
         ],
         "href": "/v2/networks/nomagobikes-celje",
         "id": "nomagobikes-celje",
         "location": {
          "city": "Celje",
          "country": "SI",
          "latitude": 46.2388,
          "longitude": 15.2693
         },
         "name": "NomagoBikes"
        },
        {
         "company": [
          "Nextbike GmbH"
         ],
         "href": "/v2/networks/bilbon-bizi",
         "id": "bilbon-bizi",
         "location": {
          "city": "Bilbao",
          "country": "ES",
          "latitude": 43.2752,
          "longitude": -2.93528
         },
         "name": "BilbonBizi"
        },
        {
         "company": [
          "Nextbike GmbH"
         ],
         "href": "/v2/networks/nomagobikes-lasko",
         "id": "nomagobikes-lasko",
         "location": {
          "city": "Laško",
          "country": "SI",
          "latitude": 46.1458,
          "longitude": 15.2312
         },
         "name": "NomagoBikes"
        },
        {
         "company": [
          "Nextbike GmbH"
         ],
         "href": "/v2/networks/nextbike-lippstadt",
         "id": "nextbike-lippstadt",
         "location": {
          "city": "Lippstadt",
          "country": "DE",
          "latitude": 51.6755,
          "longitude": 8.34394
         },
         "name": "Nextbike"
        },
        {
         "company": [
          "Nextbike GmbH"
         ],
         "href": "/v2/networks/bikekia-zilina",
         "id": "bikekia-zilina",
         "location": {
          "city": "Žilina",
          "country": "SK",
          "latitude": 49.2217,
          "longitude": 18.7572
         },
         "name": "BikeKia"
        },
        {
         "company": [
          "Nextbike GmbH"
         ],
         "href": "/v2/networks/koninski-rower-miejski-konin",
         "id": "koninski-rower-miejski-konin",
         "location": {
          "city": "Konin",
          "country": "PL",
          "latitude": 52.2284,
          "longitude": 18.2553
         },
         "name": "Koniński Rower Miejski"
        },
        {
         "company": [
          "Nextbike GmbH"
         ],
         "href": "/v2/networks/nextbike-vinnytsia",
         "id": "nextbike-vinnytsia",
         "location": {
          "city": "Vinnytsia",
          "country": "UA",
          "latitude": 49.2328,
          "longitude": 28.4625
         },
         "name": "Nextbike"
        },
        {
         "company": [
          "Nextbike GmbH"
         ],
         "href": "/v2/networks/nextbike-bonn",
         "id": "nextbike-bonn",
         "location": {
          "city": "Bonn",
          "country": "DE",
          "latitude": 50.7367,
          "longitude": 7.09541
         },
         "name": "Nextbike"
        },
        {
         "company": [
          "Nextbike GmbH"
         ],
         "href": "/v2/networks/tarnowski-rower-miejski-tarnow",
         "id": "tarnowski-rower-miejski-tarnow",
         "location": {
          "city": "Tarnów",
          "country": "PL",
          "latitude": 50.0113,
          "longitude": 20.9728
         },
         "name": "Tarnowski Rower Miejski"
        },
        {
         "company": [
          "Nextbike GmbH"
         ],
         "href": "/v2/networks/kolo-marek-marki",
         "id": "kolo-marek-marki",
         "location": {
          "city": "Marki",
          "country": "PL",
          "latitude": 52.3256,
          "longitude": 21.1089
         },
         "name": "Koło Marek"
        },
        {
         "company": [
          "Nextbike GmbH"
         ],
         "href": "/v2/networks/rowerowe-lodzkie-rl-koluszki",
         "id": "rowerowe-lodzkie-rl-koluszki",
         "location": {
          "city": "Koluszki",
          "country": "PL",
          "latitude": 51.7401,
          "longitude": 19.835
         },
         "name": "Rowerowe Łódzkie"
        },
        {
         "company": [
          "Nextbike GmbH"
         ],
         "href": "/v2/networks/rowerowe-lodzkie-rl-lask",
         "id": "rowerowe-lodzkie-rl-lask",
         "location": {
          "city": "Łask",
          "country": "PL",
          "latitude": 51.5893,
          "longitude": 19.142
         },
         "name": "Rowerowe Łódzkie"
        },
        {
         "company": [
          "Nextbike GmbH"
         ],
         "href": "/v2/networks/rowerowe-lodzkie-rl-lowicz",
         "id": "rowerowe-lodzkie-rl-lowicz",
         "location": {
          "city": "Łowicz",
          "country": "PL",
          "latitude": 52.1057,
          "longitude": 19.9381
         },
         "name": "Rowerowe Łódzkie"
        },
        {
         "company": [
          "Nextbike GmbH"
         ],
         "href": "/v2/networks/rowerowe-lodzkie-rl-pabianice",
         "id": "rowerowe-lodzkie-rl-pabianice",
         "location": {
          "city": "Pabianice",
          "country": "PL",
          "latitude": 51.6651,
          "longitude": 19.3548
         },
         "name": "Rowerowe Łódzkie"
        },
        {
         "company": [
          "Nextbike GmbH"
         ],
         "href": "/v2/networks/rowerowe-lodzkie-rl-sieradz",
         "id": "rowerowe-lodzkie-rl-sieradz",
         "location": {
          "city": "Sieradz",
          "country": "PL",
          "latitude": 51.5902,
          "longitude": 18.7382
         },
         "name": "Rowerowe Łódzkie"
        },
        {
         "company": [
          "Nextbike GmbH"
         ],
         "href": "/v2/networks/rowerowe-lodzkie-rl-skierniewice",
         "id": "rowerowe-lodzkie-rl-skierniewice",
         "location": {
          "city": "Skierniewice",
          "country": "PL",
          "latitude": 51.9539,
          "longitude": 20.1469
         },
         "name": "Rowerowe Łódzkie"
        },
        {
         "company": [
          "Nextbike GmbH"
         ],
         "href": "/v2/networks/rowerowe-lodzkie-rl-zdunska-wola",
         "id": "rowerowe-lodzkie-rl-zdunska-wola",
         "location": {
          "city": "Zduńska Wola",
          "country": "PL",
          "latitude": 51.6011,
          "longitude": 18.938
         },
         "name": "Rowerowe Łódzkie"
        },
        {
         "company": [
          "Nextbike GmbH"
         ],
         "href": "/v2/networks/rowerowe-lodzkie-rl-zgierz",
         "id": "rowerowe-lodzkie-rl-zgierz",
         "location": {
          "city": "Zgierz",
          "country": "PL",
          "latitude": 51.8551,
          "longitude": 19.4068
         },
         "name": "Rowerowe Łódzkie"
        },
        {
         "company": [
          "Nextbike GmbH"
         ],
         "href": "/v2/networks/rowerowe-lodzkie-rl-kutno",
         "id": "rowerowe-lodzkie-rl-kutno",
         "location": {
          "city": "Kutno",
          "country": "PL",
          "latitude": 52.2317,
          "longitude": 19.3564
         },
         "name": "Rowerowe Łódzkie"
        },
        {
         "company": [
          "Nextbike GmbH"
         ],
         "href": "/v2/networks/rowerowe-lodzkie-rl-lodz-rl",
         "id": "rowerowe-lodzkie-rl-lodz-rl",
         "location": {
          "city": "Łódź",
          "country": "PL",
          "latitude": 51.7674,
          "longitude": 19.4575
         },
         "name": "Rowerowe Łódzkie"
        },
        {
         "company": [
          "Nextbike GmbH"
         ],
         "href": "/v2/networks/frelo-freiburg",
         "id": "frelo-freiburg",
         "location": {
          "city": "Freiburg",
          "country": "DE",
          "latitude": 47.9958,
          "longitude": 7.84453
         },
         "name": "Frelo"
        },
        {
         "company": [
          "Comunicare S.r.l."
         ],
         "href": "/v2/networks/bicincitta-trieste",
         "id": "bicincitta-trieste",
         "location": {
          "city": "Trieste",
          "country": "IT",
          "latitude": 45.6495,
          "longitude": 13.7768
         },
         "name": "BiTS",
         "source": "https://www.bicincitta.com/frmLeStazioni.aspx?ID=266"
        },
        {
         "company": [
          "Nextbike GmbH"
         ],
         "href": "/v2/networks/mobibike-dresden",
         "id": "mobibike-dresden",
         "location": {
          "city": "Dresden",
          "country": "DE",
          "latitude": 51.0535,
          "longitude": 13.7387
         },
         "name": "MOBIbike"
        },
        {
         "company": [
          "ЗАО «СитиБайк»"
         ],
         "href": "/v2/networks/velobike-murmansk",
         "id": "velobike-murmansk",
         "location": {
          "city": "Murmansk",
          "country": "RU",
          "latitude": 68.968,
          "longitude": 33.074
         },
         "name": "Velobike"
        },
        {
         "company": [
          "ЗАО «СитиБайк»"
         ],
         "href": "/v2/networks/velobike-nizhniy-novgorod",
         "id": "velobike-nizhniy-novgorod",
         "location": {
          "city": "Nizhniy Novgorod",
          "country": "RU",
          "latitude": 56.194,
          "longitude": 44.003
         },
         "name": "Velobike"
        },
        {
         "company": [
          "Nextbike GmbH"
         ],
         "href": "/v2/networks/nextbike-ivano-frankivsk",
         "id": "nextbike-ivano-frankivsk",
         "location": {
          "city": "Ivano Frankivsk",
          "country": "UA",
          "latitude": 48.9281,
          "longitude": 24.7103
         },
         "name": "Nextbike"
        },
        {
         "company": [
          "Velobike.kz, LLP",
          "Smoove"
         ],
         "href": "/v2/networks/almatybike",
         "id": "almatybike",
         "location": {
          "city": "Almaty",
          "country": "KZ",
          "latitude": 43.239101,
          "longitude": 76.9268076
         },
         "name": "Almatybike"
        },
        {
         "company": [
          "Velobike.kz, LLP",
          "Smoove"
         ],
         "href": "/v2/networks/shymkentbike",
         "id": "shymkentbike",
         "location": {
          "city": "Shymkent",
          "country": "KZ",
          "latitude": 42.3184,
          "longitude": 69.5978
         },
         "name": "Shymkentbike"
        },
        {
         "company": [
          "Motivate LLC"
         ],
         "gbfs_href": "https://gbfs.baywheels.com/gbfs/gbfs.json",
         "href": "/v2/networks/bay-wheels",
         "id": "bay-wheels",
         "location": {
          "city": "San Francisco Bay Area, CA",
          "country": "US",
          "latitude": 37.7141454,
          "longitude": -122.25
         },
         "name": "Bay Wheels"
        },
        {
         "company": [
          "Smoove"
         ],
         "gbfs_href": "https://vannes-gbfs.klervi.net/gbfs/gbfs.json",
         "href": "/v2/networks/veloceo",
         "id": "veloceo",
         "location": {
          "city": "Vannes",
          "country": "FR",
          "latitude": 47.6559,
          "longitude": -2.7603
         },
         "name": "Vélocéo"
        },
        {
         "company": [
          "PBSC Urban Solutions"
         ],
         "gbfs_href": "https://monaco.publicbikesystem.net/customer/ube/gbfs/v1/",
         "href": "/v2/networks/monabike",
         "id": "monabike",
         "location": {
          "city": "Monaco",
          "country": "MC",
          "latitude": 43.733333,
          "longitude": 7.416667
         },
         "name": "MonaBike"
        },
        {
         "company": [
          "Ecovelo"
         ],
         "ebikes": true,
         "gbfs_href": "https://api.gbfs.v1.ecovelo.mobi/gbfs/tlpmobilites",
         "href": "/v2/networks/tlp-velo",
         "id": "tlp-velo",
         "location": {
          "city": "Tarbes, Lourdes",
          "country": "FR",
          "latitude": 43.23,
          "longitude": 0.07
         },
         "name": "Tarbes et Lourdes vls"
        },
        {
         "company": [
          "Ecovelo"
         ],
         "ebikes": true,
         "gbfs_href": "https://api.gbfs.v1.ecovelo.mobi/gbfs/zebullo",
         "href": "/v2/networks/zebullo",
         "id": "zebullo",
         "location": {
          "city": "Reims",
          "country": "FR",
          "latitude": 49.2628,
          "longitude": 4.0347
         },
         "name": "ZébullO"
        },
        {
         "company": [
          "Ecovelo"
         ],
         "ebikes": true,
         "gbfs_href": "https://api.gbfs.v1.ecovelo.mobi/gbfs/calais",
         "href": "/v2/networks/velectin",
         "id": "velectin",
         "location": {
          "city": "Calais",
          "country": "FR",
          "latitude": 50.948056,
          "longitude": 1.856389
         },
         "name": "Velect’in"
        },
        {
         "company": [
          "Ecovelo"
         ],
         "gbfs_href": "https://api.gbfs.v1.ecovelo.mobi/gbfs/beb",
         "href": "/v2/networks/rubis-velo",
         "id": "rubis-velo",
         "location": {
          "city": "Bourg-en-Bresse",
          "country": "FR",
          "latitude": 46.2056,
          "longitude": 5.2289
         },
         "name": "Rubis'Vélo"
        },
        {
         "company": [
          "Ecovelo"
         ],
         "ebikes": true,
         "gbfs_href": "https://api.gbfs.v1.ecovelo.mobi/gbfs/tanlib",
         "href": "/v2/networks/tanlib",
         "id": "tanlib",
         "location": {
          "city": "Niort",
          "country": "FR",
          "latitude": 46.3258,
          "longitude": -0.4606
         },
         "name": "Vélo tanlib"
        },
        {
         "company": [
          "Ecovelo"
         ],
         "gbfs_href": "https://api.gbfs.v1.ecovelo.mobi/gbfs/marseillan",
         "href": "/v2/networks/marseillan",
         "id": "marseillan",
         "location": {
          "city": "Marseillan",
          "country": "FR",
          "latitude": 43.3572,
          "longitude": 3.5283
         },
         "name": "Marseillan vélo libre-service"
        },
        {
         "company": [
          "Ecovelo"
         ],
         "ebikes": true,
         "gbfs_href": "https://api.gbfs.v1.ecovelo.mobi/gbfs/via",
         "href": "/v2/networks/via-velo",
         "id": "via-velo",
         "location": {
          "city": "Val d'Ille-Aubigné",
          "country": "FR",
          "latitude": 48.2181,
          "longitude": -1.6947
         },
         "name": "VIA Vélo"
        },
        {
         "company": [
          "Ecovelo"
         ],
         "ebikes": true,
         "gbfs_href": "https://api.gbfs.v1.ecovelo.mobi/gbfs/velyceo",
         "href": "/v2/networks/velyceo",
         "id": "velyceo",
         "location": {
          "city": "Saint-Nazaire",
          "country": "FR",
          "latitude": 47.2806,
          "longitude": -2.2086
         },
         "name": "vélYcéo"
        },
        {
         "company": [
          "Ecovelo"
         ],
         "ebikes": true,
         "gbfs_href": "https://api.gbfs.v1.ecovelo.mobi/gbfs/velocite",
         "href": "/v2/networks/velocite-laon",
         "id": "velocite-laon",
         "location": {
          "city": "Laon",
          "country": "FR",
          "latitude": 49.5639,
          "longitude": 3.6244
         },
         "name": "Vélo'Cité"
        },
        {
         "company": [
          "Ecovelo"
         ],
         "ebikes": true,
         "gbfs_href": "https://api.gbfs.v1.ecovelo.mobi/gbfs/labaule",
         "href": "/v2/networks/velo-baulois",
         "id": "velo-baulois",
         "location": {
          "city": "La Baule-Escoublac",
          "country": "FR",
          "latitude": 47.2867,
          "longitude": -2.3908
         },
         "name": "Le Vélo Baulois"
        },
        {
         "company": [
          "Ecovelo"
         ],
         "ebikes": true,
         "gbfs_href": "https://api.gbfs.v1.ecovelo.mobi/gbfs/lemarcel",
         "href": "/v2/networks/le-marcel",
         "id": "le-marcel",
         "location": {
          "city": "Troyes",
          "country": "FR",
          "latitude": 48.2997,
          "longitude": 4.0792
         },
         "name": "Le Marcel"
        },
        {
         "company": [
          "Ecovelo"
         ],
         "ebikes": true,
         "gbfs_href": "https://api.gbfs.v1.ecovelo.mobi/gbfs/tempovelo",
         "href": "/v2/networks/tempo-velo",
         "id": "tempo-velo",
         "location": {
          "city": "Agen",
          "country": "FR",
          "latitude": 44.2049,
          "longitude": 0.6212
         },
         "name": "Tempo Vélo"
        },
        {
         "company": [
          "Ecovelo"
         ],
         "gbfs_href": "https://api.gbfs.v1.ecovelo.mobi/gbfs/semo",
         "href": "/v2/networks/semo",
         "id": "semo",
         "location": {
          "city": "Communauté d'agglomération Seine-Eure",
          "country": "FR",
          "latitude": 49.22,
          "longitude": 1.17
         },
         "name": "semo"
        },
        {
         "company": [
          "Ecovelo"
         ],
         "ebikes": true,
         "gbfs_href": "https://api.gbfs.v1.ecovelo.mobi/gbfs/cyclovis",
         "href": "/v2/networks/cyclovis",
         "id": "cyclovis",
         "location": {
          "city": "Soissons",
          "country": "FR",
          "latitude": 49.3817,
          "longitude": 3.3236
         },
         "name": "Cyclovis"
        },
        {
         "company": [
          "Ecovelo"
         ],
         "ebikes": true,
         "gbfs_href": "https://api.gbfs.v1.ecovelo.mobi/gbfs/chantrerie",
         "href": "/v2/networks/chantrerie-captainbike",
         "id": "chantrerie-captainbike",
         "location": {
          "city": "La Chantrerie, Nantes",
          "country": "FR",
          "latitude": 47.2868203,
          "longitude": -1.5210917
         },
         "name": "Chantrerie VLS (Captain Bike)"
        },
        {
         "company": [
          "Ecovelo"
         ],
         "ebikes": true,
         "gbfs_href": "https://api.gbfs.v1.ecovelo.mobi/gbfs/saclay",
         "href": "/v2/networks/saclay-captainbike",
         "id": "saclay-captainbike",
         "location": {
          "city": "Paris-Saclay",
          "country": "FR",
          "latitude": 48.7098082,
          "longitude": 2.211366
         },
         "name": "Saclay VLS (Captain Bike)"
        },
        {
         "company": [
          "CIGL ESCH"
         ],
         "ebikes": true,
         "href": "/v2/networks/velok",
         "id": "velok",
         "location": {
          "city": "Esch-sur-alzette",
          "country": "LU",
          "latitude": 49.5024,
          "longitude": 5.9722
         },
         "name": "Vël'Ok",
         "source": "https://docs.api.tfl.lu/v1/en/RESTAPIs/BikePoint/"
        },
        {
         "company": [
          "Nextbike GmbH"
         ],
         "href": "/v2/networks/wienmobil-rad",
         "id": "wienmobil-rad",
         "location": {
          "city": "Wien",
          "country": "AT",
          "latitude": 48.2081743,
          "longitude": 16.3738189
         },
         "name": "WienMobil Rad"
        },
        {
         "company": null,
         "gbfs_href": "https://gbfs.urbansharing.com/bikeverona.it/gbfs.json",
         "href": "/v2/networks/bikeverona",
         "id": "bikeverona",
         "location": {
          "city": "Verona",
          "country": "IT",
          "latitude": 45.438611,
          "longitude": 10.992778
         },
         "name": "Verona Bike"
        },
        {
         "company": [
          "Nextbike GmbH"
         ],
         "href": "/v2/networks/sprottenflotte-kiel",
         "id": "sprottenflotte-kiel",
         "location": {
          "city": "Kiel",
          "country": "DE",
          "latitude": 54.2837,
          "longitude": 10.13213
         },
         "name": "Sprottenflotte"
        },
        {
         "company": [
          "TaM",
          "Smoove"
         ],
         "gbfs_href": "https://montpellier-fr-smoove.klervi.net/gbfs/gbfs.json",
         "href": "/v2/networks/velomagg",
         "id": "velomagg",
         "location": {
          "city": "Montpellier",
          "country": "FR",
          "latitude": 43.6119,
          "longitude": 3.8772
         },
         "name": "Vélomagg"
        },
        {
         "company": [
          "Bcycle, LLC",
          "RTC Southern Nevada, Inc"
         ],
         "gbfs_href": "https://gbfs.bcycle.com/bcycle_rtcbikeshare/gbfs.json",
         "href": "/v2/networks/rtc-bike-share",
         "id": "rtc-bike-share",
         "location": {
          "city": "Las Vegas, NV",
          "country": "US",
          "latitude": 36.1438,
          "longitude": -115.15682
         },
         "name": "RTC Bike Share"
        },
        {
         "company": [
          "Bcycle, LLC",
          "Embark, Inc"
         ],
         "gbfs_href": "https://gbfs.bcycle.com/bcycle_spokies/gbfs.json",
         "href": "/v2/networks/spokies",
         "id": "spokies",
         "location": {
          "city": "Oklahoma, OK",
          "country": "US",
          "latitude": 35.46436,
          "longitude": -97.50888
         },
         "name": "Spokies BCycle"
        },
        {
         "company": [
          "Leonbici Nextbike Gmbh Y Autobuses Urbanos De Leon S.a. Ute"
         ],
         "href": "/v2/networks/alsa-nextbike-leon",
         "id": "alsa-nextbike-leon",
         "location": {
          "city": "León",
          "country": "ES",
          "latitude": 42.5987263,
          "longitude": -5.5670959
         },
         "name": "Alsa nextbike León"
        },
        {
         "company": [
          "Strasbourg Mobilités"
         ],
         "gbfs_href": "https://transport.data.gouv.fr/gbfs/strasbourg/gbfs.json",
         "href": "/v2/networks/velhop",
         "id": "velhop",
         "location": {
          "city": "Strasbourg",
          "country": "FR",
          "latitude": 48.583611,
          "longitude": 7.748056
         },
         "name": "Vélhop"
        },
        {
         "company": null,
         "gbfs_href": "https://belfort-gbfs.klervi.net/gbfs/gbfs.json",
         "href": "/v2/networks/optymo",
         "id": "optymo",
         "location": {
          "city": "Belfort",
          "country": "FR",
          "latitude": 47.641111,
          "longitude": 6.849444
         },
         "name": "Optymo"
        },
        {
         "company": [
          "Nextbike GmbH"
         ],
         "href": "/v2/networks/biker-bialystok",
         "id": "biker-bialystok",
         "location": {
          "city": "Białystok",
          "country": "PL",
          "latitude": 53.1262,
          "longitude": 23.1427
         },
         "name": "BIKER Białystok Poland"
        },
        {
         "company": [
          "Nextbike GmbH"
         ],
         "href": "/v2/networks/nextbike-prostejov",
         "id": "nextbike-prostejov",
         "location": {
          "city": "Prostejov",
          "country": "CZ",
          "latitude": 49.4722,
          "longitude": 17.1055
         },
         "name": "nextbike Prostejov"
        },
        {
         "company": [
          "Nextbike GmbH"
         ],
         "href": "/v2/networks/bike-katowice",
         "id": "bike-katowice",
         "location": {
          "city": "Katowice",
          "country": "PL",
          "latitude": 50.2594,
          "longitude": 19.0215
         },
         "name": "Katowice Bike Poland"
        },
        {
         "company": [
          "Nextbike GmbH"
         ],
         "href": "/v2/networks/nextbike-focsani",
         "id": "nextbike-focsani",
         "location": {
          "city": "Focșani",
          "country": "RO",
          "latitude": 45.6947,
          "longitude": 27.1851
         },
         "name": "nextbike Romania"
        },
        {
         "company": [
          "Nextbike GmbH"
         ],
         "href": "/v2/networks/grad-vukovar",
         "id": "grad-vukovar",
         "location": {
          "city": "Vukovar",
          "country": "HR",
          "latitude": 45.3575,
          "longitude": 18.9895
         },
         "name": "Grad Vukovar (Croatia)"
        },
        {
         "company": [
          "Nextbike GmbH"
         ],
         "href": "/v2/networks/system-rowerow-miejskich-w-pszczynie-pszczyna",
         "id": "system-rowerow-miejskich-w-pszczynie-pszczyna",
         "location": {
          "city": "Pszczyna",
          "country": "PL",
          "latitude": 49.9757,
          "longitude": 18.9463
         },
         "name": "System Rowerów Miejskich w Pszczynie Poland"
        },
        {
         "company": [
          "Nextbike GmbH"
         ],
         "href": "/v2/networks/tyski-rower-miejski-tychy",
         "id": "tyski-rower-miejski-tychy",
         "location": {
          "city": "Tychy",
          "country": "PL",
          "latitude": 50.1124,
          "longitude": 18.9972
         },
         "name": "Tyski Rower Miejski Poland"
        },
        {
         "company": [
          "Nextbike GmbH"
         ],
         "href": "/v2/networks/czestochowski-rower-miejski-czestochowa",
         "id": "czestochowski-rower-miejski-czestochowa",
         "location": {
          "city": "Częstochowa",
          "country": "PL",
          "latitude": 50.812,
          "longitude": 19.1375
         },
         "name": "Częstochowski Rower Miejski Poland"
        },
        {
         "company": [
          "Nextbike GmbH"
         ],
         "href": "/v2/networks/pruszkowski-rower-miejski-pruszkow",
         "id": "pruszkowski-rower-miejski-pruszkow",
         "location": {
          "city": "Pruszków",
          "country": "PL",
          "latitude": 52.1622,
          "longitude": 20.8062
         },
         "name": "Pruszkowski Rower Miejski Poland"
        },
        {
         "company": [
          "Nextbike GmbH"
         ],
         "href": "/v2/networks/ok-bike-kedzierzyn-kozle",
         "id": "ok-bike-kedzierzyn-kozle",
         "location": {
          "city": "Kędzierzyn-Koźle",
          "country": "PL",
          "latitude": 50.3392,
          "longitude": 18.2352
         },
         "name": "OK Bike Poland"
        },
        {
         "company": [
          "Nextbike GmbH"
         ],
         "href": "/v2/networks/grad-zapresic",
         "id": "grad-zapresic",
         "location": {
          "city": "Zaprešić",
          "country": "HR",
          "latitude": 45.8622,
          "longitude": 15.8049
         },
         "name": "Grad Zaprešić (Croatia)"
        },
        {
         "company": [
          "Nextbike GmbH"
         ],
         "href": "/v2/networks/porec-bike-share-porec",
         "id": "porec-bike-share-porec",
         "location": {
          "city": "Poreč",
          "country": "HR",
          "latitude": 45.2292,
          "longitude": 13.6035
         },
         "name": "Porec bike share (Croatia)"
        },
        {
         "company": [
          "Nextbike GmbH"
         ],
         "href": "/v2/networks/kaliski-rower-miejski-kalisz",
         "id": "kaliski-rower-miejski-kalisz",
         "location": {
          "city": "Kalisz",
          "country": "PL",
          "latitude": 51.7525,
          "longitude": 18.0341
         },
         "name": "Kaliski Rower Miejski Poland"
        },
        {
         "company": [
          "Nextbike GmbH"
         ],
         "href": "/v2/networks/rower-miejski-w-ostrowie-wielkopolskim-ostrow-wielkopolski",
         "id": "rower-miejski-w-ostrowie-wielkopolskim-ostrow-wielkopolski",
         "location": {
          "city": "Ostrów Wielkopolski",
          "country": "PL",
          "latitude": 51.65,
          "longitude": 17.8253
         },
         "name": "Rower Miejski w Ostrowie Wielkopolskim Poland"
        },
        {
         "company": [
          "Nextbike GmbH"
         ],
         "href": "/v2/networks/santander-brunel",
         "id": "santander-brunel",
         "location": {
          "city": "Brunel University",
          "country": "GB",
          "latitude": 51.5463,
          "longitude": -0.48048
         },
         "name": "Santander Cycles - Brunel"
        },
        {
         "company": [
          "Nextbike GmbH"
         ],
         "href": "/v2/networks/koszalinski-rower-miejski-koszalin",
         "id": "koszalinski-rower-miejski-koszalin",
         "location": {
          "city": "Koszalin",
          "country": "PL",
          "latitude": 54.2026,
          "longitude": 16.1678
         },
         "name": "Koszaliński Rower Miejski Poland"
        },
        {
         "company": [
          "Nextbike GmbH"
         ],
         "href": "/v2/networks/ki-rower-miejski-sosnowiec",
         "id": "ki-rower-miejski-sosnowiec",
         "location": {
          "city": "Sosnowiec",
          "country": "PL",
          "latitude": 50.278,
          "longitude": 19.1345
         },
         "name": "Sosnowiecki Rower Miejski Poland"
        },
        {
         "company": [
          "Nextbike GmbH"
         ],
         "href": "/v2/networks/pobiedziski-rower-gminny-pobiedziska",
         "id": "pobiedziski-rower-gminny-pobiedziska",
         "location": {
          "city": "Pobiedziska",
          "country": "PL",
          "latitude": 52.4765,
          "longitude": 17.2866
         },
         "name": "Pobiedziski Rower Gminny Poland"
        },
        {
         "company": [
          "Nextbike GmbH"
         ],
         "href": "/v2/networks/siemianowicki-rower-miejski-siemianowice-slaskie",
         "id": "siemianowicki-rower-miejski-siemianowice-slaskie",
         "location": {
          "city": "Siemianowice Śląskie",
          "country": "PL",
          "latitude": 50.3031,
          "longitude": 19.0222
         },
         "name": "Siemianowicki Rower Miejski Poland"
        },
        {
         "company": [
          "Nextbike GmbH"
         ],
         "href": "/v2/networks/piotrkowski-rower-miejski-piotrkow-trybunalski",
         "id": "piotrkowski-rower-miejski-piotrkow-trybunalski",
         "location": {
          "city": "Piotrków Trybunalski",
          "country": "PL",
          "latitude": 51.3975,
          "longitude": 19.6779
         },
         "name": "Piotrkowski Rower Miejski Poland"
        },
        {
         "company": [
          "Nextbike GmbH"
         ],
         "href": "/v2/networks/i-rower-miejski-prm-plock",
         "id": "i-rower-miejski-prm-plock",
         "location": {
          "city": "Płock",
          "country": "PL",
          "latitude": 52.5445,
          "longitude": 19.7017
         },
         "name": "Płocki Rower Miejski (PRM) Poland"
        },
        {
         "company": [
          "Nextbike GmbH"
         ],
         "href": "/v2/networks/plocki-rower-miejski-prm-orlen-plock",
         "id": "plocki-rower-miejski-prm-orlen-plock",
         "location": {
          "city": "Orlen Płock",
          "country": "PL",
          "latitude": 52.5466,
          "longitude": 19.7047
         },
         "name": "Płocki Rower Miejski (PRM) Poland"
        },
        {
         "company": [
          "Nextbike GmbH"
         ],
         "href": "/v2/networks/i-rower-miejski-otwock",
         "id": "i-rower-miejski-otwock",
         "location": {
          "city": "Otwock",
          "country": "PL",
          "latitude": 52.1034,
          "longitude": 21.2692
         },
         "name": "Otwocki Rower Miejski Poland"
        },
        {
         "company": [
          "Nextbike GmbH"
         ],
         "href": "/v2/networks/ciechanowski-rower-miejski-ciechanow",
         "id": "ciechanowski-rower-miejski-ciechanow",
         "location": {
          "city": "Ciechanów",
          "country": "PL",
          "latitude": 52.8763,
          "longitude": 20.6102
         },
         "name": "Ciechanowski Rower Miejski Poland"
        },
        {
         "company": [
          "Nextbike GmbH"
         ],
         "href": "/v2/networks/zyrardowski-rower-miejski-zyrardow",
         "id": "zyrardowski-rower-miejski-zyrardow",
         "location": {
          "city": "Żyrardów",
          "country": "PL",
          "latitude": 52.0503,
          "longitude": 20.4464
         },
         "name": "Żyrardowski Rower Miejski Poland"
        },
        {
         "company": [
          "Nextbike GmbH"
         ],
         "href": "/v2/networks/sap-walldorf",
         "id": "sap-walldorf",
         "location": {
          "city": "Walldorf",
          "country": "DE",
          "latitude": 49.2945,
          "longitude": 8.62324
         },
         "name": "SAP Walldorf"
        },
        {
         "company": [
          "Nextbike GmbH"
         ],
         "href": "/v2/networks/opcina-dugopolje",
         "id": "opcina-dugopolje",
         "location": {
          "city": "Dugopolje",
          "country": "HR",
          "latitude": 43.5872,
          "longitude": 16.5879
         },
         "name": "Općina Dugopolje (Croatia)"
        },
        {
         "company": [
          "Nextbike GmbH"
         ],
         "href": "/v2/networks/opcina-pitomaca",
         "id": "opcina-pitomaca",
         "location": {
          "city": "Pitomača",
          "country": "HR",
          "latitude": 45.9077,
          "longitude": 17.2622
         },
         "name": "Općina Pitomača (Croatia)"
        },
        {
         "company": [
          "Nextbike GmbH"
         ],
         "href": "/v2/networks/nomago-ljubljana",
         "id": "nomago-ljubljana",
         "location": {
          "city": "Ljubljana",
          "country": "SI",
          "latitude": 46.0577,
          "longitude": 14.5013
         },
         "name": "Nomago Bikes - LJUBLJANA"
        },
        {
         "company": [
          "Nextbike GmbH"
         ],
         "href": "/v2/networks/system-roweru-gminnego-pielgrzymka",
         "id": "system-roweru-gminnego-pielgrzymka",
         "location": {
          "city": "Pielgrzymka",
          "country": "PL",
          "latitude": 51.1185,
          "longitude": 15.8153
         },
         "name": "System Roweru Gminnego Poland"
        },
        {
         "company": [
          "Nextbike GmbH"
         ],
         "href": "/v2/networks/rvk",
         "id": "rvk",
         "location": {
          "city": "RVK e-Bike",
          "country": "DE",
          "latitude": 50.7069,
          "longitude": 6.87607
         },
         "name": "RVK"
        },
        {
         "company": [
          "Nextbike GmbH"
         ],
         "href": "/v2/networks/partnerzy-nextbike-polska-wolt",
         "id": "partnerzy-nextbike-polska-wolt",
         "location": {
          "city": "Wolt",
          "country": "PL",
          "latitude": 52.2984,
          "longitude": 21.0498
         },
         "name": "Partnerzy Nextbike Polska"
        },
        {
         "company": [
          "Nextbike GmbH"
         ],
         "href": "/v2/networks/wupsi",
         "id": "wupsi",
         "location": {
          "city": "Leverkusen",
          "country": "DE",
          "latitude": 51.0732,
          "longitude": 7.00814
         },
         "name": "wupsiRad Leverkusen"
        },
        {
         "company": [
          "Nextbike GmbH"
         ],
         "href": "/v2/networks/lovesharing-canary-islands-gran-canaria",
         "id": "lovesharing-canary-islands-gran-canaria",
         "location": {
          "city": "Gran Canaria",
          "country": "ES",
          "latitude": 27.8154,
          "longitude": -15.5182
         },
         "name": "Lovesharing (Canary Islands)"
        },
        {
         "company": [
          "Nextbike GmbH"
         ],
         "href": "/v2/networks/lovesharing-canary-islands-lanzarote",
         "id": "lovesharing-canary-islands-lanzarote",
         "location": {
          "city": "Lanzarote",
          "country": "ES",
          "latitude": 29.0491,
          "longitude": -13.5729
         },
         "name": "Lovesharing (Canary Islands)"
        },
        {
         "company": [
          "Nextbike GmbH"
         ],
         "href": "/v2/networks/lovesharing-canary-islands-fuerteventura",
         "id": "lovesharing-canary-islands-fuerteventura",
         "location": {
          "city": "Fuerteventura",
          "country": "ES",
          "latitude": 28.3584,
          "longitude": -14.064
         },
         "name": "Lovesharing (Canary Islands)"
        },
        {
         "company": [
          "VAG Verkehrs-Aktiengesellschaft"
         ],
         "href": "/v2/networks/vagrad",
         "id": "vagrad",
         "location": {
          "city": "Nürnberg",
          "country": "DE",
          "latitude": 49.4487,
          "longitude": 11.0794
         },
         "name": "VAG_Rad"
        },
        {
         "company": [
          "Nextbike GmbH"
         ],
         "href": "/v2/networks/grad-split",
         "id": "grad-split",
         "location": {
          "city": "Split",
          "country": "HR",
          "latitude": 43.5162,
          "longitude": 16.4637
         },
         "name": "Grad Split (Croatia)"
        },
        {
         "company": [
          "Nextbike GmbH"
         ],
         "href": "/v2/networks/grad-split-solin",
         "id": "grad-split-solin",
         "location": {
          "city": "Solin",
          "country": "HR",
          "latitude": 43.5441,
          "longitude": 16.4833
         },
         "name": "Grad Split (Croatia)"
        },
        {
         "company": [
          "Nextbike GmbH"
         ],
         "href": "/v2/networks/grad-split-opcina-klis",
         "id": "grad-split-opcina-klis",
         "location": {
          "city": "Općina Klis",
          "country": "HR",
          "latitude": 43.5605,
          "longitude": 16.5269
         },
         "name": "Grad Split (Croatia)"
        },
        {
         "company": [
          "Nextbike GmbH"
         ],
         "href": "/v2/networks/grad-split-opcina-hrvace",
         "id": "grad-split-opcina-hrvace",
         "location": {
          "city": "Općina Hrvace",
          "country": "HR",
          "latitude": 43.7553,
          "longitude": 16.6197
         },
         "name": "Grad Split (Croatia)"
        },
        {
         "company": [
          "Nextbike GmbH"
         ],
         "href": "/v2/networks/grad-split-opcina-otok-dalmatinski",
         "id": "grad-split-opcina-otok-dalmatinski",
         "location": {
          "city": "Općina Otok Dalmatinski",
          "country": "HR",
          "latitude": 43.6889,
          "longitude": 16.7361
         },
         "name": "Grad Split (Croatia)"
        },
        {
         "company": [
          "Nextbike GmbH"
         ],
         "href": "/v2/networks/grad-split-sinj",
         "id": "grad-split-sinj",
         "location": {
          "city": "Sinj",
          "country": "HR",
          "latitude": 43.7031,
          "longitude": 16.6364
         },
         "name": "Grad Split (Croatia)"
        },
        {
         "company": [
          "Nextbike GmbH"
         ],
         "href": "/v2/networks/grad-split-hvar",
         "id": "grad-split-hvar",
         "location": {
          "city": "Hvar",
          "country": "HR",
          "latitude": 43.1882,
          "longitude": 16.6295
         },
         "name": "Grad Split (Croatia)"
        },
        {
         "company": [
          "Nextbike GmbH"
         ],
         "href": "/v2/networks/grad-split-podstrana",
         "id": "grad-split-podstrana",
         "location": {
          "city": "Podstrana",
          "country": "HR",
          "latitude": 43.4934,
          "longitude": 16.5598
         },
         "name": "Grad Split (Croatia)"
        },
        {
         "company": [
          "Nextbike GmbH"
         ],
         "href": "/v2/networks/grad-split-trogir",
         "id": "grad-split-trogir",
         "location": {
          "city": "Trogir",
          "country": "HR",
          "latitude": 43.5234,
          "longitude": 16.2476
         },
         "name": "Grad Split (Croatia)"
        },
        {
         "company": [
          "Nextbike GmbH"
         ],
         "href": "/v2/networks/nextbike-ostrava",
         "id": "nextbike-ostrava",
         "location": {
          "city": "Ostrava",
          "country": "CZ",
          "latitude": 49.8344,
          "longitude": 18.2823
         },
         "name": "nextbike Ostrava"
        },
        {
         "company": [
          "Nextbike GmbH"
         ],
         "href": "/v2/networks/nextbike-ostrava-hlucin",
         "id": "nextbike-ostrava-hlucin",
         "location": {
          "city": "Hlučín",
          "country": "CZ",
          "latitude": 49.898,
          "longitude": 18.1923
         },
         "name": "nextbike Ostrava"
        },
        {
         "company": [
          "Nextbike GmbH"
         ],
         "href": "/v2/networks/nextbike-ostrava-vresina",
         "id": "nextbike-ostrava-vresina",
         "location": {
          "city": "Vřesina",
          "country": "CZ",
          "latitude": 49.825,
          "longitude": 18.1206
         },
         "name": "nextbike Ostrava"
        },
        {
         "company": [
          "Nextbike GmbH"
         ],
         "href": "/v2/networks/ski-rower-miejski-lubon",
         "id": "ski-rower-miejski-lubon",
         "location": {
          "city": "Luboń",
          "country": "PL",
          "latitude": 52.3461,
          "longitude": 16.8765
         },
         "name": "Luboński Rower Miejski Poland"
        },
        {
         "company": [
          "Nextbike GmbH"
         ],
         "href": "/v2/networks/ibizi-ibiza-city",
         "id": "ibizi-ibiza-city",
         "location": {
          "city": "Ibiza-City",
          "country": "ES",
          "latitude": 38.9066,
          "longitude": 1.42046
         },
         "name": "ibizi"
        },
        {
         "company": [
          "Nextbike GmbH"
         ],
         "href": "/v2/networks/sprintrad",
         "id": "sprintrad",
         "location": {
          "city": "Hannover",
          "country": "DE",
          "latitude": 52.3721,
          "longitude": 9.73569
         },
         "name": "sprintRAD"
        },
        {
         "company": [
          "Nextbike GmbH"
         ],
         "href": "/v2/networks/komornicki-system-rowerowy-komorniki",
         "id": "komornicki-system-rowerowy-komorniki",
         "location": {
          "city": "Komorniki",
          "country": "PL",
          "latitude": 52.3347,
          "longitude": 16.8094
         },
         "name": "Komornicki System Rowerowy Poland"
        },
        {
         "company": [
          "Nextbike GmbH"
         ],
         "href": "/v2/networks/nextbike-havirov",
         "id": "nextbike-havirov",
         "location": {
          "city": "Havířov",
          "country": "CZ",
          "latitude": 49.7799,
          "longitude": 18.4328
         },
         "name": "nextbike Havířov"
        },
        {
         "company": [
          "Nextbike GmbH"
         ],
         "href": "/v2/networks/nextbike-berounsko",
         "id": "nextbike-berounsko",
         "location": {
          "city": "Berounsko",
          "country": "CZ",
          "latitude": 49.9616,
          "longitude": 14.064
         },
         "name": "nextbike Berounsko"
        },
        {
         "company": [
          "Nextbike GmbH"
         ],
         "href": "/v2/networks/ready4green-graben",
         "id": "ready4green-graben",
         "location": {
          "city": "Graben",
          "country": "DE",
          "latitude": 51.1242,
          "longitude": 10.8984
         },
         "name": "Graben - ready4green"
        },
        {
         "company": [
          "Nextbike GmbH"
         ],
         "href": "/v2/networks/oleski-rower-miejski-olesno",
         "id": "oleski-rower-miejski-olesno",
         "location": {
          "city": "Olesno",
          "country": "PL",
          "latitude": 50.8773,
          "longitude": 18.4212
         },
         "name": "Oleski Rower Miejski Poland"
        },
        {
         "company": [
          "Nextbike GmbH"
         ],
         "href": "/v2/networks/styr-staell-goeteborg",
         "id": "styr-staell-goeteborg",
         "location": {
          "city": "Göteborg",
          "country": "SE",
          "latitude": 57.6902,
          "longitude": 11.9881
         },
         "name": "Styr & Ställ (Sweden, Göteborg)"
        },
        {
         "company": [
          "Nextbike GmbH"
         ],
         "href": "/v2/networks/nibelungen-bike-braunschweig",
         "id": "nibelungen-bike-braunschweig",
         "location": {
          "city": "Braunschweig",
          "country": "DE",
          "latitude": 52.2597,
          "longitude": 10.5307
         },
         "name": "Nibelungen-Bike"
        },
        {
         "company": [
          "Nextbike GmbH"
         ],
         "href": "/v2/networks/nextbike-brno",
         "id": "nextbike-brno",
         "location": {
          "city": "Brno",
          "country": "CZ",
          "latitude": 49.1911,
          "longitude": 16.6148
         },
         "name": "nextbike Brno"
        },
        {
         "company": [
          "Nextbike GmbH"
         ],
         "href": "/v2/networks/nextbike-brno-kurim",
         "id": "nextbike-brno-kurim",
         "location": {
          "city": "Kuřim",
          "country": "CZ",
          "latitude": 49.2994,
          "longitude": 16.5368
         },
         "name": "nextbike Brno"
        },
        {
         "company": [
          "Nextbike GmbH"
         ],
         "href": "/v2/networks/nextbike-praha",
         "id": "nextbike-praha",
         "location": {
          "city": "Praha",
          "country": "CZ",
          "latitude": 50.0592,
          "longitude": 14.5761
         },
         "name": "nextbike Praha"
        },
        {
         "company": [
          "Nextbike GmbH"
         ],
         "href": "/v2/networks/nextbike-praha-ricany",
         "id": "nextbike-praha-ricany",
         "location": {
          "city": "Říčany",
          "country": "CZ",
          "latitude": 49.9976,
          "longitude": 14.6685
         },
         "name": "nextbike Praha"
        },
        {
         "company": [
          "Nextbike GmbH"
         ],
         "href": "/v2/networks/nextbike-olomouc",
         "id": "nextbike-olomouc",
         "location": {
          "city": "Olomouc",
          "country": "CZ",
          "latitude": 49.5929,
          "longitude": 17.2459
         },
         "name": "nextbike Olomouc"
        },
        {
         "company": [
          "Nextbike GmbH"
         ],
         "href": "/v2/networks/nextbike-kladno",
         "id": "nextbike-kladno",
         "location": {
          "city": "Kladno",
          "country": "CZ",
          "latitude": 50.1435,
          "longitude": 14.1082
         },
         "name": "nextbike Kladno"
        },
        {
         "company": [
          "Nextbike GmbH"
         ],
         "href": "/v2/networks/nextbike-opava",
         "id": "nextbike-opava",
         "location": {
          "city": "Opava",
          "country": "CZ",
          "latitude": 49.9289,
          "longitude": 18.2634
         },
         "name": "nextbike Opava"
        },
        {
         "company": [
          "Nextbike GmbH"
         ],
         "href": "/v2/networks/nextbike-bielefeld",
         "id": "nextbike-bielefeld",
         "location": {
          "city": "Bielefeld",
          "country": "DE",
          "latitude": 52.0257,
          "longitude": 8.53286
         },
         "name": "meinSiggi"
        },
        {
         "company": [
          "Nextbike GmbH"
         ],
         "href": "/v2/networks/yoy-san-luis-potosi",
         "id": "yoy-san-luis-potosi",
         "location": {
          "city": "San Luis Potosi",
          "country": "MX",
          "latitude": 22.438,
          "longitude": -100.514
         },
         "name": "YOY - San Luis Potosi"
        },
        {
         "company": [
          "Nextbike GmbH"
         ],
         "href": "/v2/networks/yoy-san-luis-potosi-cancun",
         "id": "yoy-san-luis-potosi-cancun",
         "location": {
          "city": "Cancún",
          "country": "MX",
          "latitude": 21.1675,
          "longitude": -86.8498
         },
         "name": "YOY - San Luis Potosi"
        },
        {
         "company": [
          "Nextbike GmbH"
         ],
         "href": "/v2/networks/bergisches-e-bike",
         "id": "bergisches-e-bike",
         "location": {
          "city": "Bergisches e-Bike",
          "country": "DE",
          "latitude": 51.0192,
          "longitude": 7.18025
         },
         "name": "Bergisches e-Bike"
        },
        {
         "company": [
          "Nextbike GmbH"
         ],
         "href": "/v2/networks/nextbike-pardubice",
         "id": "nextbike-pardubice",
         "location": {
          "city": "Pardubice",
          "country": "CZ",
          "latitude": 50.0343,
          "longitude": 15.7812
         },
         "name": "nextbike Pardubice"
        },
        {
         "company": [
          "Nextbike GmbH"
         ],
         "href": "/v2/networks/nextbike-hradec-kralove",
         "id": "nextbike-hradec-kralove",
         "location": {
          "city": "Hradec Králové",
          "country": "CZ",
          "latitude": 50.2079,
          "longitude": 15.8334
         },
         "name": "nextbike Hradec Králové"
        },
        {
         "company": [
          "Nextbike GmbH"
         ],
         "href": "/v2/networks/nextbike-mladoboleslavsko-mlada-boleslav",
         "id": "nextbike-mladoboleslavsko-mlada-boleslav",
         "location": {
          "city": "Mladá Boleslav",
          "country": "CZ",
          "latitude": 50.4278,
          "longitude": 14.8999
         },
         "name": "nextbike Mladoboleslavsko"
        },
        {
         "company": [
          "Nextbike GmbH"
         ],
         "href": "/v2/networks/nextbike-mladoboleslavsko-mnichovo-hradiste",
         "id": "nextbike-mladoboleslavsko-mnichovo-hradiste",
         "location": {
          "city": "Mnichovo Hradiště",
          "country": "CZ",
          "latitude": 50.5218,
          "longitude": 14.9741
         },
         "name": "nextbike Mladoboleslavsko"
        },
        {
         "company": [
          "Nextbike GmbH"
         ],
         "href": "/v2/networks/oeynrad-bad-oeynhausen",
         "id": "oeynrad-bad-oeynhausen",
         "location": {
          "city": "Bad Oeynhausen",
          "country": "DE",
          "latitude": 52.2051,
          "longitude": 8.80074
         },
         "name": "Oeynrad"
        },
        {
         "company": [
          "Nextbike GmbH"
         ],
         "href": "/v2/networks/rsvg-bike",
         "id": "rsvg-bike",
         "location": {
          "city": "RSVG",
          "country": "DE",
          "latitude": 50.7669,
          "longitude": 7.37457
         },
         "name": "RSVG-Bike"
        },
        {
         "company": [
          "Nextbike GmbH"
         ],
         "href": "/v2/networks/citybikelinz",
         "id": "citybikelinz",
         "location": {
          "city": "Linz",
          "country": "AT",
          "latitude": 48.3003,
          "longitude": 14.2843
         },
         "name": "city bike Linz"
        },
        {
         "company": [
          "Nextbike GmbH"
         ],
         "href": "/v2/networks/velopark-drobeta",
         "id": "velopark-drobeta",
         "location": {
          "city": "Drobeta",
          "country": "RO",
          "latitude": 44.6326,
          "longitude": 22.6564
         },
         "name": "Drobeta Velopark"
        },
        {
         "company": [
          "Nextbike GmbH"
         ],
         "href": "/v2/networks/nomago-gorica",
         "id": "nomago-gorica",
         "location": {
          "city": "Nova Gorica",
          "country": "SI",
          "latitude": 45.9576,
          "longitude": 13.6406
         },
         "name": "Nomago Bikes - GO2GO"
        },
        {
         "company": [
          "Nextbike GmbH"
         ],
         "href": "/v2/networks/saturn",
         "id": "saturn",
         "location": {
          "city": "Saturn",
          "country": "RO",
          "latitude": 43.82,
          "longitude": 28.7445
         },
         "name": "Saturn"
        },
        {
         "company": [
          "Nextbike GmbH"
         ],
         "href": "/v2/networks/nextbike-frydek-mistek",
         "id": "nextbike-frydek-mistek",
         "location": {
          "city": "Frýdek-Místek",
          "country": "CZ",
          "latitude": 49.6832,
          "longitude": 18.3457
         },
         "name": "nextbike Frýdek-Místek"
        },
        {
         "company": [
          "Nextbike GmbH"
         ],
         "href": "/v2/networks/nextbike-uherske-hradiste",
         "id": "nextbike-uherske-hradiste",
         "location": {
          "city": "Uherské Hradiště",
          "country": "CZ",
          "latitude": 49.0678,
          "longitude": 17.4665
         },
         "name": "nextbike Uherské Hradiště"
        },
        {
         "company": [
          "Nextbike GmbH"
         ],
         "href": "/v2/networks/nextbike-zlin",
         "id": "nextbike-zlin",
         "location": {
          "city": "Zlín",
          "country": "CZ",
          "latitude": 49.238,
          "longitude": 17.6788
         },
         "name": "nextbike Zlín"
        },
        {
         "company": [
          "Nextbike GmbH"
         ],
         "href": "/v2/networks/nextbike-krnov",
         "id": "nextbike-krnov",
         "location": {
          "city": "Krnov",
          "country": "CZ",
          "latitude": 50.0703,
          "longitude": 17.8837
         },
         "name": "nextbike Krnov"
        },
        {
         "company": [
          "Nextbike GmbH"
         ],
         "href": "/v2/networks/eifel",
         "id": "eifel",
         "location": {
          "city": "Eifel e-Bike",
          "country": "DE",
          "latitude": 50.5771,
          "longitude": 6.64673
         },
         "name": "Eifel e-Bike"
        },
        {
         "company": [
          "Nextbike GmbH"
         ],
         "href": "/v2/networks/nextbike-rychnovsko",
         "id": "nextbike-rychnovsko",
         "location": {
          "city": "Rychnovsko",
          "country": "CZ",
          "latitude": 50.1668,
          "longitude": 16.2828
         },
         "name": "nextbike Rychnovsko"
        },
        {
         "company": [
          "Nextbike GmbH"
         ],
         "href": "/v2/networks/nextbike-pisek",
         "id": "nextbike-pisek",
         "location": {
          "city": "Písek",
          "country": "CZ",
          "latitude": 49.3051,
          "longitude": 14.1463
         },
         "name": "nextbike Písek"
        },
        {
         "company": [
          "Nextbike GmbH"
         ],
         "href": "/v2/networks/nextbike-jihlava",
         "id": "nextbike-jihlava",
         "location": {
          "city": "Jihlava",
          "country": "CZ",
          "latitude": 49.4078,
          "longitude": 15.6061
         },
         "name": "nextbike Jihlava"
        },
        {
         "company": [
          "Nextbike GmbH"
         ],
         "href": "/v2/networks/nomago-zanaprej",
         "id": "nomago-zanaprej",
         "location": {
          "city": "Zagorje ob Savi",
          "country": "SI",
          "latitude": 46.1392,
          "longitude": 14.9785
         },
         "name": "Nomago Bikes - ZANAPREJ"
        },
        {
         "company": [
          "Nextbike GmbH"
         ],
         "href": "/v2/networks/rower-powiatowy-sokolow-podlaski",
         "id": "rower-powiatowy-sokolow-podlaski",
         "location": {
          "city": "Sokołów Podlaski",
          "country": "PL",
          "latitude": 52.4082,
          "longitude": 22.2525
         },
         "name": "Rower Powiatowy Sokołów Podlaski"
        },
        {
         "company": [
          "Nextbike GmbH"
         ],
         "href": "/v2/networks/nextbike-bergamo",
         "id": "nextbike-bergamo",
         "location": {
          "city": "Bergamo",
          "country": "IT",
          "latitude": 45.6986,
          "longitude": 9.67567
         },
         "name": "nextbike Bergamo"
        },
        {
         "company": [
          "Nextbike GmbH"
         ],
         "href": "/v2/networks/emobi-osijek",
         "id": "emobi-osijek",
         "location": {
          "city": "Osijek",
          "country": "HR",
          "latitude": 45.554,
          "longitude": 18.6943
         },
         "name": "eMobi (Croatia)"
        },
        {
         "company": [
          "Nextbike GmbH"
         ],
         "href": "/v2/networks/arval-scandicci",
         "id": "arval-scandicci",
         "location": {
          "city": "Scandicci",
          "country": "IT",
          "latitude": 43.7701,
          "longitude": 11.1592
         },
         "name": "ARVAL"
        },
        {
         "company": [
          "Bremer Tageszeitungen AG"
         ],
         "href": "/v2/networks/nextbike-oldenburg",
         "id": "nextbike-oldenburg",
         "location": {
          "city": "Oldenburg",
          "country": "DE",
          "latitude": 53.1448,
          "longitude": 8.22485
         },
         "name": "OLi-Bike"
        },
        {
         "company": [
          "Nextbike GmbH"
         ],
         "href": "/v2/networks/nextbike-urdaibai",
         "id": "nextbike-urdaibai",
         "location": {
          "city": "Urdaibai",
          "country": "ES",
          "latitude": 43.395,
          "longitude": -2.68815
         },
         "name": "BBK Klimabizi"
        },
        {
         "company": [
          "Nextbike GmbH"
         ],
         "href": "/v2/networks/mvrad-hq",
         "id": "mvrad-hq",
         "location": {
          "city": "MV-Rad",
          "country": "DE",
          "latitude": 53.6707,
          "longitude": 12.4255
         },
         "name": "MV-Rad"
        },
        {
         "company": [
          "Nextbike GmbH"
         ],
         "href": "/v2/networks/mvrad-anklam",
         "id": "mvrad-anklam",
         "location": {
          "city": "Anklam",
          "country": "DE",
          "latitude": 53.8614,
          "longitude": 13.6907
         },
         "name": "MV-Rad"
        },
        {
         "company": [
          "Nextbike GmbH"
         ],
         "href": "/v2/networks/greifswald",
         "id": "greifswald",
         "location": {
          "city": "Greifswald (StadtRad)",
          "country": "DE",
          "latitude": 54.0961,
          "longitude": 13.3787
         },
         "name": "StadtRad Greifswald"
        },
        {
         "company": [
          "Nextbike GmbH"
         ],
         "href": "/v2/networks/nextbike-dvur-kralove",
         "id": "nextbike-dvur-kralove",
         "location": {
          "city": "Dvůr Králové",
          "country": "CZ",
          "latitude": 50.4278,
          "longitude": 15.8162
         },
         "name": "nextbike Dvůr Králové"
        },
        {
         "company": [
          "Nextbike GmbH"
         ],
         "href": "/v2/networks/vvtregiorad-kufstein",
         "id": "vvtregiorad-kufstein",
         "location": {
          "city": "Kufstein",
          "country": "AT",
          "latitude": 47.583,
          "longitude": 12.1692
         },
         "name": "VVT REGIORAD Tirol"
        },
        {
         "company": [
          "Nextbike GmbH"
         ],
         "href": "/v2/networks/vvtregiorad-ellmau",
         "id": "vvtregiorad-ellmau",
         "location": {
          "city": "Ellmau",
          "country": "AT",
          "latitude": 47.5134,
          "longitude": 12.3025
         },
         "name": "VVT REGIORAD Tirol"
        },
        {
         "company": [
          "Nextbike GmbH"
         ],
         "href": "/v2/networks/ski-rower-chelm",
         "id": "ski-rower-chelm",
         "location": {
          "city": "Chełm",
          "country": "PL",
          "latitude": 51.1318,
          "longitude": 23.4755
         },
         "name": "Chełmski Rower"
        },
        {
         "company": [
          "Nextbike GmbH"
         ],
         "href": "/v2/networks/nextbike-vrchlabi",
         "id": "nextbike-vrchlabi",
         "location": {
          "city": "Vrchlabí",
          "country": "CZ",
          "latitude": 50.6222,
          "longitude": 15.6126
         },
         "name": "nextbike Vrchlabí"
        },
        {
         "company": [
          "Nextbike GmbH"
         ],
         "href": "/v2/networks/winsenrad",
         "id": "winsenrad",
         "location": {
          "city": "Winsen (Luhe)",
          "country": "DE",
          "latitude": 53.3547,
          "longitude": 10.2067
         },
         "name": "WinsenRad"
        },
        {
         "company": [
          "Nextbike GmbH"
         ],
         "href": "/v2/networks/loker-lomza",
         "id": "loker-lomza",
         "location": {
          "city": "Łomża",
          "country": "PL",
          "latitude": 53.1649,
          "longitude": 22.0729
         },
         "name": "ŁoKeR - Łomża"
        },
        {
         "company": [
          "Nextbike GmbH"
         ],
         "href": "/v2/networks/nomago-kranjska-gora",
         "id": "nomago-kranjska-gora",
         "location": {
          "city": "Kranjska Gora",
          "country": "SI",
          "latitude": 46.4846,
          "longitude": 13.7836
         },
         "name": "Nomago Bikes - KRANJSKA GORA"
        },
        {
         "company": [
          "Nextbike GmbH"
         ],
         "href": "/v2/networks/nomago-portoroz",
         "id": "nomago-portoroz",
         "location": {
          "city": "Portorož",
          "country": "SI",
          "latitude": 45.5054,
          "longitude": 13.5979
         },
         "name": "Nomago Bikes - PORTOROZ"
        },
        {
         "company": [
          "Nextbike GmbH"
         ],
         "href": "/v2/networks/vrn-landau",
         "id": "vrn-landau",
         "location": {
          "city": "Landau in der Pfalz",
          "country": "DE",
          "latitude": 49.1975,
          "longitude": 8.11693
         },
         "name": "VRN"
        },
        {
         "company": null,
         "gbfs_href": "https://nitro.openvelo.org/aachen/velocity/v2/gbfs.json",
         "href": "/v2/networks/velocity-aachen",
         "id": "velocity-aachen",
         "location": {
          "city": "Aachen",
          "country": "DE",
          "latitude": 50.776667,
          "longitude": 6.083611
         },
         "name": "Velocity"
        },
        {
         "company": null,
         "gbfs_href": "https://quebec.publicbikesystem.net/customer/gbfs/v2/gbfs.json",
         "href": "/v2/networks/avelo-quebec",
         "id": "avelo-quebec",
         "location": {
          "city": "Québec",
          "country": "CA",
          "latitude": 46.81305,
          "longitude": -71.2168
         },
         "name": "àVélo"
        },
        {
         "company": null,
         "gbfs_href": "https://saguenay.publicbikesystem.net/customer/gbfs/v2/gbfs.json",
         "href": "/v2/networks/acces-velo-saguenay",
         "id": "acces-velo-saguenay",
         "location": {
          "city": "Saguenay",
          "country": "CA",
          "latitude": 48.433333,
          "longitude": -71.083333
         },
         "name": "Accès Vélo"
        }
       ]
      },
      "text/plain": [
       "<IPython.core.display.JSON object>"
      ]
     },
     "execution_count": 3,
     "metadata": {
      "application/json": {
       "expanded": false,
       "root": "root"
      }
     },
     "output_type": "execute_result"
    }
   ],
   "source": [
    "city_bike_networks = requests.get(\"http://api.citybik.es/v2/networks\").json()\n",
    "\n",
    "JSON(city_bike_networks)"
   ]
  },
  {
   "cell_type": "code",
   "execution_count": 4,
   "metadata": {},
   "outputs": [
    {
     "data": {
      "application/json": {
       "network": {
        "company": [
         "Motivate International, Inc.",
         "PBSC Urban Solutions"
        ],
        "gbfs_href": "https://tor.publicbikesystem.net/ube/gbfs/v1/",
        "href": "/v2/networks/bixi-toronto",
        "id": "bixi-toronto",
        "location": {
         "city": "Toronto, ON",
         "country": "CA",
         "latitude": 43.653226,
         "longitude": -79.3831843
        },
        "name": "Bike Share Toronto",
        "stations": [
         {
          "empty_slots": 0,
          "extra": {
           "address": "Queen St E / Woodward Ave",
           "last_updated": 1667897100,
           "payment": [
            "key",
            "transitcard",
            "creditcard",
            "phone"
           ],
           "payment-terminal": true,
           "renting": 1,
           "returning": 1,
           "uid": "7303"
          },
          "free_bikes": 19,
          "id": "fb337bbed72e2be090071e199899b2be",
          "latitude": 43.665269,
          "longitude": -79.319796,
          "name": "Queen St E / Woodward Ave",
          "timestamp": "2022-11-08T08:49:29.772000Z"
         },
         {
          "empty_slots": 15,
          "extra": {
           "address": "Primrose Ave / Davenport Rd",
           "last_updated": 1667897221,
           "payment": [
            "key",
            "transitcard",
            "creditcard",
            "phone"
           ],
           "payment-terminal": true,
           "renting": 1,
           "returning": 1,
           "uid": "7301"
          },
          "free_bikes": 0,
          "id": "4ff88d5880e71aa40d34cfe5d09b0ca7",
          "latitude": 43.67142,
          "longitude": -79.445947,
          "name": "Primrose Ave / Davenport Rd",
          "timestamp": "2022-11-08T08:49:29.774000Z"
         },
         {
          "empty_slots": 2,
          "extra": {
           "address": "Queen St. E / Rhodes Ave.",
           "last_updated": 1667897137,
           "payment": [
            "key",
            "transitcard",
            "creditcard",
            "phone"
           ],
           "payment-terminal": true,
           "renting": 1,
           "returning": 1,
           "uid": "7309"
          },
          "free_bikes": 21,
          "id": "a09c67c0b419654d907c9134b108e328",
          "latitude": 43.666224,
          "longitude": -79.317693,
          "name": "Queen St. E / Rhodes Ave.",
          "timestamp": "2022-11-08T08:49:29.776000Z"
         },
         {
          "empty_slots": 6,
          "extra": {
           "address": "Bond St / Queen St E",
           "last_updated": 1667897240,
           "payment": [
            "key",
            "transitcard",
            "creditcard",
            "phone"
           ],
           "payment-terminal": true,
           "renting": 1,
           "returning": 1,
           "uid": "7045"
          },
          "free_bikes": 17,
          "id": "d6a9daee68070a8b106cfb598d81308c",
          "latitude": 43.653236,
          "longitude": -79.376716,
          "name": "Bond St / Queen St E",
          "timestamp": "2022-11-08T08:49:29.786000Z"
         },
         {
          "empty_slots": 7,
          "extra": {
           "address": "Church St / Alexander St",
           "last_updated": 1667897217,
           "payment": [
            "key",
            "transitcard",
            "creditcard",
            "phone"
           ],
           "payment-terminal": true,
           "renting": 1,
           "returning": 1,
           "uid": "7044"
          },
          "free_bikes": 3,
          "id": "8f8af40d9388c8a3962559e8681d3db7",
          "latitude": 43.663722,
          "longitude": -79.380288,
          "name": "Church St / Alexander St",
          "timestamp": "2022-11-08T08:49:29.787000Z"
         },
         {
          "empty_slots": 16,
          "extra": {
           "address": "University Ave / Gerrard St W",
           "last_updated": 1667897324,
           "payment": [
            "key",
            "transitcard",
            "creditcard",
            "phone"
           ],
           "payment-terminal": true,
           "renting": 1,
           "returning": 1,
           "uid": "7047"
          },
          "free_bikes": 8,
          "id": "5a441560e262305d1934fb3ada5a9517",
          "latitude": 43.657763,
          "longitude": -79.389165,
          "name": "University Ave / Gerrard St W (East Side)",
          "timestamp": "2022-11-08T08:49:29.789000Z"
         },
         {
          "empty_slots": 8,
          "extra": {
           "address": "Edward St / Yonge St",
           "last_updated": 1667897178,
           "payment": [
            "key",
            "transitcard",
            "creditcard",
            "phone"
           ],
           "payment-terminal": true,
           "renting": 1,
           "returning": 1,
           "uid": "7041"
          },
          "free_bikes": 12,
          "id": "18ea490ab3ca4d10e2927308416edbef",
          "latitude": 43.656729,
          "longitude": -79.382736,
          "name": "Edward St / Yonge St",
          "timestamp": "2022-11-08T08:49:29.792000Z"
         },
         {
          "empty_slots": 6,
          "extra": {
           "address": "Euclid Ave / Bloor St W",
           "last_updated": 1667897102,
           "payment": [
            "key",
            "transitcard",
            "creditcard",
            "phone"
           ],
           "payment-terminal": true,
           "renting": 1,
           "returning": 1,
           "uid": "7040"
          },
          "free_bikes": 10,
          "id": "b7850948607474362d3728f19a77fdff",
          "latitude": 43.664467,
          "longitude": -79.414783,
          "name": "Euclid Ave / Bloor St W",
          "timestamp": "2022-11-08T08:49:29.793000Z"
         },
         {
          "empty_slots": 14,
          "extra": {
           "address": "Yonge St / Aylmer Ave",
           "last_updated": 1667897137,
           "payment": [
            "key",
            "transitcard",
            "creditcard",
            "phone"
           ],
           "payment-terminal": true,
           "renting": 1,
           "returning": 1,
           "uid": "7128"
          },
          "free_bikes": 1,
          "id": "7ffd06e0207f80fe1ff6b5ae0bb0544c",
          "latitude": 43.675492,
          "longitude": -79.388858,
          "name": "Yonge St / Aylmer Ave",
          "timestamp": "2022-11-08T08:49:29.795000Z"
         },
         {
          "empty_slots": 5,
          "extra": {
           "address": "Davenport Rd / Avenue Rd",
           "last_updated": 1667897322,
           "payment": [
            "key",
            "transitcard",
            "creditcard",
            "phone"
           ],
           "payment-terminal": true,
           "renting": 1,
           "returning": 1,
           "uid": "7129"
          },
          "free_bikes": 6,
          "id": "17fadbdc5848036c8485099bbf517294",
          "latitude": 43.674991,
          "longitude": -79.396273,
          "name": "Davenport Rd / Avenue Rd",
          "timestamp": "2022-11-08T08:49:29.797000Z"
         },
         {
          "empty_slots": 16,
          "extra": {
           "address": "Yonge St / Yorkville Ave",
           "last_updated": 1667897154,
           "payment": [
            "key",
            "transitcard",
            "creditcard",
            "phone"
           ],
           "payment-terminal": true,
           "renting": 1,
           "returning": 1,
           "uid": "7126"
          },
          "free_bikes": 0,
          "id": "843dcb87ce2ddb002d2b2900a5418355",
          "latitude": 43.671944,
          "longitude": -79.387778,
          "name": "Yonge St / Yorkville Ave",
          "timestamp": "2022-11-08T08:49:29.799000Z"
         },
         {
          "empty_slots": 0,
          "extra": {
           "address": "Dundas St E / Broadview Ave",
           "last_updated": 1667897326,
           "payment": [
            "key",
            "transitcard",
            "creditcard",
            "phone"
           ],
           "payment-terminal": true,
           "renting": 1,
           "returning": 1,
           "uid": "7124"
          },
          "free_bikes": 19,
          "id": "438406694750984faa317bc6b1f3f909",
          "latitude": 43.662365,
          "longitude": -79.351104,
          "name": "Dundas St E / Broadview Ave",
          "timestamp": "2022-11-08T08:49:29.802000Z"
         },
         {
          "empty_slots": 4,
          "extra": {
           "address": "Front St W / Yonge St (Hockey Hall of Fame)",
           "last_updated": 1667897322,
           "payment": [
            "key",
            "transitcard",
            "creditcard",
            "phone"
           ],
           "payment-terminal": true,
           "renting": 1,
           "returning": 1,
           "uid": "7048"
          },
          "free_bikes": 41,
          "id": "41c3e6d3bf3bd993e7d56e22084ab5ee",
          "latitude": 43.646144,
          "longitude": -79.377962,
          "name": "Front St W / Yonge St (Hockey Hall of Fame)",
          "timestamp": "2022-11-08T08:49:29.806000Z"
         },
         {
          "empty_slots": 3,
          "extra": {
           "address": "Gerrard St E / River St",
           "last_updated": 1667897138,
           "payment": [
            "key",
            "transitcard",
            "creditcard",
            "phone"
           ],
           "payment-terminal": true,
           "renting": 1,
           "returning": 1,
           "uid": "7120"
          },
          "free_bikes": 8,
          "id": "c95712a6fe0babf73cb9da2c05889749",
          "latitude": 43.663993,
          "longitude": -79.358534,
          "name": "Gerrard St E / River St",
          "timestamp": "2022-11-08T08:49:29.807000Z"
         },
         {
          "empty_slots": 10,
          "extra": {
           "address": "Jarvis St / Dundas St E",
           "last_updated": 1667897260,
           "payment": [
            "key",
            "transitcard",
            "creditcard",
            "phone"
           ],
           "payment-terminal": true,
           "renting": 1,
           "returning": 1,
           "uid": "7121"
          },
          "free_bikes": 16,
          "id": "2aedc79960408d746f43fb1d91bf7030",
          "latitude": 43.657266,
          "longitude": -79.374756,
          "name": "Jarvis St / Dundas St E",
          "timestamp": "2022-11-08T08:49:29.809000Z"
         },
         {
          "empty_slots": 1,
          "extra": {
           "address": "Logan Av / Gerrard St E",
           "last_updated": 1667897164,
           "payment": [
            "key",
            "transitcard",
            "creditcard",
            "phone"
           ],
           "payment-terminal": true,
           "renting": 1,
           "returning": 1,
           "uid": "7346"
          },
          "free_bikes": 14,
          "id": "784016bbba7f7be920647e7f8ec00251",
          "latitude": 43.6672144,
          "longitude": -79.3452697,
          "name": "Logan Av / Gerrard St E",
          "timestamp": "2022-11-08T08:49:29.843000Z"
         },
         {
          "empty_slots": 14,
          "extra": {
           "address": "Regal Rd / Dufferin St",
           "last_updated": 1667897140,
           "payment": [
            "key",
            "transitcard",
            "creditcard",
            "phone"
           ],
           "payment-terminal": true,
           "renting": 1,
           "returning": 1,
           "uid": "7347"
          },
          "free_bikes": 1,
          "id": "77f9f2420581968255251d9f26c78024",
          "latitude": 43.673939,
          "longitude": -79.441159,
          "name": "Regal Rd / Dufferin St",
          "timestamp": "2022-11-08T08:49:29.844000Z"
         },
         {
          "empty_slots": 3,
          "extra": {
           "address": "Morse St / Eastern Ave",
           "last_updated": 1667897312,
           "payment": [
            "key",
            "transitcard",
            "creditcard",
            "phone"
           ],
           "payment-terminal": true,
           "renting": 1,
           "returning": 1,
           "uid": "7342"
          },
          "free_bikes": 8,
          "id": "7461a94289f2956b380e5b7684b56a1e",
          "latitude": 43.657991,
          "longitude": -79.340075,
          "name": "Morse St / Eastern Ave",
          "timestamp": "2022-11-08T08:49:29.848000Z"
         },
         {
          "empty_slots": 1,
          "extra": {
           "address": "Alton Ave / Dundas St E (Greenwood Park)",
           "last_updated": 1667897216,
           "payment": [
            "key",
            "transitcard",
            "creditcard",
            "phone"
           ],
           "payment-terminal": true,
           "renting": 1,
           "returning": 1,
           "uid": "7343"
          },
          "free_bikes": 21,
          "id": "69dc0257a4d3a1dcd5af06dc3b4eed8c",
          "latitude": 43.66745,
          "longitude": -79.329408,
          "name": "Alton Ave / Dundas St E (Greenwood Park)",
          "timestamp": "2022-11-08T08:49:29.850000Z"
         },
         {
          "empty_slots": 4,
          "extra": {
           "address": "Blake St / Boultbee Ave",
           "last_updated": 1667897256,
           "payment": [
            "key",
            "transitcard",
            "creditcard",
            "phone"
           ],
           "payment-terminal": true,
           "renting": 1,
           "returning": 1,
           "uid": "7340"
          },
          "free_bikes": 11,
          "id": "365a0f49bf1c9b42c35b531688b9fed9",
          "latitude": 43.672453,
          "longitude": -79.338259,
          "name": "Blake St / Boultbee Ave",
          "timestamp": "2022-11-08T08:49:29.852000Z"
         },
         {
          "empty_slots": 6,
          "extra": {
           "address": "Eastern Ave / Winnifred Ave",
           "last_updated": 1667897138,
           "payment": [
            "key",
            "transitcard",
            "creditcard",
            "phone"
           ],
           "payment-terminal": true,
           "renting": 1,
           "returning": 1,
           "uid": "7341"
          },
          "free_bikes": 9,
          "id": "49021f20833894e3dbfaea4fb6e7a9dc",
          "latitude": 43.6592088,
          "longitude": -79.3348396,
          "name": "Eastern Ave / Winnifred Ave",
          "timestamp": "2022-11-08T08:49:29.854000Z"
         },
         {
          "empty_slots": 15,
          "extra": {
           "address": "Gamble Ave / Broadview Ave",
           "last_updated": 1667897326,
           "payment": [
            "key",
            "transitcard",
            "creditcard",
            "phone"
           ],
           "payment-terminal": true,
           "renting": 1,
           "returning": 1,
           "uid": "7349"
          },
          "free_bikes": 8,
          "id": "3910976dfd5888140602a42b14637022",
          "latitude": 43.689211,
          "longitude": -79.35438,
          "name": "Gamble Ave / Broadview Ave",
          "timestamp": "2022-11-08T08:49:29.856000Z"
         },
         {
          "empty_slots": 10,
          "extra": {
           "address": "Toronto Eaton Centre (Yonge St)",
           "last_updated": 1667897131,
           "payment": [
            "key",
            "transitcard",
            "creditcard",
            "phone"
           ],
           "payment-terminal": true,
           "renting": 1,
           "returning": 1,
           "uid": "7269"
          },
          "free_bikes": 4,
          "id": "32f618847043b8011f80333b5e7ea8b3",
          "latitude": 43.655431,
          "longitude": -79.380653,
          "name": "Toronto Eaton Centre (Yonge St)",
          "timestamp": "2022-11-08T08:49:29.860000Z"
         },
         {
          "empty_slots": 8,
          "extra": {
           "address": "111 Bond St (North of Dundas St E)",
           "last_updated": 1667897208,
           "payment": [
            "key",
            "transitcard",
            "phone"
           ],
           "payment-terminal": false,
           "renting": 1,
           "returning": 1,
           "uid": "7268"
          },
          "free_bikes": 7,
          "id": "1fe2e0ad1678ffaf965b10e03a08aaf2",
          "latitude": 43.656927,
          "longitude": -79.378497,
          "name": "111 Bond St (North of Dundas St E)  - SMART",
          "timestamp": "2022-11-08T08:49:29.861000Z"
         },
         {
          "empty_slots": 2,
          "extra": {
           "address": "Wallace Ave / Symington Ave",
           "last_updated": 1667897169,
           "payment": [
            "key",
            "transitcard",
            "phone"
           ],
           "payment-terminal": false,
           "renting": 1,
           "returning": 1,
           "uid": "7265"
          },
          "free_bikes": 10,
          "id": "dbf9d3fb9932d05d7ddda51acd4d26b0",
          "latitude": 43.661324,
          "longitude": -79.449534,
          "name": "Wallace Ave / Symington Ave - SMART",
          "timestamp": "2022-11-08T08:49:29.863000Z"
         },
         {
          "empty_slots": 2,
          "extra": {
           "address": "Dundas St E / Pembroke St",
           "last_updated": 1667897125,
           "payment": [
            "key",
            "transitcard",
            "phone"
           ],
           "payment-terminal": false,
           "renting": 1,
           "returning": 1,
           "uid": "7267"
          },
          "free_bikes": 12,
          "id": "e565aef96d6d5fce5279ef6f24b9ce69",
          "latitude": 43.658295,
          "longitude": -79.372346,
          "name": "Dundas St E / Pembroke St - SMART",
          "timestamp": "2022-11-08T08:49:29.881000Z"
         },
         {
          "empty_slots": 14,
          "extra": {
           "address": "Victoria Park Subway Station",
           "last_updated": 1667897154,
           "payment": [
            "key",
            "transitcard",
            "phone"
           ],
           "payment-terminal": false,
           "renting": 1,
           "returning": 1,
           "uid": "7266"
          },
          "free_bikes": 5,
          "id": "c765943cac057b6cac0946eff428bf5b",
          "latitude": 43.6940155,
          "longitude": -79.2889842,
          "name": "Victoria Park Subway Station - SMART",
          "timestamp": "2022-11-08T08:49:29.882000Z"
         },
         {
          "empty_slots": 16,
          "extra": {
           "address": "Wychwood Ave / Benson Ave",
           "last_updated": 1667897223,
           "payment": [
            "key",
            "transitcard",
            "phone"
           ],
           "payment-terminal": false,
           "renting": 1,
           "returning": 1,
           "uid": "7262"
          },
          "free_bikes": 0,
          "id": "e0dec8b8f5ed285bfbd952bb253084f4",
          "latitude": 43.6809164,
          "longitude": -79.4229684,
          "name": "Wychwood Ave / Benson Ave - SMART",
          "timestamp": "2022-11-08T08:49:29.888000Z"
         },
         {
          "empty_slots": 13,
          "extra": {
           "address": "Lawton Blvd / Yonge St",
           "last_updated": 1667897304,
           "payment": [
            "key",
            "transitcard",
            "creditcard",
            "phone"
           ],
           "payment-terminal": true,
           "renting": 1,
           "returning": 1,
           "uid": "7379"
          },
          "free_bikes": 0,
          "id": "5ee5f79fc51737623d425310eb0bf02b",
          "latitude": 43.6910667,
          "longitude": -79.39535,
          "name": "Lawton Blvd / Yonge St",
          "timestamp": "2022-11-08T08:49:29.919000Z"
         },
         {
          "empty_slots": 14,
          "extra": {
           "address": "Yonge St / Davisville Ave",
           "last_updated": 1667897356,
           "payment": [
            "key",
            "transitcard",
            "creditcard",
            "phone"
           ],
           "payment-terminal": true,
           "renting": 1,
           "returning": 1,
           "uid": "7378"
          },
          "free_bikes": 0,
          "id": "0daa4477ec313c30dc3036f4bd45e0ba",
          "latitude": 43.6975969,
          "longitude": -79.39654,
          "name": "Yonge St / Davisville Ave",
          "timestamp": "2022-11-08T08:49:30.485000Z"
         },
         {
          "empty_slots": 10,
          "extra": {
           "address": "Fort York  Blvd / Capreol Ct",
           "last_updated": 1667897279,
           "payment": [
            "key",
            "transitcard",
            "creditcard",
            "phone"
           ],
           "payment-terminal": true,
           "renting": 1,
           "returning": 1,
           "uid": "7000"
          },
          "free_bikes": 23,
          "id": "e2911ec2b832c350dad0a8831a30d273",
          "latitude": 43.639832,
          "longitude": -79.395954,
          "name": "Fort York  Blvd / Capreol Ct",
          "timestamp": "2022-11-08T08:49:29.924000Z"
         },
         {
          "empty_slots": 12,
          "extra": {
           "address": "Madison Ave / Bloor St W",
           "last_updated": 1667897196,
           "payment": [
            "key",
            "transitcard",
            "creditcard",
            "phone"
           ],
           "payment-terminal": true,
           "renting": 1,
           "returning": 1,
           "uid": "7003"
          },
          "free_bikes": 2,
          "id": "83af92756a52874ce9bade85f065f4d1",
          "latitude": 43.667158,
          "longitude": -79.402761,
          "name": "Madison Ave / Bloor St W",
          "timestamp": "2022-11-08T08:49:29.925000Z"
         },
         {
          "empty_slots": 15,
          "extra": {
           "address": "St. George St / Bloor St W",
           "last_updated": 1667897163,
           "payment": [
            "key",
            "transitcard",
            "creditcard",
            "phone"
           ],
           "payment-terminal": true,
           "renting": 1,
           "returning": 1,
           "uid": "7002"
          },
          "free_bikes": 1,
          "id": "57ef343f4e12ae497e29c3693d922197",
          "latitude": 43.667333,
          "longitude": -79.399429,
          "name": "St. George St / Bloor St W",
          "timestamp": "2022-11-08T08:49:29.926000Z"
         },
         {
          "empty_slots": 18,
          "extra": {
           "address": "King St W / York St",
           "last_updated": 1667897322,
           "payment": [
            "key",
            "transitcard",
            "creditcard",
            "phone"
           ],
           "payment-terminal": true,
           "renting": 1,
           "returning": 1,
           "uid": "7005"
          },
          "free_bikes": 0,
          "id": "a0100ff8f210b72706e06b4c31a329fe",
          "latitude": 43.6480008,
          "longitude": -79.383177,
          "name": "King St W / York St",
          "timestamp": "2022-11-08T08:49:29.928000Z"
         },
         {
          "empty_slots": 6,
          "extra": {
           "address": "University Ave / Elm St",
           "last_updated": 1667897268,
           "payment": [
            "key",
            "transitcard",
            "creditcard",
            "phone"
           ],
           "payment-terminal": true,
           "renting": 1,
           "returning": 1,
           "uid": "7004"
          },
          "free_bikes": 5,
          "id": "32cb4912f6d3269c070a43e658dea18d",
          "latitude": 43.656518,
          "longitude": -79.389099,
          "name": "University Ave / Elm St",
          "timestamp": "2022-11-08T08:49:29.931000Z"
         },
         {
          "empty_slots": 12,
          "extra": {
           "address": "College St / Huron St",
           "last_updated": 1667897355,
           "payment": [
            "key",
            "transitcard",
            "creditcard",
            "phone"
           ],
           "payment-terminal": true,
           "renting": 1,
           "returning": 1,
           "uid": "7007"
          },
          "free_bikes": 5,
          "id": "f8bbce635f366ade23994d02cb6fcc75",
          "latitude": 43.658148,
          "longitude": -79.398167,
          "name": "College St / Huron St",
          "timestamp": "2022-11-08T08:49:29.932000Z"
         },
         {
          "empty_slots": 15,
          "extra": {
           "address": "Rosehill Ave / Avoca Ave",
           "last_updated": 1667897345,
           "payment": [
            "key",
            "transitcard",
            "phone"
           ],
           "payment-terminal": false,
           "renting": 1,
           "returning": 1,
           "uid": "7279"
          },
          "free_bikes": 0,
          "id": "75b9fc3e9bf42a5d26fa1393d9ce72ed",
          "latitude": 43.687999,
          "longitude": -79.38906,
          "name": "Rosehill Ave / Avoca Ave - SMART",
          "timestamp": "2022-11-08T08:49:29.935000Z"
         },
         {
          "empty_slots": 0,
          "extra": {
           "address": "HTO Park (Queens Quay W)",
           "last_updated": 1667897190,
           "payment": [
            "key",
            "transitcard",
            "creditcard",
            "phone"
           ],
           "payment-terminal": true,
           "renting": 1,
           "returning": 1,
           "uid": "7175"
          },
          "free_bikes": 26,
          "id": "5e41d051a93e4087fc80e372089dbd6c",
          "latitude": 43.63796,
          "longitude": -79.387502,
          "name": "HTO Park (Queens Quay W)",
          "timestamp": "2022-11-08T08:49:29.938000Z"
         },
         {
          "empty_slots": 3,
          "extra": {
           "address": "Bloor St W / Dundas St W",
           "last_updated": 1667897185,
           "payment": [
            "key",
            "transitcard",
            "creditcard",
            "phone"
           ],
           "payment-terminal": true,
           "renting": 1,
           "returning": 1,
           "uid": "7174"
          },
          "free_bikes": 12,
          "id": "d3e1a4057d9bf7c31c216017a0f1989b",
          "latitude": 43.6563889,
          "longitude": -79.45166666666667,
          "name": "Bloor St W / Dundas St W",
          "timestamp": "2022-11-08T08:49:29.941000Z"
         },
         {
          "empty_slots": 6,
          "extra": {
           "address": "Bathurst St / Fort York Blvd",
           "last_updated": 1667897139,
           "payment": [
            "key",
            "transitcard",
            "creditcard",
            "phone"
           ],
           "payment-terminal": true,
           "renting": 1,
           "returning": 1,
           "uid": "7176"
          },
          "free_bikes": 12,
          "id": "8a4d335d5540e0c2132ffdb1def165f6",
          "latitude": 43.639179,
          "longitude": -79.399595,
          "name": "Bathurst St / Fort York Blvd",
          "timestamp": "2022-11-08T08:49:29.942000Z"
         },
         {
          "empty_slots": 23,
          "extra": {
           "address": "Ontario Place Blvd / Lake Shore Blvd W (East)",
           "last_updated": 1667897358,
           "payment": [
            "key",
            "transitcard",
            "creditcard",
            "phone"
           ],
           "payment-terminal": true,
           "renting": 1,
           "returning": 1,
           "uid": "7171"
          },
          "free_bikes": 2,
          "id": "f91f2493c8cca75e7c70987c8d0a516c",
          "latitude": 43.6322445,
          "longitude": -79.4108105,
          "name": "Ontario Place Blvd / Lake Shore Blvd W (East)",
          "timestamp": "2022-11-08T08:49:29.944000Z"
         },
         {
          "empty_slots": 9,
          "extra": {
           "address": "Spadina Ave / Willcocks St",
           "last_updated": 1667897145,
           "payment": [
            "key",
            "transitcard",
            "creditcard",
            "phone"
           ],
           "payment-terminal": true,
           "renting": 1,
           "returning": 1,
           "uid": "7170"
          },
          "free_bikes": 6,
          "id": "359ce82fbe9d1e9e9962321e62f6066f",
          "latitude": 43.6616667,
          "longitude": -79.40138888888889,
          "name": "Spadina Ave / Willcocks St",
          "timestamp": "2022-11-08T08:49:29.945000Z"
         },
         {
          "empty_slots": 2,
          "extra": {
           "address": "Cariboo St / Rail Path",
           "last_updated": 1667897343,
           "payment": [
            "key",
            "transitcard",
            "creditcard",
            "phone"
           ],
           "payment-terminal": true,
           "renting": 1,
           "returning": 1,
           "uid": "7173"
          },
          "free_bikes": 16,
          "id": "4077bf05c083f50d09a52487fd234193",
          "latitude": 43.66666667,
          "longitude": -79.45833333333334,
          "name": "Cariboo St / Rail Path",
          "timestamp": "2022-11-08T08:49:29.949000Z"
         },
         {
          "empty_slots": 15,
          "extra": {
           "address": "Dundas St W / Edna Ave",
           "last_updated": 1667897256,
           "payment": [
            "key",
            "transitcard",
            "creditcard",
            "phone"
           ],
           "payment-terminal": true,
           "renting": 1,
           "returning": 1,
           "uid": "7178"
          },
          "free_bikes": 0,
          "id": "43e5df21054d20adc56c6aa3544b5980",
          "latitude": 43.657192,
          "longitude": -79.452559,
          "name": "Dundas St W / Edna Ave",
          "timestamp": "2022-11-08T08:49:29.954000Z"
         },
         {
          "empty_slots": 6,
          "extra": {
           "address": "College St / Major St",
           "last_updated": 1667897303,
           "payment": [
            "key",
            "transitcard",
            "creditcard",
            "phone"
           ],
           "payment-terminal": true,
           "renting": 1,
           "returning": 1,
           "uid": "7078"
          },
          "free_bikes": 3,
          "id": "6aa469025f8c5ff029052fab35bca1f4",
          "latitude": 43.6576,
          "longitude": -79.4032,
          "name": "College St / Major St",
          "timestamp": "2022-11-08T08:49:29.960000Z"
         },
         {
          "empty_slots": 1,
          "extra": {
           "address": "McGill St / Church St",
           "last_updated": 1667897102,
           "payment": [
            "key",
            "transitcard",
            "creditcard",
            "phone"
           ],
           "payment-terminal": true,
           "renting": 1,
           "returning": 1,
           "uid": "7079"
          },
          "free_bikes": 14,
          "id": "b086f4ccca33b1b976b40abe69b78d42",
          "latitude": 43.660694,
          "longitude": -79.379052,
          "name": "McGill St / Church St",
          "timestamp": "2022-11-08T08:49:29.962000Z"
         },
         {
          "empty_slots": 2,
          "extra": {
           "address": "Queens Quay W / Dan Leckie Way",
           "last_updated": 1667897329,
           "payment": [
            "key",
            "transitcard",
            "creditcard",
            "phone"
           ],
           "payment-terminal": true,
           "renting": 1,
           "returning": 1,
           "uid": "7075"
          },
          "free_bikes": 24,
          "id": "0fa15700b0d780b8f810ced06a01760d",
          "latitude": 43.636533,
          "longitude": -79.395854,
          "name": "Queens Quay W / Dan Leckie Way",
          "timestamp": "2022-11-08T08:49:29.966000Z"
         },
         {
          "empty_slots": 6,
          "extra": {
           "address": "York St / Queens Quay W",
           "last_updated": 1667897268,
           "payment": [
            "key",
            "transitcard",
            "creditcard",
            "phone"
           ],
           "payment-terminal": true,
           "renting": 1,
           "returning": 1,
           "uid": "7076"
          },
          "free_bikes": 49,
          "id": "38d3408bfdf5a321a15ae61358af4aac",
          "latitude": 43.640132,
          "longitude": -79.380464,
          "name": "York St / Queens Quay W",
          "timestamp": "2022-11-08T08:49:29.967000Z"
         },
         {
          "empty_slots": 4,
          "extra": {
           "address": "College Park South",
           "last_updated": 1667897326,
           "payment": [
            "key",
            "transitcard",
            "creditcard",
            "phone"
           ],
           "payment-terminal": true,
           "renting": 1,
           "returning": 1,
           "uid": "7077"
          },
          "free_bikes": 14,
          "id": "c3033415413ac24bf33672aa79838018",
          "latitude": 43.659777,
          "longitude": -79.382767,
          "name": "College Park South",
          "timestamp": "2022-11-08T08:49:29.968000Z"
         },
         {
          "empty_slots": 7,
          "extra": {
           "address": "25 York St – Union Station South",
           "last_updated": 1667897219,
           "payment": [
            "key",
            "transitcard",
            "creditcard",
            "phone"
           ],
           "payment-terminal": true,
           "renting": 1,
           "returning": 1,
           "uid": "7070"
          },
          "free_bikes": 4,
          "id": "ce6e330ba7f61e0453dc1567eaa02745",
          "latitude": 43.643667,
          "longitude": -79.380414,
          "name": "25 York St – Union Station South",
          "timestamp": "2022-11-08T08:49:29.970000Z"
         },
         {
          "empty_slots": 21,
          "extra": {
           "address": "161 Bleecker St (South of Wellesley)",
           "last_updated": 1667897243,
           "payment": [
            "key",
            "transitcard",
            "creditcard",
            "phone"
           ],
           "payment-terminal": true,
           "renting": 1,
           "returning": 1,
           "uid": "7071"
          },
          "free_bikes": 1,
          "id": "049c76540151608ec55bfcd0e1748f41",
          "latitude": 43.666233,
          "longitude": -79.373327,
          "name": "161 Bleecker St (South of Wellesley)",
          "timestamp": "2022-11-08T08:49:29.971000Z"
         },
         {
          "empty_slots": 0,
          "extra": {
           "address": "Spadina Ave / Fort York Blvd",
           "last_updated": 1667897251,
           "payment": [
            "key",
            "transitcard",
            "creditcard",
            "phone"
           ],
           "payment-terminal": true,
           "renting": 1,
           "returning": 1,
           "uid": "7073"
          },
          "free_bikes": 20,
          "id": "55a100afdce605b59cf4acbefcdf3213",
          "latitude": 43.640114,
          "longitude": -79.393249,
          "name": "Spadina Ave / Fort York Blvd",
          "timestamp": "2022-11-08T08:49:29.974000Z"
         },
         {
          "empty_slots": 5,
          "extra": {
           "address": "Exhibition GO (Atlantic Ave)",
           "last_updated": 1667897359,
           "payment": [
            "key",
            "transitcard",
            "creditcard",
            "phone"
           ],
           "payment-terminal": true,
           "renting": 1,
           "returning": 1,
           "uid": "7188"
          },
          "free_bikes": 18,
          "id": "c6ac837bff4150c1a472d65dea88544f",
          "latitude": 43.6366666666667,
          "longitude": -79.4197222222222,
          "name": "Exhibition GO (Atlantic Ave)",
          "timestamp": "2022-11-08T08:49:29.980000Z"
         },
         {
          "empty_slots": 4,
          "extra": {
           "address": "Augusta Ave / Denison Sq",
           "last_updated": 1667897349,
           "payment": [
            "key",
            "transitcard",
            "creditcard",
            "phone"
           ],
           "payment-terminal": true,
           "renting": 1,
           "returning": 1,
           "uid": "7189"
          },
          "free_bikes": 11,
          "id": "422a936ddcb551dd9f26ec313a450057",
          "latitude": 43.653766,
          "longitude": -79.4016759,
          "name": "Augusta Ave / Denison Sq",
          "timestamp": "2022-11-08T08:49:29.981000Z"
         },
         {
          "empty_slots": 16,
          "extra": {
           "address": "Lansdowne Ave / Wade Ave",
           "last_updated": 1667897200,
           "payment": [
            "key",
            "transitcard",
            "creditcard",
            "phone"
           ],
           "payment-terminal": true,
           "renting": 1,
           "returning": 1,
           "uid": "7180"
          },
          "free_bikes": 5,
          "id": "24255acabde130aed03e152541b494fa",
          "latitude": 43.6587734,
          "longitude": -79.443054,
          "name": "Lansdowne Subway Station",
          "timestamp": "2022-11-08T08:49:29.984000Z"
         },
         {
          "empty_slots": 9,
          "extra": {
           "address": "Lansdowne Ave / Whytock Ave",
           "last_updated": 1667897287,
           "payment": [
            "key",
            "transitcard",
            "creditcard",
            "phone"
           ],
           "payment-terminal": true,
           "renting": 1,
           "returning": 1,
           "uid": "7181"
          },
          "free_bikes": 6,
          "id": "e38ee1ccd4c3964a5c0d308d29403b88",
          "latitude": 43.6538888888889,
          "longitude": -79.4413888888889,
          "name": "Lansdowne Ave / Whytock Ave",
          "timestamp": "2022-11-08T08:49:29.985000Z"
         },
         {
          "empty_slots": 18,
          "extra": {
           "address": "Sterling Rd / Dundas St W",
           "last_updated": 1667897351,
           "payment": [
            "key",
            "transitcard",
            "creditcard",
            "phone"
           ],
           "payment-terminal": true,
           "renting": 1,
           "returning": 1,
           "uid": "7182"
          },
          "free_bikes": 0,
          "id": "fc5b892aa82601e2374e8c1772dde569",
          "latitude": 43.6508333333333,
          "longitude": -79.4430555555556,
          "name": "Sterling Rd / Dundas St W",
          "timestamp": "2022-11-08T08:49:29.986000Z"
         },
         {
          "empty_slots": 8,
          "extra": {
           "address": "St Clarens Ave / College St",
           "last_updated": 1667897312,
           "payment": [
            "key",
            "transitcard",
            "creditcard",
            "phone"
           ],
           "payment-terminal": true,
           "renting": 1,
           "returning": 1,
           "uid": "7183"
          },
          "free_bikes": 5,
          "id": "90ec8d1df4740c1de95c087a11617c47",
          "latitude": 43.651238,
          "longitude": -79.43868,
          "name": "St Clarens Ave / College St",
          "timestamp": "2022-11-08T08:49:29.988000Z"
         },
         {
          "empty_slots": 5,
          "extra": {
           "address": "Ossington Ave / College St",
           "last_updated": 1667897115,
           "payment": [
            "key",
            "transitcard",
            "creditcard",
            "phone"
           ],
           "payment-terminal": true,
           "renting": 1,
           "returning": 1,
           "uid": "7184"
          },
          "free_bikes": 6,
          "id": "452241fc4e912119f006a20b4b0099cf",
          "latitude": 43.6544915,
          "longitude": -79.422634,
          "name": "Ossington Ave / College St",
          "timestamp": "2022-11-08T08:49:29.989000Z"
         },
         {
          "empty_slots": 18,
          "extra": {
           "address": "High Park Subway Station",
           "last_updated": 1667897328,
           "payment": [
            "key",
            "transitcard",
            "creditcard",
            "phone"
           ],
           "payment-terminal": true,
           "renting": 1,
           "returning": 1,
           "uid": "7221"
          },
          "free_bikes": 1,
          "id": "eb20e0b8c7c8bf1fc4157a3b715e2837",
          "latitude": 43.6543604,
          "longitude": -79.4655296,
          "name": "High Park Subway Station",
          "timestamp": "2022-11-08T08:49:29.996000Z"
         },
         {
          "empty_slots": 0,
          "extra": {
           "address": "Lake Shore Blvd W / Ellis Ave",
           "last_updated": 1667897256,
           "payment": [
            "key",
            "transitcard",
            "creditcard",
            "phone"
           ],
           "payment-terminal": true,
           "renting": 1,
           "returning": 1,
           "uid": "7220"
          },
          "free_bikes": 17,
          "id": "baedec3042f7094d0564ef8a1295e5d8",
          "latitude": 43.635932,
          "longitude": -79.465083,
          "name": "Lake Shore Blvd W / Ellis Ave",
          "timestamp": "2022-11-08T08:49:29.996000Z"
         },
         {
          "empty_slots": 8,
          "extra": {
           "address": "Parkside Dr / Bloor St W",
           "last_updated": 1667897121,
           "payment": [
            "key",
            "transitcard",
            "phone"
           ],
           "payment-terminal": false,
           "renting": 1,
           "returning": 1,
           "uid": "7223"
          },
          "free_bikes": 2,
          "id": "196146f920152f5d70175a14f0e88184",
          "latitude": 43.654501,
          "longitude": -79.460053,
          "name": "Parkside Dr / Bloor St W - SMART",
          "timestamp": "2022-11-08T08:49:29.997000Z"
         },
         {
          "empty_slots": 1,
          "extra": {
           "address": "Sunnyside - Gus Ryder Pool",
           "last_updated": 1667897209,
           "payment": [
            "key",
            "transitcard",
            "creditcard",
            "phone"
           ],
           "payment-terminal": true,
           "renting": 1,
           "returning": 1,
           "uid": "7222"
          },
          "free_bikes": 24,
          "id": "71ecba080a7e19ebfb8dcde4964a5277",
          "latitude": 43.637894,
          "longitude": -79.454823,
          "name": "Sunnyside - Gus Ryder Pool",
          "timestamp": "2022-11-08T08:49:30.006000Z"
         },
         {
          "empty_slots": 0,
          "extra": {
           "address": "Lake Shore Blvd W / Windermere Ave",
           "last_updated": 1667897225,
           "payment": [
            "key",
            "transitcard",
            "creditcard",
            "phone"
           ],
           "payment-terminal": true,
           "renting": 1,
           "returning": 1,
           "uid": "7225"
          },
          "free_bikes": 19,
          "id": "e4481e45d22462b01aca9513d8f5674e",
          "latitude": 43.634896,
          "longitude": -79.467763,
          "name": "Lake Shore Blvd W / Windermere Ave",
          "timestamp": "2022-11-08T08:49:30.007000Z"
         },
         {
          "empty_slots": 19,
          "extra": {
           "address": "Bloor St W / High Park Ave (High Park)",
           "last_updated": 1667897155,
           "payment": [
            "key",
            "transitcard",
            "creditcard",
            "phone"
           ],
           "payment-terminal": true,
           "renting": 1,
           "returning": 1,
           "uid": "7224"
          },
          "free_bikes": 0,
          "id": "ba4fc8dd224feedb2762d341bf58916f",
          "latitude": 43.6535269,
          "longitude": -79.4650569,
          "name": "Bloor St W / High Park Ave (High Park)",
          "timestamp": "2022-11-08T08:49:30.008000Z"
         },
         {
          "empty_slots": 0,
          "extra": {
           "address": "Martin Goodman Trail (Marilyn Bell Park)",
           "last_updated": 1667897208,
           "payment": [
            "key",
            "transitcard",
            "creditcard",
            "phone"
           ],
           "payment-terminal": true,
           "renting": 1,
           "returning": 1,
           "uid": "7227"
          },
          "free_bikes": 29,
          "id": "0cf5a51077c51159b5d6c8ed5b4c9db5",
          "latitude": 43.6314,
          "longitude": -79.4304,
          "name": "Martin Goodman Trail (Marilyn Bell Park)",
          "timestamp": "2022-11-08T08:49:30.013000Z"
         },
         {
          "empty_slots": 5,
          "extra": {
           "address": "Lake Shore Blvd W / The Boulevard Club",
           "last_updated": 1667897072,
           "payment": [
            "key",
            "transitcard",
            "creditcard",
            "phone"
           ],
           "payment-terminal": true,
           "renting": 1,
           "returning": 1,
           "uid": "7226"
          },
          "free_bikes": 13,
          "id": "59ef2a57efd0caf7727dbb6451bb8808",
          "latitude": 43.636731,
          "longitude": -79.444966,
          "name": "Lake Shore Blvd W / The Boulevard Club",
          "timestamp": "2022-11-08T08:49:30.013000Z"
         },
         {
          "empty_slots": 3,
          "extra": {
           "address": "Dundas St W / Roncesvalles Green P",
           "last_updated": 1667897333,
           "payment": [
            "key",
            "transitcard",
            "phone"
           ],
           "payment-terminal": false,
           "renting": 1,
           "returning": 1,
           "uid": "7229"
          },
          "free_bikes": 8,
          "id": "fe00988a883c9469b82d17221ef1824b",
          "latitude": 43.6534268,
          "longitude": -79.4512787,
          "name": "Dundas St W / Roncesvalles Green P - SMART",
          "timestamp": "2022-11-08T08:49:30.014000Z"
         },
         {
          "empty_slots": 15,
          "extra": {
           "address": "Erskine Ave / Yonge St SMART",
           "last_updated": 1667897338,
           "payment": [
            "key",
            "transitcard",
            "phone"
           ],
           "payment-terminal": false,
           "renting": 1,
           "returning": 1,
           "uid": "7380"
          },
          "free_bikes": 1,
          "id": "f376aecd6bb0d97d5d1580e9537017dd",
          "latitude": 43.7112153,
          "longitude": -79.39894,
          "name": "Erskine Ave / Yonge St SMART",
          "timestamp": "2022-11-08T08:49:30.016000Z"
         },
         {
          "empty_slots": 2,
          "extra": {
           "address": "D'Arcy St, /McCaul St. SMART",
           "last_updated": 1667897221,
           "payment": [
            "key",
            "transitcard",
            "phone"
           ],
           "payment-terminal": false,
           "renting": 1,
           "returning": 1,
           "uid": "7386"
          },
          "free_bikes": 12,
          "id": "d04f206f6afecb72f5821586d56f5071",
          "latitude": 43.655227,
          "longitude": -79.39201,
          "name": "D'Arcy St. /McCaul St. SMART",
          "timestamp": "2022-11-08T08:49:30.021000Z"
         },
         {
          "empty_slots": 11,
          "extra": {
           "address": "Mortimer Ave / Carlaw Ave SMART",
           "last_updated": 1667897272,
           "payment": [
            "key",
            "transitcard",
            "phone"
           ],
           "payment-terminal": false,
           "renting": 1,
           "returning": 1,
           "uid": "7387"
          },
          "free_bikes": 1,
          "id": "d7227eafd0ff8024632b2c9cef1f209c",
          "latitude": 43.685167,
          "longitude": -79.34962,
          "name": "Mortimer Ave / Carlaw Ave SMART",
          "timestamp": "2022-11-08T08:49:30.022000Z"
         },
         {
          "empty_slots": 8,
          "extra": {
           "address": "Cumberland Ave / Bay St SMART",
           "last_updated": 1667897328,
           "payment": [
            "key",
            "transitcard",
            "phone"
           ],
           "payment-terminal": false,
           "renting": 1,
           "returning": 1,
           "uid": "7384"
          },
          "free_bikes": 4,
          "id": "0ec9fc6c92f35e65f603cd6e7c550f1f",
          "latitude": 43.6704537,
          "longitude": -79.39014,
          "name": "Cumberland Ave / Bay St SMART",
          "timestamp": "2022-11-08T08:49:30.023000Z"
         },
         {
          "empty_slots": 16,
          "extra": {
           "address": "20 Charles St E",
           "last_updated": 1667897133,
           "payment": [
            "key",
            "transitcard",
            "creditcard",
            "phone"
           ],
           "payment-terminal": true,
           "renting": 1,
           "returning": 1,
           "uid": "7385"
          },
          "free_bikes": 5,
          "id": "d9b63bdad84959af04feaa873f9c0eaf",
          "latitude": 43.6691099,
          "longitude": -79.38551,
          "name": "20 Charles St E",
          "timestamp": "2022-11-08T08:49:30.024000Z"
         },
         {
          "empty_slots": 0,
          "extra": {
           "address": "Niagara St / Tecumseth St",
           "last_updated": 1667897220,
           "payment": [
            "key",
            "transitcard",
            "creditcard",
            "phone"
           ],
           "payment-terminal": true,
           "renting": 1,
           "returning": 1,
           "uid": "7122"
          },
          "free_bikes": 15,
          "id": "0ff8f31be644b9e2af6d38b89bf42c07",
          "latitude": 43.641389,
          "longitude": -79.404444,
          "name": "Niagara St / Tecumseth St",
          "timestamp": "2022-11-08T08:49:29.804000Z"
         },
         {
          "empty_slots": 10,
          "extra": {
           "address": "424 Wellington St W",
           "last_updated": 1667897283,
           "payment": [
            "key",
            "transitcard",
            "creditcard",
            "phone"
           ],
           "payment-terminal": true,
           "renting": 1,
           "returning": 1,
           "uid": "7123"
          },
          "free_bikes": 5,
          "id": "01caf8b12874b091f2fccc3818e3c72e",
          "latitude": 43.643834,
          "longitude": -79.396649,
          "name": "424 Wellington St W",
          "timestamp": "2022-11-08T08:49:30.067000Z"
         },
         {
          "empty_slots": 5,
          "extra": {
           "address": "Dundas St W / St. Patrick St",
           "last_updated": 1667897132,
           "payment": [
            "key",
            "transitcard",
            "creditcard",
            "phone"
           ],
           "payment-terminal": true,
           "renting": 1,
           "returning": 1,
           "uid": "7257"
          },
          "free_bikes": 12,
          "id": "bb30daddc7221e19cffecf3ac108f28c",
          "latitude": 43.6545174,
          "longitude": -79.3895315,
          "name": "Dundas St W / St. Patrick St",
          "timestamp": "2022-11-08T08:49:30.084000Z"
         },
         {
          "empty_slots": 14,
          "extra": {
           "address": "Robert St / Bloor St W",
           "last_updated": 1667897194,
           "payment": [
            "key",
            "transitcard",
            "phone"
           ],
           "payment-terminal": false,
           "renting": 1,
           "returning": 1,
           "uid": "7252"
          },
          "free_bikes": 4,
          "id": "f52bcef41a84669da7a468cfc4531356",
          "latitude": 43.665846,
          "longitude": -79.404998,
          "name": "Robert St / Bloor St W - SMART",
          "timestamp": "2022-11-08T08:49:30.089000Z"
         },
         {
          "empty_slots": 2,
          "extra": {
           "address": "John St / Mercer St - SMART",
           "last_updated": 1667897229,
           "payment": [
            "key",
            "transitcard",
            "phone"
           ],
           "payment-terminal": false,
           "renting": 1,
           "returning": 1,
           "uid": "7253"
          },
          "free_bikes": 10,
          "id": "ccb82af3c137b126999a511eaead0f38",
          "latitude": 43.6461,
          "longitude": -79.3895,
          "name": "John St  / Mercer St - SMART",
          "timestamp": "2022-11-08T08:49:30.090000Z"
         },
         {
          "empty_slots": 5,
          "extra": {
           "address": "Queen St E / Hammersmith Ave",
           "last_updated": 1667897237,
           "payment": [
            "key",
            "transitcard",
            "creditcard",
            "phone"
           ],
           "payment-terminal": true,
           "renting": 1,
           "returning": 1,
           "uid": "7315"
          },
          "free_bikes": 6,
          "id": "05d7abba295be4af9e74ca3ec241ebd7",
          "latitude": 43.671349,
          "longitude": -79.29451,
          "name": "Queen St E / Hammersmith Ave",
          "timestamp": "2022-11-08T08:49:30.091000Z"
         },
         {
          "empty_slots": 0,
          "extra": {
           "address": "Queen St. E / Eastern Ave",
           "last_updated": 1667897138,
           "payment": [
            "key",
            "transitcard",
            "creditcard",
            "phone"
           ],
           "payment-terminal": true,
           "renting": 1,
           "returning": 1,
           "uid": "7314"
          },
          "free_bikes": 14,
          "id": "973748f7f27229b41ca0d2a96dea777e",
          "latitude": 43.667208,
          "longitude": -79.312315,
          "name": "Queen St. E / Eastern Ave",
          "timestamp": "2022-11-08T08:49:30.092000Z"
         },
         {
          "empty_slots": 1,
          "extra": {
           "address": "Hubbard Blvd / Balsam Av",
           "last_updated": 1667897187,
           "payment": [
            "key",
            "transitcard",
            "creditcard",
            "phone"
           ],
           "payment-terminal": true,
           "renting": 1,
           "returning": 1,
           "uid": "7317"
          },
          "free_bikes": 18,
          "id": "e5a7fc18db4989ecaf70a7e98866faee",
          "latitude": 43.669328,
          "longitude": -79.288949,
          "name": "Hubbard Blvd / Balsam Av",
          "timestamp": "2022-11-08T08:49:30.096000Z"
         },
         {
          "empty_slots": 11,
          "extra": {
           "address": "Queen St. E / Spruce Hill Rd.",
           "last_updated": 1667897129,
           "payment": [
            "key",
            "transitcard",
            "creditcard",
            "phone"
           ],
           "payment-terminal": true,
           "renting": 1,
           "returning": 1,
           "uid": "7316"
          },
          "free_bikes": 4,
          "id": "c7cbc921ca5b8310e7218ca5669ad83f",
          "latitude": 43.672571,
          "longitude": -79.289,
          "name": "Queen St. E / Spruce Hill Rd.",
          "timestamp": "2022-11-08T08:49:30.096000Z"
         },
         {
          "empty_slots": 0,
          "extra": {
           "address": "Lower Spadina Ave / Lake Shore Blvd W",
           "last_updated": 1667897143,
           "payment": [
            "key",
            "transitcard",
            "creditcard",
            "phone"
           ],
           "payment-terminal": true,
           "renting": 1,
           "returning": 1,
           "uid": "7259"
          },
          "free_bikes": 17,
          "id": "d1de2ddc0ea8a90d00ff717ad60a2f23",
          "latitude": 43.638497,
          "longitude": -79.39192,
          "name": "Lower Spadina Ave / Lake Shore Blvd",
          "timestamp": "2022-11-08T08:49:30.098000Z"
         },
         {
          "empty_slots": 3,
          "extra": {
           "address": "Coxwell Ave /  Lake Shore Blvd E",
           "last_updated": 1667897195,
           "payment": [
            "key",
            "transitcard",
            "creditcard",
            "phone"
           ],
           "payment-terminal": true,
           "renting": 1,
           "returning": 1,
           "uid": "7313"
          },
          "free_bikes": 11,
          "id": "61291082be03c77f92f883b95292557a",
          "latitude": 43.662771,
          "longitude": -79.315223,
          "name": "Coxwell Ave /  Lake Shore Blvd E",
          "timestamp": "2022-11-08T08:49:30.100000Z"
         },
         {
          "empty_slots": 5,
          "extra": {
           "address": "Amelia St. / Sumach St.",
           "last_updated": 1667897292,
           "payment": [
            "key",
            "transitcard",
            "creditcard",
            "phone"
           ],
           "payment-terminal": true,
           "renting": 1,
           "returning": 1,
           "uid": "7312"
          },
          "free_bikes": 6,
          "id": "d60491c58bb95d6ddefb1f1b1ac3f56f",
          "latitude": 43.66852,
          "longitude": -79.363525,
          "name": "Amelia St. / Sumach St.",
          "timestamp": "2022-11-08T08:49:30.101000Z"
         },
         {
          "empty_slots": 1,
          "extra": {
           "address": "Augusta Ave / Dundas St W",
           "last_updated": 1667897142,
           "payment": [
            "key",
            "transitcard",
            "creditcard",
            "phone"
           ],
           "payment-terminal": true,
           "renting": 1,
           "returning": 1,
           "uid": "7032"
          },
          "free_bikes": 13,
          "id": "d81d4d6231b9da01ba7f3d6e50728ca8",
          "latitude": 43.652473,
          "longitude": -79.401456,
          "name": "Augusta Ave / Dundas St W",
          "timestamp": "2022-11-08T08:49:30.115000Z"
         },
         {
          "empty_slots": 15,
          "extra": {
           "address": "Queen St W / Ossington Ave",
           "last_updated": 1667897124,
           "payment": [
            "key",
            "transitcard",
            "creditcard",
            "phone"
           ],
           "payment-terminal": true,
           "renting": 1,
           "returning": 1,
           "uid": "7035"
          },
          "free_bikes": 7,
          "id": "d0a8478c786cb2480de4fcecda844781",
          "latitude": 43.643975,
          "longitude": -79.419576,
          "name": "Queen St W / Ossington Ave",
          "timestamp": "2022-11-08T08:49:30.117000Z"
         },
         {
          "empty_slots": 2,
          "extra": {
           "address": "Trinity St / Front St E",
           "last_updated": 1667897320,
           "payment": [
            "key",
            "transitcard",
            "creditcard",
            "phone"
           ],
           "payment-terminal": true,
           "renting": 1,
           "returning": 1,
           "uid": "7036"
          },
          "free_bikes": 17,
          "id": "1053161189e46ea1c3122c94b644bc9d",
          "latitude": 43.651318,
          "longitude": -79.36023,
          "name": "Trinity St /Front St E",
          "timestamp": "2022-11-08T08:49:30.118000Z"
         },
         {
          "empty_slots": 12,
          "extra": {
           "address": "Dundas St W / Yonge St",
           "last_updated": 1667897214,
           "payment": [
            "key",
            "transitcard",
            "creditcard",
            "phone"
           ],
           "payment-terminal": true,
           "renting": 1,
           "returning": 1,
           "uid": "7038"
          },
          "free_bikes": 0,
          "id": "02feaaef65cff4671fb1935179895659",
          "latitude": 43.656094,
          "longitude": -79.381484,
          "name": "Dundas St W / Yonge St",
          "timestamp": "2022-11-08T08:49:30.120000Z"
         },
         {
          "empty_slots": 7,
          "extra": {
           "address": "Kendal Ave / Spadina Rd",
           "last_updated": 1667897182,
           "payment": [
            "key",
            "transitcard",
            "creditcard",
            "phone"
           ],
           "payment-terminal": true,
           "renting": 1,
           "returning": 1,
           "uid": "7132"
          },
          "free_bikes": 1,
          "id": "b076c918fa10b274340bcdb0f0bca1a6",
          "latitude": 43.670318,
          "longitude": -79.405181,
          "name": "Kendal Ave / Spadina Rd",
          "timestamp": "2022-11-08T08:49:30.123000Z"
         },
         {
          "empty_slots": 29,
          "extra": {
           "address": "Davenport Rd / Bathurst St",
           "last_updated": 1667897263,
           "payment": [
            "key",
            "transitcard",
            "creditcard",
            "phone"
           ],
           "payment-terminal": true,
           "renting": 1,
           "returning": 1,
           "uid": "7137"
          },
          "free_bikes": 2,
          "id": "45be3a2b4a327ff6abac542ddc406738",
          "latitude": 43.676667,
          "longitude": -79.416111,
          "name": "Davenport Rd / Bathurst St",
          "timestamp": "2022-11-08T08:49:30.125000Z"
         },
         {
          "empty_slots": 9,
          "extra": {
           "address": "Queen St W / Close Ave",
           "last_updated": 1667897261,
           "payment": [
            "key",
            "transitcard",
            "creditcard",
            "phone"
           ],
           "payment-terminal": true,
           "renting": 1,
           "returning": 1,
           "uid": "7136"
          },
          "free_bikes": 14,
          "id": "ad436e2a229c14d4611cbcacd7cf026f",
          "latitude": 43.640634,
          "longitude": -79.435841,
          "name": "Queen St W / Close Ave",
          "timestamp": "2022-11-08T08:49:30.125000Z"
         },
         {
          "empty_slots": 0,
          "extra": {
           "address": "King St W / Joe Shuster Way",
           "last_updated": 1667897297,
           "payment": [
            "key",
            "transitcard",
            "creditcard",
            "phone"
           ],
           "payment-terminal": true,
           "renting": 1,
           "returning": 1,
           "uid": "7148"
          },
          "free_bikes": 15,
          "id": "dc268bf6d12c7311db0b5b61b3304b03",
          "latitude": 43.639444,
          "longitude": -79.423611,
          "name": "King St W / Joe Shuster Way",
          "timestamp": "2022-11-08T08:49:30.145000Z"
         },
         {
          "empty_slots": 6,
          "extra": {
           "address": "Yarmouth Rd / Christie St",
           "last_updated": 1667897149,
           "payment": [
            "key",
            "transitcard",
            "creditcard",
            "phone"
           ],
           "payment-terminal": true,
           "renting": 1,
           "returning": 1,
           "uid": "7149"
          },
          "free_bikes": 4,
          "id": "0abdfc3177000757dcd71bd4c8b479ee",
          "latitude": 43.67,
          "longitude": -79.42083333333333,
          "name": "Yarmouth Rd / Christie St",
          "timestamp": "2022-11-08T08:49:30.146000Z"
         },
         {
          "empty_slots": 9,
          "extra": {
           "address": "Palmerston Ave / Vermont Ave",
           "last_updated": 1667897109,
           "payment": [
            "key",
            "transitcard",
            "creditcard",
            "phone"
           ],
           "payment-terminal": true,
           "renting": 1,
           "returning": 1,
           "uid": "7144"
          },
          "free_bikes": 3,
          "id": "37c32c09c594b83701b3b8f6e32db605",
          "latitude": 43.671389,
          "longitude": -79.416389,
          "name": "Palmerston Ave / Vermont Ave",
          "timestamp": "2022-11-08T08:49:30.147000Z"
         },
         {
          "empty_slots": 19,
          "extra": {
           "address": "Christie St / Benson Ave (Wychwood Barns)",
           "last_updated": 1667897306,
           "payment": [
            "key",
            "transitcard",
            "creditcard",
            "phone"
           ],
           "payment-terminal": true,
           "renting": 1,
           "returning": 1,
           "uid": "7146"
          },
          "free_bikes": 0,
          "id": "8536b57314846d3b42645c0023e6e60d",
          "latitude": 43.68,
          "longitude": -79.42500000000001,
          "name": "Christie St / Benson Ave (Wychwood Barns)",
          "timestamp": "2022-11-08T08:49:30.147000Z"
         },
         {
          "empty_slots": 0,
          "extra": {
           "address": "King St W / Fraser Ave",
           "last_updated": 1667897162,
           "payment": [
            "key",
            "transitcard",
            "creditcard",
            "phone"
           ],
           "payment-terminal": true,
           "renting": 1,
           "returning": 1,
           "uid": "7147"
          },
          "free_bikes": 14,
          "id": "8db5b143b08ea1fed85f0702fcfe01ec",
          "latitude": 43.6394444,
          "longitude": -79.42527777777778,
          "name": "King St W / Fraser Ave",
          "timestamp": "2022-11-08T08:49:30.148000Z"
         },
         {
          "empty_slots": 12,
          "extra": {
           "address": "Macpherson Ave / Spadina Rd",
           "last_updated": 1667897221,
           "payment": [
            "key",
            "transitcard",
            "creditcard",
            "phone"
           ],
           "payment-terminal": true,
           "renting": 1,
           "returning": 1,
           "uid": "7140"
          },
          "free_bikes": 2,
          "id": "879f0d4ef4403ab902e541528bf329f6",
          "latitude": 43.675791,
          "longitude": -79.40698,
          "name": "Macpherson Ave / Spadina Rd",
          "timestamp": "2022-11-08T08:49:30.149000Z"
         },
         {
          "empty_slots": 14,
          "extra": {
           "address": "Bridgeman Ave / Kendal Ave",
           "last_updated": 1667897127,
           "payment": [
            "key",
            "transitcard",
            "creditcard",
            "phone"
           ],
           "payment-terminal": true,
           "renting": 1,
           "returning": 1,
           "uid": "7141"
          },
          "free_bikes": 1,
          "id": "c497911a9c04bebbbc32e5211c081f85",
          "latitude": 43.675556,
          "longitude": -79.410278,
          "name": "Bridgeman Ave / Kendal Ave",
          "timestamp": "2022-11-08T08:49:30.150000Z"
         },
         {
          "empty_slots": 13,
          "extra": {
           "address": "Bridgeman Ave / Bathurst St",
           "last_updated": 1667897343,
           "payment": [
            "key",
            "transitcard",
            "creditcard",
            "phone"
           ],
           "payment-terminal": true,
           "renting": 1,
           "returning": 1,
           "uid": "7142"
          },
          "free_bikes": 2,
          "id": "2e19220f1e64559e88f3c48b3ebf2916",
          "latitude": 43.674444,
          "longitude": -79.414722,
          "name": "Bridgeman Ave / Bathurst St",
          "timestamp": "2022-11-08T08:49:30.151000Z"
         },
         {
          "empty_slots": 5,
          "extra": {
           "address": "Kendal Ave / Bernard Ave",
           "last_updated": 1667897324,
           "payment": [
            "key",
            "transitcard",
            "creditcard",
            "phone"
           ],
           "payment-terminal": true,
           "renting": 1,
           "returning": 1,
           "uid": "7143"
          },
          "free_bikes": 9,
          "id": "afa3ff2218a5d1817934c7c7c7bb5d19",
          "latitude": 43.671513,
          "longitude": -79.408317,
          "name": "Kendal Ave / Bernard Ave",
          "timestamp": "2022-11-08T08:49:30.152000Z"
         },
         {
          "empty_slots": 16,
          "extra": {
           "address": "Pretoria Av / Broadview Av",
           "last_updated": 1667897298,
           "payment": [
            "key",
            "transitcard",
            "creditcard",
            "phone"
           ],
           "payment-terminal": true,
           "renting": 1,
           "returning": 1,
           "uid": "7351"
          },
          "free_bikes": 3,
          "id": "ddba9c631e11fbae48e2be60289f60c2",
          "latitude": 43.6783213,
          "longitude": -79.35822,
          "name": "Pretoria Av / Broadview Av",
          "timestamp": "2022-11-08T08:49:30.166000Z"
         },
         {
          "empty_slots": 17,
          "extra": {
           "address": "Broadview Ave/ Westwood Ave",
           "last_updated": 1667897201,
           "payment": [
            "key",
            "transitcard",
            "creditcard",
            "phone"
           ],
           "payment-terminal": true,
           "renting": 1,
           "returning": 1,
           "uid": "7350"
          },
          "free_bikes": 6,
          "id": "a7ca61373064c6581461132f1ae050de",
          "latitude": 43.6848652,
          "longitude": -79.356602,
          "name": "Broadview Ave / Westwood Ave",
          "timestamp": "2022-11-08T08:49:30.167000Z"
         },
         {
          "empty_slots": 13,
          "extra": {
           "address": "Fulton Ave / Pape Ave",
           "last_updated": 1667897155,
           "payment": [
            "key",
            "transitcard",
            "creditcard",
            "phone"
           ],
           "payment-terminal": true,
           "renting": 1,
           "returning": 1,
           "uid": "7353"
          },
          "free_bikes": 6,
          "id": "62a1c39596c3d512dfa04f1d29b81035",
          "latitude": 43.68395,
          "longitude": -79.347046,
          "name": "Fulton Ave / Pape Ave",
          "timestamp": "2022-11-08T08:49:30.168000Z"
         },
         {
          "empty_slots": 14,
          "extra": {
           "address": "Cosburn Ave / Donlands Ave",
           "last_updated": 1667897093,
           "payment": [
            "key",
            "transitcard",
            "creditcard",
            "phone"
           ],
           "payment-terminal": true,
           "renting": 1,
           "returning": 1,
           "uid": "7352"
          },
          "free_bikes": 4,
          "id": "b960be1eba97f5aefc6ad39ecc93cb11",
          "latitude": 43.690537,
          "longitude": -79.341307,
          "name": "Cosburn Ave / Donlands Ave",
          "timestamp": "2022-11-08T08:49:30.168000Z"
         },
         {
          "empty_slots": 15,
          "extra": {
           "address": "Beltline Trail / Chaplin Cres.",
           "last_updated": 1667897144,
           "payment": [
            "key",
            "transitcard",
            "creditcard",
            "phone"
           ],
           "payment-terminal": true,
           "renting": 1,
           "returning": 1,
           "uid": "7355"
          },
          "free_bikes": 0,
          "id": "908b17c0d06011373777bace0a3cd74c",
          "latitude": 43.704461,
          "longitude": -79.423122,
          "name": "Beltline Trail / Chaplin Cres.",
          "timestamp": "2022-11-08T08:49:30.169000Z"
         },
         {
          "empty_slots": 2,
          "extra": {
           "address": "Lake Shore Blvd E / Leslie St",
           "last_updated": 1667897149,
           "payment": [
            "key",
            "transitcard",
            "creditcard",
            "phone"
           ],
           "payment-terminal": true,
           "renting": 1,
           "returning": 1,
           "uid": "7357"
          },
          "free_bikes": 17,
          "id": "d2ce6ae839b7df2c912ab140253a5574",
          "latitude": 43.659195,
          "longitude": -79.329196,
          "name": "Lake Shore Blvd E / Leslie St",
          "timestamp": "2022-11-08T08:49:30.171000Z"
         },
         {
          "empty_slots": 3,
          "extra": {
           "address": "King St E / Ontario St.",
           "last_updated": 1667897353,
           "payment": [
            "key",
            "transitcard",
            "creditcard",
            "phone"
           ],
           "payment-terminal": true,
           "renting": 1,
           "returning": 1,
           "uid": "7356"
          },
          "free_bikes": 11,
          "id": "1d35b8fd44d73aabbb39f6e142ee3e7e",
          "latitude": 43.651885,
          "longitude": -79.3649,
          "name": "King St E / Ontario St.",
          "timestamp": "2022-11-08T08:49:30.171000Z"
         },
         {
          "empty_slots": 21,
          "extra": {
           "address": "Rosedale Park (20 Schofield Ave)",
           "last_updated": 1667897117,
           "payment": [
            "key",
            "transitcard",
            "creditcard",
            "phone"
           ],
           "payment-terminal": true,
           "renting": 1,
           "returning": 1,
           "uid": "7359"
          },
          "free_bikes": 1,
          "id": "72de8a8e0a0966768f8115d755532e4c",
          "latitude": 43.682645,
          "longitude": -79.377557,
          "name": "Rosedale Park (20 Schofield Ave)",
          "timestamp": "2022-11-08T08:49:30.172000Z"
         },
         {
          "empty_slots": 11,
          "extra": {
           "address": "Mary McCormick Rec Centre (Sheridan Ave)",
           "last_updated": 1667897358,
           "payment": [
            "key",
            "transitcard",
            "creditcard",
            "phone"
           ],
           "payment-terminal": true,
           "renting": 1,
           "returning": 1,
           "uid": "7210"
          },
          "free_bikes": 3,
          "id": "4c18c44e6f93e57321d327124945cb19",
          "latitude": 43.6475,
          "longitude": -79.43305555555555,
          "name": "Mary McCormick Rec Centre (Sheridan Ave)",
          "timestamp": "2022-11-08T08:49:30.178000Z"
         },
         {
          "empty_slots": 13,
          "extra": {
           "address": "Soho St. / Queen St W",
           "last_updated": 1667897127,
           "payment": [
            "key",
            "transitcard",
            "creditcard",
            "phone"
           ],
           "payment-terminal": true,
           "renting": 1,
           "returning": 1,
           "uid": "7217"
          },
          "free_bikes": 4,
          "id": "65b3d69f8a07aec4897e485e2ccb1461",
          "latitude": 43.6494896,
          "longitude": -79.393535,
          "name": "Soho St / Queen St W",
          "timestamp": "2022-11-08T08:49:30.180000Z"
         },
         {
          "empty_slots": 9,
          "extra": {
           "address": "Davenport Rd / Landsdowne Rd",
           "last_updated": 1667897339,
           "payment": [
            "key",
            "transitcard",
            "creditcard",
            "phone"
           ],
           "payment-terminal": true,
           "renting": 1,
           "returning": 1,
           "uid": "7326"
          },
          "free_bikes": 9,
          "id": "071b427d1f3f600d6b9f35ca6576ebe2",
          "latitude": 43.671526,
          "longitude": -79.44874,
          "name": "Davenport Rd / Lansdowne Ave",
          "timestamp": "2022-11-08T08:49:30.187000Z"
         },
         {
          "empty_slots": 3,
          "extra": {
           "address": "Front St W / University Ave (1)",
           "last_updated": 1667897102,
           "payment": [
            "key",
            "transitcard",
            "creditcard",
            "phone"
           ],
           "payment-terminal": true,
           "renting": 1,
           "returning": 1,
           "uid": "7320"
          },
          "free_bikes": 15,
          "id": "cc38e99861bed2afea72ec6211fecdbf",
          "latitude": 43.6451635,
          "longitude": -79.3831757,
          "name": "Front St W / University Ave (1)",
          "timestamp": "2022-11-08T08:49:30.189000Z"
         },
         {
          "empty_slots": 5,
          "extra": {
           "address": "Front St W / University Ave (2)",
           "last_updated": 1667897278,
           "payment": [
            "key",
            "transitcard",
            "creditcard",
            "phone"
           ],
           "payment-terminal": true,
           "renting": 1,
           "returning": 1,
           "uid": "7321"
          },
          "free_bikes": 14,
          "id": "08b57a79795bbd49a15e4a3692ee924f",
          "latitude": 43.6452972,
          "longitude": -79.3827914,
          "name": "Front St W / University Ave (2)",
          "timestamp": "2022-11-08T08:49:30.190000Z"
         },
         {
          "empty_slots": 4,
          "extra": {
           "address": "457 King St W.",
           "last_updated": 1667897234,
           "payment": [
            "key",
            "transitcard",
            "creditcard",
            "phone"
           ],
           "payment-terminal": true,
           "renting": 1,
           "returning": 1,
           "uid": "7323"
          },
          "free_bikes": 12,
          "id": "fe806cf907683c67f4d2899eb4123f00",
          "latitude": 43.6452091,
          "longitude": -79.3960744,
          "name": "457 King St. W. at Spadina",
          "timestamp": "2022-11-08T08:49:30.191000Z"
         },
         {
          "empty_slots": 0,
          "extra": {
           "address": "Dufferin St / Sylvan Av (Dufferin Grove Park)",
           "last_updated": 1667897240,
           "payment": [
            "key",
            "transitcard",
            "creditcard",
            "phone"
           ],
           "payment-terminal": true,
           "renting": 1,
           "returning": 1,
           "uid": "7150"
          },
          "free_bikes": 1,
          "id": "dad51db43939490092b81d8cea72e018",
          "latitude": 43.6555556,
          "longitude": -79.43361111111112,
          "name": "Dufferin St / Sylvan Av (Dufferin Grove Park)",
          "timestamp": "2022-11-08T08:49:30.192000Z"
         },
         {
          "empty_slots": 16,
          "extra": {
           "address": "Roxborough St W / Yonge St",
           "last_updated": 1667897178,
           "payment": [
            "key",
            "transitcard",
            "creditcard",
            "phone"
           ],
           "payment-terminal": true,
           "renting": 1,
           "returning": 1,
           "uid": "7328"
          },
          "free_bikes": 1,
          "id": "d1327be417a65e26c8bb501ea3e43a2b",
          "latitude": 43.678077,
          "longitude": -79.390328,
          "name": "Roxborough St W / Yonge St",
          "timestamp": "2022-11-08T08:49:30.193000Z"
         },
         {
          "empty_slots": 3,
          "extra": {
           "address": "Crawford St / Queen St W",
           "last_updated": 1667897118,
           "payment": [
            "key",
            "transitcard",
            "creditcard",
            "phone"
           ],
           "payment-terminal": true,
           "renting": 1,
           "returning": 1,
           "uid": "7329"
          },
          "free_bikes": 16,
          "id": "d06ed2c21f6ff4e4cbc77b64e65bd801",
          "latitude": 43.645665,
          "longitude": -79.415345,
          "name": "Crawford St / Queen St W",
          "timestamp": "2022-11-08T08:49:30.193000Z"
         },
         {
          "empty_slots": 1,
          "extra": {
           "address": "Lisgar St / Dundas St SMART",
           "last_updated": 1667897211,
           "payment": [
            "key",
            "transitcard",
            "phone"
           ],
           "payment-terminal": false,
           "renting": 1,
           "returning": 1,
           "uid": "7368"
          },
          "free_bikes": 4,
          "id": "97db697b7ef7a4de9ca17b9bd037e80f",
          "latitude": 43.6493472,
          "longitude": -79.42668,
          "name": "Lisgar St / Dundas St SMART",
          "timestamp": "2022-11-08T08:49:30.194000Z"
         },
         {
          "empty_slots": 7,
          "extra": {
           "address": "Dupont St / Emerson Ave  SMART",
           "last_updated": 1667897159,
           "payment": [
            "key",
            "transitcard",
            "phone"
           ],
           "payment-terminal": false,
           "renting": 1,
           "returning": 1,
           "uid": "7369"
          },
          "free_bikes": 6,
          "id": "cd0aff4c531b3ee2eb6329e4bee7839a",
          "latitude": 43.667266,
          "longitude": -79.443946,
          "name": "Dupont St / Emerson Ave SMART",
          "timestamp": "2022-11-08T08:49:30.195000Z"
         },
         {
          "empty_slots": 5,
          "extra": {
           "address": "Dundas St E / Regent Park Blvd",
           "last_updated": 1667897180,
           "payment": [
            "key",
            "transitcard",
            "creditcard",
            "phone"
           ],
           "payment-terminal": true,
           "renting": 1,
           "returning": 1,
           "uid": "7100"
          },
          "free_bikes": 22,
          "id": "789f216e52af17d73307365401bb9109",
          "latitude": 43.660207,
          "longitude": -79.361275,
          "name": "Dundas St E / Regent Park Blvd",
          "timestamp": "2022-11-08T08:49:30.195000Z"
         },
         {
          "empty_slots": 1,
          "extra": {
           "address": "Lower Sherbourne St / The Esplanade",
           "last_updated": 1667897175,
           "payment": [
            "key",
            "transitcard",
            "creditcard",
            "phone"
           ],
           "payment-terminal": true,
           "renting": 1,
           "returning": 1,
           "uid": "7101"
          },
          "free_bikes": 26,
          "id": "9c5b6e6af1002ebba73b6be3039e78a2",
          "latitude": 43.648655,
          "longitude": -79.367061,
          "name": "Lower Sherbourne St / The Esplanade",
          "timestamp": "2022-11-08T08:49:30.196000Z"
         },
         {
          "empty_slots": 9,
          "extra": {
           "address": "Nelson St / Duncan St",
           "last_updated": 1667897239,
           "payment": [
            "key",
            "transitcard",
            "creditcard",
            "phone"
           ],
           "payment-terminal": true,
           "renting": 1,
           "returning": 1,
           "uid": "7102"
          },
          "free_bikes": 22,
          "id": "ceb52586adc7097b47183068a3d24862",
          "latitude": 43.648711,
          "longitude": -79.389728,
          "name": "Nelson St / Duncan St",
          "timestamp": "2022-11-08T08:49:30.197000Z"
         },
         {
          "empty_slots": 2,
          "extra": {
           "address": "Jimmie Simpson Park (Queen St E)",
           "last_updated": 1667897297,
           "payment": [
            "key",
            "transitcard",
            "creditcard",
            "phone"
           ],
           "payment-terminal": true,
           "renting": 1,
           "returning": 1,
           "uid": "7103"
          },
          "free_bikes": 12,
          "id": "4b5b510307e10e878321a5eaa419c976",
          "latitude": 43.6605603,
          "longitude": -79.3437663,
          "name": "Jimmie Simpson Park (Queen St E)",
          "timestamp": "2022-11-08T08:49:30.198000Z"
         },
         {
          "empty_slots": 11,
          "extra": {
           "address": "Queen St E / Sackville St",
           "last_updated": 1667897297,
           "payment": [
            "key",
            "transitcard",
            "creditcard",
            "phone"
           ],
           "payment-terminal": true,
           "renting": 1,
           "returning": 1,
           "uid": "7105"
          },
          "free_bikes": 3,
          "id": "ed77bb45e5a6964a4b94c780d5c21584",
          "latitude": 43.6561111,
          "longitude": -79.36138888888888,
          "name": "Queen St E / Sackville St",
          "timestamp": "2022-11-08T08:49:30.199000Z"
         },
         {
          "empty_slots": 22,
          "extra": {
           "address": "Mill St / Tannery Rd",
           "last_updated": 1667897345,
           "payment": [
            "key",
            "transitcard",
            "creditcard",
            "phone"
           ],
           "payment-terminal": true,
           "renting": 1,
           "returning": 1,
           "uid": "7106"
          },
          "free_bikes": 17,
          "id": "419d42f093b90ba03bd31b21039ff5f0",
          "latitude": 43.652219,
          "longitude": -79.354455,
          "name": "Mill St / Tannery Rd",
          "timestamp": "2022-11-08T08:49:30.200000Z"
         },
         {
          "empty_slots": 7,
          "extra": {
           "address": "Cherry St / Distillery Ln",
           "last_updated": 1667897305,
           "payment": [
            "key",
            "transitcard",
            "creditcard",
            "phone"
           ],
           "payment-terminal": true,
           "renting": 1,
           "returning": 1,
           "uid": "7107"
          },
          "free_bikes": 7,
          "id": "b3fca97a4a4308fefb648b6815e3907d",
          "latitude": 43.650279,
          "longitude": -79.356832,
          "name": "Cherry St / Distillery Ln",
          "timestamp": "2022-11-08T08:49:30.201000Z"
         },
         {
          "empty_slots": 1,
          "extra": {
           "address": "Front St E / Cherry St",
           "last_updated": 1667897220,
           "payment": [
            "key",
            "transitcard",
            "creditcard",
            "phone"
           ],
           "payment-terminal": true,
           "renting": 1,
           "returning": 1,
           "uid": "7108"
          },
          "free_bikes": 14,
          "id": "15e76731635f7e3ac4484228bc8f60ad",
          "latitude": 43.652686,
          "longitude": -79.358395,
          "name": "Front St E / Cherry St",
          "timestamp": "2022-11-08T08:49:30.201000Z"
         },
         {
          "empty_slots": 3,
          "extra": {
           "address": "Queen St W / Spadina Ave",
           "last_updated": 1667897147,
           "payment": [
            "key",
            "transitcard",
            "creditcard",
            "phone"
           ],
           "payment-terminal": true,
           "renting": 1,
           "returning": 1,
           "uid": "7069"
          },
          "free_bikes": 6,
          "id": "17b0d8ca1c69eca14d3173c15fa144e4",
          "latitude": 43.649147,
          "longitude": -79.395504,
          "name": "Queen St W / Spadina Ave",
          "timestamp": "2022-11-08T08:49:30.208000Z"
         },
         {
          "empty_slots": 2,
          "extra": {
           "address": "Yonge St / Harbour St",
           "last_updated": 1667897114,
           "payment": [
            "key",
            "transitcard",
            "creditcard",
            "phone"
           ],
           "payment-terminal": true,
           "renting": 1,
           "returning": 1,
           "uid": "7067"
          },
          "free_bikes": 35,
          "id": "6e85452c2c8acbdaa8f298911d9996ec",
          "latitude": 43.643795,
          "longitude": -79.375413,
          "name": "Yonge St / Harbour St",
          "timestamp": "2022-11-08T08:49:30.210000Z"
         },
         {
          "empty_slots": 16,
          "extra": {
           "address": "Willcocks St / St. George St",
           "last_updated": 1667897338,
           "payment": [
            "key",
            "transitcard",
            "creditcard",
            "phone"
           ],
           "payment-terminal": true,
           "renting": 1,
           "returning": 1,
           "uid": "7066"
          },
          "free_bikes": 0,
          "id": "c4077147fd13aa009cb7f1a59b0f8178",
          "latitude": 43.662085,
          "longitude": -79.397735,
          "name": "Willcocks St / St. George St",
          "timestamp": "2022-11-08T08:49:30.221000Z"
         },
         {
          "empty_slots": 0,
          "extra": {
           "address": "Dundas St E / Parliament St",
           "last_updated": 1667897237,
           "payment": [
            "key",
            "transitcard",
            "creditcard",
            "phone"
           ],
           "payment-terminal": true,
           "renting": 1,
           "returning": 1,
           "uid": "7065"
          },
          "free_bikes": 15,
          "id": "b894ec8d0d8ab0f3a9bf708ee4c90d14",
          "latitude": 43.659575,
          "longitude": -79.365769,
          "name": "Dundas St E / Parliament St",
          "timestamp": "2022-11-08T08:49:30.222000Z"
         },
         {
          "empty_slots": 8,
          "extra": {
           "address": "51 Parliament St",
           "last_updated": 1667897296,
           "payment": [
            "key",
            "transitcard",
            "creditcard",
            "phone"
           ],
           "payment-terminal": true,
           "renting": 1,
           "returning": 1,
           "uid": "7064"
          },
          "free_bikes": 10,
          "id": "771cba7a53aa4e47d29c790c9190ef40",
          "latitude": 43.65205,
          "longitude": -79.362198,
          "name": "51 Parliament St",
          "timestamp": "2022-11-08T08:49:30.223000Z"
         },
         {
          "empty_slots": 19,
          "extra": {
           "address": "Queen's Park / Bloor St W",
           "last_updated": 1667897148,
           "payment": [
            "key",
            "transitcard",
            "creditcard",
            "phone"
           ],
           "payment-terminal": true,
           "renting": 1,
           "returning": 1,
           "uid": "7063"
          },
          "free_bikes": 0,
          "id": "195c1a917f697ab4b4fb52431e921423",
          "latitude": 43.668456,
          "longitude": -79.393899,
          "name": "Queen's Park / Bloor St W",
          "timestamp": "2022-11-08T08:49:30.223000Z"
         },
         {
          "empty_slots": 3,
          "extra": {
           "address": "Fort York Blvd / Bathurst St SMART",
           "last_updated": 1667897170,
           "payment": [
            "key",
            "transitcard",
            "phone"
           ],
           "payment-terminal": false,
           "renting": 1,
           "returning": 1,
           "uid": "7366"
          },
          "free_bikes": 15,
          "id": "e67960ae2a91a3adf6adf65a92dfd09f",
          "latitude": 43.639052,
          "longitude": -79.399792,
          "name": "Fort York Blvd / Bathurst St SMART",
          "timestamp": "2022-11-08T08:49:30.226000Z"
         },
         {
          "empty_slots": 1,
          "extra": {
           "address": "Alma Ave / Gladstone Ave SMART",
           "last_updated": 1667897199,
           "payment": [
            "key",
            "transitcard",
            "phone"
           ],
           "payment-terminal": false,
           "renting": 1,
           "returning": 1,
           "uid": "7367"
          },
          "free_bikes": 15,
          "id": "4b7f75302d4eec9130e1e486ba486571",
          "latitude": 43.6448617,
          "longitude": -79.42822,
          "name": "Alma Ave / Gladstone Ave SMART",
          "timestamp": "2022-11-08T08:49:30.232000Z"
         },
         {
          "empty_slots": 8,
          "extra": {
           "address": "College St / Markham St",
           "last_updated": 1667897214,
           "payment": [
            "key",
            "transitcard",
            "creditcard",
            "phone"
           ],
           "payment-terminal": true,
           "renting": 1,
           "returning": 1,
           "uid": "7199"
          },
          "free_bikes": 9,
          "id": "8362e07e9e4d9c67eb283cae15684c8e",
          "latitude": 43.6563888888889,
          "longitude": -79.4091666666667,
          "name": "College St / Markham St",
          "timestamp": "2022-11-08T08:49:30.257000Z"
         },
         {
          "empty_slots": 3,
          "extra": {
           "address": "Queen St W / Cowan Ave",
           "last_updated": 1667897277,
           "payment": [
            "key",
            "transitcard",
            "creditcard",
            "phone"
           ],
           "payment-terminal": true,
           "renting": 1,
           "returning": 1,
           "uid": "7198"
          },
          "free_bikes": 14,
          "id": "b457bbc38d074d5a3ea939b4d6e0d873",
          "latitude": 43.6409,
          "longitude": -79.432837,
          "name": "Queen St W / Cowan Ave",
          "timestamp": "2022-11-08T08:49:30.258000Z"
         },
         {
          "empty_slots": 1,
          "extra": {
           "address": "Queen St W / Gladstone Ave",
           "last_updated": 1667897313,
           "payment": [
            "key",
            "transitcard",
            "creditcard",
            "phone"
           ],
           "payment-terminal": true,
           "renting": 1,
           "returning": 1,
           "uid": "7193"
          },
          "free_bikes": 21,
          "id": "990ad68fbc0ee51080e8e34b4f6aa917",
          "latitude": 43.6430555555556,
          "longitude": -79.4275,
          "name": "Queen St W / Gladstone Ave",
          "timestamp": "2022-11-08T08:49:30.259000Z"
         },
         {
          "empty_slots": 9,
          "extra": {
           "address": "Harbord St / Clinton St",
           "last_updated": 1667897281,
           "payment": [
            "key",
            "transitcard",
            "creditcard",
            "phone"
           ],
           "payment-terminal": true,
           "renting": 1,
           "returning": 1,
           "uid": "7192"
          },
          "free_bikes": 6,
          "id": "1e01daecd9b52d95d82346c5c81d2ba0",
          "latitude": 43.660414,
          "longitude": -79.415646,
          "name": "Harbord St / Clinton St",
          "timestamp": "2022-11-08T08:49:30.260000Z"
         },
         {
          "empty_slots": 5,
          "extra": {
           "address": "Central Tech (Harbord St)",
           "last_updated": 1667897127,
           "payment": [
            "key",
            "transitcard",
            "creditcard",
            "phone"
           ],
           "payment-terminal": true,
           "renting": 1,
           "returning": 1,
           "uid": "7191"
          },
          "free_bikes": 3,
          "id": "82051b9dc79b4b401acc0872abc734a9",
          "latitude": 43.661975,
          "longitude": -79.407896,
          "name": "Central Tech  (Harbord St)",
          "timestamp": "2022-11-08T08:49:30.260000Z"
         },
         {
          "empty_slots": 1,
          "extra": {
           "address": "Roxton Rd / Harbord St",
           "last_updated": 1667897171,
           "payment": [
            "key",
            "transitcard",
            "creditcard",
            "phone"
           ],
           "payment-terminal": true,
           "renting": 1,
           "returning": 1,
           "uid": "7196"
          },
          "free_bikes": 9,
          "id": "4504736e6ccb393e9f89000f91479688",
          "latitude": 43.65905,
          "longitude": -79.422988,
          "name": "Roxton Rd / Harbord St",
          "timestamp": "2022-11-08T08:49:30.263000Z"
         },
         {
          "empty_slots": 6,
          "extra": {
           "address": "Ulster St / Bathurst St",
           "last_updated": 1667897211,
           "payment": [
            "key",
            "transitcard",
            "creditcard",
            "phone"
           ],
           "payment-terminal": true,
           "renting": 1,
           "returning": 1,
           "uid": "7195"
          },
          "free_bikes": 4,
          "id": "b4e20439535ceebae999cba2f02789eb",
          "latitude": 43.66,
          "longitude": -79.4088888888889,
          "name": "Ulster St / Bathurst St",
          "timestamp": "2022-11-08T08:49:30.264000Z"
         },
         {
          "empty_slots": 20,
          "extra": {
           "address": "Mortimer Ave / Coxwell Ave",
           "last_updated": 1667897093,
           "payment": [
            "key",
            "transitcard",
            "creditcard",
            "phone"
           ],
           "payment-terminal": true,
           "renting": 1,
           "returning": 1,
           "uid": "7194"
          },
          "free_bikes": 2,
          "id": "09007b5f868cd54be0f040f9a9a75c42",
          "latitude": 43.690564,
          "longitude": -79.326319,
          "name": "Mortimer Ave / Coxwell Ave",
          "timestamp": "2022-11-08T08:49:30.265000Z"
         },
         {
          "empty_slots": 15,
          "extra": {
           "address": "Woodbine Subway Green P (SMART)",
           "last_updated": 1667897355,
           "payment": [
            "key",
            "transitcard",
            "phone"
           ],
           "payment-terminal": false,
           "renting": 1,
           "returning": 1,
           "uid": "7392"
          },
          "free_bikes": 5,
          "id": "529844d4374640d1a589f7bdcf2617fb",
          "latitude": 43.686829,
          "longitude": -79.311073,
          "name": "Woodbine Subway Green P SMART",
          "timestamp": "2022-11-08T08:49:30.271000Z"
         },
         {
          "empty_slots": 11,
          "extra": {
           "address": "Danforth Ave / Barrington Ave",
           "last_updated": 1667897202,
           "payment": [
            "key",
            "transitcard",
            "creditcard",
            "phone"
           ],
           "payment-terminal": true,
           "renting": 1,
           "returning": 1,
           "uid": "7083"
          },
          "free_bikes": 2,
          "id": "7f29cbdced0d217c129cc9648f1becbe",
          "latitude": 43.688325,
          "longitude": -79.300463,
          "name": "Danforth Ave / Barrington Ave",
          "timestamp": "2022-11-08T08:49:30.277000Z"
         },
         {
          "empty_slots": 7,
          "extra": {
           "address": "Pacific Ave / Glenlake Ave - SMART",
           "last_updated": 1667897156,
           "payment": [
            "key",
            "transitcard",
            "creditcard",
            "phone"
           ],
           "payment-terminal": true,
           "renting": 1,
           "returning": 1,
           "uid": "7441"
          },
          "free_bikes": 16,
          "id": "722489dd6bf1f264c874454cf3f3f56a",
          "latitude": 43.65716,
          "longitude": -79.46478,
          "name": "Pacific Ave / Glenlake Ave",
          "timestamp": "2022-11-08T08:49:30.277000Z"
         },
         {
          "empty_slots": 21,
          "extra": {
           "address": "High Park - West Rd",
           "last_updated": 1667897159,
           "payment": [
            "key",
            "transitcard",
            "creditcard",
            "phone"
           ],
           "payment-terminal": true,
           "renting": 1,
           "returning": 1,
           "uid": "7086"
          },
          "free_bikes": 0,
          "id": "90255da65a5396af7e18b556f1d3e618",
          "latitude": 43.6525077,
          "longitude": -79.4654233,
          "name": "High Park - West Rd",
          "timestamp": "2022-11-08T08:49:30.296000Z"
         },
         {
          "empty_slots": 13,
          "extra": {
           "address": "Broadview Ave / Danforth Ave",
           "last_updated": 1667897305,
           "payment": [
            "key",
            "transitcard",
            "creditcard",
            "phone"
           ],
           "payment-terminal": true,
           "renting": 1,
           "returning": 1,
           "uid": "7388"
          },
          "free_bikes": 0,
          "id": "b1bb117ee97b3fef3ac3b57ae12329f8",
          "latitude": 43.6772,
          "longitude": -79.35858,
          "name": "Broadview Ave / Danforth Ave",
          "timestamp": "2022-11-08T08:49:30.297000Z"
         },
         {
          "empty_slots": 3,
          "extra": {
           "address": "Church St / Wood St",
           "last_updated": 1667897231,
           "payment": [
            "key",
            "transitcard",
            "creditcard",
            "phone"
           ],
           "payment-terminal": true,
           "renting": 1,
           "returning": 1,
           "uid": "7089"
          },
          "free_bikes": 14,
          "id": "524590c5d3e31674dbdbda29cf6a13c6",
          "latitude": 43.662712,
          "longitude": -79.379903,
          "name": "Church St  / Wood St",
          "timestamp": "2022-11-08T08:49:30.298000Z"
         },
         {
          "empty_slots": 2,
          "extra": {
           "address": "College Park- Gerrard Entrance",
           "last_updated": 1667897320,
           "payment": [
            "key",
            "transitcard",
            "creditcard",
            "phone"
           ],
           "payment-terminal": true,
           "renting": 1,
           "returning": 1,
           "uid": "7389"
          },
          "free_bikes": 23,
          "id": "135f69ed3bde48aaf1d0006b4f080149",
          "latitude": 43.658938,
          "longitude": -79.383518,
          "name": "College Park- Gerrard Entrance",
          "timestamp": "2022-11-08T08:49:30.300000Z"
         },
         {
          "empty_slots": 12,
          "extra": {
           "address": "Danforth Ave / Coxwell Ave",
           "last_updated": 1667897282,
           "payment": [
            "key",
            "transitcard",
            "creditcard",
            "phone"
           ],
           "payment-terminal": true,
           "renting": 1,
           "returning": 1,
           "uid": "7088"
          },
          "free_bikes": 2,
          "id": "fe97ae335b31b6c455f340f397904d38",
          "latitude": 43.683378,
          "longitude": -79.322961,
          "name": "Danforth Ave / Coxwell Ave",
          "timestamp": "2022-11-08T08:49:30.306000Z"
         },
         {
          "empty_slots": 1,
          "extra": {
           "address": "12 Harbour St",
           "last_updated": 1667897317,
           "payment": [
            "key",
            "transitcard",
            "creditcard",
            "phone"
           ],
           "payment-terminal": true,
           "renting": 1,
           "returning": 1,
           "uid": "7383"
          },
          "free_bikes": 12,
          "id": "d8db167197846ff7cbe59c9a35aed587",
          "latitude": 43.6425636,
          "longitude": -79.3762,
          "name": "12 Harbour St",
          "timestamp": "2022-11-08T08:49:30.318000Z"
         },
         {
          "empty_slots": 4,
          "extra": {
           "address": "Howard Park Ave / Dundas St W",
           "last_updated": 1667897344,
           "payment": [
            "key",
            "transitcard",
            "phone"
           ],
           "payment-terminal": false,
           "renting": 1,
           "returning": 1,
           "uid": "7247"
          },
          "free_bikes": 7,
          "id": "391a459d2ca6e2c8eefa90736b2e9142",
          "latitude": 43.6521,
          "longitude": -79.4486,
          "name": "Howard Park Ave / Dundas St W - SMART",
          "timestamp": "2022-11-08T08:49:30.320000Z"
         },
         {
          "empty_slots": 13,
          "extra": {
           "address": "Yonge St / Bloor St",
           "last_updated": 1667897210,
           "payment": [
            "key",
            "transitcard",
            "creditcard",
            "phone"
           ],
           "payment-terminal": true,
           "renting": 1,
           "returning": 1,
           "uid": "7246"
          },
          "free_bikes": 0,
          "id": "97a0a3eefa88468c8389efa6bbbd2f50",
          "latitude": 43.669969,
          "longitude": -79.386532,
          "name": "Yonge St / Bloor St",
          "timestamp": "2022-11-08T08:49:30.321000Z"
         },
         {
          "empty_slots": 0,
          "extra": {
           "address": "Dufferin Gate",
           "last_updated": 1667897266,
           "payment": [
            "key",
            "transitcard",
            "phone"
           ],
           "payment-terminal": false,
           "renting": 1,
           "returning": 1,
           "uid": "7244"
          },
          "free_bikes": 15,
          "id": "0ac5489c6a4750403c053598153880b0",
          "latitude": 43.633473,
          "longitude": -79.425679,
          "name": "Dufferin Gate - SMART",
          "timestamp": "2022-11-08T08:49:30.324000Z"
         },
         {
          "empty_slots": 15,
          "extra": {
           "address": "Lake Shore Blvd W / Ontario Dr (Ontario Place)",
           "last_updated": 1667897226,
           "payment": [
            "key",
            "transitcard",
            "creditcard",
            "phone"
           ],
           "payment-terminal": true,
           "renting": 1,
           "returning": 1,
           "uid": "7242"
          },
          "free_bikes": 15,
          "id": "0e89e5d6c910f6df787cd9c903ade959",
          "latitude": 43.630254,
          "longitude": -79.420317,
          "name": "Lake Shore Blvd W / Ontario Dr",
          "timestamp": "2022-11-08T08:49:30.326000Z"
         },
         {
          "empty_slots": 30,
          "extra": {
           "address": "Bloor St W / Shaw Ave",
           "last_updated": 1667897122,
           "payment": [
            "key",
            "transitcard",
            "phone"
           ],
           "payment-terminal": false,
           "renting": 1,
           "returning": 1,
           "uid": "7240"
          },
          "free_bikes": 3,
          "id": "d0d6832dcab19b3cb35c2474d2e8c088",
          "latitude": 43.662403,
          "longitude": -79.423098,
          "name": "Bloor St W / Shaw Ave - SMART",
          "timestamp": "2022-11-08T08:49:30.329000Z"
         },
         {
          "empty_slots": 11,
          "extra": {
           "address": "Concord Av / Dewson St",
           "last_updated": 1667897266,
           "payment": [
            "key",
            "transitcard",
            "creditcard",
            "phone"
           ],
           "payment-terminal": true,
           "renting": 1,
           "returning": 1,
           "uid": "7360"
          },
          "free_bikes": 5,
          "id": "beb87ea54499f95a614653924c99b9c4",
          "latitude": 43.656945,
          "longitude": -79.424911,
          "name": "Concord Av / Dewson St",
          "timestamp": "2022-11-08T08:49:30.330000Z"
         },
         {
          "empty_slots": 18,
          "extra": {
           "address": "Hocken Ave./Vaughan Rd.",
           "last_updated": 1667897270,
           "payment": [
            "key",
            "transitcard",
            "creditcard",
            "phone"
           ],
           "payment-terminal": true,
           "renting": 1,
           "returning": 1,
           "uid": "7361"
          },
          "free_bikes": 0,
          "id": "d8c6779ffdcc8889412fd4c9b0a08c35",
          "latitude": 43.6817346,
          "longitude": -79.4184725,
          "name": "Hocken Ave./Vaughan Rd.",
          "timestamp": "2022-11-08T08:49:30.333000Z"
         },
         {
          "empty_slots": 17,
          "extra": {
           "address": "St Clair Ave W / Bathurst St.",
           "last_updated": 1667897117,
           "payment": [
            "key",
            "transitcard",
            "creditcard",
            "phone"
           ],
           "payment-terminal": true,
           "renting": 1,
           "returning": 1,
           "uid": "7362"
          },
          "free_bikes": 2,
          "id": "fba4560a5641afdb69a97d04466ef788",
          "latitude": 43.683296,
          "longitude": -79.418734,
          "name": "St Clair Ave W / Bathurst St.",
          "timestamp": "2022-11-08T08:49:30.334000Z"
         },
         {
          "empty_slots": 1,
          "extra": {
           "address": "Queen St E / Nursewood Rd (Neville Park Loop)",
           "last_updated": 1667897115,
           "payment": [
            "key",
            "transitcard",
            "creditcard",
            "phone"
           ],
           "payment-terminal": true,
           "renting": 1,
           "returning": 1,
           "uid": "7364"
          },
          "free_bikes": 17,
          "id": "a943462e1ee05f0073b647a5b787f81d",
          "latitude": 43.673831,
          "longitude": -79.281455,
          "name": "Queen St E / Nursewood Rd (Neville Park Loop)",
          "timestamp": "2022-11-08T08:49:30.335000Z"
         },
         {
          "empty_slots": 4,
          "extra": {
           "address": "Kew Beach Ave / Kenilworth Ave",
           "last_updated": 1667897186,
           "payment": [
            "key",
            "transitcard",
            "creditcard",
            "phone"
           ],
           "payment-terminal": true,
           "renting": 1,
           "returning": 1,
           "uid": "7365"
          },
          "free_bikes": 19,
          "id": "e3c4ef5e47b905992ebcd262cc3df594",
          "latitude": 43.666325,
          "longitude": -79.3014,
          "name": "Kew Beach Ave / Kenilworth Ave",
          "timestamp": "2022-11-08T08:49:30.337000Z"
         },
         {
          "empty_slots": 10,
          "extra": {
           "address": "Dovercourt Rd / Harrison St (Green P) - SMART",
           "last_updated": 1667897121,
           "payment": [
            "key",
            "transitcard",
            "phone"
           ],
           "payment-terminal": false,
           "renting": 1,
           "returning": 1,
           "uid": "7249"
          },
          "free_bikes": 1,
          "id": "044fd938d016b91837e9b02be913b5c7",
          "latitude": 43.651145,
          "longitude": -79.423742,
          "name": "Dovercourt Rd / Harrison St (Green P) - SMART",
          "timestamp": "2022-11-08T08:49:30.344000Z"
         },
         {
          "empty_slots": 7,
          "extra": {
           "address": "Baldwin Ave / Spadina Ave",
           "last_updated": 1667897126,
           "payment": [
            "key",
            "transitcard",
            "phone"
           ],
           "payment-terminal": false,
           "renting": 1,
           "returning": 1,
           "uid": "7248"
          },
          "free_bikes": 12,
          "id": "c8cc2df4c8343778481f7f7c53499df7",
          "latitude": 43.654905,
          "longitude": -79.398448,
          "name": "Baldwin Ave / Spadina Ave - SMART",
          "timestamp": "2022-11-08T08:49:30.345000Z"
         },
         {
          "empty_slots": 5,
          "extra": {
           "address": "Frederick St / King St E",
           "last_updated": 1667897342,
           "payment": [
            "key",
            "transitcard",
            "creditcard",
            "phone"
           ],
           "payment-terminal": true,
           "renting": 1,
           "returning": 1,
           "uid": "7432"
          },
          "free_bikes": 17,
          "id": "db9bcdbd258af5174a3e6d725807957e",
          "latitude": 43.651118,
          "longitude": -79.369411,
          "name": "Frederick St / King St E",
          "timestamp": "2022-11-08T08:49:30.350000Z"
         },
         {
          "empty_slots": 9,
          "extra": {
           "address": "College St / Borden St",
           "last_updated": 1667897123,
           "payment": [
            "key",
            "transitcard",
            "creditcard",
            "phone"
           ],
           "payment-terminal": true,
           "renting": 1,
           "returning": 1,
           "uid": "7023"
          },
          "free_bikes": 0,
          "id": "2037c7d47c8b7babcd2c4a058a66a6c8",
          "latitude": 43.6571,
          "longitude": -79.4056,
          "name": "College St / Borden St",
          "timestamp": "2022-11-08T08:49:30.360000Z"
         },
         {
          "empty_slots": 22,
          "extra": {
           "address": "Phoebe St / Spadina Ave",
           "last_updated": 1667897149,
           "payment": [
            "key",
            "transitcard",
            "creditcard",
            "phone"
           ],
           "payment-terminal": true,
           "renting": 1,
           "returning": 1,
           "uid": "7020"
          },
          "free_bikes": 9,
          "id": "2ccced1dbd563c3842d265b565098de1",
          "latitude": 43.650033,
          "longitude": -79.396555,
          "name": "Phoebe St / Spadina Ave",
          "timestamp": "2022-11-08T08:49:30.365000Z"
         },
         {
          "empty_slots": 3,
          "extra": {
           "address": "Beverley  St / Dundas St W",
           "last_updated": 1667897302,
           "payment": [
            "key",
            "transitcard",
            "creditcard",
            "phone"
           ],
           "payment-terminal": true,
           "renting": 1,
           "returning": 1,
           "uid": "7027"
          },
          "free_bikes": 26,
          "id": "73555343619c6b9d1253029204bbd5cd",
          "latitude": 43.652823,
          "longitude": -79.393388,
          "name": "Beverley  St / Dundas St W",
          "timestamp": "2022-11-08T08:49:30.365000Z"
         },
         {
          "empty_slots": 12,
          "extra": {
           "address": "Bay St / St. Joseph St",
           "last_updated": 1667897289,
           "payment": [
            "key",
            "transitcard",
            "creditcard",
            "phone"
           ],
           "payment-terminal": true,
           "renting": 1,
           "returning": 1,
           "uid": "7026"
          },
          "free_bikes": 0,
          "id": "d4c9a3af6604468422edfb03f56462db",
          "latitude": 43.665527,
          "longitude": -79.387499,
          "name": "Bay St / St. Joseph St",
          "timestamp": "2022-11-08T08:49:30.366000Z"
         },
         {
          "empty_slots": 5,
          "extra": {
           "address": "Ted Rogers Way / Bloor St E",
           "last_updated": 1667897106,
           "payment": [
            "key",
            "transitcard",
            "creditcard",
            "phone"
           ],
           "payment-terminal": true,
           "renting": 1,
           "returning": 1,
           "uid": "7025"
          },
          "free_bikes": 14,
          "id": "501cea9e754b07ac8713b850ea9b13f2",
          "latitude": 43.671293,
          "longitude": -79.380471,
          "name": "Ted Rogers Way / Bloor St E",
          "timestamp": "2022-11-08T08:49:30.367000Z"
         },
         {
          "empty_slots": 15,
          "extra": {
           "address": "Gould St / Mutual St",
           "last_updated": 1667897267,
           "payment": [
            "key",
            "transitcard",
            "creditcard",
            "phone"
           ],
           "payment-terminal": true,
           "renting": 1,
           "returning": 1,
           "uid": "7028"
          },
          "free_bikes": 15,
          "id": "6e0b53806a9d068b042fa21bd67c5418",
          "latitude": 43.6582,
          "longitude": -79.3768,
          "name": "Gould St / Mutual St",
          "timestamp": "2022-11-08T08:49:30.370000Z"
         },
         {
          "empty_slots": 6,
          "extra": {
           "address": "Riverdale Park North (Broadview Ave)",
           "last_updated": 1667897272,
           "payment": [
            "key",
            "transitcard",
            "creditcard",
            "phone"
           ],
           "payment-terminal": true,
           "renting": 1,
           "returning": 1,
           "uid": "7097"
          },
          "free_bikes": 8,
          "id": "c6f56ec0831b791abbce0992adba6318",
          "latitude": 43.671172,
          "longitude": -79.354704,
          "name": "Riverdale Park North (Broadview Ave)",
          "timestamp": "2022-11-08T08:49:30.379000Z"
         },
         {
          "empty_slots": 13,
          "extra": {
           "address": "Danforth Ave / Ellerbeck St",
           "last_updated": 1667897312,
           "payment": [
            "key",
            "transitcard",
            "creditcard",
            "phone"
           ],
           "payment-terminal": true,
           "renting": 1,
           "returning": 1,
           "uid": "7095"
          },
          "free_bikes": 1,
          "id": "3b2853992a1700739c8fa569801e1c48",
          "latitude": 43.677076,
          "longitude": -79.35667,
          "name": "Danforth Ave / Ellerbeck St",
          "timestamp": "2022-11-08T08:49:30.380000Z"
         },
         {
          "empty_slots": 0,
          "extra": {
           "address": "Pape Subway Green P",
           "last_updated": 1667897143,
           "payment": [
            "key",
            "transitcard",
            "creditcard",
            "phone"
           ],
           "payment-terminal": true,
           "renting": 1,
           "returning": 1,
           "uid": "7092"
          },
          "free_bikes": 14,
          "id": "18f8c64419b95e0c4692621928ce7dd6",
          "latitude": 43.680223,
          "longitude": -79.344062,
          "name": "Pape Subway Green P",
          "timestamp": "2022-11-08T08:49:30.381000Z"
         },
         {
          "empty_slots": 16,
          "extra": {
           "address": "Danforth Ave / Gough Ave",
           "last_updated": 1667897215,
           "payment": [
            "key",
            "transitcard",
            "creditcard",
            "phone"
           ],
           "payment-terminal": true,
           "renting": 1,
           "returning": 1,
           "uid": "7093"
          },
          "free_bikes": 0,
          "id": "a9f7723da0cc432f4d057e3ceede292e",
          "latitude": 43.678401,
          "longitude": -79.346289,
          "name": "Danforth Ave / Gough Ave",
          "timestamp": "2022-11-08T08:49:30.382000Z"
         },
         {
          "empty_slots": 16,
          "extra": {
           "address": "Danforth Ave / Lamb Ave",
           "last_updated": 1667897308,
           "payment": [
            "key",
            "transitcard",
            "creditcard",
            "phone"
           ],
           "payment-terminal": true,
           "renting": 1,
           "returning": 1,
           "uid": "7090"
          },
          "free_bikes": 1,
          "id": "79b67fbfd130d41c9162e805a9e755be",
          "latitude": 43.681991,
          "longitude": -79.329455,
          "name": "Danforth Ave / Lamb Ave",
          "timestamp": "2022-11-08T08:49:30.382000Z"
         },
         {
          "empty_slots": 4,
          "extra": {
           "address": "King St W / Stafford St",
           "last_updated": 1667897160,
           "payment": [
            "key",
            "transitcard",
            "creditcard",
            "phone"
           ],
           "payment-terminal": true,
           "renting": 1,
           "returning": 1,
           "uid": "7158"
          },
          "free_bikes": 9,
          "id": "667cd54aa27ec06620753f3d19a78b3d",
          "latitude": 43.6422222,
          "longitude": -79.41111111111111,
          "name": "King St W / Stafford St",
          "timestamp": "2022-11-08T08:49:30.383000Z"
         },
         {
          "empty_slots": 16,
          "extra": {
           "address": "Bathurst St / Lennox St",
           "last_updated": 1667897152,
           "payment": [
            "key",
            "transitcard",
            "creditcard",
            "phone"
           ],
           "payment-terminal": true,
           "renting": 1,
           "returning": 1,
           "uid": "7155"
          },
          "free_bikes": 2,
          "id": "37b46f2e5573e69f5451dc09c0c14660",
          "latitude": 43.663808,
          "longitude": -79.410491,
          "name": "Bathurst St / Lennox St",
          "timestamp": "2022-11-08T08:49:30.385000Z"
         },
         {
          "empty_slots": 21,
          "extra": {
           "address": "Bathurst Subway Station",
           "last_updated": 1667897137,
           "payment": [
            "key",
            "transitcard",
            "creditcard",
            "phone"
           ],
           "payment-terminal": true,
           "renting": 1,
           "returning": 1,
           "uid": "7154"
          },
          "free_bikes": 0,
          "id": "8db545a0135f7b92022fbdbbc75af6c4",
          "latitude": 43.6666667,
          "longitude": -79.41166666666668,
          "name": "Bathurst Subway Station",
          "timestamp": "2022-11-08T08:49:30.386000Z"
         },
         {
          "empty_slots": 8,
          "extra": {
           "address": "Bloor St W / Christie St",
           "last_updated": 1667897318,
           "payment": [
            "key",
            "transitcard",
            "creditcard",
            "phone"
           ],
           "payment-terminal": true,
           "renting": 1,
           "returning": 1,
           "uid": "7153"
          },
          "free_bikes": 3,
          "id": "78ac4436b3398ac55b47569863af6c41",
          "latitude": 43.6638889,
          "longitude": -79.41888888888889,
          "name": "Bloor St W / Christie St",
          "timestamp": "2022-11-08T08:49:30.387000Z"
         },
         {
          "empty_slots": 8,
          "extra": {
           "address": "Ossington Ave / Bloor St W",
           "last_updated": 1667897217,
           "payment": [
            "key",
            "transitcard",
            "creditcard",
            "phone"
           ],
           "payment-terminal": true,
           "renting": 1,
           "returning": 1,
           "uid": "7152"
          },
          "free_bikes": 1,
          "id": "6d45f03d18059ba5e61f0d44a0cea59d",
          "latitude": 43.661705,
          "longitude": -79.425734,
          "name": "Ossington Ave / Bloor St W",
          "timestamp": "2022-11-08T08:49:30.387000Z"
         },
         {
          "empty_slots": 9,
          "extra": {
           "address": "Essex St / Christie St",
           "last_updated": 1667897298,
           "payment": [
            "key",
            "transitcard",
            "creditcard",
            "phone"
           ],
           "payment-terminal": true,
           "renting": 1,
           "returning": 1,
           "uid": "7151"
          },
          "free_bikes": 10,
          "id": "cf1adac21d23e26855ea06278b5cd149",
          "latitude": 43.6686111,
          "longitude": -79.42027777777778,
          "name": "Essex St / Christie St - SMART",
          "timestamp": "2022-11-08T08:49:30.388000Z"
         },
         {
          "empty_slots": 8,
          "extra": {
           "address": "Westmoreland Ave / Fernbank Ave",
           "last_updated": 1667897339,
           "payment": [
            "key",
            "transitcard",
            "creditcard",
            "phone"
           ],
           "payment-terminal": true,
           "renting": 1,
           "returning": 1,
           "uid": "7296"
          },
          "free_bikes": 8,
          "id": "3863dd61e00ea66710f789ae4297a2d2",
          "latitude": 43.665327,
          "longitude": -79.43235,
          "name": "Westmoreland Ave / Fernbank Ave",
          "timestamp": "2022-11-08T08:49:30.392000Z"
         },
         {
          "empty_slots": 16,
          "extra": {
           "address": "Havelock St / Dufferin Park",
           "last_updated": 1667897317,
           "payment": [
            "key",
            "transitcard",
            "creditcard",
            "phone"
           ],
           "payment-terminal": true,
           "renting": 1,
           "returning": 1,
           "uid": "7297"
          },
          "free_bikes": 2,
          "id": "46bdd4a2b7715a9e32917b830777f17f",
          "latitude": 43.657343,
          "longitude": -79.43112,
          "name": "Havelock St / Dufferin Park",
          "timestamp": "2022-11-08T08:49:30.393000Z"
         },
         {
          "empty_slots": 2,
          "extra": {
           "address": "Bathurst St / Adelaide St W",
           "last_updated": 1667897124,
           "payment": [
            "key",
            "transitcard",
            "creditcard",
            "phone"
           ],
           "payment-terminal": true,
           "renting": 1,
           "returning": 1,
           "uid": "7298"
          },
          "free_bikes": 22,
          "id": "6ac9cdf0b92883715b404d41c779af0b",
          "latitude": 43.645324,
          "longitude": -79.40345,
          "name": "Bathurst St / Adelaide St W",
          "timestamp": "2022-11-08T08:49:30.394000Z"
         },
         {
          "empty_slots": 3,
          "extra": {
           "address": "Mill St / Parliament St",
           "last_updated": 1667897170,
           "payment": [
            "key",
            "transitcard",
            "creditcard",
            "phone"
           ],
           "payment-terminal": true,
           "renting": 1,
           "returning": 1,
           "uid": "7299"
          },
          "free_bikes": 12,
          "id": "a0582ad73e21704a28197ee3c0aa4bcd",
          "latitude": 43.650256,
          "longitude": -79.36163,
          "name": "Mill St / Parliament St",
          "timestamp": "2022-11-08T08:49:30.394000Z"
         },
         {
          "empty_slots": 11,
          "extra": {
           "address": "Ossington Ave / Harrison St",
           "last_updated": 1667897207,
           "payment": [
            "key",
            "transitcard",
            "creditcard",
            "phone"
           ],
           "payment-terminal": true,
           "renting": 1,
           "returning": 1,
           "uid": "7209"
          },
          "free_bikes": 7,
          "id": "bc19a4e6924e29937e76c9e82b55584c",
          "latitude": 43.651111111111106,
          "longitude": -79.4213888888889,
          "name": "Ossington Ave / Harrison St",
          "timestamp": "2022-11-08T08:49:30.404000Z"
         },
         {
          "empty_slots": 3,
          "extra": {
           "address": "80 Clinton St (North of College)",
           "last_updated": 1667897348,
           "payment": [
            "key",
            "transitcard",
            "creditcard",
            "phone"
           ],
           "payment-terminal": true,
           "renting": 1,
           "returning": 1,
           "uid": "7208"
          },
          "free_bikes": 10,
          "id": "71debce521f35fd4e280e8ee1e2dd8cc",
          "latitude": 43.656296,
          "longitude": -79.414663,
          "name": "80 Clinton St (North of College)",
          "timestamp": "2022-11-08T08:49:30.404000Z"
         },
         {
          "empty_slots": 0,
          "extra": {
           "address": "Dundas St W / Crawford St",
           "last_updated": 1667897250,
           "payment": [
            "key",
            "transitcard",
            "creditcard",
            "phone"
           ],
           "payment-terminal": true,
           "renting": 1,
           "returning": 1,
           "uid": "7207"
          },
          "free_bikes": 19,
          "id": "9d62413fcaba8ee2d11737b28e8651be",
          "latitude": 43.649722,
          "longitude": -79.416944,
          "name": "Dundas St W / Crawford St",
          "timestamp": "2022-11-08T08:49:30.409000Z"
         },
         {
          "empty_slots": 1,
          "extra": {
           "address": "Claremont St / Dundas St W",
           "last_updated": 1667897153,
           "payment": [
            "key",
            "transitcard",
            "creditcard",
            "phone"
           ],
           "payment-terminal": true,
           "renting": 1,
           "returning": 1,
           "uid": "7206"
          },
          "free_bikes": 11,
          "id": "5dd14c8888280d1274f6ad3e04f6d6cd",
          "latitude": 43.651281,
          "longitude": -79.411717,
          "name": "Claremont St / Dundas St W",
          "timestamp": "2022-11-08T08:49:30.411000Z"
         },
         {
          "empty_slots": 5,
          "extra": {
           "address": "Rusholme Park Cres / College St",
           "last_updated": 1667897282,
           "payment": [
            "key",
            "transitcard",
            "creditcard",
            "phone"
           ],
           "payment-terminal": true,
           "renting": 1,
           "returning": 1,
           "uid": "7205"
          },
          "free_bikes": 7,
          "id": "d7bb48a755f69109f6584df0a207c9b2",
          "latitude": 43.65277778,
          "longitude": -79.42972222,
          "name": "Rusholme Park Cres / College St",
          "timestamp": "2022-11-08T08:49:30.412000Z"
         },
         {
          "empty_slots": 5,
          "extra": {
           "address": "College St / Crawford St",
           "last_updated": 1667897285,
           "payment": [
            "key",
            "transitcard",
            "creditcard",
            "phone"
           ],
           "payment-terminal": true,
           "renting": 1,
           "returning": 1,
           "uid": "7204"
          },
          "free_bikes": 13,
          "id": "e53f168eadc3a7e3b9704193c739cb12",
          "latitude": 43.655,
          "longitude": -79.418889,
          "name": "College St / Crawford St",
          "timestamp": "2022-11-08T08:49:30.413000Z"
         },
         {
          "empty_slots": 1,
          "extra": {
           "address": "Gerrard Square Mall (1010 Gerrard St E)",
           "last_updated": 1667897209,
           "payment": [
            "key",
            "transitcard",
            "creditcard",
            "phone"
           ],
           "payment-terminal": true,
           "renting": 1,
           "returning": 1,
           "uid": "7337"
          },
          "free_bikes": 17,
          "id": "a0a11d15c4bd8231d739f71d85a8f29c",
          "latitude": 43.668553,
          "longitude": -79.338673,
          "name": "Gerrard Square Mall (1010 Gerrard St E)",
          "timestamp": "2022-11-08T08:49:30.424000Z"
         },
         {
          "empty_slots": 1,
          "extra": {
           "address": "Queen St E / Alton Av",
           "last_updated": 1667897360,
           "payment": [
            "key",
            "transitcard",
            "creditcard",
            "phone"
           ],
           "payment-terminal": true,
           "renting": 1,
           "returning": 1,
           "uid": "7336"
          },
          "free_bikes": 18,
          "id": "3e05658e4bcad33e9d606744235dadcc",
          "latitude": 43.663912,
          "longitude": -79.327987,
          "name": "Queen St E / Alton Av",
          "timestamp": "2022-11-08T08:49:30.425000Z"
         },
         {
          "empty_slots": 7,
          "extra": {
           "address": "Simcoe St / Wellington St 2",
           "last_updated": 1667897179,
           "payment": [
            "key",
            "transitcard",
            "creditcard",
            "phone"
           ],
           "payment-terminal": true,
           "renting": 1,
           "returning": 1,
           "uid": "7334"
          },
          "free_bikes": 6,
          "id": "ab92855299769ca50b1354e489b31a31",
          "latitude": 43.6462176,
          "longitude": -79.3855048,
          "name": "Simcoe St / Wellington St North",
          "timestamp": "2022-11-08T08:49:30.426000Z"
         },
         {
          "empty_slots": 15,
          "extra": {
           "address": "Coxwell Ave / Plains Rd",
           "last_updated": 1667897280,
           "payment": [
            "key",
            "transitcard",
            "creditcard",
            "phone"
           ],
           "payment-terminal": true,
           "renting": 1,
           "returning": 1,
           "uid": "7331"
          },
          "free_bikes": 3,
          "id": "20671fface2f37dd6d2d4263534c29e5",
          "latitude": 43.69595,
          "longitude": -79.328535,
          "name": "Coxwell Ave / Plains Rd",
          "timestamp": "2022-11-08T08:49:30.429000Z"
         },
         {
          "empty_slots": 14,
          "extra": {
           "address": "Carlaw Ave / Strathcona Ave",
           "last_updated": 1667897208,
           "payment": [
            "key",
            "transitcard",
            "creditcard",
            "phone"
           ],
           "payment-terminal": true,
           "renting": 1,
           "returning": 1,
           "uid": "7339"
          },
          "free_bikes": 0,
          "id": "67862da2d3680a6eaa417b8ce2d945d4",
          "latitude": 43.6753188,
          "longitude": -79.3462789,
          "name": "Carlaw Ave / Strathcona Ave",
          "timestamp": "2022-11-08T08:49:30.430000Z"
         },
         {
          "empty_slots": 3,
          "extra": {
           "address": "Logan Ave / Bain Ave",
           "last_updated": 1667897099,
           "payment": [
            "key",
            "transitcard",
            "creditcard",
            "phone"
           ],
           "payment-terminal": true,
           "renting": 1,
           "returning": 1,
           "uid": "7338"
          },
          "free_bikes": 7,
          "id": "fbf3bb78beefa587d54c8b24e2533469",
          "latitude": 43.6720273,
          "longitude": -79.3470557,
          "name": "Logan Ave / Bain Ave",
          "timestamp": "2022-11-08T08:49:30.431000Z"
         },
         {
          "empty_slots": 0,
          "extra": {
           "address": "Liberty St / Fraser Ave Green P",
           "last_updated": 1667897223,
           "payment": [
            "key",
            "transitcard",
            "creditcard",
            "phone"
           ],
           "payment-terminal": true,
           "renting": 1,
           "returning": 1,
           "uid": "7112"
          },
          "free_bikes": 17,
          "id": "f42363acf4af847ca6fcdbe9b48c8290",
          "latitude": 43.637981,
          "longitude": -79.424146,
          "name": "Liberty St / Fraser Ave Green P",
          "timestamp": "2022-11-08T08:49:30.438000Z"
         },
         {
          "empty_slots": 0,
          "extra": {
           "address": "King St W / Douro St",
           "last_updated": 1667897295,
           "payment": [
            "key",
            "transitcard",
            "creditcard",
            "phone"
           ],
           "payment-terminal": true,
           "renting": 1,
           "returning": 1,
           "uid": "7111"
          },
          "free_bikes": 8,
          "id": "3c85f738ad60e03252f1d62fec2f34d6",
          "latitude": 43.640885,
          "longitude": -79.416379,
          "name": "King St W / Douro St",
          "timestamp": "2022-11-08T08:49:30.439000Z"
         },
         {
          "empty_slots": 13,
          "extra": {
           "address": "Queen St E / Berkeley St",
           "last_updated": 1667897215,
           "payment": [
            "key",
            "transitcard",
            "creditcard",
            "phone"
           ],
           "payment-terminal": true,
           "renting": 1,
           "returning": 1,
           "uid": "7110"
          },
          "free_bikes": 2,
          "id": "c7948cf5155f3ddaefa9a8279f203b5a",
          "latitude": 43.6552778,
          "longitude": -79.36583333333333,
          "name": "Queen St E / Berkeley St",
          "timestamp": "2022-11-08T08:49:30.440000Z"
         },
         {
          "empty_slots": 13,
          "extra": {
           "address": "Howard St / Sherbourne St",
           "last_updated": 1667897157,
           "payment": [
            "key",
            "transitcard",
            "creditcard",
            "phone"
           ],
           "payment-terminal": true,
           "renting": 1,
           "returning": 1,
           "uid": "7115"
          },
          "free_bikes": 2,
          "id": "908d3c912d6d67c7a5e2bb94d1ae7df3",
          "latitude": 43.6712581,
          "longitude": -79.376367,
          "name": "Howard St / Sherbourne St",
          "timestamp": "2022-11-08T08:49:30.441000Z"
         },
         {
          "empty_slots": 10,
          "extra": {
           "address": "Carlton St / Parliament St",
           "last_updated": 1667897357,
           "payment": [
            "key",
            "transitcard",
            "creditcard",
            "phone"
           ],
           "payment-terminal": true,
           "renting": 1,
           "returning": 1,
           "uid": "7114"
          },
          "free_bikes": 4,
          "id": "13e6abf323682b291aadb3371ce32cc7",
          "latitude": 43.664524,
          "longitude": -79.36793,
          "name": "Carlton St / Parliament St",
          "timestamp": "2022-11-08T08:49:30.442000Z"
         },
         {
          "empty_slots": 9,
          "extra": {
           "address": "Sumach St / Carlton St (Riverdale Farm)",
           "last_updated": 1667897173,
           "payment": [
            "key",
            "transitcard",
            "creditcard",
            "phone"
           ],
           "payment-terminal": true,
           "renting": 1,
           "returning": 1,
           "uid": "7119"
          },
          "free_bikes": 4,
          "id": "e46a04a7825e44fa858bc0cb00a4458a",
          "latitude": 43.665867,
          "longitude": -79.362506,
          "name": "Sumach St / Carlton St. (Riverdale Farm)",
          "timestamp": "2022-11-08T08:49:30.443000Z"
         },
         {
          "empty_slots": 17,
          "extra": {
           "address": "King St W / Bay St (East Side)",
           "last_updated": 1667897263,
           "payment": [
            "key",
            "transitcard",
            "creditcard",
            "phone"
           ],
           "payment-terminal": true,
           "renting": 1,
           "returning": 1,
           "uid": "7118"
          },
          "free_bikes": 0,
          "id": "5db77b72334a7b8823a28662a03f8e38",
          "latitude": 43.648575,
          "longitude": -79.380042,
          "name": "King St W / Bay St (East Side)",
          "timestamp": "2022-11-08T08:49:30.444000Z"
         },
         {
          "empty_slots": 3,
          "extra": {
           "address": "Front St W / Blue Jays Way",
           "last_updated": 1667897217,
           "payment": [
            "key",
            "transitcard",
            "creditcard",
            "phone"
           ],
           "payment-terminal": true,
           "renting": 1,
           "returning": 1,
           "uid": "7059"
          },
          "free_bikes": 10,
          "id": "c955acbcda8513471837f2aa55a98fb1",
          "latitude": 43.643473,
          "longitude": -79.390477,
          "name": "Front St W / Blue Jays Way",
          "timestamp": "2022-11-08T08:49:30.447000Z"
         },
         {
          "empty_slots": 1,
          "extra": {
           "address": "Metro Hall Plaza",
           "last_updated": 1667897224,
           "payment": [
            "key",
            "transitcard",
            "creditcard",
            "phone"
           ],
           "payment-terminal": true,
           "renting": 1,
           "returning": 1,
           "uid": "7053"
          },
          "free_bikes": 26,
          "id": "6d07f3c1d79ff6816c5c04a7def6e6eb",
          "latitude": 43.645859,
          "longitude": -79.38783,
          "name": "Metro Hall Plaza",
          "timestamp": "2022-11-08T08:49:30.449000Z"
         },
         {
          "empty_slots": 18,
          "extra": {
           "address": "Parliament St / Gerrard St",
           "last_updated": 1667897101,
           "payment": [
            "key",
            "transitcard",
            "creditcard",
            "phone"
           ],
           "payment-terminal": true,
           "renting": 1,
           "returning": 1,
           "uid": "7056"
          },
          "free_bikes": 5,
          "id": "832ed21684e41502666f993fae2eeb87",
          "latitude": 43.662132,
          "longitude": -79.3656796,
          "name": "Parliament St / Gerrard St",
          "timestamp": "2022-11-08T08:49:30.450000Z"
         },
         {
          "empty_slots": 0,
          "extra": {
           "address": "Navy Wharf Ct. / Bremner Blvd.",
           "last_updated": 1667897110,
           "payment": [
            "key",
            "transitcard",
            "creditcard",
            "phone"
           ],
           "payment-terminal": true,
           "renting": 1,
           "returning": 1,
           "uid": "7054"
          },
          "free_bikes": 10,
          "id": "019e5937c3fc120cee906770bca8fa69",
          "latitude": 43.640722,
          "longitude": -79.391051,
          "name": "Navy Wharf Ct. / Bremner Blvd.",
          "timestamp": "2022-11-08T08:49:30.452000Z"
         },
         {
          "empty_slots": 9,
          "extra": {
           "address": "Jarvis St / Carlton St",
           "last_updated": 1667897235,
           "payment": [
            "key",
            "transitcard",
            "creditcard",
            "phone"
           ],
           "payment-terminal": true,
           "renting": 1,
           "returning": 1,
           "uid": "7055"
          },
          "free_bikes": 5,
          "id": "3754aff9599513c7ba4e4649ea3818dd",
          "latitude": 43.66207,
          "longitude": -79.37617,
          "name": "Jarvis St / Carlton St",
          "timestamp": "2022-11-08T08:49:30.453000Z"
         },
         {
          "empty_slots": 0,
          "extra": {
           "address": "Lake Shore Blvd E / Knox Ave",
           "last_updated": 1667897295,
           "payment": [
            "key",
            "transitcard",
            "creditcard",
            "phone"
           ],
           "payment-terminal": true,
           "renting": 1,
           "returning": 1,
           "uid": "7319"
          },
          "free_bikes": 11,
          "id": "e0ae749c309ee887012688bbd69c8b10",
          "latitude": 43.660206,
          "longitude": -79.3244,
          "name": "Lake Shore Blvd E / Knox Ave",
          "timestamp": "2022-11-08T08:49:30.459000Z"
         },
         {
          "empty_slots": 3,
          "extra": {
           "address": "Hubbard Blvd. / Glen Manor Dr.",
           "last_updated": 1667897331,
           "payment": [
            "key",
            "transitcard",
            "creditcard",
            "phone"
           ],
           "payment-terminal": true,
           "renting": 1,
           "returning": 1,
           "uid": "7318"
          },
          "free_bikes": 11,
          "id": "ee45e3b6a9f07f4581d82c06d9bd5f51",
          "latitude": 43.668633,
          "longitude": -79.291162,
          "name": "Hubbard Blvd. / Glen Manor Dr.",
          "timestamp": "2022-11-08T08:49:30.461000Z"
         },
         {
          "empty_slots": 9,
          "extra": {
           "address": "Yonge St / Dundonald St",
           "last_updated": 1667897301,
           "payment": [
            "key",
            "transitcard",
            "creditcard",
            "phone"
           ],
           "payment-terminal": true,
           "renting": 1,
           "returning": 1,
           "uid": "7272"
          },
          "free_bikes": 2,
          "id": "af0a7227a67fe55fb0c12597326e6b3b",
          "latitude": 43.665801,
          "longitude": -79.384796,
          "name": "Yonge St / Dundonald St - SMART",
          "timestamp": "2022-11-08T08:49:30.482000Z"
         },
         {
          "empty_slots": 17,
          "extra": {
           "address": "Bay St / Charles St W",
           "last_updated": 1667897137,
           "payment": [
            "key",
            "transitcard",
            "phone"
           ],
           "payment-terminal": false,
           "renting": 1,
           "returning": 1,
           "uid": "7273"
          },
          "free_bikes": 3,
          "id": "4f8770c2a0ee3962babd83913df2e99c",
          "latitude": 43.668153,
          "longitude": -79.38891,
          "name": "Bay St / Charles St - SMART",
          "timestamp": "2022-11-08T08:49:30.483000Z"
         },
         {
          "empty_slots": 9,
          "extra": {
           "address": "Church St / Dundas St E",
           "last_updated": 1667897328,
           "payment": [
            "key",
            "transitcard",
            "phone"
           ],
           "payment-terminal": false,
           "renting": 1,
           "returning": 1,
           "uid": "7270"
          },
          "free_bikes": 5,
          "id": "d70594ad9c923bbbae6602d2dff4d154",
          "latitude": 43.657024,
          "longitude": -79.377257,
          "name": "Church St / Dundas St E - SMART",
          "timestamp": "2022-11-08T08:49:30.484000Z"
         },
         {
          "empty_slots": 13,
          "extra": {
           "address": "Yonge St / Alexander St",
           "last_updated": 1667897098,
           "payment": [
            "key",
            "transitcard",
            "phone"
           ],
           "payment-terminal": false,
           "renting": 1,
           "returning": 1,
           "uid": "7271"
          },
          "free_bikes": 3,
          "id": "9a5a9a00b6f0cb77047f37e70887d891",
          "latitude": 43.662862,
          "longitude": -79.383572,
          "name": "Yonge St / Alexander St - SMART",
          "timestamp": "2022-11-08T08:49:29.922000Z"
         },
         {
          "empty_slots": 6,
          "extra": {
           "address": "Queen St W / James St",
           "last_updated": 1667897201,
           "payment": [
            "key",
            "transitcard",
            "creditcard",
            "phone"
           ],
           "payment-terminal": true,
           "renting": 1,
           "returning": 1,
           "uid": "7275"
          },
          "free_bikes": 3,
          "id": "6e89f1a3d62be9382436766e8177c448",
          "latitude": 43.652276,
          "longitude": -79.380701,
          "name": "Queen St W / James St",
          "timestamp": "2022-11-08T08:49:30.488000Z"
         },
         {
          "empty_slots": 15,
          "extra": {
           "address": "Eglinton Ave W / Henning Ave SMART",
           "last_updated": 1667897246,
           "payment": [
            "key",
            "transitcard",
            "phone"
           ],
           "payment-terminal": false,
           "renting": 1,
           "returning": 1,
           "uid": "7371"
          },
          "free_bikes": 5,
          "id": "f0af815a9e6c12bd0382843e03fd322f",
          "latitude": 43.7063473,
          "longitude": -79.40161,
          "name": "Eglinton Ave W / Henning Ave SMART",
          "timestamp": "2022-11-08T08:49:30.490000Z"
         },
         {
          "empty_slots": 19,
          "extra": {
           "address": "Balliol St / Yonge St SMART",
           "last_updated": 1667897253,
           "payment": [
            "key",
            "transitcard",
            "phone"
           ],
           "payment-terminal": false,
           "renting": 1,
           "returning": 1,
           "uid": "7377"
          },
          "free_bikes": 0,
          "id": "b3786025b3e4a46d9a21d6b82087cd12",
          "latitude": 43.6978701,
          "longitude": -79.39419,
          "name": "Balliol St / Yonge St  SMART",
          "timestamp": "2022-11-08T08:49:30.491000Z"
         },
         {
          "empty_slots": 6,
          "extra": {
           "address": "Frobisher Ave / Lascelles Blvd",
           "last_updated": 1667897198,
           "payment": [
            "key",
            "transitcard",
            "creditcard",
            "phone"
           ],
           "payment-terminal": true,
           "renting": 1,
           "returning": 1,
           "uid": "7376"
          },
          "free_bikes": 13,
          "id": "44bdbe8a2ac75fbe4cc0edf41fe1d4fa",
          "latitude": 43.696708,
          "longitude": -79.40045,
          "name": "Frobisher Ave / Lascelles Blvd",
          "timestamp": "2022-11-08T08:49:30.492000Z"
         },
         {
          "empty_slots": 2,
          "extra": {
           "address": "Front St E / Scott St",
           "last_updated": 1667897221,
           "payment": [
            "key",
            "transitcard",
            "creditcard",
            "phone"
           ],
           "payment-terminal": true,
           "renting": 1,
           "returning": 1,
           "uid": "7375"
          },
          "free_bikes": 8,
          "id": "ba979c39b60f1144fc9dd91faaeeea64",
          "latitude": 43.6476616,
          "longitude": -79.37549,
          "name": "Front St E / Scott St",
          "timestamp": "2022-11-08T08:49:30.493000Z"
         },
         {
          "empty_slots": 0,
          "extra": {
           "address": "Frederick St / The Esplanade",
           "last_updated": 1667897314,
           "payment": [
            "key",
            "transitcard",
            "creditcard",
            "phone"
           ],
           "payment-terminal": true,
           "renting": 1,
           "returning": 1,
           "uid": "7374"
          },
          "free_bikes": 19,
          "id": "eb9f4cf130feebf9af0dc0225411eb98",
          "latitude": 43.6487245,
          "longitude": -79.36839,
          "name": "Frederick St / The Esplanade",
          "timestamp": "2022-11-08T08:49:30.494000Z"
         },
         {
          "empty_slots": 1,
          "extra": {
           "address": "Riverdale Park South (Broadview Ave)",
           "last_updated": 1667897354,
           "payment": [
            "key",
            "transitcard",
            "creditcard",
            "phone"
           ],
           "payment-terminal": true,
           "renting": 1,
           "returning": 1,
           "uid": "7098"
          },
          "free_bikes": 14,
          "id": "8fa4c8b1ddf121e11c9745205bc18c01",
          "latitude": 43.667819,
          "longitude": -79.35347,
          "name": "Riverdale Park South (Broadview Ave)",
          "timestamp": "2022-11-08T08:49:30.505000Z"
         },
         {
          "empty_slots": 8,
          "extra": {
           "address": "Sherbourne St / Carlton St (Allan Gardens)",
           "last_updated": 1667897191,
           "payment": [
            "key",
            "transitcard",
            "creditcard",
            "phone"
           ],
           "payment-terminal": true,
           "renting": 1,
           "returning": 1,
           "uid": "7014"
          },
          "free_bikes": 5,
          "id": "7fac6bfdffa0a7b4ff8a3f1ebd78da81",
          "latitude": 43.663102,
          "longitude": -79.373181,
          "name": "Sherbourne St / Carlton St (Allan Gardens)",
          "timestamp": "2022-11-08T08:49:30.507000Z"
         },
         {
          "empty_slots": 7,
          "extra": {
           "address": "King St W / Bay St (West Side)",
           "last_updated": 1667897275,
           "payment": [
            "key",
            "transitcard",
            "creditcard",
            "phone"
           ],
           "payment-terminal": true,
           "renting": 1,
           "returning": 1,
           "uid": "7015"
          },
          "free_bikes": 30,
          "id": "52d497af695140c759b28d7bf63e94f4",
          "latitude": 43.64852,
          "longitude": -79.380576,
          "name": "King St W / Bay St (West Side)",
          "timestamp": "2022-11-08T08:49:30.508000Z"
         },
         {
          "empty_slots": 1,
          "extra": {
           "address": "Elizabeth St / Edward St (Bus Terminal)",
           "last_updated": 1667897187,
           "payment": [
            "key",
            "transitcard",
            "creditcard",
            "phone"
           ],
           "payment-terminal": true,
           "renting": 1,
           "returning": 1,
           "uid": "7012"
          },
          "free_bikes": 13,
          "id": "ee2e9277d3e8a86acbfdda0e395d1378",
          "latitude": 43.656026,
          "longitude": -79.385327,
          "name": "Elizabeth St / Edward St (Bus Terminal)",
          "timestamp": "2022-11-08T08:49:30.509000Z"
         },
         {
          "empty_slots": 4,
          "extra": {
           "address": "King St W / Spadina Ave",
           "last_updated": 1667897153,
           "payment": [
            "key",
            "transitcard",
            "creditcard",
            "phone"
           ],
           "payment-terminal": true,
           "renting": 1,
           "returning": 1,
           "uid": "7010"
          },
          "free_bikes": 15,
          "id": "90d36d6e81fff926a434e196e0a43d53",
          "latitude": 43.645323,
          "longitude": -79.395003,
          "name": "King St W / Spadina Ave",
          "timestamp": "2022-11-08T08:49:30.510000Z"
         },
         {
          "empty_slots": 9,
          "extra": {
           "address": "Glen Edyth Dr / Davenport Rd",
           "last_updated": 1667897246,
           "payment": [
            "key",
            "transitcard",
            "creditcard",
            "phone"
           ],
           "payment-terminal": true,
           "renting": 1,
           "returning": 1,
           "uid": "7139"
          },
          "free_bikes": 3,
          "id": "14d5d7e0f5a8e23c9b50f62ea39f725c",
          "latitude": 43.677778,
          "longitude": -79.405556,
          "name": "Glen Edyth Dr / Davenport Rd",
          "timestamp": "2022-11-08T08:49:30.520000Z"
         },
         {
          "empty_slots": 8,
          "extra": {
           "address": "Queens Quay / Yonge St",
           "last_updated": 1667897188,
           "payment": [
            "key",
            "transitcard",
            "creditcard",
            "phone"
           ],
           "payment-terminal": true,
           "renting": 1,
           "returning": 1,
           "uid": "7168"
          },
          "free_bikes": 22,
          "id": "3bfbe7d9edced07da6dd283495fb8170",
          "latitude": 43.641646,
          "longitude": -79.375308,
          "name": "Queens Quay / Yonge St",
          "timestamp": "2022-11-08T08:49:30.521000Z"
         },
         {
          "empty_slots": 2,
          "extra": {
           "address": "Front St W / Bay St (North Side)",
           "last_updated": 1667897174,
           "payment": [
            "key",
            "transitcard",
            "creditcard",
            "phone"
           ],
           "payment-terminal": true,
           "renting": 1,
           "returning": 1,
           "uid": "7169"
          },
          "free_bikes": 9,
          "id": "58c0d439a59414e5e23bf5021e264d79",
          "latitude": 43.646162,
          "longitude": -79.378912,
          "name": "Front St W / Bay St (North Side)",
          "timestamp": "2022-11-08T08:49:30.522000Z"
         },
         {
          "empty_slots": 12,
          "extra": {
           "address": "Danforth Ave / Westlake Ave",
           "last_updated": 1667897131,
           "payment": [
            "key",
            "transitcard",
            "creditcard",
            "phone"
           ],
           "payment-terminal": true,
           "renting": 1,
           "returning": 1,
           "uid": "7085"
          },
          "free_bikes": 3,
          "id": "f36d8ed5ff407fc4eab6c9cc344661f9",
          "latitude": 43.687323,
          "longitude": -79.304848,
          "name": "Danforth Ave / Westlake Ave",
          "timestamp": "2022-11-08T08:49:30.522000Z"
         },
         {
          "empty_slots": 18,
          "extra": {
           "address": "Jarvis St / Isabella St",
           "last_updated": 1667897097,
           "payment": [
            "key",
            "transitcard",
            "creditcard",
            "phone"
           ],
           "payment-terminal": true,
           "renting": 1,
           "returning": 1,
           "uid": "7031"
          },
          "free_bikes": 4,
          "id": "15fc89637ebe1c3e63fbe123d70819ee",
          "latitude": 43.668991,
          "longitude": -79.379385,
          "name": "Jarvis St / Isabella St",
          "timestamp": "2022-11-08T08:49:30.524000Z"
         },
         {
          "empty_slots": 3,
          "extra": {
           "address": "Yonge St / Wood St",
           "last_updated": 1667897093,
           "payment": [
            "key",
            "transitcard",
            "creditcard",
            "phone"
           ],
           "payment-terminal": true,
           "renting": 1,
           "returning": 1,
           "uid": "7163"
          },
          "free_bikes": 9,
          "id": "ef0363fb67db85c62cfe83b7032ade5b",
          "latitude": 43.6622222,
          "longitude": -79.3825,
          "name": "Yonge St / Wood St",
          "timestamp": "2022-11-08T08:49:30.526000Z"
         },
         {
          "empty_slots": 1,
          "extra": {
           "address": "King St W / Tecumseth St",
           "last_updated": 1667897119,
           "payment": [
            "key",
            "transitcard",
            "creditcard",
            "phone"
           ],
           "payment-terminal": true,
           "renting": 1,
           "returning": 1,
           "uid": "7160"
          },
          "free_bikes": 12,
          "id": "9fcbcd2e313ddf16bc7200bede80e9a6",
          "latitude": 43.64333333333333,
          "longitude": -79.40555555555557,
          "name": "King St W / Tecumseth St",
          "timestamp": "2022-11-08T08:49:30.527000Z"
         },
         {
          "empty_slots": 22,
          "extra": {
           "address": "Beverley St / College St",
           "last_updated": 1667897238,
           "payment": [
            "key",
            "transitcard",
            "creditcard",
            "phone"
           ],
           "payment-terminal": true,
           "renting": 1,
           "returning": 1,
           "uid": "7161"
          },
          "free_bikes": 0,
          "id": "f5506a406fb49a19088bedd1d8e9cd2f",
          "latitude": 43.6575,
          "longitude": -79.39527777777778,
          "name": "Beverley St / College St",
          "timestamp": "2022-11-08T08:49:30.528000Z"
         },
         {
          "empty_slots": 9,
          "extra": {
           "address": "Queen St E / George St (Moss Park)",
           "last_updated": 1667897127,
           "payment": [
            "key",
            "transitcard",
            "creditcard",
            "phone"
           ],
           "payment-terminal": true,
           "renting": 1,
           "returning": 1,
           "uid": "7167"
          },
          "free_bikes": 8,
          "id": "07bbc8b9823872f091b8fd9d74be42ba",
          "latitude": 43.6544444,
          "longitude": -79.3711111111111,
          "name": "Queen St E / George St (Moss Park)",
          "timestamp": "2022-11-08T08:49:30.528000Z"
         },
         {
          "empty_slots": 14,
          "extra": {
           "address": "Gould St / Yonge St (Ryerson University)",
           "last_updated": 1667897209,
           "payment": [
            "key",
            "transitcard",
            "creditcard",
            "phone"
           ],
           "payment-terminal": true,
           "renting": 1,
           "returning": 1,
           "uid": "7164"
          },
          "free_bikes": 6,
          "id": "fc62f74abe3d79fa430f55f6f56e5e3a",
          "latitude": 43.657424,
          "longitude": -79.381019,
          "name": "Gould St / Yonge St (Ryerson University)",
          "timestamp": "2022-11-08T08:49:30.529000Z"
         },
         {
          "empty_slots": 3,
          "extra": {
           "address": "Front St W / Bay St (South Side)",
           "last_updated": 1667897115,
           "payment": [
            "key",
            "transitcard",
            "creditcard",
            "phone"
           ],
           "payment-terminal": true,
           "renting": 1,
           "returning": 1,
           "uid": "7283"
          },
          "free_bikes": 16,
          "id": "4b13a471170e0768fe5e1ca0b30fde8d",
          "latitude": 43.64595,
          "longitude": -79.378761,
          "name": "Front St W / Bay St (South Side)",
          "timestamp": "2022-11-08T08:49:30.530000Z"
         },
         {
          "empty_slots": 17,
          "extra": {
           "address": "Charles St W / Balmuto St",
           "last_updated": 1667897129,
           "payment": [
            "key",
            "transitcard",
            "phone"
           ],
           "payment-terminal": false,
           "renting": 1,
           "returning": 1,
           "uid": "7281"
          },
          "free_bikes": 2,
          "id": "5e8bf46c90fa957882beddfb6625870b",
          "latitude": 43.668427,
          "longitude": -79.38725,
          "name": "Charles St W / Balmuto St - SMART",
          "timestamp": "2022-11-08T08:49:30.531000Z"
         },
         {
          "empty_slots": 10,
          "extra": {
           "address": "Charles St E / Jarvis St",
           "last_updated": 1667897317,
           "payment": [
            "key",
            "transitcard",
            "phone"
           ],
           "payment-terminal": false,
           "renting": 1,
           "returning": 1,
           "uid": "7280"
          },
          "free_bikes": 10,
          "id": "3ba9b248dbb5b0ffa30ec9807f14476c",
          "latitude": 43.669604,
          "longitude": -79.381171,
          "name": "Charles St E / Jarvis St - SMART",
          "timestamp": "2022-11-08T08:49:30.531000Z"
         },
         {
          "empty_slots": 0,
          "extra": {
           "address": "Queen St E / Pape Ave",
           "last_updated": 1667897344,
           "payment": [
            "key",
            "transitcard",
            "phone"
           ],
           "payment-terminal": false,
           "renting": 1,
           "returning": 1,
           "uid": "7287"
          },
          "free_bikes": 7,
          "id": "0690f86b4ecb172570d8e08b5f9004c3",
          "latitude": 43.661673,
          "longitude": -79.337789,
          "name": "Queen St E / Pape Ave - SMART",
          "timestamp": "2022-11-08T08:49:30.532000Z"
         },
         {
          "empty_slots": 7,
          "extra": {
           "address": "Gerrard St E / Broadview",
           "last_updated": 1667897330,
           "payment": [
            "key",
            "transitcard",
            "phone"
           ],
           "payment-terminal": false,
           "renting": 1,
           "returning": 1,
           "uid": "7286"
          },
          "free_bikes": 10,
          "id": "9796c16b7ac90260d9f033ba4735acea",
          "latitude": 43.665656,
          "longitude": -79.352055,
          "name": "Gerrard St E / Broadview - SMART",
          "timestamp": "2022-11-08T08:49:30.533000Z"
         },
         {
          "empty_slots": 9,
          "extra": {
           "address": "Humber Bay Shores Park East",
           "last_updated": 1667897288,
           "payment": [
            "key",
            "transitcard",
            "creditcard",
            "phone"
           ],
           "payment-terminal": true,
           "renting": 1,
           "returning": 1,
           "uid": "7289"
          },
          "free_bikes": 13,
          "id": "abbcc3b45ad10472c3ec35ce3fb6e078",
          "latitude": 43.6308933,
          "longitude": -79.4722622,
          "name": "Humber Bay Shores Park East",
          "timestamp": "2022-11-08T08:49:30.535000Z"
         },
         {
          "empty_slots": 19,
          "extra": {
           "address": "Humber Bay Shores Park West",
           "last_updated": 1667897318,
           "payment": [
            "key",
            "transitcard",
            "creditcard",
            "phone"
           ],
           "payment-terminal": true,
           "renting": 1,
           "returning": 1,
           "uid": "7288"
          },
          "free_bikes": 10,
          "id": "ec48a65298b460584afe2586c15c360c",
          "latitude": 43.6224434,
          "longitude": -79.480284,
          "name": "Humber Bay Shores Park West",
          "timestamp": "2022-11-08T08:49:30.536000Z"
         },
         {
          "empty_slots": 10,
          "extra": {
           "address": "Taddle Creek Park",
           "last_updated": 1667897197,
           "payment": [
            "key",
            "transitcard",
            "creditcard",
            "phone"
           ],
           "payment-terminal": true,
           "renting": 1,
           "returning": 1,
           "uid": "7131"
          },
          "free_bikes": 3,
          "id": "21982c325ac8d5dcc146b350aa0e8298",
          "latitude": 43.66986,
          "longitude": -79.398443,
          "name": "Taddle Creek Park",
          "timestamp": "2022-11-08T08:49:30.536000Z"
         },
         {
          "empty_slots": 3,
          "extra": {
           "address": "Thompson St / Broadview Ave",
           "last_updated": 1667897205,
           "payment": [
            "key",
            "transitcard",
            "phone"
           ],
           "payment-terminal": false,
           "renting": 1,
           "returning": 1,
           "uid": "7236"
          },
          "free_bikes": 7,
          "id": "82748c8c8a714dd216bcd4c636585556",
          "latitude": 43.659471,
          "longitude": -79.350325,
          "name": "Thompson St / Broadview Ave - SMART",
          "timestamp": "2022-11-08T08:49:30.539000Z"
         },
         {
          "empty_slots": 0,
          "extra": {
           "address": "Roncesvalles Ave / Marmaduke St",
           "last_updated": 1667897357,
           "payment": [
            "key",
            "transitcard",
            "creditcard",
            "phone"
           ],
           "payment-terminal": true,
           "renting": 1,
           "returning": 1,
           "uid": "7234"
          },
          "free_bikes": 17,
          "id": "16658c808dda522274b99346e8f815fb",
          "latitude": 43.650492,
          "longitude": -79.450842,
          "name": "Roncesvalles Ave / Marmaduke St",
          "timestamp": "2022-11-08T08:49:30.541000Z"
         },
         {
          "empty_slots": 2,
          "extra": {
           "address": "Queen St W / Fuller Ave",
           "last_updated": 1667897354,
           "payment": [
            "key",
            "transitcard",
            "phone"
           ],
           "payment-terminal": false,
           "renting": 1,
           "returning": 1,
           "uid": "7232"
          },
          "free_bikes": 14,
          "id": "4d985c0489e4b123e499fcaa4b70e32e",
          "latitude": 43.640255,
          "longitude": -79.439223,
          "name": "Queen St W  /  Fuller Ave - SMART",
          "timestamp": "2022-11-08T08:49:30.542000Z"
         },
         {
          "empty_slots": 6,
          "extra": {
           "address": "King St W / Cowan Ave",
           "last_updated": 1667897294,
           "payment": [
            "key",
            "transitcard",
            "phone"
           ],
           "payment-terminal": false,
           "renting": 1,
           "returning": 1,
           "uid": "7233"
          },
          "free_bikes": 9,
          "id": "2567d3e27e558c6e6ee94c289c838111",
          "latitude": 43.637922,
          "longitude": -79.431734,
          "name": "King / Cowan Ave - SMART",
          "timestamp": "2022-11-08T08:49:30.543000Z"
         },
         {
          "empty_slots": 1,
          "extra": {
           "address": "Garden Ave / Roncesvalles Ave",
           "last_updated": 1667897276,
           "payment": [
            "key",
            "transitcard",
            "creditcard",
            "phone"
           ],
           "payment-terminal": true,
           "renting": 1,
           "returning": 1,
           "uid": "7230"
          },
          "free_bikes": 16,
          "id": "760056e88951946d2f3e9bea859333eb",
          "latitude": 43.643769,
          "longitude": -79.447915,
          "name": "Garden Ave / Roncesvalles Ave",
          "timestamp": "2022-11-08T08:49:30.544000Z"
         },
         {
          "empty_slots": 13,
          "extra": {
           "address": "Sorauren St / Geoffrey St (Sorauren Park)",
           "last_updated": 1667897123,
           "payment": [
            "key",
            "transitcard",
            "phone"
           ],
           "payment-terminal": false,
           "renting": 1,
           "returning": 1,
           "uid": "7238"
          },
          "free_bikes": 3,
          "id": "c08362564d4889e345bfaaa42da5fb4f",
          "latitude": 43.649172,
          "longitude": -79.4445087,
          "name": "Sorauren/Geoffrey (Sorauren Park) - SMART",
          "timestamp": "2022-11-08T08:49:30.545000Z"
         },
         {
          "empty_slots": 10,
          "extra": {
           "address": "Bloor St W / Manning Ave",
           "last_updated": 1667897303,
           "payment": [
            "key",
            "transitcard",
            "phone"
           ],
           "payment-terminal": false,
           "renting": 1,
           "returning": 1,
           "uid": "7239"
          },
          "free_bikes": 10,
          "id": "c1375239981cfc9b3934e691cb9013bb",
          "latitude": 43.663912,
          "longitude": -79.416124,
          "name": "Bloor St W / Manning Ave - SMART",
          "timestamp": "2022-11-08T08:49:30.547000Z"
         },
         {
          "empty_slots": 11,
          "extra": {
           "address": "Simcoe St / Wellington St 1",
           "last_updated": 1667897297,
           "payment": [
            "key",
            "transitcard",
            "creditcard",
            "phone"
           ],
           "payment-terminal": true,
           "renting": 1,
           "returning": 1,
           "uid": "7057"
          },
          "free_bikes": 15,
          "id": "dcbcf9c681fbd3e77dfbea6df0e070bc",
          "latitude": 43.6458569,
          "longitude": -79.3853654,
          "name": "Simcoe St / Wellington St South",
          "timestamp": "2022-11-08T08:49:30.451000Z"
         },
         {
          "empty_slots": 0,
          "extra": {
           "address": "Mallon Ave / Jones Ave",
           "last_updated": 1667897239,
           "payment": [
            "key",
            "transitcard",
            "phone"
           ],
           "payment-terminal": false,
           "renting": 1,
           "returning": 1,
           "uid": "7278"
          },
          "free_bikes": 15,
          "id": "29f79e7d7e4440c7554a3f3e3bae4f88",
          "latitude": 43.66587,
          "longitude": -79.33443,
          "name": "Mallon Ave / Jones Ave -SMART",
          "timestamp": "2022-11-08T08:49:29.934000Z"
         },
         {
          "empty_slots": 11,
          "extra": {
           "address": "Berkeley St / Dundas St E - SMART",
           "last_updated": 1667897259,
           "payment": [
            "key",
            "transitcard",
            "phone"
           ],
           "payment-terminal": false,
           "renting": 1,
           "returning": 1,
           "uid": "7508"
          },
          "free_bikes": 8,
          "id": "8d65a48806e799a8c2d5dcb77e97c1cb",
          "latitude": 43.658816,
          "longitude": -79.367318,
          "name": "Berkeley St / Dundas St E - SMART",
          "timestamp": "2022-11-08T08:49:30.436000Z"
         },
         {
          "empty_slots": 20,
          "extra": {
           "address": "128 Sterling Ave - SMART",
           "last_updated": 1667897169,
           "payment": [
            "key",
            "transitcard",
            "phone"
           ],
           "payment-terminal": false,
           "renting": 1,
           "returning": 1,
           "uid": "7497"
          },
          "free_bikes": 0,
          "id": "53fc6d540a0eac8fb9f5366572e53515",
          "latitude": 43.654004,
          "longitude": -79.444792,
          "name": "128 Sterling Ave - SMART",
          "timestamp": "2022-11-08T08:49:30.164000Z"
         },
         {
          "empty_slots": 8,
          "extra": {
           "address": "Sunnyside Ave / The Queensway - SMART",
           "last_updated": 1667897324,
           "payment": [
            "key",
            "transitcard",
            "phone"
           ],
           "payment-terminal": false,
           "renting": 1,
           "returning": 1,
           "uid": "7496"
          },
          "free_bikes": 10,
          "id": "049156f7c0e19a53a77d8310d93eed0c",
          "latitude": 43.6397,
          "longitude": -79.44865,
          "name": "Sunnyside Ave / The Queensway - SMART",
          "timestamp": "2022-11-08T08:49:30.164000Z"
         },
         {
          "empty_slots": 0,
          "extra": {
           "address": "Sackville St / Eastern Ave - SMART",
           "last_updated": 1667897107,
           "payment": [
            "key",
            "transitcard",
            "phone"
           ],
           "payment-terminal": false,
           "renting": 1,
           "returning": 1,
           "uid": "7493"
          },
          "free_bikes": 12,
          "id": "adaa360374ea04ae057eba2ca7ba3e5b",
          "latitude": 43.653809,
          "longitude": -79.3595,
          "name": "Sackville St / Eastern Ave - SMART",
          "timestamp": "2022-11-08T08:49:30.162000Z"
         },
         {
          "empty_slots": 12,
          "extra": {
           "address": "Davenport Rd / McAlpine St - SMART",
           "last_updated": 1667897147,
           "payment": [
            "key",
            "transitcard",
            "phone"
           ],
           "payment-terminal": false,
           "renting": 1,
           "returning": 1,
           "uid": "7494"
          },
          "free_bikes": 0,
          "id": "8485289697ef258129b2437308511fcb",
          "latitude": 43.673768,
          "longitude": -79.391253,
          "name": "Davenport Rd / McAlpine St - SMART",
          "timestamp": "2022-11-08T08:49:30.165000Z"
         },
         {
          "empty_slots": 8,
          "extra": {
           "address": "D'Arcy St / Spadina Ave - SMART",
           "last_updated": 1667897311,
           "payment": [
            "key",
            "transitcard",
            "creditcard",
            "phone"
           ],
           "payment-terminal": true,
           "renting": 1,
           "returning": 1,
           "uid": "7491"
          },
          "free_bikes": 8,
          "id": "d7f2b1e9f55cea555a38270bb06eb0eb",
          "latitude": 43.654074,
          "longitude": -79.398115,
          "name": "D'Arcy St / Spadina Ave - SMART",
          "timestamp": "2022-11-08T08:49:30.163000Z"
         },
         {
          "empty_slots": 8,
          "extra": {
           "address": "Sumach St  / Queen St E",
           "last_updated": 1667897279,
           "payment": [
            "key",
            "transitcard",
            "creditcard",
            "phone"
           ],
           "payment-terminal": true,
           "renting": 1,
           "returning": 1,
           "uid": "7489"
          },
          "free_bikes": 11,
          "id": "fb0ff514e9bb7798f0a682f36f644b05",
          "latitude": 43.656638,
          "longitude": -79.358749,
          "name": "Sumach St  / Queen St E",
          "timestamp": "2022-11-08T08:49:30.400000Z"
         },
         {
          "empty_slots": 14,
          "extra": {
           "address": "Blythwood Rd / Yonge St - SMART",
           "last_updated": 1667897114,
           "payment": [
            "key",
            "transitcard",
            "phone"
           ],
           "payment-terminal": false,
           "renting": 1,
           "returning": 1,
           "uid": "7485"
          },
          "free_bikes": 2,
          "id": "4898d236bceda7c4cb9430c896669537",
          "latitude": 43.716652,
          "longitude": -79.399993,
          "name": "Blythwood Rd / Yonge St - SMART",
          "timestamp": "2022-11-08T08:49:30.395000Z"
         },
         {
          "empty_slots": 11,
          "extra": {
           "address": "Gerrard St E / Ted Reeve Dr",
           "last_updated": 1667897213,
           "payment": [
            "key",
            "transitcard",
            "creditcard",
            "phone"
           ],
           "payment-terminal": true,
           "renting": 1,
           "returning": 1,
           "uid": "7486"
          },
          "free_bikes": 9,
          "id": "c835abf1540e63c50d5a879e5075387e",
          "latitude": 43.684261,
          "longitude": -79.299332,
          "name": "Gerrard St E / Ted Reeve Dr",
          "timestamp": "2022-11-08T08:49:30.397000Z"
         },
         {
          "empty_slots": 9,
          "extra": {
           "address": "Southwood Dr / Kingston Rd - SMART",
           "last_updated": 1667897272,
           "payment": [
            "key",
            "transitcard",
            "phone"
           ],
           "payment-terminal": false,
           "renting": 1,
           "returning": 1,
           "uid": "7483"
          },
          "free_bikes": 3,
          "id": "32b476b39dacc23dda545c39ffb549cc",
          "latitude": 43.678685,
          "longitude": -79.297974,
          "name": "Southwood Dr / Kingston Rd - SMART",
          "timestamp": "2022-11-08T08:49:30.399000Z"
         },
         {
          "empty_slots": 5,
          "extra": {
           "address": "Danforth Ave / Sibley Ave - SMART",
           "last_updated": 1667897239,
           "payment": [
            "key",
            "transitcard",
            "creditcard",
            "phone"
           ],
           "payment-terminal": true,
           "renting": 1,
           "returning": 1,
           "uid": "7482"
          },
          "free_bikes": 5,
          "id": "5fb3b75034acbc733a860efd223e21e3",
          "latitude": 43.690111,
          "longitude": -79.292634,
          "name": "Danforth Ave / Sibley Ave",
          "timestamp": "2022-11-08T08:49:30.400000Z"
         },
         {
          "empty_slots": 13,
          "extra": {
           "address": "Neil McLellan Park - SMART",
           "last_updated": 1667897307,
           "payment": [
            "key",
            "transitcard",
            "creditcard",
            "phone"
           ],
           "payment-terminal": true,
           "renting": 1,
           "returning": 1,
           "uid": "7480"
          },
          "free_bikes": 1,
          "id": "de5dcf1ee9ccff065e01b4516b46f190",
          "latitude": 43.65143,
          "longitude": -79.47779,
          "name": "Neil McLellan Park",
          "timestamp": "2022-11-08T08:49:30.398000Z"
         },
         {
          "empty_slots": 3,
          "extra": {
           "address": "Jane St / Bloor St W (Jane Subway Station)",
           "last_updated": 1667897249,
           "payment": [
            "key",
            "transitcard",
            "creditcard",
            "phone"
           ],
           "payment-terminal": true,
           "renting": 1,
           "returning": 1,
           "uid": "7479"
          },
          "free_bikes": 12,
          "id": "8aa5c061e4ae37e2e05b05d04afadc2e",
          "latitude": 43.64976,
          "longitude": -79.48477,
          "name": "Jane St / Bloor St W (Jane Subway Station)",
          "timestamp": "2022-11-08T08:49:30.415000Z"
         },
         {
          "empty_slots": 20,
          "extra": {
           "address": "Antler St / Campbell Ave - SMART",
           "last_updated": 1667897335,
           "payment": [
            "key",
            "transitcard",
            "phone"
           ],
           "payment-terminal": false,
           "renting": 1,
           "returning": 1,
           "uid": "7477"
          },
          "free_bikes": 0,
          "id": "5f6ec96dda864a01fdf0c031b6a1b6d0",
          "latitude": 43.664182,
          "longitude": -79.449066,
          "name": "Antler St / Campbell Ave - SMART",
          "timestamp": "2022-11-08T08:49:30.420000Z"
         },
         {
          "empty_slots": 0,
          "extra": {
           "address": "Clarence Square",
           "last_updated": 1667897261,
           "payment": [
            "key",
            "transitcard",
            "creditcard",
            "phone"
           ],
           "payment-terminal": true,
           "renting": 1,
           "returning": 1,
           "uid": "7474"
          },
          "free_bikes": 21,
          "id": "4a5734eee8c1c49197ffe9b992dd032a",
          "latitude": 43.64407,
          "longitude": -79.3929,
          "name": "Clarence Square",
          "timestamp": "2022-11-08T08:49:30.418000Z"
         },
         {
          "empty_slots": 6,
          "extra": {
           "address": "Lake Shore Blvd W / Louisa St",
           "last_updated": 1667897246,
           "payment": [
            "key",
            "transitcard",
            "creditcard",
            "phone"
           ],
           "payment-terminal": true,
           "renting": 1,
           "returning": 1,
           "uid": "7471"
          },
          "free_bikes": 9,
          "id": "ad299c229e85bba5b84af14933cfac77",
          "latitude": 43.61868,
          "longitude": -79.48674,
          "name": "Lake Shore Blvd W / Louisa St",
          "timestamp": "2022-11-08T08:49:30.415000Z"
         },
         {
          "empty_slots": 3,
          "extra": {
           "address": "Front St / Simcoe St",
           "last_updated": 1667897340,
           "payment": [
            "key",
            "transitcard",
            "creditcard",
            "phone"
           ],
           "payment-terminal": true,
           "renting": 1,
           "returning": 1,
           "uid": "7468"
          },
          "free_bikes": 15,
          "id": "41466727730d71a0286376ef3675d282",
          "latitude": 43.6442,
          "longitude": -79.38702,
          "name": "Front St / Simcoe St",
          "timestamp": "2022-11-08T08:49:30.557000Z"
         },
         {
          "empty_slots": 10,
          "extra": {
           "address": "Lower Simcoe St / Bremner Blvd",
           "last_updated": 1667897345,
           "payment": [
            "key",
            "transitcard",
            "creditcard",
            "phone"
           ],
           "payment-terminal": true,
           "renting": 1,
           "returning": 1,
           "uid": "7467"
          },
          "free_bikes": 4,
          "id": "213541646a587196b1acb812a3d0a8ad",
          "latitude": 43.64283,
          "longitude": -79.38409,
          "name": "Lower Simcoe St / Bremner Blvd",
          "timestamp": "2022-11-08T08:49:30.562000Z"
         },
         {
          "empty_slots": 11,
          "extra": {
           "address": "Glendonwynne Ave / Bloor St W - SMART",
           "last_updated": 1667897213,
           "payment": [
            "key",
            "transitcard",
            "creditcard",
            "phone"
           ],
           "payment-terminal": true,
           "renting": 1,
           "returning": 1,
           "uid": "7466"
          },
          "free_bikes": 7,
          "id": "1a68bd75d5159c7cc33367b97ee8ab8e",
          "latitude": 43.65182,
          "longitude": -79.47421,
          "name": "Glendonwynne Ave / Bloor St W",
          "timestamp": "2022-11-08T08:49:30.563000Z"
         },
         {
          "empty_slots": 18,
          "extra": {
           "address": "Russell Hill Rd / St Clair Ave W - SMART",
           "last_updated": 1667897169,
           "payment": [
            "key",
            "transitcard",
            "creditcard",
            "phone"
           ],
           "payment-terminal": true,
           "renting": 1,
           "returning": 1,
           "uid": "7465"
          },
          "free_bikes": 1,
          "id": "1dd10befe3fa0d7d7ebc657b9a01942b",
          "latitude": 43.685569,
          "longitude": -79.408019,
          "name": "Russell Hill Rd / St Clair Ave W",
          "timestamp": "2022-11-08T08:49:30.563000Z"
         },
         {
          "empty_slots": 7,
          "extra": {
           "address": "Church St / Lombard St",
           "last_updated": 1667897178,
           "payment": [
            "key",
            "transitcard",
            "creditcard",
            "phone"
           ],
           "payment-terminal": true,
           "renting": 1,
           "returning": 1,
           "uid": "7458"
          },
          "free_bikes": 9,
          "id": "41ead9c9a4a83459161794bfb1894c07",
          "latitude": 43.651678,
          "longitude": -79.375233,
          "name": "Church St / Lombard St",
          "timestamp": "2022-11-08T08:49:30.066000Z"
         },
         {
          "empty_slots": 14,
          "extra": {
           "address": "Richmond St E / Yonge St",
           "last_updated": 1667897163,
           "payment": [
            "key",
            "transitcard",
            "creditcard",
            "phone"
           ],
           "payment-terminal": true,
           "renting": 1,
           "returning": 1,
           "uid": "7462"
          },
          "free_bikes": 3,
          "id": "888212c5d33ceed5acbab77b4e544689",
          "latitude": 43.651838,
          "longitude": -79.378743,
          "name": "Richmond St E / Yonge St",
          "timestamp": "2022-11-08T08:49:30.559000Z"
         },
         {
          "empty_slots": 18,
          "extra": {
           "address": "High Park Amphitheatre",
           "last_updated": 1667897276,
           "payment": [
            "key",
            "transitcard",
            "creditcard",
            "phone"
           ],
           "payment-terminal": true,
           "renting": 1,
           "returning": 1,
           "uid": "7461"
          },
          "free_bikes": 4,
          "id": "a0f722fb6a0db164e9f07ae1f0cad178",
          "latitude": 43.645653,
          "longitude": -79.464366,
          "name": "High Park Amphitheatre",
          "timestamp": "2022-11-08T08:49:30.560000Z"
         },
         {
          "empty_slots": 15,
          "extra": {
           "address": "Queen's Park Cres W / Hoskin Ave",
           "last_updated": 1667897192,
           "payment": [
            "key",
            "transitcard",
            "creditcard",
            "phone"
           ],
           "payment-terminal": true,
           "renting": 1,
           "returning": 1,
           "uid": "7457"
          },
          "free_bikes": 8,
          "id": "189995604737e19f1b76cd3a3ff3aff9",
          "latitude": 43.665221,
          "longitude": -79.394009,
          "name": "Queen's Park Cres W / Hoskin Ave",
          "timestamp": "2022-11-08T08:49:30.026000Z"
         },
         {
          "empty_slots": 11,
          "extra": {
           "address": "Pottery Rd / Lower Don River Trail - SMART",
           "last_updated": 1667897298,
           "payment": [
            "key",
            "transitcard",
            "creditcard",
            "phone"
           ],
           "payment-terminal": true,
           "renting": 1,
           "returning": 1,
           "uid": "7454"
          },
          "free_bikes": 2,
          "id": "fe268f3f2f439d0016dc46605491078e",
          "latitude": 43.688148,
          "longitude": -79.362101,
          "name": "Pottery Rd / Lower Don River Trail",
          "timestamp": "2022-11-08T08:49:30.029000Z"
         },
         {
          "empty_slots": 14,
          "extra": {
           "address": "Bleecker St / St James Ave",
           "last_updated": 1667897349,
           "payment": [
            "key",
            "transitcard",
            "creditcard",
            "phone"
           ],
           "payment-terminal": true,
           "renting": 1,
           "returning": 1,
           "uid": "7452"
          },
          "free_bikes": 9,
          "id": "70ad303e74f93aa2bfaea256b9b09753",
          "latitude": 43.669232,
          "longitude": -79.374495,
          "name": "Bleecker St / St James Ave",
          "timestamp": "2022-11-08T08:49:30.031000Z"
         },
         {
          "empty_slots": 7,
          "extra": {
           "address": "Western Battery Rd / Pirandello St",
           "last_updated": 1667897123,
           "payment": [
            "key",
            "transitcard",
            "creditcard",
            "phone"
           ],
           "payment-terminal": true,
           "renting": 1,
           "returning": 1,
           "uid": "7451"
          },
          "free_bikes": 23,
          "id": "a7cdbedefded6e117505bde22c24ef84",
          "latitude": 43.640075,
          "longitude": -79.414156,
          "name": "Western Battery Rd / Pirandello St",
          "timestamp": "2022-11-08T08:49:30.060000Z"
         },
         {
          "empty_slots": 14,
          "extra": {
           "address": "Carlaw Ave / Danforth Ave - SMART",
           "last_updated": 1667897102,
           "payment": [
            "key",
            "transitcard",
            "creditcard",
            "phone"
           ],
           "payment-terminal": true,
           "renting": 1,
           "returning": 1,
           "uid": "7450"
          },
          "free_bikes": 1,
          "id": "fbcb8f44813b5f7eba282691176d9249",
          "latitude": 43.678285,
          "longitude": -79.347346,
          "name": "Carlaw Ave / Danforth Ave",
          "timestamp": "2022-11-08T08:49:30.037000Z"
         },
         {
          "empty_slots": 10,
          "extra": {
           "address": "Cosburn Ave / Cedarvale Ave",
           "last_updated": 1667897180,
           "payment": [
            "key",
            "transitcard",
            "creditcard",
            "phone"
           ],
           "payment-terminal": true,
           "renting": 1,
           "returning": 1,
           "uid": "7449"
          },
          "free_bikes": 5,
          "id": "280ce4cfc4b101f3a8a08843e4a258d6",
          "latitude": 43.697139,
          "longitude": -79.31469,
          "name": "Cosburn Ave / Cedarvale Ave",
          "timestamp": "2022-11-08T08:49:30.288000Z"
         },
         {
          "empty_slots": 10,
          "extra": {
           "address": "Goodwood Park Ct / Dentonia Park",
           "last_updated": 1667897120,
           "payment": [
            "key",
            "transitcard",
            "creditcard",
            "phone"
           ],
           "payment-terminal": true,
           "renting": 1,
           "returning": 1,
           "uid": "7448"
          },
          "free_bikes": 9,
          "id": "9d4f1f5d63ed3e297fc737908616f617",
          "latitude": 43.694826,
          "longitude": -79.295208,
          "name": "Goodwood Park Ct / Dentonia Park",
          "timestamp": "2022-11-08T08:49:30.289000Z"
         },
         {
          "empty_slots": 2,
          "extra": {
           "address": "Eastwood Rd / Coxwell Ave",
           "last_updated": 1667897188,
           "payment": [
            "key",
            "transitcard",
            "creditcard",
            "phone"
           ],
           "payment-terminal": true,
           "renting": 1,
           "returning": 1,
           "uid": "7445"
          },
          "free_bikes": 17,
          "id": "0729b25bcf663b7a2278f01d63b50fcf",
          "latitude": 43.673118,
          "longitude": -79.318651,
          "name": "Eastwood Rd / Coxwell Ave",
          "timestamp": "2022-11-08T08:49:30.281000Z"
         },
         {
          "empty_slots": 20,
          "extra": {
           "address": "Trent Ave / Danforth Ave - SMART",
           "last_updated": 1667897299,
           "payment": [
            "key",
            "transitcard",
            "creditcard",
            "phone"
           ],
           "payment-terminal": true,
           "renting": 1,
           "returning": 1,
           "uid": "7447"
          },
          "free_bikes": 2,
          "id": "27e30ff4939a3992db39e99af9dfe172",
          "latitude": 43.689293,
          "longitude": -79.295895,
          "name": "Trent Ave / Danforth Ave",
          "timestamp": "2022-11-08T08:49:30.287000Z"
         },
         {
          "empty_slots": 3,
          "extra": {
           "address": "Orchard Park",
           "last_updated": 1667897203,
           "payment": [
            "key",
            "transitcard",
            "creditcard",
            "phone"
           ],
           "payment-terminal": true,
           "renting": 1,
           "returning": 1,
           "uid": "7446"
          },
          "free_bikes": 16,
          "id": "675628c054189e3bce23785d6574a24d",
          "latitude": 43.66908,
          "longitude": -79.3149,
          "name": "Orchard Park",
          "timestamp": "2022-11-08T08:49:30.287000Z"
         },
         {
          "empty_slots": 16,
          "extra": {
           "address": "Clendenan Ave / Rowland St - SMART",
           "last_updated": 1667897315,
           "payment": [
            "key",
            "transitcard",
            "phone"
           ],
           "payment-terminal": false,
           "renting": 1,
           "returning": 1,
           "uid": "7444"
          },
          "free_bikes": 4,
          "id": "32915794131e41a355ebee1ab9ad78fb",
          "latitude": 43.66073,
          "longitude": -79.47149,
          "name": "Clendenan Ave / Rowland St - SMART",
          "timestamp": "2022-11-08T08:49:30.286000Z"
         },
         {
          "empty_slots": 20,
          "extra": {
           "address": "Martin Goodman Trail / Ontario Dr",
           "last_updated": 1667897123,
           "payment": [
            "key",
            "transitcard",
            "creditcard",
            "phone"
           ],
           "payment-terminal": true,
           "renting": 1,
           "returning": 1,
           "uid": "7440"
          },
          "free_bikes": 3,
          "id": "2af03519040730b7df9ecaea677a1bdb",
          "latitude": 43.63121,
          "longitude": -79.41414,
          "name": "Martin Goodman Trail / Ontario Dr",
          "timestamp": "2022-11-08T08:49:30.278000Z"
         },
         {
          "empty_slots": 5,
          "extra": {
           "address": "Concord Ave / Bloor St W - SMART",
           "last_updated": 1667897298,
           "payment": [
            "key",
            "transitcard",
            "creditcard",
            "phone"
           ],
           "payment-terminal": true,
           "renting": 1,
           "returning": 1,
           "uid": "7437"
          },
          "free_bikes": 10,
          "id": "738cf12a45b36f443d7585aa9d55e3a9",
          "latitude": 43.66189,
          "longitude": -79.42679,
          "name": "Concord Ave / Bloor St W",
          "timestamp": "2022-11-08T08:49:30.348000Z"
         },
         {
          "empty_slots": 13,
          "extra": {
           "address": "High Park Subway - SMART",
           "last_updated": 1667897204,
           "payment": [
            "key",
            "transitcard",
            "creditcard",
            "phone"
           ],
           "payment-terminal": true,
           "renting": 1,
           "returning": 1,
           "uid": "7438"
          },
          "free_bikes": 1,
          "id": "1f5bb4fff3139fff3f927f1a4980dc1e",
          "latitude": 43.65389,
          "longitude": -79.4675,
          "name": "High Park Subway",
          "timestamp": "2022-11-08T08:49:30.357000Z"
         },
         {
          "empty_slots": 16,
          "extra": {
           "address": "Via Italia / Mackay Ave - SMART",
           "last_updated": 1667897268,
           "payment": [
            "key",
            "transitcard",
            "creditcard",
            "phone"
           ],
           "payment-terminal": true,
           "renting": 1,
           "returning": 1,
           "uid": "7434"
          },
          "free_bikes": 0,
          "id": "80b72e233168f3583180edfe5ec6fd01",
          "latitude": 43.676697,
          "longitude": -79.445029,
          "name": "Via Italia / Mackay Ave",
          "timestamp": "2022-11-08T08:49:30.346000Z"
         },
         {
          "empty_slots": 10,
          "extra": {
           "address": "Rushton Rd / St Clair Ave W - SMART",
           "last_updated": 1667897201,
           "payment": [
            "key",
            "transitcard",
            "creditcard",
            "phone"
           ],
           "payment-terminal": true,
           "renting": 1,
           "returning": 1,
           "uid": "7435"
          },
          "free_bikes": 0,
          "id": "3df6faa6bc73f93a672aa3e3004434f0",
          "latitude": 43.68114,
          "longitude": -79.4277,
          "name": "Rushton Rd / St Clair Ave W",
          "timestamp": "2022-11-08T08:49:30.347000Z"
         },
         {
          "empty_slots": 0,
          "extra": {
           "address": "Dundas St E / Boulton Ave - SMART",
           "last_updated": 1667897216,
           "payment": [
            "key",
            "transitcard",
            "phone"
           ],
           "payment-terminal": false,
           "renting": 1,
           "returning": 1,
           "uid": "7433"
          },
          "free_bikes": 14,
          "id": "8ab6f991fa3032ee2a20b1d34d50be01",
          "latitude": 43.663148,
          "longitude": -79.347938,
          "name": "Dundas St E / Boulton Ave - SMART",
          "timestamp": "2022-11-08T08:49:30.351000Z"
         },
         {
          "empty_slots": 7,
          "extra": {
           "address": "Gerrard St E / Leslie St",
           "last_updated": 1667897253,
           "payment": [
            "key",
            "transitcard",
            "creditcard",
            "phone"
           ],
           "payment-terminal": true,
           "renting": 1,
           "returning": 1,
           "uid": "7431"
          },
          "free_bikes": 16,
          "id": "236729e04a979069b035a3070e608f6e",
          "latitude": 43.669813,
          "longitude": -79.3335,
          "name": "Gerrard St E / Leslie St",
          "timestamp": "2022-11-08T08:49:30.349000Z"
         },
         {
          "empty_slots": 4,
          "extra": {
           "address": "Marilyn Bell Park Tennis Court",
           "last_updated": 1667896508,
           "payment": [
            "key",
            "transitcard",
            "creditcard",
            "phone"
           ],
           "payment-terminal": true,
           "renting": 1,
           "returning": 1,
           "uid": "7430"
          },
          "free_bikes": 22,
          "id": "2800c972b83e435cecefcdb95078e435",
          "latitude": 43.633537,
          "longitude": -79.437461,
          "name": "Marilyn Bell Park Tennis Court",
          "timestamp": "2022-11-08T08:49:30.348000Z"
         },
         {
          "empty_slots": 13,
          "extra": {
           "address": "Northern Dancer Blvd / Lake Shore Blvd E",
           "last_updated": 1667897228,
           "payment": [
            "key",
            "transitcard",
            "creditcard",
            "phone"
           ],
           "payment-terminal": true,
           "renting": 1,
           "returning": 1,
           "uid": "7427"
          },
          "free_bikes": 12,
          "id": "be39936af5ab6b60d98a2d6756387909",
          "latitude": 43.663162,
          "longitude": -79.309765,
          "name": "Northern Dancer Blvd / Lake Shore Blvd E",
          "timestamp": "2022-11-08T08:49:30.495000Z"
         },
         {
          "empty_slots": 16,
          "extra": {
           "address": "The Queensway at South Kingsway - SMART",
           "last_updated": 1667897127,
           "payment": [
            "key",
            "transitcard",
            "creditcard",
            "phone"
           ],
           "payment-terminal": true,
           "renting": 1,
           "returning": 1,
           "uid": "7425"
          },
          "free_bikes": 6,
          "id": "2c32c6a2dbfb666ee51150ce15e1b9a5",
          "latitude": 43.63632,
          "longitude": -79.47307,
          "name": "The Queensway at South Kingsway",
          "timestamp": "2022-11-08T08:49:30.496000Z"
         },
         {
          "empty_slots": 20,
          "extra": {
           "address": "Merton St / Mount Pleasant Rd - SMART",
           "last_updated": 1667897338,
           "payment": [
            "key",
            "transitcard",
            "creditcard",
            "phone"
           ],
           "payment-terminal": true,
           "renting": 1,
           "returning": 1,
           "uid": "7424"
          },
          "free_bikes": 1,
          "id": "9fa8f250a5b887af9cda8df6931f2eca",
          "latitude": 43.697819,
          "longitude": -79.38786,
          "name": "Merton St / Mount Pleasant Rd",
          "timestamp": "2022-11-08T08:49:30.497000Z"
         },
         {
          "empty_slots": 1,
          "extra": {
           "address": "Tyndall Ave / King St W - SMART",
           "last_updated": 1667897229,
           "payment": [
            "key",
            "transitcard",
            "phone"
           ],
           "payment-terminal": false,
           "renting": 1,
           "returning": 1,
           "uid": "7422"
          },
          "free_bikes": 14,
          "id": "c9395d274aa197587eb89f34e68e262a",
          "latitude": 43.638426,
          "longitude": -79.429142,
          "name": "Tyndall Ave / King St W - SMART",
          "timestamp": "2022-11-08T08:49:30.498000Z"
         },
         {
          "empty_slots": 16,
          "extra": {
           "address": "College Park - Yonge Entrance",
           "last_updated": 1667897155,
           "payment": [
            "key",
            "transitcard",
            "creditcard",
            "phone"
           ],
           "payment-terminal": true,
           "renting": 1,
           "returning": 1,
           "uid": "7418"
          },
          "free_bikes": 6,
          "id": "a3eb9012fe995bffeef3b7d02cfffbd1",
          "latitude": 43.65988,
          "longitude": -79.38279,
          "name": "College Park - Yonge St Entrance",
          "timestamp": "2022-11-08T08:49:29.909000Z"
         },
         {
          "empty_slots": 17,
          "extra": {
           "address": "Bloor St W / Huron St",
           "last_updated": 1667897117,
           "payment": [
            "key",
            "transitcard",
            "creditcard",
            "phone"
           ],
           "payment-terminal": true,
           "renting": 1,
           "returning": 1,
           "uid": "7419"
          },
          "free_bikes": 9,
          "id": "39f55e6a94e610893f32c72f4601cdef",
          "latitude": 43.667023,
          "longitude": -79.401805,
          "name": "Bloor St W / Huron St",
          "timestamp": "2022-11-08T08:49:29.910000Z"
         },
         {
          "empty_slots": 19,
          "extra": {
           "address": "Barton St / Howland St - SMART",
           "last_updated": 1667897194,
           "payment": [
            "key",
            "transitcard",
            "phone"
           ],
           "payment-terminal": false,
           "renting": 1,
           "returning": 1,
           "uid": "7420"
          },
          "free_bikes": 1,
          "id": "7c6f64117f740f5dc9114ebfb26a6247",
          "latitude": 43.66842,
          "longitude": -79.410585,
          "name": "Barton St / Howland St - SMART",
          "timestamp": "2022-11-08T08:49:30.499000Z"
         },
         {
          "empty_slots": 0,
          "extra": {
           "address": "Keele St / Annette St - SMART",
           "last_updated": 1667897207,
           "payment": [
            "key",
            "transitcard",
            "creditcard",
            "phone"
           ],
           "payment-terminal": true,
           "renting": 1,
           "returning": 1,
           "uid": "7414"
          },
          "free_bikes": 12,
          "id": "d1bac3c8125c67909fa2e4a3cdf6b409",
          "latitude": 43.66402,
          "longitude": -79.46418,
          "name": "Keele St / Annette St",
          "timestamp": "2022-11-08T08:49:29.906000Z"
         },
         {
          "empty_slots": 10,
          "extra": {
           "address": "Keele St / Vine Ave - SMART",
           "last_updated": 1667897120,
           "payment": [
            "key",
            "transitcard",
            "creditcard",
            "phone"
           ],
           "payment-terminal": true,
           "renting": 1,
           "returning": 1,
           "uid": "7415"
          },
          "free_bikes": 10,
          "id": "e7384509a60160b8e84403a3247255a5",
          "latitude": 43.66686,
          "longitude": -79.46526,
          "name": "Keele St / Vine Ave",
          "timestamp": "2022-11-08T08:49:29.907000Z"
         },
         {
          "empty_slots": 13,
          "extra": {
           "address": "Howard St / Ontario St",
           "last_updated": 1667897320,
           "payment": [
            "key",
            "transitcard",
            "creditcard",
            "phone"
           ],
           "payment-terminal": true,
           "renting": 1,
           "returning": 1,
           "uid": "7410"
          },
          "free_bikes": 6,
          "id": "56ff366ef56862dc34e4df414568d4b0",
          "latitude": 43.671278,
          "longitude": -79.372127,
          "name": "Howard St / Rose Ave",
          "timestamp": "2022-11-08T08:49:29.890000Z"
         },
         {
          "empty_slots": 5,
          "extra": {
           "address": "Little Norway Park",
           "last_updated": 1667897115,
           "payment": [
            "key",
            "transitcard",
            "creditcard",
            "phone"
           ],
           "payment-terminal": true,
           "renting": 1,
           "returning": 1,
           "uid": "7411"
          },
          "free_bikes": 17,
          "id": "940aa4a33247df5ea989d1b07e125e5d",
          "latitude": 43.635023,
          "longitude": -79.399505,
          "name": "Little Norway Park",
          "timestamp": "2022-11-08T08:49:29.891000Z"
         },
         {
          "empty_slots": 17,
          "extra": {
           "address": "Isabella St / Church St - SMART",
           "last_updated": 1667897185,
           "payment": [
            "key",
            "transitcard",
            "creditcard",
            "phone"
           ],
           "payment-terminal": true,
           "renting": 1,
           "returning": 1,
           "uid": "7409"
          },
          "free_bikes": 2,
          "id": "26edc0f88e4e012ab0d9930c725d5fba",
          "latitude": 43.66834,
          "longitude": -79.38235,
          "name": "Isabella St / Church St",
          "timestamp": "2022-11-08T08:49:30.181000Z"
         },
         {
          "empty_slots": 13,
          "extra": {
           "address": "University Ave / Armoury St - SMART",
           "last_updated": 1667897259,
           "payment": [
            "key",
            "transitcard",
            "creditcard",
            "phone"
           ],
           "payment-terminal": true,
           "renting": 1,
           "returning": 1,
           "uid": "7408"
          },
          "free_bikes": 10,
          "id": "21cff63a550f456e30a23efb4d8c3caf",
          "latitude": 43.65263,
          "longitude": -79.38766,
          "name": "University Ave / Armoury St",
          "timestamp": "2022-11-08T08:49:30.182000Z"
         },
         {
          "empty_slots": 2,
          "extra": {
           "address": "University Ave / Queen St W",
           "last_updated": 1667897271,
           "payment": [
            "key",
            "transitcard",
            "creditcard",
            "phone"
           ],
           "payment-terminal": true,
           "renting": 1,
           "returning": 1,
           "uid": "7407"
          },
          "free_bikes": 21,
          "id": "4da717e91ae88ead7210d9996b3bb2c7",
          "latitude": 43.65158,
          "longitude": -79.38655,
          "name": "University Ave / Queen St W",
          "timestamp": "2022-11-08T08:49:30.183000Z"
         },
         {
          "empty_slots": 14,
          "extra": {
           "address": "Lascelles Blvd / Eglinton Ave W - SMART",
           "last_updated": 1667897280,
           "payment": [
            "key",
            "transitcard",
            "creditcard",
            "phone"
           ],
           "payment-terminal": true,
           "renting": 1,
           "returning": 1,
           "uid": "7403"
          },
          "free_bikes": 5,
          "id": "ef9dfe14fccf2237630ed9002c48fc3b",
          "latitude": 43.70547,
          "longitude": -79.40355,
          "name": "Lascelles Blvd / Eglinton Ave W",
          "timestamp": "2022-11-08T08:49:30.186000Z"
         },
         {
          "empty_slots": 12,
          "extra": {
           "address": "Polson Pier",
           "last_updated": 1667897131,
           "payment": [
            "key",
            "transitcard",
            "creditcard",
            "phone"
           ],
           "payment-terminal": true,
           "renting": 1,
           "returning": 1,
           "uid": "7400"
          },
          "free_bikes": 9,
          "id": "93727b82ed700768aa9695d49140f6b3",
          "latitude": 43.641675,
          "longitude": -79.354006,
          "name": "Polson Pier",
          "timestamp": "2022-11-08T08:49:30.185000Z"
         },
         {
          "empty_slots": 21,
          "extra": {
           "address": "Dentonia Park Station",
           "last_updated": 1667897177,
           "payment": [
            "key",
            "transitcard",
            "creditcard",
            "phone"
           ],
           "payment-terminal": true,
           "renting": 1,
           "returning": 1,
           "uid": "7395"
          },
          "free_bikes": 2,
          "id": "f84773b4dcedcaea20de2c7e324d8c90",
          "latitude": 43.694341,
          "longitude": -79.291416,
          "name": "Dentonia Park",
          "timestamp": "2022-11-08T08:49:30.268000Z"
         },
         {
          "empty_slots": 7,
          "extra": {
           "address": "Lower Jarvis / Queens Quay E",
           "last_updated": 1667897250,
           "payment": [
            "key",
            "transitcard",
            "creditcard",
            "phone"
           ],
           "payment-terminal": true,
           "renting": 1,
           "returning": 1,
           "uid": "7399"
          },
          "free_bikes": 8,
          "id": "3d13e32b7336dbe2c6b2190df3ba8600",
          "latitude": 43.64422,
          "longitude": -79.36927,
          "name": "Lower Jarvis / Queens Quay E",
          "timestamp": "2022-11-08T08:49:30.276000Z"
         },
         {
          "empty_slots": 9,
          "extra": {
           "address": "Summerhill Ave / Maclennan Ave",
           "last_updated": 1667897132,
           "payment": [
            "key",
            "transitcard",
            "creditcard",
            "phone"
           ],
           "payment-terminal": true,
           "renting": 1,
           "returning": 1,
           "uid": "7488"
          },
          "free_bikes": 1,
          "id": "009f180cf35ae1285733d98ccf058313",
          "latitude": 43.685924,
          "longitude": -79.376304,
          "name": "Summerhill Ave / Maclennan Ave",
          "timestamp": "2022-11-08T08:49:30.401000Z"
         },
         {
          "empty_slots": 8,
          "extra": {
           "address": "Queens Quay E / Lower Sherbourne",
           "last_updated": 1667897254,
           "payment": [
            "key",
            "transitcard",
            "creditcard",
            "phone"
           ],
           "payment-terminal": true,
           "renting": 1,
           "returning": 1,
           "uid": "7261"
          },
          "free_bikes": 19,
          "id": "c452eea1e95d474e6f1b7ea545e79d1b",
          "latitude": 43.645215,
          "longitude": -79.364898,
          "name": "Queens Quay E / Lower Sherbourne St",
          "timestamp": "2022-11-08T08:49:29.885000Z"
         },
         {
          "empty_slots": 1,
          "extra": {
           "address": "Adelaide St W / Brant St",
           "last_updated": 1667897342,
           "payment": [
            "key",
            "transitcard",
            "creditcard",
            "phone"
           ],
           "payment-terminal": true,
           "renting": 1,
           "returning": 1,
           "uid": "7463"
          },
          "free_bikes": 14,
          "id": "8c96996511ad97fdaeab1767f89c2252",
          "latitude": 43.6462574,
          "longitude": -79.3973381,
          "name": "Adelaide St W / Brant St",
          "timestamp": "2022-11-08T08:49:30.558000Z"
         },
         {
          "empty_slots": 0,
          "extra": {
           "address": "Wright Ave / Sorauren St (Sorauren Park)",
           "last_updated": 1667897118,
           "payment": [
            "key",
            "transitcard",
            "phone"
           ],
           "payment-terminal": false,
           "renting": 1,
           "returning": 1,
           "uid": "7231"
          },
          "free_bikes": 17,
          "id": "1fe6812cc638f0e5080113daa9a7d77a",
          "latitude": 43.646677,
          "longitude": -79.442741,
          "name": "Wright / Sorauren (Sorauren Park) - SMART",
          "timestamp": "2022-11-08T08:49:30.545000Z"
         },
         {
          "empty_slots": 0,
          "extra": {
           "address": "Ellis Ave / The Queensway",
           "last_updated": 1667897157,
           "payment": [
            "key",
            "transitcard",
            "creditcard",
            "phone"
           ],
           "payment-terminal": true,
           "renting": 1,
           "returning": 1,
           "uid": "7478"
          },
          "free_bikes": 18,
          "id": "b4462a2daef20c76a3ff7c53326f10e4",
          "latitude": 43.63855,
          "longitude": -79.46693,
          "name": "Ellis Ave / The Queensway",
          "timestamp": "2022-11-08T08:49:30.414000Z"
         },
         {
          "empty_slots": 6,
          "extra": {
           "address": "High Park - Grenadier Cafe",
           "last_updated": 1667897163,
           "payment": [
            "key",
            "transitcard",
            "creditcard",
            "phone"
           ],
           "payment-terminal": true,
           "renting": 1,
           "returning": 1,
           "uid": "7084"
          },
          "free_bikes": 3,
          "id": "1e83030210b6666f3fe29bade92f1181",
          "latitude": 43.645599,
          "longitude": -79.4657123,
          "name": "High Park - Grenadier Cafe",
          "timestamp": "2022-11-08T08:49:30.523000Z"
         },
         {
          "empty_slots": 8,
          "extra": {
           "address": "Winona Dr / Davenport Rd",
           "last_updated": 1667897266,
           "payment": [
            "key",
            "transitcard",
            "creditcard",
            "phone"
           ],
           "payment-terminal": true,
           "renting": 1,
           "returning": 1,
           "uid": "7302"
          },
          "free_bikes": 2,
          "id": "c102428e69ec84dd803fd2f51b8cfc83",
          "latitude": 43.674923,
          "longitude": -79.430465,
          "name": "Winona Dr / Davenport Rd",
          "timestamp": "2022-11-08T08:49:29.765000Z"
         },
         {
          "empty_slots": 11,
          "extra": {
           "address": "Danforth Ave / Aldridge Ave",
           "last_updated": 1667897278,
           "payment": [
            "key",
            "transitcard",
            "creditcard",
            "phone"
           ],
           "payment-terminal": true,
           "renting": 1,
           "returning": 1,
           "uid": "7087"
          },
          "free_bikes": 0,
          "id": "68185cf4a510f34c7dd396bb2fb7549a",
          "latitude": 43.684758,
          "longitude": -79.316767,
          "name": "Danforth Ave / Aldridge Ave",
          "timestamp": "2022-11-08T08:49:30.524000Z"
         },
         {
          "empty_slots": 31,
          "extra": {
           "address": "Dundonald St / Church St",
           "last_updated": 1667897264,
           "payment": [
            "key",
            "transitcard",
            "creditcard",
            "phone"
           ],
           "payment-terminal": true,
           "renting": 1,
           "returning": 1,
           "uid": "7024"
          },
          "free_bikes": 4,
          "id": "deb6cce4318ac072f72c4988efd9dbdf",
          "latitude": 43.66663,
          "longitude": -79.38148,
          "name": "Dundonald St / Church St",
          "timestamp": "2022-11-08T08:49:30.368000Z"
         },
         {
          "empty_slots": 11,
          "extra": {
           "address": "Gerrard St E / Malvern Ave - SMART",
           "last_updated": 1667897332,
           "payment": [
            "key",
            "transitcard",
            "phone"
           ],
           "payment-terminal": false,
           "renting": 1,
           "returning": 1,
           "uid": "7503"
          },
          "free_bikes": 8,
          "id": "7f15a95a0104437a73d574be76cb4158",
          "latitude": 43.685221,
          "longitude": -79.294766,
          "name": "Gerrard St E / Malvern Ave - SMART",
          "timestamp": "2022-11-08T08:49:30.436000Z"
         },
         {
          "empty_slots": 2,
          "extra": {
           "address": "Bathurst St/Queens Quay(Billy Bishop Airport)",
           "last_updated": 1667897319,
           "payment": [
            "key",
            "transitcard",
            "creditcard",
            "phone"
           ],
           "payment-terminal": true,
           "renting": 1,
           "returning": 1,
           "uid": "7203"
          },
          "free_bikes": 31,
          "id": "263344f0b04caa421826eceaadd15697",
          "latitude": 43.635492,
          "longitude": -79.398253,
          "name": "Bathurst St/Queens Quay(Billy Bishop Airport)",
          "timestamp": "2022-11-08T08:49:30.408000Z"
         },
         {
          "empty_slots": 1,
          "extra": {
           "address": "Queens Quay W / Lower Simcoe St",
           "last_updated": 1667897236,
           "payment": [
            "key",
            "transitcard",
            "creditcard",
            "phone"
           ],
           "payment-terminal": true,
           "renting": 1,
           "returning": 1,
           "uid": "7043"
          },
          "free_bikes": 15,
          "id": "624be8411d63932754479f0b710eaa97",
          "latitude": 43.63951,
          "longitude": -79.383717,
          "name": "Queens Quay W / Lower Simcoe St",
          "timestamp": "2022-11-08T08:49:29.991000Z"
         },
         {
          "empty_slots": 6,
          "extra": {
           "address": "Bremner Blvd / Rees St",
           "last_updated": 1667897344,
           "payment": [
            "key",
            "transitcard",
            "creditcard",
            "phone"
           ],
           "payment-terminal": true,
           "renting": 1,
           "returning": 1,
           "uid": "7018"
          },
          "free_bikes": 16,
          "id": "082fdb9cce172f916dde26cc3a543b69",
          "latitude": 43.641529,
          "longitude": -79.386741,
          "name": "Bremner Blvd / Rees St",
          "timestamp": "2022-11-08T08:49:30.505000Z"
         },
         {
          "empty_slots": 4,
          "extra": {
           "address": "King St W / Crawford St - SMART",
           "last_updated": 1667897187,
           "payment": [
            "key",
            "transitcard",
            "creditcard",
            "phone"
           ],
           "payment-terminal": true,
           "renting": 1,
           "returning": 1,
           "uid": "7412"
          },
          "free_bikes": 19,
          "id": "26c9984a5ec1ea1e7edb7fafa8d1e6f7",
          "latitude": 43.6417852,
          "longitude": -79.4131148,
          "name": "King St W / Crawford St",
          "timestamp": "2022-11-08T08:49:29.888000Z"
         },
         {
          "empty_slots": 21,
          "extra": {
           "address": "Yonge St / Dundas Sq",
           "last_updated": 1667897354,
           "payment": [
            "key",
            "transitcard",
            "creditcard",
            "phone"
           ],
           "payment-terminal": true,
           "renting": 1,
           "returning": 1,
           "uid": "7391"
          },
          "free_bikes": 6,
          "id": "d52672d5cddbb77befa3d5d448fc2534",
          "latitude": 43.655766,
          "longitude": -79.3802,
          "name": "Yonge St / Dundas Sq",
          "timestamp": "2022-11-08T08:49:30.270000Z"
         },
         {
          "empty_slots": 9,
          "extra": {
           "address": "St Clair Ave W / Winona Ave - SMART",
           "last_updated": 1667897319,
           "payment": [
            "key",
            "transitcard",
            "creditcard",
            "phone"
           ],
           "payment-terminal": true,
           "renting": 1,
           "returning": 1,
           "uid": "7459"
          },
          "free_bikes": 2,
          "id": "735f71a11ab473f25860d7366582a5fa",
          "latitude": 43.680466,
          "longitude": -79.432522,
          "name": "St Clair Ave W / Winona Ave",
          "timestamp": "2022-11-08T08:49:30.377000Z"
         },
         {
          "empty_slots": 9,
          "extra": {
           "address": "Dundas St W / Watkinson Ave - SMART",
           "last_updated": 1667897180,
           "payment": [
            "key",
            "transitcard",
            "creditcard",
            "phone"
           ],
           "payment-terminal": true,
           "renting": 1,
           "returning": 1,
           "uid": "7413"
          },
          "free_bikes": 6,
          "id": "9d95195d0d36cbd64813d7b434889393",
          "latitude": 43.66478,
          "longitude": -79.45991,
          "name": "Dundas St W / Watkinson Ave",
          "timestamp": "2022-11-08T08:49:29.889000Z"
         },
         {
          "empty_slots": 28,
          "extra": {
           "address": "Bay St / Wellesley St W",
           "last_updated": 1667897267,
           "payment": [
            "key",
            "transitcard",
            "creditcard",
            "phone"
           ],
           "payment-terminal": true,
           "renting": 1,
           "returning": 1,
           "uid": "7030"
          },
          "free_bikes": 21,
          "id": "6f5d2f1ea5a0702ceb169480117ac9fd",
          "latitude": 43.664088,
          "longitude": -79.387095,
          "name": "Bay St / Wellesley St W",
          "timestamp": "2022-11-08T08:49:30.113000Z"
         },
         {
          "empty_slots": 13,
          "extra": {
           "address": "Humberside Grounds - SMART",
           "last_updated": 1667897164,
           "payment": [
            "key",
            "transitcard",
            "phone"
           ],
           "payment-terminal": false,
           "renting": 1,
           "returning": 1,
           "uid": "7501"
          },
          "free_bikes": 7,
          "id": "9c5267129912b44d3d8c91094256f1e2",
          "latitude": 43.65917,
          "longitude": -79.46997,
          "name": "Humberside Grounds - SMART",
          "timestamp": "2022-11-08T08:49:30.434000Z"
         },
         {
          "empty_slots": 10,
          "extra": {
           "address": "Bloor St E / Huntley St",
           "last_updated": 1667897289,
           "payment": [
            "key",
            "transitcard",
            "phone"
           ],
           "payment-terminal": false,
           "renting": 1,
           "returning": 1,
           "uid": "7264"
          },
          "free_bikes": 6,
          "id": "22cedcbf1b4580a7995f4e15843bd2ef",
          "latitude": 43.671535,
          "longitude": -79.379173,
          "name": "Bloor St E / Huntley St - SMART",
          "timestamp": "2022-11-08T08:49:29.864000Z"
         },
         {
          "empty_slots": 20,
          "extra": {
           "address": "Wellington St W / York St",
           "last_updated": 1667897160,
           "payment": [
            "key",
            "transitcard",
            "creditcard",
            "phone"
           ],
           "payment-terminal": true,
           "renting": 1,
           "returning": 1,
           "uid": "7469"
          },
          "free_bikes": 1,
          "id": "ed02403ba3e67b969a9d5e10742b7d5b",
          "latitude": 43.646734,
          "longitude": -79.38301,
          "name": "Wellington St W / York St",
          "timestamp": "2022-11-08T08:49:30.556000Z"
         },
         {
          "empty_slots": 11,
          "extra": {
           "address": "Dalton Rd / Bloor St W",
           "last_updated": 1667897348,
           "payment": [
            "key",
            "transitcard",
            "creditcard",
            "phone"
           ],
           "payment-terminal": true,
           "renting": 1,
           "returning": 1,
           "uid": "7061"
          },
          "free_bikes": 2,
          "id": "aeeb1fa2ea65f1492a523f0477de71d7",
          "latitude": 43.6662942,
          "longitude": -79.4066433,
          "name": "Dalton Rd / Bloor St W",
          "timestamp": "2022-11-08T08:49:30.225000Z"
         },
         {
          "empty_slots": 30,
          "extra": {
           "address": "Davenport Rd / Christie St",
           "last_updated": 1667897280,
           "payment": [
            "key",
            "transitcard",
            "creditcard",
            "phone"
           ],
           "payment-terminal": true,
           "renting": 1,
           "returning": 1,
           "uid": "7138"
          },
          "free_bikes": 0,
          "id": "a249bee44425dc2b5c2f384a00a59f33",
          "latitude": 43.675278,
          "longitude": -79.423889,
          "name": "Davenport Rd / Christie St",
          "timestamp": "2022-11-08T08:49:30.114000Z"
         },
         {
          "empty_slots": 9,
          "extra": {
           "address": "King St / Jordan St - SMART",
           "last_updated": 1667897313,
           "payment": [
            "key",
            "transitcard",
            "creditcard",
            "phone"
           ],
           "payment-terminal": true,
           "renting": 1,
           "returning": 1,
           "uid": "7417"
          },
          "free_bikes": 0,
          "id": "24de23035684fccb1f588c7161489075",
          "latitude": 43.648928,
          "longitude": -79.378623,
          "name": "King St W / Jordan St",
          "timestamp": "2022-11-08T08:49:29.905000Z"
         },
         {
          "empty_slots": 0,
          "extra": {
           "address": "George St / King St E",
           "last_updated": 1667897216,
           "payment": [
            "key",
            "transitcard",
            "creditcard",
            "phone"
           ],
           "payment-terminal": true,
           "renting": 1,
           "returning": 1,
           "uid": "7373"
          },
          "free_bikes": 15,
          "id": "f622ddb7efda3e9074e12ac16bc7fdd7",
          "latitude": 43.6509552,
          "longitude": -79.3707,
          "name": "George St / King St E",
          "timestamp": "2022-11-08T08:49:30.489000Z"
         },
         {
          "empty_slots": 24,
          "extra": {
           "address": "E.T. Seton Park (Eglinton Ave E / Leslie St)",
           "last_updated": 1667897269,
           "payment": [
            "key",
            "transitcard",
            "creditcard",
            "phone"
           ],
           "payment-terminal": true,
           "renting": 1,
           "returning": 1,
           "uid": "7455"
          },
          "free_bikes": 2,
          "id": "aa101867125c9cc13920e34d881f86b2",
          "latitude": 43.715951,
          "longitude": -79.351246,
          "name": "E.T. Seton Park (Eglinton Ave E / Leslie St)",
          "timestamp": "2022-11-08T08:49:30.030000Z"
         },
         {
          "empty_slots": 13,
          "extra": {
           "address": "Woodbine Ave / Lake Shore Blvd E",
           "last_updated": 1667897251,
           "payment": [
            "key",
            "transitcard",
            "creditcard",
            "phone"
           ],
           "payment-terminal": true,
           "renting": 1,
           "returning": 1,
           "uid": "7428"
          },
          "free_bikes": 14,
          "id": "6cdafdc1db0f73b22c3fd462fd984805",
          "latitude": 43.665645,
          "longitude": -79.304711,
          "name": "Woodbine Ave / Lake Shore Blvd E",
          "timestamp": "2022-11-08T08:49:30.504000Z"
         },
         {
          "empty_slots": 2,
          "extra": {
           "address": "King St W / Charlotte St",
           "last_updated": 1667897237,
           "payment": [
            "key",
            "transitcard",
            "creditcard",
            "phone"
           ],
           "payment-terminal": true,
           "renting": 1,
           "returning": 1,
           "uid": "7324"
          },
          "free_bikes": 16,
          "id": "1d827726987d707bbcd5562e02416b0e",
          "latitude": 43.645572,
          "longitude": -79.39399,
          "name": "King St W / Charlotte St (West Side)",
          "timestamp": "2022-11-08T08:49:30.187000Z"
         },
         {
          "empty_slots": 5,
          "extra": {
           "address": "Jarvis St / Richmond St E",
           "last_updated": 1667897174,
           "payment": [
            "key",
            "transitcard",
            "creditcard",
            "phone"
           ],
           "payment-terminal": true,
           "renting": 1,
           "returning": 1,
           "uid": "7475"
          },
          "free_bikes": 12,
          "id": "08d867cbed5f08addb01b714700eacf7",
          "latitude": 43.652777,
          "longitude": -79.372637,
          "name": "Jarvis St / Richmond St E",
          "timestamp": "2022-11-08T08:49:30.419000Z"
         },
         {
          "empty_slots": 8,
          "extra": {
           "address": "Symington Ave / Dupont St - SMART",
           "last_updated": 1667897190,
           "payment": [
            "key",
            "transitcard",
            "creditcard",
            "phone"
           ],
           "payment-terminal": true,
           "renting": 1,
           "returning": 1,
           "uid": "7476"
          },
          "free_bikes": 6,
          "id": "2d9b09d13ca6695d876ff08853469a24",
          "latitude": 43.665538,
          "longitude": -79.451263,
          "name": "Symington Ave / Dupont St",
          "timestamp": "2022-11-08T08:49:30.419000Z"
         },
         {
          "empty_slots": 2,
          "extra": {
           "address": "King St E / Jarvis St",
           "last_updated": 1667897119,
           "payment": [
            "key",
            "transitcard",
            "creditcard",
            "phone"
           ],
           "payment-terminal": true,
           "renting": 1,
           "returning": 1,
           "uid": "7009"
          },
          "free_bikes": 23,
          "id": "c9624aaf955b7fb236dcf2c8443c8fe9",
          "latitude": 43.650325,
          "longitude": -79.372287,
          "name": "King St E / Jarvis St",
          "timestamp": "2022-11-08T08:49:29.920000Z"
         },
         {
          "empty_slots": 15,
          "extra": {
           "address": "1199 Bay St",
           "last_updated": 1667897331,
           "payment": [
            "key",
            "transitcard",
            "creditcard",
            "phone"
           ],
           "payment-terminal": true,
           "renting": 1,
           "returning": 1,
           "uid": "7029"
          },
          "free_bikes": 0,
          "id": "2d1d89a437dbc32634ba928744831860",
          "latitude": 43.66943,
          "longitude": -79.38915,
          "name": "Bay St / Bloor St W (East Side)",
          "timestamp": "2022-11-08T08:49:30.369000Z"
         },
         {
          "empty_slots": 15,
          "extra": {
           "address": "1188 Bay St",
           "last_updated": 1667897321,
           "payment": [
            "key",
            "transitcard",
            "creditcard",
            "phone"
           ],
           "payment-terminal": true,
           "renting": 1,
           "returning": 1,
           "uid": "7335"
          },
          "free_bikes": 0,
          "id": "179e575503c062aa31a47c6f67d492da",
          "latitude": 43.669244,
          "longitude": -79.3894,
          "name": "Bay St / Bloor St W (West Side)",
          "timestamp": "2022-11-08T08:49:30.425000Z"
         },
         {
          "empty_slots": 13,
          "extra": {
           "address": "Lonsdale Rd / Spadina Rd",
           "last_updated": 1667897307,
           "payment": [
            "key",
            "transitcard",
            "creditcard",
            "phone"
           ],
           "payment-terminal": true,
           "renting": 1,
           "returning": 1,
           "uid": "7442"
          },
          "free_bikes": 2,
          "id": "c627928483ecb6ae00b50fee53d608d0",
          "latitude": 43.688526,
          "longitude": -79.412903,
          "name": "Lonsdale Rd / Spadina Rd",
          "timestamp": "2022-11-08T08:49:30.280000Z"
         },
         {
          "empty_slots": 12,
          "extra": {
           "address": "Wells Hill Ave / St Clair Ave W",
           "last_updated": 1667897161,
           "payment": [
            "key",
            "transitcard",
            "creditcard",
            "phone"
           ],
           "payment-terminal": true,
           "renting": 1,
           "returning": 1,
           "uid": "7363"
          },
          "free_bikes": 2,
          "id": "ffc954e6f4228f59169c040483ebcc3a",
          "latitude": 43.683351,
          "longitude": -79.41562,
          "name": "Wells Hill Ave / St Clair Ave W",
          "timestamp": "2022-11-08T08:49:30.335000Z"
         },
         {
          "empty_slots": 0,
          "extra": {
           "address": "Berkeley St / Adelaide St E - SMART",
           "last_updated": 1667897298,
           "payment": [
            "key",
            "transitcard",
            "phone"
           ],
           "payment-terminal": false,
           "renting": 1,
           "returning": 1,
           "uid": "7506"
          },
          "free_bikes": 12,
          "id": "cc1432c52b1e87a738180d369ed1136b",
          "latitude": 43.653359,
          "longitude": -79.365023,
          "name": "Berkeley St / Adelaide St E - SMART",
          "timestamp": "2022-11-08T08:49:30.433000Z"
         },
         {
          "empty_slots": 17,
          "extra": {
           "address": "Dundas St E / George St - SMART",
           "last_updated": 1667897314,
           "payment": [
            "key",
            "transitcard",
            "creditcard",
            "phone"
           ],
           "payment-terminal": true,
           "renting": 1,
           "returning": 1,
           "uid": "7443"
          },
          "free_bikes": 8,
          "id": "41b880ed1fe29761e25d4e3a492b563d",
          "latitude": 43.6574766,
          "longitude": -79.373446,
          "name": "Dundas St E / George St",
          "timestamp": "2022-11-08T08:49:30.279000Z"
         },
         {
          "empty_slots": 8,
          "extra": {
           "address": "Fleet St / Bathurst St",
           "last_updated": 1667897128,
           "payment": [
            "key",
            "transitcard",
            "creditcard",
            "phone"
           ],
           "payment-terminal": true,
           "renting": 1,
           "returning": 1,
           "uid": "7072"
          },
          "free_bikes": 9,
          "id": "c209afb99ac56fcd8f423e9365621ee7",
          "latitude": 43.636611,
          "longitude": -79.400042,
          "name": "Fleet St / Bathurst St",
          "timestamp": "2022-11-08T08:49:29.973000Z"
         },
         {
          "empty_slots": 0,
          "extra": {
           "address": "Tecumseth St / Queen St W",
           "last_updated": 1667897213,
           "payment": [
            "key",
            "transitcard",
            "phone"
           ],
           "payment-terminal": false,
           "renting": 1,
           "returning": 1,
           "uid": "7245"
          },
          "free_bikes": 6,
          "id": "7f5ae543870ee8917aaa5022234c5e0b",
          "latitude": 43.646552,
          "longitude": -79.406468,
          "name": "Tecumseth St / Queen St W - SMART",
          "timestamp": "2022-11-08T08:49:30.322000Z"
         },
         {
          "empty_slots": 21,
          "extra": {
           "address": "Wellington St W / Bay St",
           "last_updated": 1667897101,
           "payment": [
            "key",
            "transitcard",
            "creditcard",
            "phone"
           ],
           "payment-terminal": true,
           "renting": 1,
           "returning": 1,
           "uid": "7052"
          },
          "free_bikes": 5,
          "id": "045a7a6b973238dc76bc058e4f33f143",
          "latitude": 43.647259,
          "longitude": -79.379878,
          "name": "Wellington St W / Bay St",
          "timestamp": "2022-11-08T08:49:30.448000Z"
         },
         {
          "empty_slots": 16,
          "extra": {
           "address": "Briar Hill Ave / Yonge St - SMART",
           "last_updated": 1667897114,
           "payment": [
            "key",
            "transitcard",
            "phone"
           ],
           "payment-terminal": false,
           "renting": 1,
           "returning": 1,
           "uid": "7484"
          },
          "free_bikes": 0,
          "id": "d00c14c6cffc4b0fb30239ec2410232c",
          "latitude": 43.713524,
          "longitude": -79.400162,
          "name": "Briar Hill Ave / Yonge St - SMART",
          "timestamp": "2022-11-08T08:49:30.396000Z"
         },
         {
          "empty_slots": 0,
          "extra": {
           "address": "St James Park",
           "last_updated": 1667897104,
           "payment": [
            "key",
            "transitcard",
            "creditcard",
            "phone"
           ],
           "payment-terminal": true,
           "renting": 1,
           "returning": 1,
           "uid": "7074"
          },
          "free_bikes": 15,
          "id": "9c2e322a9d2bd1035e3f607f96152a98",
          "latitude": 43.65003919999999,
          "longitude": -79.3733541,
          "name": "King St E / Church St",
          "timestamp": "2022-11-08T08:49:29.965000Z"
         },
         {
          "empty_slots": 6,
          "extra": {
           "address": "Bay St / Albert St",
           "last_updated": 1667897333,
           "payment": [
            "key",
            "transitcard",
            "creditcard",
            "phone"
           ],
           "payment-terminal": true,
           "renting": 1,
           "returning": 1,
           "uid": "7021"
          },
          "free_bikes": 27,
          "id": "0f4f8c9f5e6417a981fe793e43984158",
          "latitude": 43.653264,
          "longitude": -79.382458,
          "name": "Bay St / Albert St",
          "timestamp": "2022-11-08T08:49:30.364000Z"
         },
         {
          "empty_slots": 10,
          "extra": {
           "address": "Wellesley St W / Queen's Park Cres",
           "last_updated": 1667897339,
           "payment": [
            "key",
            "transitcard",
            "creditcard",
            "phone"
           ],
           "payment-terminal": true,
           "renting": 1,
           "returning": 1,
           "uid": "7008"
          },
          "free_bikes": 9,
          "id": "03cb067499bb9bc86cf0c884edb403bc",
          "latitude": 43.663376,
          "longitude": -79.392125,
          "name": "Wellesley St / Queen's Park Cres",
          "timestamp": "2022-11-08T08:49:29.921000Z"
         },
         {
          "empty_slots": 10,
          "extra": {
           "address": "Bay St / College St (East Side)",
           "last_updated": 1667897155,
           "payment": [
            "key",
            "transitcard",
            "creditcard",
            "phone"
           ],
           "payment-terminal": true,
           "renting": 1,
           "returning": 1,
           "uid": "7006"
          },
          "free_bikes": 7,
          "id": "1630e350724cc062ba0e77e103728eac",
          "latitude": 43.660439,
          "longitude": -79.385525,
          "name": "Bay St / College St (East Side)",
          "timestamp": "2022-11-08T08:49:29.933000Z"
         },
         {
          "empty_slots": 11,
          "extra": {
           "address": "University Ave / College St (West)",
           "last_updated": 1667897340,
           "payment": [
            "key",
            "transitcard",
            "creditcard",
            "phone"
           ],
           "payment-terminal": true,
           "renting": 1,
           "returning": 1,
           "uid": "7062"
          },
          "free_bikes": 0,
          "id": "76ff77a0c8d2de7ff02ab1ce2b719e22",
          "latitude": 43.659226,
          "longitude": -79.390213,
          "name": "University Ave / College St (West)",
          "timestamp": "2022-11-08T08:49:30.224000Z"
         },
         {
          "empty_slots": 13,
          "extra": {
           "address": "University Ave / College St (East)",
           "last_updated": 1667897214,
           "payment": [
            "key",
            "transitcard",
            "creditcard",
            "phone"
           ],
           "payment-terminal": true,
           "renting": 1,
           "returning": 1,
           "uid": "7502"
          },
          "free_bikes": 0,
          "id": "2f10b834460965288d419163586f3f89",
          "latitude": 43.65995,
          "longitude": -79.38964,
          "name": "University Ave / College St (East)",
          "timestamp": "2022-11-08T08:49:30.435000Z"
         },
         {
          "empty_slots": 8,
          "extra": {
           "address": "Queen's Park Cres E / Grosvenor St",
           "last_updated": 1667897181,
           "payment": [
            "key",
            "transitcard",
            "phone"
           ],
           "payment-terminal": false,
           "renting": 1,
           "returning": 1,
           "uid": "7274"
          },
          "free_bikes": 2,
          "id": "8402cda81d70fbc893e5337366df8d58",
          "latitude": 43.661803,
          "longitude": -79.389682,
          "name": "Queen's Park Cres E / Grosvenor St - SMART",
          "timestamp": "2022-11-08T08:49:30.487000Z"
         },
         {
          "empty_slots": 11,
          "extra": {
           "address": "Bay St / College St (West Side)",
           "last_updated": 1667897225,
           "payment": [
            "key",
            "transitcard",
            "phone"
           ],
           "payment-terminal": false,
           "renting": 1,
           "returning": 1,
           "uid": "7235"
          },
          "free_bikes": 1,
          "id": "d54842ca6cc3a96c8ebbd4101c620e66",
          "latitude": 43.660087,
          "longitude": -79.385655,
          "name": "Bay St / College St (West Side) - SMART",
          "timestamp": "2022-11-08T08:49:30.541000Z"
         },
         {
          "empty_slots": 11,
          "extra": {
           "address": "Superior Ave / Lake Shore Blvd W",
           "last_updated": 1667897172,
           "payment": [
            "key",
            "transitcard",
            "creditcard",
            "phone"
           ],
           "payment-terminal": true,
           "renting": 1,
           "returning": 1,
           "uid": "7516"
          },
          "free_bikes": 6,
          "id": "1ac23b3d20ad003acf2f9b1f8a2f2f0b",
          "latitude": 43.6146692,
          "longitude": -79.4873148,
          "name": "Superior Ave / Lake Shore Blvd W",
          "timestamp": "2022-11-08T08:49:29.779000Z"
         },
         {
          "empty_slots": 1,
          "extra": {
           "address": "Humber Bay Shores Park / Marine Parade Dr",
           "last_updated": 1667897138,
           "payment": [
            "key",
            "transitcard",
            "creditcard",
            "phone"
           ],
           "payment-terminal": true,
           "renting": 1,
           "returning": 1,
           "uid": "7514"
          },
          "free_bikes": 24,
          "id": "b24ec0083f9a6261ba6212d69cd28f2c",
          "latitude": 43.626265,
          "longitude": -79.476723,
          "name": "Humber Bay Shores Park / Marine Parade Dr",
          "timestamp": "2022-11-08T08:49:29.782000Z"
         },
         {
          "empty_slots": 2,
          "extra": {
           "address": "Lake Shore Blvd W / Colborne Lodge Dr",
           "last_updated": 1667897111,
           "payment": [
            "key",
            "transitcard",
            "creditcard",
            "phone"
           ],
           "payment-terminal": true,
           "renting": 1,
           "returning": 1,
           "uid": "7518"
          },
          "free_bikes": 23,
          "id": "50d8ed93a01d05c04298300fe52b5ac7",
          "latitude": 43.63771,
          "longitude": -79.458173,
          "name": "Lake Shore Blvd W / Colborne Lodge Dr",
          "timestamp": "2022-11-08T08:49:29.784000Z"
         },
         {
          "empty_slots": 12,
          "extra": {
           "address": "Ripley Ave / Ormskirk Ave",
           "last_updated": 1667897126,
           "payment": [
            "key",
            "transitcard",
            "creditcard",
            "phone"
           ],
           "payment-terminal": true,
           "renting": 1,
           "returning": 1,
           "uid": "7517"
          },
          "free_bikes": 9,
          "id": "f897c08ea341fc832b7ca756cb0982ae",
          "latitude": 43.6390437,
          "longitude": -79.4760109,
          "name": "Ripley Ave / Ormskirk Ave",
          "timestamp": "2022-11-08T08:49:29.777000Z"
         },
         {
          "empty_slots": 11,
          "extra": {
           "address": "St Clarens Ave / Shirley Ave",
           "last_updated": 1667897350,
           "payment": [
            "key",
            "transitcard",
            "creditcard",
            "phone"
           ],
           "payment-terminal": true,
           "renting": 1,
           "returning": 1,
           "uid": "7520"
          },
          "free_bikes": 2,
          "id": "0ebd7e4e7c35126cda830c1c67bb3241",
          "latitude": 43.6486599,
          "longitude": -79.4376413,
          "name": "St Clarens Ave / Shirley Ave",
          "timestamp": "2022-11-08T08:49:30.107000Z"
         },
         {
          "empty_slots": 10,
          "extra": {
           "address": "Lisgar Park",
           "last_updated": 1667897231,
           "payment": [
            "key",
            "transitcard",
            "creditcard",
            "phone"
           ],
           "payment-terminal": true,
           "renting": 1,
           "returning": 1,
           "uid": "7524"
          },
          "free_bikes": 10,
          "id": "b8cb26c3827d563e60826e8d8ddb8865",
          "latitude": 43.6423847,
          "longitude": -79.4240277,
          "name": "Lisgar Park",
          "timestamp": "2022-11-08T08:49:30.111000Z"
         },
         {
          "empty_slots": 18,
          "extra": {
           "address": "Bartlett Parkette",
           "last_updated": 1667897270,
           "payment": [
            "key",
            "transitcard",
            "creditcard",
            "phone"
           ],
           "payment-terminal": true,
           "renting": 1,
           "returning": 1,
           "uid": "7526"
          },
          "free_bikes": 2,
          "id": "f926e2b4fe4ff841a24b2ac4962e62bd",
          "latitude": 43.6702236,
          "longitude": -79.4360232,
          "name": "Bartlett Parkette",
          "timestamp": "2022-11-08T08:49:30.109000Z"
         },
         {
          "empty_slots": 15,
          "extra": {
           "address": "Spadina Rd / Austin Terrace",
           "last_updated": 1667897252,
           "payment": [
            "key",
            "transitcard",
            "creditcard",
            "phone"
           ],
           "payment-terminal": true,
           "renting": 1,
           "returning": 1,
           "uid": "7528"
          },
          "free_bikes": 2,
          "id": "146c961dd6b178771287133da0629eba",
          "latitude": 43.67883,
          "longitude": -79.408723,
          "name": "Spadina Rd / Austin Terrace",
          "timestamp": "2022-11-08T08:49:30.111000Z"
         },
         {
          "empty_slots": 19,
          "extra": {
           "address": "Sherbourne St N / Elm Ave",
           "last_updated": 1667897238,
           "payment": [
            "key",
            "transitcard",
            "creditcard",
            "phone"
           ],
           "payment-terminal": true,
           "renting": 1,
           "returning": 1,
           "uid": "7530"
          },
          "free_bikes": 0,
          "id": "791f66f190e1848c7eeeaf8b937e304f",
          "latitude": 43.6752732,
          "longitude": -79.3778458,
          "name": "Sherbourne St N / Elm Ave",
          "timestamp": "2022-11-08T08:49:30.358000Z"
         },
         {
          "empty_slots": 0,
          "extra": {
           "address": "Walnut Ave / Queen St W",
           "last_updated": 1667897173,
           "payment": [
            "key",
            "transitcard",
            "creditcard",
            "phone"
           ],
           "payment-terminal": true,
           "renting": 1,
           "returning": 1,
           "uid": "7534"
          },
          "free_bikes": 14,
          "id": "068f5330e49bd7236864c7cbf904813f",
          "latitude": 43.645469,
          "longitude": -79.411084,
          "name": "Walnut Ave / Queen St W",
          "timestamp": "2022-11-08T08:49:30.352000Z"
         },
         {
          "empty_slots": 18,
          "extra": {
           "address": "Vaughan Rd /Wychwood Ave",
           "last_updated": 1667897196,
           "payment": [
            "key",
            "transitcard",
            "creditcard",
            "phone"
           ],
           "payment-terminal": true,
           "renting": 1,
           "returning": 1,
           "uid": "7538"
          },
          "free_bikes": 1,
          "id": "36c244827ed3bd3ee314ab1d2781db2a",
          "latitude": 43.6882821,
          "longitude": -79.4253856,
          "name": "Vaughan Rd /Wychwood Ave",
          "timestamp": "2022-11-08T08:49:30.445000Z"
         },
         {
          "empty_slots": 12,
          "extra": {
           "address": "Palmerston Ave / Dundas St W",
           "last_updated": 1667897218,
           "payment": [
            "key",
            "transitcard",
            "creditcard",
            "phone"
           ],
           "payment-terminal": true,
           "renting": 1,
           "returning": 1,
           "uid": "7536"
          },
          "free_bikes": 11,
          "id": "91b75f5884eca61cded2a3da80a6dc2b",
          "latitude": 43.651603,
          "longitude": -79.408346,
          "name": "Palmerston Ave / Dundas St W",
          "timestamp": "2022-11-08T08:49:30.356000Z"
         },
         {
          "empty_slots": 8,
          "extra": {
           "address": "541 Huron St",
           "last_updated": 1667897213,
           "payment": [
            "key",
            "transitcard",
            "phone"
           ],
           "payment-terminal": false,
           "renting": 1,
           "returning": 1,
           "uid": "7531"
          },
          "free_bikes": 11,
          "id": "e6151e077a7d8141f6ae96e6223d12e9",
          "latitude": 43.670206,
          "longitude": -79.402643,
          "name": "541 Huron St - SMART",
          "timestamp": "2022-11-08T08:49:30.390000Z"
         },
         {
          "empty_slots": 12,
          "extra": {
           "address": "Euclid Ave / Herrick St",
           "last_updated": 1667897130,
           "payment": [
            "key",
            "transitcard",
            "phone"
           ],
           "payment-terminal": false,
           "renting": 1,
           "returning": 1,
           "uid": "7537"
          },
          "free_bikes": 3,
          "id": "03b565f085260e768988cd216fbeeef4",
          "latitude": 43.661559,
          "longitude": -79.413845,
          "name": "Euclid Ave / Herrick St - SMART",
          "timestamp": "2022-11-08T08:49:30.352000Z"
         },
         {
          "empty_slots": 5,
          "extra": {
           "address": "Baldwin St / Henry St",
           "last_updated": 1667897289,
           "payment": [
            "key",
            "transitcard",
            "creditcard",
            "phone"
           ],
           "payment-terminal": true,
           "renting": 1,
           "returning": 1,
           "uid": "7545"
          },
          "free_bikes": 9,
          "id": "34a94fc072487f4615b041d2b7a6c659",
          "latitude": 43.6560758,
          "longitude": -79.393259,
          "name": "Baldwin St / Henry St",
          "timestamp": "2022-11-08T08:49:30.502000Z"
         },
         {
          "empty_slots": 14,
          "extra": {
           "address": "Orde St / McCaul St",
           "last_updated": 1667897271,
           "payment": [
            "key",
            "transitcard",
            "creditcard",
            "phone"
           ],
           "payment-terminal": true,
           "renting": 1,
           "returning": 1,
           "uid": "7547"
          },
          "free_bikes": 1,
          "id": "2b2e280f715656fb630b59ec9a6d1e0c",
          "latitude": 43.6580442,
          "longitude": -79.3927404,
          "name": "Orde St / McCaul St",
          "timestamp": "2022-11-08T08:49:30.154000Z"
         },
         {
          "empty_slots": 18,
          "extra": {
           "address": "Ross St / Cecil St",
           "last_updated": 1667897311,
           "payment": [
            "key",
            "transitcard",
            "phone"
           ],
           "payment-terminal": false,
           "renting": 1,
           "returning": 1,
           "uid": "7546"
          },
          "free_bikes": 0,
          "id": "026bf7c2104a659ef0392f1c22bc6e17",
          "latitude": 43.6568254,
          "longitude": -79.3966159,
          "name": "Ross St / Cecil St - SMART",
          "timestamp": "2022-11-08T08:49:29.982000Z"
         },
         {
          "empty_slots": 14,
          "extra": {
           "address": "Lake Shore Blvd W / Thirty Ninth Street",
           "last_updated": 1667897259,
           "payment": [
            "key",
            "transitcard",
            "creditcard",
            "phone"
           ],
           "payment-terminal": true,
           "renting": 1,
           "returning": 1,
           "uid": "7552"
          },
          "free_bikes": 5,
          "id": "b7461d8effda846e2f78dfbee059c433",
          "latitude": 43.5927419,
          "longitude": -79.54033009999999,
          "name": "Lake Shore Blvd W / Thirty Ninth Street",
          "timestamp": "2022-11-08T08:49:29.909000Z"
         },
         {
          "empty_slots": 2,
          "extra": {
           "address": "Lake Shore Blvd W / Twenty Fourth St",
           "last_updated": 1667897231,
           "payment": [
            "key",
            "transitcard",
            "creditcard",
            "phone"
           ],
           "payment-terminal": true,
           "renting": 1,
           "returning": 1,
           "uid": "7553"
          },
          "free_bikes": 17,
          "id": "f1bad47f1bca16159267c0ad3e50fb1a",
          "latitude": 43.597082,
          "longitude": -79.522768,
          "name": "Lake Shore Blvd W / Twenty Fourth St",
          "timestamp": "2022-11-08T08:49:29.908000Z"
         },
         {
          "empty_slots": 28,
          "extra": {
           "address": "Windsor St / Newcastle St",
           "last_updated": 1667897356,
           "payment": [
            "key",
            "transitcard",
            "creditcard",
            "phone"
           ],
           "payment-terminal": true,
           "renting": 1,
           "returning": 1,
           "uid": "7556"
          },
          "free_bikes": 2,
          "id": "4d9f7ef78ba9859e04d259c1567d1d61",
          "latitude": 43.6171635,
          "longitude": -79.4971065,
          "name": "Windsor St / Newcastle St",
          "timestamp": "2022-11-08T08:49:29.912000Z"
         },
         {
          "empty_slots": 15,
          "extra": {
           "address": "Royal York Rd / Mimico Ave",
           "last_updated": 1667897314,
           "payment": [
            "key",
            "transitcard",
            "creditcard",
            "phone"
           ],
           "payment-terminal": true,
           "renting": 1,
           "returning": 1,
           "uid": "7555"
          },
          "free_bikes": 4,
          "id": "1d5a56319adf364532940f86be71ce4b",
          "latitude": 43.612063,
          "longitude": -79.496573,
          "name": "Royal York Rd / Mimico Ave",
          "timestamp": "2022-11-08T08:49:29.917000Z"
         },
         {
          "empty_slots": 11,
          "extra": {
           "address": "Berry Rd / Bell Manor Dr",
           "last_updated": 1667897326,
           "payment": [
            "key",
            "transitcard",
            "creditcard",
            "phone"
           ],
           "payment-terminal": true,
           "renting": 1,
           "returning": 1,
           "uid": "7558"
          },
          "free_bikes": 8,
          "id": "0deaf45500eb93eeacff86adaafeb180",
          "latitude": 43.63732,
          "longitude": -79.489083,
          "name": "Berry Rd / Bell Manor Dr",
          "timestamp": "2022-11-08T08:49:30.511000Z"
         },
         {
          "empty_slots": 18,
          "extra": {
           "address": "Humber College",
           "last_updated": 1667897134,
           "payment": [
            "key",
            "transitcard",
            "creditcard",
            "phone"
           ],
           "payment-terminal": true,
           "renting": 1,
           "returning": 1,
           "uid": "7554"
          },
          "free_bikes": 9,
          "id": "4e5712234feb60f46fff461ab136e147",
          "latitude": 43.5961692,
          "longitude": -79.5160575,
          "name": "Humber College",
          "timestamp": "2022-11-08T08:49:29.918000Z"
         },
         {
          "empty_slots": 12,
          "extra": {
           "address": "Amos Waites Park",
           "last_updated": 1667897201,
           "payment": [
            "key",
            "transitcard",
            "creditcard",
            "phone"
           ],
           "payment-terminal": true,
           "renting": 1,
           "returning": 1,
           "uid": "7515"
          },
          "free_bikes": 13,
          "id": "8b49ce875b451df6dbe4fb4667acb3bd",
          "latitude": 43.613606,
          "longitude": -79.4883535,
          "name": "Amos Waites Park",
          "timestamp": "2022-11-08T08:49:29.780000Z"
         },
         {
          "empty_slots": 7,
          "extra": {
           "address": "Priscilla  Ave / Dundas St W",
           "last_updated": 1667897274,
           "payment": [
            "key",
            "transitcard",
            "creditcard",
            "phone"
           ],
           "payment-terminal": true,
           "renting": 1,
           "returning": 1,
           "uid": "7562"
          },
          "free_bikes": 15,
          "id": "d9d0c97c8f65e3fb4ebcd464a11f5522",
          "latitude": 43.664665,
          "longitude": -79.489385,
          "name": "Priscilla  Ave / Dundas St W",
          "timestamp": "2022-11-08T08:49:30.176000Z"
         },
         {
          "empty_slots": 12,
          "extra": {
           "address": "Durie St / Dundas St W",
           "last_updated": 1667897157,
           "payment": [
            "key",
            "transitcard",
            "creditcard",
            "phone"
           ],
           "payment-terminal": true,
           "renting": 1,
           "returning": 1,
           "uid": "7564"
          },
          "free_bikes": 10,
          "id": "27b5be1cbbce21764b224e820c7f888c",
          "latitude": 43.665523,
          "longitude": -79.484892,
          "name": "Durie St / Dundas St W",
          "timestamp": "2022-11-08T08:49:30.174000Z"
         },
         {
          "empty_slots": 11,
          "extra": {
           "address": "St Clair Ave W / Castleton Ave",
           "last_updated": 1667897305,
           "payment": [
            "key",
            "transitcard",
            "creditcard",
            "phone"
           ],
           "payment-terminal": true,
           "renting": 1,
           "returning": 1,
           "uid": "7563"
          },
          "free_bikes": 8,
          "id": "600672c7f313e01de8bab00cbee9e7f4",
          "latitude": 43.668496,
          "longitude": -79.485426,
          "name": "St Clair Ave W / Castleton Ave",
          "timestamp": "2022-11-08T08:49:30.177000Z"
         },
         {
          "empty_slots": 15,
          "extra": {
           "address": "Weston Lions Park",
           "last_updated": 1667897204,
           "payment": [
            "key",
            "transitcard",
            "creditcard",
            "phone"
           ],
           "payment-terminal": true,
           "renting": 1,
           "returning": 1,
           "uid": "7567"
          },
          "free_bikes": 12,
          "id": "50dc0fcbc5a62a2cc676ada21ede905c",
          "latitude": 43.698841,
          "longitude": -79.519472,
          "name": "Weston Lions Park",
          "timestamp": "2022-11-08T08:49:30.173000Z"
         },
         {
          "empty_slots": 5,
          "extra": {
           "address": "Annette St / Jane St",
           "last_updated": 1667897338,
           "payment": [
            "key",
            "transitcard",
            "creditcard",
            "phone"
           ],
           "payment-terminal": true,
           "renting": 1,
           "returning": 1,
           "uid": "7561"
          },
          "free_bikes": 9,
          "id": "6d6c301acbd12264042475dfd0e0e1e3",
          "latitude": 43.658574,
          "longitude": -79.487246,
          "name": "Annette St / Jane St",
          "timestamp": "2022-11-08T08:49:30.177000Z"
         },
         {
          "empty_slots": 3,
          "extra": {
           "address": "Jameson Ave / Queen St W",
           "last_updated": 1667897346,
           "payment": [
            "key",
            "transitcard",
            "creditcard",
            "phone"
           ],
           "payment-terminal": true,
           "renting": 1,
           "returning": 1,
           "uid": "7568"
          },
          "free_bikes": 23,
          "id": "1e5bc0c0a2797265956ee948d6dcd49d",
          "latitude": 43.63985,
          "longitude": -79.43703,
          "name": "Jameson Ave / Queen St W",
          "timestamp": "2022-11-08T08:49:30.317000Z"
         },
         {
          "empty_slots": 3,
          "extra": {
           "address": "Carlaw Ave / Dundas St E",
           "last_updated": 1667897156,
           "payment": [
            "key",
            "transitcard",
            "creditcard",
            "phone"
           ],
           "payment-terminal": true,
           "renting": 1,
           "returning": 1,
           "uid": "7570"
          },
          "free_bikes": 14,
          "id": "e933ad7ff4aae2c390d9f79c1043d657",
          "latitude": 43.665076,
          "longitude": -79.341509,
          "name": "Carlaw Ave / Dundas St E",
          "timestamp": "2022-11-08T08:49:30.403000Z"
         },
         {
          "empty_slots": 17,
          "extra": {
           "address": "Toronto Inukshuk Park",
           "last_updated": 1667897359,
           "payment": [
            "key",
            "transitcard",
            "creditcard",
            "phone"
           ],
           "payment-terminal": true,
           "renting": 1,
           "returning": 1,
           "uid": "7569"
          },
          "free_bikes": 26,
          "id": "c1704a7eebf0bff8016166d14fe130bd",
          "latitude": 43.6323994,
          "longitude": -79.40978179999999,
          "name": "Toronto Inukshuk Park",
          "timestamp": "2022-11-08T08:49:30.319000Z"
         },
         {
          "empty_slots": 14,
          "extra": {
           "address": "Cosburn Ave / Durant Ave",
           "last_updated": 1667897336,
           "payment": [
            "key",
            "transitcard",
            "creditcard",
            "phone"
           ],
           "payment-terminal": true,
           "renting": 1,
           "returning": 1,
           "uid": "7572"
          },
          "free_bikes": 1,
          "id": "5bed66406f7431f8d4d8542d107225ea",
          "latitude": 43.6935477,
          "longitude": -79.3301658,
          "name": "Cosburn Ave / Durant Ave",
          "timestamp": "2022-11-08T08:49:29.979000Z"
         },
         {
          "empty_slots": 12,
          "extra": {
           "address": "Swansea Community Centre",
           "last_updated": 1667897165,
           "payment": [
            "key",
            "transitcard",
            "creditcard",
            "phone"
           ],
           "payment-terminal": true,
           "renting": 1,
           "returning": 1,
           "uid": "7559"
          },
          "free_bikes": 3,
          "id": "124ed44b13876f8019e356d76ba645ee",
          "latitude": 43.6438036,
          "longitude": -79.4770327,
          "name": "Swansea Community Centre",
          "timestamp": "2022-11-08T08:49:30.511000Z"
         },
         {
          "empty_slots": 7,
          "extra": {
           "address": "Bellwoods Ave / Treford Pl",
           "last_updated": 1667897324,
           "payment": [
            "key",
            "transitcard",
            "phone"
           ],
           "payment-terminal": false,
           "renting": 1,
           "returning": 1,
           "uid": "7541"
          },
          "free_bikes": 12,
          "id": "12481528bb8d296c8bc4014306f36afd",
          "latitude": 43.65246,
          "longitude": -79.413528,
          "name": "Bellwoods Ave / Treford Pl - SMART",
          "timestamp": "2022-11-08T08:49:30.500000Z"
         },
         {
          "empty_slots": 3,
          "extra": {
           "address": "207 Eastern Avenue",
           "last_updated": 1667897354,
           "payment": [
            "key",
            "transitcard",
            "creditcard",
            "phone"
           ],
           "payment-terminal": true,
           "renting": 1,
           "returning": 1,
           "uid": "7575"
          },
          "free_bikes": 12,
          "id": "5282337e262f025cee74afaf2659b223",
          "latitude": 43.6548521,
          "longitude": -79.35397680000001,
          "name": "Bayview Ave / Lawren Harris Square",
          "timestamp": "2022-11-08T08:49:30.405000Z"
         },
         {
          "empty_slots": 6,
          "extra": {
           "address": "The Queensway / High St",
           "last_updated": 1667897233,
           "payment": [
            "key",
            "transitcard",
            "creditcard",
            "phone"
           ],
           "payment-terminal": true,
           "renting": 1,
           "returning": 1,
           "uid": "7557"
          },
          "free_bikes": 16,
          "id": "125e730a6da5714af8567ae352485337",
          "latitude": 43.630874,
          "longitude": -79.482407,
          "name": "The Queensway / High St",
          "timestamp": "2022-11-08T08:49:29.911000Z"
         },
         {
          "empty_slots": 15,
          "extra": {
           "address": "Symington Ave / Davenport Rd",
           "last_updated": 1667897157,
           "payment": [
            "key",
            "transitcard",
            "creditcard",
            "phone"
           ],
           "payment-terminal": true,
           "renting": 1,
           "returning": 1,
           "uid": "7529"
          },
          "free_bikes": 0,
          "id": "0b153cb4fe7873b109e3068cf99dbf74",
          "latitude": 43.6704403,
          "longitude": -79.45328549999999,
          "name": "Symington Ave / Davenport Rd",
          "timestamp": "2022-11-08T08:49:30.112000Z"
         },
         {
          "empty_slots": 1,
          "extra": {
           "address": "Front St E / Bayview Avenue",
           "last_updated": 1667897324,
           "payment": [
            "key",
            "transitcard",
            "creditcard",
            "phone"
           ],
           "payment-terminal": true,
           "renting": 1,
           "returning": 1,
           "uid": "7576"
          },
          "free_bikes": 21,
          "id": "fb3867774f8ac943a838fb13a41bd1b6",
          "latitude": 43.6535,
          "longitude": -79.354068,
          "name": "Front St E / Bayview Avenue",
          "timestamp": "2022-11-08T08:49:30.407000Z"
         },
         {
          "empty_slots": 9,
          "extra": {
           "address": "Oak St / Sumach St",
           "last_updated": 1667897254,
           "payment": [
            "key",
            "transitcard",
            "creditcard",
            "phone"
           ],
           "payment-terminal": true,
           "renting": 1,
           "returning": 1,
           "uid": "7577"
          },
          "free_bikes": 18,
          "id": "8c4531a1d91e5583aff9759a5aedb46d",
          "latitude": 43.6617908,
          "longitude": -79.361515,
          "name": "Oak St / Sumach St",
          "timestamp": "2022-11-08T08:49:30.406000Z"
         },
         {
          "empty_slots": 6,
          "extra": {
           "address": "The Esplanade / Hahn Pl",
           "last_updated": 1667897223,
           "payment": [
            "key",
            "transitcard",
            "creditcard",
            "phone"
           ],
           "payment-terminal": true,
           "renting": 1,
           "returning": 1,
           "uid": "7551"
          },
          "free_bikes": 13,
          "id": "52028e6990a88dcf0aacffe1fbd5bf92",
          "latitude": 43.649709,
          "longitude": -79.364184,
          "name": "The Esplanade / Hahn Pl",
          "timestamp": "2022-11-08T08:49:30.519000Z"
         },
         {
          "empty_slots": 44,
          "extra": {
           "address": "439 Sherbourne St",
           "last_updated": 1667897300,
           "payment": [
            "key",
            "transitcard",
            "creditcard",
            "phone"
           ],
           "payment-terminal": true,
           "renting": 1,
           "returning": 1,
           "uid": "7549"
          },
          "free_bikes": 3,
          "id": "4bb6659976fc4aaf5a141c488a405a00",
          "latitude": 43.666051,
          "longitude": -79.374161,
          "name": "439 Sherbourne St",
          "timestamp": "2022-11-08T08:49:30.496000Z"
         },
         {
          "empty_slots": 10,
          "extra": {
           "address": "Glebe Rd / Yonge St",
           "last_updated": 1667897104,
           "payment": [
            "key",
            "transitcard",
            "creditcard",
            "phone"
           ],
           "payment-terminal": true,
           "renting": 1,
           "returning": 1,
           "uid": "7579"
          },
          "free_bikes": 9,
          "id": "f04359bb2878aa6d672474276e5017e4",
          "latitude": 43.7005976,
          "longitude": -79.397345,
          "name": "Glebe Rd W / Yonge St",
          "timestamp": "2022-11-08T08:49:29.858000Z"
         },
         {
          "empty_slots": 11,
          "extra": {
           "address": "Hillsdale Ave W / Yonge St",
           "last_updated": 1667897190,
           "payment": [
            "key",
            "transitcard",
            "creditcard",
            "phone"
           ],
           "payment-terminal": true,
           "renting": 1,
           "returning": 1,
           "uid": "7580"
          },
          "free_bikes": 3,
          "id": "9447917367c25ac832d404c1a4696615",
          "latitude": 43.7029672,
          "longitude": -79.3979073,
          "name": "Hillsdale Ave W / Yonge St",
          "timestamp": "2022-11-08T08:49:30.552000Z"
         },
         {
          "empty_slots": 19,
          "extra": {
           "address": "Alvin Ave / St Clair Ave E",
           "last_updated": 1667897179,
           "payment": [
            "key",
            "transitcard",
            "creditcard",
            "phone"
           ],
           "payment-terminal": true,
           "renting": 1,
           "returning": 1,
           "uid": "7540"
          },
          "free_bikes": 0,
          "id": "0b85c7861c4c48a4cd4fe140c913da57",
          "latitude": 43.68871,
          "longitude": -79.39264,
          "name": "Alvin Ave / St Clair Ave E",
          "timestamp": "2022-11-08T08:49:30.499000Z"
         },
         {
          "empty_slots": 19,
          "extra": {
           "address": "Eglinton Ave W / Scarlett Rd",
           "last_updated": 1667897306,
           "payment": [
            "key",
            "transitcard",
            "creditcard",
            "phone"
           ],
           "payment-terminal": true,
           "renting": 1,
           "returning": 1,
           "uid": "7583"
          },
          "free_bikes": 2,
          "id": "f0ef11b3bf1f1a2ab5d7a556fde038f6",
          "latitude": 43.6834703,
          "longitude": -79.5108942,
          "name": "Eglinton Ave W / Scarlett Rd",
          "timestamp": "2022-11-08T08:49:30.554000Z"
         },
         {
          "empty_slots": 27,
          "extra": {
           "address": "The Pond Rd / Sentinel Rd",
           "last_updated": 1667897133,
           "payment": [
            "key",
            "transitcard",
            "creditcard",
            "phone"
           ],
           "payment-terminal": true,
           "renting": 1,
           "returning": 1,
           "uid": "7584"
          },
          "free_bikes": 0,
          "id": "e228eced48bdb1f81b6b38456fdcad39",
          "latitude": 43.7696262,
          "longitude": -79.5025943,
          "name": "The Pond Rd / Sentinel Rd",
          "timestamp": "2022-11-08T08:49:30.549000Z"
         },
         {
          "empty_slots": 21,
          "extra": {
           "address": "Sentinel Rd / Finch Hydro Corridor",
           "last_updated": 1667897242,
           "payment": [
            "key",
            "transitcard",
            "creditcard",
            "phone"
           ],
           "payment-terminal": true,
           "renting": 1,
           "returning": 1,
           "uid": "7585"
          },
          "free_bikes": 6,
          "id": "71bf1ff10731929ec44b9dcce72edba6",
          "latitude": 43.7641485,
          "longitude": -79.5012809,
          "name": "Sentinel Rd / Finch Hydro Corridor",
          "timestamp": "2022-11-08T08:49:30.550000Z"
         },
         {
          "empty_slots": 20,
          "extra": {
           "address": "Finch West Subway Station",
           "last_updated": 1667897202,
           "payment": [
            "key",
            "transitcard",
            "creditcard",
            "phone"
           ],
           "payment-terminal": true,
           "renting": 1,
           "returning": 1,
           "uid": "7586"
          },
          "free_bikes": 3,
          "id": "6a4d3e7625cc41d49674986b994fc5e1",
          "latitude": 43.76521,
          "longitude": -79.491281,
          "name": "Finch West Subway Station",
          "timestamp": "2022-11-08T08:49:30.550000Z"
         },
         {
          "empty_slots": 12,
          "extra": {
           "address": "Dufferin St / Finch Hydro Recreational Trail",
           "last_updated": 1667897181,
           "payment": [
            "key",
            "transitcard",
            "creditcard",
            "phone"
           ],
           "payment-terminal": true,
           "renting": 1,
           "returning": 1,
           "uid": "7587"
          },
          "free_bikes": 6,
          "id": "bf413030081fe6f86c21b6412f4e4e1a",
          "latitude": 43.7724019,
          "longitude": -79.4675395,
          "name": "Dufferin St / Finch Hydro Recreational Trail",
          "timestamp": "2022-11-08T08:49:30.551000Z"
         },
         {
          "empty_slots": 18,
          "extra": {
           "address": "G Ross Lord Park",
           "last_updated": 1667897248,
           "payment": [
            "key",
            "transitcard",
            "creditcard",
            "phone"
           ],
           "payment-terminal": true,
           "renting": 1,
           "returning": 1,
           "uid": "7588"
          },
          "free_bikes": 13,
          "id": "cfcbfa258711beff217aa9d929a3a3ea",
          "latitude": 43.7781116,
          "longitude": -79.467963,
          "name": "G Ross Lord Park",
          "timestamp": "2022-11-08T08:49:30.547000Z"
         },
         {
          "empty_slots": 19,
          "extra": {
           "address": "Elwood Blvd / Avenue Rd",
           "last_updated": 1667897129,
           "payment": [
            "key",
            "transitcard",
            "creditcard",
            "phone"
           ],
           "payment-terminal": true,
           "renting": 1,
           "returning": 1,
           "uid": "7591"
          },
          "free_bikes": 4,
          "id": "7a86196b811f1b13212052f5cd37e692",
          "latitude": 43.707049,
          "longitude": -79.40966,
          "name": "Elwood Blvd / Avenue Rd",
          "timestamp": "2022-11-08T08:49:30.373000Z"
         },
         {
          "empty_slots": 22,
          "extra": {
           "address": "Roehampton St / Bayview Ave",
           "last_updated": 1667897303,
           "payment": [
            "key",
            "transitcard",
            "creditcard",
            "phone"
           ],
           "payment-terminal": true,
           "renting": 1,
           "returning": 1,
           "uid": "7593"
          },
          "free_bikes": 8,
          "id": "2c429e9e841e213f875d2116cfab30e9",
          "latitude": 43.711751,
          "longitude": -79.378615,
          "name": "Roehampton St / Bayview Ave",
          "timestamp": "2022-11-08T08:49:30.065000Z"
         },
         {
          "empty_slots": 11,
          "extra": {
           "address": "Teddington Park Ave",
           "last_updated": 1667897252,
           "payment": [
            "key",
            "transitcard",
            "creditcard",
            "phone"
           ],
           "payment-terminal": true,
           "renting": 1,
           "returning": 1,
           "uid": "7598"
          },
          "free_bikes": 4,
          "id": "482006b8f83e7802372448cd4dbd463d",
          "latitude": 43.732975,
          "longitude": -79.40401,
          "name": "Teddington Park Ave",
          "timestamp": "2022-11-08T08:49:30.371000Z"
         },
         {
          "empty_slots": 19,
          "extra": {
           "address": "Russell St / Huron St",
           "last_updated": 1667897287,
           "payment": [
            "key",
            "transitcard",
            "phone"
           ],
           "payment-terminal": false,
           "renting": 1,
           "returning": 1,
           "uid": "7600"
          },
          "free_bikes": 0,
          "id": "b3ac9ac4dba9aff36e24ba60b6171308",
          "latitude": 43.660274,
          "longitude": -79.398049,
          "name": "Russell St / Huron St - SMART",
          "timestamp": "2022-11-08T08:49:30.471000Z"
         },
         {
          "empty_slots": 8,
          "extra": {
           "address": "Woodbine Ave / O'Connor Dr",
           "last_updated": 1667897197,
           "payment": [
            "key",
            "transitcard",
            "creditcard",
            "phone"
           ],
           "payment-terminal": true,
           "renting": 1,
           "returning": 1,
           "uid": "7602"
          },
          "free_bikes": 11,
          "id": "7978548b201c5c5ab2421bc2906bc446",
          "latitude": 43.699281,
          "longitude": -79.318802,
          "name": "Woodbine Ave / O'Connor Dr",
          "timestamp": "2022-11-08T08:49:30.469000Z"
         },
         {
          "empty_slots": 21,
          "extra": {
           "address": "O'Connor Dr / Curity Ave",
           "last_updated": 1667897282,
           "payment": [
            "key",
            "transitcard",
            "phone"
           ],
           "payment-terminal": false,
           "renting": 1,
           "returning": 1,
           "uid": "7603"
          },
          "free_bikes": 3,
          "id": "4e05be8f079a2d69eab3123bd5009561",
          "latitude": 43.707582,
          "longitude": -79.311439,
          "name": "O'Connor Dr / Curity Ave - SMART",
          "timestamp": "2022-11-08T08:49:30.468000Z"
         },
         {
          "empty_slots": 6,
          "extra": {
           "address": "Dawes Rd / Taylor Creek Trl",
           "last_updated": 1667897294,
           "payment": [
            "key",
            "transitcard",
            "creditcard",
            "phone"
           ],
           "payment-terminal": true,
           "renting": 1,
           "returning": 1,
           "uid": "7606"
          },
          "free_bikes": 11,
          "id": "65aefd1c1484ebd15a7827285971734e",
          "latitude": 43.696631,
          "longitude": -79.297436,
          "name": "Dawes Rd / Taylor Creek Trl",
          "timestamp": "2022-11-08T08:49:30.465000Z"
         },
         {
          "empty_slots": 3,
          "extra": {
           "address": "Queen St W / John St",
           "last_updated": 1667897231,
           "payment": [
            "key",
            "transitcard",
            "creditcard",
            "phone"
           ],
           "payment-terminal": true,
           "renting": 1,
           "returning": 1,
           "uid": "7542"
          },
          "free_bikes": 19,
          "id": "14971ec1c8aa07165b67710a2afb84c2",
          "latitude": 43.650077,
          "longitude": -79.391291,
          "name": "Queen St W / John St",
          "timestamp": "2022-11-08T08:49:30.501000Z"
         },
         {
          "empty_slots": 4,
          "extra": {
           "address": "Fairmount Park",
           "last_updated": 1667897202,
           "payment": [
            "key",
            "transitcard",
            "creditcard",
            "phone"
           ],
           "payment-terminal": true,
           "renting": 1,
           "returning": 1,
           "uid": "7607"
          },
          "free_bikes": 15,
          "id": "812af6af42e905fac0cafcf05146f3ba",
          "latitude": 43.6765897,
          "longitude": -79.3163022,
          "name": "Fairmount Park",
          "timestamp": "2022-11-08T08:49:30.464000Z"
         },
         {
          "empty_slots": 12,
          "extra": {
           "address": "Richmond St W / York St",
           "last_updated": 1667897105,
           "payment": [
            "key",
            "transitcard",
            "creditcard",
            "phone"
           ],
           "payment-terminal": true,
           "renting": 1,
           "returning": 1,
           "uid": "7599"
          },
          "free_bikes": 5,
          "id": "165388972f43146138b4f5180eead75a",
          "latitude": 43.650745,
          "longitude": -79.383633,
          "name": "Richmond St W / York St",
          "timestamp": "2022-11-08T08:49:30.370000Z"
         },
         {
          "empty_slots": 7,
          "extra": {
           "address": "Sunnybrook Park",
           "last_updated": 1667897230,
           "payment": [
            "key",
            "transitcard",
            "creditcard",
            "phone"
           ],
           "payment-terminal": true,
           "renting": 1,
           "returning": 1,
           "uid": "7609"
          },
          "free_bikes": 18,
          "id": "3b0ffacf6f626924fb61b0d6d578561a",
          "latitude": 43.720233,
          "longitude": -79.362092,
          "name": "Sunnybrook Park",
          "timestamp": "2022-11-08T08:49:30.462000Z"
         },
         {
          "empty_slots": 18,
          "extra": {
           "address": "Vaughan Rd / Oakwood Ave",
           "last_updated": 1667897229,
           "payment": [
            "key",
            "transitcard",
            "creditcard",
            "phone"
           ],
           "payment-terminal": true,
           "renting": 1,
           "returning": 1,
           "uid": "7618"
          },
          "free_bikes": 1,
          "id": "3dccd3e0582902632ace3ada9481abb0",
          "latitude": 43.6926825,
          "longitude": -79.441042,
          "name": "Vaughan Rd / Oakwood Ave",
          "timestamp": "2022-11-08T08:49:30.233000Z"
         },
         {
          "empty_slots": 12,
          "extra": {
           "address": "Braemar Ave / Eglinton Ave W",
           "last_updated": 1667897194,
           "payment": [
            "key",
            "transitcard",
            "creditcard",
            "phone"
           ],
           "payment-terminal": true,
           "renting": 1,
           "returning": 1,
           "uid": "7619"
          },
          "free_bikes": 2,
          "id": "cca065ea85fe108c99c68759adf859ee",
          "latitude": 43.7041957,
          "longitude": -79.4094472,
          "name": "Braemar Ave / Eglinton Ave W",
          "timestamp": "2022-11-08T08:49:30.234000Z"
         },
         {
          "empty_slots": 10,
          "extra": {
           "address": "Eglinton Ave W / Redpath Av",
           "last_updated": 1667897218,
           "payment": [
            "key",
            "transitcard",
            "creditcard",
            "phone"
           ],
           "payment-terminal": true,
           "renting": 1,
           "returning": 1,
           "uid": "7620"
          },
          "free_bikes": 4,
          "id": "78a43fc13829a61f8db0c57c96572266",
          "latitude": 43.7078691,
          "longitude": -79.39248,
          "name": "Eglinton Ave E / Redpath Ave",
          "timestamp": "2022-11-08T08:49:30.141000Z"
         },
         {
          "empty_slots": 20,
          "extra": {
           "address": "Long Branch GO Station",
           "last_updated": 1667897164,
           "payment": [
            "key",
            "transitcard",
            "creditcard",
            "phone"
           ],
           "payment-terminal": true,
           "renting": 1,
           "returning": 1,
           "uid": "7621"
          },
          "free_bikes": 13,
          "id": "adc02ab76239449300b989b58235c80c",
          "latitude": 43.591561,
          "longitude": -79.545827,
          "name": "Long Branch GO Station",
          "timestamp": "2022-11-08T08:49:30.140000Z"
         },
         {
          "empty_slots": 11,
          "extra": {
           "address": "Marie Curtis Park",
           "last_updated": 1667897232,
           "payment": [
            "key",
            "transitcard",
            "creditcard",
            "phone"
           ],
           "payment-terminal": true,
           "renting": 1,
           "returning": 1,
           "uid": "7622"
          },
          "free_bikes": 10,
          "id": "e4d76b13daa3859403326b474684159d",
          "latitude": 43.5880774,
          "longitude": -79.5432067,
          "name": "Marie Curtis Park",
          "timestamp": "2022-11-08T08:49:30.143000Z"
         },
         {
          "empty_slots": 10,
          "extra": {
           "address": "Guildwood GO Station (South)",
           "last_updated": 1667897345,
           "payment": [
            "key",
            "transitcard",
            "creditcard",
            "phone"
           ],
           "payment-terminal": true,
           "renting": 1,
           "returning": 1,
           "uid": "7624"
          },
          "free_bikes": 1,
          "id": "4a491c94c9b46d3b7927b72a3bad0ab6",
          "latitude": 43.754978,
          "longitude": -79.1971289,
          "name": "Guildwood GO Station (South)",
          "timestamp": "2022-11-08T08:49:30.137000Z"
         },
         {
          "empty_slots": 16,
          "extra": {
           "address": "Chorley Park",
           "last_updated": 1667897178,
           "payment": [
            "key",
            "transitcard",
            "phone"
           ],
           "payment-terminal": false,
           "renting": 1,
           "returning": 1,
           "uid": "7277"
          },
          "free_bikes": 3,
          "id": "0c49d15e80cceca5feb5a2bc84ddc2f5",
          "latitude": 43.6856,
          "longitude": -79.3718,
          "name": "Chorley Park - SMART",
          "timestamp": "2022-11-08T08:49:30.486000Z"
         },
         {
          "empty_slots": 31,
          "extra": {
           "address": "Cherry Beach",
           "last_updated": 1667897235,
           "payment": [
            "key",
            "transitcard",
            "creditcard",
            "phone"
           ],
           "payment-terminal": true,
           "renting": 1,
           "returning": 1,
           "uid": "7344"
          },
          "free_bikes": 16,
          "id": "937a6d6b325ab59d5e0047f4b8eeb0ac",
          "latitude": 43.637764,
          "longitude": -79.345359,
          "name": "Cherry Beach",
          "timestamp": "2022-11-08T08:49:29.846000Z"
         },
         {
          "empty_slots": 27,
          "extra": {
           "address": "Spadina Ave / Harbord St",
           "last_updated": 1667897196,
           "payment": [
            "key",
            "transitcard",
            "phone"
           ],
           "payment-terminal": false,
           "renting": 1,
           "returning": 1,
           "uid": "7285"
          },
          "free_bikes": 7,
          "id": "30c56fdec4d36ab0124297d6f0101490",
          "latitude": 43.6629228,
          "longitude": -79.4018451,
          "name": "Spadina Ave / Harbord St - SMART",
          "timestamp": "2022-11-08T08:49:30.534000Z"
         },
         {
          "empty_slots": 14,
          "extra": {
           "address": "St. George St / Russell St",
           "last_updated": 1667897262,
           "payment": [
            "key",
            "transitcard",
            "phone"
           ],
           "payment-terminal": false,
           "renting": 1,
           "returning": 1,
           "uid": "7250"
          },
          "free_bikes": 0,
          "id": "4a1203492305451d3154777c392532f3",
          "latitude": 43.660296,
          "longitude": -79.397107,
          "name": "St. George St / Russell St - SMART",
          "timestamp": "2022-11-08T08:49:30.085000Z"
         },
         {
          "empty_slots": 18,
          "extra": {
           "address": "Starspray Ave / Lawrence Ave E",
           "last_updated": 1667897107,
           "payment": [
            "key",
            "transitcard",
            "creditcard",
            "phone"
           ],
           "payment-terminal": true,
           "renting": 1,
           "returning": 1,
           "uid": "7617"
          },
          "free_bikes": 5,
          "id": "18205da5f64c1666d9a9fc2edca93988",
          "latitude": 43.788319,
          "longitude": -79.123505,
          "name": "Starspray Ave / Lawrence Ave E",
          "timestamp": "2022-11-08T08:49:30.241000Z"
         },
         {
          "empty_slots": 15,
          "extra": {
           "address": "Rouge Hill GO Station",
           "last_updated": 1667897239,
           "payment": [
            "key",
            "transitcard",
            "creditcard",
            "phone"
           ],
           "payment-terminal": true,
           "renting": 1,
           "returning": 1,
           "uid": "7626"
          },
          "free_bikes": 10,
          "id": "07c0bbd2b5c108bacb3a32250af2a076",
          "latitude": 43.7805505,
          "longitude": -79.1301203,
          "name": "Rouge Hill GO Station",
          "timestamp": "2022-11-08T08:49:30.140000Z"
         },
         {
          "empty_slots": 14,
          "extra": {
           "address": "Colonel Danforth Park",
           "last_updated": 1667897144,
           "payment": [
            "key",
            "transitcard",
            "creditcard",
            "phone"
           ],
           "payment-terminal": true,
           "renting": 1,
           "returning": 1,
           "uid": "7615"
          },
          "free_bikes": 13,
          "id": "a70fe5dd2fa91d6c13d66b5415e9740e",
          "latitude": 43.7777114,
          "longitude": -79.1659711,
          "name": "Colonel Danforth Park",
          "timestamp": "2022-11-08T08:49:30.236000Z"
         },
         {
          "empty_slots": 21,
          "extra": {
           "address": "Morningside Park (Highland Creek Trail)",
           "last_updated": 1667897276,
           "payment": [
            "key",
            "transitcard",
            "creditcard",
            "phone"
           ],
           "payment-terminal": true,
           "renting": 1,
           "returning": 1,
           "uid": "7614"
          },
          "free_bikes": 2,
          "id": "254006acb0d0299f535d3723f656ae67",
          "latitude": 43.779353,
          "longitude": -79.193023,
          "name": "Morningside Park (Highland Creek Trail)",
          "timestamp": "2022-11-08T08:49:30.235000Z"
         },
         {
          "empty_slots": 13,
          "extra": {
           "address": "Livingston Rd / Guildwood Pkwy",
           "last_updated": 1667897250,
           "payment": [
            "key",
            "transitcard",
            "creditcard",
            "phone"
           ],
           "payment-terminal": true,
           "renting": 1,
           "returning": 1,
           "uid": "7612"
          },
          "free_bikes": 6,
          "id": "93699b431ac46c9e98b3b1c74cda8e95",
          "latitude": 43.747854,
          "longitude": -79.199327,
          "name": "Livingston Rd / Guildwood Pkwy",
          "timestamp": "2022-11-08T08:49:30.249000Z"
         },
         {
          "empty_slots": 17,
          "extra": {
           "address": "Livingston Rd (Highland Creek Trail)",
           "last_updated": 1667897350,
           "payment": [
            "key",
            "transitcard",
            "creditcard",
            "phone"
           ],
           "payment-terminal": true,
           "renting": 1,
           "returning": 1,
           "uid": "7613"
          },
          "free_bikes": 10,
          "id": "a3860ef7a1996bfe83863f7086adb77b",
          "latitude": 43.7561681,
          "longitude": -79.2026694,
          "name": "Livingston Rd (Highland Creek Trail)",
          "timestamp": "2022-11-08T08:49:30.256000Z"
         },
         {
          "empty_slots": 14,
          "extra": {
           "address": "Twelfth St / Thirteenth St",
           "last_updated": 1667897143,
           "payment": [
            "key",
            "transitcard",
            "creditcard",
            "phone"
           ],
           "payment-terminal": true,
           "renting": 1,
           "returning": 1,
           "uid": "7630"
          },
          "free_bikes": 9,
          "id": "8bd81a9fcb43f04a9b8f80996312e61e",
          "latitude": 43.6002896,
          "longitude": -79.5108692,
          "name": "Twelfth St / Thirteenth St",
          "timestamp": "2022-11-08T08:49:29.815000Z"
         },
         {
          "empty_slots": 6,
          "extra": {
           "address": "Florence Gell Park",
           "last_updated": 1667897223,
           "payment": [
            "key",
            "transitcard",
            "creditcard",
            "phone"
           ],
           "payment-terminal": true,
           "renting": 1,
           "returning": 1,
           "uid": "7631"
          },
          "free_bikes": 9,
          "id": "ae8f902126cc9ad8f145c66ac996501b",
          "latitude": 43.6615467,
          "longitude": -79.498398,
          "name": "Florence Gell Park",
          "timestamp": "2022-11-08T08:49:29.817000Z"
         },
         {
          "empty_slots": 15,
          "extra": {
           "address": "Wallace Ave / Pauline Ave",
           "last_updated": 1667897254,
           "payment": [
            "key",
            "transitcard",
            "creditcard",
            "phone"
           ],
           "payment-terminal": true,
           "renting": 1,
           "returning": 1,
           "uid": "7522"
          },
          "free_bikes": 1,
          "id": "c5db2e6382e20bec3e404aaf7ea89ccb",
          "latitude": 43.6632257,
          "longitude": -79.4397052,
          "name": "Wallace Ave / Pauline Ave",
          "timestamp": "2022-11-08T08:49:30.102000Z"
         },
         {
          "empty_slots": 8,
          "extra": {
           "address": "Kingston Rd / Beech Ave",
           "last_updated": 1667897324,
           "payment": [
            "key",
            "transitcard",
            "creditcard",
            "phone"
           ],
           "payment-terminal": true,
           "renting": 1,
           "returning": 1,
           "uid": "7610"
          },
          "free_bikes": 6,
          "id": "d747893c66003f215b8502161eb40f5e",
          "latitude": 43.680095,
          "longitude": -79.291714,
          "name": "Kingston Rd / Beech Ave",
          "timestamp": "2022-11-08T08:49:30.242000Z"
         },
         {
          "empty_slots": 14,
          "extra": {
           "address": "Victoria Park Ave / Danforth Ave",
           "last_updated": 1667897218,
           "payment": [
            "key",
            "transitcard",
            "creditcard",
            "phone"
           ],
           "payment-terminal": true,
           "renting": 1,
           "returning": 1,
           "uid": "7611"
          },
          "free_bikes": 4,
          "id": "0153756b9e136b96e730aaa2f048227f",
          "latitude": 43.691468,
          "longitude": -79.288619,
          "name": "Victoria Park Ave / Danforth Ave",
          "timestamp": "2022-11-08T08:49:30.242000Z"
         },
         {
          "empty_slots": 25,
          "extra": {
           "address": "Union Station",
           "last_updated": 1667897193,
           "payment": [
            "key",
            "transitcard",
            "creditcard",
            "phone"
           ],
           "payment-terminal": true,
           "renting": 1,
           "returning": 1,
           "uid": "7033"
          },
          "free_bikes": 17,
          "id": "ded51d399ed59c94c0a464202fc09fe0",
          "latitude": 43.645609,
          "longitude": -79.380386,
          "name": "Union Station",
          "timestamp": "2022-11-08T08:49:30.116000Z"
         },
         {
          "empty_slots": 12,
          "extra": {
           "address": "Hayter St / Laplante Ave",
           "last_updated": 1667897109,
           "payment": [
            "key",
            "transitcard",
            "creditcard",
            "phone"
           ],
           "payment-terminal": true,
           "renting": 1,
           "returning": 1,
           "uid": "7162"
          },
          "free_bikes": 9,
          "id": "b5012608da25a66be2fe79465186ff62",
          "latitude": 43.6591666666667,
          "longitude": -79.3855555555556,
          "name": "Hayter St / Laplante Ave",
          "timestamp": "2022-11-08T08:49:30.525000Z"
         },
         {
          "empty_slots": 8,
          "extra": {
           "address": "Seaton St / Dundas St E",
           "last_updated": 1667897155,
           "payment": [
            "key",
            "transitcard",
            "phone"
           ],
           "payment-terminal": false,
           "renting": 1,
           "returning": 1,
           "uid": "7109"
          },
          "free_bikes": 23,
          "id": "033dd75f330fec10400341177c68036e",
          "latitude": 43.658777,
          "longitude": -79.369596,
          "name": "Seaton St / Dundas St E - SMART",
          "timestamp": "2022-11-08T08:49:30.202000Z"
         },
         {
          "empty_slots": 7,
          "extra": {
           "address": "Lundy Ave / Etienne Brule Park",
           "last_updated": 1667897309,
           "payment": [
            "key",
            "transitcard",
            "creditcard",
            "phone"
           ],
           "payment-terminal": true,
           "renting": 1,
           "returning": 1,
           "uid": "7629"
          },
          "free_bikes": 7,
          "id": "080c6cc1f827d976fd75f9ccf53db95c",
          "latitude": 43.6625395,
          "longitude": -79.5030161,
          "name": "Lundy Ave / Etienne Brule Park",
          "timestamp": "2022-11-08T08:49:30.144000Z"
         },
         {
          "empty_slots": 17,
          "extra": {
           "address": "Chiltern Hill Rd / Eglinton Ave W",
           "last_updated": 1667897112,
           "payment": [
            "key",
            "transitcard",
            "creditcard",
            "phone"
           ],
           "payment-terminal": true,
           "renting": 1,
           "returning": 1,
           "uid": "7632"
          },
          "free_bikes": 0,
          "id": "5f02574f10f8ec2871df512546cf6f65",
          "latitude": 43.7004017,
          "longitude": -79.4275305,
          "name": "Chiltern Hill Rd / Eglinton Ave W",
          "timestamp": "2022-11-08T08:49:29.812000Z"
         },
         {
          "empty_slots": 8,
          "extra": {
           "address": "Torresdale Ave / Antibes Dr",
           "last_updated": 1667897121,
           "payment": [
            "key",
            "transitcard",
            "creditcard",
            "phone"
           ],
           "payment-terminal": true,
           "renting": 1,
           "returning": 1,
           "uid": "7589"
          },
          "free_bikes": 4,
          "id": "3e8872d5357f08ebd702863ab04e913e",
          "latitude": 43.77953,
          "longitude": -79.45233,
          "name": "Torresdale Ave / Antibes Dr",
          "timestamp": "2022-11-08T08:49:30.548000Z"
         },
         {
          "empty_slots": 15,
          "extra": {
           "address": "Ester Shiner Stadium",
           "last_updated": 1667897292,
           "payment": [
            "key",
            "transitcard",
            "creditcard",
            "phone"
           ],
           "payment-terminal": true,
           "renting": 1,
           "returning": 1,
           "uid": "7590"
          },
          "free_bikes": 8,
          "id": "126121fbcccd20a50c8bd94206c7d81b",
          "latitude": 43.7774374,
          "longitude": -79.4447096,
          "name": "Esther Shiner Stadium",
          "timestamp": "2022-11-08T08:49:30.376000Z"
         },
         {
          "empty_slots": 13,
          "extra": {
           "address": "St. George St / Hoskin Ave",
           "last_updated": 1667897187,
           "payment": [
            "key",
            "transitcard",
            "creditcard",
            "phone"
           ],
           "payment-terminal": true,
           "renting": 1,
           "returning": 1,
           "uid": "7190"
          },
          "free_bikes": 0,
          "id": "a2e02c044b1d003adb0993f8da78ee58",
          "latitude": 43.6637403,
          "longitude": -79.39806449999999,
          "name": "St. George St / Hoskin Ave",
          "timestamp": "2022-11-08T08:49:30.261000Z"
         },
         {
          "empty_slots": 7,
          "extra": {
           "address": "Fleming Cres / Bayview Ave",
           "last_updated": 1667897335,
           "payment": [
            "key",
            "transitcard",
            "creditcard",
            "phone"
           ],
           "payment-terminal": true,
           "renting": 1,
           "returning": 1,
           "uid": "7594"
          },
          "free_bikes": 7,
          "id": "70222e00b684e247dd3f982cfb268e2e",
          "latitude": 43.707045,
          "longitude": -79.375437,
          "name": "Fleming Cres / Bayview Ave",
          "timestamp": "2022-11-08T08:49:30.064000Z"
         },
         {
          "empty_slots": 10,
          "extra": {
           "address": "King St E / Victoria St",
           "last_updated": 1667897208,
           "payment": [
            "key",
            "transitcard",
            "creditcard",
            "phone"
           ],
           "payment-terminal": true,
           "renting": 1,
           "returning": 1,
           "uid": "7333"
          },
          "free_bikes": 9,
          "id": "af8ef901117705bf69e591e81d28a15f",
          "latitude": 43.6495789,
          "longitude": -79.3762096,
          "name": "King St E / Victoria St",
          "timestamp": "2022-11-08T08:49:30.427000Z"
         },
         {
          "empty_slots": 17,
          "extra": {
           "address": "Huron/ Harbord St",
           "last_updated": 1667897127,
           "payment": [
            "key",
            "transitcard",
            "creditcard",
            "phone"
           ],
           "payment-terminal": true,
           "renting": 1,
           "returning": 1,
           "uid": "7058"
          },
          "free_bikes": 2,
          "id": "8facbe8d87dc7f1fd7ea00321ba78b50",
          "latitude": 43.6637,
          "longitude": -79.400053,
          "name": "Huron/ Harbord St",
          "timestamp": "2022-11-08T08:49:30.446000Z"
         },
         {
          "empty_slots": 16,
          "extra": {
           "address": "Amaleda Ave / Vaughan Rd",
           "last_updated": 1667897111,
           "payment": [
            "key",
            "transitcard",
            "phone"
           ],
           "payment-terminal": false,
           "renting": 1,
           "returning": 1,
           "uid": "7582"
          },
          "free_bikes": 0,
          "id": "9ee0fa9e2c3afc338a74a6b49af02e41",
          "latitude": 43.690903,
          "longitude": -79.4375028,
          "name": "Alameda Ave / Vaughan Rd - SMART",
          "timestamp": "2022-11-08T08:49:30.553000Z"
         },
         {
          "empty_slots": 0,
          "extra": {
           "address": "Adelaide St W / Strachan Ave",
           "last_updated": 1667897240,
           "payment": [
            "key",
            "transitcard",
            "creditcard",
            "phone"
           ],
           "payment-terminal": true,
           "renting": 1,
           "returning": 1,
           "uid": "7473"
          },
          "free_bikes": 14,
          "id": "bcf5ea04f184984e5cbd8571527636ff",
          "latitude": 43.643253094827294,
          "longitude": -79.41230469904167,
          "name": "Adelaide St W / Strachan Ave",
          "timestamp": "2022-11-08T08:49:30.417000Z"
         },
         {
          "empty_slots": 7,
          "extra": {
           "address": "Royal York Rd / Lake Shore Blvd W",
           "last_updated": 1667897179,
           "payment": [
            "key",
            "transitcard",
            "creditcard",
            "phone"
           ],
           "payment-terminal": true,
           "renting": 1,
           "returning": 1,
           "uid": "7623"
          },
          "free_bikes": 11,
          "id": "9c10c5f861261da626f9707ada4e8e04",
          "latitude": 43.6029904,
          "longitude": -79.4926867,
          "name": "Royal York Rd / Lake Shore Blvd W",
          "timestamp": "2022-11-08T08:49:30.143000Z"
         },
         {
          "empty_slots": 1,
          "extra": {
           "address": "Runnymede Rd / Annette St",
           "last_updated": 1667897105,
           "payment": [
            "key",
            "transitcard",
            "creditcard",
            "phone"
           ],
           "payment-terminal": true,
           "renting": 1,
           "returning": 1,
           "uid": "7635"
          },
          "free_bikes": 12,
          "id": "48a626ef3a6cfbbccdaea283ce5901c6",
          "latitude": 43.6596299,
          "longitude": -79.4799176,
          "name": "Runnymede Rd / Annette St",
          "timestamp": "2022-11-08T08:49:29.823000Z"
         },
         {
          "empty_slots": 7,
          "extra": {
           "address": "Salem Ave / Bloor St W",
           "last_updated": 1667897293,
           "payment": [
            "key",
            "transitcard",
            "creditcard",
            "phone"
           ],
           "payment-terminal": true,
           "renting": 1,
           "returning": 1,
           "uid": "7156"
          },
          "free_bikes": 8,
          "id": "57f2fc67a917b973ca7f31a994e0c63a",
          "latitude": 43.6608333,
          "longitude": -79.43166666666667,
          "name": "Salem Ave / Bloor St W",
          "timestamp": "2022-11-08T08:49:30.385000Z"
         },
         {
          "empty_slots": 20,
          "extra": {
           "address": "Dufferin St / Bloor St",
           "last_updated": 1667897291,
           "payment": [
            "key",
            "transitcard",
            "creditcard",
            "phone"
           ],
           "payment-terminal": true,
           "renting": 1,
           "returning": 1,
           "uid": "7157"
          },
          "free_bikes": 2,
          "id": "8ef3bc5ab6805d2c5411023f4318d778",
          "latitude": 43.66083333333333,
          "longitude": -79.43583333333333,
          "name": "Dufferin St / Bloor St",
          "timestamp": "2022-11-08T08:49:30.384000Z"
         },
         {
          "empty_slots": 13,
          "extra": {
           "address": "Davisville Ave / Pailton Cres",
           "last_updated": 1667897216,
           "payment": [
            "key",
            "transitcard",
            "creditcard",
            "phone"
           ],
           "payment-terminal": true,
           "renting": 1,
           "returning": 1,
           "uid": "7539"
          },
          "free_bikes": 6,
          "id": "407c8fc47ef8f822af020375a4f7dc79",
          "latitude": 43.69933,
          "longitude": -79.39199,
          "name": "Davisville Ave / Pailton Cres",
          "timestamp": "2022-11-08T08:49:30.269000Z"
         },
         {
          "empty_slots": 1,
          "extra": {
           "address": "345 High Park Ave",
           "last_updated": 1667897100,
           "payment": [
            "key",
            "transitcard",
            "creditcard",
            "phone"
           ],
           "payment-terminal": true,
           "renting": 1,
           "returning": 1,
           "uid": "7581"
          },
          "free_bikes": 12,
          "id": "3afcafcea065abef8dd2beafcb78c7bd",
          "latitude": 43.6653032,
          "longitude": -79.4701178,
          "name": "High Park Ave / Dundas St W",
          "timestamp": "2022-11-08T08:49:30.553000Z"
         },
         {
          "empty_slots": 18,
          "extra": {
           "address": "10 Judson St",
           "last_updated": 1667897115,
           "payment": [
            "key",
            "transitcard",
            "creditcard",
            "phone"
           ],
           "payment-terminal": true,
           "renting": 1,
           "returning": 1,
           "uid": "7637"
          },
          "free_bikes": 1,
          "id": "e6588e3838b256ab32f9b7db54be5a66",
          "latitude": 43.6162721,
          "longitude": -79.4990363,
          "name": "Judson St / Royal York",
          "timestamp": "2022-11-08T08:49:29.820000Z"
         },
         {
          "empty_slots": 15,
          "extra": {
           "address": "Wilket Creek Park",
           "last_updated": 1667896594,
           "payment": [
            "key",
            "transitcard",
            "creditcard",
            "phone"
           ],
           "payment-terminal": true,
           "renting": 1,
           "returning": 1,
           "uid": "7608"
          },
          "free_bikes": 12,
          "id": "b29cba584424066f83f374b2c3fe1780",
          "latitude": 43.720645,
          "longitude": -79.355474,
          "name": "Wilket Creek Park",
          "timestamp": "2022-11-08T08:49:30.463000Z"
         },
         {
          "empty_slots": 11,
          "extra": {
           "address": "2659 Dundas St W",
           "last_updated": 1667897092,
           "payment": [
            "key",
            "transitcard",
            "creditcard",
            "phone"
           ],
           "payment-terminal": true,
           "renting": 1,
           "returning": 1,
           "uid": "7641"
          },
          "free_bikes": 4,
          "id": "87722dd793400f7a61a96a59b9133e4f",
          "latitude": 43.6641174,
          "longitude": -79.4588522,
          "name": "Annette St / Dundas W",
          "timestamp": "2022-11-08T08:49:30.514000Z"
         },
         {
          "empty_slots": 2,
          "extra": {
           "address": "1266 Queen St W",
           "last_updated": 1667897115,
           "payment": [
            "key",
            "transitcard",
            "creditcard",
            "phone"
           ],
           "payment-terminal": true,
           "renting": 1,
           "returning": 1,
           "uid": "7633"
          },
          "free_bikes": 13,
          "id": "d6d49f7d4ddb2cd466938a1b424c1412",
          "latitude": 43.6424558,
          "longitude": -79.4296346,
          "name": "Noble St / Queen St W",
          "timestamp": "2022-11-08T08:49:29.813000Z"
         },
         {
          "empty_slots": 10,
          "extra": {
           "address": "80 Oriole Parkway",
           "last_updated": 1667897291,
           "payment": [
            "key",
            "transitcard",
            "creditcard",
            "phone"
           ],
           "payment-terminal": true,
           "renting": 1,
           "returning": 1,
           "uid": "7643"
          },
          "free_bikes": 9,
          "id": "51987cd2ab0d05eeb2f79bcb596e348b",
          "latitude": 43.6954486,
          "longitude": -79.4026176,
          "name": "Oriole Pkwy / Kilbarry Rd",
          "timestamp": "2022-11-08T08:49:30.512000Z"
         },
         {
          "empty_slots": 12,
          "extra": {
           "address": "108 East Lynn Avenue",
           "last_updated": 1667897351,
           "payment": [
            "key",
            "transitcard",
            "creditcard",
            "phone"
           ],
           "payment-terminal": true,
           "renting": 1,
           "returning": 1,
           "uid": "7644"
          },
          "free_bikes": 3,
          "id": "b20ef84c05107095581cdd50b2bb4a2c",
          "latitude": 43.6850809,
          "longitude": -79.3149901,
          "name": "East Lynn Ave / Danforth Ave",
          "timestamp": "2022-11-08T08:49:30.518000Z"
         },
         {
          "empty_slots": 15,
          "extra": {
           "address": "840 Danforth Ave",
           "last_updated": 1667897190,
           "payment": [
            "key",
            "transitcard",
            "phone"
           ],
           "payment-terminal": false,
           "renting": 1,
           "returning": 1,
           "uid": "7596"
          },
          "free_bikes": 1,
          "id": "c4a01864ecb66e9b1ee3023d3205a281",
          "latitude": 43.6800218,
          "longitude": -79.3405681,
          "name": "Langford Ave / Danforth Ave - SMART",
          "timestamp": "2022-11-08T08:49:30.062000Z"
         },
         {
          "empty_slots": 11,
          "extra": {
           "address": "1295-1307 Military Trail",
           "last_updated": 1667897100,
           "payment": [
            "key",
            "transitcard",
            "creditcard",
            "phone"
           ],
           "payment-terminal": true,
           "renting": 1,
           "returning": 1,
           "uid": "7645"
          },
          "free_bikes": 5,
          "id": "3c7236f4a281b569b57f40c0bf29c4ca",
          "latitude": 43.7842419,
          "longitude": -79.1849889,
          "name": "University of Toronto Scarborough",
          "timestamp": "2022-11-08T08:49:30.517000Z"
         },
         {
          "empty_slots": 0,
          "extra": {
           "address": "Lake Shore Blvd E / Parliament St",
           "last_updated": 1667897299,
           "payment": [
            "key",
            "transitcard",
            "creditcard",
            "phone"
           ],
           "payment-terminal": true,
           "renting": 1,
           "returning": 1,
           "uid": "7291"
          },
          "free_bikes": 14,
          "id": "df0ee6e75eb32441818a11d990fa844a",
          "latitude": 43.6451308,
          "longitude": -79.36536439999999,
          "name": "190 Queens Quay E",
          "timestamp": "2022-11-08T08:49:30.390000Z"
         },
         {
          "empty_slots": 8,
          "extra": {
           "address": "324 Cherry St",
           "last_updated": 1667897318,
           "payment": [
            "key",
            "transitcard",
            "creditcard",
            "phone"
           ],
           "payment-terminal": true,
           "renting": 1,
           "returning": 1,
           "uid": "7492"
          },
          "free_bikes": 8,
          "id": "85057ad3c01264f6156b498b79127be3",
          "latitude": 43.6482995,
          "longitude": -79.3552533,
          "name": "324 Cherry St",
          "timestamp": "2022-11-08T08:49:30.161000Z"
         },
         {
          "empty_slots": 6,
          "extra": {
           "address": "117 Elm Street",
           "last_updated": 1667897126,
           "payment": [
            "key",
            "transitcard",
            "creditcard",
            "phone"
           ],
           "payment-terminal": true,
           "renting": 1,
           "returning": 1,
           "uid": "7647"
          },
          "free_bikes": 11,
          "id": "9703f67f16a349591949e76da3714b61",
          "latitude": 43.65637299999999,
          "longitude": -79.38781039999999,
          "name": "Elm St/ University Ave (East Side)",
          "timestamp": "2022-11-08T08:49:30.516000Z"
         },
         {
          "empty_slots": 11,
          "extra": {
           "address": "Walton St / Elizabeth St",
           "last_updated": 1667897124,
           "payment": [
            "key",
            "transitcard",
            "phone"
           ],
           "payment-terminal": false,
           "renting": 1,
           "returning": 1,
           "uid": "7263"
          },
          "free_bikes": 6,
          "id": "7dca1895f7959f80ebcfda3226669c97",
          "latitude": 43.657838,
          "longitude": -79.38631,
          "name": "Walton St / Elizabeth St - SMART",
          "timestamp": "2022-11-08T08:49:29.887000Z"
         },
         {
          "empty_slots": 15,
          "extra": {
           "address": "Waterfront Trail (Rouge Hill)",
           "last_updated": 1667897143,
           "payment": [
            "key",
            "transitcard",
            "creditcard",
            "phone"
           ],
           "payment-terminal": true,
           "renting": 1,
           "returning": 1,
           "uid": "7616"
          },
          "free_bikes": 3,
          "id": "b1685246ce6cfe5b9d621a1991c3cedb",
          "latitude": 43.778015,
          "longitude": -79.131911,
          "name": "Waterfront Trail (Rouge Hill)",
          "timestamp": "2022-11-08T08:49:30.236000Z"
         },
         {
          "empty_slots": 10,
          "extra": {
           "address": "St Clair Ave W / Gunns Rd",
           "last_updated": 1667897206,
           "payment": [
            "key",
            "transitcard",
            "creditcard",
            "phone"
           ],
           "payment-terminal": true,
           "renting": 1,
           "returning": 1,
           "uid": "7565"
          },
          "free_bikes": 13,
          "id": "c0538b0581a59e1e7321a382b5ab17ab",
          "latitude": 43.672079,
          "longitude": -79.470171,
          "name": "St Clair Ave W / Gunns Rd",
          "timestamp": "2022-11-08T08:49:30.175000Z"
         },
         {
          "empty_slots": 13,
          "extra": {
           "address": "Pape Ave / Gamble Ave",
           "last_updated": 1667897184,
           "payment": [
            "key",
            "transitcard",
            "creditcard",
            "phone"
           ],
           "payment-terminal": true,
           "renting": 1,
           "returning": 1,
           "uid": "7348"
          },
          "free_bikes": 5,
          "id": "052763ac927bce9197aa6381f508576f",
          "latitude": 43.690237,
          "longitude": -79.350119,
          "name": "Pape Ave / Gamble Ave",
          "timestamp": "2022-11-08T08:49:29.855000Z"
         },
         {
          "empty_slots": 6,
          "extra": {
           "address": "Roehampton Ave / Mount Pleasant Rd - SMART",
           "last_updated": 1667897306,
           "payment": [
            "key",
            "transitcard",
            "creditcard",
            "phone"
           ],
           "payment-terminal": true,
           "renting": 1,
           "returning": 1,
           "uid": "7404"
          },
          "free_bikes": 12,
          "id": "0faf9e7c7d5403b8f7dc7574fa6d0c6e",
          "latitude": 43.70942,
          "longitude": -79.39139,
          "name": "Roehampton Ave / Mount Pleasant Rd",
          "timestamp": "2022-11-08T08:49:30.183000Z"
         },
         {
          "empty_slots": 15,
          "extra": {
           "address": "Church St / Bloor St E",
           "last_updated": 1667897109,
           "payment": [
            "key",
            "transitcard",
            "creditcard",
            "phone"
           ],
           "payment-terminal": true,
           "renting": 1,
           "returning": 1,
           "uid": "7034"
          },
          "free_bikes": 0,
          "id": "f3aa2a6bb24e5012b030c6810cf39964",
          "latitude": 43.671389,
          "longitude": -79.382919,
          "name": "Church St / Bloor St E",
          "timestamp": "2022-11-08T08:49:30.117000Z"
         },
         {
          "empty_slots": 22,
          "extra": {
           "address": "200 Bloor St. E.",
           "last_updated": 1667897223,
           "payment": [
            "key",
            "transitcard",
            "creditcard",
            "phone"
           ],
           "payment-terminal": true,
           "renting": 1,
           "returning": 1,
           "uid": "7332"
          },
          "free_bikes": 1,
          "id": "6fcf6974fe1a08b20ab7f70d70da6cb0",
          "latitude": 43.671561,
          "longitude": -79.38117,
          "name": "200 Bloor St. E.",
          "timestamp": "2022-11-08T08:49:30.428000Z"
         },
         {
          "empty_slots": 5,
          "extra": {
           "address": "Sherbourne St / Isabella St",
           "last_updated": 1667897157,
           "payment": [
            "key",
            "transitcard",
            "creditcard",
            "phone"
           ],
           "payment-terminal": true,
           "renting": 1,
           "returning": 1,
           "uid": "7311"
          },
          "free_bikes": 7,
          "id": "99585d4f6ec47a797c42027b8c246d25",
          "latitude": 43.669576,
          "longitude": -79.375961,
          "name": "Sherbourne St / Isabella St",
          "timestamp": "2022-11-08T08:49:30.472000Z"
         },
         {
          "empty_slots": 11,
          "extra": {
           "address": "Bloor St W / Balmuto St",
           "last_updated": 1667897114,
           "payment": [
            "key",
            "transitcard",
            "creditcard",
            "phone"
           ],
           "payment-terminal": true,
           "renting": 1,
           "returning": 1,
           "uid": "7276"
          },
          "free_bikes": 0,
          "id": "9aa46dbe18122201a50183e5602a7c9e",
          "latitude": 43.669903,
          "longitude": -79.387802,
          "name": "Bloor St W / Balmuto St",
          "timestamp": "2022-11-08T08:49:30.486000Z"
         },
         {
          "empty_slots": 14,
          "extra": {
           "address": "Moore Park",
           "last_updated": 1667897302,
           "payment": [
            "key",
            "transitcard",
            "creditcard",
            "phone"
           ],
           "payment-terminal": true,
           "renting": 1,
           "returning": 1,
           "uid": "7595"
          },
          "free_bikes": 0,
          "id": "fb2618cee3456166ccc52c3ceeae13c6",
          "latitude": 43.693256,
          "longitude": -79.383238,
          "name": "Moore Park",
          "timestamp": "2022-11-08T08:49:30.063000Z"
         },
         {
          "empty_slots": 6,
          "extra": {
           "address": "3 Pacific Avenue",
           "last_updated": 1667897314,
           "payment": [
            "key",
            "transitcard",
            "creditcard",
            "phone"
           ],
           "payment-terminal": true,
           "renting": 1,
           "returning": 1,
           "uid": "7654"
          },
          "free_bikes": 0,
          "id": "e473bffc39f79fdd42e27583ccbe0709",
          "latitude": 43.65412449999999,
          "longitude": -79.4636388,
          "name": "Bloor St W / Pacific Ave",
          "timestamp": "2022-11-08T08:49:30.373000Z"
         },
         {
          "empty_slots": 15,
          "extra": {
           "address": "896 Danforth Avenue",
           "last_updated": 1667897342,
           "payment": [
            "key",
            "transitcard",
            "creditcard",
            "phone"
           ],
           "payment-terminal": true,
           "renting": 1,
           "returning": 1,
           "uid": "7655"
          },
          "free_bikes": 0,
          "id": "3d71c9ff5bcbaad794a49115e11786e3",
          "latitude": 43.680207,
          "longitude": -79.339243,
          "name": "Danforth Ave / Dewhurst Blvd",
          "timestamp": "2022-11-08T08:49:30.471000Z"
         },
         {
          "empty_slots": 6,
          "extra": {
           "address": "Bloor St W / Brock Av",
           "last_updated": 1667897350,
           "payment": [
            "key",
            "transitcard",
            "creditcard",
            "phone"
           ],
           "payment-terminal": true,
           "renting": 1,
           "returning": 1,
           "uid": "7656"
          },
          "free_bikes": 5,
          "id": "fea3f9dfbcc18225728f10913c5d3d5b",
          "latitude": 43.6589882,
          "longitude": -79.438715,
          "name": "Bloor St W / Brock Ave",
          "timestamp": "2022-11-08T08:49:30.374000Z"
         },
         {
          "empty_slots": 15,
          "extra": {
           "address": "Davenport Rd / Oakwood Rd - SMART",
           "last_updated": 1667897181,
           "payment": [
            "key",
            "transitcard",
            "phone"
           ],
           "payment-terminal": false,
           "renting": 1,
           "returning": 1,
           "uid": "7327"
          },
          "free_bikes": 0,
          "id": "f3a880cb5277285662d2d68f5523488d",
          "latitude": 43.6741219,
          "longitude": -79.4352208,
          "name": "Davenport Rd / Oakwood Rd - SMART",
          "timestamp": "2022-11-08T08:49:30.188000Z"
         },
         {
          "empty_slots": 0,
          "extra": {
           "address": "1 Market St",
           "last_updated": 1667897153,
           "payment": [
            "key",
            "transitcard",
            "creditcard",
            "phone"
           ],
           "payment-terminal": true,
           "renting": 1,
           "returning": 1,
           "uid": "7657"
          },
          "free_bikes": 18,
          "id": "844d02b2b7dfdabf7bd044c3edf050d5",
          "latitude": 43.6469928,
          "longitude": -79.3706665,
          "name": "1 Market St - SMART",
          "timestamp": "2022-11-08T08:49:30.375000Z"
         },
         {
          "empty_slots": 23,
          "extra": {
           "address": "Brick Works",
           "last_updated": 1667897099,
           "payment": [
            "key",
            "transitcard",
            "creditcard",
            "phone"
           ],
           "payment-terminal": true,
           "renting": 1,
           "returning": 1,
           "uid": "7601"
          },
          "free_bikes": 2,
          "id": "3d38244751d3c44617f0066466a3bc7d",
          "latitude": 43.683884,
          "longitude": -79.36647,
          "name": "Brick Works",
          "timestamp": "2022-11-08T08:49:30.470000Z"
         },
         {
          "empty_slots": 12,
          "extra": {
           "address": "600 University Ave",
           "last_updated": 1667897325,
           "payment": [
            "key",
            "transitcard",
            "phone"
           ],
           "payment-terminal": false,
           "renting": 1,
           "returning": 1,
           "uid": "7634"
          },
          "free_bikes": 6,
          "id": "ff06d212a977a2d3ebb441f4b690b852",
          "latitude": 43.6578449,
          "longitude": -79.3899265,
          "name": "University Ave / Gerrard St W (WEST) - SMART",
          "timestamp": "2022-11-08T08:49:29.821000Z"
         },
         {
          "empty_slots": 10,
          "extra": {
           "address": "University Ave / King St W",
           "last_updated": 1667897279,
           "payment": [
            "key",
            "transitcard",
            "phone"
           ],
           "payment-terminal": false,
           "renting": 1,
           "returning": 1,
           "uid": "7284"
          },
          "free_bikes": 4,
          "id": "2b4c28b78247a24037bcff2ad8fcc605",
          "latitude": 43.6477785,
          "longitude": -79.3847928,
          "name": "University Ave / King St W - SMART",
          "timestamp": "2022-11-08T08:49:30.534000Z"
         },
         {
          "empty_slots": 11,
          "extra": {
           "address": "Amroth Ave / Danforth Ave",
           "last_updated": 1667897324,
           "payment": [
            "key",
            "transitcard",
            "creditcard",
            "phone"
           ],
           "payment-terminal": true,
           "renting": 1,
           "returning": 1,
           "uid": "7659"
          },
          "free_bikes": 8,
          "id": "9d7e8386839f9d834777d1cf0a8482c1",
          "latitude": 43.6856128,
          "longitude": -79.31168269999999,
          "name": "Amroth Ave / Danforth Ave",
          "timestamp": "2022-11-08T08:49:30.473000Z"
         },
         {
          "empty_slots": 10,
          "extra": {
           "address": "Summerhill Station",
           "last_updated": 1667897159,
           "payment": [
            "key",
            "transitcard",
            "creditcard",
            "phone"
           ],
           "payment-terminal": true,
           "renting": 1,
           "returning": 1,
           "uid": "7133"
          },
          "free_bikes": 0,
          "id": "10722d0c5054c529a0d71f9eb2c89f92",
          "latitude": 43.681944,
          "longitude": -79.390556,
          "name": "Summerhill Station",
          "timestamp": "2022-11-08T08:49:30.122000Z"
         },
         {
          "empty_slots": 8,
          "extra": {
           "address": "Highfield Rd / Gerrard St E",
           "last_updated": 1667897193,
           "payment": [
            "key",
            "transitcard",
            "creditcard",
            "phone"
           ],
           "payment-terminal": true,
           "renting": 1,
           "returning": 1,
           "uid": "7571"
          },
          "free_bikes": 11,
          "id": "519ee649fcd1ad28beade12953db3732",
          "latitude": 43.671771,
          "longitude": -79.324961,
          "name": "Highfield Rd / Gerrard St E",
          "timestamp": "2022-11-08T08:49:30.402000Z"
         },
         {
          "empty_slots": 1,
          "extra": {
           "address": "Niagara St / Richmond St W",
           "last_updated": 1667897346,
           "payment": [
            "key",
            "transitcard",
            "creditcard",
            "phone"
           ],
           "payment-terminal": true,
           "renting": 1,
           "returning": 1,
           "uid": "7046"
          },
          "free_bikes": 22,
          "id": "aec7195bb028b992ab8536f51c7d37f8",
          "latitude": 43.64534,
          "longitude": -79.409597,
          "name": "Niagara St / Richmond St W",
          "timestamp": "2022-11-08T08:49:29.790000Z"
         },
         {
          "empty_slots": 5,
          "extra": {
           "address": "85 Beaty Avenue",
           "last_updated": 1667897274,
           "payment": [
            "key",
            "transitcard",
            "creditcard",
            "phone"
           ],
           "payment-terminal": true,
           "renting": 1,
           "returning": 1,
           "uid": "7662"
          },
          "free_bikes": 13,
          "id": "b1c628d5509021c582f104bc3089e514",
          "latitude": 43.6393107,
          "longitude": -79.4408141,
          "name": "Beaty Ave / Queen St W",
          "timestamp": "2022-11-08T08:49:30.204000Z"
         },
         {
          "empty_slots": 14,
          "extra": {
           "address": "163 Fallingbrook Rd",
           "last_updated": 1667897320,
           "payment": [
            "key",
            "transitcard",
            "creditcard",
            "phone"
           ],
           "payment-terminal": true,
           "renting": 1,
           "returning": 1,
           "uid": "7068"
          },
          "free_bikes": 7,
          "id": "f889b35bb8077eaa77f35bed4d524e89",
          "latitude": 43.68306889999999,
          "longitude": -79.279682,
          "name": "Blantyre Park",
          "timestamp": "2022-11-08T08:49:30.209000Z"
         },
         {
          "empty_slots": 1,
          "extra": {
           "address": "Queen St E / Rushbrooke Ave",
           "last_updated": 1667897245,
           "payment": [
            "key",
            "transitcard",
            "creditcard",
            "phone"
           ],
           "payment-terminal": true,
           "renting": 1,
           "returning": 1,
           "uid": "7258"
          },
          "free_bikes": 14,
          "id": "7e8db6cca9980f9b6daf293197f25fc4",
          "latitude": 43.6626628,
          "longitude": -79.3323698,
          "name": "Queen St E / Rushbrooke Ave",
          "timestamp": "2022-11-08T08:49:30.097000Z"
         },
         {
          "empty_slots": 14,
          "extra": {
           "address": "Donlands Station",
           "last_updated": 1667897304,
           "payment": [
            "key",
            "transitcard",
            "creditcard",
            "phone"
           ],
           "payment-terminal": true,
           "renting": 1,
           "returning": 1,
           "uid": "7091"
          },
          "free_bikes": 1,
          "id": "34ec939e3772ab6f8f9be4ae0c98f3a2",
          "latitude": 43.681114,
          "longitude": -79.3373885,
          "name": "Donlands Station",
          "timestamp": "2022-11-08T08:49:30.491000Z"
         },
         {
          "empty_slots": 3,
          "extra": {
           "address": "Lynn Williams St / East Liberty St",
           "last_updated": 1667897165,
           "payment": [
            "key",
            "transitcard",
            "creditcard",
            "phone"
           ],
           "payment-terminal": true,
           "renting": 1,
           "returning": 1,
           "uid": "7523"
          },
          "free_bikes": 11,
          "id": "1cc9575bb686fa4a3eb7f4afbdea5073",
          "latitude": 43.638925,
          "longitude": -79.4168659,
          "name": "Lynn Williams St / East Liberty St - SMART",
          "timestamp": "2022-11-08T08:49:30.106000Z"
         },
         {
          "empty_slots": 1,
          "extra": {
           "address": "Eastwood Rd / Woodbine Ave",
           "last_updated": 1667897186,
           "payment": [
            "key",
            "transitcard",
            "phone"
           ],
           "payment-terminal": false,
           "renting": 1,
           "returning": 1,
           "uid": "7487"
          },
          "free_bikes": 13,
          "id": "cf43a77e34066db8b926a42b49814963",
          "latitude": 43.676216,
          "longitude": -79.309395,
          "name": "Eastwood Rd / Woodbine Ave - SMART",
          "timestamp": "2022-11-08T08:49:30.397000Z"
         },
         {
          "empty_slots": 18,
          "extra": {
           "address": "Victoria St / Queen St E",
           "last_updated": 1667897140,
           "payment": [
            "key",
            "transitcard",
            "creditcard",
            "phone"
           ],
           "payment-terminal": true,
           "renting": 1,
           "returning": 1,
           "uid": "7406"
          },
          "free_bikes": 5,
          "id": "cba34e4c09c97a6336b871002f6ffb41",
          "latitude": 43.652822,
          "longitude": -79.378208,
          "name": "Victoria St / Queen St E",
          "timestamp": "2022-11-08T08:49:30.184000Z"
         },
         {
          "empty_slots": 11,
          "extra": {
           "address": "Dundas St E / Victoria St",
           "last_updated": 1667897248,
           "payment": [
            "key",
            "transitcard",
            "creditcard",
            "phone"
           ],
           "payment-terminal": true,
           "renting": 1,
           "returning": 1,
           "uid": "7472"
          },
          "free_bikes": 29,
          "id": "ff29bbf1b696240502d950bcaadde337",
          "latitude": 43.656311,
          "longitude": -79.379158,
          "name": "Dundas St E / Victoria St",
          "timestamp": "2022-11-08T08:49:30.416000Z"
         },
         {
          "empty_slots": 11,
          "extra": {
           "address": "26 Dundas Street East",
           "last_updated": 1667897165,
           "payment": [
            "key",
            "transitcard",
            "creditcard",
            "phone"
           ],
           "payment-terminal": true,
           "renting": 1,
           "returning": 1,
           "uid": "7660"
          },
          "free_bikes": 7,
          "id": "48f8a355073b35f8720761c96f77d86b",
          "latitude": 43.656633,
          "longitude": -79.379625,
          "name": "285 Victoria St",
          "timestamp": "2022-11-08T08:49:30.506000Z"
         },
         {
          "empty_slots": 12,
          "extra": {
           "address": "Gerrard St E / Victoria Park Ave",
           "last_updated": 1667897324,
           "payment": [
            "key",
            "transitcard",
            "phone"
           ],
           "payment-terminal": false,
           "renting": 1,
           "returning": 1,
           "uid": "7504"
          },
          "free_bikes": 2,
          "id": "c147f315755b1b1e79467fab3aaf3cb4",
          "latitude": 43.686962,
          "longitude": -79.286864,
          "name": "Gerrard St E / Victoria Park Ave - SMART",
          "timestamp": "2022-11-08T08:49:30.431000Z"
         },
         {
          "empty_slots": 13,
          "extra": {
           "address": "98 Glenvale Boulevard",
           "last_updated": 1667897146,
           "payment": [
            "key",
            "transitcard",
            "creditcard",
            "phone"
           ],
           "payment-terminal": true,
           "renting": 1,
           "returning": 1,
           "uid": "7663"
          },
          "free_bikes": 4,
          "id": "199a939521be6324c802d8d50ebeb4a8",
          "latitude": 43.718039,
          "longitude": -79.371914,
          "name": "Kilgour Rd / Rumsey Rd",
          "timestamp": "2022-11-08T08:49:30.203000Z"
         },
         {
          "empty_slots": 14,
          "extra": {
           "address": "Bay St / Scollard St",
           "last_updated": 1667897175,
           "payment": [
            "key",
            "transitcard",
            "creditcard",
            "phone"
           ],
           "payment-terminal": true,
           "renting": 1,
           "returning": 1,
           "uid": "7127"
          },
          "free_bikes": 0,
          "id": "04cadbe0f9b27f89f5fa6f6dbdea0883",
          "latitude": 43.672152,
          "longitude": -79.39018,
          "name": "Bay St / Scollard St",
          "timestamp": "2022-11-08T08:49:29.801000Z"
         },
         {
          "empty_slots": 2,
          "extra": {
           "address": "Weston Rd / St Clair Ave W",
           "last_updated": 1667897135,
           "payment": [
            "key",
            "transitcard",
            "creditcard",
            "phone"
           ],
           "payment-terminal": true,
           "renting": 1,
           "returning": 1,
           "uid": "7566"
          },
          "free_bikes": 17,
          "id": "be90e51f9b29e31ae1d40a8dea028dcf",
          "latitude": 43.673019,
          "longitude": -79.467994,
          "name": "Weston Rd / St Clair Ave W - SMART",
          "timestamp": "2022-11-08T08:49:30.173000Z"
         },
         {
          "empty_slots": 15,
          "extra": {
           "address": "60 Raab Blvd",
           "last_updated": 1667897132,
           "payment": [
            "key",
            "transitcard",
            "creditcard",
            "phone"
           ],
           "payment-terminal": true,
           "renting": 1,
           "returning": 1,
           "uid": "7664"
          },
          "free_bikes": 0,
          "id": "4704fb679220b3879edfa3a853d55fbd",
          "latitude": 43.72268,
          "longitude": -79.37644,
          "name": "Sunnybrook Health Centre - L Wing",
          "timestamp": "2022-11-08T08:49:30.205000Z"
         },
         {
          "empty_slots": 22,
          "extra": {
           "address": "505 College Street",
           "last_updated": 1667897162,
           "payment": [
            "key",
            "transitcard",
            "phone"
           ],
           "payment-terminal": false,
           "renting": 1,
           "returning": 1,
           "uid": "7666"
          },
          "free_bikes": 3,
          "id": "8e40f60a48a909297b4114be18956d5c",
          "latitude": 43.6504218,
          "longitude": -79.4407647,
          "name": "Dundas St W / St Helen Ave - SMART",
          "timestamp": "2022-11-08T08:49:30.207000Z"
         },
         {
          "empty_slots": 17,
          "extra": {
           "address": "1451 Yonge Street",
           "last_updated": 1667897302,
           "payment": [
            "key",
            "transitcard",
            "creditcard",
            "phone"
           ],
           "payment-terminal": true,
           "renting": 1,
           "returning": 1,
           "uid": "7642"
          },
          "free_bikes": 0,
          "id": "2ad52acd0c231c654b488e03060224f2",
          "latitude": 43.68850459999999,
          "longitude": -79.3940052,
          "name": "Yonge St / St Clair Ave",
          "timestamp": "2022-11-08T08:49:30.513000Z"
         },
         {
          "empty_slots": 10,
          "extra": {
           "address": "Spadina Ave / Blue Jays Way",
           "last_updated": 1667897136,
           "payment": [
            "key",
            "transitcard",
            "creditcard",
            "phone"
           ],
           "payment-terminal": true,
           "renting": 1,
           "returning": 1,
           "uid": "7416"
          },
          "free_bikes": 19,
          "id": "1a0670e4e55fe4259c105c6803651334",
          "latitude": 43.641705,
          "longitude": -79.393295,
          "name": "Spadina Ave / Blue Jays Way",
          "timestamp": "2022-11-08T08:49:29.894000Z"
         },
         {
          "empty_slots": 18,
          "extra": {
           "address": "The Royal Ontario Museum (Bloor St Entrance)",
           "last_updated": 1667897136,
           "payment": [
            "key",
            "transitcard",
            "creditcard",
            "phone"
           ],
           "payment-terminal": true,
           "renting": 1,
           "returning": 1,
           "uid": "7251"
          },
          "free_bikes": 1,
          "id": "9091e1c6466526c16391af6465e09e88",
          "latitude": 43.668372,
          "longitude": -79.393586,
          "name": "The Royal Ontario Museum (Bloor St Entrance)",
          "timestamp": "2022-11-08T08:49:30.088000Z"
         },
         {
          "empty_slots": 14,
          "extra": {
           "address": "2511 bloor st w",
           "last_updated": 1667897229,
           "payment": [
            "key",
            "transitcard",
            "creditcard",
            "phone"
           ],
           "payment-terminal": true,
           "renting": 1,
           "returning": 1,
           "uid": "7636"
          },
          "free_bikes": 9,
          "id": "9d145fd59618d68dab06dba1c8900fe9",
          "latitude": 43.647663,
          "longitude": -79.487583,
          "name": "Bloor St W / Riverside Ave",
          "timestamp": "2022-11-08T08:49:29.818000Z"
         },
         {
          "empty_slots": 7,
          "extra": {
           "address": "Simcoe St / Dundas St W",
           "last_updated": 1667897215,
           "payment": [
            "key",
            "transitcard",
            "creditcard",
            "phone"
           ],
           "payment-terminal": true,
           "renting": 1,
           "returning": 1,
           "uid": "7668"
          },
          "free_bikes": 13,
          "id": "2e76b4a4dddb23bf2da7839d10137048",
          "latitude": 43.6558557,
          "longitude": -79.3894093,
          "name": "Simcoe St / Dundas St W - SMART",
          "timestamp": "2022-11-08T08:49:30.474000Z"
         },
         {
          "empty_slots": 10,
          "extra": {
           "address": "Test",
           "last_updated": 1667897206,
           "payment": [
            "key",
            "transitcard",
            "creditcard",
            "phone"
           ],
           "payment-terminal": true,
           "renting": 1,
           "returning": 1,
           "uid": "7665"
          },
          "free_bikes": 0,
          "id": "ea3315c38d0d6b79d5e38457850a1cfc",
          "latitude": 43.720998,
          "longitude": -79.377456,
          "name": "Sunnybrook Health Centre - S Wing",
          "timestamp": "2022-11-08T08:49:30.205000Z"
         },
         {
          "empty_slots": 8,
          "extra": {
           "address": "3180 Yonge Street",
           "last_updated": 1667897119,
           "payment": [
            "key",
            "transitcard",
            "phone"
           ],
           "payment-terminal": false,
           "renting": 1,
           "returning": 1,
           "uid": "7670"
          },
          "free_bikes": 3,
          "id": "9e3c071c1a1b47ea05a20fa713416614",
          "latitude": 43.72814640000001,
          "longitude": -79.4032194,
          "name": "Yonge St / Woburn Ave - SMART",
          "timestamp": "2022-11-08T08:49:29.957000Z"
         },
         {
          "empty_slots": 5,
          "extra": {
           "address": "Simcoe St / Michael Sweet Ave",
           "last_updated": 1667897186,
           "payment": [
            "key",
            "transitcard",
            "creditcard",
            "phone"
           ],
           "payment-terminal": true,
           "renting": 1,
           "returning": 1,
           "uid": "7039"
          },
          "free_bikes": 13,
          "id": "238f97722fa9fb7a59373178433ee0bb",
          "latitude": 43.652327224103,
          "longitude": -79.3882538196087,
          "name": "Simcoe St / Michael Sweet Ave",
          "timestamp": "2022-11-08T08:49:30.121000Z"
         },
         {
          "empty_slots": 0,
          "extra": {
           "address": "Queen St W / Dovercourt Rd",
           "last_updated": 1667897274,
           "payment": [
            "key",
            "transitcard",
            "creditcard",
            "phone"
           ],
           "payment-terminal": true,
           "renting": 1,
           "returning": 1,
           "uid": "7197"
          },
          "free_bikes": 9,
          "id": "bac1dcd28fcdff0438987edfef742154",
          "latitude": 43.6438602,
          "longitude": -79.4227573,
          "name": "Queen St W / Dovercourt Rd",
          "timestamp": "2022-11-08T08:49:30.262000Z"
         },
         {
          "empty_slots": 12,
          "extra": {
           "address": "25 Montgomery Ave",
           "last_updated": 1667897292,
           "payment": [
            "key",
            "transitcard",
            "phone"
           ],
           "payment-terminal": false,
           "renting": 1,
           "returning": 1,
           "uid": "7671"
          },
          "free_bikes": 0,
          "id": "71961f09b446af63132eb0aa2b1fff78",
          "latitude": 43.7093201,
          "longitude": -79.3996301,
          "name": "Yonge St / Montgomery Ave - SMART",
          "timestamp": "2022-11-08T08:49:29.958000Z"
         },
         {
          "empty_slots": 16,
          "extra": {
           "address": "23 Chester Ave.",
           "last_updated": 1667897142,
           "payment": [
            "key",
            "transitcard",
            "creditcard",
            "phone"
           ],
           "payment-terminal": true,
           "renting": 1,
           "returning": 1,
           "uid": "7094"
          },
          "free_bikes": 1,
          "id": "5f06c49f182da959fa0f03e746fc2e4a",
          "latitude": 43.6784834,
          "longitude": -79.3513564,
          "name": "Chester Station",
          "timestamp": "2022-11-08T08:49:30.379000Z"
         },
         {
          "empty_slots": 12,
          "extra": {
           "address": "2639 Bloor St W",
           "last_updated": 1667897318,
           "payment": [
            "key",
            "transitcard",
            "creditcard",
            "phone"
           ],
           "payment-terminal": true,
           "renting": 1,
           "returning": 1,
           "uid": "7658"
          },
          "free_bikes": 15,
          "id": "b5473ba8329a31e18dfbc5067cf61369",
          "latitude": 43.64920406876699,
          "longitude": -79.49336334201408,
          "name": "Kings Mill Park",
          "timestamp": "2022-11-08T08:49:30.376000Z"
         },
         {
          "empty_slots": 3,
          "extra": {
           "address": "225 University Avenue",
           "last_updated": 1667897147,
           "payment": [
            "key",
            "transitcard",
            "creditcard",
            "phone"
           ],
           "payment-terminal": true,
           "renting": 1,
           "returning": 1,
           "uid": "7646"
          },
          "free_bikes": 15,
          "id": "ac69c04aecded671ae0de9f0ab51873b",
          "latitude": 43.6503935,
          "longitude": -79.3860211,
          "name": "University Ave / Richmond St W",
          "timestamp": "2022-11-08T08:49:30.516000Z"
         },
         {
          "empty_slots": 10,
          "extra": {
           "address": "135 Queens Warf",
           "last_updated": 1667897234,
           "payment": [
            "key",
            "transitcard",
            "phone"
           ],
           "payment-terminal": false,
           "renting": 1,
           "returning": 1,
           "uid": "7639"
          },
          "free_bikes": 6,
          "id": "2a56ebfe680276d40a591ef322457f70",
          "latitude": 43.6399714,
          "longitude": -79.39940399999999,
          "name": "135 Queens Wharf  - SMART",
          "timestamp": "2022-11-08T08:49:29.810000Z"
         },
         {
          "empty_slots": 18,
          "extra": {
           "address": "406 Oakwood Ave, York, ON M6E 2W3",
           "last_updated": 1667897335,
           "payment": [
            "key",
            "transitcard",
            "creditcard",
            "phone"
           ],
           "payment-terminal": true,
           "renting": 1,
           "returning": 1,
           "uid": "7519"
          },
          "free_bikes": 1,
          "id": "fc6389e5eba6c99ed3c0185b65c9cb5c",
          "latitude": 43.68827060022711,
          "longitude": -79.43937767081853,
          "name": "406 Oakwood Ave",
          "timestamp": "2022-11-08T08:49:29.783000Z"
         },
         {
          "empty_slots": 17,
          "extra": {
           "address": "Granby St / Church St -SMART",
           "last_updated": 1667897136,
           "payment": [
            "key",
            "transitcard",
            "phone"
           ],
           "payment-terminal": false,
           "renting": 1,
           "returning": 1,
           "uid": "7292"
          },
          "free_bikes": 7,
          "id": "3681db49ef2d337bfb035ab1ac33e2c2",
          "latitude": 43.6614605,
          "longitude": -79.37894570000002,
          "name": "Granby St / Church St - SMART",
          "timestamp": "2022-11-08T08:49:30.391000Z"
         },
         {
          "empty_slots": 16,
          "extra": {
           "address": "Lumsden Ave / Eastdale Ave",
           "last_updated": 1667897349,
           "payment": [
            "key",
            "transitcard",
            "creditcard",
            "phone"
           ],
           "payment-terminal": true,
           "renting": 1,
           "returning": 1,
           "uid": "7605"
          },
          "free_bikes": 3,
          "id": "d10b85cd917407519f2491252a022a01",
          "latitude": 43.69413548199171,
          "longitude": -79.30058718775287,
          "name": "Lumsden Ave / Eastdale Ave",
          "timestamp": "2022-11-08T08:49:30.466000Z"
         },
         {
          "empty_slots": 19,
          "extra": {
           "address": "24 Lawrence Ave East",
           "last_updated": 1667897146,
           "payment": [
            "key",
            "transitcard",
            "creditcard",
            "phone"
           ],
           "payment-terminal": true,
           "renting": 1,
           "returning": 1,
           "uid": "7625"
          },
          "free_bikes": 4,
          "id": "2cf04264d349d318f68193444d9c5ad0",
          "latitude": 43.7254665,
          "longitude": -79.40115449999999,
          "name": "Yonge St / Lawrence Ave",
          "timestamp": "2022-11-08T08:49:30.137000Z"
         },
         {
          "empty_slots": 34,
          "extra": {
           "address": "Roehampton Ave / Yonge St",
           "last_updated": 1667897194,
           "payment": [
            "key",
            "transitcard",
            "creditcard",
            "phone"
           ],
           "payment-terminal": true,
           "renting": 1,
           "returning": 1,
           "uid": "7381"
          },
          "free_bikes": 0,
          "id": "b63112d639d75af6c2e5481df147cf77",
          "latitude": 43.7083577,
          "longitude": -79.39886200000001,
          "name": "Yonge St / Orchard View Blvd",
          "timestamp": "2022-11-08T08:49:30.020000Z"
         },
         {
          "empty_slots": 2,
          "extra": {
           "address": "Bay St / Queens Quay W (Ferry Terminal)",
           "last_updated": 1667897215,
           "payment": [
            "key",
            "transitcard",
            "creditcard",
            "phone"
           ],
           "payment-terminal": true,
           "renting": 1,
           "returning": 1,
           "uid": "7016"
          },
          "free_bikes": 18,
          "id": "c845b03b2ffaa03ebba13b5c61da3af2",
          "latitude": 43.640978,
          "longitude": -79.376785,
          "name": "Bay St / Queens Quay W (Ferry Terminal)",
          "timestamp": "2022-11-08T08:49:30.507000Z"
         },
         {
          "empty_slots": 4,
          "extra": {
           "address": "Hanna Ave / Liberty St",
           "last_updated": 1667897321,
           "payment": [
            "key",
            "transitcard",
            "creditcard",
            "phone"
           ],
           "payment-terminal": true,
           "renting": 1,
           "returning": 1,
           "uid": "7135"
          },
          "free_bikes": 7,
          "id": "8e1aceb253c43b2648c7a7bc41ae1023",
          "latitude": 43.63840090000001,
          "longitude": -79.4197107,
          "name": "Hanna Ave / Liberty St",
          "timestamp": "2022-11-08T08:49:30.124000Z"
         },
         {
          "empty_slots": 1,
          "extra": {
           "address": "425 Don Mills Rd",
           "last_updated": 1667897207,
           "payment": [
            "key",
            "transitcard",
            "creditcard",
            "phone"
           ],
           "payment-terminal": true,
           "renting": 1,
           "returning": 1,
           "uid": "7096"
          },
          "free_bikes": 18,
          "id": "7398115d8ae10074445ef787822317dd",
          "latitude": 43.7027268,
          "longitude": -79.33368089999999,
          "name": "Lower Don River Trail and Taylor Creek Trail",
          "timestamp": "2022-11-08T08:49:30.378000Z"
         },
         {
          "empty_slots": 5,
          "extra": {
           "address": "St Columba Pl / St Clair Ave E",
           "last_updated": 1667897171,
           "payment": [
            "key",
            "transitcard",
            "creditcard",
            "phone"
           ],
           "payment-terminal": true,
           "renting": 1,
           "returning": 1,
           "uid": "7604"
          },
          "free_bikes": 13,
          "id": "3941abb3cf0f4b0fed316e0a2ed7452f",
          "latitude": 43.70567,
          "longitude": -79.310554,
          "name": "St Columba Pl / St Clair Ave E",
          "timestamp": "2022-11-08T08:49:30.467000Z"
         },
         {
          "empty_slots": 1,
          "extra": {
           "address": "Strachan Ave / Princes' Blvd",
           "last_updated": 1667897119,
           "payment": [
            "key",
            "transitcard",
            "creditcard",
            "phone"
           ],
           "payment-terminal": true,
           "renting": 1,
           "returning": 1,
           "uid": "7172"
          },
          "free_bikes": 17,
          "id": "9eb5acc897b27515ad12ee8fade63062",
          "latitude": 43.635,
          "longitude": -79.4088888888889,
          "name": "Strachan Ave / Princes' Blvd",
          "timestamp": "2022-11-08T08:49:29.950000Z"
         },
         {
          "empty_slots": 4,
          "extra": {
           "address": "King St E / River St",
           "last_updated": 1667897095,
           "payment": [
            "key",
            "transitcard",
            "creditcard",
            "phone"
           ],
           "payment-terminal": true,
           "renting": 1,
           "returning": 1,
           "uid": "7104"
          },
          "free_bikes": 10,
          "id": "8b5819a5a6fb1ea79521a607ebb0a5ab",
          "latitude": 43.656784782853144,
          "longitude": -79.35627385059036,
          "name": "King St E / River St",
          "timestamp": "2022-11-08T08:49:30.198000Z"
         },
         {
          "empty_slots": 10,
          "extra": {
           "address": "Yonge St / Golfdale Rd",
           "last_updated": 1667897156,
           "payment": [
            "key",
            "transitcard",
            "creditcard",
            "phone"
           ],
           "payment-terminal": true,
           "renting": 1,
           "returning": 1,
           "uid": "7597"
          },
          "free_bikes": 5,
          "id": "bc0aa12455a97e86cf1be415300027db",
          "latitude": 43.732016,
          "longitude": -79.403637,
          "name": "Yonge St / Golfdale Rd",
          "timestamp": "2022-11-08T08:49:30.061000Z"
         },
         {
          "empty_slots": 12,
          "extra": {
           "address": "909 Yonge St",
           "last_updated": 1667897344,
           "payment": [
            "key",
            "transitcard",
            "creditcard",
            "phone"
           ],
           "payment-terminal": true,
           "renting": 1,
           "returning": 1,
           "uid": "7648"
          },
          "free_bikes": 0,
          "id": "3c82caf01f887871b4e27b9e9616cf77",
          "latitude": 43.67515255542865,
          "longitude": -79.38849615969643,
          "name": "909 Yonge St",
          "timestamp": "2022-11-08T08:49:30.519000Z"
         },
         {
          "empty_slots": 13,
          "extra": {
           "address": "640 Bloor Street East",
           "last_updated": 1667897233,
           "payment": [
            "key",
            "transitcard",
            "creditcard",
            "phone"
           ],
           "payment-terminal": true,
           "renting": 1,
           "returning": 1,
           "uid": "7117"
          },
          "free_bikes": 4,
          "id": "685abb6b7df0fc0b474505ef5e2663fe",
          "latitude": 43.67468857448634,
          "longitude": -79.36701962396272,
          "name": "640 Bloor Street E",
          "timestamp": "2022-11-08T08:49:30.441000Z"
         },
         {
          "empty_slots": 16,
          "extra": {
           "address": "1 Chedington Pl, North York, ON M4N 3R4",
           "last_updated": 1667897226,
           "payment": [
            "key",
            "transitcard",
            "phone"
           ],
           "payment-terminal": false,
           "renting": 1,
           "returning": 1,
           "uid": "7676"
          },
          "free_bikes": 0,
          "id": "2fe7046cdd8cc701a2240f52b9e8555f",
          "latitude": 43.727365488246306,
          "longitude": -79.3814254607724,
          "name": "York University (Glendon Campus) - SMART",
          "timestamp": "2022-11-08T08:49:29.951000Z"
         },
         {
          "empty_slots": 15,
          "extra": {
           "address": "1303 YONGE Street",
           "last_updated": 1667897124,
           "payment": [
            "key",
            "transitcard",
            "phone"
           ],
           "payment-terminal": false,
           "renting": 1,
           "returning": 1,
           "uid": "7677"
          },
          "free_bikes": 0,
          "id": "37b4b6822fe05d33d64c2a174a23a4ee",
          "latitude": 43.6846177,
          "longitude": -79.39245919999999,
          "name": "1303 Yonge St - SMART",
          "timestamp": "2022-11-08T08:49:29.952000Z"
         },
         {
          "empty_slots": 11,
          "extra": {
           "address": "Tommy Thompson Park (Leslie Street Spit)",
           "last_updated": 1667897105,
           "payment": [
            "key",
            "transitcard",
            "creditcard",
            "phone"
           ],
           "payment-terminal": true,
           "renting": 1,
           "returning": 1,
           "uid": "7354"
          },
          "free_bikes": 3,
          "id": "cd303791b065b6079a88c90017a46a7e",
          "latitude": 43.645835578756525,
          "longitude": -79.32088910859937,
          "name": "Tommy Thompson Park (Leslie Street Spit)",
          "timestamp": "2022-11-08T08:49:30.170000Z"
         },
         {
          "empty_slots": 13,
          "extra": {
           "address": "York University Station - SMART",
           "last_updated": 1667897163,
           "payment": [
            "key",
            "transitcard",
            "phone"
           ],
           "payment-terminal": false,
           "renting": 1,
           "returning": 1,
           "uid": "7678"
          },
          "free_bikes": 2,
          "id": "db63343ae1e174637ed6eba3912c4440",
          "latitude": 43.77345,
          "longitude": -79.5002,
          "name": "York University Station (South) - SMART",
          "timestamp": "2022-11-08T08:49:29.936000Z"
         },
         {
          "empty_slots": 9,
          "extra": {
           "address": "Woodbine Subway Station - SMART",
           "last_updated": 1667897148,
           "payment": [
            "key",
            "transitcard",
            "phone"
           ],
           "payment-terminal": false,
           "renting": 1,
           "returning": 1,
           "uid": "7429"
          },
          "free_bikes": 6,
          "id": "ef56a1cd06ce475b3420570afbced3fa",
          "latitude": 43.686442,
          "longitude": -79.313404,
          "name": "Woodbine Subway Station",
          "timestamp": "2022-11-08T08:49:30.503000Z"
         },
         {
          "empty_slots": 26,
          "extra": {
           "address": "698 Spadina Avenue",
           "last_updated": 1667897221,
           "payment": [
            "key",
            "transitcard",
            "creditcard",
            "phone"
           ],
           "payment-terminal": true,
           "renting": 1,
           "returning": 1,
           "uid": "7667"
          },
          "free_bikes": 9,
          "id": "e5f767772c705d8231b6b198de4aa458",
          "latitude": 43.66402799999999,
          "longitude": -79.40297869999999,
          "name": "Spadina Ave / Sussex Ave - SMART",
          "timestamp": "2022-11-08T08:49:30.206000Z"
         },
         {
          "empty_slots": 7,
          "extra": {
           "address": "25 BOOTH AVE",
           "last_updated": 1667897120,
           "payment": [
            "key",
            "transitcard",
            "creditcard",
            "phone"
           ],
           "payment-terminal": true,
           "renting": 1,
           "returning": 1,
           "uid": "7681"
          },
          "free_bikes": 15,
          "id": "59c65f9b8ad030535168838f871d5895",
          "latitude": 43.6544839,
          "longitude": -79.34105699999999,
          "name": "25 Booth Ave",
          "timestamp": "2022-11-08T08:49:30.302000Z"
         },
         {
          "empty_slots": 4,
          "extra": {
           "address": "Simcoe St / Adelaide St W",
           "last_updated": 1667897361,
           "payment": [
            "key",
            "transitcard",
            "creditcard",
            "phone"
           ],
           "payment-terminal": true,
           "renting": 1,
           "returning": 1,
           "uid": "7382"
          },
          "free_bikes": 16,
          "id": "931b8dfb437e0cdf993c83447acc6ded",
          "latitude": 43.6481303,
          "longitude": -79.38632,
          "name": "Simcoe St / Adelaide St W",
          "timestamp": "2022-11-08T08:49:30.317000Z"
         },
         {
          "empty_slots": 9,
          "extra": {
           "address": "Simcoe St / Queen St W",
           "last_updated": 1667897135,
           "payment": [
            "key",
            "transitcard",
            "creditcard",
            "phone"
           ],
           "payment-terminal": true,
           "renting": 1,
           "returning": 1,
           "uid": "7022"
          },
          "free_bikes": 30,
          "id": "fc7fa6476f3fce587eeb9e2200faa005",
          "latitude": 43.65049,
          "longitude": -79.3873,
          "name": "Simcoe St / Queen St W",
          "timestamp": "2022-11-08T08:49:30.363000Z"
         },
         {
          "empty_slots": 4,
          "extra": {
           "address": "Bathurst St / Front St W",
           "last_updated": 1667897151,
           "payment": [
            "key",
            "transitcard",
            "creditcard",
            "phone"
           ],
           "payment-terminal": true,
           "renting": 1,
           "returning": 1,
           "uid": "7682"
          },
          "free_bikes": 18,
          "id": "a93e2f7df07b08d45c3ae0a1502c184c",
          "latitude": 43.64134790000001,
          "longitude": -79.4013882,
          "name": "Bathurst St / Front St W",
          "timestamp": "2022-11-08T08:49:30.301000Z"
         },
         {
          "empty_slots": 3,
          "extra": {
           "address": "Bay St / Harbour St (East)",
           "last_updated": 1667897217,
           "payment": [
            "key",
            "transitcard",
            "creditcard",
            "phone"
           ],
           "payment-terminal": true,
           "renting": 1,
           "returning": 1,
           "uid": "7684"
          },
          "free_bikes": 20,
          "id": "ca19ceffb308e52cc30e908f7dd57475",
          "latitude": 43.64215,
          "longitude": -79.377,
          "name": "Bay St / Harbour St (East)",
          "timestamp": "2022-11-08T08:49:30.134000Z"
         },
         {
          "empty_slots": 4,
          "extra": {
           "address": "Ward Ave / Wallace Ave",
           "last_updated": 1667897219,
           "payment": [
            "key",
            "transitcard",
            "creditcard",
            "phone"
           ],
           "payment-terminal": true,
           "renting": 1,
           "returning": 1,
           "uid": "7237"
          },
          "free_bikes": 9,
          "id": "a713a6e61235a766b8bc607cb5f0a121",
          "latitude": 43.663337,
          "longitude": -79.446444,
          "name": "Ward Ave / Wallace Ave",
          "timestamp": "2022-11-08T08:49:30.540000Z"
         },
         {
          "empty_slots": 0,
          "extra": {
           "address": "E Liberty St / Western Battery Rd",
           "last_updated": 1667897353,
           "payment": [
            "key",
            "transitcard",
            "creditcard",
            "phone"
           ],
           "payment-terminal": true,
           "renting": 1,
           "returning": 1,
           "uid": "7322"
          },
          "free_bikes": 15,
          "id": "b64e9d0701f0c67b654468e6bfdba32a",
          "latitude": 43.6392777,
          "longitude": -79.4115736,
          "name": "E Liberty St / Western Battery Rd",
          "timestamp": "2022-11-08T08:49:30.191000Z"
         },
         {
          "empty_slots": 0,
          "extra": {
           "address": "522 King Street West",
           "last_updated": 1667897240,
           "payment": [
            "key",
            "transitcard",
            "creditcard",
            "phone"
           ],
           "payment-terminal": true,
           "renting": 1,
           "returning": 1,
           "uid": "7685"
          },
          "free_bikes": 21,
          "id": "5e955f1219b3ebaf906b808073da5e1e",
          "latitude": 43.645102,
          "longitude": -79.39744979999999,
          "name": "King / Brant",
          "timestamp": "2022-11-08T08:49:30.299000Z"
         },
         {
          "empty_slots": 5,
          "extra": {
           "address": "1101 Bloor Street West, Toronto",
           "last_updated": 1667897209,
           "payment": [
            "key",
            "transitcard",
            "phone"
           ],
           "payment-terminal": false,
           "renting": 1,
           "returning": 1,
           "uid": "7687"
          },
          "free_bikes": 4,
          "id": "3a6af188aaae40c51d6ec8d22cd104d2",
          "latitude": 43.6602021,
          "longitude": -79.4342726,
          "name": "Bloor / Gladstone - SMART",
          "timestamp": "2022-11-08T08:49:30.297000Z"
         },
         {
          "empty_slots": 0,
          "extra": {
           "address": "200 Parkside Drive",
           "last_updated": 1667897199,
           "payment": [
            "key",
            "transitcard",
            "creditcard",
            "phone"
           ],
           "payment-terminal": true,
           "renting": 1,
           "returning": 1,
           "uid": "7688"
          },
          "free_bikes": 12,
          "id": "479d21ebdac47eb8e30a209268e0bebe",
          "latitude": 43.644887,
          "longitude": -79.45641169999999,
          "name": "High Park Blvd / Parkside Dr",
          "timestamp": "2022-11-08T08:49:30.316000Z"
         },
         {
          "empty_slots": 20,
          "extra": {
           "address": "26 Lipton Avenue",
           "last_updated": 1667897092,
           "payment": [
            "key",
            "transitcard",
            "creditcard",
            "phone"
           ],
           "payment-terminal": true,
           "renting": 1,
           "returning": 1,
           "uid": "7689"
          },
          "free_bikes": 3,
          "id": "9be84ceedbc228a38abe565a95d0d0ab",
          "latitude": 43.680012,
          "longitude": -79.34403250000001,
          "name": "20 Eaton",
          "timestamp": "2022-11-08T08:49:30.310000Z"
         },
         {
          "empty_slots": 8,
          "extra": {
           "address": "York St / Lakeshore St W - South",
           "last_updated": 1667897144,
           "payment": [
            "key",
            "transitcard",
            "creditcard",
            "phone"
           ],
           "payment-terminal": true,
           "renting": 1,
           "returning": 1,
           "uid": "7398"
          },
          "free_bikes": 6,
          "id": "354bb1fec6b6bcc47b0f2632de2f270e",
          "latitude": 43.641952,
          "longitude": -79.380723,
          "name": "York St / Lakeshore St W - South",
          "timestamp": "2022-11-08T08:49:29.975000Z"
         },
         {
          "empty_slots": 1,
          "extra": {
           "address": "Fort York Blvd / Garrison Rd",
           "last_updated": 1667897118,
           "payment": [
            "key",
            "transitcard",
            "creditcard",
            "phone"
           ],
           "payment-terminal": true,
           "renting": 1,
           "returning": 1,
           "uid": "7211"
          },
          "free_bikes": 9,
          "id": "3ffc414d28a17036998674a120f66c6f",
          "latitude": 43.637381,
          "longitude": -79.406112,
          "name": "Fort York Blvd / Garrison Rd",
          "timestamp": "2022-11-08T08:49:30.179000Z"
         },
         {
          "empty_slots": 4,
          "extra": {
           "address": "Housey St / Dan Leckie Way",
           "last_updated": 1667897213,
           "payment": [
            "key",
            "transitcard",
            "creditcard",
            "phone"
           ],
           "payment-terminal": true,
           "renting": 1,
           "returning": 1,
           "uid": "7533"
          },
          "free_bikes": 22,
          "id": "32444ff0455dc908ae997a28379ebe7d",
          "latitude": 43.63811,
          "longitude": -79.397877,
          "name": "Housey St / Dan Leckie Way",
          "timestamp": "2022-11-08T08:49:30.359000Z"
         },
         {
          "empty_slots": 12,
          "extra": {
           "address": "1529 Dundas Street West",
           "last_updated": 1667897358,
           "payment": [
            "key",
            "transitcard",
            "creditcard",
            "phone"
           ],
           "payment-terminal": true,
           "renting": 1,
           "returning": 1,
           "uid": "7675"
          },
          "free_bikes": 2,
          "id": "bf59891d338ebdd311b6d839cdde77b8",
          "latitude": 43.64957,
          "longitude": -79.432446,
          "name": "1525 Dundas St",
          "timestamp": "2022-11-08T08:49:29.953000Z"
         },
         {
          "empty_slots": 1,
          "extra": {
           "address": "Bay St / Harbour St",
           "last_updated": 1667897152,
           "payment": [
            "key",
            "transitcard",
            "creditcard",
            "phone"
           ],
           "payment-terminal": true,
           "renting": 1,
           "returning": 1,
           "uid": "7683"
          },
          "free_bikes": 14,
          "id": "287f3a476bcb940d9c8090a8a3e530f2",
          "latitude": 43.64191,
          "longitude": -79.378325,
          "name": "Bay St / Harbour St (West)",
          "timestamp": "2022-11-08T08:49:30.300000Z"
         },
         {
          "empty_slots": 3,
          "extra": {
           "address": "85 Lee Ave",
           "last_updated": 1667897208,
           "payment": [
            "key",
            "transitcard",
            "creditcard",
            "phone"
           ],
           "payment-terminal": true,
           "renting": 1,
           "returning": 1,
           "uid": "7692"
          },
          "free_bikes": 23,
          "id": "32b49dd6da901eac98ec2028f4447d71",
          "latitude": 43.6700692,
          "longitude": -79.2971326,
          "name": "85 Lee Ave",
          "timestamp": "2022-11-08T08:49:30.077000Z"
         },
         {
          "empty_slots": 5,
          "extra": {
           "address": "78 Mutual Street - SMART Vault",
           "last_updated": 1667897298,
           "payment": [
            "key",
            "transitcard",
            "creditcard",
            "phone"
           ],
           "payment-terminal": true,
           "renting": 1,
           "returning": 1,
           "uid": "7693"
          },
          "free_bikes": 14,
          "id": "a5836251279be7a7699855d904f4ddf0",
          "latitude": 43.6559476,
          "longitude": -79.37558829999999,
          "name": "Mutual St / Shuter St (Arena Gardens)",
          "timestamp": "2022-11-08T08:49:30.078000Z"
         },
         {
          "empty_slots": 16,
          "extra": {
           "address": "Victoria Park Ave / Dawes Rd - SMART Vault",
           "last_updated": 1667897360,
           "payment": [
            "key",
            "transitcard",
            "creditcard",
            "phone"
           ],
           "payment-terminal": true,
           "renting": 1,
           "returning": 1,
           "uid": "7694"
          },
          "free_bikes": 3,
          "id": "a8138bc155ddd1a7667ee95f2eb37b55",
          "latitude": 43.707212,
          "longitude": -79.2952873,
          "name": "Victoria Park Ave / Dawes Rd",
          "timestamp": "2022-11-08T08:49:30.069000Z"
         },
         {
          "empty_slots": 0,
          "extra": {
           "address": "Queen St E and Joseph Duggan Rd - SMART Vault",
           "last_updated": 1667897315,
           "payment": [
            "key",
            "transitcard",
            "creditcard",
            "phone"
           ],
           "payment-terminal": true,
           "renting": 1,
           "returning": 1,
           "uid": "7695"
          },
          "free_bikes": 19,
          "id": "010507feed5b8d87c40cd95933ed5654",
          "latitude": 43.6677628,
          "longitude": -79.30811709999999,
          "name": "Queen St E / Joseph Duggan Rd",
          "timestamp": "2022-11-08T08:49:30.070000Z"
         },
         {
          "empty_slots": 8,
          "extra": {
           "address": "Heyworth Cres / Kingston Rd - SMART Vault",
           "last_updated": 1667897114,
           "payment": [
            "key",
            "transitcard",
            "creditcard",
            "phone"
           ],
           "payment-terminal": true,
           "renting": 1,
           "returning": 1,
           "uid": "7696"
          },
          "free_bikes": 11,
          "id": "941a4749a64f58b21da983a2c679ee40",
          "latitude": 43.6750806,
          "longitude": -79.3068697,
          "name": "Heyworth Cres / Kingston Rd",
          "timestamp": "2022-11-08T08:49:30.071000Z"
         },
         {
          "empty_slots": 8,
          "extra": {
           "address": "St Clair Ave W / Caledonia Rd - SMART Vault",
           "last_updated": 1667897183,
           "payment": [
            "key",
            "transitcard",
            "creditcard",
            "phone"
           ],
           "payment-terminal": true,
           "renting": 1,
           "returning": 1,
           "uid": "7698"
          },
          "free_bikes": 3,
          "id": "d9103bade315662e56fbbc902b342ee6",
          "latitude": 43.6754247,
          "longitude": -79.4547813,
          "name": "St Clair Ave W / Caledonia Rd",
          "timestamp": "2022-11-08T08:49:30.079000Z"
         },
         {
          "empty_slots": 12,
          "extra": {
           "address": "St Clair Ave W / Cloverdale Rd - SMART Vault",
           "last_updated": 1667897309,
           "payment": [
            "key",
            "transitcard",
            "creditcard",
            "phone"
           ],
           "payment-terminal": true,
           "renting": 1,
           "returning": 1,
           "uid": "7697"
          },
          "free_bikes": 3,
          "id": "f9e775397a54b2d49b9d2885d08f385b",
          "latitude": 43.67392479999999,
          "longitude": -79.4615434,
          "name": "St Clair Ave W / Cloverdale Rd",
          "timestamp": "2022-11-08T08:49:30.076000Z"
         },
         {
          "empty_slots": 2,
          "extra": {
           "address": "Roncesvalles Ave / Fermanagh Ave - SMART Vault",
           "last_updated": 1667897299,
           "payment": [
            "key",
            "transitcard",
            "creditcard",
            "phone"
           ],
           "payment-terminal": true,
           "renting": 1,
           "returning": 1,
           "uid": "7701"
          },
          "free_bikes": 16,
          "id": "f059926da6b8da51ff22a5ac9b31e978",
          "latitude": 43.6467433,
          "longitude": -79.446895,
          "name": "Roncesvalles Ave / Fermanagh Ave",
          "timestamp": "2022-11-08T08:49:29.836000Z"
         },
         {
          "empty_slots": 6,
          "extra": {
           "address": "Wellington St W / Stafford St",
           "last_updated": 1667897221,
           "payment": [
            "key",
            "transitcard",
            "creditcard",
            "phone"
           ],
           "payment-terminal": true,
           "renting": 1,
           "returning": 1,
           "uid": "7216"
          },
          "free_bikes": 14,
          "id": "e7c767f3a1e8dcb9a41229a68b69eaad",
          "latitude": 43.6409957,
          "longitude": -79.40966630000001,
          "name": "Wellington St W / Stafford St",
          "timestamp": "2022-11-08T08:49:30.180000Z"
         },
         {
          "empty_slots": 5,
          "extra": {
           "address": "111 Broadview Ave",
           "last_updated": 1667897235,
           "payment": [
            "key",
            "transitcard",
            "creditcard",
            "phone"
           ],
           "payment-terminal": true,
           "renting": 1,
           "returning": 1,
           "uid": "7702"
          },
          "free_bikes": 12,
          "id": "a7060ce11ef209bd9f6905ab5bd50a34",
          "latitude": 43.6593483,
          "longitude": -79.34993659999999,
          "name": "111 Broadview Ave",
          "timestamp": "2022-11-08T08:49:29.831000Z"
         },
         {
          "empty_slots": 15,
          "extra": {
           "address": "Christie St / Dupont St",
           "last_updated": 1667897155,
           "payment": [
            "key",
            "transitcard",
            "creditcard",
            "phone"
           ],
           "payment-terminal": true,
           "renting": 1,
           "returning": 1,
           "uid": "7691"
          },
          "free_bikes": 3,
          "id": "947c5660ee75d790b7db219013ea64e7",
          "latitude": 43.67168,
          "longitude": -79.421192,
          "name": "Christie St / Dupont St",
          "timestamp": "2022-11-08T08:49:30.077000Z"
         },
         {
          "empty_slots": 7,
          "extra": {
           "address": "Richmond St E / Jarvis St Green P",
           "last_updated": 1667897169,
           "payment": [
            "key",
            "transitcard",
            "creditcard",
            "phone"
           ],
           "payment-terminal": true,
           "renting": 1,
           "returning": 1,
           "uid": "7050"
          },
          "free_bikes": 6,
          "id": "b59204ea6e3eaa8ade44469b0cd3703e",
          "latitude": 43.652634,
          "longitude": -79.374222,
          "name": "Richmond St E / Jarvis St Green P",
          "timestamp": "2022-11-08T08:49:30.450000Z"
         },
         {
          "empty_slots": 24,
          "extra": {
           "address": "Bathurst St / Dundas St W",
           "last_updated": 1667897209,
           "payment": [
            "key",
            "transitcard",
            "creditcard",
            "phone"
           ],
           "payment-terminal": true,
           "renting": 1,
           "returning": 1,
           "uid": "7037"
          },
          "free_bikes": 0,
          "id": "893f13f8835cc86bd1bc0e16de10e92d",
          "latitude": 43.6519501,
          "longitude": -79.4060978,
          "name": "Bathurst St / Dundas St W",
          "timestamp": "2022-11-08T08:49:30.119000Z"
         },
         {
          "empty_slots": 13,
          "extra": {
           "address": "274 Oak St",
           "last_updated": 1667897230,
           "payment": [
            "key",
            "transitcard",
            "creditcard",
            "phone"
           ],
           "payment-terminal": true,
           "renting": 1,
           "returning": 1,
           "uid": "7703"
          },
          "free_bikes": 5,
          "id": "b01afd080bfe7a9ae061756b868ef9f0",
          "latitude": 43.6613642,
          "longitude": -79.3641171,
          "name": "Oak St / Sackville St",
          "timestamp": "2022-11-08T08:49:29.832000Z"
         },
         {
          "empty_slots": 19,
          "extra": {
           "address": "24 Mountjoy Ave - SMART Vault",
           "last_updated": 1667897291,
           "payment": [
            "key",
            "transitcard",
            "creditcard",
            "phone"
           ],
           "payment-terminal": true,
           "renting": 1,
           "returning": 1,
           "uid": "7704"
          },
          "free_bikes": 0,
          "id": "4c1ee1ccabcd1c9eaca449e5b3bbbb6f",
          "latitude": 43.6808774,
          "longitude": -79.3304491,
          "name": "24 Mountjoy Ave",
          "timestamp": "2022-11-08T08:49:29.828000Z"
         },
         {
          "empty_slots": 3,
          "extra": {
           "address": "88 Colgate Ave - SMART Vault",
           "last_updated": 1667897351,
           "payment": [
            "key",
            "transitcard",
            "creditcard",
            "phone"
           ],
           "payment-terminal": true,
           "renting": 1,
           "returning": 1,
           "uid": "7705"
          },
          "free_bikes": 16,
          "id": "d2505c265a6e749d5d2be70c140f029d",
          "latitude": 43.6623658,
          "longitude": -79.3413344,
          "name": "Colgate Ave / Carlaw Ave",
          "timestamp": "2022-11-08T08:49:29.829000Z"
         },
         {
          "empty_slots": 22,
          "extra": {
           "address": "Felstead Ave / Gillard Ave (Monarch Park) - SMART Vault",
           "last_updated": 1667897282,
           "payment": [
            "key",
            "transitcard",
            "creditcard",
            "phone"
           ],
           "payment-terminal": true,
           "renting": 1,
           "returning": 1,
           "uid": "7706"
          },
          "free_bikes": 2,
          "id": "a2f8dc99e24a4f75d8d8f3f98efbc535",
          "latitude": 43.6791345,
          "longitude": -79.3263159,
          "name": "Felstead Ave/Gillard Ave (Monarch Park)",
          "timestamp": "2022-11-08T08:49:29.825000Z"
         },
         {
          "empty_slots": 1,
          "extra": {
           "address": "The Esplanade & Lower Jarvis St",
           "last_updated": 1667897195,
           "payment": [
            "key",
            "transitcard",
            "creditcard",
            "phone"
           ],
           "payment-terminal": true,
           "renting": 1,
           "returning": 1,
           "uid": "7686"
          },
          "free_bikes": 14,
          "id": "290fef611ea995910eb2d8e6dee93350",
          "latitude": 43.6478206,
          "longitude": -79.3704721,
          "name": "Lower Jarvis / The Esplanade",
          "timestamp": "2022-11-08T08:49:30.133000Z"
         },
         {
          "empty_slots": 3,
          "extra": {
           "address": "7972 Remembrance Drive",
           "last_updated": 1667897295,
           "payment": [
            "key",
            "transitcard",
            "creditcard",
            "phone"
           ],
           "payment-terminal": true,
           "renting": 1,
           "returning": 1,
           "uid": "7707"
          },
          "free_bikes": 12,
          "id": "31d87930da4eacc3748b5fee65f96259",
          "latitude": 43.635495,
          "longitude": -79.40352209999999,
          "name": "Coronation Park (Martin Goodman Trail)",
          "timestamp": "2022-11-08T08:49:29.827000Z"
         },
         {
          "empty_slots": 9,
          "extra": {
           "address": "101 cedarvale Ave",
           "last_updated": 1667897146,
           "payment": [
            "key",
            "transitcard",
            "creditcard",
            "phone"
           ],
           "payment-terminal": true,
           "renting": 1,
           "returning": 1,
           "uid": "7708"
          },
          "free_bikes": 9,
          "id": "edbbbbc2b0bd5c8322b6395633ce610c",
          "latitude": 43.6868681,
          "longitude": -79.3110942,
          "name": "101 Cedarvale",
          "timestamp": "2022-11-08T08:49:29.837000Z"
         },
         {
          "empty_slots": 15,
          "extra": {
           "address": "St Clair Ave W / Oakwood Ave - SMART Vault",
           "last_updated": 1667897236,
           "payment": [
            "key",
            "transitcard",
            "creditcard",
            "phone"
           ],
           "payment-terminal": true,
           "renting": 1,
           "returning": 1,
           "uid": "7699"
          },
          "free_bikes": 0,
          "id": "61b868926458c2406053b0bf2f81dcd6",
          "latitude": 43.678177,
          "longitude": -79.435364,
          "name": "St Clair Ave W / Oakwood Ave",
          "timestamp": "2022-11-08T08:49:30.080000Z"
         },
         {
          "empty_slots": 23,
          "extra": {
           "address": "5 Merton Street",
           "last_updated": 1667897185,
           "payment": [
            "key",
            "transitcard",
            "creditcard",
            "phone"
           ],
           "payment-terminal": true,
           "renting": 1,
           "returning": 1,
           "uid": "7709"
          },
          "free_bikes": 0,
          "id": "804d113fb2dbc6b44947189e9e8bff7d",
          "latitude": 43.6962302,
          "longitude": -79.39504339999999,
          "name": "Beltline Trail / Yonge St",
          "timestamp": "2022-11-08T08:49:29.839000Z"
         },
         {
          "empty_slots": 5,
          "extra": {
           "address": "Shaw St / Essex St - SMART",
           "last_updated": 1667897330,
           "payment": [
            "key",
            "transitcard",
            "phone"
           ],
           "payment-terminal": false,
           "renting": 1,
           "returning": 1,
           "uid": "7627"
          },
          "free_bikes": 10,
          "id": "7a271c4cbc993e06ac677f78d5b6ba4b",
          "latitude": 43.667076,
          "longitude": -79.425116,
          "name": "Shaw St / Essex St - SMART",
          "timestamp": "2022-11-08T08:49:30.138000Z"
         },
         {
          "empty_slots": 20,
          "extra": {
           "address": "High Park Outdoor Pool",
           "last_updated": 1667897237,
           "payment": [
            "key",
            "transitcard",
            "creditcard",
            "phone"
           ],
           "payment-terminal": true,
           "renting": 1,
           "returning": 1,
           "uid": "7460"
          },
          "free_bikes": 7,
          "id": "aabe4d22a65f405432956d974bd827c4",
          "latitude": 43.649217,
          "longitude": -79.465319,
          "name": "High Park Outdoor Pool",
          "timestamp": "2022-11-08T08:49:30.561000Z"
         },
         {
          "empty_slots": 15,
          "extra": {
           "address": "St Clair Ave W / Robina Ave - SMART Vault",
           "last_updated": 1667897200,
           "payment": [
            "key",
            "transitcard",
            "creditcard",
            "phone"
           ],
           "payment-terminal": true,
           "renting": 1,
           "returning": 1,
           "uid": "7700"
          },
          "free_bikes": 0,
          "id": "d24c01668df7f8e972f3e5980bf1fc6e",
          "latitude": 43.68005,
          "longitude": -79.43469,
          "name": "St Clair Ave W / Robina Ave",
          "timestamp": "2022-11-08T08:49:29.834000Z"
         },
         {
          "empty_slots": 11,
          "extra": {
           "address": "Joseph J Piccininni Community Centre",
           "last_updated": 1667897293,
           "payment": [
            "key",
            "transitcard",
            "creditcard",
            "phone"
           ],
           "payment-terminal": true,
           "renting": 1,
           "returning": 1,
           "uid": "7527"
          },
          "free_bikes": 7,
          "id": "a76d410d56c1dadfbc8960683df209e2",
          "latitude": 43.675648,
          "longitude": -79.4527619,
          "name": "Joseph J Piccininni Community Centre",
          "timestamp": "2022-11-08T08:49:30.110000Z"
         },
         {
          "empty_slots": 2,
          "extra": {
           "address": "11 SPADINA RD",
           "last_updated": 1667897341,
           "payment": [
            "key",
            "transitcard",
            "creditcard",
            "phone"
           ],
           "payment-terminal": true,
           "renting": 1,
           "returning": 1,
           "uid": "7710"
          },
          "free_bikes": 0,
          "id": "910e92b9e361308bb305c6780fce822f",
          "latitude": 43.6677246,
          "longitude": -79.4041365,
          "name": "11 Spadina Rd",
          "timestamp": "2022-11-08T08:49:30.156000Z"
         },
         {
          "empty_slots": 2,
          "extra": {
           "address": "Nassau St / Bellvue Ave",
           "last_updated": 1667897220,
           "payment": [
            "key",
            "transitcard",
            "creditcard",
            "phone"
           ],
           "payment-terminal": true,
           "renting": 1,
           "returning": 1,
           "uid": "7543"
          },
          "free_bikes": 13,
          "id": "2a28bb5041d1c965c38672895d91f762",
          "latitude": 43.6537058,
          "longitude": -79.4019294,
          "name": "Bellevue Square Park",
          "timestamp": "2022-11-08T08:49:30.502000Z"
         },
         {
          "empty_slots": 19,
          "extra": {
           "address": "Yonge / Wellesley",
           "last_updated": 1667897250,
           "payment": [
            "key",
            "transitcard",
            "creditcard",
            "phone"
           ],
           "payment-terminal": true,
           "renting": 1,
           "returning": 1,
           "uid": "7001"
          },
          "free_bikes": 3,
          "id": "c89b262c82b9b2107a954987d36ad4a3",
          "latitude": 43.66496415990742,
          "longitude": -79.38355031526893,
          "name": "Wellesley Station Green P",
          "timestamp": "2022-11-08T08:49:29.923000Z"
         },
         {
          "empty_slots": 0,
          "extra": {
           "address": "Vanauley St / Queen St W",
           "last_updated": 1667897098,
           "payment": [
            "key",
            "transitcard",
            "phone"
           ],
           "payment-terminal": false,
           "renting": 1,
           "returning": 1,
           "uid": "7256"
          },
          "free_bikes": 11,
          "id": "56275b952451bea6cdc0a9e666ea363f",
          "latitude": 43.648437,
          "longitude": -79.39838,
          "name": "Vanauley St / Queen St W - SMART",
          "timestamp": "2022-11-08T08:49:30.083000Z"
         },
         {
          "empty_slots": 4,
          "extra": {
           "address": "519 Church St",
           "last_updated": 1667897210,
           "payment": [
            "key",
            "transitcard",
            "phone"
           ],
           "payment-terminal": false,
           "renting": 1,
           "returning": 1,
           "uid": "7241"
          },
          "free_bikes": 3,
          "id": "25d5ca4af10a8f835af2e0e8152ab816",
          "latitude": 43.6663308,
          "longitude": -79.3809503,
          "name": "519 Church St",
          "timestamp": "2022-11-08T08:49:30.327000Z"
         },
         {
          "empty_slots": 1,
          "extra": {
           "address": "Sherbourne St / Wellesley St E",
           "last_updated": 1667897337,
           "payment": [
            "key",
            "transitcard",
            "creditcard",
            "phone"
           ],
           "payment-terminal": true,
           "renting": 1,
           "returning": 1,
           "uid": "7042"
          },
          "free_bikes": 27,
          "id": "2904c293698dc248004b5f43e1a28f80",
          "latitude": 43.6673,
          "longitude": -79.374,
          "name": "Sherbourne St / Wellesley St E",
          "timestamp": "2022-11-08T08:49:29.992000Z"
         },
         {
          "empty_slots": 5,
          "extra": {
           "address": "Queen St W / York St (City Hall)",
           "last_updated": 1667897237,
           "payment": [
            "key",
            "transitcard",
            "creditcard",
            "phone"
           ],
           "payment-terminal": true,
           "renting": 1,
           "returning": 1,
           "uid": "7202"
          },
          "free_bikes": 17,
          "id": "2e6dd23e4dee03087c5e80f76cda5519",
          "latitude": 43.6517925,
          "longitude": -79.38269509999999,
          "name": "Queen St W / Bay St (City Hall)",
          "timestamp": "2022-11-08T08:49:30.408000Z"
         },
         {
          "empty_slots": 3,
          "extra": {
           "address": "Queen St W / Roncesvalles Ave",
           "last_updated": 1667897116,
           "payment": [
            "key",
            "transitcard",
            "creditcard",
            "phone"
           ],
           "payment-terminal": true,
           "renting": 1,
           "returning": 1,
           "uid": "7228"
          },
          "free_bikes": 16,
          "id": "90753b36d53f9713816264fff0eb5cba",
          "latitude": 43.6372958,
          "longitude": -79.4423237,
          "name": "Queen St W / Roncesvalles Ave",
          "timestamp": "2022-11-08T08:49:30.015000Z"
         },
         {
          "empty_slots": 7,
          "extra": {
           "address": "71 Havelock Street",
           "last_updated": 1667897360,
           "payment": [
            "key",
            "transitcard",
            "creditcard",
            "phone"
           ],
           "payment-terminal": true,
           "renting": 1,
           "returning": 1,
           "uid": "7711"
          },
          "free_bikes": 6,
          "id": "19997314e5dc85c591c39255f1081992",
          "latitude": 43.6554793,
          "longitude": -79.4302462,
          "name": "Havelock St / Dewson St",
          "timestamp": "2022-11-08T08:49:30.155000Z"
         },
         {
          "empty_slots": 20,
          "extra": {
           "address": "2 Heath Street West",
           "last_updated": 1667897112,
           "payment": [
            "key",
            "transitcard",
            "creditcard",
            "phone"
           ],
           "payment-terminal": true,
           "renting": 1,
           "returning": 1,
           "uid": "7650"
          },
          "free_bikes": 2,
          "id": "e28bec2cacb249601ba4e3da8ce10aa3",
          "latitude": 43.686352,
          "longitude": -79.415894,
          "name": "St Clair W Subway - Heath Entrance",
          "timestamp": "2022-11-08T08:49:30.372000Z"
         },
         {
          "empty_slots": 8,
          "extra": {
           "address": "999 Queen Street West",
           "last_updated": 1667897295,
           "payment": [
            "key",
            "transitcard",
            "creditcard",
            "phone"
           ],
           "payment-terminal": true,
           "renting": 1,
           "returning": 1,
           "uid": "7712"
          },
          "free_bikes": 10,
          "id": "e15764d43dae2febba437044f0b41c0d",
          "latitude": 43.6442457,
          "longitude": -79.41610440000001,
          "name": "Queen St W / Shaw St",
          "timestamp": "2022-11-08T08:49:30.158000Z"
         },
         {
          "empty_slots": 8,
          "extra": {
           "address": "York University Station",
           "last_updated": 1667897173,
           "payment": [
            "key",
            "transitcard",
            "creditcard",
            "phone"
           ],
           "payment-terminal": true,
           "renting": 1,
           "returning": 1,
           "uid": "7679"
          },
          "free_bikes": 7,
          "id": "02d90c8ede19da66083e0d0e14d17258",
          "latitude": 43.7741,
          "longitude": -79.5005,
          "name": "York University Station (North)",
          "timestamp": "2022-11-08T08:49:29.937000Z"
         },
         {
          "empty_slots": 15,
          "extra": {
           "address": "333 St.Clair Ave West",
           "last_updated": 1667897346,
           "payment": [
            "key",
            "transitcard",
            "creditcard",
            "phone"
           ],
           "payment-terminal": true,
           "renting": 1,
           "returning": 1,
           "uid": "7640"
          },
          "free_bikes": 0,
          "id": "70f4c2f125f887140a39865c643b83e1",
          "latitude": 43.683979,
          "longitude": -79.410657,
          "name": "Spadina Rd / St.Clair Ave West",
          "timestamp": "2022-11-08T08:49:30.515000Z"
         },
         {
          "empty_slots": 3,
          "extra": {
           "address": "Spadina Ave / Adelaide St W",
           "last_updated": 1667897110,
           "payment": [
            "key",
            "transitcard",
            "creditcard",
            "phone"
           ],
           "payment-terminal": true,
           "renting": 1,
           "returning": 1,
           "uid": "7260"
          },
          "free_bikes": 11,
          "id": "a73d255f1af70c61f91b4bbf216054ec",
          "latitude": 43.6472019,
          "longitude": -79.3953394,
          "name": "Spadina Ave / Adelaide St W",
          "timestamp": "2022-11-08T08:49:29.886000Z"
         },
         {
          "empty_slots": 2,
          "extra": {
           "address": "Cherry St / Mill St",
           "last_updated": 1667897135,
           "payment": [
            "key",
            "transitcard",
            "creditcard",
            "phone"
           ],
           "payment-terminal": true,
           "renting": 1,
           "returning": 1,
           "uid": "7099"
          },
          "free_bikes": 12,
          "id": "d6bc7298aa11006015119e2e237ce83d",
          "latitude": 43.6513927,
          "longitude": -79.35794659999999,
          "name": "Cherry St / Mill St",
          "timestamp": "2022-11-08T08:49:30.389000Z"
         },
         {
          "empty_slots": 8,
          "extra": {
           "address": "Jarvis St / Maitland Pl",
           "last_updated": 1667897330,
           "payment": [
            "key",
            "transitcard",
            "creditcard",
            "phone"
           ],
           "payment-terminal": true,
           "renting": 1,
           "returning": 1,
           "uid": "7453"
          },
          "free_bikes": 9,
          "id": "a385b32a5f6b3de23ce3def7f59ecbc1",
          "latitude": 43.6647688,
          "longitude": -79.3772602,
          "name": "Jarvis St / Maitland Pl",
          "timestamp": "2022-11-08T08:49:30.036000Z"
         },
         {
          "empty_slots": 12,
          "extra": {
           "address": "55 Temperance St",
           "last_updated": 1667897157,
           "payment": [
            "key",
            "transitcard",
            "creditcard",
            "phone"
           ],
           "payment-terminal": true,
           "renting": 1,
           "returning": 1,
           "uid": "7713"
          },
          "free_bikes": 9,
          "id": "d21421de2283d1ef48895cf1810b0200",
          "latitude": 43.6506,
          "longitude": -79.381285,
          "name": "Temperance St / Bay St",
          "timestamp": "2022-11-08T08:49:30.157000Z"
         },
         {
          "empty_slots": 6,
          "extra": {
           "address": "Cherry Beach Sports Field (55 Unwin Ave)",
           "last_updated": 1667897327,
           "payment": [
            "key",
            "transitcard",
            "creditcard",
            "phone"
           ],
           "payment-terminal": true,
           "renting": 1,
           "returning": 1,
           "uid": "7345"
          },
          "free_bikes": 9,
          "id": "fca601c1041c34a9c42af38d71e7403a",
          "latitude": 43.6408346,
          "longitude": -79.3429074,
          "name": "Cherry Beach Sports Field (55 Unwin Ave)",
          "timestamp": "2022-11-08T08:49:29.847000Z"
         },
         {
          "empty_slots": 22,
          "extra": {
           "address": "Emerson Ave / Bloor St W",
           "last_updated": 1667897162,
           "payment": [
            "key",
            "transitcard",
            "creditcard",
            "phone"
           ],
           "payment-terminal": true,
           "renting": 1,
           "returning": 1,
           "uid": "7521"
          },
          "free_bikes": 0,
          "id": "ee6e547535d8d7b486840b864ffe6772",
          "latitude": 43.6586525,
          "longitude": -79.440502,
          "name": "Emerson Ave / Bloor St W",
          "timestamp": "2022-11-08T08:49:30.108000Z"
         },
         {
          "empty_slots": 9,
          "extra": {
           "address": "152 Perth Avenue",
           "last_updated": 1667897237,
           "payment": [
            "key",
            "transitcard",
            "creditcard",
            "phone"
           ],
           "payment-terminal": true,
           "renting": 1,
           "returning": 1,
           "uid": "7728"
          },
          "free_bikes": 9,
          "id": "89a0071a8f7f69a70263dd5c0d9d64f5",
          "latitude": 43.6585504,
          "longitude": -79.4497659,
          "name": "Randolph Ave / Perth Ave",
          "timestamp": "2022-11-08T08:49:30.132000Z"
         },
         {
          "empty_slots": 4,
          "extra": {
           "address": "15 Denison Ave",
           "last_updated": 1667897280,
           "payment": [
            "key",
            "transitcard",
            "creditcard",
            "phone"
           ],
           "payment-terminal": true,
           "renting": 1,
           "returning": 1,
           "uid": "7719"
          },
          "free_bikes": 22,
          "id": "0ec6c1acd2e8975a5a2d5ddfe6028115",
          "latitude": 43.6484201,
          "longitude": -79.40051919999999,
          "name": "Wolseley St / Augusta Ave",
          "timestamp": "2022-11-08T08:49:30.153000Z"
         },
         {
          "empty_slots": 0,
          "extra": {
           "address": "8 Maud Street",
           "last_updated": 1667896413,
           "payment": [
            "key",
            "transitcard",
            "creditcard",
            "phone"
           ],
           "payment-terminal": true,
           "renting": 1,
           "returning": 1,
           "uid": "7718"
          },
          "free_bikes": 4,
          "id": "16f7b53a362872c74979e83ca684420e",
          "latitude": 43.6461512,
          "longitude": -79.3998214,
          "name": "St. Andrew's Playground Park",
          "timestamp": "2022-11-08T08:49:30.154000Z"
         },
         {
          "empty_slots": 9,
          "extra": {
           "address": "324 Cedarvale Avenue",
           "last_updated": 1667897141,
           "payment": [
            "key",
            "transitcard",
            "creditcard",
            "phone"
           ],
           "payment-terminal": true,
           "renting": 1,
           "returning": 1,
           "uid": "7715"
          },
          "free_bikes": 1,
          "id": "a3246dc710b72e282aabc15520392d98",
          "latitude": 43.693187,
          "longitude": -79.314283,
          "name": "Lumsden Ave / Cedarvale Ave",
          "timestamp": "2022-11-08T08:49:30.158000Z"
         },
         {
          "empty_slots": 1,
          "extra": {
           "address": "18 Portland Street",
           "last_updated": 1667897119,
           "payment": [
            "key",
            "transitcard",
            "creditcard",
            "phone"
           ],
           "payment-terminal": true,
           "renting": 1,
           "returning": 1,
           "uid": "7717"
          },
          "free_bikes": 9,
          "id": "e8fa9e1f75a6a3e6795f420149665538",
          "latitude": 43.6425791,
          "longitude": -79.40011729999999,
          "name": "Niagara St / Portland St",
          "timestamp": "2022-11-08T08:49:30.159000Z"
         },
         {
          "empty_slots": 1,
          "extra": {
           "address": "75 The Esplanade",
           "last_updated": 1667897244,
           "payment": [
            "key",
            "transitcard",
            "creditcard",
            "phone"
           ],
           "payment-terminal": true,
           "renting": 1,
           "returning": 1,
           "uid": "7716"
          },
          "free_bikes": 14,
          "id": "4c9eb7bf1d6f6464b60956afb4cb7bc6",
          "latitude": 43.6469251,
          "longitude": -79.3733192,
          "name": "Church St / The Esplanade",
          "timestamp": "2022-11-08T08:49:30.160000Z"
         },
         {
          "empty_slots": 2,
          "extra": {
           "address": "620 King Street West",
           "last_updated": 1667897334,
           "payment": [
            "key",
            "transitcard",
            "phone"
           ],
           "payment-terminal": false,
           "renting": 1,
           "returning": 1,
           "uid": "7720"
          },
          "free_bikes": 4,
          "id": "32cbcb81d2d04a16ed2d1d2ed35220d4",
          "latitude": 43.644395,
          "longitude": -79.40065430000001,
          "name": "King St W / Portland St",
          "timestamp": "2022-11-08T08:49:30.307000Z"
         },
         {
          "empty_slots": 1,
          "extra": {
           "address": "360 King Street West",
           "last_updated": 1667897338,
           "payment": [
            "key",
            "transitcard",
            "creditcard",
            "phone"
           ],
           "payment-terminal": true,
           "renting": 1,
           "returning": 1,
           "uid": "7721"
          },
          "free_bikes": 8,
          "id": "eec8016afd7a2c9574726724fc5bbab9",
          "latitude": 43.6463574,
          "longitude": -79.391206,
          "name": "Widmer St / King St W",
          "timestamp": "2022-11-08T08:49:30.308000Z"
         },
         {
          "empty_slots": 9,
          "extra": {
           "address": "280 Wellesley Street East",
           "last_updated": 1667897272,
           "payment": [
            "key",
            "transitcard",
            "creditcard",
            "phone"
           ],
           "payment-terminal": true,
           "renting": 1,
           "returning": 1,
           "uid": "7724"
          },
          "free_bikes": 6,
          "id": "f01e7413a6af4607ca80257160d89ae6",
          "latitude": 43.6682342,
          "longitude": -79.3702641,
          "name": "Wellesley St E / Parliament St",
          "timestamp": "2022-11-08T08:49:30.309000Z"
         },
         {
          "empty_slots": 12,
          "extra": {
           "address": "1126 Yonge Street",
           "last_updated": 1667897337,
           "payment": [
            "key",
            "transitcard",
            "creditcard",
            "phone"
           ],
           "payment-terminal": true,
           "renting": 1,
           "returning": 1,
           "uid": "7725"
          },
          "free_bikes": 1,
          "id": "90fadd5570633a9503c556d49fcd59b8",
          "latitude": 43.6791876,
          "longitude": -79.39071899999999,
          "name": "Yonge St / Macpherson Ave",
          "timestamp": "2022-11-08T08:49:30.309000Z"
         },
         {
          "empty_slots": 13,
          "extra": {
           "address": "Davenport Rd / Bedford Rd",
           "last_updated": 1667897146,
           "payment": [
            "key",
            "transitcard",
            "creditcard",
            "phone"
           ],
           "payment-terminal": true,
           "renting": 1,
           "returning": 1,
           "uid": "7130"
          },
          "free_bikes": 2,
          "id": "2e3ac17daffcf4eac85216832f31a3b5",
          "latitude": 43.674446,
          "longitude": -79.398331,
          "name": "Davenport Rd / Bedford Rd",
          "timestamp": "2022-11-08T08:49:30.537000Z"
         },
         {
          "empty_slots": 3,
          "extra": {
           "address": "PRINCES GATE / NUNAVUT DR",
           "last_updated": 1667897197,
           "payment": [
            "key",
            "transitcard",
            "creditcard",
            "phone"
           ],
           "payment-terminal": true,
           "renting": 1,
           "returning": 1,
           "uid": "7680"
          },
          "free_bikes": 12,
          "id": "b1dfad457a006cea077da6f26798cf12",
          "latitude": 43.6334636,
          "longitude": -79.4143057,
          "name": "Princes Gate / Nunavut Dr",
          "timestamp": "2022-11-08T08:49:30.135000Z"
         },
         {
          "empty_slots": 1,
          "extra": {
           "address": "Exhibition GO Station",
           "last_updated": 1667897147,
           "payment": [
            "key",
            "transitcard",
            "creditcard",
            "phone"
           ],
           "payment-terminal": true,
           "renting": 1,
           "returning": 1,
           "uid": "7243"
          },
          "free_bikes": 13,
          "id": "778b6d674fa920334fdf2f007088aa3f",
          "latitude": 43.6352007,
          "longitude": -79.4187711,
          "name": "Exhibition GO Station",
          "timestamp": "2022-11-08T08:49:30.325000Z"
         },
         {
          "empty_slots": 13,
          "extra": {
           "address": "265 Armadale Ave",
           "last_updated": 1667897171,
           "payment": [
            "key",
            "transitcard",
            "creditcard",
            "phone"
           ],
           "payment-terminal": true,
           "renting": 1,
           "returning": 1,
           "uid": "7729"
          },
          "free_bikes": 14,
          "id": "df51480ffd94a7b3412a6d3cc7706585",
          "latitude": 43.6501644,
          "longitude": -79.48296909999999,
          "name": "265 Armadale Ave",
          "timestamp": "2022-11-08T08:49:29.841000Z"
         },
         {
          "empty_slots": 25,
          "extra": {
           "address": "800 Fleet Street",
           "last_updated": 1667897356,
           "payment": [
            "key",
            "transitcard",
            "creditcard",
            "phone"
           ],
           "payment-terminal": true,
           "renting": 1,
           "returning": 1,
           "uid": "7730"
          },
          "free_bikes": 15,
          "id": "b87051aeba987c7cf84dd59ab88c67bd",
          "latitude": 43.636804,
          "longitude": -79.408832,
          "name": "800 Fleet Street",
          "timestamp": "2022-11-08T08:49:30.479000Z"
         },
         {
          "empty_slots": 18,
          "extra": {
           "address": "St Joseph St / Bay St",
           "last_updated": 1667897121,
           "payment": [
            "key",
            "transitcard",
            "phone"
           ],
           "payment-terminal": false,
           "renting": 1,
           "returning": 1,
           "uid": "7548"
          },
          "free_bikes": 0,
          "id": "15b272ca422dbbafeb002f3a84d15436",
          "latitude": 43.6658804,
          "longitude": -79.38761010000002,
          "name": "St Joseph St / Bay St - SMART",
          "timestamp": "2022-11-08T08:49:29.959000Z"
         },
         {
          "empty_slots": 7,
          "extra": {
           "address": "1085 Kingston Rd",
           "last_updated": 1667897168,
           "payment": [
            "key",
            "transitcard",
            "phone"
           ],
           "payment-terminal": false,
           "renting": 1,
           "returning": 1,
           "uid": "7731"
          },
          "free_bikes": 8,
          "id": "9144e4fe1b004cd29d1f4a056a3542fc",
          "latitude": 43.68035,
          "longitude": -79.28357,
          "name": "Victoria Park Ave / Kingston Rd",
          "timestamp": "2022-11-08T08:49:30.478000Z"
         },
         {
          "empty_slots": 4,
          "extra": {
           "address": "Ontario St / Adelaide St E -SMART",
           "last_updated": 1667897266,
           "payment": [
            "key",
            "transitcard",
            "phone"
           ],
           "payment-terminal": false,
           "renting": 1,
           "returning": 1,
           "uid": "7505"
          },
          "free_bikes": 16,
          "id": "328543a3291fd54d24971108f96bb053",
          "latitude": 43.6535052,
          "longitude": -79.3667689,
          "name": "Ontario St / Adelaide St E -SMART",
          "timestamp": "2022-11-08T08:49:30.432000Z"
         },
         {
          "empty_slots": 1,
          "extra": {
           "address": "119 Constance Street",
           "last_updated": 1667897192,
           "payment": [
            "key",
            "transitcard",
            "creditcard",
            "phone"
           ],
           "payment-terminal": true,
           "renting": 1,
           "returning": 1,
           "uid": "7741"
          },
          "free_bikes": 10,
          "id": "fc26e7e043e4c9cd53b1e17267e93984",
          "latitude": 43.6482388,
          "longitude": -79.457008,
          "name": "Howard Park Ave / Parkside Dr",
          "timestamp": "2022-11-08T08:49:30.539000Z"
         },
         {
          "empty_slots": 8,
          "extra": {
           "address": "150 Highview Avenue",
           "last_updated": 1667897247,
           "payment": [
            "key",
            "transitcard",
            "phone"
           ],
           "payment-terminal": false,
           "renting": 1,
           "returning": 1,
           "uid": "7738"
          },
          "free_bikes": 7,
          "id": "6140f3635573c8910f854df84e633837",
          "latitude": 43.702418581463505,
          "longitude": -79.2563167072858,
          "name": "Highview Ave / Kennedy Rd",
          "timestamp": "2022-11-08T08:49:30.475000Z"
         },
         {
          "empty_slots": 10,
          "extra": {
           "address": "Kingston Rd / Warden Ave",
           "last_updated": 1667897338,
           "payment": [
            "key",
            "transitcard",
            "phone"
           ],
           "payment-terminal": false,
           "renting": 1,
           "returning": 1,
           "uid": "7732"
          },
          "free_bikes": 4,
          "id": "8e671c6621816f2d0003b23c0bda5e08",
          "latitude": 43.68824135931814,
          "longitude": -79.27046628033244,
          "name": "Kingston Rd / Warden Ave",
          "timestamp": "2022-11-08T08:49:30.477000Z"
         },
         {
          "empty_slots": 10,
          "extra": {
           "address": "Birchcliff Ave / Kingston Rd",
           "last_updated": 1667897182,
           "payment": [
            "key",
            "transitcard",
            "phone"
           ],
           "payment-terminal": false,
           "renting": 1,
           "returning": 1,
           "uid": "7735"
          },
          "free_bikes": 5,
          "id": "88ede41a08aa08dfee94f811a9834e1b",
          "latitude": 43.691688,
          "longitude": -79.265027,
          "name": "Birchcliff Ave / Kingston Rd",
          "timestamp": "2022-11-08T08:49:30.481000Z"
         },
         {
          "empty_slots": 13,
          "extra": {
           "address": "5 Glen Everest Rd (Rosetta McClain Gardens)",
           "last_updated": 1667897180,
           "payment": [
            "key",
            "transitcard",
            "phone"
           ],
           "payment-terminal": false,
           "renting": 1,
           "returning": 1,
           "uid": "7737"
          },
          "free_bikes": 1,
          "id": "3db3e716f02f4035f98fc1f07a0fecd9",
          "latitude": 43.697490048103,
          "longitude": -79.25655146462776,
          "name": "Kingston Rd / Glen Everest Rd",
          "timestamp": "2022-11-08T08:49:30.479000Z"
         },
         {
          "empty_slots": 7,
          "extra": {
           "address": "Birchmount Rd / Kingston Rd",
           "last_updated": 1667897254,
           "payment": [
            "key",
            "transitcard",
            "phone"
           ],
           "payment-terminal": false,
           "renting": 1,
           "returning": 1,
           "uid": "7736"
          },
          "free_bikes": 7,
          "id": "a4e9775f52cd109d87faa6d5de6a395a",
          "latitude": 43.69401297794256,
          "longitude": -79.26257204548136,
          "name": "Birchmount Rd / Kingston Rd",
          "timestamp": "2022-11-08T08:49:30.480000Z"
         },
         {
          "empty_slots": 14,
          "extra": {
           "address": "2301 Kingston Rd",
           "last_updated": 1667897116,
           "payment": [
            "key",
            "transitcard",
            "phone"
           ],
           "payment-terminal": false,
           "renting": 1,
           "returning": 1,
           "uid": "7739"
          },
          "free_bikes": 1,
          "id": "a558e5fb7b283d40286ff45d4f2d1d9f",
          "latitude": 43.70643614257429,
          "longitude": -79.25104443353288,
          "name": "Kingston Rd / Ridgemoor Ave",
          "timestamp": "2022-11-08T08:49:30.475000Z"
         },
         {
          "empty_slots": 8,
          "extra": {
           "address": "Pharmacy Ave / Danforth Ave",
           "last_updated": 1667897335,
           "payment": [
            "key",
            "transitcard",
            "phone"
           ],
           "payment-terminal": false,
           "renting": 1,
           "returning": 1,
           "uid": "7733"
          },
          "free_bikes": 6,
          "id": "bfa44ca6c3c167b3a804a93fc1f0ce36",
          "latitude": 43.6929478,
          "longitude": -79.28339980000001,
          "name": "Pharmacy Ave / Danforth Ave",
          "timestamp": "2022-11-08T08:49:30.476000Z"
         },
         {
          "empty_slots": 9,
          "extra": {
           "address": "Danforth Ave / Warden Ave",
           "last_updated": 1667897285,
           "payment": [
            "key",
            "transitcard",
            "phone"
           ],
           "payment-terminal": false,
           "renting": 1,
           "returning": 1,
           "uid": "7734"
          },
          "free_bikes": 5,
          "id": "719e676d739529c8d5da8bb89c5c8678",
          "latitude": 43.6950192,
          "longitude": -79.27180659999999,
          "name": "Danforth Ave / Warden Ave",
          "timestamp": "2022-11-08T08:49:30.482000Z"
         },
         {
          "empty_slots": 18,
          "extra": {
           "address": "2343 Eglinton Ave W",
           "last_updated": 1667897111,
           "payment": [
            "key",
            "transitcard",
            "phone"
           ],
           "payment-terminal": false,
           "renting": 1,
           "returning": 1,
           "uid": "7743"
          },
          "free_bikes": 0,
          "id": "4458cd04d9fb8c770ac4bae9d9db2d63",
          "latitude": 43.69263249999999,
          "longitude": -79.4627536,
          "name": "Eglinton Ave W / Gilbert Ave",
          "timestamp": "2022-11-08T08:49:30.555000Z"
         },
         {
          "empty_slots": 14,
          "extra": {
           "address": "50 Natal St",
           "last_updated": 1667897151,
           "payment": [
            "key",
            "transitcard",
            "phone"
           ],
           "payment-terminal": false,
           "renting": 1,
           "returning": 1,
           "uid": "7740"
          },
          "free_bikes": 0,
          "id": "f01ce5efb5e67f30b96994096ac1d300",
          "latitude": 43.7105975,
          "longitude": -79.2541175,
          "name": "Sharpe St / Park St (Sandown Park)",
          "timestamp": "2022-11-08T08:49:30.538000Z"
         },
         {
          "empty_slots": 18,
          "extra": {
           "address": "2067 EglintonAve W",
           "last_updated": 1667897282,
           "payment": [
            "key",
            "transitcard",
            "phone"
           ],
           "payment-terminal": false,
           "renting": 1,
           "returning": 1,
           "uid": "7742"
          },
          "free_bikes": 1,
          "id": "237e73b6b68d9b4f9ce8dded10a8863b",
          "latitude": 43.69415,
          "longitude": -79.45782580000001,
          "name": "Eglinton Ave W / Prospect Cemetery",
          "timestamp": "2022-11-08T08:49:30.555000Z"
         },
         {
          "empty_slots": 2,
          "extra": {
           "address": "200 Rogers Rd",
           "last_updated": 1667897208,
           "payment": [
            "key",
            "transitcard",
            "phone"
           ],
           "payment-terminal": false,
           "renting": 1,
           "returning": 1,
           "uid": "7744"
          },
          "free_bikes": 0,
          "id": "efa09930a330244a9bbc6af02ea49370",
          "latitude": 43.6840231,
          "longitude": -79.4533308,
          "name": "Rogers Rd / Prospect Cemetery",
          "timestamp": "2022-11-08T08:49:30.558000Z"
         }
        ]
       }
      },
      "text/plain": [
       "<IPython.core.display.JSON object>"
      ]
     },
     "execution_count": 4,
     "metadata": {
      "application/json": {
       "expanded": false,
       "root": "root"
      }
     },
     "output_type": "execute_result"
    }
   ],
   "source": [
    "network_id = \"bixi-toronto\"\n",
    "network_json = requests.get(\"http://api.citybik.es/v2/networks/\"+network_id).json()\n",
    "JSON(network_json)"
   ]
  },
  {
   "cell_type": "code",
   "execution_count": 5,
   "metadata": {},
   "outputs": [],
   "source": [
    "stations = network_json['network']['stations']\n",
    "station_names = []\n",
    "for each_station in range(len(stations)):\n",
    "    station_names.append(stations[each_station])"
   ]
  },
  {
   "cell_type": "markdown",
   "metadata": {},
   "source": [
    "Parse through the response to get the details you want for the bike stations in that city (latitude, longitude, number of bikes). "
   ]
  },
  {
   "cell_type": "markdown",
   "metadata": {},
   "source": [
    "Put your parsed results into a DataFrame."
   ]
  },
  {
   "cell_type": "code",
   "execution_count": 8,
   "metadata": {},
   "outputs": [
    {
     "data": {
      "text/html": [
       "<div>\n",
       "<style scoped>\n",
       "    .dataframe tbody tr th:only-of-type {\n",
       "        vertical-align: middle;\n",
       "    }\n",
       "\n",
       "    .dataframe tbody tr th {\n",
       "        vertical-align: top;\n",
       "    }\n",
       "\n",
       "    .dataframe thead th {\n",
       "        text-align: right;\n",
       "    }\n",
       "</style>\n",
       "<table border=\"1\" class=\"dataframe\">\n",
       "  <thead>\n",
       "    <tr style=\"text-align: right;\">\n",
       "      <th></th>\n",
       "      <th>name</th>\n",
       "      <th>latitude</th>\n",
       "      <th>longitude</th>\n",
       "      <th>free_bikes</th>\n",
       "    </tr>\n",
       "  </thead>\n",
       "  <tbody>\n",
       "    <tr>\n",
       "      <th>0</th>\n",
       "      <td>Queen St E / Woodward Ave</td>\n",
       "      <td>43.665269</td>\n",
       "      <td>-79.319796</td>\n",
       "      <td>19</td>\n",
       "    </tr>\n",
       "    <tr>\n",
       "      <th>1</th>\n",
       "      <td>Primrose Ave / Davenport Rd</td>\n",
       "      <td>43.671420</td>\n",
       "      <td>-79.445947</td>\n",
       "      <td>0</td>\n",
       "    </tr>\n",
       "    <tr>\n",
       "      <th>2</th>\n",
       "      <td>Queen St. E / Rhodes Ave.</td>\n",
       "      <td>43.666224</td>\n",
       "      <td>-79.317693</td>\n",
       "      <td>21</td>\n",
       "    </tr>\n",
       "    <tr>\n",
       "      <th>3</th>\n",
       "      <td>Bond St / Queen St E</td>\n",
       "      <td>43.653236</td>\n",
       "      <td>-79.376716</td>\n",
       "      <td>17</td>\n",
       "    </tr>\n",
       "    <tr>\n",
       "      <th>4</th>\n",
       "      <td>Church St / Alexander St</td>\n",
       "      <td>43.663722</td>\n",
       "      <td>-79.380288</td>\n",
       "      <td>3</td>\n",
       "    </tr>\n",
       "    <tr>\n",
       "      <th>...</th>\n",
       "      <td>...</td>\n",
       "      <td>...</td>\n",
       "      <td>...</td>\n",
       "      <td>...</td>\n",
       "    </tr>\n",
       "    <tr>\n",
       "      <th>635</th>\n",
       "      <td>Danforth Ave / Warden Ave</td>\n",
       "      <td>43.695019</td>\n",
       "      <td>-79.271807</td>\n",
       "      <td>5</td>\n",
       "    </tr>\n",
       "    <tr>\n",
       "      <th>636</th>\n",
       "      <td>Eglinton Ave W / Gilbert Ave</td>\n",
       "      <td>43.692632</td>\n",
       "      <td>-79.462754</td>\n",
       "      <td>0</td>\n",
       "    </tr>\n",
       "    <tr>\n",
       "      <th>637</th>\n",
       "      <td>Sharpe St / Park St (Sandown Park)</td>\n",
       "      <td>43.710597</td>\n",
       "      <td>-79.254118</td>\n",
       "      <td>0</td>\n",
       "    </tr>\n",
       "    <tr>\n",
       "      <th>638</th>\n",
       "      <td>Eglinton Ave W / Prospect Cemetery</td>\n",
       "      <td>43.694150</td>\n",
       "      <td>-79.457826</td>\n",
       "      <td>1</td>\n",
       "    </tr>\n",
       "    <tr>\n",
       "      <th>639</th>\n",
       "      <td>Rogers Rd / Prospect Cemetery</td>\n",
       "      <td>43.684023</td>\n",
       "      <td>-79.453331</td>\n",
       "      <td>0</td>\n",
       "    </tr>\n",
       "  </tbody>\n",
       "</table>\n",
       "<p>640 rows × 4 columns</p>\n",
       "</div>"
      ],
      "text/plain": [
       "                                   name   latitude  longitude  free_bikes\n",
       "0             Queen St E / Woodward Ave  43.665269 -79.319796          19\n",
       "1           Primrose Ave / Davenport Rd  43.671420 -79.445947           0\n",
       "2             Queen St. E / Rhodes Ave.  43.666224 -79.317693          21\n",
       "3                  Bond St / Queen St E  43.653236 -79.376716          17\n",
       "4              Church St / Alexander St  43.663722 -79.380288           3\n",
       "..                                  ...        ...        ...         ...\n",
       "635           Danforth Ave / Warden Ave  43.695019 -79.271807           5\n",
       "636        Eglinton Ave W / Gilbert Ave  43.692632 -79.462754           0\n",
       "637  Sharpe St / Park St (Sandown Park)  43.710597 -79.254118           0\n",
       "638  Eglinton Ave W / Prospect Cemetery  43.694150 -79.457826           1\n",
       "639       Rogers Rd / Prospect Cemetery  43.684023 -79.453331           0\n",
       "\n",
       "[640 rows x 4 columns]"
      ]
     },
     "execution_count": 8,
     "metadata": {},
     "output_type": "execute_result"
    }
   ],
   "source": [
    "df = pd.DataFrame(stations)\n",
    "newdf = df[['name', 'latitude', 'longitude', 'free_bikes']]\n",
    "newdf"
   ]
  },
  {
   "cell_type": "code",
   "execution_count": 9,
   "metadata": {},
   "outputs": [],
   "source": [
    "newdf.to_csv('bike_info.csv')"
   ]
  },
  {
   "cell_type": "code",
   "execution_count": null,
   "metadata": {},
   "outputs": [],
   "source": []
  }
 ],
 "metadata": {
  "kernelspec": {
   "display_name": "Python 3 (ipykernel)",
   "language": "python",
   "name": "python3"
  },
  "language_info": {
   "codemirror_mode": {
    "name": "ipython",
    "version": 3
   },
   "file_extension": ".py",
   "mimetype": "text/x-python",
   "name": "python",
   "nbconvert_exporter": "python",
   "pygments_lexer": "ipython3",
   "version": "3.9.12"
  }
 },
 "nbformat": 4,
 "nbformat_minor": 4
}
