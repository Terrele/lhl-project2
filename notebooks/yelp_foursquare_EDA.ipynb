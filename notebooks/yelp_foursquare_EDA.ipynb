{
 "cells": [
  {
   "cell_type": "code",
   "execution_count": 1,
   "metadata": {},
   "outputs": [],
   "source": [
    "# imports"
   ]
  },
  {
   "cell_type": "code",
   "execution_count": 2,
   "metadata": {},
   "outputs": [],
   "source": [
    "import requests\n",
    "from IPython.display import JSON"
   ]
  },
  {
   "cell_type": "code",
   "execution_count": 3,
   "metadata": {},
   "outputs": [],
   "source": [
    "import pandas as pd\n",
    "import os"
   ]
  },
  {
   "cell_type": "markdown",
   "metadata": {},
   "source": [
    "# Foursquare"
   ]
  },
  {
   "cell_type": "markdown",
   "metadata": {},
   "source": [
    "### Send a request to Foursquare with a small radius (1000m) for all the bike stations in your city of choice. "
   ]
  },
  {
   "cell_type": "code",
   "execution_count": 4,
   "metadata": {},
   "outputs": [
    {
     "name": "stdout",
     "output_type": "stream",
     "text": [
      "43.665269,-79.319796\n"
     ]
    }
   ],
   "source": [
    "#For all bike stations in the city of your choice, get the latitude and longitude.\n",
    "df = pd.read_csv(\"bike_info.csv\")\n",
    "column = list(df)\n",
    "ll = []\n",
    "for i in range(len(column)-1):\n",
    "    ll.append((f\"{str(df['latitude'][i])},{str(df['longitude'][i])}\"))\n",
    "print(ll[0])"
   ]
  },
  {
   "cell_type": "code",
   "execution_count": 5,
   "metadata": {},
   "outputs": [
    {
     "data": {
      "text/plain": [
       "<Response [200]>"
      ]
     },
     "execution_count": 5,
     "metadata": {},
     "output_type": "execute_result"
    }
   ],
   "source": [
    "def station(llvalue):\n",
    "    '''\n",
    "    llvalue: str\n",
    "    return: HTTPCode\n",
    "    Take a string that looks like \"latitude,longitude\"\n",
    "    '''\n",
    "    headers = {\"Accept\": \"application/json\"}\n",
    "    headers[\"Authorization\"] = os.environ.get('FOURSQUARE_API_KEY')\n",
    "    fields = 'name,rating,categories,price,popularity,geocodes'\n",
    "    url = (f'https://api.foursquare.com/v3/places/search')\n",
    "    parameters = {'ll' : llvalue,\n",
    "                  'fields' : fields,\n",
    "                  'radius' : 1000,\n",
    "                  'categories' : '13065,13003',\n",
    "                  'limit' : '50'\n",
    "                 }\n",
    "    four_square_networks = requests.get(url, headers=headers, params=parameters)\n",
    "    return four_square_networks\n",
    "station(\"43.665269,-79.319796\")\n"
   ]
  },
  {
   "cell_type": "code",
   "execution_count": 6,
   "metadata": {},
   "outputs": [
    {
     "data": {
      "application/json": {
       "context": {
        "geo_bounds": {
         "circle": {
          "center": {
           "latitude": 43.666224,
           "longitude": -79.317693
          },
          "radius": 1000
         }
        }
       },
       "results": [
        {
         "categories": [
          {
           "icon": {
            "prefix": "https://ss3.4sqi.net/img/categories_v2/food/brewery_",
            "suffix": ".png"
           },
           "id": 13029,
           "name": "Brewery"
          },
          {
           "icon": {
            "prefix": "https://ss3.4sqi.net/img/categories_v2/food/default_",
            "suffix": ".png"
           },
           "id": 13065,
           "name": "Restaurant"
          }
         ],
         "geocodes": {
          "main": {
           "latitude": 43.663542,
           "longitude": -79.319882
          },
          "roof": {
           "latitude": 43.663542,
           "longitude": -79.319882
          }
         },
         "name": "Rorschach Brewing",
         "popularity": 0.9826734217652271,
         "price": 2,
         "rating": 8.5
        },
        {
         "categories": [
          {
           "icon": {
            "prefix": "https://ss3.4sqi.net/img/categories_v2/food/pizza_",
            "suffix": ".png"
           },
           "id": 13064,
           "name": "Pizzeria"
          },
          {
           "icon": {
            "prefix": "https://ss3.4sqi.net/img/categories_v2/food/sushi_",
            "suffix": ".png"
           },
           "id": 13276,
           "name": "Sushi Restaurant"
          }
         ],
         "geocodes": {
          "main": {
           "latitude": 43.666623,
           "longitude": -79.316861
          },
          "roof": {
           "latitude": 43.666623,
           "longitude": -79.316861
          }
         },
         "name": "O Sushi",
         "popularity": 0.933507618203826,
         "price": 2,
         "rating": 7.9
        },
        {
         "categories": [
          {
           "icon": {
            "prefix": "https://ss3.4sqi.net/img/categories_v2/nightlife/pub_",
            "suffix": ".png"
           },
           "id": 13003,
           "name": "Bar"
          },
          {
           "icon": {
            "prefix": "https://ss3.4sqi.net/img/categories_v2/food/asian_",
            "suffix": ".png"
           },
           "id": 13072,
           "name": "Asian Restaurant"
          }
         ],
         "geocodes": {
          "main": {
           "latitude": 43.672424,
           "longitude": -79.320489
          },
          "roof": {
           "latitude": 43.672424,
           "longitude": -79.320489
          }
         },
         "name": "Lake Inez",
         "popularity": 0.9345683017831963,
         "price": 2,
         "rating": 8.8
        },
        {
         "categories": [
          {
           "icon": {
            "prefix": "https://ss3.4sqi.net/img/categories_v2/food/indian_",
            "suffix": ".png"
           },
           "id": 13199,
           "name": "Indian Restaurant"
          }
         ],
         "geocodes": {
          "main": {
           "latitude": 43.672659,
           "longitude": -79.321134
          },
          "roof": {
           "latitude": 43.672659,
           "longitude": -79.321134
          }
         },
         "name": "Udupi Palace",
         "popularity": 0.9197873641389122,
         "price": 1,
         "rating": 8.6
        },
        {
         "categories": [
          {
           "icon": {
            "prefix": "https://ss3.4sqi.net/img/categories_v2/nightlife/default_",
            "suffix": ".png"
           },
           "id": 13016,
           "name": "Lounge"
          },
          {
           "icon": {
            "prefix": "https://ss3.4sqi.net/img/categories_v2/food/default_",
            "suffix": ".png"
           },
           "id": 13134,
           "name": "Comfort Food Restaurant"
          },
          {
           "icon": {
            "prefix": "https://ss3.4sqi.net/img/categories_v2/food/fastfood_",
            "suffix": ".png"
           },
           "id": 13145,
           "name": "Fast Food Restaurant"
          }
         ],
         "geocodes": {
          "main": {
           "latitude": 43.663791,
           "longitude": -79.328899
          },
          "roof": {
           "latitude": 43.663791,
           "longitude": -79.328899
          }
         },
         "name": "Hasting Snack Bar",
         "popularity": 0.9248786453198897,
         "price": 1,
         "rating": 9
        },
        {
         "categories": [
          {
           "icon": {
            "prefix": "https://ss3.4sqi.net/img/categories_v2/nightlife/pub_",
            "suffix": ".png"
           },
           "id": 13003,
           "name": "Bar"
          },
          {
           "icon": {
            "prefix": "https://ss3.4sqi.net/img/categories_v2/food/brewery_",
            "suffix": ".png"
           },
           "id": 13029,
           "name": "Brewery"
          },
          {
           "icon": {
            "prefix": "https://ss3.4sqi.net/img/categories_v2/food/default_",
            "suffix": ".png"
           },
           "id": 13065,
           "name": "Restaurant"
          }
         ],
         "geocodes": {
          "main": {
           "latitude": 43.672615,
           "longitude": -79.319396
          },
          "roof": {
           "latitude": 43.672615,
           "longitude": -79.319396
          }
         },
         "name": "Godspeed Brewery",
         "popularity": 0.9577660755955426,
         "price": 2,
         "rating": 8.3
        },
        {
         "categories": [
          {
           "icon": {
            "prefix": "https://ss3.4sqi.net/img/categories_v2/food/asian_",
            "suffix": ".png"
           },
           "id": 13099,
           "name": "Chinese Restaurant"
          },
          {
           "icon": {
            "prefix": "https://ss3.4sqi.net/img/categories_v2/food/burrito_",
            "suffix": ".png"
           },
           "id": 13305,
           "name": "Burrito Restaurant"
          }
         ],
         "geocodes": {
          "main": {
           "latitude": 43.66454,
           "longitude": -79.32551
          },
          "roof": {
           "latitude": 43.66454,
           "longitude": -79.32551
          }
         },
         "name": "Chino Locos",
         "popularity": 0.9245729188764241,
         "price": 1,
         "rating": 8.2
        },
        {
         "categories": [
          {
           "icon": {
            "prefix": "https://ss3.4sqi.net/img/categories_v2/food/pizza_",
            "suffix": ".png"
           },
           "id": 13064,
           "name": "Pizzeria"
          },
          {
           "icon": {
            "prefix": "https://ss3.4sqi.net/img/categories_v2/food/italian_",
            "suffix": ".png"
           },
           "id": 13236,
           "name": "Italian Restaurant"
          },
          {
           "icon": {
            "prefix": "https://ss3.4sqi.net/img/categories_v2/food/mediterranean_",
            "suffix": ".png"
           },
           "id": 13302,
           "name": "Mediterranean Restaurant"
          }
         ],
         "geocodes": {
          "main": {
           "latitude": 43.666814,
           "longitude": -79.314974
          },
          "roof": {
           "latitude": 43.666814,
           "longitude": -79.314974
          }
         },
         "name": "Casa Di Giorgios",
         "popularity": 0.9191696719368082,
         "price": 2,
         "rating": 7.3
        },
        {
         "categories": [
          {
           "icon": {
            "prefix": "https://ss3.4sqi.net/img/categories_v2/food/cafe_",
            "suffix": ".png"
           },
           "id": 13034,
           "name": "Café"
          },
          {
           "icon": {
            "prefix": "https://ss3.4sqi.net/img/categories_v2/food/donuts_",
            "suffix": ".png"
           },
           "id": 13043,
           "name": "Donut Shop"
          },
          {
           "icon": {
            "prefix": "https://ss3.4sqi.net/img/categories_v2/food/default_",
            "suffix": ".png"
           },
           "id": 13065,
           "name": "Restaurant"
          }
         ],
         "geocodes": {
          "main": {
           "latitude": 43.672589,
           "longitude": -79.319766
          },
          "roof": {
           "latitude": 43.672589,
           "longitude": -79.319766
          }
         },
         "name": "Glory Hole Doughnuts",
         "popularity": 0.9058861699339881,
         "price": 1,
         "rating": 7.8
        },
        {
         "categories": [
          {
           "icon": {
            "prefix": "https://ss3.4sqi.net/img/categories_v2/food/indian_",
            "suffix": ".png"
           },
           "id": 13199,
           "name": "Indian Restaurant"
          },
          {
           "icon": {
            "prefix": "https://ss3.4sqi.net/img/categories_v2/food/default_",
            "suffix": ".png"
           },
           "id": 13316,
           "name": "Pakistani Restaurant"
          }
         ],
         "geocodes": {
          "main": {
           "latitude": 43.671504,
           "longitude": -79.324693
          },
          "roof": {
           "latitude": 43.671504,
           "longitude": -79.324693
          }
         },
         "name": "Lahore Tikka House",
         "popularity": 0.9887006002221196,
         "price": 2,
         "rating": 7.9
        },
        {
         "categories": [
          {
           "icon": {
            "prefix": "https://ss3.4sqi.net/img/categories_v2/food/indian_",
            "suffix": ".png"
           },
           "id": 13199,
           "name": "Indian Restaurant"
          }
         ],
         "geocodes": {
          "main": {
           "latitude": 43.672337,
           "longitude": -79.322486
          },
          "roof": {
           "latitude": 43.672337,
           "longitude": -79.322486
          }
         },
         "name": "Motimahal Restaurant Ltd",
         "popularity": 0.957622571346569,
         "price": 2,
         "rating": 7.6
        },
        {
         "categories": [
          {
           "icon": {
            "prefix": "https://ss3.4sqi.net/img/categories_v2/nightlife/pub_",
            "suffix": ".png"
           },
           "id": 13003,
           "name": "Bar"
          },
          {
           "icon": {
            "prefix": "https://ss3.4sqi.net/img/categories_v2/food/default_",
            "suffix": ".png"
           },
           "id": 13065,
           "name": "Restaurant"
          }
         ],
         "geocodes": {
          "main": {
           "latitude": 43.672449,
           "longitude": -79.321708
          },
          "roof": {
           "latitude": 43.672449,
           "longitude": -79.321708
          }
         },
         "name": "Eulalie's Corner Store",
         "popularity": 0.9141719804834222,
         "price": 2,
         "rating": 7.3
        },
        {
         "categories": [
          {
           "icon": {
            "prefix": "https://ss3.4sqi.net/img/categories_v2/food/fastfood_",
            "suffix": ".png"
           },
           "id": 13145,
           "name": "Fast Food Restaurant"
          },
          {
           "icon": {
            "prefix": "https://ss3.4sqi.net/img/categories_v2/food/indian_",
            "suffix": ".png"
           },
           "id": 13199,
           "name": "Indian Restaurant"
          }
         ],
         "geocodes": {
          "main": {
           "latitude": 43.671864,
           "longitude": -79.324375
          },
          "roof": {
           "latitude": 43.671864,
           "longitude": -79.324375
          }
         },
         "name": "Bombay Chowpatty",
         "popularity": 0.0889601557333067,
         "price": 2,
         "rating": 7.2
        },
        {
         "categories": [
          {
           "icon": {
            "prefix": "https://ss3.4sqi.net/img/categories_v2/food/fastfood_",
            "suffix": ".png"
           },
           "id": 13145,
           "name": "Fast Food Restaurant"
          }
         ],
         "geocodes": {
          "main": {
           "latitude": 43.666527,
           "longitude": -79.315069
          },
          "roof": {
           "latitude": 43.666527,
           "longitude": -79.315069
          }
         },
         "name": "Harvey's",
         "popularity": 0.9693088086651609,
         "price": 2,
         "rating": 6.6
        },
        {
         "categories": [
          {
           "icon": {
            "prefix": "https://ss3.4sqi.net/img/categories_v2/food/deli_",
            "suffix": ".png"
           },
           "id": 13039,
           "name": "Deli"
          },
          {
           "icon": {
            "prefix": "https://ss3.4sqi.net/img/categories_v2/food/fastfood_",
            "suffix": ".png"
           },
           "id": 13145,
           "name": "Fast Food Restaurant"
          }
         ],
         "geocodes": {
          "main": {
           "latitude": 43.666054,
           "longitude": -79.316958
          },
          "roof": {
           "latitude": 43.666054,
           "longitude": -79.316958
          }
         },
         "name": "Subway",
         "popularity": 0.8982742054232128,
         "price": 1,
         "rating": 6.2
        },
        {
         "categories": [
          {
           "icon": {
            "prefix": "https://ss3.4sqi.net/img/categories_v2/food/burger_",
            "suffix": ".png"
           },
           "id": 13031,
           "name": "Burger Joint"
          },
          {
           "icon": {
            "prefix": "https://ss3.4sqi.net/img/categories_v2/food/cafe_",
            "suffix": ".png"
           },
           "id": 13034,
           "name": "Café"
          },
          {
           "icon": {
            "prefix": "https://ss3.4sqi.net/img/categories_v2/food/default_",
            "suffix": ".png"
           },
           "id": 13068,
           "name": "American Restaurant"
          }
         ],
         "geocodes": {
          "main": {
           "latitude": 43.672661,
           "longitude": -79.319544
          },
          "roof": {
           "latitude": 43.672661,
           "longitude": -79.319544
          }
         },
         "name": "Lazy Daisy's Cafe",
         "popularity": 0.9292773625166901,
         "price": 1,
         "rating": 6.9
        },
        {
         "categories": [
          {
           "icon": {
            "prefix": "https://ss3.4sqi.net/img/categories_v2/food/bakery_",
            "suffix": ".png"
           },
           "id": 13002,
           "name": "Bakery"
          },
          {
           "icon": {
            "prefix": "https://ss3.4sqi.net/img/categories_v2/food/default_",
            "suffix": ".png"
           },
           "id": 13065,
           "name": "Restaurant"
          }
         ],
         "geocodes": {
          "main": {
           "latitude": 43.663838,
           "longitude": -79.328252
          },
          "roof": {
           "latitude": 43.663838,
           "longitude": -79.328252
          }
         },
         "name": "Sweet Bliss Baking Co",
         "popularity": 0.9632067584261952,
         "price": 1,
         "rating": 6.6
        },
        {
         "categories": [
          {
           "icon": {
            "prefix": "https://ss3.4sqi.net/img/categories_v2/food/caribbean_",
            "suffix": ".png"
           },
           "id": 13097,
           "name": "Caribbean Restaurant"
          }
         ],
         "geocodes": {
          "main": {
           "latitude": 43.66621,
           "longitude": -79.317918
          },
          "roof": {
           "latitude": 43.66621,
           "longitude": -79.317918
          }
         },
         "name": "Jaclyn's",
         "popularity": 0.9273743713889964,
         "price": 2
        },
        {
         "categories": [
          {
           "icon": {
            "prefix": "https://ss3.4sqi.net/img/categories_v2/food/fastfood_",
            "suffix": ".png"
           },
           "id": 13145,
           "name": "Fast Food Restaurant"
          }
         ],
         "geocodes": {
          "main": {
           "latitude": 43.664593,
           "longitude": -79.325565
          },
          "roof": {
           "latitude": 43.664593,
           "longitude": -79.325565
          }
         },
         "name": "KFC",
         "popularity": 0.9128617242971412,
         "price": 1,
         "rating": 5.6
        },
        {
         "categories": [
          {
           "icon": {
            "prefix": "https://ss3.4sqi.net/img/categories_v2/food/indian_",
            "suffix": ".png"
           },
           "id": 13199,
           "name": "Indian Restaurant"
          }
         ],
         "geocodes": {
          "main": {
           "latitude": 43.672004,
           "longitude": -79.322433
          },
          "roof": {
           "latitude": 43.672004,
           "longitude": -79.322433
          }
         },
         "name": "Regency Restaurant Inc",
         "popularity": 0.8870309594818873,
         "price": 2,
         "rating": 6.2
        },
        {
         "categories": [
          {
           "icon": {
            "prefix": "https://ss3.4sqi.net/img/categories_v2/food/burger_",
            "suffix": ".png"
           },
           "id": 13031,
           "name": "Burger Joint"
          },
          {
           "icon": {
            "prefix": "https://ss3.4sqi.net/img/categories_v2/food/fastfood_",
            "suffix": ".png"
           },
           "id": 13145,
           "name": "Fast Food Restaurant"
          }
         ],
         "geocodes": {
          "main": {
           "latitude": 43.664993,
           "longitude": -79.319222
          },
          "roof": {
           "latitude": 43.664993,
           "longitude": -79.319222
          }
         },
         "name": "McDonald's",
         "popularity": 0.9958633340404557,
         "price": 1,
         "rating": 5.4
        },
        {
         "categories": [
          {
           "icon": {
            "prefix": "https://ss3.4sqi.net/img/categories_v2/food/japanese_",
            "suffix": ".png"
           },
           "id": 13263,
           "name": "Japanese Restaurant"
          }
         ],
         "geocodes": {
          "main": {
           "latitude": 43.664751,
           "longitude": -79.324182
          }
         },
         "name": "Maru Japanese Bistro",
         "popularity": 0.9609169297577898,
         "price": 2
        },
        {
         "categories": [
          {
           "icon": {
            "prefix": "https://ss3.4sqi.net/img/categories_v2/food/pizza_",
            "suffix": ".png"
           },
           "id": 13064,
           "name": "Pizzeria"
          }
         ],
         "geocodes": {
          "main": {
           "latitude": 43.669008,
           "longitude": -79.311883
          }
         },
         "name": "Maestro Omar's Gourmet Pizza",
         "popularity": 0.9471654791170121,
         "price": 1
        },
        {
         "categories": [
          {
           "icon": {
            "prefix": "https://ss3.4sqi.net/img/categories_v2/food/deli_",
            "suffix": ".png"
           },
           "id": 13334,
           "name": "Sandwich Restaurant"
          }
         ],
         "geocodes": {
          "main": {
           "latitude": 43.664574,
           "longitude": -79.325048
          },
          "roof": {
           "latitude": 43.664574,
           "longitude": -79.325048
          }
         },
         "name": "Mira Mira",
         "popularity": 0.9279795849607547,
         "price": 1
        },
        {
         "categories": [
          {
           "icon": {
            "prefix": "https://ss3.4sqi.net/img/categories_v2/food/asian_",
            "suffix": ".png"
           },
           "id": 13099,
           "name": "Chinese Restaurant"
          },
          {
           "icon": {
            "prefix": "https://ss3.4sqi.net/img/categories_v2/food/dumplings_",
            "suffix": ".png"
           },
           "id": 13137,
           "name": "Dumpling Restaurant"
          }
         ],
         "geocodes": {
          "main": {
           "latitude": 43.66457,
           "longitude": -79.325259
          }
         },
         "name": "My Little Dumplings",
         "popularity": 0.22251269700637658,
         "price": 1
        },
        {
         "categories": [
          {
           "icon": {
            "prefix": "https://ss3.4sqi.net/img/categories_v2/nightlife/default_",
            "suffix": ".png"
           },
           "id": 13016,
           "name": "Lounge"
          },
          {
           "icon": {
            "prefix": "https://ss3.4sqi.net/img/categories_v2/food/greek_",
            "suffix": ".png"
           },
           "id": 13177,
           "name": "Greek Restaurant"
          }
         ],
         "geocodes": {
          "main": {
           "latitude": 43.662621,
           "longitude": -79.310058
          },
          "roof": {
           "latitude": 43.662621,
           "longitude": -79.310058
          }
         },
         "name": "TRINITY Modern Greek Taverna Bar & Lounge",
         "popularity": 0.8319440458215306,
         "price": 3
        },
        {
         "categories": [
          {
           "icon": {
            "prefix": "https://ss3.4sqi.net/img/categories_v2/food/indian_",
            "suffix": ".png"
           },
           "id": 13199,
           "name": "Indian Restaurant"
          }
         ],
         "geocodes": {
          "main": {
           "latitude": 43.672841,
           "longitude": -79.316252
          },
          "roof": {
           "latitude": 43.672841,
           "longitude": -79.316252
          }
         },
         "name": "Sidhartha Indian Resturaunt",
         "popularity": 0.3002919999500855,
         "price": 2
        },
        {
         "categories": [
          {
           "icon": {
            "prefix": "https://ss3.4sqi.net/img/categories_v2/food/sushi_",
            "suffix": ".png"
           },
           "id": 13276,
           "name": "Sushi Restaurant"
          }
         ],
         "geocodes": {
          "main": {
           "latitude": 43.672306,
           "longitude": -79.321358
          },
          "roof": {
           "latitude": 43.672306,
           "longitude": -79.321358
          }
         },
         "name": "Toto Sushi",
         "popularity": 0.9586021438286934,
         "price": 2
        },
        {
         "categories": [
          {
           "icon": {
            "prefix": "https://ss3.4sqi.net/img/categories_v2/food/gastropub_",
            "suffix": ".png"
           },
           "id": 13057,
           "name": "Gastropub"
          }
         ],
         "geocodes": {
          "main": {
           "latitude": 43.672411,
           "longitude": -79.320674
          },
          "roof": {
           "latitude": 43.672411,
           "longitude": -79.320674
          }
         },
         "name": "Two Headed Dog",
         "popularity": 0.8094637932540525,
         "price": 3
        },
        {
         "categories": [
          {
           "icon": {
            "prefix": "https://ss3.4sqi.net/img/categories_v2/food/seafood_",
            "suffix": ".png"
           },
           "id": 13338,
           "name": "Seafood Restaurant"
          }
         ],
         "geocodes": {
          "main": {
           "latitude": 43.662636,
           "longitude": -79.309969
          }
         },
         "name": "Toronto Beach Club",
         "popularity": 0.9705129964935049,
         "price": 3
        },
        {
         "categories": [
          {
           "icon": {
            "prefix": "https://ss3.4sqi.net/img/categories_v2/food/donuts_",
            "suffix": ".png"
           },
           "id": 13043,
           "name": "Donut Shop"
          },
          {
           "icon": {
            "prefix": "https://ss3.4sqi.net/img/categories_v2/food/default_",
            "suffix": ".png"
           },
           "id": 13065,
           "name": "Restaurant"
          }
         ],
         "geocodes": {
          "main": {
           "latitude": 43.673138,
           "longitude": -79.319151
          },
          "roof": {
           "latitude": 43.673138,
           "longitude": -79.319151
          }
         },
         "name": "Coffee Time",
         "popularity": 0.8473676329286097,
         "price": 1
        },
        {
         "categories": [
          {
           "icon": {
            "prefix": "https://ss3.4sqi.net/img/categories_v2/food/halal_",
            "suffix": ".png"
           },
           "id": 13191,
           "name": "Halal Restaurant"
          },
          {
           "icon": {
            "prefix": "https://ss3.4sqi.net/img/categories_v2/food/indian_",
            "suffix": ".png"
           },
           "id": 13199,
           "name": "Indian Restaurant"
          }
         ],
         "geocodes": {
          "main": {
           "latitude": 43.672402,
           "longitude": -79.322356
          },
          "roof": {
           "latitude": 43.672402,
           "longitude": -79.322356
          }
         },
         "name": "Chandni Chowk Restaurant",
         "popularity": 0.9015124099978786
        },
        {
         "categories": [
          {
           "icon": {
            "prefix": "https://ss3.4sqi.net/img/categories_v2/food/diner_",
            "suffix": ".png"
           },
           "id": 13049,
           "name": "Diner"
          },
          {
           "icon": {
            "prefix": "https://ss3.4sqi.net/img/categories_v2/food/indian_",
            "suffix": ".png"
           },
           "id": 13199,
           "name": "Indian Restaurant"
          }
         ],
         "geocodes": {
          "main": {
           "latitude": 43.671741,
           "longitude": -79.323748
          },
          "roof": {
           "latitude": 43.671741,
           "longitude": -79.323748
          }
         },
         "name": "Baldev Paan & Cold Drink House",
         "popularity": 0.9236370216005091,
         "price": 2
        },
        {
         "categories": [
          {
           "icon": {
            "prefix": "https://ss3.4sqi.net/img/categories_v2/food/indian_",
            "suffix": ".png"
           },
           "id": 13199,
           "name": "Indian Restaurant"
          }
         ],
         "geocodes": {
          "main": {
           "latitude": 43.672076,
           "longitude": -79.322211
          },
          "roof": {
           "latitude": 43.672076,
           "longitude": -79.322211
          }
         },
         "name": "Indian Rasoi",
         "popularity": 0.8650061769220211,
         "price": 2
        },
        {
         "categories": [
          {
           "icon": {
            "prefix": "https://ss3.4sqi.net/img/categories_v2/food/indian_",
            "suffix": ".png"
           },
           "id": 13199,
           "name": "Indian Restaurant"
          }
         ],
         "geocodes": {
          "main": {
           "latitude": 43.671922,
           "longitude": -79.324285
          }
         },
         "name": "Leela Indian Food Bar",
         "popularity": 0.9728589789984651,
         "price": 2
        },
        {
         "categories": [
          {
           "icon": {
            "prefix": "https://ss3.4sqi.net/img/categories_v2/nightlife/divebar_",
            "suffix": ".png"
           },
           "id": 13010,
           "name": "Dive Bar"
          }
         ],
         "geocodes": {
          "main": {
           "latitude": 43.671909,
           "longitude": -79.324523
          },
          "roof": {
           "latitude": 43.671909,
           "longitude": -79.324523
          }
         },
         "name": "Jenny's Place",
         "popularity": 0.3811909604801777,
         "price": 1
        },
        {
         "categories": [
          {
           "icon": {
            "prefix": "https://ss3.4sqi.net/img/categories_v2/food/dessert_",
            "suffix": ".png"
           },
           "id": 13040,
           "name": "Dessert Shop"
          },
          {
           "icon": {
            "prefix": "https://ss3.4sqi.net/img/categories_v2/food/fastfood_",
            "suffix": ".png"
           },
           "id": 13145,
           "name": "Fast Food Restaurant"
          },
          {
           "icon": {
            "prefix": "https://ss3.4sqi.net/img/categories_v2/food/indian_",
            "suffix": ".png"
           },
           "id": 13199,
           "name": "Indian Restaurant"
          }
         ],
         "geocodes": {
          "main": {
           "latitude": 43.671693,
           "longitude": -79.32519
          },
          "roof": {
           "latitude": 43.671693,
           "longitude": -79.32519
          }
         },
         "name": "Taste of Tandooree",
         "popularity": 0.5281705080050414,
         "price": 1
        },
        {
         "categories": [
          {
           "icon": {
            "prefix": "https://ss3.4sqi.net/img/categories_v2/food/diner_",
            "suffix": ".png"
           },
           "id": 13049,
           "name": "Diner"
          },
          {
           "icon": {
            "prefix": "https://ss3.4sqi.net/img/categories_v2/food/afghan_",
            "suffix": ".png"
           },
           "id": 13066,
           "name": "Afghan Restaurant"
          }
         ],
         "geocodes": {
          "main": {
           "latitude": 43.671542,
           "longitude": -79.325728
          },
          "roof": {
           "latitude": 43.671542,
           "longitude": -79.325728
          }
         },
         "name": "Kabul Kabab House",
         "popularity": 0.8462320775671662,
         "price": 2
        },
        {
         "categories": [
          {
           "icon": {
            "prefix": "https://ss3.4sqi.net/img/categories_v2/food/coffeeshop_",
            "suffix": ".png"
           },
           "id": 13035,
           "name": "Coffee Shop"
          },
          {
           "icon": {
            "prefix": "https://ss3.4sqi.net/img/categories_v2/food/vegetarian_",
            "suffix": ".png"
           },
           "id": 13377,
           "name": "Vegan and Vegetarian Restaurant"
          }
         ],
         "geocodes": {
          "main": {
           "latitude": 43.671666,
           "longitude": -79.32556
          },
          "roof": {
           "latitude": 43.671666,
           "longitude": -79.32556
          }
         },
         "name": "The Social Gardener",
         "popularity": 0.930431635823652,
         "price": 2
        },
        {
         "categories": [
          {
           "icon": {
            "prefix": "https://ss3.4sqi.net/img/categories_v2/nightlife/divebar_",
            "suffix": ".png"
           },
           "id": 13010,
           "name": "Dive Bar"
          }
         ],
         "geocodes": {
          "main": {
           "latitude": 43.663504,
           "longitude": -79.328056
          }
         },
         "name": "Betty's East",
         "popularity": 0.930138388010532,
         "price": 1
        },
        {
         "categories": [
          {
           "icon": {
            "prefix": "https://ss3.4sqi.net/img/categories_v2/food/french_",
            "suffix": ".png"
           },
           "id": 13148,
           "name": "French Restaurant"
          }
         ],
         "geocodes": {
          "main": {
           "latitude": 43.663825,
           "longitude": -79.328437
          },
          "roof": {
           "latitude": 43.663825,
           "longitude": -79.328437
          }
         },
         "name": "Jules Bistro",
         "popularity": 0.8999775384653781,
         "price": 3
        },
        {
         "categories": [
          {
           "icon": {
            "prefix": "https://ss3.4sqi.net/img/categories_v2/food/default_",
            "suffix": ".png"
           },
           "id": 13027,
           "name": "Bistro"
          },
          {
           "icon": {
            "prefix": "https://ss3.4sqi.net/img/categories_v2/food/cafe_",
            "suffix": ".png"
           },
           "id": 13034,
           "name": "Café"
          },
          {
           "icon": {
            "prefix": "https://ss3.4sqi.net/img/categories_v2/food/french_",
            "suffix": ".png"
           },
           "id": 13148,
           "name": "French Restaurant"
          }
         ],
         "geocodes": {
          "main": {
           "latitude": 43.671266,
           "longitude": -79.327227
          },
          "roof": {
           "latitude": 43.671266,
           "longitude": -79.327227
          }
         },
         "name": "Le Conciliabule",
         "popularity": 0.9662827408063691,
         "price": 1
        },
        {
         "categories": [
          {
           "icon": {
            "prefix": "https://ss3.4sqi.net/img/categories_v2/food/deli_",
            "suffix": ".png"
           },
           "id": 13039,
           "name": "Deli"
          },
          {
           "icon": {
            "prefix": "https://ss3.4sqi.net/img/categories_v2/food/vegetarian_",
            "suffix": ".png"
           },
           "id": 13377,
           "name": "Vegan and Vegetarian Restaurant"
          }
         ],
         "geocodes": {
          "main": {
           "latitude": 43.670684,
           "longitude": -79.327509
          },
          "roof": {
           "latitude": 43.670684,
           "longitude": -79.327509
          }
         },
         "name": "Jinglepear Deli",
         "popularity": 0.8980121541859566,
         "price": 1
        },
        {
         "categories": [
          {
           "icon": {
            "prefix": "https://ss3.4sqi.net/img/categories_v2/food/default_",
            "suffix": ".png"
           },
           "id": 13032,
           "name": "Cafes, Coffee, and Tea Houses"
          },
          {
           "icon": {
            "prefix": "https://ss3.4sqi.net/img/categories_v2/food/default_",
            "suffix": ".png"
           },
           "id": 13065,
           "name": "Restaurant"
          }
         ],
         "geocodes": {
          "main": {
           "latitude": 43.662057,
           "longitude": -79.321798
          },
          "roof": {
           "latitude": 43.662057,
           "longitude": -79.321798
          }
         },
         "name": "Tim Hortons"
        },
        {
         "categories": [
          {
           "icon": {
            "prefix": "https://ss3.4sqi.net/img/categories_v2/food/default_",
            "suffix": ".png"
           },
           "id": 13065,
           "name": "Restaurant"
          }
         ],
         "geocodes": {
          "main": {
           "latitude": 43.663516,
           "longitude": -79.310105
          }
         },
         "name": "Tuggs Inc"
        },
        {
         "categories": [
          {
           "icon": {
            "prefix": "https://ss3.4sqi.net/img/categories_v2/food/default_",
            "suffix": ".png"
           },
           "id": 13065,
           "name": "Restaurant"
          }
         ],
         "geocodes": {
          "main": {
           "latitude": 43.673053,
           "longitude": -79.319559
          },
          "roof": {
           "latitude": 43.673053,
           "longitude": -79.319559
          }
         },
         "name": "New Sunrise Restaurant"
        },
        {
         "categories": [
          {
           "icon": {
            "prefix": "https://ss3.4sqi.net/img/categories_v2/food/default_",
            "suffix": ".png"
           },
           "id": 13065,
           "name": "Restaurant"
          }
         ],
         "geocodes": {
          "main": {
           "latitude": 43.66649,
           "longitude": -79.328063
          },
          "roof": {
           "latitude": 43.66649,
           "longitude": -79.328063
          }
         },
         "name": "Yogen Fruz & Chester Chicken"
        },
        {
         "categories": [
          {
           "icon": {
            "prefix": "https://ss3.4sqi.net/img/categories_v2/nightlife/divebar_",
            "suffix": ".png"
           },
           "id": 13010,
           "name": "Dive Bar"
          },
          {
           "icon": {
            "prefix": "https://ss3.4sqi.net/img/categories_v2/food/diner_",
            "suffix": ".png"
           },
           "id": 13049,
           "name": "Diner"
          },
          {
           "icon": {
            "prefix": "https://ss3.4sqi.net/img/categories_v2/food/fastfood_",
            "suffix": ".png"
           },
           "id": 13145,
           "name": "Fast Food Restaurant"
          }
         ],
         "geocodes": {
          "main": {
           "latitude": 43.671778,
           "longitude": -79.324783
          },
          "roof": {
           "latitude": 43.671778,
           "longitude": -79.324783
          }
         },
         "name": "Jenni Place"
        },
        {
         "categories": [
          {
           "icon": {
            "prefix": "https://ss3.4sqi.net/img/categories_v2/arts_entertainment/default_",
            "suffix": ".png"
           },
           "id": 10000,
           "name": "Arts and Entertainment"
          },
          {
           "icon": {
            "prefix": "https://ss3.4sqi.net/img/categories_v2/food/default_",
            "suffix": ".png"
           },
           "id": 13065,
           "name": "Restaurant"
          }
         ],
         "geocodes": {
          "main": {
           "latitude": 43.662833,
           "longitude": -79.307893
          },
          "roof": {
           "latitude": 43.662833,
           "longitude": -79.307893
          }
         },
         "name": "Ashbridge's Bay Park"
        },
        {
         "categories": [
          {
           "icon": {
            "prefix": "https://ss3.4sqi.net/img/categories_v2/food/default_",
            "suffix": ".png"
           },
           "id": 13065,
           "name": "Restaurant"
          }
         ],
         "geocodes": {
          "main": {
           "latitude": 43.663825,
           "longitude": -79.328437
          },
          "roof": {
           "latitude": 43.663825,
           "longitude": -79.328437
          }
         },
         "name": "Jules Bistro Leslieville Toronto"
        }
       ]
      },
      "text/plain": [
       "<IPython.core.display.JSON object>"
      ]
     },
     "execution_count": 6,
     "metadata": {
      "application/json": {
       "expanded": false,
       "root": "root"
      }
     },
     "output_type": "execute_result"
    }
   ],
   "source": [
    "JSON(station(ll[2]).json())"
   ]
  },
  {
   "cell_type": "markdown",
   "metadata": {},
   "source": [
    "### Parse through the response to get the POI (such as restaurants, bars, etc) details you want (ratings, name, location, etc)"
   ]
  },
  {
   "cell_type": "code",
   "execution_count": 7,
   "metadata": {},
   "outputs": [],
   "source": [
    "def POI_fs(request):\n",
    "    '''\n",
    "    request: HTTP Code <200>\n",
    "    Take in a HTTP code and convert it to JSON.\n",
    "    Return: List\n",
    "    '''\n",
    "    request_in_json = request.json()\n",
    "    results = request_in_json['results']\n",
    "    list_of_results = []\n",
    "    for result in results:\n",
    "        new_dict = {}\n",
    "        new_dict['name'] = result.get('name', None)\n",
    "        new_dict['popularity'] = result.get('popularity', None)\n",
    "        new_dict['price'] = result.get('price', None)\n",
    "        new_dict['rating'] = result.get('rating', None)\n",
    "        new_dict['categories_name'] = result.get('categories', None)[0].get('name', None)\n",
    "        new_dict['latitude'] = result.get('geocodes', None).get('main', None).get('latitude', None)\n",
    "        new_dict['longtitude'] = result.get('geocodes', None).get('main', None).get('longitude', None)\n",
    "        list_of_results.append(new_dict)\n",
    "    return list_of_results"
   ]
  },
  {
   "cell_type": "markdown",
   "metadata": {},
   "source": [
    "### Put your parsed results into a DataFrame"
   ]
  },
  {
   "cell_type": "code",
   "execution_count": 8,
   "metadata": {},
   "outputs": [],
   "source": [
    "def data_frame(listOfResults):\n",
    "    '''\n",
    "    listOfResults: list -> DataFrame\n",
    "    '''\n",
    "    return pd.DataFrame(listOfResults)"
   ]
  },
  {
   "cell_type": "markdown",
   "metadata": {},
   "source": [
    "# Yelp"
   ]
  },
  {
   "cell_type": "markdown",
   "metadata": {},
   "source": [
    "### Send a request to Yelp with a small radius (1000m) for all the bike stations in your city of choice. "
   ]
  },
  {
   "cell_type": "code",
   "execution_count": 10,
   "metadata": {},
   "outputs": [],
   "source": [
    "def yelp_station(ll_value):\n",
    "    '''\n",
    "    ll_value: str\n",
    "    return: HTTPCode\n",
    "    Take a string that looks like \"latitude,longitude\"\n",
    "    '''\n",
    "    headers_yelp = {}\n",
    "    headers_yelp[\"Authorization\"] = \"Bearer \" + os.environ.get('YELP_API_KEY')\n",
    "    url = \"https://api.yelp.com/v3/businesses/search\"\n",
    "    parameters = {'latitude' : ll_value.split(\",\")[0],\n",
    "                  'longitude' : ll_value.split(\",\")[1],\n",
    "                  'radius': 1000,\n",
    "                  'categories' : \"bars,restaurants\",\n",
    "                  'limit': 50\n",
    "                 }\n",
    "    yelp_networks = requests.get(url, headers=headers_yelp, params=parameters)\n",
    "    return yelp_networks\n",
    "test = yelp_station(\"43.665269,-79.319796\")"
   ]
  },
  {
   "cell_type": "code",
   "execution_count": 11,
   "metadata": {},
   "outputs": [
    {
     "data": {
      "application/json": {
       "businesses": [
        {
         "alias": "mahas-toronto-2",
         "categories": [
          {
           "alias": "egyptian",
           "title": "Egyptian"
          },
          {
           "alias": "vegan",
           "title": "Vegan"
          },
          {
           "alias": "sandwiches",
           "title": "Sandwiches"
          }
         ],
         "coordinates": {
          "latitude": 43.67167,
          "longitude": -79.32853
         },
         "display_phone": "+1 416-462-2703",
         "distance": 1004.9920869085381,
         "id": "dAmVTQ6ukuLh4UxTmBoRkg",
         "image_url": "https://s3-media4.fl.yelpcdn.com/bphoto/pJ4etCCTU3HCHH-MwCW8tQ/o.jpg",
         "is_closed": false,
         "location": {
          "address1": "226 Greenwood Avenue",
          "address2": "",
          "address3": "",
          "city": "Toronto",
          "country": "CA",
          "display_address": [
           "226 Greenwood Avenue",
           "Toronto, ON M4L 2R2",
           "Canada"
          ],
          "state": "ON",
          "zip_code": "M4L 2R2"
         },
         "name": "Maha's",
         "phone": "+14164622703",
         "price": "$$",
         "rating": 4,
         "review_count": 564,
         "transactions": [],
         "url": "https://www.yelp.com/biz/mahas-toronto-2?adjust_creative=OrNI6rV33Vv3LLn1QsAD-A&utm_campaign=yelp_api_v3&utm_medium=api_v3_business_search&utm_source=OrNI6rV33Vv3LLn1QsAD-A"
        },
        {
         "alias": "the-burgers-priest-toronto",
         "categories": [
          {
           "alias": "burgers",
           "title": "Burgers"
          }
         ],
         "coordinates": {
          "latitude": 43.666699590075,
          "longitude": -79.3155846030585
         },
         "display_phone": "+1 647-346-0617",
         "distance": 374.2380726403347,
         "id": "oWTn2IzrprsRkPfULtjZtQ",
         "image_url": "https://s3-media2.fl.yelpcdn.com/bphoto/TJIbsSw4EXxvQWMFcDPu5A/o.jpg",
         "is_closed": false,
         "location": {
          "address1": "1636 Queen Street E",
          "address2": "",
          "address3": "",
          "city": "Toronto",
          "country": "CA",
          "display_address": [
           "1636 Queen Street E",
           "Toronto, ON M4L 1G3",
           "Canada"
          ],
          "state": "ON",
          "zip_code": "M4L 1G3"
         },
         "name": "The Burger's Priest",
         "phone": "+16473460617",
         "price": "$$",
         "rating": 3.5,
         "review_count": 496,
         "transactions": [],
         "url": "https://www.yelp.com/biz/the-burgers-priest-toronto?adjust_creative=OrNI6rV33Vv3LLn1QsAD-A&utm_campaign=yelp_api_v3&utm_medium=api_v3_business_search&utm_source=OrNI6rV33Vv3LLn1QsAD-A"
        },
        {
         "alias": "chino-locos-original-toronto",
         "categories": [
          {
           "alias": "mexican",
           "title": "Mexican"
          }
         ],
         "coordinates": {
          "latitude": 43.6644821,
          "longitude": -79.3255005
         },
         "display_phone": "+1 647-345-5626",
         "distance": 467.1225455571697,
         "id": "a9aW5e731lplWGHUZ02-zQ",
         "image_url": "https://s3-media4.fl.yelpcdn.com/bphoto/RzPZ0ir2JinDdrSEnC_aNw/o.jpg",
         "is_closed": false,
         "location": {
          "address1": "4 Greenwood Avenue",
          "address2": "",
          "address3": "",
          "city": "Toronto",
          "country": "CA",
          "display_address": [
           "4 Greenwood Avenue",
           "Toronto, ON M4L 2P4",
           "Canada"
          ],
          "state": "ON",
          "zip_code": "M4L 2P4"
         },
         "name": "Chino Locos Original",
         "phone": "+16473455626",
         "price": "$",
         "rating": 4,
         "review_count": 190,
         "transactions": [],
         "url": "https://www.yelp.com/biz/chino-locos-original-toronto?adjust_creative=OrNI6rV33Vv3LLn1QsAD-A&utm_campaign=yelp_api_v3&utm_medium=api_v3_business_search&utm_source=OrNI6rV33Vv3LLn1QsAD-A"
        },
        {
         "alias": "lahore-tikka-house-toronto",
         "categories": [
          {
           "alias": "halal",
           "title": "Halal"
          },
          {
           "alias": "pakistani",
           "title": "Pakistani"
          }
         ],
         "coordinates": {
          "latitude": 43.67148,
          "longitude": -79.32451
         },
         "display_phone": "+1 416-406-1668",
         "distance": 787.4737977905058,
         "id": "RUd_M7DPJq1I3DPq0oF--w",
         "image_url": "https://s3-media4.fl.yelpcdn.com/bphoto/uLmwjQPSIb3vH7G7EPyLFA/o.jpg",
         "is_closed": false,
         "location": {
          "address1": "1365 Gerrard Street E",
          "address2": "",
          "address3": "",
          "city": "Toronto",
          "country": "CA",
          "display_address": [
           "1365 Gerrard Street E",
           "Toronto, ON M4L 1Z3",
           "Canada"
          ],
          "state": "ON",
          "zip_code": "M4L 1Z3"
         },
         "name": "Lahore Tikka House",
         "phone": "+14164061668",
         "price": "$$",
         "rating": 3.5,
         "review_count": 535,
         "transactions": [],
         "url": "https://www.yelp.com/biz/lahore-tikka-house-toronto?adjust_creative=OrNI6rV33Vv3LLn1QsAD-A&utm_campaign=yelp_api_v3&utm_medium=api_v3_business_search&utm_source=OrNI6rV33Vv3LLn1QsAD-A"
        },
        {
         "alias": "gio-ranas-really-really-nice-restaurant-toronto",
         "categories": [
          {
           "alias": "italian",
           "title": "Italian"
          },
          {
           "alias": "tapasmallplates",
           "title": "Tapas/Small Plates"
          }
         ],
         "coordinates": {
          "latitude": 43.663335336163,
          "longitude": -79.3304189287309
         },
         "display_phone": "+1 416-469-5225",
         "distance": 881.124117228234,
         "id": "3qTSOuJ-ZyU1L7o62KHSIg",
         "image_url": "https://s3-media3.fl.yelpcdn.com/bphoto/SeUJfL9q4NsMEnqXHsRowQ/o.jpg",
         "is_closed": false,
         "location": {
          "address1": "1220 Queen Street East",
          "address2": "",
          "address3": "",
          "city": "Toronto",
          "country": "CA",
          "display_address": [
           "1220 Queen Street East",
           "Toronto, ON M4M 1L7",
           "Canada"
          ],
          "state": "ON",
          "zip_code": "M4M 1L7"
         },
         "name": "Gio Rana's Really Really Nice Restaurant",
         "phone": "+14164695225",
         "price": "$$$",
         "rating": 4,
         "review_count": 225,
         "transactions": [],
         "url": "https://www.yelp.com/biz/gio-ranas-really-really-nice-restaurant-toronto?adjust_creative=OrNI6rV33Vv3LLn1QsAD-A&utm_campaign=yelp_api_v3&utm_medium=api_v3_business_search&utm_source=OrNI6rV33Vv3LLn1QsAD-A"
        },
        {
         "alias": "lake-inez-toronto",
         "categories": [
          {
           "alias": "bars",
           "title": "Bars"
          },
          {
           "alias": "asianfusion",
           "title": "Asian Fusion"
          }
         ],
         "coordinates": {
          "latitude": 43.67234,
          "longitude": -79.32064
         },
         "display_phone": "",
         "distance": 794.6619550133811,
         "id": "yP71_LfUPnGIRqA2g09RoQ",
         "image_url": "https://s3-media4.fl.yelpcdn.com/bphoto/4UeUTyQhxNaBiidUe9UTVg/o.jpg",
         "is_closed": false,
         "location": {
          "address1": "1471 Gerrard Street E",
          "address2": "",
          "address3": null,
          "city": "Toronto",
          "country": "CA",
          "display_address": [
           "1471 Gerrard Street E",
           "Toronto, ON M4L 2A1",
           "Canada"
          ],
          "state": "ON",
          "zip_code": "M4L 2A1"
         },
         "name": "Lake Inez",
         "phone": "",
         "price": "$$$",
         "rating": 4.5,
         "review_count": 91,
         "transactions": [],
         "url": "https://www.yelp.com/biz/lake-inez-toronto?adjust_creative=OrNI6rV33Vv3LLn1QsAD-A&utm_campaign=yelp_api_v3&utm_medium=api_v3_business_search&utm_source=OrNI6rV33Vv3LLn1QsAD-A"
        },
        {
         "alias": "queen-margherita-pizza-toronto-2",
         "categories": [
          {
           "alias": "pizza",
           "title": "Pizza"
          }
         ],
         "coordinates": {
          "latitude": 43.664969,
          "longitude": -79.324168
         },
         "display_phone": "+1 416-466-6555",
         "distance": 353.24891642411933,
         "id": "cepfJZIv0iLj1fDs8LdYZg",
         "image_url": "https://s3-media3.fl.yelpcdn.com/bphoto/LAMUf3NCd_L9nS0uCrbr8A/o.jpg",
         "is_closed": false,
         "location": {
          "address1": "1402 Queen Street E",
          "address2": "Unit 8",
          "address3": "",
          "city": "Toronto",
          "country": "CA",
          "display_address": [
           "1402 Queen Street E",
           "Unit 8",
           "Toronto, ON M4L 1C9",
           "Canada"
          ],
          "state": "ON",
          "zip_code": "M4L 1C9"
         },
         "name": "Queen Margherita Pizza",
         "phone": "+14164666555",
         "price": "$$",
         "rating": 3.5,
         "review_count": 188,
         "transactions": [],
         "url": "https://www.yelp.com/biz/queen-margherita-pizza-toronto-2?adjust_creative=OrNI6rV33Vv3LLn1QsAD-A&utm_campaign=yelp_api_v3&utm_medium=api_v3_business_search&utm_source=OrNI6rV33Vv3LLn1QsAD-A"
        },
        {
         "alias": "udupi-palace-toronto",
         "categories": [
          {
           "alias": "indpak",
           "title": "Indian"
          },
          {
           "alias": "vegetarian",
           "title": "Vegetarian"
          },
          {
           "alias": "gluten_free",
           "title": "Gluten-Free"
          }
         ],
         "coordinates": {
          "latitude": 43.67273,
          "longitude": -79.3210299
         },
         "display_phone": "+1 416-405-8189",
         "distance": 839.3962424759334,
         "id": "A-KVm7iKLOe1X1yAQP13FA",
         "image_url": "https://s3-media4.fl.yelpcdn.com/bphoto/wvjN8xGrbd1xyo0W7VP-hw/o.jpg",
         "is_closed": false,
         "location": {
          "address1": "1460 Gerrard Street E",
          "address2": "",
          "address3": "",
          "city": "Toronto",
          "country": "CA",
          "display_address": [
           "1460 Gerrard Street E",
           "Toronto, ON M4L 2A3",
           "Canada"
          ],
          "state": "ON",
          "zip_code": "M4L 2A3"
         },
         "name": "Udupi Palace",
         "phone": "+14164058189",
         "price": "$$",
         "rating": 3.5,
         "review_count": 204,
         "transactions": [],
         "url": "https://www.yelp.com/biz/udupi-palace-toronto?adjust_creative=OrNI6rV33Vv3LLn1QsAD-A&utm_campaign=yelp_api_v3&utm_medium=api_v3_business_search&utm_source=OrNI6rV33Vv3LLn1QsAD-A"
        },
        {
         "alias": "lazy-daisys-cafe-toronto-2",
         "categories": [
          {
           "alias": "cafes",
           "title": "Cafes"
          },
          {
           "alias": "breakfast_brunch",
           "title": "Breakfast & Brunch"
          }
         ],
         "coordinates": {
          "latitude": 43.6726699,
          "longitude": -79.3194
         },
         "display_phone": "+1 647-341-4070",
         "distance": 828.6620562118607,
         "id": "7vvliv5R0MD7BQ2CsquhcQ",
         "image_url": "https://s3-media2.fl.yelpcdn.com/bphoto/SJZLkwTjRMRjOyXn1i1M9Q/o.jpg",
         "is_closed": false,
         "location": {
          "address1": "1515 Gerrard Street E",
          "address2": "",
          "address3": "",
          "city": "Toronto",
          "country": "CA",
          "display_address": [
           "1515 Gerrard Street E",
           "Toronto, ON M4L 2A5",
           "Canada"
          ],
          "state": "ON",
          "zip_code": "M4L 2A5"
         },
         "name": "Lazy Daisy's Cafe",
         "phone": "+16473414070",
         "price": "$$",
         "rating": 4,
         "review_count": 143,
         "transactions": [],
         "url": "https://www.yelp.com/biz/lazy-daisys-cafe-toronto-2?adjust_creative=OrNI6rV33Vv3LLn1QsAD-A&utm_campaign=yelp_api_v3&utm_medium=api_v3_business_search&utm_source=OrNI6rV33Vv3LLn1QsAD-A"
        },
        {
         "alias": "the-sidekick-toronto",
         "categories": [
          {
           "alias": "cafes",
           "title": "Cafes"
          }
         ],
         "coordinates": {
          "latitude": 43.6645889,
          "longitude": -79.3251114
         },
         "display_phone": "+1 416-546-1301",
         "distance": 436.0032948767222,
         "id": "0iTpgvz5XJzFAo253nIE0g",
         "image_url": "https://s3-media4.fl.yelpcdn.com/bphoto/_eqKg48PDrROvMXeFuUBpw/o.jpg",
         "is_closed": false,
         "location": {
          "address1": "1374 Queen Street E",
          "address2": "",
          "address3": "",
          "city": "Toronto",
          "country": "CA",
          "display_address": [
           "1374 Queen Street E",
           "Toronto, ON M4L 1C9",
           "Canada"
          ],
          "state": "ON",
          "zip_code": "M4L 1C9"
         },
         "name": "The Sidekick",
         "phone": "+14165461301",
         "price": "$",
         "rating": 4.5,
         "review_count": 31,
         "transactions": [],
         "url": "https://www.yelp.com/biz/the-sidekick-toronto?adjust_creative=OrNI6rV33Vv3LLn1QsAD-A&utm_campaign=yelp_api_v3&utm_medium=api_v3_business_search&utm_source=OrNI6rV33Vv3LLn1QsAD-A"
        },
        {
         "alias": "chick-n-joy-toronto",
         "categories": [
          {
           "alias": "hotdogs",
           "title": "Fast Food"
          },
          {
           "alias": "salad",
           "title": "Salad"
          },
          {
           "alias": "chickenshop",
           "title": "Chicken Shop"
          }
         ],
         "coordinates": {
          "latitude": 43.66509,
          "longitude": -79.32132
         },
         "display_phone": "+1 416-461-5848",
         "distance": 125.48313239918345,
         "id": "np6Eytu5v98oleQuQ5hT5Q",
         "image_url": "https://s3-media3.fl.yelpcdn.com/bphoto/gQgisIT2SgCvrjbmRcuAJw/o.jpg",
         "is_closed": false,
         "location": {
          "address1": "1483 Queen Street E",
          "address2": "",
          "address3": "",
          "city": "Toronto",
          "country": "CA",
          "display_address": [
           "1483 Queen Street E",
           "Toronto, ON M4L 1E2",
           "Canada"
          ],
          "state": "ON",
          "zip_code": "M4L 1E2"
         },
         "name": "Chick-N-Joy",
         "phone": "+14164615848",
         "price": "$",
         "rating": 4,
         "review_count": 54,
         "transactions": [],
         "url": "https://www.yelp.com/biz/chick-n-joy-toronto?adjust_creative=OrNI6rV33Vv3LLn1QsAD-A&utm_campaign=yelp_api_v3&utm_medium=api_v3_business_search&utm_source=OrNI6rV33Vv3LLn1QsAD-A"
        },
        {
         "alias": "hastings-snack-bar-toronto",
         "categories": [
          {
           "alias": "polish",
           "title": "Polish"
          }
         ],
         "coordinates": {
          "latitude": 43.66381,
          "longitude": -79.32893
         },
         "display_phone": "+1 647-850-9260",
         "distance": 755.3857132342414,
         "id": "-ug8U8rDNpW5s_4qCowtzg",
         "image_url": "https://s3-media3.fl.yelpcdn.com/bphoto/IcyW6Qy__0DUC6pZj-dTnQ/o.jpg",
         "is_closed": false,
         "location": {
          "address1": "5 Hastings Avenue",
          "address2": "",
          "address3": "",
          "city": "Toronto",
          "country": "CA",
          "display_address": [
           "5 Hastings Avenue",
           "Toronto, ON M4L 2L1",
           "Canada"
          ],
          "state": "ON",
          "zip_code": "M4L 2L1"
         },
         "name": "Hastings Snack Bar",
         "phone": "+16478509260",
         "price": "$",
         "rating": 4.5,
         "review_count": 40,
         "transactions": [],
         "url": "https://www.yelp.com/biz/hastings-snack-bar-toronto?adjust_creative=OrNI6rV33Vv3LLn1QsAD-A&utm_campaign=yelp_api_v3&utm_medium=api_v3_business_search&utm_source=OrNI6rV33Vv3LLn1QsAD-A"
        },
        {
         "alias": "casa-di-giorgios-toronto",
         "categories": [
          {
           "alias": "italian",
           "title": "Italian"
          },
          {
           "alias": "pizza",
           "title": "Pizza"
          }
         ],
         "coordinates": {
          "latitude": 43.6668499,
          "longitude": -79.31518
         },
         "display_phone": "+1 416-686-7066",
         "distance": 408.71572448842034,
         "id": "Huo1lJmVkdqvFuLtA74Nhw",
         "image_url": "https://s3-media2.fl.yelpcdn.com/bphoto/dV0MrMDldcgDyc5avYgMaA/o.jpg",
         "is_closed": false,
         "location": {
          "address1": "1646 Queen St E",
          "address2": "",
          "address3": "",
          "city": "Toronto",
          "country": "CA",
          "display_address": [
           "1646 Queen St E",
           "Toronto, ON M4L 1G3",
           "Canada"
          ],
          "state": "ON",
          "zip_code": "M4L 1G3"
         },
         "name": "Casa Di Giorgios",
         "phone": "+14166867066",
         "price": "$$",
         "rating": 4,
         "review_count": 70,
         "transactions": [],
         "url": "https://www.yelp.com/biz/casa-di-giorgios-toronto?adjust_creative=OrNI6rV33Vv3LLn1QsAD-A&utm_campaign=yelp_api_v3&utm_medium=api_v3_business_search&utm_source=OrNI6rV33Vv3LLn1QsAD-A"
        },
        {
         "alias": "tea-n-bannock-toronto",
         "categories": [
          {
           "alias": "tradamerican",
           "title": "American (Traditional)"
          },
          {
           "alias": "newcanadian",
           "title": "Canadian (New)"
          }
         ],
         "coordinates": {
          "latitude": 43.671182,
          "longitude": -79.3273557
         },
         "display_phone": "+1 416-220-2915",
         "distance": 895.556531489122,
         "id": "ByR685ThcDqQ_bb4A1oj_Q",
         "image_url": "https://s3-media2.fl.yelpcdn.com/bphoto/r1FWg0eq_3yefiZZYVPjdQ/o.jpg",
         "is_closed": false,
         "location": {
          "address1": "1294 Gerrard Street E",
          "address2": "",
          "address3": "",
          "city": "Toronto",
          "country": "CA",
          "display_address": [
           "1294 Gerrard Street E",
           "Toronto, ON M4L 1Y7",
           "Canada"
          ],
          "state": "ON",
          "zip_code": "M4L 1Y7"
         },
         "name": "Tea N Bannock",
         "phone": "+14162202915",
         "price": "$$",
         "rating": 4.5,
         "review_count": 44,
         "transactions": [],
         "url": "https://www.yelp.com/biz/tea-n-bannock-toronto?adjust_creative=OrNI6rV33Vv3LLn1QsAD-A&utm_campaign=yelp_api_v3&utm_medium=api_v3_business_search&utm_source=OrNI6rV33Vv3LLn1QsAD-A"
        },
        {
         "alias": "o-sushi-toronto",
         "categories": [
          {
           "alias": "sushi",
           "title": "Sushi Bars"
          }
         ],
         "coordinates": {
          "latitude": 43.66654,
          "longitude": -79.31693
         },
         "display_phone": "+1 416-466-1234",
         "distance": 277.56958241445363,
         "id": "2aIgbnGUg8VC0u9iXO-wnQ",
         "image_url": "https://s3-media1.fl.yelpcdn.com/bphoto/LzcTpEhRj2oiV3yJ_H7nnA/o.jpg",
         "is_closed": false,
         "location": {
          "address1": "6 Coxwell Avenue",
          "address2": "",
          "address3": "",
          "city": "Toronto",
          "country": "CA",
          "display_address": [
           "6 Coxwell Avenue",
           "Toronto, ON M4L 3A7",
           "Canada"
          ],
          "state": "ON",
          "zip_code": "M4L 3A7"
         },
         "name": "O Sushi",
         "phone": "+14164661234",
         "price": "$$",
         "rating": 4,
         "review_count": 57,
         "transactions": [],
         "url": "https://www.yelp.com/biz/o-sushi-toronto?adjust_creative=OrNI6rV33Vv3LLn1QsAD-A&utm_campaign=yelp_api_v3&utm_medium=api_v3_business_search&utm_source=OrNI6rV33Vv3LLn1QsAD-A"
        },
        {
         "alias": "british-style-fish-and-chips-toronto",
         "categories": [
          {
           "alias": "fishnchips",
           "title": "Fish & Chips"
          }
         ],
         "coordinates": {
          "latitude": 43.66861,
          "longitude": -79.31723
         },
         "display_phone": "+1 416-698-7778",
         "distance": 426.62747686060635,
         "id": "0ORDYMDX027EhfsoFOkNcQ",
         "image_url": "https://s3-media2.fl.yelpcdn.com/bphoto/WYwRiMc-Jx_bV-03C5ttgw/o.jpg",
         "is_closed": false,
         "location": {
          "address1": "73 Coxwell Avenue",
          "address2": "",
          "address3": "",
          "city": "Toronto",
          "country": "CA",
          "display_address": [
           "73 Coxwell Avenue",
           "Toronto, ON M4L 3B1",
           "Canada"
          ],
          "state": "ON",
          "zip_code": "M4L 3B1"
         },
         "name": "British Style Fish & Chips",
         "phone": "+14166987778",
         "price": "$",
         "rating": 4,
         "review_count": 50,
         "transactions": [],
         "url": "https://www.yelp.com/biz/british-style-fish-and-chips-toronto?adjust_creative=OrNI6rV33Vv3LLn1QsAD-A&utm_campaign=yelp_api_v3&utm_medium=api_v3_business_search&utm_source=OrNI6rV33Vv3LLn1QsAD-A"
        },
        {
         "alias": "regency-restaurant-toronto",
         "categories": [
          {
           "alias": "indpak",
           "title": "Indian"
          }
         ],
         "coordinates": {
          "latitude": 43.67201,
          "longitude": -79.32238
         },
         "display_phone": "+1 416-778-7366",
         "distance": 779.0130455385532,
         "id": "vrAZ6qenlYwHfgzSSlmkiQ",
         "image_url": "https://s3-media3.fl.yelpcdn.com/bphoto/q7a9q-xIefesnWvNnX2apg/o.jpg",
         "is_closed": false,
         "location": {
          "address1": "1423 Gerrard Street E",
          "address2": "",
          "address3": "",
          "city": "Toronto",
          "country": "CA",
          "display_address": [
           "1423 Gerrard Street E",
           "Toronto, ON M4L 1Z7",
           "Canada"
          ],
          "state": "ON",
          "zip_code": "M4L 1Z7"
         },
         "name": "Regency Restaurant",
         "phone": "+14167787366",
         "price": "$$",
         "rating": 4,
         "review_count": 76,
         "transactions": [],
         "url": "https://www.yelp.com/biz/regency-restaurant-toronto?adjust_creative=OrNI6rV33Vv3LLn1QsAD-A&utm_campaign=yelp_api_v3&utm_medium=api_v3_business_search&utm_source=OrNI6rV33Vv3LLn1QsAD-A"
        },
        {
         "alias": "yaya-greek-bistro-toronto-2",
         "categories": [
          {
           "alias": "breakfast_brunch",
           "title": "Breakfast & Brunch"
          },
          {
           "alias": "gluten_free",
           "title": "Gluten-Free"
          },
          {
           "alias": "greek",
           "title": "Greek"
          }
         ],
         "coordinates": {
          "latitude": 43.6630783791201,
          "longitude": -79.33178893082199
         },
         "display_phone": "+1 416-463-9292",
         "distance": 994.9676130216748,
         "id": "Y_IdXaaFzRr13kai9vfqgQ",
         "image_url": "https://s3-media3.fl.yelpcdn.com/bphoto/22dLqTAPyYg-fhednMK5jg/o.jpg",
         "is_closed": false,
         "location": {
          "address1": "1186 Queen Street E",
          "address2": "",
          "address3": "",
          "city": "Toronto",
          "country": "CA",
          "display_address": [
           "1186 Queen Street E",
           "Toronto, ON M4M 1L4",
           "Canada"
          ],
          "state": "ON",
          "zip_code": "M4M 1L4"
         },
         "name": "Yaya Greek Bistro",
         "phone": "+14164639292",
         "price": "$$",
         "rating": 4,
         "review_count": 79,
         "transactions": [],
         "url": "https://www.yelp.com/biz/yaya-greek-bistro-toronto-2?adjust_creative=OrNI6rV33Vv3LLn1QsAD-A&utm_campaign=yelp_api_v3&utm_medium=api_v3_business_search&utm_source=OrNI6rV33Vv3LLn1QsAD-A"
        },
        {
         "alias": "the-famous-indian-cuisine-toronto",
         "categories": [
          {
           "alias": "indpak",
           "title": "Indian"
          }
         ],
         "coordinates": {
          "latitude": 43.67211780345,
          "longitude": -79.3232195824385
         },
         "display_phone": "+1 416-406-4511",
         "distance": 809.8067400048328,
         "id": "UXEqtEXs92COE3UiaSx4oA",
         "image_url": "https://s3-media1.fl.yelpcdn.com/bphoto/kMQ27X-NTkX6Vc4zDuh8dg/o.jpg",
         "is_closed": false,
         "location": {
          "address1": "1410 Gerrard Street E",
          "address2": "",
          "address3": "",
          "city": "Toronto",
          "country": "CA",
          "display_address": [
           "1410 Gerrard Street E",
           "Toronto, ON M4L 1Z4",
           "Canada"
          ],
          "state": "ON",
          "zip_code": "M4L 1Z4"
         },
         "name": "The Famous Indian Cuisine",
         "phone": "+14164064511",
         "price": "$$",
         "rating": 4,
         "review_count": 65,
         "transactions": [],
         "url": "https://www.yelp.com/biz/the-famous-indian-cuisine-toronto?adjust_creative=OrNI6rV33Vv3LLn1QsAD-A&utm_campaign=yelp_api_v3&utm_medium=api_v3_business_search&utm_source=OrNI6rV33Vv3LLn1QsAD-A"
        },
        {
         "alias": "motimahal-toronto",
         "categories": [
          {
           "alias": "indpak",
           "title": "Indian"
          }
         ],
         "coordinates": {
          "latitude": 43.6723799,
          "longitude": -79.32265
         },
         "display_phone": "+1 416-461-3111",
         "distance": 820.9476903595535,
         "id": "a3nywjjHRweFT-4rOap12g",
         "image_url": "https://s3-media2.fl.yelpcdn.com/bphoto/9Nu3p0qBx8_uCZZJ2HH_tw/o.jpg",
         "is_closed": false,
         "location": {
          "address1": "1422 Gerrard St E",
          "address2": "",
          "address3": "",
          "city": "Toronto",
          "country": "CA",
          "display_address": [
           "1422 Gerrard St E",
           "Toronto, ON M4L 1Z6",
           "Canada"
          ],
          "state": "ON",
          "zip_code": "M4L 1Z6"
         },
         "name": "Motimahal",
         "phone": "+14164613111",
         "price": "$",
         "rating": 3.5,
         "review_count": 106,
         "transactions": [],
         "url": "https://www.yelp.com/biz/motimahal-toronto?adjust_creative=OrNI6rV33Vv3LLn1QsAD-A&utm_campaign=yelp_api_v3&utm_medium=api_v3_business_search&utm_source=OrNI6rV33Vv3LLn1QsAD-A"
        },
        {
         "alias": "toto-sushi-toronto",
         "categories": [
          {
           "alias": "japanese",
           "title": "Japanese"
          },
          {
           "alias": "sushi",
           "title": "Sushi Bars"
          }
         ],
         "coordinates": {
          "latitude": 43.672262,
          "longitude": -79.3212267
         },
         "display_phone": "+1 416-546-4231",
         "distance": 786.0540022910883,
         "id": "h6zr3tk8JTPWc1if8-zVlQ",
         "image_url": "https://s3-media4.fl.yelpcdn.com/bphoto/rTt1P-nFsy9bp7O15B35sw/o.jpg",
         "is_closed": false,
         "location": {
          "address1": "1455 Gerrard Street E",
          "address2": "",
          "address3": null,
          "city": "Toronto",
          "country": "CA",
          "display_address": [
           "1455 Gerrard Street E",
           "Toronto, ON M4L 1Z9",
           "Canada"
          ],
          "state": "ON",
          "zip_code": "M4L 1Z9"
         },
         "name": "Toto Sushi",
         "phone": "+14165464231",
         "rating": 4.5,
         "review_count": 27,
         "transactions": [],
         "url": "https://www.yelp.com/biz/toto-sushi-toronto?adjust_creative=OrNI6rV33Vv3LLn1QsAD-A&utm_campaign=yelp_api_v3&utm_medium=api_v3_business_search&utm_source=OrNI6rV33Vv3LLn1QsAD-A"
        },
        {
         "alias": "karmas-kitchen-toronto",
         "categories": [
          {
           "alias": "himalayan",
           "title": "Himalayan/Nepalese"
          }
         ],
         "coordinates": {
          "latitude": 43.67183,
          "longitude": -79.32305
         },
         "display_phone": "+1 647-345-2762",
         "distance": 772.1052134898712,
         "id": "7d2LqDc0Cb5dcizil_h34A",
         "image_url": "https://s3-media1.fl.yelpcdn.com/bphoto/ANXIyJZZoWDreOKf4JUheQ/o.jpg",
         "is_closed": false,
         "location": {
          "address1": "1411 Gerrard Street E",
          "address2": null,
          "address3": "",
          "city": "Toronto",
          "country": "CA",
          "display_address": [
           "1411 Gerrard Street E",
           "Toronto, ON M4L 1Z5",
           "Canada"
          ],
          "state": "ON",
          "zip_code": "M4L 1Z5"
         },
         "name": "Karma's Kitchen",
         "phone": "+16473452762",
         "price": "$$",
         "rating": 4,
         "review_count": 60,
         "transactions": [],
         "url": "https://www.yelp.com/biz/karmas-kitchen-toronto?adjust_creative=OrNI6rV33Vv3LLn1QsAD-A&utm_campaign=yelp_api_v3&utm_medium=api_v3_business_search&utm_source=OrNI6rV33Vv3LLn1QsAD-A"
        },
        {
         "alias": "leslie-jones-toronto",
         "categories": [
          {
           "alias": "comfortfood",
           "title": "Comfort Food"
          },
          {
           "alias": "mediterranean",
           "title": "Mediterranean"
          },
          {
           "alias": "italian",
           "title": "Italian"
          }
         ],
         "coordinates": {
          "latitude": 43.6628904,
          "longitude": -79.3318366
         },
         "display_phone": "+1 416-463-5663",
         "distance": 1003.9901183084847,
         "id": "yOxuSjJcW7oEWYz9yb4HYA",
         "image_url": "https://s3-media4.fl.yelpcdn.com/bphoto/AIrwrC3G4zQTMX75aqv3EQ/o.jpg",
         "is_closed": false,
         "location": {
          "address1": "1182 Queen Street E",
          "address2": "",
          "address3": "",
          "city": "Toronto",
          "country": "CA",
          "display_address": [
           "1182 Queen Street E",
           "Toronto, ON M4M 1L4",
           "Canada"
          ],
          "state": "ON",
          "zip_code": "M4M 1L4"
         },
         "name": "Leslie Jones",
         "phone": "+14164635663",
         "price": "$$",
         "rating": 4,
         "review_count": 72,
         "transactions": [],
         "url": "https://www.yelp.com/biz/leslie-jones-toronto?adjust_creative=OrNI6rV33Vv3LLn1QsAD-A&utm_campaign=yelp_api_v3&utm_medium=api_v3_business_search&utm_source=OrNI6rV33Vv3LLn1QsAD-A"
        },
        {
         "alias": "eulalies-corner-store-toronto",
         "categories": [
          {
           "alias": "pubs",
           "title": "Pubs"
          }
         ],
         "coordinates": {
          "latitude": 43.6725388,
          "longitude": -79.3217316
         },
         "display_phone": "",
         "distance": 826.3430427593006,
         "id": "NmXB2KhGXHKMCMAKILpCCA",
         "image_url": "https://s3-media3.fl.yelpcdn.com/bphoto/-M4pm3r2Uw7sBc3ECvWlEg/o.jpg",
         "is_closed": false,
         "location": {
          "address1": "1438 Gerrard Street E",
          "address2": "",
          "address3": "",
          "city": "Toronto",
          "country": "CA",
          "display_address": [
           "1438 Gerrard Street E",
           "Toronto, ON M4L 1Z8",
           "Canada"
          ],
          "state": "ON",
          "zip_code": "M4L 1Z8"
         },
         "name": "Eulalie's Corner Store",
         "phone": "",
         "price": "$$",
         "rating": 4.5,
         "review_count": 31,
         "transactions": [],
         "url": "https://www.yelp.com/biz/eulalies-corner-store-toronto?adjust_creative=OrNI6rV33Vv3LLn1QsAD-A&utm_campaign=yelp_api_v3&utm_medium=api_v3_business_search&utm_source=OrNI6rV33Vv3LLn1QsAD-A"
        },
        {
         "alias": "jaclyns-toronto",
         "categories": [
          {
           "alias": "caribbean",
           "title": "Caribbean"
          }
         ],
         "coordinates": {
          "latitude": 43.66627,
          "longitude": -79.31802
         },
         "display_phone": "+1 647-901-8809",
         "distance": 172.37513361109032,
         "id": "Ohengzi4viLEXqhK50aLxg",
         "image_url": "https://s3-media3.fl.yelpcdn.com/bphoto/XCWKUbJT1bEjNcAycavaHA/o.jpg",
         "is_closed": false,
         "location": {
          "address1": "1588 Queen Street E",
          "address2": "",
          "address3": null,
          "city": "Toronto",
          "country": "CA",
          "display_address": [
           "1588 Queen Street E",
           "Toronto, ON M4L 1G1",
           "Canada"
          ],
          "state": "ON",
          "zip_code": "M4L 1G1"
         },
         "name": "Jaclyn's",
         "phone": "+16479018809",
         "rating": 4.5,
         "review_count": 14,
         "transactions": [],
         "url": "https://www.yelp.com/biz/jaclyns-toronto?adjust_creative=OrNI6rV33Vv3LLn1QsAD-A&utm_campaign=yelp_api_v3&utm_medium=api_v3_business_search&utm_source=OrNI6rV33Vv3LLn1QsAD-A"
        },
        {
         "alias": "flying-pony-toronto",
         "categories": [
          {
           "alias": "cafes",
           "title": "Cafes"
          },
          {
           "alias": "galleries",
           "title": "Art Galleries"
          }
         ],
         "coordinates": {
          "latitude": 43.6724768771534,
          "longitude": -79.3204735908074
         },
         "display_phone": "",
         "distance": 803.3293219941002,
         "id": "EqklwVjVvlXAx15-Xeh5EA",
         "image_url": "https://s3-media2.fl.yelpcdn.com/bphoto/zuCDIrPsiauXq2_3rRP2_w/o.jpg",
         "is_closed": false,
         "location": {
          "address1": "1481 Gerrard Street E",
          "address2": null,
          "address3": "",
          "city": "Toronto",
          "country": "CA",
          "display_address": [
           "1481 Gerrard Street E",
           "Toronto, ON M4L 2A1",
           "Canada"
          ],
          "state": "ON",
          "zip_code": "M4L 2A1"
         },
         "name": "Flying Pony",
         "phone": "",
         "price": "$",
         "rating": 4,
         "review_count": 30,
         "transactions": [],
         "url": "https://www.yelp.com/biz/flying-pony-toronto?adjust_creative=OrNI6rV33Vv3LLn1QsAD-A&utm_campaign=yelp_api_v3&utm_medium=api_v3_business_search&utm_source=OrNI6rV33Vv3LLn1QsAD-A"
        },
        {
         "alias": "burrito-bandidos-toronto-7",
         "categories": [
          {
           "alias": "mexican",
           "title": "Mexican"
          }
         ],
         "coordinates": {
          "latitude": 43.6665611,
          "longitude": -79.3164215
         },
         "display_phone": "+1 416-691-8080",
         "distance": 286.2490649948758,
         "id": "NPHZkn1e-tSJAbo8Zm9rYw",
         "image_url": "https://s3-media1.fl.yelpcdn.com/bphoto/n1DrgaueOKlRzzreH4Na0A/o.jpg",
         "is_closed": false,
         "location": {
          "address1": "1614 Queen Street E",
          "address2": "",
          "address3": "",
          "city": "Toronto",
          "country": "CA",
          "display_address": [
           "1614 Queen Street E",
           "Toronto, ON M4L 1G4",
           "Canada"
          ],
          "state": "ON",
          "zip_code": "M4L 1G4"
         },
         "name": "Burrito Bandidos",
         "phone": "+14166918080",
         "price": "$$",
         "rating": 3,
         "review_count": 56,
         "transactions": [],
         "url": "https://www.yelp.com/biz/burrito-bandidos-toronto-7?adjust_creative=OrNI6rV33Vv3LLn1QsAD-A&utm_campaign=yelp_api_v3&utm_medium=api_v3_business_search&utm_source=OrNI6rV33Vv3LLn1QsAD-A"
        },
        {
         "alias": "blondies-toronto-2",
         "categories": [
          {
           "alias": "pizza",
           "title": "Pizza"
          }
         ],
         "coordinates": {
          "latitude": 43.66683,
          "longitude": -79.3302099
         },
         "display_phone": "+1 437-341-1555",
         "distance": 861.4874302724193,
         "id": "yim_5zF2VPwbhE1ektjAMA",
         "image_url": "https://s3-media3.fl.yelpcdn.com/bphoto/Iqnx6OcRV8GQ2DjoGW-nmg/o.jpg",
         "is_closed": false,
         "location": {
          "address1": "1555 Dundas Street E",
          "address2": "",
          "address3": null,
          "city": "Toronto",
          "country": "CA",
          "display_address": [
           "1555 Dundas Street E",
           "Toronto, ON M4L 1K9",
           "Canada"
          ],
          "state": "ON",
          "zip_code": "M4L 1K9"
         },
         "name": "Blondies",
         "phone": "+14373411555",
         "rating": 3.5,
         "review_count": 51,
         "transactions": [],
         "url": "https://www.yelp.com/biz/blondies-toronto-2?adjust_creative=OrNI6rV33Vv3LLn1QsAD-A&utm_campaign=yelp_api_v3&utm_medium=api_v3_business_search&utm_source=OrNI6rV33Vv3LLn1QsAD-A"
        },
        {
         "alias": "murphys-law-pub-and-kitchen-toronto",
         "categories": [
          {
           "alias": "pubs",
           "title": "Pubs"
          }
         ],
         "coordinates": {
          "latitude": 43.6674,
          "longitude": -79.31279
         },
         "display_phone": "+1 416-690-5516",
         "distance": 608.9013756846298,
         "id": "Dxp9SElV1f5MwPxIun_47w",
         "image_url": "https://s3-media2.fl.yelpcdn.com/bphoto/lxY-w3qomz32RevpUU40DQ/o.jpg",
         "is_closed": false,
         "location": {
          "address1": "1702 Queen St E",
          "address2": "",
          "address3": "",
          "city": "Toronto",
          "country": "CA",
          "display_address": [
           "1702 Queen St E",
           "Toronto, ON M4L 1G6",
           "Canada"
          ],
          "state": "ON",
          "zip_code": "M4L 1G6"
         },
         "name": "Murphy's Law Pub and Kitchen",
         "phone": "+14166905516",
         "price": "$$",
         "rating": 2.5,
         "review_count": 126,
         "transactions": [],
         "url": "https://www.yelp.com/biz/murphys-law-pub-and-kitchen-toronto?adjust_creative=OrNI6rV33Vv3LLn1QsAD-A&utm_campaign=yelp_api_v3&utm_medium=api_v3_business_search&utm_source=OrNI6rV33Vv3LLn1QsAD-A"
        },
        {
         "alias": "maru-japanese-bistro-toronto",
         "categories": [
          {
           "alias": "japanese",
           "title": "Japanese"
          },
          {
           "alias": "sushi",
           "title": "Sushi Bars"
          }
         ],
         "coordinates": {
          "latitude": 43.664719960216985,
          "longitude": -79.32426282771173
         },
         "display_phone": "+1 416-466-4666",
         "distance": 364.44850504314206,
         "id": "_FIJ1fCMlFAQ8uzxv6AIfg",
         "image_url": "https://s3-media3.fl.yelpcdn.com/bphoto/zcwcM8YVRHlVrb3K-r5vAw/o.jpg",
         "is_closed": false,
         "location": {
          "address1": "1402 Queen Street E",
          "address2": "",
          "address3": null,
          "city": "Toronto",
          "country": "CA",
          "display_address": [
           "1402 Queen Street E",
           "Toronto, ON M4L 1C7",
           "Canada"
          ],
          "state": "ON",
          "zip_code": "M4L 1C7"
         },
         "name": "Maru Japanese Bistro",
         "phone": "+14164664666",
         "rating": 4,
         "review_count": 14,
         "transactions": [],
         "url": "https://www.yelp.com/biz/maru-japanese-bistro-toronto?adjust_creative=OrNI6rV33Vv3LLn1QsAD-A&utm_campaign=yelp_api_v3&utm_medium=api_v3_business_search&utm_source=OrNI6rV33Vv3LLn1QsAD-A"
        },
        {
         "alias": "nodo-leslieville-toronto",
         "categories": [
          {
           "alias": "italian",
           "title": "Italian"
          }
         ],
         "coordinates": {
          "latitude": 43.66311,
          "longitude": -79.33162
         },
         "display_phone": "+1 416-792-4196",
         "distance": 983.1152024508168,
         "id": "wmTc6sSJxPwSj4NyvgffAw",
         "image_url": "https://s3-media4.fl.yelpcdn.com/bphoto/zVqCrI555TlW4Ux5V2N23w/o.jpg",
         "is_closed": false,
         "location": {
          "address1": "1192 Queen Street East",
          "address2": null,
          "address3": "",
          "city": "Toronto",
          "country": "CA",
          "display_address": [
           "1192 Queen Street East",
           "Toronto, ON M4M 1L6",
           "Canada"
          ],
          "state": "ON",
          "zip_code": "M4M 1L6"
         },
         "name": "Nodo Leslieville",
         "phone": "+14167924196",
         "rating": 4,
         "review_count": 33,
         "transactions": [],
         "url": "https://www.yelp.com/biz/nodo-leslieville-toronto?adjust_creative=OrNI6rV33Vv3LLn1QsAD-A&utm_campaign=yelp_api_v3&utm_medium=api_v3_business_search&utm_source=OrNI6rV33Vv3LLn1QsAD-A"
        },
        {
         "alias": "gautama-toronto",
         "categories": [
          {
           "alias": "indpak",
           "title": "Indian"
          }
         ],
         "coordinates": {
          "latitude": 43.67237,
          "longitude": -79.3228199
         },
         "display_phone": "+1 416-469-4444",
         "distance": 831.9117457097226,
         "id": "YS4RsAaaw_KYYjnHnLD3OA",
         "image_url": "https://s3-media4.fl.yelpcdn.com/bphoto/EuWrey-05Yg6qlZRFWVrHA/o.jpg",
         "is_closed": false,
         "location": {
          "address1": "1416 Gerrard Street E",
          "address2": "",
          "address3": "",
          "city": "Toronto",
          "country": "CA",
          "display_address": [
           "1416 Gerrard Street E",
           "Toronto, ON M4L 1Z6",
           "Canada"
          ],
          "state": "ON",
          "zip_code": "M4L 1Z6"
         },
         "name": "Gautama",
         "phone": "+14164694444",
         "price": "$$",
         "rating": 3.5,
         "review_count": 62,
         "transactions": [],
         "url": "https://www.yelp.com/biz/gautama-toronto?adjust_creative=OrNI6rV33Vv3LLn1QsAD-A&utm_campaign=yelp_api_v3&utm_medium=api_v3_business_search&utm_source=OrNI6rV33Vv3LLn1QsAD-A"
        },
        {
         "alias": "bombay-chowpatty-toronto",
         "categories": [
          {
           "alias": "indpak",
           "title": "Indian"
          },
          {
           "alias": "vegetarian",
           "title": "Vegetarian"
          }
         ],
         "coordinates": {
          "latitude": 43.6719822552022,
          "longitude": -79.3243740554445
         },
         "display_phone": "+1 416-405-8080",
         "distance": 832.3577440278639,
         "id": "ld0max-y0Uba4gUDC9c4Yg",
         "image_url": "https://s3-media1.fl.yelpcdn.com/bphoto/7QKWWeXKVVaxKYBTr_KeSA/o.jpg",
         "is_closed": false,
         "location": {
          "address1": "1386 Gerrard St E",
          "address2": "",
          "address3": "",
          "city": "Toronto",
          "country": "CA",
          "display_address": [
           "1386 Gerrard St E",
           "Toronto, ON M4L",
           "Canada"
          ],
          "state": "ON",
          "zip_code": "M4L"
         },
         "name": "Bombay Chowpatty",
         "phone": "+14164058080",
         "price": "$",
         "rating": 3,
         "review_count": 57,
         "transactions": [],
         "url": "https://www.yelp.com/biz/bombay-chowpatty-toronto?adjust_creative=OrNI6rV33Vv3LLn1QsAD-A&utm_campaign=yelp_api_v3&utm_medium=api_v3_business_search&utm_source=OrNI6rV33Vv3LLn1QsAD-A"
        },
        {
         "alias": "chandni-chowk-restaurant-toronto",
         "categories": [
          {
           "alias": "indpak",
           "title": "Indian"
          }
         ],
         "coordinates": {
          "latitude": 43.6723413,
          "longitude": -79.3225433
         },
         "display_phone": "+1 416-469-4466",
         "distance": 816.8584969554906,
         "id": "B9QJToIrPjRAUuPoemMUNg",
         "image_url": "https://s3-media4.fl.yelpcdn.com/bphoto/DtWVKqcxg9GTFimp35O6Pg/o.jpg",
         "is_closed": false,
         "location": {
          "address1": "1426 Gerrard Street E",
          "address2": "",
          "address3": "",
          "city": "Toronto",
          "country": "CA",
          "display_address": [
           "1426 Gerrard Street E",
           "Toronto, ON M4L 1Z6",
           "Canada"
          ],
          "state": "ON",
          "zip_code": "M4L 1Z6"
         },
         "name": "Chandni Chowk Restaurant",
         "phone": "+14164694466",
         "price": "$",
         "rating": 3.5,
         "review_count": 30,
         "transactions": [],
         "url": "https://www.yelp.com/biz/chandni-chowk-restaurant-toronto?adjust_creative=OrNI6rV33Vv3LLn1QsAD-A&utm_campaign=yelp_api_v3&utm_medium=api_v3_business_search&utm_source=OrNI6rV33Vv3LLn1QsAD-A"
        },
        {
         "alias": "jules-bistro-toronto-3",
         "categories": [
          {
           "alias": "bistros",
           "title": "Bistros"
          }
         ],
         "coordinates": {
          "latitude": 43.66389,
          "longitude": -79.32859
         },
         "display_phone": "+1 416-463-5853",
         "distance": 724.0458166129055,
         "id": "t2oJEG1YXkO5EMoo28r80Q",
         "image_url": "https://s3-media1.fl.yelpcdn.com/bphoto/l7pLX8HhE8i_i2IHOvacdQ/o.jpg",
         "is_closed": false,
         "location": {
          "address1": "1290 Queen St E",
          "address2": "",
          "address3": null,
          "city": "Toronto",
          "country": "CA",
          "display_address": [
           "1290 Queen St E",
           "Toronto, ON M4L 1C4",
           "Canada"
          ],
          "state": "ON",
          "zip_code": "M4L 1C4"
         },
         "name": "Jules Bistro",
         "phone": "+14164635853",
         "rating": 3.5,
         "review_count": 26,
         "transactions": [],
         "url": "https://www.yelp.com/biz/jules-bistro-toronto-3?adjust_creative=OrNI6rV33Vv3LLn1QsAD-A&utm_campaign=yelp_api_v3&utm_medium=api_v3_business_search&utm_source=OrNI6rV33Vv3LLn1QsAD-A"
        },
        {
         "alias": "occasions-restaurant-toronto",
         "categories": [
          {
           "alias": "greek",
           "title": "Greek"
          }
         ],
         "coordinates": {
          "latitude": 43.67338,
          "longitude": -79.31823
         },
         "display_phone": "+1 416-469-3065",
         "distance": 908.6517424267239,
         "id": "0VV9NpdJ9_CGo0xYrlzNnw",
         "image_url": "https://s3-media4.fl.yelpcdn.com/bphoto/2ng92hdOl0dvn-EnA34qPw/o.jpg",
         "is_closed": false,
         "location": {
          "address1": "30 Eastwood Road",
          "address2": "",
          "address3": "",
          "city": "Toronto",
          "country": "CA",
          "display_address": [
           "30 Eastwood Road",
           "Toronto, ON M4L 2C3",
           "Canada"
          ],
          "state": "ON",
          "zip_code": "M4L 2C3"
         },
         "name": "Occasions Restaurant",
         "phone": "+14164693065",
         "price": "$$",
         "rating": 4,
         "review_count": 43,
         "transactions": [],
         "url": "https://www.yelp.com/biz/occasions-restaurant-toronto?adjust_creative=OrNI6rV33Vv3LLn1QsAD-A&utm_campaign=yelp_api_v3&utm_medium=api_v3_business_search&utm_source=OrNI6rV33Vv3LLn1QsAD-A"
        },
        {
         "alias": "kaspace-cafe-toronto",
         "categories": [
          {
           "alias": "vegetarian",
           "title": "Vegetarian"
          }
         ],
         "coordinates": {
          "latitude": 43.66263,
          "longitude": -79.3319
         },
         "display_phone": "+1 647-657-9600",
         "distance": 1023.0188622260717,
         "id": "f-BXE0s5DGUQRoGFudSX-A",
         "image_url": "https://s3-media1.fl.yelpcdn.com/bphoto/_cy0DRbmlJ9iFeJ-wA0wPA/o.jpg",
         "is_closed": false,
         "location": {
          "address1": "1183 Queen Street E",
          "address2": "",
          "address3": null,
          "city": "Toronto",
          "country": "CA",
          "display_address": [
           "1183 Queen Street E",
           "Toronto, ON M4M 1L6",
           "Canada"
          ],
          "state": "ON",
          "zip_code": "M4M 1L6"
         },
         "name": "KaSpace Cafe",
         "phone": "+16476579600",
         "rating": 5,
         "review_count": 9,
         "transactions": [],
         "url": "https://www.yelp.com/biz/kaspace-cafe-toronto?adjust_creative=OrNI6rV33Vv3LLn1QsAD-A&utm_campaign=yelp_api_v3&utm_medium=api_v3_business_search&utm_source=OrNI6rV33Vv3LLn1QsAD-A"
        },
        {
         "alias": "leela-indian-food-bar-toronto-7",
         "categories": [
          {
           "alias": "indpak",
           "title": "Indian"
          }
         ],
         "coordinates": {
          "latitude": 43.6719741,
          "longitude": -79.3243773
         },
         "display_phone": "+1 416-461-8088",
         "distance": 829.0861018161038,
         "id": "LzgPbiGjoq1ZaZZSNHKn7w",
         "image_url": "https://s3-media2.fl.yelpcdn.com/bphoto/0F-4MvwL8V2GOAYAkXYp6A/o.jpg",
         "is_closed": false,
         "location": {
          "address1": "1386 Gerrard Street E",
          "address2": "",
          "address3": "",
          "city": "Toronto",
          "country": "CA",
          "display_address": [
           "1386 Gerrard Street E",
           "Toronto, ON M4L 1Z2",
           "Canada"
          ],
          "state": "ON",
          "zip_code": "M4L 1Z2"
         },
         "name": "Leela Indian Food Bar",
         "phone": "+14164618088",
         "rating": 4.5,
         "review_count": 12,
         "transactions": [],
         "url": "https://www.yelp.com/biz/leela-indian-food-bar-toronto-7?adjust_creative=OrNI6rV33Vv3LLn1QsAD-A&utm_campaign=yelp_api_v3&utm_medium=api_v3_business_search&utm_source=OrNI6rV33Vv3LLn1QsAD-A"
        },
        {
         "alias": "le-conciliabule-toronto",
         "categories": [
          {
           "alias": "bakeries",
           "title": "Bakeries"
          },
          {
           "alias": "wine_bars",
           "title": "Wine Bars"
          },
          {
           "alias": "bistros",
           "title": "Bistros"
          }
         ],
         "coordinates": {
          "latitude": 43.671365,
          "longitude": -79.3272249
         },
         "display_phone": "+1 437-981-1800",
         "distance": 903.6090778135728,
         "id": "O-QzKFXawEOiJmonWgvKbQ",
         "image_url": "https://s3-media1.fl.yelpcdn.com/bphoto/yW0Ju6VMfOlbcZ4lX_3itQ/o.jpg",
         "is_closed": false,
         "location": {
          "address1": "1300 Gerrard Street E",
          "address2": "",
          "address3": null,
          "city": "Toronto",
          "country": "CA",
          "display_address": [
           "1300 Gerrard Street E",
           "Toronto, ON M4L 1Y7",
           "Canada"
          ],
          "state": "ON",
          "zip_code": "M4L 1Y7"
         },
         "name": "Le Conciliabule",
         "phone": "+14379811800",
         "rating": 4.5,
         "review_count": 11,
         "transactions": [],
         "url": "https://www.yelp.com/biz/le-conciliabule-toronto?adjust_creative=OrNI6rV33Vv3LLn1QsAD-A&utm_campaign=yelp_api_v3&utm_medium=api_v3_business_search&utm_source=OrNI6rV33Vv3LLn1QsAD-A"
        },
        {
         "alias": "lahore-chaat-and-desi-burger-house-toronto-2",
         "categories": [
          {
           "alias": "pakistani",
           "title": "Pakistani"
          },
          {
           "alias": "asianfusion",
           "title": "Asian Fusion"
          }
         ],
         "coordinates": {
          "latitude": 43.67188,
          "longitude": -79.3246
         },
         "display_phone": "+1 416-466-9261",
         "distance": 835.0529047348355,
         "id": "V_XIK99ysZ2yjc6TUiPw2Q",
         "image_url": "https://s3-media2.fl.yelpcdn.com/bphoto/Huf5N8t3RSaWM4R9q3b8ZA/o.jpg",
         "is_closed": false,
         "location": {
          "address1": "1344 Gerrard Street E",
          "address2": "",
          "address3": "",
          "city": "Toronto",
          "country": "CA",
          "display_address": [
           "1344 Gerrard Street E",
           "Toronto, ON M4L 1Z2",
           "Canada"
          ],
          "state": "ON",
          "zip_code": "M4L 1Z2"
         },
         "name": "Lahore Chaat & Desi Burger House",
         "phone": "+14164669261",
         "price": "$",
         "rating": 4,
         "review_count": 15,
         "transactions": [],
         "url": "https://www.yelp.com/biz/lahore-chaat-and-desi-burger-house-toronto-2?adjust_creative=OrNI6rV33Vv3LLn1QsAD-A&utm_campaign=yelp_api_v3&utm_medium=api_v3_business_search&utm_source=OrNI6rV33Vv3LLn1QsAD-A"
        },
        {
         "alias": "the-duke-live-toronto-2",
         "categories": [
          {
           "alias": "sportsbars",
           "title": "Sports Bars"
          },
          {
           "alias": "karaoke",
           "title": "Karaoke"
          },
          {
           "alias": "musicvenues",
           "title": "Music Venues"
          }
         ],
         "coordinates": {
          "latitude": 43.6631490072311,
          "longitude": -79.3303066492081
         },
         "display_phone": "+1 416-466-2624",
         "distance": 877.7059437687415,
         "id": "A6I7Kq-eb8wzLOnfvdDSvg",
         "image_url": "https://s3-media4.fl.yelpcdn.com/bphoto/ml2UXDIgVK8ofUEgwJStcQ/o.jpg",
         "is_closed": false,
         "location": {
          "address1": "1225 Queen Street E",
          "address2": "",
          "address3": "",
          "city": "Toronto",
          "country": "CA",
          "display_address": [
           "1225 Queen Street E",
           "Toronto, ON M4M 1L6",
           "Canada"
          ],
          "state": "ON",
          "zip_code": "M4M 1L6"
         },
         "name": "The Duke Live",
         "phone": "+14164662624",
         "price": "$$",
         "rating": 3.5,
         "review_count": 30,
         "transactions": [],
         "url": "https://www.yelp.com/biz/the-duke-live-toronto-2?adjust_creative=OrNI6rV33Vv3LLn1QsAD-A&utm_campaign=yelp_api_v3&utm_medium=api_v3_business_search&utm_source=OrNI6rV33Vv3LLn1QsAD-A"
        },
        {
         "alias": "birdies-fried-chicken-toronto",
         "categories": [
          {
           "alias": "chickenshop",
           "title": "Chicken Shop"
          },
          {
           "alias": "sandwiches",
           "title": "Sandwiches"
          },
          {
           "alias": "hotdogs",
           "title": "Fast Food"
          }
         ],
         "coordinates": {
          "latitude": 43.6732457,
          "longitude": -79.3191636
         },
         "display_phone": "+1 647-245-3068",
         "distance": 888.19961235597,
         "id": "shL6V9sOKgwvMtx6DZ7PUg",
         "image_url": "https://s3-media4.fl.yelpcdn.com/bphoto/1b8GghDbpYg7Q-WK_osuBA/o.jpg",
         "is_closed": false,
         "location": {
          "address1": "263 Coxwell Avenue",
          "address2": "",
          "address3": null,
          "city": "Toronto",
          "country": "CA",
          "display_address": [
           "263 Coxwell Avenue",
           "Toronto, ON M4L 3B5",
           "Canada"
          ],
          "state": "ON",
          "zip_code": "M4L 3B5"
         },
         "name": "BIRDIES Fried Chicken",
         "phone": "+16472453068",
         "rating": 4.5,
         "review_count": 10,
         "transactions": [],
         "url": "https://www.yelp.com/biz/birdies-fried-chicken-toronto?adjust_creative=OrNI6rV33Vv3LLn1QsAD-A&utm_campaign=yelp_api_v3&utm_medium=api_v3_business_search&utm_source=OrNI6rV33Vv3LLn1QsAD-A"
        },
        {
         "alias": "desi-burger-toronto-2",
         "categories": [
          {
           "alias": "hotdogs",
           "title": "Fast Food"
          },
          {
           "alias": "burgers",
           "title": "Burgers"
          }
         ],
         "coordinates": {
          "latitude": 43.6718199,
          "longitude": -79.3247
         },
         "display_phone": "+1 416-461-8757",
         "distance": 828.4504181006843,
         "id": "irIovNOjRHVBV0uO5KX4UQ",
         "image_url": "https://s3-media3.fl.yelpcdn.com/bphoto/11Ob1OUucZHFu99ltWdp_w/o.jpg",
         "is_closed": false,
         "location": {
          "address1": "1342 Gerrard Street E",
          "address2": "",
          "address3": null,
          "city": "Toronto",
          "country": "CA",
          "display_address": [
           "1342 Gerrard Street E",
           "Toronto, ON M4L 1Z2",
           "Canada"
          ],
          "state": "ON",
          "zip_code": "M4L 1Z2"
         },
         "name": "Desi Burger",
         "phone": "+14164618757",
         "rating": 4,
         "review_count": 11,
         "transactions": [],
         "url": "https://www.yelp.com/biz/desi-burger-toronto-2?adjust_creative=OrNI6rV33Vv3LLn1QsAD-A&utm_campaign=yelp_api_v3&utm_medium=api_v3_business_search&utm_source=OrNI6rV33Vv3LLn1QsAD-A"
        },
        {
         "alias": "black-pony-toronto",
         "categories": [
          {
           "alias": "cafes",
           "title": "Cafes"
          },
          {
           "alias": "bars",
           "title": "Bars"
          }
         ],
         "coordinates": {
          "latitude": 43.67241,
          "longitude": -79.3204
         },
         "display_phone": "+1 416-466-7669",
         "distance": 805.5180733412958,
         "id": "iUDbA1Xm7hVh_sKCH4H3Vg",
         "image_url": "https://s3-media1.fl.yelpcdn.com/bphoto/FswfU0DxXBu_Yhje2zR_6Q/o.jpg",
         "is_closed": false,
         "location": {
          "address1": "1481 Gerrard Street E",
          "address2": "",
          "address3": null,
          "city": "Toronto",
          "country": "CA",
          "display_address": [
           "1481 Gerrard Street E",
           "Toronto, ON M4L 2A3",
           "Canada"
          ],
          "state": "ON",
          "zip_code": "M4L 2A3"
         },
         "name": "Black Pony",
         "phone": "+14164667669",
         "rating": 5,
         "review_count": 5,
         "transactions": [],
         "url": "https://www.yelp.com/biz/black-pony-toronto?adjust_creative=OrNI6rV33Vv3LLn1QsAD-A&utm_campaign=yelp_api_v3&utm_medium=api_v3_business_search&utm_source=OrNI6rV33Vv3LLn1QsAD-A"
        },
        {
         "alias": "mcdonalds-toronto-12",
         "categories": [
          {
           "alias": "hotdogs",
           "title": "Fast Food"
          },
          {
           "alias": "burgers",
           "title": "Burgers"
          },
          {
           "alias": "coffee",
           "title": "Coffee & Tea"
          }
         ],
         "coordinates": {
          "latitude": 43.6650808,
          "longitude": -79.3192955
         },
         "display_phone": "+1 416-463-2124",
         "distance": 64.24127334717444,
         "id": "opy1am7eajjAO2-eyojoIw",
         "image_url": "https://s3-media4.fl.yelpcdn.com/bphoto/WehJq2mnyJAlOyow_8RaCw/o.jpg",
         "is_closed": false,
         "location": {
          "address1": "29-31 Woodward Avenue",
          "address2": "",
          "address3": "",
          "city": "Toronto",
          "country": "CA",
          "display_address": [
           "29-31 Woodward Avenue",
           "Toronto, ON M4L 2Y5",
           "Canada"
          ],
          "state": "ON",
          "zip_code": "M4L 2Y5"
         },
         "name": "McDonald's",
         "phone": "+14164632124",
         "price": "$",
         "rating": 2.5,
         "review_count": 22,
         "transactions": [],
         "url": "https://www.yelp.com/biz/mcdonalds-toronto-12?adjust_creative=OrNI6rV33Vv3LLn1QsAD-A&utm_campaign=yelp_api_v3&utm_medium=api_v3_business_search&utm_source=OrNI6rV33Vv3LLn1QsAD-A"
        },
        {
         "alias": "the-friendly-thai-toronto-5",
         "categories": [
          {
           "alias": "thai",
           "title": "Thai"
          }
         ],
         "coordinates": {
          "latitude": 43.66342,
          "longitude": -79.3306
         },
         "display_phone": "+1 416-461-8424",
         "distance": 895.9556195250685,
         "id": "nkTiiS4qTb9INNOWVvystw",
         "image_url": "https://s3-media2.fl.yelpcdn.com/bphoto/D7BDvKaWZwY0zenVRn21JA/o.jpg",
         "is_closed": false,
         "location": {
          "address1": "1218 Queen Street E",
          "address2": "",
          "address3": "",
          "city": "Toronto",
          "country": "CA",
          "display_address": [
           "1218 Queen Street E",
           "Toronto, ON M4M 1L7",
           "Canada"
          ],
          "state": "ON",
          "zip_code": "M4M 1L7"
         },
         "name": "The Friendly Thai",
         "phone": "+14164618424",
         "price": "$$",
         "rating": 2.5,
         "review_count": 58,
         "transactions": [],
         "url": "https://www.yelp.com/biz/the-friendly-thai-toronto-5?adjust_creative=OrNI6rV33Vv3LLn1QsAD-A&utm_campaign=yelp_api_v3&utm_medium=api_v3_business_search&utm_source=OrNI6rV33Vv3LLn1QsAD-A"
        },
        {
         "alias": "new-town-family-restaurant-toronto",
         "categories": [
          {
           "alias": "diners",
           "title": "Diners"
          },
          {
           "alias": "breakfast_brunch",
           "title": "Breakfast & Brunch"
          }
         ],
         "coordinates": {
          "latitude": 43.67298,
          "longitude": -79.31946
         },
         "display_phone": "+1 416-465-0836",
         "distance": 914.6448458728537,
         "id": "XkrSpvUe3JFb6pxGcwgO2w",
         "image_url": "https://s3-media2.fl.yelpcdn.com/bphoto/a_xpWrQdFt-rirBGF3whcA/o.jpg",
         "is_closed": false,
         "location": {
          "address1": "266 Coxwell Ave",
          "address2": "",
          "address3": "",
          "city": "Toronto",
          "country": "CA",
          "display_address": [
           "266 Coxwell Ave",
           "Toronto, ON M4L 3B6",
           "Canada"
          ],
          "state": "ON",
          "zip_code": "M4L 3B6"
         },
         "name": "New Town Family Restaurant",
         "phone": "+14164650836",
         "price": "$",
         "rating": 3.5,
         "review_count": 14,
         "transactions": [],
         "url": "https://www.yelp.com/biz/new-town-family-restaurant-toronto?adjust_creative=OrNI6rV33Vv3LLn1QsAD-A&utm_campaign=yelp_api_v3&utm_medium=api_v3_business_search&utm_source=OrNI6rV33Vv3LLn1QsAD-A"
        },
        {
         "alias": "mattachioni-toronto-2",
         "categories": [
          {
           "alias": "grocery",
           "title": "Grocery"
          },
          {
           "alias": "pizza",
           "title": "Pizza"
          },
          {
           "alias": "sandwiches",
           "title": "Sandwiches"
          }
         ],
         "coordinates": {
          "latitude": 43.67264,
          "longitude": -79.31973
         },
         "display_phone": "+1 416-466-1111",
         "distance": 815.1485644834155,
         "id": "TFpo3-XpYTdcz_LGjcHrdQ",
         "image_url": "https://s3-media1.fl.yelpcdn.com/bphoto/FyifCI6ku_sYFYA_PnY-cA/o.jpg",
         "is_closed": false,
         "location": {
          "address1": "1501 Gerrard St E",
          "address2": "",
          "address3": null,
          "city": "Toronto",
          "country": "CA",
          "display_address": [
           "1501 Gerrard St E",
           "Toronto, ON M4L 2A4",
           "Canada"
          ],
          "state": "ON",
          "zip_code": "M4L 2A4"
         },
         "name": "Mattachioni",
         "phone": "+14164661111",
         "rating": 5,
         "review_count": 4,
         "transactions": [],
         "url": "https://www.yelp.com/biz/mattachioni-toronto-2?adjust_creative=OrNI6rV33Vv3LLn1QsAD-A&utm_campaign=yelp_api_v3&utm_medium=api_v3_business_search&utm_source=OrNI6rV33Vv3LLn1QsAD-A"
        },
        {
         "alias": "lahore-bbq-paan-center-toronto",
         "categories": [
          {
           "alias": "pakistani",
           "title": "Pakistani"
          },
          {
           "alias": "halal",
           "title": "Halal"
          }
         ],
         "coordinates": {
          "latitude": 43.67203,
          "longitude": -79.3219699
         },
         "display_phone": "+1 416-462-3293",
         "distance": 777.9819023421976,
         "id": "_H2Q4Y4aosi-svXyfZIaIw",
         "image_url": "https://s3-media1.fl.yelpcdn.com/bphoto/1KdpXvqe07wNOUjzaf1uuA/o.jpg",
         "is_closed": false,
         "location": {
          "address1": "1435 Gerrard Street E",
          "address2": "",
          "address3": "",
          "city": "Toronto",
          "country": "CA",
          "display_address": [
           "1435 Gerrard Street E",
           "Toronto, ON M4L 1Z7",
           "Canada"
          ],
          "state": "ON",
          "zip_code": "M4L 1Z7"
         },
         "name": "Lahore BBQ Paan Center",
         "phone": "+14164623293",
         "price": "$",
         "rating": 3.5,
         "review_count": 14,
         "transactions": [],
         "url": "https://www.yelp.com/biz/lahore-bbq-paan-center-toronto?adjust_creative=OrNI6rV33Vv3LLn1QsAD-A&utm_campaign=yelp_api_v3&utm_medium=api_v3_business_search&utm_source=OrNI6rV33Vv3LLn1QsAD-A"
        },
        {
         "alias": "shamrock-bowl-and-restobar-toronto",
         "categories": [
          {
           "alias": "bowling",
           "title": "Bowling"
          },
          {
           "alias": "arcades",
           "title": "Arcades"
          },
          {
           "alias": "bars",
           "title": "Bars"
          }
         ],
         "coordinates": {
          "latitude": 43.67329,
          "longitude": -79.31979
         },
         "display_phone": "+1 416-465-1111",
         "distance": 896.9148590711698,
         "id": "XucQqzp7iltmY3lwexAQrA",
         "image_url": "https://s3-media1.fl.yelpcdn.com/bphoto/9xCHyIY7Yp5EM7wdYwGoDQ/o.jpg",
         "is_closed": false,
         "location": {
          "address1": "280 Coxwell Avenue",
          "address2": null,
          "address3": "",
          "city": "Toronto",
          "country": "CA",
          "display_address": [
           "280 Coxwell Avenue",
           "Toronto, ON M4L 3B6",
           "Canada"
          ],
          "state": "ON",
          "zip_code": "M4L 3B6"
         },
         "name": "Shamrock Bowl and Restobar",
         "phone": "+14164651111",
         "rating": 4,
         "review_count": 8,
         "transactions": [],
         "url": "https://www.yelp.com/biz/shamrock-bowl-and-restobar-toronto?adjust_creative=OrNI6rV33Vv3LLn1QsAD-A&utm_campaign=yelp_api_v3&utm_medium=api_v3_business_search&utm_source=OrNI6rV33Vv3LLn1QsAD-A"
        }
       ],
       "region": {
        "center": {
         "latitude": 43.665269,
         "longitude": -79.319796
        }
       },
       "total": 87
      },
      "text/plain": [
       "<IPython.core.display.JSON object>"
      ]
     },
     "execution_count": 11,
     "metadata": {
      "application/json": {
       "expanded": false,
       "root": "root"
      }
     },
     "output_type": "execute_result"
    }
   ],
   "source": [
    "JSON(test.json())"
   ]
  },
  {
   "cell_type": "markdown",
   "metadata": {},
   "source": [
    "### Parse through the response to get the POI (such as restaurants, bars, etc) details you want (ratings, name, location, etc)"
   ]
  },
  {
   "cell_type": "code",
   "execution_count": 12,
   "metadata": {},
   "outputs": [],
   "source": [
    "def POI_yelp(request):\n",
    "    '''\n",
    "    request: HTTP Code <200>\n",
    "    Take in a HTTP code and convert it to JSON.\n",
    "    Return: List\n",
    "    '''\n",
    "    request_in_json = request.json()\n",
    "    businesses = request_in_json['businesses']\n",
    "    list_of_businesses = []\n",
    "    for business in businesses:\n",
    "        new_dict = {}\n",
    "        new_dict['name'] = business.get('name', None)\n",
    "        new_dict['price'] = business.get('price', None)\n",
    "        new_dict['rating'] = business.get('rating', None)\n",
    "        new_dict['latitude'] = business.get('coordinates', None).get('latitude', None)\n",
    "        new_dict['longtitude'] = business.get('coordinates', None).get('longitude', None)\n",
    "        list_of_businesses.append(new_dict)\n",
    "    return list_of_businesses"
   ]
  },
  {
   "cell_type": "markdown",
   "metadata": {},
   "source": [
    "Put your parsed results into a DataFrame"
   ]
  },
  {
   "cell_type": "markdown",
   "metadata": {},
   "source": []
  },
  {
   "cell_type": "markdown",
   "metadata": {},
   "source": [
    "# Create a Dataframe"
   ]
  },
  {
   "cell_type": "code",
   "execution_count": 23,
   "metadata": {},
   "outputs": [],
   "source": [
    "def df_yelp(poi_yelp):\n",
    "    return pd.DataFrame(POI_yelp(test))"
   ]
  },
  {
   "cell_type": "markdown",
   "metadata": {},
   "source": [
    "# Comparing Results"
   ]
  },
  {
   "cell_type": "markdown",
   "metadata": {},
   "source": [
    "Which API provided you with more complete data? Provide an explanation. "
   ]
  },
  {
   "cell_type": "markdown",
   "metadata": {},
   "source": [
    "I think foursquare worked better for me, it had more data to choose from. I have also tried a different latitude and longitude from Greece prior to this observation in Toronto. While foursquare gave me a lot of data, there was no data at all from yelp. latitude:38.0855680022\n",
    "longitude:23.9776389963"
   ]
  },
  {
   "cell_type": "markdown",
   "metadata": {},
   "source": []
  },
  {
   "cell_type": "markdown",
   "metadata": {},
   "source": [
    "Get the top 10 restaurants according to their rating"
   ]
  },
  {
   "cell_type": "code",
   "execution_count": 28,
   "metadata": {},
   "outputs": [
    {
     "name": "stdout",
     "output_type": "stream",
     "text": [
      "                            name  popularity  price  rating  \\\n",
      "3              Hasting Snack Bar    0.924879    1.0     9.0   \n",
      "5                      Lake Inez    0.934568    2.0     8.8   \n",
      "1                   The Sidekick    0.928866    NaN     8.8   \n",
      "6                   Udupi Palace    0.919787    1.0     8.6   \n",
      "8   Maha's Fine Egyptian Cuisine    0.949175    NaN     8.6   \n",
      "0              Rorschach Brewing    0.982673    2.0     8.5   \n",
      "7               Godspeed Brewery    0.957766    2.0     8.3   \n",
      "4                    Chino Locos    0.924573    1.0     8.2   \n",
      "2                        O Sushi    0.933508    2.0     7.9   \n",
      "11            Lahore Tikka House    0.988701    2.0     7.9   \n",
      "\n",
      "        categories_name   latitude  longtitude  \n",
      "3                Lounge  43.663791  -79.328899  \n",
      "5                   Bar  43.672424  -79.320489  \n",
      "1           Coffee Shop  43.664580  -79.324956  \n",
      "6     Indian Restaurant  43.672659  -79.321134  \n",
      "8   Egyptian Restaurant  43.671682  -79.328462  \n",
      "0               Brewery  43.663542  -79.319882  \n",
      "7                   Bar  43.672615  -79.319396  \n",
      "4    Chinese Restaurant  43.664540  -79.325510  \n",
      "2              Pizzeria  43.666623  -79.316861  \n",
      "11    Indian Restaurant  43.671504  -79.324693  \n"
     ]
    }
   ],
   "source": [
    "def mainfunction_foursq(llvalue):\n",
    "    request_code = station(llvalue)\n",
    "    point = POI_fs(request_code)\n",
    "    return data_frame(point)\n",
    "\n",
    "print(mainfunction_foursq(\"43.665269,-79.319796\").sort_values(by='rating', ascending=False).head(10))"
   ]
  },
  {
   "cell_type": "code",
   "execution_count": 32,
   "metadata": {},
   "outputs": [
    {
     "name": "stdout",
     "output_type": "stream",
     "text": [
      "                      name price  rating   latitude  longtitude\n",
      "47             Mattachioni  None     5.0  43.672640  -79.319730\n",
      "43              Black Pony  None     5.0  43.672410  -79.320400\n",
      "36            KaSpace Cafe  None     5.0  43.662630  -79.331900\n",
      "37   Leela Indian Food Bar  None     4.5  43.671974  -79.324377\n",
      "9             The Sidekick     $     4.5  43.664589  -79.325111\n",
      "23  Eulalie's Corner Store    $$     4.5  43.672539  -79.321732\n",
      "24                Jaclyn's  None     4.5  43.666270  -79.318020\n",
      "13           Tea N Bannock    $$     4.5  43.671182  -79.327356\n",
      "11      Hastings Snack Bar     $     4.5  43.663810  -79.328930\n",
      "20              Toto Sushi  None     4.5  43.672262  -79.321227\n"
     ]
    }
   ],
   "source": [
    "def mainfunction_yelp(llvalue):\n",
    "    request_code = yelp_station(llvalue)\n",
    "    point = POI_yelp(request_code)\n",
    "    return df_yelp(point)\n",
    "\n",
    "print(mainfunction_yelp(\"43.665269,-79.319796\").sort_values(by='rating', ascending=False).head(10))"
   ]
  },
  {
   "cell_type": "markdown",
   "metadata": {},
   "source": [
    "### Joining data from Part 1 to 2 and loading it into a csv."
   ]
  },
  {
   "cell_type": "code",
   "execution_count": 34,
   "metadata": {},
   "outputs": [],
   "source": [
    "list_of_df = []\n",
    "for indx in range(len(ll)):\n",
    "    list_of_df.append(mainfunction_foursq(ll[indx]))\n",
    "\n",
    "newdfs = pd.concat(list_of_df)\n",
    "newdfs.to_csv('fsrestaurant_info.csv')"
   ]
  },
  {
   "cell_type": "code",
   "execution_count": 36,
   "metadata": {},
   "outputs": [],
   "source": [
    "list_of_df_yelp = []\n",
    "for indx in range(len(ll)):\n",
    "    list_of_df_yelp.append(mainfunction_yelp(ll[indx]))\n",
    "\n",
    "newdfs_yelp = pd.concat(list_of_df_yelp)\n",
    "newdfs_yelp.to_csv('yelprestaurant_info.csv')"
   ]
  },
  {
   "cell_type": "code",
   "execution_count": null,
   "metadata": {},
   "outputs": [],
   "source": []
  }
 ],
 "metadata": {
  "kernelspec": {
   "display_name": "Python 3 (ipykernel)",
   "language": "python",
   "name": "python3"
  },
  "language_info": {
   "codemirror_mode": {
    "name": "ipython",
    "version": 3
   },
   "file_extension": ".py",
   "mimetype": "text/x-python",
   "name": "python",
   "nbconvert_exporter": "python",
   "pygments_lexer": "ipython3",
   "version": "3.9.12"
  }
 },
 "nbformat": 4,
 "nbformat_minor": 4
}
