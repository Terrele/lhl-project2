{
 "cells": [
  {
   "cell_type": "code",
   "execution_count": 1,
   "metadata": {},
   "outputs": [],
   "source": [
    "# imports"
   ]
  },
  {
   "cell_type": "code",
   "execution_count": 2,
   "metadata": {},
   "outputs": [],
   "source": [
    "import requests\n",
    "from IPython.display import JSON"
   ]
  },
  {
   "cell_type": "code",
   "execution_count": 3,
   "metadata": {},
   "outputs": [],
   "source": [
    "import pandas as pd\n",
    "import os"
   ]
  },
  {
   "cell_type": "markdown",
   "metadata": {},
   "source": [
    "# Foursquare"
   ]
  },
  {
   "cell_type": "markdown",
   "metadata": {},
   "source": [
    "### Send a request to Foursquare with a small radius (1000m) for all the bike stations in your city of choice. "
   ]
  },
  {
   "cell_type": "code",
   "execution_count": 4,
   "metadata": {},
   "outputs": [
    {
     "name": "stdout",
     "output_type": "stream",
     "text": [
      "43.665269,-79.319796\n"
     ]
    }
   ],
   "source": [
    "#For all bike stations in the city of your choice, get the latitude and longitude.\n",
    "#Show example of what the first index of ll: list contains.\n",
    "df = pd.read_csv(\"bike_info.csv\")\n",
    "column = list(df)\n",
    "ll = []\n",
    "for i in range(len(column)-1):\n",
    "    ll.append((f\"{str(df['latitude'][i])},{str(df['longitude'][i])}\"))\n",
    "print(ll[0])"
   ]
  },
  {
   "cell_type": "code",
   "execution_count": 5,
   "metadata": {},
   "outputs": [],
   "source": [
    "def station(llvalue):\n",
    "    '''\n",
    "    llvalue: str\n",
    "    return: HTTPCode\n",
    "    Take a string that looks like \"latitude,longitude\"\n",
    "    '''\n",
    "    headers = {\"Accept\": \"application/json\"}\n",
    "    headers[\"Authorization\"] = os.environ.get('FOURSQUARE_API_KEY')\n",
    "    fields = 'name,rating,categories,price,popularity,geocodes'\n",
    "    url = (f'https://api.foursquare.com/v3/places/search')\n",
    "    parameters = {'ll' : llvalue,\n",
    "                  'fields' : fields,\n",
    "                  'radius' : 1000,\n",
    "                  'categories' : '13065,13003',\n",
    "                  'limit' : '50'\n",
    "                 }\n",
    "    four_square_networks = requests.get(url, headers=headers, params=parameters)\n",
    "    return four_square_networks\n"
   ]
  },
  {
   "cell_type": "code",
   "execution_count": 6,
   "metadata": {},
   "outputs": [
    {
     "data": {
      "application/json": {
       "context": {
        "geo_bounds": {
         "circle": {
          "center": {
           "latitude": 43.666224,
           "longitude": -79.317693
          },
          "radius": 1000
         }
        }
       },
       "results": [
        {
         "categories": [
          {
           "icon": {
            "prefix": "https://ss3.4sqi.net/img/categories_v2/food/brewery_",
            "suffix": ".png"
           },
           "id": 13029,
           "name": "Brewery"
          },
          {
           "icon": {
            "prefix": "https://ss3.4sqi.net/img/categories_v2/food/default_",
            "suffix": ".png"
           },
           "id": 13065,
           "name": "Restaurant"
          }
         ],
         "geocodes": {
          "main": {
           "latitude": 43.663542,
           "longitude": -79.319882
          },
          "roof": {
           "latitude": 43.663542,
           "longitude": -79.319882
          }
         },
         "name": "Rorschach Brewing",
         "popularity": 0.9826734217652271,
         "price": 2,
         "rating": 8.5
        },
        {
         "categories": [
          {
           "icon": {
            "prefix": "https://ss3.4sqi.net/img/categories_v2/food/pizza_",
            "suffix": ".png"
           },
           "id": 13064,
           "name": "Pizzeria"
          },
          {
           "icon": {
            "prefix": "https://ss3.4sqi.net/img/categories_v2/food/sushi_",
            "suffix": ".png"
           },
           "id": 13276,
           "name": "Sushi Restaurant"
          }
         ],
         "geocodes": {
          "main": {
           "latitude": 43.666623,
           "longitude": -79.316861
          },
          "roof": {
           "latitude": 43.666623,
           "longitude": -79.316861
          }
         },
         "name": "O Sushi",
         "popularity": 0.933507618203826,
         "price": 2,
         "rating": 7.9
        },
        {
         "categories": [
          {
           "icon": {
            "prefix": "https://ss3.4sqi.net/img/categories_v2/food/coffeeshop_",
            "suffix": ".png"
           },
           "id": 13035,
           "name": "Coffee Shop"
          },
          {
           "icon": {
            "prefix": "https://ss3.4sqi.net/img/categories_v2/food/default_",
            "suffix": ".png"
           },
           "id": 13065,
           "name": "Restaurant"
          }
         ],
         "geocodes": {
          "main": {
           "latitude": 43.66458,
           "longitude": -79.324956
          },
          "roof": {
           "latitude": 43.66458,
           "longitude": -79.324956
          }
         },
         "name": "The Sidekick",
         "popularity": 0.9288655677152876,
         "rating": 8.8
        },
        {
         "categories": [
          {
           "icon": {
            "prefix": "https://ss3.4sqi.net/img/categories_v2/nightlife/pub_",
            "suffix": ".png"
           },
           "id": 13003,
           "name": "Bar"
          },
          {
           "icon": {
            "prefix": "https://ss3.4sqi.net/img/categories_v2/food/asian_",
            "suffix": ".png"
           },
           "id": 13072,
           "name": "Asian Restaurant"
          }
         ],
         "geocodes": {
          "main": {
           "latitude": 43.672424,
           "longitude": -79.320489
          },
          "roof": {
           "latitude": 43.672424,
           "longitude": -79.320489
          }
         },
         "name": "Lake Inez",
         "popularity": 0.9345683017831963,
         "price": 2,
         "rating": 8.8
        },
        {
         "categories": [
          {
           "icon": {
            "prefix": "https://ss3.4sqi.net/img/categories_v2/food/indian_",
            "suffix": ".png"
           },
           "id": 13199,
           "name": "Indian Restaurant"
          }
         ],
         "geocodes": {
          "main": {
           "latitude": 43.672659,
           "longitude": -79.321134
          },
          "roof": {
           "latitude": 43.672659,
           "longitude": -79.321134
          }
         },
         "name": "Udupi Palace",
         "popularity": 0.9197873641389122,
         "price": 1,
         "rating": 8.6
        },
        {
         "categories": [
          {
           "icon": {
            "prefix": "https://ss3.4sqi.net/img/categories_v2/nightlife/default_",
            "suffix": ".png"
           },
           "id": 13016,
           "name": "Lounge"
          },
          {
           "icon": {
            "prefix": "https://ss3.4sqi.net/img/categories_v2/food/default_",
            "suffix": ".png"
           },
           "id": 13134,
           "name": "Comfort Food Restaurant"
          },
          {
           "icon": {
            "prefix": "https://ss3.4sqi.net/img/categories_v2/food/fastfood_",
            "suffix": ".png"
           },
           "id": 13145,
           "name": "Fast Food Restaurant"
          }
         ],
         "geocodes": {
          "main": {
           "latitude": 43.663791,
           "longitude": -79.328899
          },
          "roof": {
           "latitude": 43.663791,
           "longitude": -79.328899
          }
         },
         "name": "Hasting Snack Bar",
         "popularity": 0.9248786453198897,
         "price": 1,
         "rating": 9
        },
        {
         "categories": [
          {
           "icon": {
            "prefix": "https://ss3.4sqi.net/img/categories_v2/nightlife/pub_",
            "suffix": ".png"
           },
           "id": 13003,
           "name": "Bar"
          },
          {
           "icon": {
            "prefix": "https://ss3.4sqi.net/img/categories_v2/food/brewery_",
            "suffix": ".png"
           },
           "id": 13029,
           "name": "Brewery"
          },
          {
           "icon": {
            "prefix": "https://ss3.4sqi.net/img/categories_v2/food/default_",
            "suffix": ".png"
           },
           "id": 13065,
           "name": "Restaurant"
          }
         ],
         "geocodes": {
          "main": {
           "latitude": 43.672615,
           "longitude": -79.319396
          },
          "roof": {
           "latitude": 43.672615,
           "longitude": -79.319396
          }
         },
         "name": "Godspeed Brewery",
         "popularity": 0.9577660755955426,
         "price": 2,
         "rating": 8.3
        },
        {
         "categories": [
          {
           "icon": {
            "prefix": "https://ss3.4sqi.net/img/categories_v2/food/asian_",
            "suffix": ".png"
           },
           "id": 13099,
           "name": "Chinese Restaurant"
          },
          {
           "icon": {
            "prefix": "https://ss3.4sqi.net/img/categories_v2/food/burrito_",
            "suffix": ".png"
           },
           "id": 13305,
           "name": "Burrito Restaurant"
          }
         ],
         "geocodes": {
          "main": {
           "latitude": 43.66454,
           "longitude": -79.32551
          },
          "roof": {
           "latitude": 43.66454,
           "longitude": -79.32551
          }
         },
         "name": "Chino Locos",
         "popularity": 0.9245729188764241,
         "price": 1,
         "rating": 8.2
        },
        {
         "categories": [
          {
           "icon": {
            "prefix": "https://ss3.4sqi.net/img/categories_v2/food/burger_",
            "suffix": ".png"
           },
           "id": 13031,
           "name": "Burger Joint"
          },
          {
           "icon": {
            "prefix": "https://ss3.4sqi.net/img/categories_v2/food/default_",
            "suffix": ".png"
           },
           "id": 13068,
           "name": "American Restaurant"
          },
          {
           "icon": {
            "prefix": "https://ss3.4sqi.net/img/categories_v2/food/fastfood_",
            "suffix": ".png"
           },
           "id": 13145,
           "name": "Fast Food Restaurant"
          }
         ],
         "geocodes": {
          "main": {
           "latitude": 43.666781,
           "longitude": -79.315436
          },
          "roof": {
           "latitude": 43.666781,
           "longitude": -79.315436
          }
         },
         "name": "Null",
         "popularity": 0.9513021450765564,
         "price": 2,
         "rating": 7.4
        },
        {
         "categories": [
          {
           "icon": {
            "prefix": "https://ss3.4sqi.net/img/categories_v2/food/pizza_",
            "suffix": ".png"
           },
           "id": 13064,
           "name": "Pizzeria"
          },
          {
           "icon": {
            "prefix": "https://ss3.4sqi.net/img/categories_v2/food/italian_",
            "suffix": ".png"
           },
           "id": 13236,
           "name": "Italian Restaurant"
          },
          {
           "icon": {
            "prefix": "https://ss3.4sqi.net/img/categories_v2/food/mediterranean_",
            "suffix": ".png"
           },
           "id": 13302,
           "name": "Mediterranean Restaurant"
          }
         ],
         "geocodes": {
          "main": {
           "latitude": 43.666814,
           "longitude": -79.314974
          },
          "roof": {
           "latitude": 43.666814,
           "longitude": -79.314974
          }
         },
         "name": "Casa Di Giorgios",
         "popularity": 0.9191696719368082,
         "price": 2,
         "rating": 7.3
        },
        {
         "categories": [
          {
           "icon": {
            "prefix": "https://ss3.4sqi.net/img/categories_v2/food/indian_",
            "suffix": ".png"
           },
           "id": 13199,
           "name": "Indian Restaurant"
          },
          {
           "icon": {
            "prefix": "https://ss3.4sqi.net/img/categories_v2/food/default_",
            "suffix": ".png"
           },
           "id": 13316,
           "name": "Pakistani Restaurant"
          }
         ],
         "geocodes": {
          "main": {
           "latitude": 43.671504,
           "longitude": -79.324693
          },
          "roof": {
           "latitude": 43.671504,
           "longitude": -79.324693
          }
         },
         "name": "Lahore Tikka House",
         "popularity": 0.9887006002221196,
         "price": 2,
         "rating": 7.9
        },
        {
         "categories": [
          {
           "icon": {
            "prefix": "https://ss3.4sqi.net/img/categories_v2/food/pizza_",
            "suffix": ".png"
           },
           "id": 13064,
           "name": "Pizzeria"
          }
         ],
         "geocodes": {
          "main": {
           "latitude": 43.664804,
           "longitude": -79.324196
          },
          "roof": {
           "latitude": 43.664804,
           "longitude": -79.324196
          }
         },
         "name": "Queen Margherita Pizza",
         "popularity": 0.9004829229943722,
         "price": 2,
         "rating": 7.5
        },
        {
         "categories": [
          {
           "icon": {
            "prefix": "https://ss3.4sqi.net/img/categories_v2/food/indian_",
            "suffix": ".png"
           },
           "id": 13199,
           "name": "Indian Restaurant"
          }
         ],
         "geocodes": {
          "main": {
           "latitude": 43.672337,
           "longitude": -79.322486
          },
          "roof": {
           "latitude": 43.672337,
           "longitude": -79.322486
          }
         },
         "name": "Motimahal Restaurant Ltd",
         "popularity": 0.957622571346569,
         "price": 2,
         "rating": 7.6
        },
        {
         "categories": [
          {
           "icon": {
            "prefix": "https://ss3.4sqi.net/img/categories_v2/food/diner_",
            "suffix": ".png"
           },
           "id": 13049,
           "name": "Diner"
          },
          {
           "icon": {
            "prefix": "https://ss3.4sqi.net/img/categories_v2/food/fastfood_",
            "suffix": ".png"
           },
           "id": 13145,
           "name": "Fast Food Restaurant"
          }
         ],
         "geocodes": {
          "main": {
           "latitude": 43.665121,
           "longitude": -79.321347
          },
          "roof": {
           "latitude": 43.665121,
           "longitude": -79.321347
          }
         },
         "name": "Chick-N-Joy",
         "popularity": 0.6294782684652532,
         "price": 1,
         "rating": 6.9
        },
        {
         "categories": [
          {
           "icon": {
            "prefix": "https://ss3.4sqi.net/img/categories_v2/nightlife/pub_",
            "suffix": ".png"
           },
           "id": 13003,
           "name": "Bar"
          },
          {
           "icon": {
            "prefix": "https://ss3.4sqi.net/img/categories_v2/food/default_",
            "suffix": ".png"
           },
           "id": 13065,
           "name": "Restaurant"
          }
         ],
         "geocodes": {
          "main": {
           "latitude": 43.672449,
           "longitude": -79.321708
          },
          "roof": {
           "latitude": 43.672449,
           "longitude": -79.321708
          }
         },
         "name": "Eulalie's Corner Store",
         "popularity": 0.9141719804834222,
         "price": 2,
         "rating": 7.3
        },
        {
         "categories": [
          {
           "icon": {
            "prefix": "https://ss3.4sqi.net/img/categories_v2/food/fastfood_",
            "suffix": ".png"
           },
           "id": 13145,
           "name": "Fast Food Restaurant"
          },
          {
           "icon": {
            "prefix": "https://ss3.4sqi.net/img/categories_v2/food/indian_",
            "suffix": ".png"
           },
           "id": 13199,
           "name": "Indian Restaurant"
          }
         ],
         "geocodes": {
          "main": {
           "latitude": 43.671864,
           "longitude": -79.324375
          },
          "roof": {
           "latitude": 43.671864,
           "longitude": -79.324375
          }
         },
         "name": "Bombay Chowpatty",
         "popularity": 0.0889601557333067,
         "price": 2,
         "rating": 7.2
        },
        {
         "categories": [
          {
           "icon": {
            "prefix": "https://ss3.4sqi.net/img/categories_v2/food/bakery_",
            "suffix": ".png"
           },
           "id": 13002,
           "name": "Bakery"
          },
          {
           "icon": {
            "prefix": "https://ss3.4sqi.net/img/categories_v2/food/dessert_",
            "suffix": ".png"
           },
           "id": 13047,
           "name": "Pastry Shop"
          },
          {
           "icon": {
            "prefix": "https://ss3.4sqi.net/img/categories_v2/food/default_",
            "suffix": ".png"
           },
           "id": 13065,
           "name": "Restaurant"
          }
         ],
         "geocodes": {
          "main": {
           "latitude": 43.668463,
           "longitude": -79.307658
          },
          "roof": {
           "latitude": 43.668463,
           "longitude": -79.307658
          }
         },
         "name": "Zane Patisserie Boulangerie",
         "popularity": 0.9104283913797622,
         "price": 1,
         "rating": 7.2
        },
        {
         "categories": [
          {
           "icon": {
            "prefix": "https://ss3.4sqi.net/img/categories_v2/food/fastfood_",
            "suffix": ".png"
           },
           "id": 13145,
           "name": "Fast Food Restaurant"
          }
         ],
         "geocodes": {
          "main": {
           "latitude": 43.666527,
           "longitude": -79.315069
          },
          "roof": {
           "latitude": 43.666527,
           "longitude": -79.315069
          }
         },
         "name": "Harvey's",
         "popularity": 0.9693088086651609,
         "price": 2,
         "rating": 6.6
        },
        {
         "categories": [
          {
           "icon": {
            "prefix": "https://ss3.4sqi.net/img/categories_v2/food/diner_",
            "suffix": ".png"
           },
           "id": 13049,
           "name": "Diner"
          },
          {
           "icon": {
            "prefix": "https://ss3.4sqi.net/img/categories_v2/food/default_",
            "suffix": ".png"
           },
           "id": 13068,
           "name": "American Restaurant"
          }
         ],
         "geocodes": {
          "main": {
           "latitude": 43.673257,
           "longitude": -79.318282
          },
          "roof": {
           "latitude": 43.673257,
           "longitude": -79.318282
          }
         },
         "name": "Occasions Restaurant",
         "popularity": 0.9680796635761258,
         "price": 2,
         "rating": 7.1
        },
        {
         "categories": [
          {
           "icon": {
            "prefix": "https://ss3.4sqi.net/img/categories_v2/food/burger_",
            "suffix": ".png"
           },
           "id": 13031,
           "name": "Burger Joint"
          },
          {
           "icon": {
            "prefix": "https://ss3.4sqi.net/img/categories_v2/food/cafe_",
            "suffix": ".png"
           },
           "id": 13034,
           "name": "Café"
          },
          {
           "icon": {
            "prefix": "https://ss3.4sqi.net/img/categories_v2/food/default_",
            "suffix": ".png"
           },
           "id": 13068,
           "name": "American Restaurant"
          }
         ],
         "geocodes": {
          "main": {
           "latitude": 43.672661,
           "longitude": -79.319544
          },
          "roof": {
           "latitude": 43.672661,
           "longitude": -79.319544
          }
         },
         "name": "Lazy Daisy's Cafe",
         "popularity": 0.9292773625166901,
         "price": 1,
         "rating": 6.9
        },
        {
         "categories": [
          {
           "icon": {
            "prefix": "https://ss3.4sqi.net/img/categories_v2/food/bakery_",
            "suffix": ".png"
           },
           "id": 13002,
           "name": "Bakery"
          },
          {
           "icon": {
            "prefix": "https://ss3.4sqi.net/img/categories_v2/food/default_",
            "suffix": ".png"
           },
           "id": 13065,
           "name": "Restaurant"
          }
         ],
         "geocodes": {
          "main": {
           "latitude": 43.663838,
           "longitude": -79.328252
          },
          "roof": {
           "latitude": 43.663838,
           "longitude": -79.328252
          }
         },
         "name": "Sweet Bliss Baking Co",
         "popularity": 0.9632067584261952,
         "price": 1,
         "rating": 6.6
        },
        {
         "categories": [
          {
           "icon": {
            "prefix": "https://ss3.4sqi.net/img/categories_v2/food/caribbean_",
            "suffix": ".png"
           },
           "id": 13097,
           "name": "Caribbean Restaurant"
          }
         ],
         "geocodes": {
          "main": {
           "latitude": 43.66621,
           "longitude": -79.317918
          },
          "roof": {
           "latitude": 43.66621,
           "longitude": -79.317918
          }
         },
         "name": "Jaclyn's",
         "popularity": 0.9273743713889964,
         "price": 2
        },
        {
         "categories": [
          {
           "icon": {
            "prefix": "https://ss3.4sqi.net/img/categories_v2/food/fastfood_",
            "suffix": ".png"
           },
           "id": 13145,
           "name": "Fast Food Restaurant"
          }
         ],
         "geocodes": {
          "main": {
           "latitude": 43.664593,
           "longitude": -79.325565
          },
          "roof": {
           "latitude": 43.664593,
           "longitude": -79.325565
          }
         },
         "name": "KFC",
         "popularity": 0.9128617242971412,
         "price": 1,
         "rating": 5.6
        },
        {
         "categories": [
          {
           "icon": {
            "prefix": "https://ss3.4sqi.net/img/categories_v2/food/burger_",
            "suffix": ".png"
           },
           "id": 13031,
           "name": "Burger Joint"
          },
          {
           "icon": {
            "prefix": "https://ss3.4sqi.net/img/categories_v2/food/fastfood_",
            "suffix": ".png"
           },
           "id": 13145,
           "name": "Fast Food Restaurant"
          }
         ],
         "geocodes": {
          "main": {
           "latitude": 43.664993,
           "longitude": -79.319222
          },
          "roof": {
           "latitude": 43.664993,
           "longitude": -79.319222
          }
         },
         "name": "McDonald's",
         "popularity": 0.9958633340404557,
         "price": 1,
         "rating": 5.4
        },
        {
         "categories": [
          {
           "icon": {
            "prefix": "https://ss3.4sqi.net/img/categories_v2/food/default_",
            "suffix": ".png"
           },
           "id": 13065,
           "name": "Restaurant"
          }
         ],
         "geocodes": {
          "main": {
           "latitude": 43.668548,
           "longitude": -79.307251
          },
          "roof": {
           "latitude": 43.668548,
           "longitude": -79.307251
          }
         },
         "name": "Sauvignon Bistro & Bakery Inc",
         "popularity": 0.9267816364475835,
         "price": 4,
         "rating": 5.9
        },
        {
         "categories": [
          {
           "icon": {
            "prefix": "https://ss3.4sqi.net/img/categories_v2/food/japanese_",
            "suffix": ".png"
           },
           "id": 13263,
           "name": "Japanese Restaurant"
          }
         ],
         "geocodes": {
          "main": {
           "latitude": 43.664751,
           "longitude": -79.324182
          }
         },
         "name": "Maru Japanese Bistro",
         "popularity": 0.9609169297577898,
         "price": 2
        },
        {
         "categories": [
          {
           "icon": {
            "prefix": "https://ss3.4sqi.net/img/categories_v2/food/pizza_",
            "suffix": ".png"
           },
           "id": 13064,
           "name": "Pizzeria"
          }
         ],
         "geocodes": {
          "main": {
           "latitude": 43.669008,
           "longitude": -79.311883
          }
         },
         "name": "Maestro Omar's Gourmet Pizza",
         "popularity": 0.9471654791170121,
         "price": 1
        },
        {
         "categories": [
          {
           "icon": {
            "prefix": "https://ss3.4sqi.net/img/categories_v2/food/deli_",
            "suffix": ".png"
           },
           "id": 13334,
           "name": "Sandwich Restaurant"
          }
         ],
         "geocodes": {
          "main": {
           "latitude": 43.664574,
           "longitude": -79.325048
          },
          "roof": {
           "latitude": 43.664574,
           "longitude": -79.325048
          }
         },
         "name": "Mira Mira",
         "popularity": 0.9279795849607547,
         "price": 1
        },
        {
         "categories": [
          {
           "icon": {
            "prefix": "https://ss3.4sqi.net/img/categories_v2/food/asian_",
            "suffix": ".png"
           },
           "id": 13099,
           "name": "Chinese Restaurant"
          },
          {
           "icon": {
            "prefix": "https://ss3.4sqi.net/img/categories_v2/food/dumplings_",
            "suffix": ".png"
           },
           "id": 13137,
           "name": "Dumpling Restaurant"
          }
         ],
         "geocodes": {
          "main": {
           "latitude": 43.66457,
           "longitude": -79.325259
          }
         },
         "name": "My Little Dumplings",
         "popularity": 0.22251269700637658,
         "price": 1
        },
        {
         "categories": [
          {
           "icon": {
            "prefix": "https://ss3.4sqi.net/img/categories_v2/nightlife/default_",
            "suffix": ".png"
           },
           "id": 13016,
           "name": "Lounge"
          },
          {
           "icon": {
            "prefix": "https://ss3.4sqi.net/img/categories_v2/food/greek_",
            "suffix": ".png"
           },
           "id": 13177,
           "name": "Greek Restaurant"
          }
         ],
         "geocodes": {
          "main": {
           "latitude": 43.662621,
           "longitude": -79.310058
          },
          "roof": {
           "latitude": 43.662621,
           "longitude": -79.310058
          }
         },
         "name": "TRINITY Modern Greek Taverna Bar & Lounge",
         "popularity": 0.8319440458215306,
         "price": 3
        },
        {
         "categories": [
          {
           "icon": {
            "prefix": "https://ss3.4sqi.net/img/categories_v2/food/italian_",
            "suffix": ".png"
           },
           "id": 13236,
           "name": "Italian Restaurant"
          }
         ],
         "geocodes": {
          "main": {
           "latitude": 43.672589,
           "longitude": -79.319766
          },
          "roof": {
           "latitude": 43.672589,
           "longitude": -79.319766
          }
         },
         "name": "Pizzeria Via Mercanti",
         "popularity": 0.4419306936870609,
         "price": 2
        },
        {
         "categories": [
          {
           "icon": {
            "prefix": "https://ss3.4sqi.net/img/categories_v2/food/sushi_",
            "suffix": ".png"
           },
           "id": 13276,
           "name": "Sushi Restaurant"
          }
         ],
         "geocodes": {
          "main": {
           "latitude": 43.672306,
           "longitude": -79.321358
          },
          "roof": {
           "latitude": 43.672306,
           "longitude": -79.321358
          }
         },
         "name": "Toto Sushi",
         "popularity": 0.9586021438286934,
         "price": 2
        },
        {
         "categories": [
          {
           "icon": {
            "prefix": "https://ss3.4sqi.net/img/categories_v2/food/seafood_",
            "suffix": ".png"
           },
           "id": 13338,
           "name": "Seafood Restaurant"
          }
         ],
         "geocodes": {
          "main": {
           "latitude": 43.662636,
           "longitude": -79.309969
          }
         },
         "name": "Toronto Beach Club",
         "popularity": 0.9705129964935049,
         "price": 3
        },
        {
         "categories": [
          {
           "icon": {
            "prefix": "https://ss3.4sqi.net/img/categories_v2/food/tibetan_",
            "suffix": ".png"
           },
           "id": 13355,
           "name": "Tibetan Restaurant"
          }
         ],
         "geocodes": {
          "main": {
           "latitude": 43.671892,
           "longitude": -79.323211
          },
          "roof": {
           "latitude": 43.671892,
           "longitude": -79.323211
          }
         },
         "name": "Karma's Kitchen",
         "popularity": 0.9409448818897638
        },
        {
         "categories": [
          {
           "icon": {
            "prefix": "https://ss3.4sqi.net/img/categories_v2/food/friedchicken_",
            "suffix": ".png"
           },
           "id": 13055,
           "name": "Fried Chicken Joint"
          }
         ],
         "geocodes": {
          "main": {
           "latitude": 43.673164,
           "longitude": -79.319576
          },
          "roof": {
           "latitude": 43.673164,
           "longitude": -79.319576
          }
         },
         "name": "Country Thai Food & Fried Chicken",
         "popularity": 0.9298513795125847,
         "price": 1
        },
        {
         "categories": [
          {
           "icon": {
            "prefix": "https://ss3.4sqi.net/img/categories_v2/food/diner_",
            "suffix": ".png"
           },
           "id": 13049,
           "name": "Diner"
          },
          {
           "icon": {
            "prefix": "https://ss3.4sqi.net/img/categories_v2/food/indian_",
            "suffix": ".png"
           },
           "id": 13199,
           "name": "Indian Restaurant"
          }
         ],
         "geocodes": {
          "main": {
           "latitude": 43.671741,
           "longitude": -79.323748
          },
          "roof": {
           "latitude": 43.671741,
           "longitude": -79.323748
          }
         },
         "name": "Baldev Paan & Cold Drink House",
         "popularity": 0.9236370216005091,
         "price": 2
        },
        {
         "categories": [
          {
           "icon": {
            "prefix": "https://ss3.4sqi.net/img/categories_v2/food/indian_",
            "suffix": ".png"
           },
           "id": 13199,
           "name": "Indian Restaurant"
          }
         ],
         "geocodes": {
          "main": {
           "latitude": 43.672076,
           "longitude": -79.322211
          },
          "roof": {
           "latitude": 43.672076,
           "longitude": -79.322211
          }
         },
         "name": "Indian Rasoi",
         "popularity": 0.8650061769220211,
         "price": 2
        },
        {
         "categories": [
          {
           "icon": {
            "prefix": "https://ss3.4sqi.net/img/categories_v2/food/indian_",
            "suffix": ".png"
           },
           "id": 13199,
           "name": "Indian Restaurant"
          }
         ],
         "geocodes": {
          "main": {
           "latitude": 43.671922,
           "longitude": -79.324285
          }
         },
         "name": "Leela Indian Food Bar",
         "popularity": 0.9728589789984651,
         "price": 2
        },
        {
         "categories": [
          {
           "icon": {
            "prefix": "https://ss3.4sqi.net/img/categories_v2/food/indian_",
            "suffix": ".png"
           },
           "id": 13199,
           "name": "Indian Restaurant"
          }
         ],
         "geocodes": {
          "main": {
           "latitude": 43.671792,
           "longitude": -79.324598
          },
          "roof": {
           "latitude": 43.671792,
           "longitude": -79.324598
          }
         },
         "name": "Lahori Taste and Burger House",
         "popularity": 0.9187079626140234,
         "price": 2
        },
        {
         "categories": [
          {
           "icon": {
            "prefix": "https://ss3.4sqi.net/img/categories_v2/food/dessert_",
            "suffix": ".png"
           },
           "id": 13040,
           "name": "Dessert Shop"
          },
          {
           "icon": {
            "prefix": "https://ss3.4sqi.net/img/categories_v2/food/fastfood_",
            "suffix": ".png"
           },
           "id": 13145,
           "name": "Fast Food Restaurant"
          },
          {
           "icon": {
            "prefix": "https://ss3.4sqi.net/img/categories_v2/food/indian_",
            "suffix": ".png"
           },
           "id": 13199,
           "name": "Indian Restaurant"
          }
         ],
         "geocodes": {
          "main": {
           "latitude": 43.671693,
           "longitude": -79.32519
          },
          "roof": {
           "latitude": 43.671693,
           "longitude": -79.32519
          }
         },
         "name": "Taste of Tandooree",
         "popularity": 0.5281705080050414,
         "price": 1
        },
        {
         "categories": [
          {
           "icon": {
            "prefix": "https://ss3.4sqi.net/img/categories_v2/food/diner_",
            "suffix": ".png"
           },
           "id": 13049,
           "name": "Diner"
          },
          {
           "icon": {
            "prefix": "https://ss3.4sqi.net/img/categories_v2/food/afghan_",
            "suffix": ".png"
           },
           "id": 13066,
           "name": "Afghan Restaurant"
          }
         ],
         "geocodes": {
          "main": {
           "latitude": 43.671542,
           "longitude": -79.325728
          },
          "roof": {
           "latitude": 43.671542,
           "longitude": -79.325728
          }
         },
         "name": "Kabul Kabab House",
         "popularity": 0.8462320775671662,
         "price": 2
        },
        {
         "categories": [
          {
           "icon": {
            "prefix": "https://ss3.4sqi.net/img/categories_v2/food/coffeeshop_",
            "suffix": ".png"
           },
           "id": 13035,
           "name": "Coffee Shop"
          },
          {
           "icon": {
            "prefix": "https://ss3.4sqi.net/img/categories_v2/food/vegetarian_",
            "suffix": ".png"
           },
           "id": 13377,
           "name": "Vegan and Vegetarian Restaurant"
          }
         ],
         "geocodes": {
          "main": {
           "latitude": 43.671666,
           "longitude": -79.32556
          },
          "roof": {
           "latitude": 43.671666,
           "longitude": -79.32556
          }
         },
         "name": "The Social Gardener",
         "popularity": 0.930431635823652,
         "price": 2
        },
        {
         "categories": [
          {
           "icon": {
            "prefix": "https://ss3.4sqi.net/img/categories_v2/nightlife/divebar_",
            "suffix": ".png"
           },
           "id": 13010,
           "name": "Dive Bar"
          }
         ],
         "geocodes": {
          "main": {
           "latitude": 43.663504,
           "longitude": -79.328056
          }
         },
         "name": "Betty's East",
         "popularity": 0.930138388010532,
         "price": 1
        },
        {
         "categories": [
          {
           "icon": {
            "prefix": "https://ss3.4sqi.net/img/categories_v2/food/french_",
            "suffix": ".png"
           },
           "id": 13148,
           "name": "French Restaurant"
          }
         ],
         "geocodes": {
          "main": {
           "latitude": 43.663825,
           "longitude": -79.328437
          },
          "roof": {
           "latitude": 43.663825,
           "longitude": -79.328437
          }
         },
         "name": "Jules Bistro",
         "popularity": 0.8999775384653781,
         "price": 3
        },
        {
         "categories": [
          {
           "icon": {
            "prefix": "https://ss3.4sqi.net/img/categories_v2/food/default_",
            "suffix": ".png"
           },
           "id": 13027,
           "name": "Bistro"
          },
          {
           "icon": {
            "prefix": "https://ss3.4sqi.net/img/categories_v2/food/cafe_",
            "suffix": ".png"
           },
           "id": 13034,
           "name": "Café"
          },
          {
           "icon": {
            "prefix": "https://ss3.4sqi.net/img/categories_v2/food/french_",
            "suffix": ".png"
           },
           "id": 13148,
           "name": "French Restaurant"
          }
         ],
         "geocodes": {
          "main": {
           "latitude": 43.671266,
           "longitude": -79.327227
          },
          "roof": {
           "latitude": 43.671266,
           "longitude": -79.327227
          }
         },
         "name": "Le Conciliabule",
         "popularity": 0.9662827408063691,
         "price": 1
        },
        {
         "categories": [
          {
           "icon": {
            "prefix": "https://ss3.4sqi.net/img/categories_v2/food/deli_",
            "suffix": ".png"
           },
           "id": 13039,
           "name": "Deli"
          },
          {
           "icon": {
            "prefix": "https://ss3.4sqi.net/img/categories_v2/food/vegetarian_",
            "suffix": ".png"
           },
           "id": 13377,
           "name": "Vegan and Vegetarian Restaurant"
          }
         ],
         "geocodes": {
          "main": {
           "latitude": 43.670684,
           "longitude": -79.327509
          },
          "roof": {
           "latitude": 43.670684,
           "longitude": -79.327509
          }
         },
         "name": "Jinglepear Deli",
         "popularity": 0.8980121541859566,
         "price": 1
        },
        {
         "categories": [
          {
           "icon": {
            "prefix": "https://ss3.4sqi.net/img/categories_v2/food/default_",
            "suffix": ".png"
           },
           "id": 13065,
           "name": "Restaurant"
          }
         ],
         "geocodes": {
          "main": {
           "latitude": 43.663516,
           "longitude": -79.310105
          }
         },
         "name": "Tuggs Inc"
        },
        {
         "categories": [
          {
           "icon": {
            "prefix": "https://ss3.4sqi.net/img/categories_v2/food/default_",
            "suffix": ".png"
           },
           "id": 13065,
           "name": "Restaurant"
          }
         ],
         "geocodes": {
          "main": {
           "latitude": 43.671813,
           "longitude": -79.323525
          },
          "roof": {
           "latitude": 43.671813,
           "longitude": -79.323525
          }
         },
         "name": "Dilbag Singh"
        },
        {
         "categories": [
          {
           "icon": {
            "prefix": "https://ss3.4sqi.net/img/categories_v2/food/diner_",
            "suffix": ".png"
           },
           "id": 13049,
           "name": "Diner"
          },
          {
           "icon": {
            "prefix": "https://ss3.4sqi.net/img/categories_v2/food/asian_",
            "suffix": ".png"
           },
           "id": 13099,
           "name": "Chinese Restaurant"
          },
          {
           "icon": {
            "prefix": "https://ss3.4sqi.net/img/categories_v2/food/default_",
            "suffix": ".png"
           },
           "id": 13316,
           "name": "Pakistani Restaurant"
          }
         ],
         "geocodes": {
          "main": {
           "latitude": 43.671857,
           "longitude": -79.324468
          },
          "roof": {
           "latitude": 43.671857,
           "longitude": -79.324468
          }
         },
         "name": "Lahore Chaat & Paan House"
        },
        {
         "categories": [
          {
           "icon": {
            "prefix": "https://ss3.4sqi.net/img/categories_v2/food/default_",
            "suffix": ".png"
           },
           "id": 13065,
           "name": "Restaurant"
          }
         ],
         "geocodes": {
          "main": {
           "latitude": 43.66649,
           "longitude": -79.328063
          },
          "roof": {
           "latitude": 43.66649,
           "longitude": -79.328063
          }
         },
         "name": "Yogen Fruz & Chester Chicken"
        }
       ]
      },
      "text/plain": [
       "<IPython.core.display.JSON object>"
      ]
     },
     "execution_count": 6,
     "metadata": {
      "application/json": {
       "expanded": false,
       "root": "root"
      }
     },
     "output_type": "execute_result"
    }
   ],
   "source": [
    "JSON(station(ll[2]).json())"
   ]
  },
  {
   "cell_type": "markdown",
   "metadata": {},
   "source": [
    "### Parse through the response to get the POI (such as restaurants, bars, etc) details you want (ratings, name, location, etc)"
   ]
  },
  {
   "cell_type": "code",
   "execution_count": 7,
   "metadata": {},
   "outputs": [],
   "source": [
    "def POI_fs(request):\n",
    "    '''\n",
    "    request: HTTP Code <200>\n",
    "    Take in a HTTP code and convert it to JSON.\n",
    "    Return: List\n",
    "    '''\n",
    "    request_in_json = request.json()\n",
    "    results = request_in_json['results']\n",
    "    list_of_results = []\n",
    "    for result in results:\n",
    "        new_dict = {}\n",
    "        new_dict['name'] = result.get('name', None)\n",
    "        new_dict['popularity'] = result.get('popularity', None)\n",
    "        new_dict['price'] = result.get('price', None)\n",
    "        new_dict['rating'] = result.get('rating', None)\n",
    "        new_dict['categories_name'] = result.get('categories', None)[0].get('name', None)\n",
    "        new_dict['latitude'] = result.get('geocodes', None).get('main', None).get('latitude', None)\n",
    "        new_dict['longtitude'] = result.get('geocodes', None).get('main', None).get('longitude', None)\n",
    "        list_of_results.append(new_dict)\n",
    "    return list_of_results"
   ]
  },
  {
   "cell_type": "markdown",
   "metadata": {},
   "source": [
    "### Put your parsed results into a DataFrame"
   ]
  },
  {
   "cell_type": "code",
   "execution_count": 8,
   "metadata": {},
   "outputs": [],
   "source": [
    "def data_frame(listOfResults):\n",
    "    '''\n",
    "    listOfResults: list -> DataFrame\n",
    "    '''\n",
    "    return pd.DataFrame(listOfResults)"
   ]
  },
  {
   "cell_type": "markdown",
   "metadata": {},
   "source": [
    "# Yelp"
   ]
  },
  {
   "cell_type": "markdown",
   "metadata": {},
   "source": [
    "### Send a request to Yelp with a small radius (1000m) for all the bike stations in your city of choice. "
   ]
  },
  {
   "cell_type": "code",
   "execution_count": 9,
   "metadata": {},
   "outputs": [],
   "source": [
    "def yelp_station(ll_value):\n",
    "    '''\n",
    "    ll_value: str\n",
    "    return: HTTPCode\n",
    "    Take a string that looks like \"latitude,longitude\"\n",
    "    '''\n",
    "    headers_yelp = {}\n",
    "    headers_yelp[\"Authorization\"] = \"Bearer \" + os.environ.get('YELP_API_KEY')\n",
    "    url = \"https://api.yelp.com/v3/businesses/search\"\n",
    "    parameters = {'latitude' : ll_value.split(\",\")[0],\n",
    "                  'longitude' : ll_value.split(\",\")[1],\n",
    "                  'radius': 1000,\n",
    "                  'categories' : \"bars,restaurants\",\n",
    "                  'limit': 50\n",
    "                 }\n",
    "    yelp_networks = requests.get(url, headers=headers_yelp, params=parameters)\n",
    "    return yelp_networks"
   ]
  },
  {
   "cell_type": "code",
   "execution_count": 10,
   "metadata": {},
   "outputs": [
    {
     "ename": "NameError",
     "evalue": "name 'test' is not defined",
     "output_type": "error",
     "traceback": [
      "\u001b[1;31m---------------------------------------------------------------------------\u001b[0m",
      "\u001b[1;31mNameError\u001b[0m                                 Traceback (most recent call last)",
      "Input \u001b[1;32mIn [10]\u001b[0m, in \u001b[0;36m<cell line: 1>\u001b[1;34m()\u001b[0m\n\u001b[1;32m----> 1\u001b[0m JSON(\u001b[43mtest\u001b[49m\u001b[38;5;241m.\u001b[39mjson())\n",
      "\u001b[1;31mNameError\u001b[0m: name 'test' is not defined"
     ]
    }
   ],
   "source": [
    "JSON(test.json())"
   ]
  },
  {
   "cell_type": "markdown",
   "metadata": {},
   "source": [
    "### Parse through the response to get the POI (such as restaurants, bars, etc) details you want (ratings, name, location, etc)"
   ]
  },
  {
   "cell_type": "code",
   "execution_count": null,
   "metadata": {},
   "outputs": [],
   "source": [
    "def POI_yelp(request):\n",
    "    '''\n",
    "    request: HTTP Code <200>\n",
    "    Take in a HTTP code and convert it to JSON.\n",
    "    Return: List\n",
    "    '''\n",
    "    request_in_json = request.json()\n",
    "    businesses = request_in_json['businesses']\n",
    "    list_of_businesses = []\n",
    "    for business in businesses:\n",
    "        new_dict = {}\n",
    "        new_dict['name'] = business.get('name', None)\n",
    "        new_dict['price'] = business.get('price', None)\n",
    "        new_dict['rating'] = business.get('rating', None)\n",
    "        new_dict['latitude'] = business.get('coordinates', None).get('latitude', None)\n",
    "        new_dict['longtitude'] = business.get('coordinates', None).get('longitude', None)\n",
    "        list_of_businesses.append(new_dict)\n",
    "    return list_of_businesses"
   ]
  },
  {
   "cell_type": "markdown",
   "metadata": {},
   "source": [
    "Put your parsed results into a DataFrame"
   ]
  },
  {
   "cell_type": "markdown",
   "metadata": {},
   "source": []
  },
  {
   "cell_type": "markdown",
   "metadata": {},
   "source": [
    "# Create a Dataframe"
   ]
  },
  {
   "cell_type": "code",
   "execution_count": null,
   "metadata": {},
   "outputs": [],
   "source": [
    "def df_yelp(poi_yelp):\n",
    "    return pd.DataFrame(POI_yelp(test))"
   ]
  },
  {
   "cell_type": "markdown",
   "metadata": {},
   "source": [
    "# Comparing Results"
   ]
  },
  {
   "cell_type": "markdown",
   "metadata": {},
   "source": [
    "Which API provided you with more complete data? Provide an explanation. "
   ]
  },
  {
   "cell_type": "markdown",
   "metadata": {},
   "source": [
    "I think foursquare worked better for me, it had more data to choose from. I have also tried a different latitude and longitude from Greece prior to this observation in Toronto. While foursquare gave me a lot of data, there was no data at all from yelp. latitude:38.0855680022\n",
    "longitude:23.9776389963"
   ]
  },
  {
   "cell_type": "markdown",
   "metadata": {},
   "source": []
  },
  {
   "cell_type": "markdown",
   "metadata": {},
   "source": [
    "Get the top 10 restaurants according to their rating"
   ]
  },
  {
   "cell_type": "code",
   "execution_count": null,
   "metadata": {},
   "outputs": [],
   "source": [
    "def mainfunction_foursq(llvalue):\n",
    "    request_code = station(llvalue)\n",
    "    point = POI_fs(request_code)\n",
    "    return data_frame(point)\n",
    "\n",
    "print(mainfunction_foursq(\"43.665269,-79.319796\").sort_values(by='rating', ascending=False).head(10))"
   ]
  },
  {
   "cell_type": "code",
   "execution_count": null,
   "metadata": {},
   "outputs": [],
   "source": [
    "def mainfunction_yelp(llvalue):\n",
    "    request_code = yelp_station(llvalue)\n",
    "    point = POI_yelp(request_code)\n",
    "    return df_yelp(point)\n",
    "\n",
    "print(mainfunction_yelp(\"43.665269,-79.319796\").sort_values(by='rating', ascending=False).head(10))"
   ]
  },
  {
   "cell_type": "markdown",
   "metadata": {},
   "source": [
    "### Joining data from Part 1 to 2 and loading it into a csv."
   ]
  },
  {
   "cell_type": "code",
   "execution_count": null,
   "metadata": {},
   "outputs": [],
   "source": [
    "list_of_df = []\n",
    "for indx in range(len(ll)):\n",
    "    list_of_df.append(mainfunction_foursq(ll[indx]))\n",
    "\n",
    "newdfs = pd.concat(list_of_df)\n",
    "newdfs.to_csv('fsrestaurant_info.csv')"
   ]
  },
  {
   "cell_type": "code",
   "execution_count": null,
   "metadata": {},
   "outputs": [],
   "source": [
    "list_of_df_yelp = []\n",
    "for indx in range(len(ll)):\n",
    "    list_of_df_yelp.append(mainfunction_yelp(ll[indx]))\n",
    "\n",
    "newdfs_yelp = pd.concat(list_of_df_yelp)\n",
    "newdfs_yelp.to_csv('yelprestaurant_info.csv')"
   ]
  },
  {
   "cell_type": "code",
   "execution_count": null,
   "metadata": {},
   "outputs": [],
   "source": []
  }
 ],
 "metadata": {
  "kernelspec": {
   "display_name": "Python 3 (ipykernel)",
   "language": "python",
   "name": "python3"
  },
  "language_info": {
   "codemirror_mode": {
    "name": "ipython",
    "version": 3
   },
   "file_extension": ".py",
   "mimetype": "text/x-python",
   "name": "python",
   "nbconvert_exporter": "python",
   "pygments_lexer": "ipython3",
   "version": "3.9.12"
  }
 },
 "nbformat": 4,
 "nbformat_minor": 4
}
