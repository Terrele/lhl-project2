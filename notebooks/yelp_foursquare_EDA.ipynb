{
 "cells": [
  {
   "cell_type": "code",
   "execution_count": 1,
   "metadata": {},
   "outputs": [],
   "source": [
    "# imports"
   ]
  },
  {
   "cell_type": "code",
   "execution_count": 2,
   "metadata": {},
   "outputs": [],
   "source": [
    "import requests\n",
    "from IPython.display import JSON"
   ]
  },
  {
   "cell_type": "code",
   "execution_count": 3,
   "metadata": {},
   "outputs": [],
   "source": [
    "import pandas as pd\n",
    "import os"
   ]
  },
  {
   "cell_type": "markdown",
   "metadata": {},
   "source": [
    "# Foursquare"
   ]
  },
  {
   "cell_type": "markdown",
   "metadata": {},
   "source": [
    "### Send a request to Foursquare with a small radius (1000m) for all the bike stations in your city of choice. "
   ]
  },
  {
   "cell_type": "code",
   "execution_count": 4,
   "metadata": {},
   "outputs": [
    {
     "name": "stdout",
     "output_type": "stream",
     "text": [
      "43.665269,-79.319796\n"
     ]
    }
   ],
   "source": [
    "#For the first 100 bike stations in the city of your choice, get the latitude and longitude.\n",
    "#Show example of what the first index of ll: list contains.\n",
    "df = pd.read_csv(\"bike_info.csv\")\n",
    "rows100 = 100\n",
    "ll = []\n",
    "for i in range(rows100):\n",
    "    ll.append((f\"{str(df['latitude'][i])},{str(df['longitude'][i])}\"))\n",
    "print(ll[0])"
   ]
  },
  {
   "cell_type": "code",
   "execution_count": 5,
   "metadata": {},
   "outputs": [],
   "source": [
    "def station(llvalue):\n",
    "    '''\n",
    "    llvalue: str\n",
    "    return: HTTPCode\n",
    "    Take a string that looks like \"latitude,longitude\"\n",
    "    '''\n",
    "    headers = {\"Accept\": \"application/json\"}\n",
    "    headers[\"Authorization\"] = os.environ.get('FOURSQUARE_API_KEY')\n",
    "    fields = 'name,rating,categories,price,popularity,geocodes,distance,features'\n",
    "    url = (f'https://api.foursquare.com/v3/places/search')\n",
    "    parameters = {'ll' : llvalue,\n",
    "                  'fields' : fields,\n",
    "                  'radius' : 1000,\n",
    "                  'categories' : '13065,13003',\n",
    "                  'limit' : '50'\n",
    "                 }\n",
    "    four_square_networks = requests.get(url, headers=headers, params=parameters)\n",
    "    return four_square_networks"
   ]
  },
  {
   "cell_type": "markdown",
   "metadata": {},
   "source": [
    "### Parse through the response to get the POI (such as restaurants, bars, etc) details you want (ratings, name, location, etc)"
   ]
  },
  {
   "cell_type": "code",
   "execution_count": 6,
   "metadata": {},
   "outputs": [],
   "source": [
    "def POI_fs(request):\n",
    "    '''\n",
    "    request: HTTP Code <200>\n",
    "    Take in a HTTP code and convert it to JSON.\n",
    "    Return: List\n",
    "    '''\n",
    "    request_in_json = request.json()\n",
    "    results = request_in_json['results']\n",
    "    list_of_results = []\n",
    "    for result in results:\n",
    "        new_dict = {}\n",
    "        new_dict['name'] = result.get('name', None)\n",
    "        new_dict['popularity'] = result.get('popularity', None)\n",
    "        new_dict['price'] = result.get('price', None)\n",
    "        new_dict['rating'] = result.get('rating', None)\n",
    "        new_dict['categories_name'] = result.get('categories', {})[0].get('name', None)\n",
    "        new_dict['latitude'] = result.get('geocodes', {}).get('main', {}).get('latitude', None)\n",
    "        new_dict['longitude'] = result.get('geocodes', {}).get('main', {}).get('longitude', None)\n",
    "        new_dict['distance'] = result.get('distance', None)\n",
    "        new_dict['credit_card'] = result.get('features', {}).get('payment', {}).get('credit_cards', {}).get('accepts_credit_cards', None)\n",
    "        new_dict['beer'] = result.get('features', {}).get('food_and_drink', {}).get('alcohol', {}).get('beer', None)\n",
    "        new_dict['outdoor_seating'] = result.get('features', {}).get('amenities', {}).get('outdoor_seating', None)\n",
    "        \n",
    "        list_of_results.append(new_dict)\n",
    "    return list_of_results"
   ]
  },
  {
   "cell_type": "markdown",
   "metadata": {},
   "source": [
    "### Put your parsed results into a DataFrame"
   ]
  },
  {
   "cell_type": "code",
   "execution_count": 7,
   "metadata": {},
   "outputs": [],
   "source": [
    "def data_frame(listOfResults):\n",
    "    '''\n",
    "    listOfResults: list -> DataFrame\n",
    "    '''\n",
    "    return pd.DataFrame(listOfResults)"
   ]
  },
  {
   "cell_type": "markdown",
   "metadata": {},
   "source": [
    "# Yelp"
   ]
  },
  {
   "cell_type": "markdown",
   "metadata": {},
   "source": [
    "### Send a request to Yelp with a small radius (1000m) for all the bike stations in your city of choice. "
   ]
  },
  {
   "cell_type": "code",
   "execution_count": 8,
   "metadata": {},
   "outputs": [],
   "source": [
    "def yelp_station(ll_value):\n",
    "    '''\n",
    "    ll_value: str\n",
    "    return: HTTPCode\n",
    "    Take a string that looks like \"latitude,longitude\"\n",
    "    '''\n",
    "    headers_yelp = {}\n",
    "    headers_yelp[\"Authorization\"] = \"Bearer \" + os.environ.get('YELP_API_KEY')\n",
    "    url = \"https://api.yelp.com/v3/businesses/search\"\n",
    "    parameters = {'latitude' : ll_value.split(\",\")[0],\n",
    "                  'longitude' : ll_value.split(\",\")[1],\n",
    "                  'radius': 1000,\n",
    "                  'categories' : \"bars,restaurants\",\n",
    "                  'limit': 50,\n",
    "                 }\n",
    "    yelp_networks = requests.get(url, headers=headers_yelp, params=parameters)\n",
    "    return yelp_networks"
   ]
  },
  {
   "cell_type": "markdown",
   "metadata": {},
   "source": [
    "### Parse through the response to get the POI (such as restaurants, bars, etc) details you want (ratings, name, location, etc)"
   ]
  },
  {
   "cell_type": "code",
   "execution_count": 9,
   "metadata": {},
   "outputs": [],
   "source": [
    "def POI_yelp(request):\n",
    "    '''\n",
    "    request: HTTP Code <200>\n",
    "    Take in a HTTP code and convert it to JSON.\n",
    "    Return: List\n",
    "    '''\n",
    "    request_in_json = request.json()\n",
    "    businesses = request_in_json['businesses']\n",
    "    list_of_businesses = []\n",
    "    for business in businesses:\n",
    "        new_dict = {}\n",
    "        new_dict['name'] = business.get('name', None)\n",
    "        new_dict['price'] = business.get('price', None)\n",
    "        new_dict['rating'] = business.get('rating', None)\n",
    "        new_dict['latitude'] = business.get('coordinates', None).get('latitude', None)\n",
    "        new_dict['longtitude'] = business.get('coordinates', None).get('longitude', None)\n",
    "        new_dict['review_count'] = business.get('review_count', None)\n",
    "        new_dict['distance'] = business.get('distance', None)\n",
    "        list_of_businesses.append(new_dict)\n",
    "    return list_of_businesses"
   ]
  },
  {
   "cell_type": "markdown",
   "metadata": {},
   "source": [
    "Put your parsed results into a DataFrame"
   ]
  },
  {
   "cell_type": "markdown",
   "metadata": {},
   "source": []
  },
  {
   "cell_type": "markdown",
   "metadata": {},
   "source": [
    "# Create a Dataframe"
   ]
  },
  {
   "cell_type": "code",
   "execution_count": 10,
   "metadata": {},
   "outputs": [],
   "source": [
    "def df_yelp(poi_yelp):\n",
    "    return pd.DataFrame(poi_yelp)"
   ]
  },
  {
   "cell_type": "markdown",
   "metadata": {},
   "source": [
    "# Comparing Results"
   ]
  },
  {
   "cell_type": "markdown",
   "metadata": {},
   "source": [
    "Which API provided you with more complete data? Provide an explanation. "
   ]
  },
  {
   "cell_type": "markdown",
   "metadata": {},
   "source": [
    "I think foursquare worked better for me, it had more data to choose from. I have also tried a different latitude and longitude from Greece prior to this observation in Toronto. While foursquare gave me a lot of data, there was no data at all from yelp. latitude:38.0855680022\n",
    "longitude:23.9776389963"
   ]
  },
  {
   "cell_type": "markdown",
   "metadata": {},
   "source": []
  },
  {
   "cell_type": "markdown",
   "metadata": {},
   "source": [
    "Get the top 10 restaurants according to their rating"
   ]
  },
  {
   "cell_type": "code",
   "execution_count": 11,
   "metadata": {},
   "outputs": [
    {
     "name": "stdout",
     "output_type": "stream",
     "text": [
      "                            name  popularity  price  rating  \\\n",
      "3              Hasting Snack Bar    0.924879    1.0     9.0   \n",
      "5                      Lake Inez    0.934568    2.0     8.8   \n",
      "1                   The Sidekick    0.928866    NaN     8.8   \n",
      "6                   Udupi Palace    0.919787    1.0     8.6   \n",
      "8   Maha's Fine Egyptian Cuisine    0.949175    NaN     8.6   \n",
      "0              Rorschach Brewing    0.982673    2.0     8.5   \n",
      "7               Godspeed Brewery    0.957766    2.0     8.3   \n",
      "4                    Chino Locos    0.924573    1.0     8.2   \n",
      "2                        O Sushi    0.933508    2.0     7.9   \n",
      "11            Lahore Tikka House    0.988701    2.0     7.9   \n",
      "\n",
      "        categories_name   latitude  longitude  distance credit_card   beer  \\\n",
      "3                Lounge  43.663791 -79.328899       759        True   None   \n",
      "5                   Bar  43.672424 -79.320489       809        True   None   \n",
      "1           Coffee Shop  43.664580 -79.324956       440        None   None   \n",
      "6     Indian Restaurant  43.672659 -79.321134       810        True   None   \n",
      "8   Egyptian Restaurant  43.671682 -79.328462      1001        True  False   \n",
      "0               Brewery  43.663542 -79.319882       194        True   True   \n",
      "7                   Bar  43.672615 -79.319396       804        True   True   \n",
      "4    Chinese Restaurant  43.664540 -79.325510       470        True   None   \n",
      "2              Pizzeria  43.666623 -79.316861       300        None   None   \n",
      "11    Indian Restaurant  43.671504 -79.324693       813        True   None   \n",
      "\n",
      "   outdoor_seating  \n",
      "3             None  \n",
      "5             None  \n",
      "1             None  \n",
      "6            False  \n",
      "8            False  \n",
      "0             True  \n",
      "7             True  \n",
      "4            False  \n",
      "2             None  \n",
      "11            True  \n"
     ]
    }
   ],
   "source": [
    "def mainfunction_foursq(llvalue):\n",
    "    request_code = station(llvalue)\n",
    "    point = POI_fs(request_code)\n",
    "    return data_frame(point)\n",
    "\n",
    "print(mainfunction_foursq(\"43.665269,-79.319796\").sort_values(by='rating', ascending=False).head(10))"
   ]
  },
  {
   "cell_type": "code",
   "execution_count": 12,
   "metadata": {},
   "outputs": [
    {
     "name": "stdout",
     "output_type": "stream",
     "text": [
      "                      name price  rating   latitude  longtitude  review_count  \\\n",
      "47             Mattachioni  None     5.0  43.672640  -79.319730             4   \n",
      "43              Black Pony  None     5.0  43.672410  -79.320400             5   \n",
      "36            KaSpace Cafe  None     5.0  43.662630  -79.331900             9   \n",
      "37   Leela Indian Food Bar  None     4.5  43.671974  -79.324377            12   \n",
      "9             The Sidekick     $     4.5  43.664589  -79.325111            31   \n",
      "23  Eulalie's Corner Store    $$     4.5  43.672539  -79.321732            31   \n",
      "24                Jaclyn's  None     4.5  43.666270  -79.318020            14   \n",
      "13           Tea N Bannock    $$     4.5  43.671182  -79.327356            44   \n",
      "11      Hastings Snack Bar     $     4.5  43.663810  -79.328930            40   \n",
      "20              Toto Sushi  None     4.5  43.672262  -79.321227            27   \n",
      "\n",
      "       distance  \n",
      "47   815.148564  \n",
      "43   805.518073  \n",
      "36  1023.018862  \n",
      "37   829.086102  \n",
      "9    436.003295  \n",
      "23   826.343043  \n",
      "24   172.375134  \n",
      "13   895.556531  \n",
      "11   755.385713  \n",
      "20   786.054002  \n"
     ]
    }
   ],
   "source": [
    "def mainfunction_yelp(llvalue):\n",
    "    request_code = yelp_station(llvalue)\n",
    "    point = POI_yelp(request_code)\n",
    "    return df_yelp(point)\n",
    "\n",
    "print(mainfunction_yelp(\"43.665269,-79.319796\").sort_values(by='rating', ascending=False).head(10))"
   ]
  },
  {
   "cell_type": "markdown",
   "metadata": {},
   "source": [
    "### Joining data from Part 1 to 2 and loading it into a csv."
   ]
  },
  {
   "cell_type": "code",
   "execution_count": 13,
   "metadata": {},
   "outputs": [],
   "source": [
    "list_of_df = []\n",
    "for indx in range(len(ll)):\n",
    "    list_of_df.append(mainfunction_foursq(ll[indx]))\n",
    "\n",
    "newdfs = pd.concat(list_of_df)\n",
    "newdfs.to_csv('fsrestaurant_info.csv')"
   ]
  },
  {
   "cell_type": "code",
   "execution_count": 14,
   "metadata": {},
   "outputs": [],
   "source": [
    "list_of_df_yelp = []\n",
    "for indx in range(len(ll)):\n",
    "    list_of_df_yelp.append(mainfunction_yelp(ll[indx]))\n",
    "\n",
    "newdfs_yelp = pd.concat(list_of_df_yelp)\n",
    "newdfs_yelp.to_csv('yelprestaurant_info.csv')"
   ]
  }
 ],
 "metadata": {
  "kernelspec": {
   "display_name": "Python 3 (ipykernel)",
   "language": "python",
   "name": "python3"
  },
  "language_info": {
   "codemirror_mode": {
    "name": "ipython",
    "version": 3
   },
   "file_extension": ".py",
   "mimetype": "text/x-python",
   "name": "python",
   "nbconvert_exporter": "python",
   "pygments_lexer": "ipython3",
   "version": "3.9.12"
  }
 },
 "nbformat": 4,
 "nbformat_minor": 4
}
